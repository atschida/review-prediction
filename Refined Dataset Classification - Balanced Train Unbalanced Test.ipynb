{
 "cells": [
  {
   "cell_type": "code",
   "execution_count": 133,
   "metadata": {},
   "outputs": [],
   "source": [
    "import pandas as pd\n",
    "from sklearn.ensemble import RandomForestClassifier\n",
    "from sklearn.ensemble import RandomForestRegressor"
   ]
  },
  {
   "cell_type": "code",
   "execution_count": 134,
   "metadata": {},
   "outputs": [
    {
     "data": {
      "text/html": [
       "<div>\n",
       "<style scoped>\n",
       "    .dataframe tbody tr th:only-of-type {\n",
       "        vertical-align: middle;\n",
       "    }\n",
       "\n",
       "    .dataframe tbody tr th {\n",
       "        vertical-align: top;\n",
       "    }\n",
       "\n",
       "    .dataframe thead th {\n",
       "        text-align: right;\n",
       "    }\n",
       "</style>\n",
       "<table border=\"1\" class=\"dataframe\">\n",
       "  <thead>\n",
       "    <tr style=\"text-align: right;\">\n",
       "      <th></th>\n",
       "      <th>customer_id</th>\n",
       "      <th>product_parent</th>\n",
       "      <th>positive</th>\n",
       "      <th>cust_review_count</th>\n",
       "      <th>cust_star_rating_mean</th>\n",
       "      <th>cust_star_rating_std</th>\n",
       "      <th>prod_review_count</th>\n",
       "      <th>prod_star_rating_mean</th>\n",
       "      <th>prod_star_rating_std</th>\n",
       "      <th>pos_sim</th>\n",
       "      <th>neg_sim</th>\n",
       "      <th>avg_pos_word</th>\n",
       "      <th>avg_neg_word</th>\n",
       "    </tr>\n",
       "  </thead>\n",
       "  <tbody>\n",
       "    <tr>\n",
       "      <th>0</th>\n",
       "      <td>1617361</td>\n",
       "      <td>849246716</td>\n",
       "      <td>1</td>\n",
       "      <td>5</td>\n",
       "      <td>5.000000</td>\n",
       "      <td>0.000000</td>\n",
       "      <td>297</td>\n",
       "      <td>4.872054</td>\n",
       "      <td>0.363625</td>\n",
       "      <td>0.033451</td>\n",
       "      <td>0.000000</td>\n",
       "      <td>0.308559</td>\n",
       "      <td>0.000000</td>\n",
       "    </tr>\n",
       "    <tr>\n",
       "      <th>1</th>\n",
       "      <td>53052607</td>\n",
       "      <td>849246716</td>\n",
       "      <td>0</td>\n",
       "      <td>5</td>\n",
       "      <td>3.600000</td>\n",
       "      <td>0.547723</td>\n",
       "      <td>297</td>\n",
       "      <td>4.872054</td>\n",
       "      <td>0.363625</td>\n",
       "      <td>0.012478</td>\n",
       "      <td>0.009009</td>\n",
       "      <td>0.096724</td>\n",
       "      <td>0.169741</td>\n",
       "    </tr>\n",
       "    <tr>\n",
       "      <th>2</th>\n",
       "      <td>15679577</td>\n",
       "      <td>849246716</td>\n",
       "      <td>1</td>\n",
       "      <td>8</td>\n",
       "      <td>3.375000</td>\n",
       "      <td>1.505941</td>\n",
       "      <td>297</td>\n",
       "      <td>4.872054</td>\n",
       "      <td>0.363625</td>\n",
       "      <td>0.007220</td>\n",
       "      <td>0.033333</td>\n",
       "      <td>0.067060</td>\n",
       "      <td>0.093065</td>\n",
       "    </tr>\n",
       "    <tr>\n",
       "      <th>3</th>\n",
       "      <td>16367779</td>\n",
       "      <td>849246716</td>\n",
       "      <td>1</td>\n",
       "      <td>9</td>\n",
       "      <td>4.444444</td>\n",
       "      <td>0.527046</td>\n",
       "      <td>297</td>\n",
       "      <td>4.872054</td>\n",
       "      <td>0.363625</td>\n",
       "      <td>0.095238</td>\n",
       "      <td>0.000000</td>\n",
       "      <td>-0.077627</td>\n",
       "      <td>0.000000</td>\n",
       "    </tr>\n",
       "    <tr>\n",
       "      <th>4</th>\n",
       "      <td>25485198</td>\n",
       "      <td>849246716</td>\n",
       "      <td>1</td>\n",
       "      <td>17</td>\n",
       "      <td>5.000000</td>\n",
       "      <td>0.000000</td>\n",
       "      <td>297</td>\n",
       "      <td>4.872054</td>\n",
       "      <td>0.363625</td>\n",
       "      <td>0.010870</td>\n",
       "      <td>0.000000</td>\n",
       "      <td>0.368011</td>\n",
       "      <td>0.000000</td>\n",
       "    </tr>\n",
       "  </tbody>\n",
       "</table>\n",
       "</div>"
      ],
      "text/plain": [
       "   customer_id  product_parent  positive  cust_review_count  \\\n",
       "0      1617361       849246716         1                  5   \n",
       "1     53052607       849246716         0                  5   \n",
       "2     15679577       849246716         1                  8   \n",
       "3     16367779       849246716         1                  9   \n",
       "4     25485198       849246716         1                 17   \n",
       "\n",
       "   cust_star_rating_mean  cust_star_rating_std  prod_review_count  \\\n",
       "0               5.000000              0.000000                297   \n",
       "1               3.600000              0.547723                297   \n",
       "2               3.375000              1.505941                297   \n",
       "3               4.444444              0.527046                297   \n",
       "4               5.000000              0.000000                297   \n",
       "\n",
       "   prod_star_rating_mean  prod_star_rating_std   pos_sim   neg_sim  \\\n",
       "0               4.872054              0.363625  0.033451  0.000000   \n",
       "1               4.872054              0.363625  0.012478  0.009009   \n",
       "2               4.872054              0.363625  0.007220  0.033333   \n",
       "3               4.872054              0.363625  0.095238  0.000000   \n",
       "4               4.872054              0.363625  0.010870  0.000000   \n",
       "\n",
       "   avg_pos_word  avg_neg_word  \n",
       "0      0.308559      0.000000  \n",
       "1      0.096724      0.169741  \n",
       "2      0.067060      0.093065  \n",
       "3     -0.077627      0.000000  \n",
       "4      0.368011      0.000000  "
      ]
     },
     "execution_count": 134,
     "metadata": {},
     "output_type": "execute_result"
    }
   ],
   "source": [
    "train_df = pd.read_csv('train_df2.csv', index_col=0)\n",
    "train_df.drop(['star_rating', 'pos_corpus', 'neg_corpus', 'pos_1', 'pos_2', 'pos_3', \n",
    "               'neg_1', 'neg_2', 'neg_3', 'prod_corpus', 'word_1', 'word_2', 'word_3'], axis=1, inplace=True)\n",
    "train_df.drop(['cust_total_votes_mean', 'cust_total_votes_std', 'cust_helpful_votes_mean', 'cust_helpful_votes_std', \n",
    "               'prod_total_votes_mean', 'prod_total_votes_std', 'prod_helpful_votes_mean', 'prod_helpful_votes_std'], \n",
    "              axis=1, inplace=True)\n",
    "\n",
    "train_df['avg_pos_word'] = train_df.apply((lambda x: (x.pos_1_word_1 + x.pos_1_word_2 + x.pos_1_word_3 +\n",
    "                                                      x.pos_2_word_1 + x.pos_2_word_2 + x.pos_2_word_3 +\n",
    "                                                      x.pos_3_word_1 + x.pos_3_word_2 + x.pos_3_word_3) / 9), axis=1)\n",
    "train_df['avg_neg_word'] = train_df.apply((lambda x: (x.neg_1_word_1 + x.neg_1_word_2 + x.neg_1_word_3 +\n",
    "                                                      x.neg_2_word_1 + x.neg_2_word_2 + x.neg_2_word_3 +\n",
    "                                                      x.neg_3_word_1 + x.neg_3_word_2 + x.neg_3_word_3) / 9), axis=1)\n",
    "train_df.drop(['pos_1_word_1', 'pos_1_word_2', 'pos_1_word_3', 'pos_2_word_1',\n",
    "               'pos_2_word_2', 'pos_2_word_3', 'pos_3_word_1', 'pos_3_word_2',\n",
    "               'pos_3_word_3', 'neg_1_word_1', 'neg_1_word_2', 'neg_1_word_3',\n",
    "               'neg_2_word_1', 'neg_2_word_2', 'neg_2_word_3', 'neg_3_word_1',\n",
    "               'neg_3_word_2', 'neg_3_word_3'], axis=1, inplace=True)\n",
    "\n",
    "train_df.head()"
   ]
  },
  {
   "cell_type": "code",
   "execution_count": 135,
   "metadata": {},
   "outputs": [
    {
     "data": {
      "text/plain": [
       "Index(['customer_id', 'product_parent', 'positive', 'cust_review_count',\n",
       "       'cust_star_rating_mean', 'cust_star_rating_std', 'prod_review_count',\n",
       "       'prod_star_rating_mean', 'prod_star_rating_std', 'pos_sim', 'neg_sim',\n",
       "       'avg_pos_word', 'avg_neg_word'],\n",
       "      dtype='object')"
      ]
     },
     "execution_count": 135,
     "metadata": {},
     "output_type": "execute_result"
    }
   ],
   "source": [
    "train_df.columns"
   ]
  },
  {
   "cell_type": "code",
   "execution_count": 136,
   "metadata": {},
   "outputs": [
    {
     "data": {
      "text/plain": [
       "positive\n",
       "0     9531\n",
       "1    38191\n",
       "dtype: int64"
      ]
     },
     "execution_count": 136,
     "metadata": {},
     "output_type": "execute_result"
    }
   ],
   "source": [
    "train_df.groupby('positive').size()"
   ]
  },
  {
   "cell_type": "code",
   "execution_count": 137,
   "metadata": {},
   "outputs": [],
   "source": [
    "temp = train_df[train_df.positive == 0]\n",
    "#temp = pd.concat([temp, train_df[train_df.positive == 1][:14296]]) #9531\n",
    "temp = pd.concat([temp, train_df[train_df.positive == 1].sample(22239)])\n",
    "train_df = temp"
   ]
  },
  {
   "cell_type": "code",
   "execution_count": 138,
   "metadata": {},
   "outputs": [
    {
     "data": {
      "text/plain": [
       "positive\n",
       "0    0.3\n",
       "1    0.7\n",
       "dtype: float64"
      ]
     },
     "execution_count": 138,
     "metadata": {},
     "output_type": "execute_result"
    }
   ],
   "source": [
    "train_df.groupby('positive').size() / len(train_df)"
   ]
  },
  {
   "cell_type": "code",
   "execution_count": 139,
   "metadata": {},
   "outputs": [
    {
     "data": {
      "text/plain": [
       "0.7"
      ]
     },
     "execution_count": 139,
     "metadata": {},
     "output_type": "execute_result"
    }
   ],
   "source": [
    "len(train_df[train_df.positive == 1]) / len(train_df)"
   ]
  },
  {
   "cell_type": "code",
   "execution_count": 140,
   "metadata": {},
   "outputs": [
    {
     "data": {
      "text/html": [
       "<div>\n",
       "<style scoped>\n",
       "    .dataframe tbody tr th:only-of-type {\n",
       "        vertical-align: middle;\n",
       "    }\n",
       "\n",
       "    .dataframe tbody tr th {\n",
       "        vertical-align: top;\n",
       "    }\n",
       "\n",
       "    .dataframe thead th {\n",
       "        text-align: right;\n",
       "    }\n",
       "</style>\n",
       "<table border=\"1\" class=\"dataframe\">\n",
       "  <thead>\n",
       "    <tr style=\"text-align: right;\">\n",
       "      <th></th>\n",
       "      <th>customer_id</th>\n",
       "      <th>product_parent</th>\n",
       "      <th>positive</th>\n",
       "      <th>cust_review_count</th>\n",
       "      <th>cust_star_rating_mean</th>\n",
       "      <th>cust_star_rating_std</th>\n",
       "      <th>prod_review_count</th>\n",
       "      <th>prod_star_rating_mean</th>\n",
       "      <th>prod_star_rating_std</th>\n",
       "      <th>pos_sim</th>\n",
       "      <th>neg_sim</th>\n",
       "      <th>avg_pos_word</th>\n",
       "      <th>avg_neg_word</th>\n",
       "    </tr>\n",
       "  </thead>\n",
       "  <tbody>\n",
       "    <tr>\n",
       "      <th>0</th>\n",
       "      <td>36330222</td>\n",
       "      <td>986428010</td>\n",
       "      <td>1</td>\n",
       "      <td>24</td>\n",
       "      <td>4.291667</td>\n",
       "      <td>1.267629</td>\n",
       "      <td>18</td>\n",
       "      <td>4.333333</td>\n",
       "      <td>1.188177</td>\n",
       "      <td>0.070423</td>\n",
       "      <td>0.012295</td>\n",
       "      <td>-0.031375</td>\n",
       "      <td>-0.011993</td>\n",
       "    </tr>\n",
       "    <tr>\n",
       "      <th>1</th>\n",
       "      <td>24360083</td>\n",
       "      <td>986428010</td>\n",
       "      <td>1</td>\n",
       "      <td>23</td>\n",
       "      <td>4.347826</td>\n",
       "      <td>1.191206</td>\n",
       "      <td>18</td>\n",
       "      <td>4.333333</td>\n",
       "      <td>1.188177</td>\n",
       "      <td>0.095361</td>\n",
       "      <td>0.049808</td>\n",
       "      <td>0.933571</td>\n",
       "      <td>0.547893</td>\n",
       "    </tr>\n",
       "    <tr>\n",
       "      <th>2</th>\n",
       "      <td>28891040</td>\n",
       "      <td>437083384</td>\n",
       "      <td>1</td>\n",
       "      <td>10</td>\n",
       "      <td>4.500000</td>\n",
       "      <td>0.707107</td>\n",
       "      <td>407</td>\n",
       "      <td>4.503686</td>\n",
       "      <td>0.887439</td>\n",
       "      <td>0.006944</td>\n",
       "      <td>0.005208</td>\n",
       "      <td>0.172577</td>\n",
       "      <td>0.136230</td>\n",
       "    </tr>\n",
       "    <tr>\n",
       "      <th>3</th>\n",
       "      <td>52449052</td>\n",
       "      <td>437083384</td>\n",
       "      <td>0</td>\n",
       "      <td>5</td>\n",
       "      <td>3.400000</td>\n",
       "      <td>1.516575</td>\n",
       "      <td>407</td>\n",
       "      <td>4.503686</td>\n",
       "      <td>0.887439</td>\n",
       "      <td>0.010390</td>\n",
       "      <td>0.059514</td>\n",
       "      <td>0.250885</td>\n",
       "      <td>0.003912</td>\n",
       "    </tr>\n",
       "    <tr>\n",
       "      <th>4</th>\n",
       "      <td>27192976</td>\n",
       "      <td>437083384</td>\n",
       "      <td>1</td>\n",
       "      <td>6</td>\n",
       "      <td>4.666667</td>\n",
       "      <td>0.816497</td>\n",
       "      <td>407</td>\n",
       "      <td>4.503686</td>\n",
       "      <td>0.887439</td>\n",
       "      <td>0.012942</td>\n",
       "      <td>0.003460</td>\n",
       "      <td>0.039631</td>\n",
       "      <td>-0.029838</td>\n",
       "    </tr>\n",
       "  </tbody>\n",
       "</table>\n",
       "</div>"
      ],
      "text/plain": [
       "   customer_id  product_parent  positive  cust_review_count  \\\n",
       "0     36330222       986428010         1                 24   \n",
       "1     24360083       986428010         1                 23   \n",
       "2     28891040       437083384         1                 10   \n",
       "3     52449052       437083384         0                  5   \n",
       "4     27192976       437083384         1                  6   \n",
       "\n",
       "   cust_star_rating_mean  cust_star_rating_std  prod_review_count  \\\n",
       "0               4.291667              1.267629                 18   \n",
       "1               4.347826              1.191206                 18   \n",
       "2               4.500000              0.707107                407   \n",
       "3               3.400000              1.516575                407   \n",
       "4               4.666667              0.816497                407   \n",
       "\n",
       "   prod_star_rating_mean  prod_star_rating_std   pos_sim   neg_sim  \\\n",
       "0               4.333333              1.188177  0.070423  0.012295   \n",
       "1               4.333333              1.188177  0.095361  0.049808   \n",
       "2               4.503686              0.887439  0.006944  0.005208   \n",
       "3               4.503686              0.887439  0.010390  0.059514   \n",
       "4               4.503686              0.887439  0.012942  0.003460   \n",
       "\n",
       "   avg_pos_word  avg_neg_word  \n",
       "0     -0.031375     -0.011993  \n",
       "1      0.933571      0.547893  \n",
       "2      0.172577      0.136230  \n",
       "3      0.250885      0.003912  \n",
       "4      0.039631     -0.029838  "
      ]
     },
     "execution_count": 140,
     "metadata": {},
     "output_type": "execute_result"
    }
   ],
   "source": [
    "test_df = pd.read_csv('test_df2.csv', index_col=0)\n",
    "test_df.drop(['star_rating', 'pos_corpus', 'neg_corpus', 'pos_1', 'pos_2', 'pos_3', \n",
    "               'neg_1', 'neg_2', 'neg_3', 'prod_corpus', 'word_1', 'word_2', 'word_3'], axis=1, inplace=True)\n",
    "test_df.drop(['cust_total_votes_mean', 'cust_total_votes_std', 'cust_helpful_votes_mean', 'cust_helpful_votes_std', \n",
    "               'prod_total_votes_mean', 'prod_total_votes_std', 'prod_helpful_votes_mean', 'prod_helpful_votes_std'], \n",
    "              axis=1, inplace=True)\n",
    "\n",
    "test_df['avg_pos_word'] = test_df.apply((lambda x: (x.pos_1_word_1 + x.pos_1_word_2 + x.pos_1_word_3 +\n",
    "                                                      x.pos_2_word_1 + x.pos_2_word_2 + x.pos_2_word_3 +\n",
    "                                                      x.pos_3_word_1 + x.pos_3_word_2 + x.pos_3_word_3) / 9), axis=1)\n",
    "test_df['avg_neg_word'] = test_df.apply((lambda x: (x.neg_1_word_1 + x.neg_1_word_2 + x.neg_1_word_3 +\n",
    "                                                      x.neg_2_word_1 + x.neg_2_word_2 + x.neg_2_word_3 +\n",
    "                                                      x.neg_3_word_1 + x.neg_3_word_2 + x.neg_3_word_3) / 9), axis=1)\n",
    "test_df.drop(['pos_1_word_1', 'pos_1_word_2', 'pos_1_word_3', 'pos_2_word_1',\n",
    "               'pos_2_word_2', 'pos_2_word_3', 'pos_3_word_1', 'pos_3_word_2',\n",
    "               'pos_3_word_3', 'neg_1_word_1', 'neg_1_word_2', 'neg_1_word_3',\n",
    "               'neg_2_word_1', 'neg_2_word_2', 'neg_2_word_3', 'neg_3_word_1',\n",
    "               'neg_3_word_2', 'neg_3_word_3'], axis=1, inplace=True)\n",
    "test_df.head()"
   ]
  },
  {
   "cell_type": "code",
   "execution_count": 141,
   "metadata": {},
   "outputs": [
    {
     "data": {
      "text/plain": [
       "positive\n",
       "0     3573\n",
       "1    12262\n",
       "dtype: int64"
      ]
     },
     "execution_count": 141,
     "metadata": {},
     "output_type": "execute_result"
    }
   ],
   "source": [
    "test_df.groupby('positive').size()"
   ]
  },
  {
   "cell_type": "code",
   "execution_count": 142,
   "metadata": {},
   "outputs": [
    {
     "data": {
      "text/plain": [
       "0.774360593621724"
      ]
     },
     "execution_count": 142,
     "metadata": {},
     "output_type": "execute_result"
    }
   ],
   "source": [
    "len(test_df[test_df.positive == 1]) / len(test_df)"
   ]
  },
  {
   "cell_type": "code",
   "execution_count": 143,
   "metadata": {},
   "outputs": [],
   "source": [
    "train_x, train_y = train_df.drop('positive', axis=1), train_df['positive']\n",
    "test_x, test_y = test_df.drop('positive', axis=1), test_df['positive']"
   ]
  },
  {
   "cell_type": "code",
   "execution_count": 144,
   "metadata": {},
   "outputs": [
    {
     "data": {
      "text/html": [
       "<div>\n",
       "<style scoped>\n",
       "    .dataframe tbody tr th:only-of-type {\n",
       "        vertical-align: middle;\n",
       "    }\n",
       "\n",
       "    .dataframe tbody tr th {\n",
       "        vertical-align: top;\n",
       "    }\n",
       "\n",
       "    .dataframe thead th {\n",
       "        text-align: right;\n",
       "    }\n",
       "</style>\n",
       "<table border=\"1\" class=\"dataframe\">\n",
       "  <thead>\n",
       "    <tr style=\"text-align: right;\">\n",
       "      <th></th>\n",
       "      <th>customer_id</th>\n",
       "      <th>product_parent</th>\n",
       "      <th>positive</th>\n",
       "      <th>cust_review_count</th>\n",
       "      <th>cust_star_rating_mean</th>\n",
       "      <th>cust_star_rating_std</th>\n",
       "      <th>prod_review_count</th>\n",
       "      <th>prod_star_rating_mean</th>\n",
       "      <th>prod_star_rating_std</th>\n",
       "      <th>pos_sim</th>\n",
       "      <th>neg_sim</th>\n",
       "      <th>avg_pos_word</th>\n",
       "      <th>avg_neg_word</th>\n",
       "    </tr>\n",
       "  </thead>\n",
       "  <tbody>\n",
       "  </tbody>\n",
       "</table>\n",
       "</div>"
      ],
      "text/plain": [
       "Empty DataFrame\n",
       "Columns: [customer_id, product_parent, positive, cust_review_count, cust_star_rating_mean, cust_star_rating_std, prod_review_count, prod_star_rating_mean, prod_star_rating_std, pos_sim, neg_sim, avg_pos_word, avg_neg_word]\n",
       "Index: []"
      ]
     },
     "execution_count": 144,
     "metadata": {},
     "output_type": "execute_result"
    }
   ],
   "source": [
    "is_NaN = train_df.isnull()\n",
    "row_has_NaN = is_NaN.any(axis=1)\n",
    "train_df[row_has_NaN]"
   ]
  },
  {
   "cell_type": "code",
   "execution_count": 145,
   "metadata": {},
   "outputs": [],
   "source": [
    "def evaluate(m, x, test):\n",
    "    correct = 0\n",
    "    pos_count = 0\n",
    "    matrix = [0, 0, 0, 0]\n",
    "    preds = m.predict(x)\n",
    "    for i in range(len(test)):\n",
    "        if (preds[i] > 0.5):\n",
    "            pos_count += 1\n",
    "        if (preds[i] > 0.5 and test.iloc[i] > 0.5):\n",
    "            correct += 1\n",
    "            matrix[0] += 1\n",
    "        elif (preds[i] <= 0.5 and test.iloc[i] <= 0.5):\n",
    "            correct += 1\n",
    "            matrix[1] += 1\n",
    "        elif (preds[i] > 0.5 and test.iloc[i] <= 0.5):\n",
    "            matrix[2] += 1\n",
    "        elif (preds[i] <= 0.5 and test.iloc[i] > 0.5):\n",
    "            matrix[3] += 1\n",
    "\n",
    "    pos_f1 = 2 * ((matrix[0] / pos_count) * (matrix[0] / len(test_df[test_df.positive == 1]))) / ((matrix[0] / pos_count) + (matrix[0] / len(test_df[test_df.positive == 1])))\n",
    "    neg_f1 = 2 * ((matrix[1] / (matrix[1] + matrix[3])) * (matrix[1] / (len(test_df[test_df.positive == 0])))) / ((matrix[1] / (matrix[1] + matrix[3])) + (matrix[1] / (len(test_df[test_df.positive == 0]))))\n",
    "    print('Correct:', correct, correct / len(test_df))\n",
    "    print('Pos:', pos_count, pos_count / len(test_df))\n",
    "    print('True Positive:', matrix[0], matrix[0] / len(test_df))\n",
    "    print('True Negative:', matrix[1], matrix[1] / len(test_df))\n",
    "    print('False Positive:', matrix[2], matrix[2] / len(test_df))\n",
    "    print('False Negative:', matrix[3], matrix[3] / len(test_df))\n",
    "    print('Positive Precision:', matrix[0] / pos_count)\n",
    "    print('Positive Recall:', matrix[0] / len(test_df[test_df.positive == 1]))\n",
    "    print('Positive F1 Score:', pos_f1)\n",
    "    print('Negative Precision:', matrix[1] / (matrix[1] + matrix[3]))\n",
    "    print('Negative Recall:', matrix[1] / (len(test_df[test_df.positive == 0])))\n",
    "    print('Negative F1 Score:', neg_f1)"
   ]
  },
  {
   "cell_type": "code",
   "execution_count": 146,
   "metadata": {},
   "outputs": [],
   "source": [
    "drop_cols = ['customer_id', 'product_parent', 'cust_review_count', 'prod_review_count', \n",
    "             'cust_star_rating_std', 'prod_star_rating_std']\n",
    "             #'neg_1_word_1', 'neg_1_word_2', 'neg_1_word_3',\n",
    "             #'neg_2_word_1', 'neg_2_word_2', 'neg_2_word_3', \n",
    "             #'neg_3_word_1', 'neg_3_word_2', 'neg_3_word_3']"
   ]
  },
  {
   "cell_type": "code",
   "execution_count": 147,
   "metadata": {},
   "outputs": [
    {
     "data": {
      "image/png": "[encoded data removed]",
      "text/plain": [
       "<Figure size 864x720 with 2 Axes>"
      ]
     },
     "metadata": {
      "needs_background": "light"
     },
     "output_type": "display_data"
    }
   ],
   "source": [
    "import matplotlib.pyplot as plt\n",
    "import seaborn as sns\n",
    "\n",
    "#Using Pearson Correlation\n",
    "plt.figure(figsize=(12,10))\n",
    "cor = train_df.drop(drop_cols, axis=1).corr()\n",
    "sns.heatmap(cor, annot=True, cmap=plt.cm.Blues)\n",
    "plt.show()"
   ]
  },
  {
   "cell_type": "code",
   "execution_count": 148,
   "metadata": {},
   "outputs": [
    {
     "data": {
      "text/plain": [
       "GradientBoostingClassifier(ccp_alpha=0.0, criterion='friedman_mse', init=None,\n",
       "                           learning_rate=0.1, loss='deviance', max_depth=3,\n",
       "                           max_features=None, max_leaf_nodes=None,\n",
       "                           min_impurity_decrease=0.0, min_impurity_split=None,\n",
       "                           min_samples_leaf=1, min_samples_split=2,\n",
       "                           min_weight_fraction_leaf=0.0, n_estimators=100,\n",
       "                           n_iter_no_change=None, presort='deprecated',\n",
       "                           random_state=None, subsample=1.0, tol=0.0001,\n",
       "                           validation_fraction=0.1, verbose=0,\n",
       "                           warm_start=False)"
      ]
     },
     "execution_count": 148,
     "metadata": {},
     "output_type": "execute_result"
    }
   ],
   "source": [
    "from sklearn.ensemble import GradientBoostingClassifier\n",
    "gb = GradientBoostingClassifier()\n",
    "gb.fit(train_x.drop(drop_cols, axis=1), train_y)"
   ]
  },
  {
   "cell_type": "code",
   "execution_count": 149,
   "metadata": {},
   "outputs": [
    {
     "data": {
      "text/plain": [
       "0.7655825702557626"
      ]
     },
     "execution_count": 149,
     "metadata": {},
     "output_type": "execute_result"
    }
   ],
   "source": [
    "gb.score(test_x.drop(drop_cols, axis=1), test_y)"
   ]
  },
  {
   "cell_type": "code",
   "execution_count": 150,
   "metadata": {},
   "outputs": [
    {
     "name": "stdout",
     "output_type": "stream",
     "text": [
      "Correct: 12123 0.7655825702557626\n",
      "Pos: 12458 0.786738238080202\n",
      "True Positive: 10504 0.6633407009788443\n",
      "True Negative: 1619 0.10224186927691822\n",
      "False Positive: 1954 0.12339753710135776\n",
      "False Negative: 1758 0.1110198926428797\n",
      "Positive Precision: 0.8431529940600417\n",
      "Positive Recall: 0.8566302397651281\n",
      "Positive F1 Score: 0.8498381877022653\n",
      "Negative Precision: 0.47941960319810484\n",
      "Negative Recall: 0.4531206269241534\n",
      "Negative F1 Score: 0.46589928057553953\n"
     ]
    }
   ],
   "source": [
    "evaluate(gb, test_x.drop(drop_cols, axis=1), test_y)"
   ]
  },
  {
   "cell_type": "code",
   "execution_count": 151,
   "metadata": {},
   "outputs": [
    {
     "data": {
      "text/plain": [
       "RandomForestClassifier(bootstrap=True, ccp_alpha=0.0, class_weight=None,\n",
       "                       criterion='entropy', max_depth=None, max_features='auto',\n",
       "                       max_leaf_nodes=None, max_samples=None,\n",
       "                       min_impurity_decrease=0.0, min_impurity_split=None,\n",
       "                       min_samples_leaf=1, min_samples_split=2,\n",
       "                       min_weight_fraction_leaf=0.0, n_estimators=1000,\n",
       "                       n_jobs=-1, oob_score=False, random_state=None, verbose=0,\n",
       "                       warm_start=False)"
      ]
     },
     "execution_count": 151,
     "metadata": {},
     "output_type": "execute_result"
    }
   ],
   "source": [
    "rf = RandomForestClassifier(n_estimators=1000, criterion='entropy', n_jobs=-1)\n",
    "rf.fit(train_x.drop(drop_cols, axis=1), train_y)"
   ]
  },
  {
   "cell_type": "code",
   "execution_count": 152,
   "metadata": {},
   "outputs": [
    {
     "data": {
      "text/plain": [
       "0.7511840858856963"
      ]
     },
     "execution_count": 152,
     "metadata": {},
     "output_type": "execute_result"
    }
   ],
   "source": [
    "rf.score(test_x.drop(drop_cols, axis=1), test_y)"
   ]
  },
  {
   "cell_type": "code",
   "execution_count": 153,
   "metadata": {},
   "outputs": [
    {
     "name": "stdout",
     "output_type": "stream",
     "text": [
      "Correct: 11895 0.7511840858856963\n",
      "Pos: 12214 0.7713293337543417\n",
      "True Positive: 10268 0.648437006630881\n",
      "True Negative: 1627 0.10274707925481529\n",
      "False Positive: 1946 0.12289232712346068\n",
      "False Negative: 1994 0.12592358699084308\n",
      "Positive Precision: 0.8406746356639921\n",
      "Positive Recall: 0.8373837873103899\n",
      "Positive F1 Score: 0.8390259846380128\n",
      "Negative Precision: 0.44932339132836235\n",
      "Negative Recall: 0.45535964175762667\n",
      "Negative F1 Score: 0.45232137892688357\n"
     ]
    }
   ],
   "source": [
    "evaluate(rf, test_x.drop(drop_cols, axis=1), test_y)"
   ]
  },
  {
   "cell_type": "code",
   "execution_count": 154,
   "metadata": {},
   "outputs": [
    {
     "data": {
      "text/plain": [
       "<BarContainer object of 6 artists>"
      ]
     },
     "execution_count": 154,
     "metadata": {},
     "output_type": "execute_result"
    },
    {
     "data": {
      "image/png": "[encoded data removed]",
      "text/plain": [
       "<Figure size 432x288 with 1 Axes>"
      ]
     },
     "metadata": {
      "needs_background": "light"
     },
     "output_type": "display_data"
    }
   ],
   "source": [
    "imp_tuples = sorted(zip(map(lambda x: round(x, 4), rf.feature_importances_), \n",
    "                 train_x.drop(drop_cols, axis=1).columns), reverse=False)\n",
    "imp = [t[0] for t in imp_tuples]\n",
    "labl = [t[1] for t in imp_tuples]\n",
    "plt.barh(labl, imp, linewidth=5)"
   ]
  },
  {
   "cell_type": "code",
   "execution_count": 155,
   "metadata": {},
   "outputs": [
    {
     "data": {
      "text/plain": [
       "RandomForestRegressor(bootstrap=True, ccp_alpha=0.0, criterion='mse',\n",
       "                      max_depth=None, max_features='auto', max_leaf_nodes=None,\n",
       "                      max_samples=None, min_impurity_decrease=0.0,\n",
       "                      min_impurity_split=None, min_samples_leaf=1,\n",
       "                      min_samples_split=2, min_weight_fraction_leaf=0.0,\n",
       "                      n_estimators=1000, n_jobs=-1, oob_score=False,\n",
       "                      random_state=None, verbose=0, warm_start=False)"
      ]
     },
     "execution_count": 155,
     "metadata": {},
     "output_type": "execute_result"
    }
   ],
   "source": [
    "rf2 = RandomForestRegressor(n_estimators=1000, n_jobs=-1)\n",
    "rf2.fit(train_x.drop(drop_cols, axis=1), train_y)"
   ]
  },
  {
   "cell_type": "code",
   "execution_count": 156,
   "metadata": {},
   "outputs": [
    {
     "data": {
      "text/plain": [
       "0.00243437127140278"
      ]
     },
     "execution_count": 156,
     "metadata": {},
     "output_type": "execute_result"
    }
   ],
   "source": [
    "rf2.score(test_x.drop(drop_cols, axis=1), test_y)"
   ]
  },
  {
   "cell_type": "code",
   "execution_count": 157,
   "metadata": {},
   "outputs": [
    {
     "name": "stdout",
     "output_type": "stream",
     "text": [
      "Correct: 11753 0.7422166087780233\n",
      "Pos: 12016 0.7588253868013893\n",
      "True Positive: 10098 0.6377012946005683\n",
      "True Negative: 1655 0.10451531417745501\n",
      "False Positive: 1918 0.12112409220082096\n",
      "False Negative: 2164 0.13665929902115567\n",
      "Positive Precision: 0.8403794940079894\n",
      "Positive Recall: 0.8235198173218072\n",
      "Positive F1 Score: 0.8318642392289315\n",
      "Negative Precision: 0.4333595181984813\n",
      "Negative Recall: 0.4631961936747831\n",
      "Negative F1 Score: 0.4477813852813853\n"
     ]
    }
   ],
   "source": [
    "evaluate(rf2, test_x.drop(drop_cols, axis=1), test_y)"
   ]
  },
  {
   "cell_type": "code",
   "execution_count": 158,
   "metadata": {},
   "outputs": [
    {
     "data": {
      "text/plain": [
       "<BarContainer object of 6 artists>"
      ]
     },
     "execution_count": 158,
     "metadata": {},
     "output_type": "execute_result"
    },
    {
     "data": {
      "image/png": "[encoded data removed]",
      "text/plain": [
       "<Figure size 432x288 with 1 Axes>"
      ]
     },
     "metadata": {
      "needs_background": "light"
     },
     "output_type": "display_data"
    }
   ],
   "source": [
    "imp_tuples = sorted(zip(map(lambda x: round(x, 4), rf2.feature_importances_), \n",
    "                 train_x.drop(drop_cols, axis=1).columns), reverse=False)\n",
    "imp = [t[0] for t in imp_tuples]\n",
    "labl = [t[1] for t in imp_tuples]\n",
    "plt.barh(labl, imp, linewidth=5)"
   ]
  },
  {
   "cell_type": "code",
   "execution_count": 159,
   "metadata": {},
   "outputs": [
    {
     "data": {
      "text/plain": [
       "KNeighborsClassifier(algorithm='auto', leaf_size=30, metric='minkowski',\n",
       "                     metric_params=None, n_jobs=None, n_neighbors=5, p=2,\n",
       "                     weights='distance')"
      ]
     },
     "execution_count": 159,
     "metadata": {},
     "output_type": "execute_result"
    }
   ],
   "source": [
    "from sklearn.neighbors import KNeighborsClassifier\n",
    "knn = KNeighborsClassifier(n_neighbors=5, weights='distance')\n",
    "knn.fit(train_x.drop(drop_cols, axis=1), train_y)"
   ]
  },
  {
   "cell_type": "code",
   "execution_count": 160,
   "metadata": {},
   "outputs": [
    {
     "data": {
      "text/plain": [
       "0.7044521629302178"
      ]
     },
     "execution_count": 160,
     "metadata": {},
     "output_type": "execute_result"
    }
   ],
   "source": [
    "knn.score(test_x.drop(drop_cols, axis=1), test_y)"
   ]
  },
  {
   "cell_type": "code",
   "execution_count": 161,
   "metadata": {},
   "outputs": [
    {
     "name": "stdout",
     "output_type": "stream",
     "text": [
      "Correct: 11155 0.7044521629302178\n",
      "Pos: 11512 0.7269971581938743\n",
      "True Positive: 9547 0.6029049573729082\n",
      "True Negative: 1608 0.10154720555730976\n",
      "False Positive: 1965 0.12409220082096621\n",
      "False Negative: 2715 0.1714556362488159\n",
      "Positive Precision: 0.8293085476025017\n",
      "Positive Recall: 0.7785842440058718\n",
      "Positive F1 Score: 0.8031462942710523\n",
      "Negative Precision: 0.37196391394864675\n",
      "Negative Recall: 0.45004198152812763\n",
      "Negative F1 Score: 0.4072948328267477\n"
     ]
    }
   ],
   "source": [
    "evaluate(knn, test_x.drop(drop_cols, axis=1), test_y)"
   ]
  },
  {
   "cell_type": "code",
   "execution_count": 162,
   "metadata": {},
   "outputs": [
    {
     "data": {
      "text/plain": [
       "GaussianNB(priors=None, var_smoothing=1e-09)"
      ]
     },
     "execution_count": 162,
     "metadata": {},
     "output_type": "execute_result"
    }
   ],
   "source": [
    "from sklearn.naive_bayes import GaussianNB\n",
    "gnb = GaussianNB()\n",
    "gnb.fit(train_x.drop(drop_cols, axis=1), train_y)"
   ]
  },
  {
   "cell_type": "code",
   "execution_count": 163,
   "metadata": {},
   "outputs": [
    {
     "data": {
      "text/plain": [
       "0.7265550994632144"
      ]
     },
     "execution_count": 163,
     "metadata": {},
     "output_type": "execute_result"
    }
   ],
   "source": [
    "gnb.score(test_x.drop(drop_cols, axis=1), test_y)"
   ]
  },
  {
   "cell_type": "code",
   "execution_count": 164,
   "metadata": {},
   "outputs": [
    {
     "name": "stdout",
     "output_type": "stream",
     "text": [
      "Correct: 11505 0.7265550994632144\n",
      "Pos: 11732 0.7408904325860436\n",
      "True Positive: 9832 0.620903062835491\n",
      "True Negative: 1673 0.10565203662772339\n",
      "False Positive: 1900 0.11998736975055257\n",
      "False Negative: 2430 0.15345753078623303\n",
      "Positive Precision: 0.8380497783839073\n",
      "Positive Recall: 0.8018267819279074\n",
      "Positive F1 Score: 0.8195382178878052\n",
      "Negative Precision: 0.4077504265171826\n",
      "Negative Recall: 0.46823397705009795\n",
      "Negative F1 Score: 0.4359041167274622\n"
     ]
    }
   ],
   "source": [
    "evaluate(gnb, test_x.drop(drop_cols, axis=1), test_y)"
   ]
  },
  {
   "cell_type": "code",
   "execution_count": 165,
   "metadata": {},
   "outputs": [],
   "source": [
    "from keras import models\n",
    "from keras import layers\n",
    "from keras import optimizers\n",
    "from keras.utils import to_categorical\n",
    "import keras\n",
    "import numpy as np"
   ]
  },
  {
   "cell_type": "code",
   "execution_count": 166,
   "metadata": {},
   "outputs": [],
   "source": [
    "keras.backend.clear_session()"
   ]
  },
  {
   "cell_type": "code",
   "execution_count": 167,
   "metadata": {},
   "outputs": [],
   "source": [
    "nn_train_x = train_x.drop(drop_cols, axis=1)\n",
    "nn_test_x = test_x.drop(drop_cols, axis=1)"
   ]
  },
  {
   "cell_type": "code",
   "execution_count": 168,
   "metadata": {},
   "outputs": [
    {
     "data": {
      "text/plain": [
       "(31770, 6)"
      ]
     },
     "execution_count": 168,
     "metadata": {},
     "output_type": "execute_result"
    }
   ],
   "source": [
    "np.shape(nn_train_x)"
   ]
  },
  {
   "cell_type": "code",
   "execution_count": 169,
   "metadata": {},
   "outputs": [
    {
     "name": "stdout",
     "output_type": "stream",
     "text": [
      "Model: \"sequential_1\"\n",
      "_________________________________________________________________\n",
      "Layer (type)                 Output Shape              Param #   \n",
      "=================================================================\n",
      "dense_1 (Dense)              (None, 6)                 42        \n",
      "_________________________________________________________________\n",
      "dense_2 (Dense)              (None, 4)                 28        \n",
      "_________________________________________________________________\n",
      "dense_3 (Dense)              (None, 1)                 5         \n",
      "=================================================================\n",
      "Total params: 75\n",
      "Trainable params: 75\n",
      "Non-trainable params: 0\n",
      "_________________________________________________________________\n"
     ]
    }
   ],
   "source": [
    "network = models.Sequential()\n",
    "network.add(layers.Dense(6, activation='relu', input_shape=(6,)))\n",
    "network.add(layers.Dense(4, activation='relu', input_shape=(6,)))\n",
    "network.add(layers.Dense(1, activation='sigmoid', input_shape=(4,)))\n",
    "network.summary()"
   ]
  },
  {
   "cell_type": "code",
   "execution_count": 170,
   "metadata": {},
   "outputs": [
    {
     "name": "stdout",
     "output_type": "stream",
     "text": [
      "Train on 31770 samples, validate on 15835 samples\n",
      "Epoch 1/500\n",
      "31770/31770 [==============================] - 1s 26us/step - loss: 0.5952 - accuracy: 0.7000 - val_loss: 0.5188 - val_accuracy: 0.7744\n",
      "Epoch 2/500\n",
      "31770/31770 [==============================] - 1s 22us/step - loss: 0.5788 - accuracy: 0.7031 - val_loss: 0.5075 - val_accuracy: 0.7792\n",
      "Epoch 3/500\n",
      "31770/31770 [==============================] - 1s 22us/step - loss: 0.5700 - accuracy: 0.7119 - val_loss: 0.5135 - val_accuracy: 0.7802\n",
      "Epoch 4/500\n",
      "31770/31770 [==============================] - 1s 22us/step - loss: 0.5646 - accuracy: 0.7165 - val_loss: 0.5134 - val_accuracy: 0.7796\n",
      "Epoch 5/500\n",
      "31770/31770 [==============================] - 1s 22us/step - loss: 0.5605 - accuracy: 0.7196 - val_loss: 0.5052 - val_accuracy: 0.7800\n",
      "Epoch 6/500\n",
      "31770/31770 [==============================] - 1s 22us/step - loss: 0.5570 - accuracy: 0.7211 - val_loss: 0.5080 - val_accuracy: 0.7798\n",
      "Epoch 7/500\n",
      "31770/31770 [==============================] - 1s 22us/step - loss: 0.5538 - accuracy: 0.7232 - val_loss: 0.5040 - val_accuracy: 0.7796\n",
      "Epoch 8/500\n",
      "31770/31770 [==============================] - 1s 23us/step - loss: 0.5510 - accuracy: 0.7245 - val_loss: 0.5053 - val_accuracy: 0.7775\n",
      "Epoch 9/500\n",
      "31770/31770 [==============================] - 1s 22us/step - loss: 0.5487 - accuracy: 0.7256 - val_loss: 0.4884 - val_accuracy: 0.7833\n",
      "Epoch 10/500\n",
      "31770/31770 [==============================] - 1s 22us/step - loss: 0.5465 - accuracy: 0.7274 - val_loss: 0.4990 - val_accuracy: 0.7806\n",
      "Epoch 11/500\n",
      "31770/31770 [==============================] - 1s 22us/step - loss: 0.5444 - accuracy: 0.7301 - val_loss: 0.4994 - val_accuracy: 0.7790\n",
      "Epoch 12/500\n",
      "31770/31770 [==============================] - 1s 22us/step - loss: 0.5427 - accuracy: 0.7314 - val_loss: 0.4888 - val_accuracy: 0.7833\n",
      "Epoch 13/500\n",
      "31770/31770 [==============================] - 1s 23us/step - loss: 0.5410 - accuracy: 0.7317 - val_loss: 0.4879 - val_accuracy: 0.7834\n",
      "Epoch 14/500\n",
      "31770/31770 [==============================] - ETA: 0s - loss: 0.5380 - accuracy: 0.73 - 1s 22us/step - loss: 0.5395 - accuracy: 0.7327 - val_loss: 0.5049 - val_accuracy: 0.7737\n",
      "Epoch 15/500\n",
      "31770/31770 [==============================] - 1s 23us/step - loss: 0.5382 - accuracy: 0.7342 - val_loss: 0.4874 - val_accuracy: 0.7827\n",
      "Epoch 16/500\n",
      "31770/31770 [==============================] - 1s 22us/step - loss: 0.5371 - accuracy: 0.7359 - val_loss: 0.4900 - val_accuracy: 0.7805\n",
      "Epoch 17/500\n",
      "31770/31770 [==============================] - 1s 22us/step - loss: 0.5358 - accuracy: 0.7359 - val_loss: 0.4799 - val_accuracy: 0.7850\n",
      "Epoch 18/500\n",
      "31770/31770 [==============================] - 1s 22us/step - loss: 0.5349 - accuracy: 0.7370 - val_loss: 0.4843 - val_accuracy: 0.7828\n",
      "Epoch 19/500\n",
      "31770/31770 [==============================] - 1s 22us/step - loss: 0.5343 - accuracy: 0.7368 - val_loss: 0.4852 - val_accuracy: 0.7823\n",
      "Epoch 20/500\n",
      "31770/31770 [==============================] - 1s 22us/step - loss: 0.5335 - accuracy: 0.7378 - val_loss: 0.4925 - val_accuracy: 0.7761\n",
      "Epoch 21/500\n",
      "31770/31770 [==============================] - 1s 22us/step - loss: 0.5326 - accuracy: 0.7391 - val_loss: 0.4882 - val_accuracy: 0.7788\n",
      "Epoch 22/500\n",
      "31770/31770 [==============================] - 1s 22us/step - loss: 0.5321 - accuracy: 0.7391 - val_loss: 0.5292 - val_accuracy: 0.7485\n",
      "Epoch 23/500\n",
      "31770/31770 [==============================] - 1s 22us/step - loss: 0.5318 - accuracy: 0.7396 - val_loss: 0.4990 - val_accuracy: 0.7704\n",
      "Epoch 24/500\n",
      "31770/31770 [==============================] - 1s 22us/step - loss: 0.5310 - accuracy: 0.7402 - val_loss: 0.4951 - val_accuracy: 0.7723\n",
      "Epoch 25/500\n",
      "31770/31770 [==============================] - 1s 22us/step - loss: 0.5308 - accuracy: 0.7409 - val_loss: 0.4902 - val_accuracy: 0.7756\n",
      "Epoch 26/500\n",
      "31770/31770 [==============================] - 1s 22us/step - loss: 0.5305 - accuracy: 0.7403 - val_loss: 0.5259 - val_accuracy: 0.7490\n",
      "Epoch 27/500\n",
      "31770/31770 [==============================] - 1s 22us/step - loss: 0.5303 - accuracy: 0.7404 - val_loss: 0.4912 - val_accuracy: 0.7743\n",
      "Epoch 28/500\n",
      "31770/31770 [==============================] - ETA: 0s - loss: 0.5309 - accuracy: 0.74 - 1s 22us/step - loss: 0.5300 - accuracy: 0.7412 - val_loss: 0.4895 - val_accuracy: 0.7756\n",
      "Epoch 29/500\n",
      "31770/31770 [==============================] - 1s 22us/step - loss: 0.5298 - accuracy: 0.7400 - val_loss: 0.5219 - val_accuracy: 0.7506\n",
      "Epoch 30/500\n",
      "31770/31770 [==============================] - 1s 23us/step - loss: 0.5295 - accuracy: 0.7409 - val_loss: 0.4960 - val_accuracy: 0.7706\n",
      "Epoch 31/500\n",
      "31770/31770 [==============================] - 1s 24us/step - loss: 0.5296 - accuracy: 0.7405 - val_loss: 0.4898 - val_accuracy: 0.7745\n",
      "Epoch 32/500\n",
      "31770/31770 [==============================] - 1s 24us/step - loss: 0.5296 - accuracy: 0.7403 - val_loss: 0.4921 - val_accuracy: 0.7732\n",
      "Epoch 33/500\n",
      "31770/31770 [==============================] - 1s 24us/step - loss: 0.5292 - accuracy: 0.7407 - val_loss: 0.4761 - val_accuracy: 0.7832\n",
      "Epoch 34/500\n",
      "31770/31770 [==============================] - 1s 23us/step - loss: 0.5293 - accuracy: 0.7414 - val_loss: 0.5287 - val_accuracy: 0.7446\n",
      "Epoch 35/500\n",
      "31770/31770 [==============================] - 1s 22us/step - loss: 0.5292 - accuracy: 0.7409 - val_loss: 0.5048 - val_accuracy: 0.7621\n",
      "Epoch 36/500\n",
      "31770/31770 [==============================] - 1s 24us/step - loss: 0.5292 - accuracy: 0.7416 - val_loss: 0.5022 - val_accuracy: 0.7646\n",
      "Epoch 37/500\n",
      "31770/31770 [==============================] - 1s 24us/step - loss: 0.5290 - accuracy: 0.7406 - val_loss: 0.5264 - val_accuracy: 0.7447\n",
      "Epoch 38/500\n",
      "31770/31770 [==============================] - 1s 23us/step - loss: 0.5289 - accuracy: 0.7410 - val_loss: 0.4995 - val_accuracy: 0.7668\n",
      "Epoch 39/500\n",
      "31770/31770 [==============================] - 1s 21us/step - loss: 0.5289 - accuracy: 0.7412 - val_loss: 0.4931 - val_accuracy: 0.7719\n",
      "Epoch 40/500\n",
      "31770/31770 [==============================] - 1s 21us/step - loss: 0.5289 - accuracy: 0.7414 - val_loss: 0.4983 - val_accuracy: 0.7675\n",
      "Epoch 41/500\n",
      "31770/31770 [==============================] - 1s 21us/step - loss: 0.5286 - accuracy: 0.7414 - val_loss: 0.5215 - val_accuracy: 0.7481\n",
      "Epoch 42/500\n",
      "31770/31770 [==============================] - 1s 23us/step - loss: 0.5288 - accuracy: 0.7405 - val_loss: 0.4857 - val_accuracy: 0.7752\n",
      "Epoch 43/500\n",
      "31770/31770 [==============================] - 1s 22us/step - loss: 0.5286 - accuracy: 0.7407 - val_loss: 0.5205 - val_accuracy: 0.7487\n",
      "Epoch 44/500\n",
      "31770/31770 [==============================] - 1s 21us/step - loss: 0.5288 - accuracy: 0.7411 - val_loss: 0.4844 - val_accuracy: 0.7754\n",
      "Epoch 45/500\n",
      "31770/31770 [==============================] - 1s 21us/step - loss: 0.5283 - accuracy: 0.7420 - val_loss: 0.4884 - val_accuracy: 0.7732\n",
      "Epoch 46/500\n",
      "31770/31770 [==============================] - 1s 21us/step - loss: 0.5286 - accuracy: 0.7412 - val_loss: 0.5106 - val_accuracy: 0.7557\n",
      "Epoch 47/500\n",
      "31770/31770 [==============================] - 1s 24us/step - loss: 0.5289 - accuracy: 0.7405 - val_loss: 0.5121 - val_accuracy: 0.7545\n",
      "Epoch 48/500\n",
      "31770/31770 [==============================] - 1s 21us/step - loss: 0.5286 - accuracy: 0.7408 - val_loss: 0.4829 - val_accuracy: 0.7754\n",
      "Epoch 49/500\n",
      "31770/31770 [==============================] - 1s 22us/step - loss: 0.5287 - accuracy: 0.7419 - val_loss: 0.4891 - val_accuracy: 0.7725\n",
      "Epoch 50/500\n",
      "31770/31770 [==============================] - 1s 22us/step - loss: 0.5285 - accuracy: 0.7414 - val_loss: 0.4939 - val_accuracy: 0.7686\n",
      "Epoch 51/500\n",
      "31770/31770 [==============================] - 1s 21us/step - loss: 0.5284 - accuracy: 0.7406 - val_loss: 0.4885 - val_accuracy: 0.7723\n",
      "Epoch 52/500\n",
      "31770/31770 [==============================] - 1s 22us/step - loss: 0.5284 - accuracy: 0.7413 - val_loss: 0.4970 - val_accuracy: 0.7664\n",
      "Epoch 53/500\n",
      "31770/31770 [==============================] - 1s 22us/step - loss: 0.5284 - accuracy: 0.7411 - val_loss: 0.4949 - val_accuracy: 0.7677\n",
      "Epoch 54/500\n",
      "31770/31770 [==============================] - 1s 22us/step - loss: 0.5285 - accuracy: 0.7409 - val_loss: 0.5011 - val_accuracy: 0.7639\n",
      "Epoch 55/500\n"
     ]
    },
    {
     "name": "stdout",
     "output_type": "stream",
     "text": [
      "31770/31770 [==============================] - 1s 21us/step - loss: 0.5284 - accuracy: 0.7412 - val_loss: 0.4907 - val_accuracy: 0.7701\n",
      "Epoch 56/500\n",
      "31770/31770 [==============================] - 1s 21us/step - loss: 0.5284 - accuracy: 0.7413 - val_loss: 0.4885 - val_accuracy: 0.7730\n",
      "Epoch 57/500\n",
      "31770/31770 [==============================] - 1s 21us/step - loss: 0.5284 - accuracy: 0.7406 - val_loss: 0.4979 - val_accuracy: 0.7652\n",
      "Epoch 58/500\n",
      "31770/31770 [==============================] - 1s 21us/step - loss: 0.5283 - accuracy: 0.7417 - val_loss: 0.5113 - val_accuracy: 0.7538\n",
      "Epoch 59/500\n",
      "31770/31770 [==============================] - 1s 22us/step - loss: 0.5283 - accuracy: 0.7406 - val_loss: 0.5016 - val_accuracy: 0.7612\n",
      "Epoch 60/500\n",
      "31770/31770 [==============================] - 1s 23us/step - loss: 0.5283 - accuracy: 0.7407 - val_loss: 0.5065 - val_accuracy: 0.7579\n",
      "Epoch 61/500\n",
      "31770/31770 [==============================] - 1s 21us/step - loss: 0.5284 - accuracy: 0.7417 - val_loss: 0.4871 - val_accuracy: 0.7730\n",
      "Epoch 62/500\n",
      "31770/31770 [==============================] - 1s 22us/step - loss: 0.5285 - accuracy: 0.7406 - val_loss: 0.5320 - val_accuracy: 0.7363\n",
      "Epoch 63/500\n",
      "31770/31770 [==============================] - 1s 21us/step - loss: 0.5283 - accuracy: 0.7409 - val_loss: 0.5027 - val_accuracy: 0.7613\n",
      "Epoch 64/500\n",
      "31770/31770 [==============================] - 1s 23us/step - loss: 0.5282 - accuracy: 0.7424 - val_loss: 0.5024 - val_accuracy: 0.7607\n",
      "Epoch 65/500\n",
      "31770/31770 [==============================] - 1s 22us/step - loss: 0.5285 - accuracy: 0.7404 - val_loss: 0.5117 - val_accuracy: 0.7535\n",
      "Epoch 66/500\n",
      "31770/31770 [==============================] - 1s 21us/step - loss: 0.5284 - accuracy: 0.7409 - val_loss: 0.4972 - val_accuracy: 0.7655\n",
      "Epoch 67/500\n",
      "31770/31770 [==============================] - 1s 22us/step - loss: 0.5282 - accuracy: 0.7413 - val_loss: 0.5215 - val_accuracy: 0.7453\n",
      "Epoch 68/500\n",
      "31770/31770 [==============================] - 1s 23us/step - loss: 0.5284 - accuracy: 0.7413 - val_loss: 0.4920 - val_accuracy: 0.7685\n",
      "Epoch 69/500\n",
      "31770/31770 [==============================] - 1s 21us/step - loss: 0.5285 - accuracy: 0.7418 - val_loss: 0.4987 - val_accuracy: 0.7631\n",
      "Epoch 70/500\n",
      "31770/31770 [==============================] - 1s 21us/step - loss: 0.5285 - accuracy: 0.7410 - val_loss: 0.4886 - val_accuracy: 0.7725\n",
      "Epoch 71/500\n",
      "31770/31770 [==============================] - 1s 22us/step - loss: 0.5280 - accuracy: 0.7419 - val_loss: 0.5103 - val_accuracy: 0.7538\n",
      "Epoch 72/500\n",
      "31770/31770 [==============================] - 1s 21us/step - loss: 0.5281 - accuracy: 0.7404 - val_loss: 0.4736 - val_accuracy: 0.7824\n",
      "Epoch 73/500\n",
      "31770/31770 [==============================] - 1s 21us/step - loss: 0.5284 - accuracy: 0.7405 - val_loss: 0.4951 - val_accuracy: 0.7665\n",
      "Epoch 74/500\n",
      "31770/31770 [==============================] - 1s 22us/step - loss: 0.5283 - accuracy: 0.7406 - val_loss: 0.4861 - val_accuracy: 0.7735\n",
      "Epoch 75/500\n",
      "31770/31770 [==============================] - 1s 21us/step - loss: 0.5284 - accuracy: 0.7415 - val_loss: 0.4931 - val_accuracy: 0.7677\n",
      "Epoch 76/500\n",
      "31770/31770 [==============================] - 1s 22us/step - loss: 0.5281 - accuracy: 0.7412 - val_loss: 0.4884 - val_accuracy: 0.7716\n",
      "Epoch 77/500\n",
      "31770/31770 [==============================] - 1s 22us/step - loss: 0.5283 - accuracy: 0.7414 - val_loss: 0.5001 - val_accuracy: 0.7624\n",
      "Epoch 78/500\n",
      "31770/31770 [==============================] - 1s 22us/step - loss: 0.5281 - accuracy: 0.7411 - val_loss: 0.5025 - val_accuracy: 0.7619\n",
      "Epoch 79/500\n",
      "31770/31770 [==============================] - 1s 22us/step - loss: 0.5282 - accuracy: 0.7410 - val_loss: 0.5054 - val_accuracy: 0.7581\n",
      "Epoch 80/500\n",
      "31770/31770 [==============================] - 1s 21us/step - loss: 0.5282 - accuracy: 0.7411 - val_loss: 0.4839 - val_accuracy: 0.7751\n",
      "Epoch 81/500\n",
      "31770/31770 [==============================] - 1s 21us/step - loss: 0.5282 - accuracy: 0.7416 - val_loss: 0.4848 - val_accuracy: 0.7743\n",
      "Epoch 82/500\n",
      "31770/31770 [==============================] - 1s 21us/step - loss: 0.5281 - accuracy: 0.7411 - val_loss: 0.4951 - val_accuracy: 0.7662\n",
      "Epoch 83/500\n",
      "31770/31770 [==============================] - 1s 23us/step - loss: 0.5280 - accuracy: 0.7402 - val_loss: 0.5122 - val_accuracy: 0.7526\n",
      "Epoch 84/500\n",
      "31770/31770 [==============================] - 1s 22us/step - loss: 0.5279 - accuracy: 0.7415 - val_loss: 0.5358 - val_accuracy: 0.7326\n",
      "Epoch 85/500\n",
      "31770/31770 [==============================] - 1s 22us/step - loss: 0.5284 - accuracy: 0.7415 - val_loss: 0.4864 - val_accuracy: 0.7736\n",
      "Epoch 86/500\n",
      "31770/31770 [==============================] - 1s 22us/step - loss: 0.5282 - accuracy: 0.7407 - val_loss: 0.5033 - val_accuracy: 0.7596\n",
      "Epoch 87/500\n",
      "31770/31770 [==============================] - 1s 24us/step - loss: 0.5281 - accuracy: 0.7410 - val_loss: 0.4834 - val_accuracy: 0.7753\n",
      "Epoch 88/500\n",
      "31770/31770 [==============================] - 1s 22us/step - loss: 0.5281 - accuracy: 0.7408 - val_loss: 0.4959 - val_accuracy: 0.7658\n",
      "Epoch 89/500\n",
      "31770/31770 [==============================] - 1s 22us/step - loss: 0.5283 - accuracy: 0.7410 - val_loss: 0.4876 - val_accuracy: 0.7725\n",
      "Epoch 90/500\n",
      "31770/31770 [==============================] - 1s 22us/step - loss: 0.5282 - accuracy: 0.7410 - val_loss: 0.5160 - val_accuracy: 0.7492\n",
      "Epoch 91/500\n",
      "31770/31770 [==============================] - 1s 22us/step - loss: 0.5283 - accuracy: 0.7413 - val_loss: 0.4923 - val_accuracy: 0.7683\n",
      "Epoch 92/500\n",
      "31770/31770 [==============================] - 1s 22us/step - loss: 0.5283 - accuracy: 0.7416 - val_loss: 0.4823 - val_accuracy: 0.7758\n",
      "Epoch 93/500\n",
      "31770/31770 [==============================] - 1s 26us/step - loss: 0.5281 - accuracy: 0.7415 - val_loss: 0.4902 - val_accuracy: 0.7704\n",
      "Epoch 94/500\n",
      "31770/31770 [==============================] - 1s 23us/step - loss: 0.5280 - accuracy: 0.7418 - val_loss: 0.4754 - val_accuracy: 0.7802\n",
      "Epoch 95/500\n",
      "31770/31770 [==============================] - 1s 23us/step - loss: 0.5281 - accuracy: 0.7409 - val_loss: 0.5022 - val_accuracy: 0.7616\n",
      "Epoch 96/500\n",
      "31770/31770 [==============================] - 1s 24us/step - loss: 0.5279 - accuracy: 0.7414 - val_loss: 0.4983 - val_accuracy: 0.7645\n",
      "Epoch 97/500\n",
      "31770/31770 [==============================] - 1s 23us/step - loss: 0.5282 - accuracy: 0.7405 - val_loss: 0.4837 - val_accuracy: 0.7766\n",
      "Epoch 98/500\n",
      "31770/31770 [==============================] - 1s 22us/step - loss: 0.5281 - accuracy: 0.7423 - val_loss: 0.4846 - val_accuracy: 0.7751\n",
      "Epoch 99/500\n",
      "31770/31770 [==============================] - 1s 22us/step - loss: 0.5281 - accuracy: 0.7410 - val_loss: 0.4915 - val_accuracy: 0.7696\n",
      "Epoch 100/500\n",
      "31770/31770 [==============================] - 1s 21us/step - loss: 0.5280 - accuracy: 0.7404 - val_loss: 0.5202 - val_accuracy: 0.7474\n",
      "Epoch 101/500\n",
      "31770/31770 [==============================] - 1s 21us/step - loss: 0.5282 - accuracy: 0.7411 - val_loss: 0.5140 - val_accuracy: 0.7536\n",
      "Epoch 102/500\n",
      "31770/31770 [==============================] - 1s 21us/step - loss: 0.5280 - accuracy: 0.7416 - val_loss: 0.4797 - val_accuracy: 0.7785\n",
      "Epoch 103/500\n",
      "31770/31770 [==============================] - 1s 21us/step - loss: 0.5282 - accuracy: 0.7415 - val_loss: 0.4792 - val_accuracy: 0.7795\n",
      "Epoch 104/500\n",
      "31770/31770 [==============================] - 1s 21us/step - loss: 0.5280 - accuracy: 0.7413 - val_loss: 0.4991 - val_accuracy: 0.7655\n",
      "Epoch 105/500\n",
      "31770/31770 [==============================] - 1s 23us/step - loss: 0.5280 - accuracy: 0.7413 - val_loss: 0.4973 - val_accuracy: 0.7665\n",
      "Epoch 106/500\n",
      "31770/31770 [==============================] - 1s 22us/step - loss: 0.5282 - accuracy: 0.7413 - val_loss: 0.4889 - val_accuracy: 0.7749\n",
      "Epoch 107/500\n",
      "31770/31770 [==============================] - 1s 21us/step - loss: 0.5280 - accuracy: 0.7415 - val_loss: 0.5008 - val_accuracy: 0.7663\n",
      "Epoch 108/500\n",
      "31770/31770 [==============================] - 1s 21us/step - loss: 0.5281 - accuracy: 0.7412 - val_loss: 0.4857 - val_accuracy: 0.7781\n",
      "Epoch 109/500\n",
      "31770/31770 [==============================] - 1s 21us/step - loss: 0.5279 - accuracy: 0.7419 - val_loss: 0.4942 - val_accuracy: 0.7705\n",
      "Epoch 110/500\n"
     ]
    },
    {
     "name": "stdout",
     "output_type": "stream",
     "text": [
      "31770/31770 [==============================] - 1s 21us/step - loss: 0.5279 - accuracy: 0.7414 - val_loss: 0.4983 - val_accuracy: 0.7673\n",
      "Epoch 111/500\n",
      "31770/31770 [==============================] - 1s 21us/step - loss: 0.5277 - accuracy: 0.7420 - val_loss: 0.4895 - val_accuracy: 0.7730\n",
      "Epoch 112/500\n",
      "31770/31770 [==============================] - 1s 21us/step - loss: 0.5279 - accuracy: 0.7410 - val_loss: 0.5094 - val_accuracy: 0.7610\n",
      "Epoch 113/500\n",
      "31770/31770 [==============================] - 1s 21us/step - loss: 0.5281 - accuracy: 0.7420 - val_loss: 0.4915 - val_accuracy: 0.7732\n",
      "Epoch 114/500\n",
      "31770/31770 [==============================] - 1s 22us/step - loss: 0.5278 - accuracy: 0.7415 - val_loss: 0.4760 - val_accuracy: 0.7813\n",
      "Epoch 115/500\n",
      "31770/31770 [==============================] - 1s 21us/step - loss: 0.5278 - accuracy: 0.7407 - val_loss: 0.4965 - val_accuracy: 0.7701\n",
      "Epoch 116/500\n",
      "31770/31770 [==============================] - 1s 21us/step - loss: 0.5278 - accuracy: 0.7422 - val_loss: 0.4939 - val_accuracy: 0.7730\n",
      "Epoch 117/500\n",
      "31770/31770 [==============================] - 1s 21us/step - loss: 0.5279 - accuracy: 0.7419 - val_loss: 0.4992 - val_accuracy: 0.7680\n",
      "Epoch 118/500\n",
      "31770/31770 [==============================] - 1s 25us/step - loss: 0.5278 - accuracy: 0.7414 - val_loss: 0.4858 - val_accuracy: 0.7796\n",
      "Epoch 119/500\n",
      "31770/31770 [==============================] - 1s 30us/step - loss: 0.5281 - accuracy: 0.7415 - val_loss: 0.5171 - val_accuracy: 0.7574\n",
      "Epoch 120/500\n",
      "31770/31770 [==============================] - 1s 28us/step - loss: 0.5277 - accuracy: 0.7420 - val_loss: 0.5046 - val_accuracy: 0.7663\n",
      "Epoch 121/500\n",
      "31770/31770 [==============================] - 1s 24us/step - loss: 0.5278 - accuracy: 0.7423 - val_loss: 0.5004 - val_accuracy: 0.7680\n",
      "Epoch 122/500\n",
      "31770/31770 [==============================] - 1s 24us/step - loss: 0.5278 - accuracy: 0.7419 - val_loss: 0.4749 - val_accuracy: 0.7829\n",
      "Epoch 123/500\n",
      "31770/31770 [==============================] - 1s 22us/step - loss: 0.5279 - accuracy: 0.7418 - val_loss: 0.5297 - val_accuracy: 0.7471\n",
      "Epoch 124/500\n",
      "31770/31770 [==============================] - 1s 21us/step - loss: 0.5279 - accuracy: 0.7421 - val_loss: 0.5067 - val_accuracy: 0.7629\n",
      "Epoch 125/500\n",
      "31770/31770 [==============================] - 1s 22us/step - loss: 0.5278 - accuracy: 0.7413 - val_loss: 0.4771 - val_accuracy: 0.7833\n",
      "Epoch 126/500\n",
      "31770/31770 [==============================] - 1s 24us/step - loss: 0.5280 - accuracy: 0.7424 - val_loss: 0.4923 - val_accuracy: 0.7754\n",
      "Epoch 127/500\n",
      "31770/31770 [==============================] - 1s 22us/step - loss: 0.5278 - accuracy: 0.7415 - val_loss: 0.4983 - val_accuracy: 0.7699\n",
      "Epoch 128/500\n",
      "31770/31770 [==============================] - 1s 21us/step - loss: 0.5278 - accuracy: 0.7409 - val_loss: 0.4799 - val_accuracy: 0.7800\n",
      "Epoch 129/500\n",
      "31770/31770 [==============================] - 1s 21us/step - loss: 0.5278 - accuracy: 0.7425 - val_loss: 0.5086 - val_accuracy: 0.7628\n",
      "Epoch 130/500\n",
      "31770/31770 [==============================] - 1s 22us/step - loss: 0.5278 - accuracy: 0.7411 - val_loss: 0.4760 - val_accuracy: 0.7823\n",
      "Epoch 131/500\n",
      "31770/31770 [==============================] - 1s 22us/step - loss: 0.5278 - accuracy: 0.7409 - val_loss: 0.5023 - val_accuracy: 0.7668\n",
      "Epoch 132/500\n",
      "31770/31770 [==============================] - 1s 24us/step - loss: 0.5280 - accuracy: 0.7416 - val_loss: 0.4977 - val_accuracy: 0.7699\n",
      "Epoch 133/500\n",
      "31770/31770 [==============================] - 1s 21us/step - loss: 0.5281 - accuracy: 0.7425 - val_loss: 0.4873 - val_accuracy: 0.7765\n",
      "Epoch 134/500\n",
      "31770/31770 [==============================] - 1s 22us/step - loss: 0.5278 - accuracy: 0.7416 - val_loss: 0.5094 - val_accuracy: 0.7636\n",
      "Epoch 135/500\n",
      "31770/31770 [==============================] - 1s 23us/step - loss: 0.5278 - accuracy: 0.7416 - val_loss: 0.5249 - val_accuracy: 0.7516\n",
      "Epoch 136/500\n",
      "31770/31770 [==============================] - 1s 23us/step - loss: 0.5277 - accuracy: 0.7419 - val_loss: 0.4942 - val_accuracy: 0.7736\n",
      "Epoch 137/500\n",
      "31770/31770 [==============================] - 1s 23us/step - loss: 0.5278 - accuracy: 0.7417 - val_loss: 0.4862 - val_accuracy: 0.7779\n",
      "Epoch 138/500\n",
      "31770/31770 [==============================] - 1s 22us/step - loss: 0.5277 - accuracy: 0.7422 - val_loss: 0.4851 - val_accuracy: 0.7771\n",
      "Epoch 139/500\n",
      "31770/31770 [==============================] - 1s 24us/step - loss: 0.5279 - accuracy: 0.7417 - val_loss: 0.4938 - val_accuracy: 0.7735\n",
      "Epoch 140/500\n",
      "31770/31770 [==============================] - 1s 23us/step - loss: 0.5277 - accuracy: 0.7411 - val_loss: 0.4817 - val_accuracy: 0.7793\n",
      "Epoch 141/500\n",
      "31770/31770 [==============================] - 1s 21us/step - loss: 0.5277 - accuracy: 0.7425 - val_loss: 0.5040 - val_accuracy: 0.7665\n",
      "Epoch 142/500\n",
      "31770/31770 [==============================] - 1s 22us/step - loss: 0.5277 - accuracy: 0.7420 - val_loss: 0.5152 - val_accuracy: 0.7588\n",
      "Epoch 143/500\n",
      "31770/31770 [==============================] - 1s 21us/step - loss: 0.5278 - accuracy: 0.7422 - val_loss: 0.4977 - val_accuracy: 0.7699\n",
      "Epoch 144/500\n",
      "31770/31770 [==============================] - 1s 22us/step - loss: 0.5275 - accuracy: 0.7416 - val_loss: 0.5053 - val_accuracy: 0.7660\n",
      "Epoch 145/500\n",
      "31770/31770 [==============================] - 1s 21us/step - loss: 0.5276 - accuracy: 0.7424 - val_loss: 0.4847 - val_accuracy: 0.7784\n",
      "Epoch 146/500\n",
      "31770/31770 [==============================] - 1s 21us/step - loss: 0.5278 - accuracy: 0.7425 - val_loss: 0.4958 - val_accuracy: 0.7728\n",
      "Epoch 147/500\n",
      "31770/31770 [==============================] - 1s 22us/step - loss: 0.5277 - accuracy: 0.7418 - val_loss: 0.4818 - val_accuracy: 0.7791\n",
      "Epoch 148/500\n",
      "31770/31770 [==============================] - 1s 22us/step - loss: 0.5276 - accuracy: 0.7421 - val_loss: 0.4873 - val_accuracy: 0.7770\n",
      "Epoch 149/500\n",
      "31770/31770 [==============================] - 1s 22us/step - loss: 0.5279 - accuracy: 0.7416 - val_loss: 0.5102 - val_accuracy: 0.7620\n",
      "Epoch 150/500\n",
      "31770/31770 [==============================] - 1s 22us/step - loss: 0.5275 - accuracy: 0.7408 - val_loss: 0.5056 - val_accuracy: 0.7646\n",
      "Epoch 151/500\n",
      "31770/31770 [==============================] - 1s 22us/step - loss: 0.5277 - accuracy: 0.7416 - val_loss: 0.4919 - val_accuracy: 0.7739\n",
      "Epoch 152/500\n",
      "31770/31770 [==============================] - 1s 22us/step - loss: 0.5278 - accuracy: 0.7418 - val_loss: 0.5032 - val_accuracy: 0.7672\n",
      "Epoch 153/500\n",
      "31770/31770 [==============================] - 1s 21us/step - loss: 0.5276 - accuracy: 0.7424 - val_loss: 0.4809 - val_accuracy: 0.7798\n",
      "Epoch 154/500\n",
      "31770/31770 [==============================] - 1s 21us/step - loss: 0.5278 - accuracy: 0.7407 - val_loss: 0.5037 - val_accuracy: 0.7666\n",
      "Epoch 155/500\n",
      "31770/31770 [==============================] - 1s 21us/step - loss: 0.5275 - accuracy: 0.7421 - val_loss: 0.5074 - val_accuracy: 0.7635\n",
      "Epoch 156/500\n",
      "31770/31770 [==============================] - 1s 21us/step - loss: 0.5279 - accuracy: 0.7416 - val_loss: 0.5132 - val_accuracy: 0.7610\n",
      "Epoch 157/500\n",
      "31770/31770 [==============================] - 1s 22us/step - loss: 0.5277 - accuracy: 0.7420 - val_loss: 0.5054 - val_accuracy: 0.7647\n",
      "Epoch 158/500\n",
      "31770/31770 [==============================] - 1s 23us/step - loss: 0.5278 - accuracy: 0.7418 - val_loss: 0.5031 - val_accuracy: 0.7662\n",
      "Epoch 159/500\n",
      "31770/31770 [==============================] - 1s 25us/step - loss: 0.5275 - accuracy: 0.7422 - val_loss: 0.4973 - val_accuracy: 0.7711\n",
      "Epoch 160/500\n",
      "31770/31770 [==============================] - 1s 24us/step - loss: 0.5274 - accuracy: 0.7428 - val_loss: 0.5122 - val_accuracy: 0.7609\n",
      "Epoch 161/500\n",
      "31770/31770 [==============================] - 1s 23us/step - loss: 0.5277 - accuracy: 0.7419 - val_loss: 0.4917 - val_accuracy: 0.7752\n",
      "Epoch 162/500\n",
      "31770/31770 [==============================] - 1s 22us/step - loss: 0.5274 - accuracy: 0.7428 - val_loss: 0.5297 - val_accuracy: 0.7456\n",
      "Epoch 163/500\n",
      "31770/31770 [==============================] - 1s 22us/step - loss: 0.5277 - accuracy: 0.7424 - val_loss: 0.5260 - val_accuracy: 0.7507\n",
      "Epoch 164/500\n",
      "31770/31770 [==============================] - 1s 24us/step - loss: 0.5277 - accuracy: 0.7422 - val_loss: 0.4986 - val_accuracy: 0.7706\n"
     ]
    },
    {
     "name": "stdout",
     "output_type": "stream",
     "text": [
      "Epoch 165/500\n",
      "31770/31770 [==============================] - 1s 24us/step - loss: 0.5280 - accuracy: 0.7414 - val_loss: 0.5036 - val_accuracy: 0.7668\n",
      "Epoch 166/500\n",
      "31770/31770 [==============================] - 1s 24us/step - loss: 0.5278 - accuracy: 0.7415 - val_loss: 0.4973 - val_accuracy: 0.7711\n",
      "Epoch 167/500\n",
      "31770/31770 [==============================] - 1s 25us/step - loss: 0.5276 - accuracy: 0.7415 - val_loss: 0.4761 - val_accuracy: 0.7831\n",
      "Epoch 168/500\n",
      "31770/31770 [==============================] - 1s 24us/step - loss: 0.5277 - accuracy: 0.7429 - val_loss: 0.4808 - val_accuracy: 0.7799\n",
      "Epoch 169/500\n",
      "31770/31770 [==============================] - 1s 23us/step - loss: 0.5277 - accuracy: 0.7428 - val_loss: 0.5059 - val_accuracy: 0.7650\n",
      "Epoch 170/500\n",
      "31770/31770 [==============================] - 1s 22us/step - loss: 0.5275 - accuracy: 0.7415 - val_loss: 0.5070 - val_accuracy: 0.7645\n",
      "Epoch 171/500\n",
      "31770/31770 [==============================] - 1s 23us/step - loss: 0.5276 - accuracy: 0.7415 - val_loss: 0.5065 - val_accuracy: 0.7652\n",
      "Epoch 172/500\n",
      "31770/31770 [==============================] - 1s 23us/step - loss: 0.5277 - accuracy: 0.7420 - val_loss: 0.5247 - val_accuracy: 0.7506\n",
      "Epoch 173/500\n",
      "31770/31770 [==============================] - 1s 22us/step - loss: 0.5276 - accuracy: 0.7423 - val_loss: 0.5276 - val_accuracy: 0.7489\n",
      "Epoch 174/500\n",
      "31770/31770 [==============================] - 1s 21us/step - loss: 0.5276 - accuracy: 0.7421 - val_loss: 0.5067 - val_accuracy: 0.7637\n",
      "Epoch 175/500\n",
      "31770/31770 [==============================] - 1s 22us/step - loss: 0.5278 - accuracy: 0.7425 - val_loss: 0.4984 - val_accuracy: 0.7718\n",
      "Epoch 176/500\n",
      "31770/31770 [==============================] - 1s 22us/step - loss: 0.5277 - accuracy: 0.7417 - val_loss: 0.5216 - val_accuracy: 0.7543\n",
      "Epoch 177/500\n",
      "31770/31770 [==============================] - 1s 25us/step - loss: 0.5275 - accuracy: 0.7424 - val_loss: 0.4933 - val_accuracy: 0.7745\n",
      "Epoch 178/500\n",
      "31770/31770 [==============================] - 1s 24us/step - loss: 0.5278 - accuracy: 0.7419 - val_loss: 0.4992 - val_accuracy: 0.7692\n",
      "Epoch 179/500\n",
      "31770/31770 [==============================] - 1s 24us/step - loss: 0.5275 - accuracy: 0.7416 - val_loss: 0.4862 - val_accuracy: 0.7775\n",
      "Epoch 180/500\n",
      "31770/31770 [==============================] - 1s 23us/step - loss: 0.5275 - accuracy: 0.7422 - val_loss: 0.5041 - val_accuracy: 0.7656\n",
      "Epoch 181/500\n",
      "31770/31770 [==============================] - 1s 24us/step - loss: 0.5273 - accuracy: 0.7423 - val_loss: 0.4895 - val_accuracy: 0.7749\n",
      "Epoch 182/500\n",
      "31770/31770 [==============================] - 1s 26us/step - loss: 0.5275 - accuracy: 0.7420 - val_loss: 0.4817 - val_accuracy: 0.7791\n",
      "Epoch 183/500\n",
      "31770/31770 [==============================] - 1s 24us/step - loss: 0.5278 - accuracy: 0.7415 - val_loss: 0.4883 - val_accuracy: 0.7768\n",
      "Epoch 184/500\n",
      "31770/31770 [==============================] - 1s 24us/step - loss: 0.5275 - accuracy: 0.7432 - val_loss: 0.4754 - val_accuracy: 0.7833\n",
      "Epoch 185/500\n",
      "31770/31770 [==============================] - 1s 23us/step - loss: 0.5278 - accuracy: 0.7421 - val_loss: 0.4871 - val_accuracy: 0.7780\n",
      "Epoch 186/500\n",
      "31770/31770 [==============================] - 1s 23us/step - loss: 0.5277 - accuracy: 0.7437 - val_loss: 0.4927 - val_accuracy: 0.7747\n",
      "Epoch 187/500\n",
      "31770/31770 [==============================] - 1s 22us/step - loss: 0.5275 - accuracy: 0.7418 - val_loss: 0.4992 - val_accuracy: 0.7700\n",
      "Epoch 188/500\n",
      "31770/31770 [==============================] - 1s 22us/step - loss: 0.5277 - accuracy: 0.7412 - val_loss: 0.5041 - val_accuracy: 0.7667\n",
      "Epoch 189/500\n",
      "31770/31770 [==============================] - 1s 22us/step - loss: 0.5275 - accuracy: 0.7416 - val_loss: 0.4874 - val_accuracy: 0.7773\n",
      "Epoch 190/500\n",
      "31770/31770 [==============================] - 1s 22us/step - loss: 0.5275 - accuracy: 0.7425 - val_loss: 0.4820 - val_accuracy: 0.7791\n",
      "Epoch 191/500\n",
      "31770/31770 [==============================] - 1s 22us/step - loss: 0.5276 - accuracy: 0.7417 - val_loss: 0.5117 - val_accuracy: 0.7619\n",
      "Epoch 192/500\n",
      "31770/31770 [==============================] - 1s 24us/step - loss: 0.5277 - accuracy: 0.7423 - val_loss: 0.4965 - val_accuracy: 0.7714\n",
      "Epoch 193/500\n",
      "31770/31770 [==============================] - 1s 23us/step - loss: 0.5275 - accuracy: 0.7422 - val_loss: 0.4952 - val_accuracy: 0.7740\n",
      "Epoch 194/500\n",
      "31770/31770 [==============================] - 1s 24us/step - loss: 0.5277 - accuracy: 0.7427 - val_loss: 0.5022 - val_accuracy: 0.7669\n",
      "Epoch 195/500\n",
      "31770/31770 [==============================] - 1s 29us/step - loss: 0.5274 - accuracy: 0.7425 - val_loss: 0.5092 - val_accuracy: 0.7635\n",
      "Epoch 196/500\n",
      "31770/31770 [==============================] - 1s 26us/step - loss: 0.5274 - accuracy: 0.7420 - val_loss: 0.5042 - val_accuracy: 0.7648\n",
      "Epoch 197/500\n",
      "31770/31770 [==============================] - 1s 25us/step - loss: 0.5276 - accuracy: 0.7419 - val_loss: 0.4896 - val_accuracy: 0.7752\n",
      "Epoch 198/500\n",
      "31770/31770 [==============================] - 1s 24us/step - loss: 0.5275 - accuracy: 0.7421 - val_loss: 0.4832 - val_accuracy: 0.7783\n",
      "Epoch 199/500\n",
      "31770/31770 [==============================] - 1s 21us/step - loss: 0.5276 - accuracy: 0.7419 - val_loss: 0.4862 - val_accuracy: 0.7761\n",
      "Epoch 200/500\n",
      "31770/31770 [==============================] - 1s 25us/step - loss: 0.5275 - accuracy: 0.7424 - val_loss: 0.4965 - val_accuracy: 0.7722\n",
      "Epoch 201/500\n",
      "31770/31770 [==============================] - 1s 23us/step - loss: 0.5275 - accuracy: 0.7411 - val_loss: 0.4804 - val_accuracy: 0.7790\n",
      "Epoch 202/500\n",
      "31770/31770 [==============================] - 1s 22us/step - loss: 0.5273 - accuracy: 0.7421 - val_loss: 0.4827 - val_accuracy: 0.7787\n",
      "Epoch 203/500\n",
      "31770/31770 [==============================] - 1s 21us/step - loss: 0.5276 - accuracy: 0.7420 - val_loss: 0.5183 - val_accuracy: 0.7578\n",
      "Epoch 204/500\n",
      "31770/31770 [==============================] - 1s 22us/step - loss: 0.5275 - accuracy: 0.7415 - val_loss: 0.5026 - val_accuracy: 0.7676\n",
      "Epoch 205/500\n",
      "31770/31770 [==============================] - 1s 21us/step - loss: 0.5274 - accuracy: 0.7424 - val_loss: 0.4869 - val_accuracy: 0.7767\n",
      "Epoch 206/500\n",
      "31770/31770 [==============================] - 1s 23us/step - loss: 0.5273 - accuracy: 0.7407 - val_loss: 0.4879 - val_accuracy: 0.7751\n",
      "Epoch 207/500\n",
      "31770/31770 [==============================] - 1s 22us/step - loss: 0.5273 - accuracy: 0.7408 - val_loss: 0.4931 - val_accuracy: 0.7725\n",
      "Epoch 208/500\n",
      "31770/31770 [==============================] - 1s 22us/step - loss: 0.5275 - accuracy: 0.7425 - val_loss: 0.5086 - val_accuracy: 0.7627\n",
      "Epoch 209/500\n",
      "31770/31770 [==============================] - 1s 21us/step - loss: 0.5274 - accuracy: 0.7421 - val_loss: 0.5117 - val_accuracy: 0.7606\n",
      "Epoch 210/500\n",
      "31770/31770 [==============================] - 1s 23us/step - loss: 0.5275 - accuracy: 0.7422 - val_loss: 0.4978 - val_accuracy: 0.7713\n",
      "Epoch 211/500\n",
      "31770/31770 [==============================] - 1s 21us/step - loss: 0.5273 - accuracy: 0.7430 - val_loss: 0.5121 - val_accuracy: 0.7602\n",
      "Epoch 212/500\n",
      "31770/31770 [==============================] - 1s 22us/step - loss: 0.5272 - accuracy: 0.7421 - val_loss: 0.4861 - val_accuracy: 0.7762\n",
      "Epoch 213/500\n",
      "31770/31770 [==============================] - 1s 21us/step - loss: 0.5274 - accuracy: 0.7415 - val_loss: 0.4885 - val_accuracy: 0.7753\n",
      "Epoch 214/500\n",
      "31770/31770 [==============================] - 1s 23us/step - loss: 0.5276 - accuracy: 0.7408 - val_loss: 0.5121 - val_accuracy: 0.7603\n",
      "Epoch 215/500\n",
      "31770/31770 [==============================] - 1s 25us/step - loss: 0.5275 - accuracy: 0.7422 - val_loss: 0.5220 - val_accuracy: 0.7548\n",
      "Epoch 216/500\n",
      "31770/31770 [==============================] - 1s 24us/step - loss: 0.5274 - accuracy: 0.7422 - val_loss: 0.4911 - val_accuracy: 0.7740\n",
      "Epoch 217/500\n",
      "31770/31770 [==============================] - 1s 23us/step - loss: 0.5274 - accuracy: 0.7421 - val_loss: 0.4867 - val_accuracy: 0.7773\n",
      "Epoch 218/500\n",
      "31770/31770 [==============================] - 1s 24us/step - loss: 0.5274 - accuracy: 0.7415 - val_loss: 0.4838 - val_accuracy: 0.7773\n",
      "Epoch 219/500\n"
     ]
    },
    {
     "name": "stdout",
     "output_type": "stream",
     "text": [
      "31770/31770 [==============================] - 1s 23us/step - loss: 0.5273 - accuracy: 0.7419 - val_loss: 0.4986 - val_accuracy: 0.7706\n",
      "Epoch 220/500\n",
      "31770/31770 [==============================] - 1s 22us/step - loss: 0.5273 - accuracy: 0.7425 - val_loss: 0.4932 - val_accuracy: 0.7736\n",
      "Epoch 221/500\n",
      "31770/31770 [==============================] - 1s 25us/step - loss: 0.5274 - accuracy: 0.7431 - val_loss: 0.4818 - val_accuracy: 0.7787\n",
      "Epoch 222/500\n",
      "31770/31770 [==============================] - 1s 25us/step - loss: 0.5272 - accuracy: 0.7423 - val_loss: 0.4970 - val_accuracy: 0.7718\n",
      "Epoch 223/500\n",
      "31770/31770 [==============================] - 1s 26us/step - loss: 0.5274 - accuracy: 0.7418 - val_loss: 0.4843 - val_accuracy: 0.7781\n",
      "Epoch 224/500\n",
      "31770/31770 [==============================] - 1s 27us/step - loss: 0.5271 - accuracy: 0.7418 - val_loss: 0.5171 - val_accuracy: 0.7564\n",
      "Epoch 225/500\n",
      "31770/31770 [==============================] - 1s 22us/step - loss: 0.5273 - accuracy: 0.7421 - val_loss: 0.4961 - val_accuracy: 0.7720\n",
      "Epoch 226/500\n",
      "31770/31770 [==============================] - 1s 22us/step - loss: 0.5274 - accuracy: 0.7423 - val_loss: 0.5042 - val_accuracy: 0.7677\n",
      "Epoch 227/500\n",
      "31770/31770 [==============================] - 1s 24us/step - loss: 0.5271 - accuracy: 0.7421 - val_loss: 0.5100 - val_accuracy: 0.7629\n",
      "Epoch 228/500\n",
      "31770/31770 [==============================] - 1s 24us/step - loss: 0.5273 - accuracy: 0.7420 - val_loss: 0.5124 - val_accuracy: 0.7603\n",
      "Epoch 229/500\n",
      "31770/31770 [==============================] - 1s 22us/step - loss: 0.5269 - accuracy: 0.7425 - val_loss: 0.5008 - val_accuracy: 0.7689\n",
      "Epoch 230/500\n",
      "31770/31770 [==============================] - 1s 22us/step - loss: 0.5273 - accuracy: 0.7423 - val_loss: 0.5013 - val_accuracy: 0.7680\n",
      "Epoch 231/500\n",
      "31770/31770 [==============================] - 1s 22us/step - loss: 0.5272 - accuracy: 0.7415 - val_loss: 0.4980 - val_accuracy: 0.7703\n",
      "Epoch 232/500\n",
      "31770/31770 [==============================] - 1s 23us/step - loss: 0.5271 - accuracy: 0.7412 - val_loss: 0.5006 - val_accuracy: 0.7684\n",
      "Epoch 233/500\n",
      "31770/31770 [==============================] - 1s 23us/step - loss: 0.5271 - accuracy: 0.7420 - val_loss: 0.5207 - val_accuracy: 0.7542\n",
      "Epoch 234/500\n",
      "31770/31770 [==============================] - 1s 23us/step - loss: 0.5272 - accuracy: 0.7427 - val_loss: 0.5029 - val_accuracy: 0.7654\n",
      "Epoch 235/500\n",
      "31770/31770 [==============================] - 1s 25us/step - loss: 0.5271 - accuracy: 0.7427 - val_loss: 0.5089 - val_accuracy: 0.7636\n",
      "Epoch 236/500\n",
      "31770/31770 [==============================] - 1s 22us/step - loss: 0.5270 - accuracy: 0.7428 - val_loss: 0.5032 - val_accuracy: 0.7696\n",
      "Epoch 237/500\n",
      "31770/31770 [==============================] - 1s 23us/step - loss: 0.5266 - accuracy: 0.7424 - val_loss: 0.5161 - val_accuracy: 0.7577\n",
      "Epoch 238/500\n",
      "31770/31770 [==============================] - 1s 22us/step - loss: 0.5271 - accuracy: 0.7420 - val_loss: 0.4850 - val_accuracy: 0.7781\n",
      "Epoch 239/500\n",
      "31770/31770 [==============================] - 1s 23us/step - loss: 0.5271 - accuracy: 0.7427 - val_loss: 0.4871 - val_accuracy: 0.7771\n",
      "Epoch 240/500\n",
      "31770/31770 [==============================] - 1s 23us/step - loss: 0.5271 - accuracy: 0.7423 - val_loss: 0.4919 - val_accuracy: 0.7730\n",
      "Epoch 241/500\n",
      "31770/31770 [==============================] - 1s 23us/step - loss: 0.5273 - accuracy: 0.7416 - val_loss: 0.4913 - val_accuracy: 0.7746\n",
      "Epoch 242/500\n",
      "31770/31770 [==============================] - 1s 22us/step - loss: 0.5269 - accuracy: 0.7433 - val_loss: 0.5068 - val_accuracy: 0.7658\n",
      "Epoch 243/500\n",
      "31770/31770 [==============================] - 1s 23us/step - loss: 0.5270 - accuracy: 0.7426 - val_loss: 0.4876 - val_accuracy: 0.7754\n",
      "Epoch 244/500\n",
      "31770/31770 [==============================] - 1s 23us/step - loss: 0.5270 - accuracy: 0.7424 - val_loss: 0.4807 - val_accuracy: 0.7785\n",
      "Epoch 245/500\n",
      "31770/31770 [==============================] - 1s 22us/step - loss: 0.5271 - accuracy: 0.7425 - val_loss: 0.4959 - val_accuracy: 0.7715\n",
      "Epoch 246/500\n",
      "31770/31770 [==============================] - 1s 22us/step - loss: 0.5269 - accuracy: 0.7428 - val_loss: 0.4862 - val_accuracy: 0.7763\n",
      "Epoch 247/500\n",
      "31770/31770 [==============================] - 1s 21us/step - loss: 0.5271 - accuracy: 0.7420 - val_loss: 0.4950 - val_accuracy: 0.7734\n",
      "Epoch 248/500\n",
      "31770/31770 [==============================] - 1s 21us/step - loss: 0.5269 - accuracy: 0.7419 - val_loss: 0.4869 - val_accuracy: 0.7747\n",
      "Epoch 249/500\n",
      "31770/31770 [==============================] - 1s 21us/step - loss: 0.5270 - accuracy: 0.7417 - val_loss: 0.5211 - val_accuracy: 0.7530\n",
      "Epoch 250/500\n",
      "31770/31770 [==============================] - 1s 21us/step - loss: 0.5270 - accuracy: 0.7416 - val_loss: 0.5203 - val_accuracy: 0.7570\n",
      "Epoch 251/500\n",
      "31770/31770 [==============================] - 1s 22us/step - loss: 0.5268 - accuracy: 0.7429 - val_loss: 0.4856 - val_accuracy: 0.7766\n",
      "Epoch 252/500\n",
      "31770/31770 [==============================] - 1s 27us/step - loss: 0.5272 - accuracy: 0.7434 - val_loss: 0.4879 - val_accuracy: 0.7761\n",
      "Epoch 253/500\n",
      "31770/31770 [==============================] - 1s 27us/step - loss: 0.5272 - accuracy: 0.7420 - val_loss: 0.4894 - val_accuracy: 0.7749\n",
      "Epoch 254/500\n",
      "31770/31770 [==============================] - 1s 23us/step - loss: 0.5268 - accuracy: 0.7415 - val_loss: 0.4959 - val_accuracy: 0.7720\n",
      "Epoch 255/500\n",
      "31770/31770 [==============================] - 1s 27us/step - loss: 0.5268 - accuracy: 0.7430 - val_loss: 0.5071 - val_accuracy: 0.7652\n",
      "Epoch 256/500\n",
      "31770/31770 [==============================] - 1s 24us/step - loss: 0.5267 - accuracy: 0.7422 - val_loss: 0.4927 - val_accuracy: 0.7744\n",
      "Epoch 257/500\n",
      "31770/31770 [==============================] - 1s 22us/step - loss: 0.5271 - accuracy: 0.7410 - val_loss: 0.5020 - val_accuracy: 0.7694\n",
      "Epoch 258/500\n",
      "31770/31770 [==============================] - 1s 23us/step - loss: 0.5270 - accuracy: 0.7419 - val_loss: 0.5130 - val_accuracy: 0.7569\n",
      "Epoch 259/500\n",
      "31770/31770 [==============================] - 1s 23us/step - loss: 0.5269 - accuracy: 0.7423 - val_loss: 0.4893 - val_accuracy: 0.7742\n",
      "Epoch 260/500\n",
      "31770/31770 [==============================] - 1s 22us/step - loss: 0.5269 - accuracy: 0.7413 - val_loss: 0.5063 - val_accuracy: 0.7644\n",
      "Epoch 261/500\n",
      "31770/31770 [==============================] - 1s 22us/step - loss: 0.5269 - accuracy: 0.7417 - val_loss: 0.4904 - val_accuracy: 0.7754\n",
      "Epoch 262/500\n",
      "31770/31770 [==============================] - 1s 23us/step - loss: 0.5271 - accuracy: 0.7427 - val_loss: 0.4935 - val_accuracy: 0.7737\n",
      "Epoch 263/500\n",
      "31770/31770 [==============================] - 1s 24us/step - loss: 0.5268 - accuracy: 0.7422 - val_loss: 0.4911 - val_accuracy: 0.7728\n",
      "Epoch 264/500\n",
      "31770/31770 [==============================] - 1s 25us/step - loss: 0.5267 - accuracy: 0.7414 - val_loss: 0.5104 - val_accuracy: 0.7616\n",
      "Epoch 265/500\n",
      "31770/31770 [==============================] - 1s 28us/step - loss: 0.5270 - accuracy: 0.7416 - val_loss: 0.4947 - val_accuracy: 0.7748\n",
      "Epoch 266/500\n",
      "31770/31770 [==============================] - 1s 25us/step - loss: 0.5268 - accuracy: 0.7421 - val_loss: 0.5060 - val_accuracy: 0.7653\n",
      "Epoch 267/500\n",
      "31770/31770 [==============================] - 1s 21us/step - loss: 0.5268 - accuracy: 0.7418 - val_loss: 0.5078 - val_accuracy: 0.7626\n",
      "Epoch 268/500\n",
      "31770/31770 [==============================] - 1s 21us/step - loss: 0.5270 - accuracy: 0.7427 - val_loss: 0.4916 - val_accuracy: 0.7729\n",
      "Epoch 269/500\n",
      "31770/31770 [==============================] - 1s 21us/step - loss: 0.5268 - accuracy: 0.7420 - val_loss: 0.5161 - val_accuracy: 0.7576\n",
      "Epoch 270/500\n",
      "31770/31770 [==============================] - 1s 21us/step - loss: 0.5268 - accuracy: 0.7428 - val_loss: 0.4941 - val_accuracy: 0.7725\n",
      "Epoch 271/500\n",
      "31770/31770 [==============================] - 1s 21us/step - loss: 0.5271 - accuracy: 0.7421 - val_loss: 0.4936 - val_accuracy: 0.7730\n",
      "Epoch 272/500\n",
      "31770/31770 [==============================] - 1s 22us/step - loss: 0.5269 - accuracy: 0.7423 - val_loss: 0.5070 - val_accuracy: 0.7621\n",
      "Epoch 273/500\n",
      "31770/31770 [==============================] - 1s 21us/step - loss: 0.5269 - accuracy: 0.7438 - val_loss: 0.4845 - val_accuracy: 0.7787\n"
     ]
    },
    {
     "name": "stdout",
     "output_type": "stream",
     "text": [
      "Epoch 274/500\n",
      "31770/31770 [==============================] - 1s 21us/step - loss: 0.5270 - accuracy: 0.7418 - val_loss: 0.4845 - val_accuracy: 0.7773\n",
      "Epoch 275/500\n",
      "31770/31770 [==============================] - 1s 21us/step - loss: 0.5270 - accuracy: 0.7423 - val_loss: 0.4894 - val_accuracy: 0.7751\n",
      "Epoch 276/500\n",
      "31770/31770 [==============================] - 1s 21us/step - loss: 0.5268 - accuracy: 0.7412 - val_loss: 0.5067 - val_accuracy: 0.7627\n",
      "Epoch 277/500\n",
      "31770/31770 [==============================] - 1s 23us/step - loss: 0.5269 - accuracy: 0.7424 - val_loss: 0.5026 - val_accuracy: 0.7668\n",
      "Epoch 278/500\n",
      "31770/31770 [==============================] - 1s 24us/step - loss: 0.5267 - accuracy: 0.7429 - val_loss: 0.4873 - val_accuracy: 0.7769\n",
      "Epoch 279/500\n",
      "31770/31770 [==============================] - 1s 23us/step - loss: 0.5267 - accuracy: 0.7425 - val_loss: 0.4913 - val_accuracy: 0.7761\n",
      "Epoch 280/500\n",
      "31770/31770 [==============================] - 1s 23us/step - loss: 0.5268 - accuracy: 0.7419 - val_loss: 0.5009 - val_accuracy: 0.7669\n",
      "Epoch 281/500\n",
      "31770/31770 [==============================] - 1s 23us/step - loss: 0.5268 - accuracy: 0.7418 - val_loss: 0.4793 - val_accuracy: 0.7809\n",
      "Epoch 282/500\n",
      "31770/31770 [==============================] - 1s 21us/step - loss: 0.5266 - accuracy: 0.7427 - val_loss: 0.4887 - val_accuracy: 0.7730\n",
      "Epoch 283/500\n",
      "31770/31770 [==============================] - 1s 22us/step - loss: 0.5269 - accuracy: 0.7423 - val_loss: 0.4879 - val_accuracy: 0.7754\n",
      "Epoch 284/500\n",
      "31770/31770 [==============================] - 1s 21us/step - loss: 0.5267 - accuracy: 0.7422 - val_loss: 0.4899 - val_accuracy: 0.7756\n",
      "Epoch 285/500\n",
      "31770/31770 [==============================] - 1s 22us/step - loss: 0.5270 - accuracy: 0.7421 - val_loss: 0.4903 - val_accuracy: 0.7745\n",
      "Epoch 286/500\n",
      "31770/31770 [==============================] - 1s 21us/step - loss: 0.5269 - accuracy: 0.7421 - val_loss: 0.4846 - val_accuracy: 0.7785\n",
      "Epoch 287/500\n",
      "31770/31770 [==============================] - 1s 21us/step - loss: 0.5269 - accuracy: 0.7422 - val_loss: 0.4912 - val_accuracy: 0.7761\n",
      "Epoch 288/500\n",
      "31770/31770 [==============================] - 1s 22us/step - loss: 0.5269 - accuracy: 0.7422 - val_loss: 0.5345 - val_accuracy: 0.7454\n",
      "Epoch 289/500\n",
      "31770/31770 [==============================] - 1s 21us/step - loss: 0.5270 - accuracy: 0.7428 - val_loss: 0.5025 - val_accuracy: 0.7694\n",
      "Epoch 290/500\n",
      "31770/31770 [==============================] - 1s 22us/step - loss: 0.5269 - accuracy: 0.7426 - val_loss: 0.4988 - val_accuracy: 0.7689\n",
      "Epoch 291/500\n",
      "31770/31770 [==============================] - 1s 22us/step - loss: 0.5267 - accuracy: 0.7417 - val_loss: 0.5041 - val_accuracy: 0.7643\n",
      "Epoch 292/500\n",
      "31770/31770 [==============================] - 1s 21us/step - loss: 0.5268 - accuracy: 0.7430 - val_loss: 0.5081 - val_accuracy: 0.7642\n",
      "Epoch 293/500\n",
      "31770/31770 [==============================] - 1s 21us/step - loss: 0.5268 - accuracy: 0.7419 - val_loss: 0.4940 - val_accuracy: 0.7735\n",
      "Epoch 294/500\n",
      "31770/31770 [==============================] - ETA: 0s - loss: 0.5272 - accuracy: 0.74 - 1s 22us/step - loss: 0.5269 - accuracy: 0.7415 - val_loss: 0.4909 - val_accuracy: 0.7740\n",
      "Epoch 295/500\n",
      "31770/31770 [==============================] - 1s 21us/step - loss: 0.5269 - accuracy: 0.7425 - val_loss: 0.4793 - val_accuracy: 0.7801\n",
      "Epoch 296/500\n",
      "31770/31770 [==============================] - 1s 21us/step - loss: 0.5267 - accuracy: 0.7416 - val_loss: 0.4904 - val_accuracy: 0.7748\n",
      "Epoch 297/500\n",
      "31770/31770 [==============================] - 1s 21us/step - loss: 0.5267 - accuracy: 0.7425 - val_loss: 0.5045 - val_accuracy: 0.7656\n",
      "Epoch 298/500\n",
      "31770/31770 [==============================] - 1s 21us/step - loss: 0.5269 - accuracy: 0.7422 - val_loss: 0.4968 - val_accuracy: 0.7723\n",
      "Epoch 299/500\n",
      "31770/31770 [==============================] - 1s 22us/step - loss: 0.5266 - accuracy: 0.7424 - val_loss: 0.4849 - val_accuracy: 0.7783\n",
      "Epoch 300/500\n",
      "31770/31770 [==============================] - 1s 22us/step - loss: 0.5268 - accuracy: 0.7423 - val_loss: 0.5179 - val_accuracy: 0.7544\n",
      "Epoch 301/500\n",
      "31770/31770 [==============================] - 1s 22us/step - loss: 0.5270 - accuracy: 0.7417 - val_loss: 0.5039 - val_accuracy: 0.7689\n",
      "Epoch 302/500\n",
      "31770/31770 [==============================] - 1s 21us/step - loss: 0.5267 - accuracy: 0.7430 - val_loss: 0.4894 - val_accuracy: 0.7769\n",
      "Epoch 303/500\n",
      "31770/31770 [==============================] - 1s 22us/step - loss: 0.5267 - accuracy: 0.7425 - val_loss: 0.4799 - val_accuracy: 0.7802\n",
      "Epoch 304/500\n",
      "31770/31770 [==============================] - 1s 23us/step - loss: 0.5267 - accuracy: 0.7427 - val_loss: 0.4816 - val_accuracy: 0.7783\n",
      "Epoch 305/500\n",
      "31770/31770 [==============================] - 1s 22us/step - loss: 0.5269 - accuracy: 0.7422 - val_loss: 0.4933 - val_accuracy: 0.7725\n",
      "Epoch 306/500\n",
      "31770/31770 [==============================] - 1s 22us/step - loss: 0.5270 - accuracy: 0.7427 - val_loss: 0.4884 - val_accuracy: 0.7745\n",
      "Epoch 307/500\n",
      "31770/31770 [==============================] - 1s 21us/step - loss: 0.5270 - accuracy: 0.7430 - val_loss: 0.4882 - val_accuracy: 0.7757\n",
      "Epoch 308/500\n",
      "31770/31770 [==============================] - 1s 23us/step - loss: 0.5268 - accuracy: 0.7421 - val_loss: 0.5062 - val_accuracy: 0.7632\n",
      "Epoch 309/500\n",
      "31770/31770 [==============================] - 1s 21us/step - loss: 0.5268 - accuracy: 0.7420 - val_loss: 0.5042 - val_accuracy: 0.7690\n",
      "Epoch 310/500\n",
      "31770/31770 [==============================] - 1s 22us/step - loss: 0.5267 - accuracy: 0.7420 - val_loss: 0.4876 - val_accuracy: 0.7753\n",
      "Epoch 311/500\n",
      "31770/31770 [==============================] - 1s 23us/step - loss: 0.5269 - accuracy: 0.7421 - val_loss: 0.5003 - val_accuracy: 0.7693\n",
      "Epoch 312/500\n",
      "31770/31770 [==============================] - 1s 22us/step - loss: 0.5268 - accuracy: 0.7425 - val_loss: 0.4977 - val_accuracy: 0.7713\n",
      "Epoch 313/500\n",
      "31770/31770 [==============================] - ETA: 0s - loss: 0.5273 - accuracy: 0.74 - 1s 22us/step - loss: 0.5268 - accuracy: 0.7422 - val_loss: 0.4821 - val_accuracy: 0.7801\n",
      "Epoch 314/500\n",
      "31770/31770 [==============================] - 1s 21us/step - loss: 0.5266 - accuracy: 0.7418 - val_loss: 0.4827 - val_accuracy: 0.7790\n",
      "Epoch 315/500\n",
      "31770/31770 [==============================] - 1s 21us/step - loss: 0.5269 - accuracy: 0.7426 - val_loss: 0.4950 - val_accuracy: 0.7729\n",
      "Epoch 316/500\n",
      "31770/31770 [==============================] - 1s 21us/step - loss: 0.5267 - accuracy: 0.7420 - val_loss: 0.4904 - val_accuracy: 0.7775\n",
      "Epoch 317/500\n",
      "31770/31770 [==============================] - 1s 21us/step - loss: 0.5268 - accuracy: 0.7423 - val_loss: 0.4947 - val_accuracy: 0.7718\n",
      "Epoch 318/500\n",
      "31770/31770 [==============================] - 1s 22us/step - loss: 0.5268 - accuracy: 0.7424 - val_loss: 0.5219 - val_accuracy: 0.7563\n",
      "Epoch 319/500\n",
      "31770/31770 [==============================] - 1s 21us/step - loss: 0.5269 - accuracy: 0.7415 - val_loss: 0.4829 - val_accuracy: 0.7780\n",
      "Epoch 320/500\n",
      "31770/31770 [==============================] - 1s 22us/step - loss: 0.5266 - accuracy: 0.7422 - val_loss: 0.4829 - val_accuracy: 0.7778\n",
      "Epoch 321/500\n",
      "31770/31770 [==============================] - 1s 21us/step - loss: 0.5269 - accuracy: 0.7425 - val_loss: 0.5197 - val_accuracy: 0.7569\n",
      "Epoch 322/500\n",
      "31770/31770 [==============================] - 1s 21us/step - loss: 0.5269 - accuracy: 0.7427 - val_loss: 0.5081 - val_accuracy: 0.7624\n",
      "Epoch 323/500\n",
      "31770/31770 [==============================] - 1s 21us/step - loss: 0.5268 - accuracy: 0.7421 - val_loss: 0.5098 - val_accuracy: 0.7646\n",
      "Epoch 324/500\n",
      "31770/31770 [==============================] - 1s 21us/step - loss: 0.5267 - accuracy: 0.7416 - val_loss: 0.5062 - val_accuracy: 0.7646\n",
      "Epoch 325/500\n",
      "31770/31770 [==============================] - 1s 22us/step - loss: 0.5268 - accuracy: 0.7421 - val_loss: 0.4888 - val_accuracy: 0.7752\n",
      "Epoch 326/500\n",
      "31770/31770 [==============================] - 1s 22us/step - loss: 0.5267 - accuracy: 0.7410 - val_loss: 0.5055 - val_accuracy: 0.7650\n",
      "Epoch 327/500\n",
      "31770/31770 [==============================] - 1s 22us/step - loss: 0.5266 - accuracy: 0.7416 - val_loss: 0.4862 - val_accuracy: 0.7759\n",
      "Epoch 328/500\n"
     ]
    },
    {
     "name": "stdout",
     "output_type": "stream",
     "text": [
      "31770/31770 [==============================] - 1s 24us/step - loss: 0.5268 - accuracy: 0.7415 - val_loss: 0.5063 - val_accuracy: 0.7642\n",
      "Epoch 329/500\n",
      "31770/31770 [==============================] - 1s 22us/step - loss: 0.5267 - accuracy: 0.7414 - val_loss: 0.4876 - val_accuracy: 0.7767\n",
      "Epoch 330/500\n",
      "31770/31770 [==============================] - 1s 22us/step - loss: 0.5268 - accuracy: 0.7420 - val_loss: 0.4793 - val_accuracy: 0.7817\n",
      "Epoch 331/500\n",
      "31770/31770 [==============================] - 1s 21us/step - loss: 0.5268 - accuracy: 0.7421 - val_loss: 0.4790 - val_accuracy: 0.7816\n",
      "Epoch 332/500\n",
      "31770/31770 [==============================] - 1s 22us/step - loss: 0.5269 - accuracy: 0.7417 - val_loss: 0.4890 - val_accuracy: 0.7747\n",
      "Epoch 333/500\n",
      "31770/31770 [==============================] - 1s 21us/step - loss: 0.5269 - accuracy: 0.7425 - val_loss: 0.4974 - val_accuracy: 0.7726\n",
      "Epoch 334/500\n",
      "31770/31770 [==============================] - 1s 21us/step - loss: 0.5268 - accuracy: 0.7421 - val_loss: 0.4992 - val_accuracy: 0.7706\n",
      "Epoch 335/500\n",
      "31770/31770 [==============================] - 1s 21us/step - loss: 0.5266 - accuracy: 0.7417 - val_loss: 0.4903 - val_accuracy: 0.7750\n",
      "Epoch 336/500\n",
      "31770/31770 [==============================] - 1s 21us/step - loss: 0.5267 - accuracy: 0.7420 - val_loss: 0.5200 - val_accuracy: 0.7571\n",
      "Epoch 337/500\n",
      "31770/31770 [==============================] - 1s 21us/step - loss: 0.5266 - accuracy: 0.7409 - val_loss: 0.4840 - val_accuracy: 0.7778\n",
      "Epoch 338/500\n",
      "31770/31770 [==============================] - 1s 21us/step - loss: 0.5267 - accuracy: 0.7426 - val_loss: 0.4783 - val_accuracy: 0.7812\n",
      "Epoch 339/500\n",
      "31770/31770 [==============================] - 1s 22us/step - loss: 0.5268 - accuracy: 0.7421 - val_loss: 0.4854 - val_accuracy: 0.7776\n",
      "Epoch 340/500\n",
      "31770/31770 [==============================] - 1s 23us/step - loss: 0.5268 - accuracy: 0.7424 - val_loss: 0.4863 - val_accuracy: 0.7777\n",
      "Epoch 341/500\n",
      "31770/31770 [==============================] - 1s 29us/step - loss: 0.5266 - accuracy: 0.7417 - val_loss: 0.4944 - val_accuracy: 0.7747\n",
      "Epoch 342/500\n",
      "31770/31770 [==============================] - 1s 31us/step - loss: 0.5268 - accuracy: 0.7416 - val_loss: 0.4922 - val_accuracy: 0.7743\n",
      "Epoch 343/500\n",
      "31770/31770 [==============================] - 1s 32us/step - loss: 0.5267 - accuracy: 0.7421 - val_loss: 0.5117 - val_accuracy: 0.7593\n",
      "Epoch 344/500\n",
      "31770/31770 [==============================] - 1s 22us/step - loss: 0.5267 - accuracy: 0.7421 - val_loss: 0.4853 - val_accuracy: 0.7775\n",
      "Epoch 345/500\n",
      "31770/31770 [==============================] - 1s 21us/step - loss: 0.5265 - accuracy: 0.7426 - val_loss: 0.4839 - val_accuracy: 0.7789\n",
      "Epoch 346/500\n",
      "31770/31770 [==============================] - 1s 22us/step - loss: 0.5268 - accuracy: 0.7414 - val_loss: 0.4920 - val_accuracy: 0.7743\n",
      "Epoch 347/500\n",
      "31770/31770 [==============================] - 1s 23us/step - loss: 0.5267 - accuracy: 0.7414 - val_loss: 0.5041 - val_accuracy: 0.7695\n",
      "Epoch 348/500\n",
      "31770/31770 [==============================] - 1s 23us/step - loss: 0.5267 - accuracy: 0.7427 - val_loss: 0.5139 - val_accuracy: 0.7596\n",
      "Epoch 349/500\n",
      "31770/31770 [==============================] - 1s 24us/step - loss: 0.5266 - accuracy: 0.7425 - val_loss: 0.4837 - val_accuracy: 0.7763\n",
      "Epoch 350/500\n",
      "31770/31770 [==============================] - 1s 24us/step - loss: 0.5268 - accuracy: 0.7409 - val_loss: 0.5026 - val_accuracy: 0.7681\n",
      "Epoch 351/500\n",
      "31770/31770 [==============================] - 1s 22us/step - loss: 0.5269 - accuracy: 0.7423 - val_loss: 0.4931 - val_accuracy: 0.7741\n",
      "Epoch 352/500\n",
      "31770/31770 [==============================] - 1s 21us/step - loss: 0.5266 - accuracy: 0.7417 - val_loss: 0.4806 - val_accuracy: 0.7800\n",
      "Epoch 353/500\n",
      "31770/31770 [==============================] - 1s 23us/step - loss: 0.5265 - accuracy: 0.7419 - val_loss: 0.4982 - val_accuracy: 0.7701\n",
      "Epoch 354/500\n",
      "31770/31770 [==============================] - 1s 25us/step - loss: 0.5267 - accuracy: 0.7414 - val_loss: 0.5188 - val_accuracy: 0.7583\n",
      "Epoch 355/500\n",
      "31770/31770 [==============================] - 1s 25us/step - loss: 0.5266 - accuracy: 0.7414 - val_loss: 0.5034 - val_accuracy: 0.7668\n",
      "Epoch 356/500\n",
      "31770/31770 [==============================] - 1s 26us/step - loss: 0.5266 - accuracy: 0.7421 - val_loss: 0.4893 - val_accuracy: 0.7756\n",
      "Epoch 357/500\n",
      "31770/31770 [==============================] - 1s 24us/step - loss: 0.5268 - accuracy: 0.7422 - val_loss: 0.4933 - val_accuracy: 0.7732\n",
      "Epoch 358/500\n",
      "31770/31770 [==============================] - 1s 25us/step - loss: 0.5265 - accuracy: 0.7434 - val_loss: 0.5040 - val_accuracy: 0.7684\n",
      "Epoch 359/500\n",
      "31770/31770 [==============================] - 1s 23us/step - loss: 0.5267 - accuracy: 0.7427 - val_loss: 0.4836 - val_accuracy: 0.7783\n",
      "Epoch 360/500\n",
      "31770/31770 [==============================] - 1s 30us/step - loss: 0.5265 - accuracy: 0.7422 - val_loss: 0.5102 - val_accuracy: 0.7624\n",
      "Epoch 361/500\n",
      "31770/31770 [==============================] - 1s 23us/step - loss: 0.5267 - accuracy: 0.7413 - val_loss: 0.4943 - val_accuracy: 0.7739\n",
      "Epoch 362/500\n",
      "31770/31770 [==============================] - 1s 23us/step - loss: 0.5267 - accuracy: 0.7427 - val_loss: 0.5097 - val_accuracy: 0.7606\n",
      "Epoch 363/500\n",
      "31770/31770 [==============================] - 1s 23us/step - loss: 0.5269 - accuracy: 0.7423 - val_loss: 0.5048 - val_accuracy: 0.7674\n",
      "Epoch 364/500\n",
      "31770/31770 [==============================] - 1s 24us/step - loss: 0.5267 - accuracy: 0.7425 - val_loss: 0.4912 - val_accuracy: 0.7755\n",
      "Epoch 365/500\n",
      "31770/31770 [==============================] - 1s 22us/step - loss: 0.5267 - accuracy: 0.7410 - val_loss: 0.4821 - val_accuracy: 0.7792\n",
      "Epoch 366/500\n",
      "31770/31770 [==============================] - 1s 21us/step - loss: 0.5267 - accuracy: 0.7426 - val_loss: 0.4960 - val_accuracy: 0.7722\n",
      "Epoch 367/500\n",
      "31770/31770 [==============================] - 1s 22us/step - loss: 0.5267 - accuracy: 0.7417 - val_loss: 0.4933 - val_accuracy: 0.7720\n",
      "Epoch 368/500\n",
      "31770/31770 [==============================] - 1s 22us/step - loss: 0.5268 - accuracy: 0.7414 - val_loss: 0.4913 - val_accuracy: 0.7742\n",
      "Epoch 369/500\n",
      "31770/31770 [==============================] - 1s 23us/step - loss: 0.5264 - accuracy: 0.7419 - val_loss: 0.5056 - val_accuracy: 0.7675\n",
      "Epoch 370/500\n",
      "31770/31770 [==============================] - 1s 23us/step - loss: 0.5267 - accuracy: 0.7415 - val_loss: 0.4940 - val_accuracy: 0.7730\n",
      "Epoch 371/500\n",
      "31770/31770 [==============================] - 1s 22us/step - loss: 0.5266 - accuracy: 0.7421 - val_loss: 0.4859 - val_accuracy: 0.7783\n",
      "Epoch 372/500\n",
      "31770/31770 [==============================] - 1s 21us/step - loss: 0.5265 - accuracy: 0.7425 - val_loss: 0.4990 - val_accuracy: 0.7700\n",
      "Epoch 373/500\n",
      "31770/31770 [==============================] - 1s 22us/step - loss: 0.5265 - accuracy: 0.7417 - val_loss: 0.5052 - val_accuracy: 0.7680\n",
      "Epoch 374/500\n",
      "31770/31770 [==============================] - 1s 25us/step - loss: 0.5267 - accuracy: 0.7420 - val_loss: 0.4958 - val_accuracy: 0.7724\n",
      "Epoch 375/500\n",
      "31770/31770 [==============================] - 1s 21us/step - loss: 0.5267 - accuracy: 0.7424 - val_loss: 0.4965 - val_accuracy: 0.7725\n",
      "Epoch 376/500\n",
      "31770/31770 [==============================] - 1s 21us/step - loss: 0.5267 - accuracy: 0.7419 - val_loss: 0.4923 - val_accuracy: 0.7742\n",
      "Epoch 377/500\n",
      "31770/31770 [==============================] - 1s 22us/step - loss: 0.5269 - accuracy: 0.7419 - val_loss: 0.5225 - val_accuracy: 0.7538\n",
      "Epoch 378/500\n",
      "31770/31770 [==============================] - 1s 23us/step - loss: 0.5266 - accuracy: 0.7427 - val_loss: 0.4852 - val_accuracy: 0.7783\n",
      "Epoch 379/500\n",
      "31770/31770 [==============================] - 1s 22us/step - loss: 0.5268 - accuracy: 0.7426 - val_loss: 0.5130 - val_accuracy: 0.7602\n",
      "Epoch 380/500\n",
      "31770/31770 [==============================] - 1s 21us/step - loss: 0.5268 - accuracy: 0.7420 - val_loss: 0.5029 - val_accuracy: 0.7690\n",
      "Epoch 381/500\n",
      "31770/31770 [==============================] - 1s 22us/step - loss: 0.5265 - accuracy: 0.7427 - val_loss: 0.5008 - val_accuracy: 0.7667\n",
      "Epoch 382/500\n",
      "31770/31770 [==============================] - 1s 21us/step - loss: 0.5266 - accuracy: 0.7423 - val_loss: 0.5004 - val_accuracy: 0.7711\n"
     ]
    },
    {
     "name": "stdout",
     "output_type": "stream",
     "text": [
      "Epoch 383/500\n",
      "31770/31770 [==============================] - 1s 22us/step - loss: 0.5266 - accuracy: 0.7430 - val_loss: 0.4923 - val_accuracy: 0.7729\n",
      "Epoch 384/500\n",
      "31770/31770 [==============================] - 1s 22us/step - loss: 0.5266 - accuracy: 0.7418 - val_loss: 0.4813 - val_accuracy: 0.7794\n",
      "Epoch 385/500\n",
      "31770/31770 [==============================] - 1s 22us/step - loss: 0.5268 - accuracy: 0.7422 - val_loss: 0.4979 - val_accuracy: 0.7674\n",
      "Epoch 386/500\n",
      "31770/31770 [==============================] - 1s 22us/step - loss: 0.5268 - accuracy: 0.7421 - val_loss: 0.4848 - val_accuracy: 0.7788\n",
      "Epoch 387/500\n",
      "31770/31770 [==============================] - 1s 22us/step - loss: 0.5265 - accuracy: 0.7404 - val_loss: 0.4868 - val_accuracy: 0.7757\n",
      "Epoch 388/500\n",
      "31770/31770 [==============================] - 1s 21us/step - loss: 0.5267 - accuracy: 0.7423 - val_loss: 0.5030 - val_accuracy: 0.7671\n",
      "Epoch 389/500\n",
      "31770/31770 [==============================] - 1s 23us/step - loss: 0.5267 - accuracy: 0.7412 - val_loss: 0.4939 - val_accuracy: 0.7728\n",
      "Epoch 390/500\n",
      "31770/31770 [==============================] - 1s 23us/step - loss: 0.5265 - accuracy: 0.7414 - val_loss: 0.4916 - val_accuracy: 0.7725\n",
      "Epoch 391/500\n",
      "31770/31770 [==============================] - 1s 23us/step - loss: 0.5268 - accuracy: 0.7421 - val_loss: 0.4934 - val_accuracy: 0.7735\n",
      "Epoch 392/500\n",
      "31770/31770 [==============================] - 1s 23us/step - loss: 0.5267 - accuracy: 0.7422 - val_loss: 0.5013 - val_accuracy: 0.7663\n",
      "Epoch 393/500\n",
      "31770/31770 [==============================] - 1s 23us/step - loss: 0.5268 - accuracy: 0.7423 - val_loss: 0.5016 - val_accuracy: 0.7662\n",
      "Epoch 394/500\n",
      "31770/31770 [==============================] - 1s 22us/step - loss: 0.5266 - accuracy: 0.7424 - val_loss: 0.5030 - val_accuracy: 0.7677\n",
      "Epoch 395/500\n",
      "31770/31770 [==============================] - 1s 22us/step - loss: 0.5268 - accuracy: 0.7422 - val_loss: 0.4912 - val_accuracy: 0.7740\n",
      "Epoch 396/500\n",
      "31770/31770 [==============================] - 1s 22us/step - loss: 0.5266 - accuracy: 0.7416 - val_loss: 0.5152 - val_accuracy: 0.7596\n",
      "Epoch 397/500\n",
      "31770/31770 [==============================] - 1s 21us/step - loss: 0.5267 - accuracy: 0.7429 - val_loss: 0.4913 - val_accuracy: 0.7744\n",
      "Epoch 398/500\n",
      "31770/31770 [==============================] - 1s 21us/step - loss: 0.5266 - accuracy: 0.7422 - val_loss: 0.5172 - val_accuracy: 0.7584\n",
      "Epoch 399/500\n",
      "31770/31770 [==============================] - 1s 22us/step - loss: 0.5264 - accuracy: 0.7415 - val_loss: 0.4915 - val_accuracy: 0.7756\n",
      "Epoch 400/500\n",
      "31770/31770 [==============================] - 1s 22us/step - loss: 0.5266 - accuracy: 0.7423 - val_loss: 0.4993 - val_accuracy: 0.7704\n",
      "Epoch 401/500\n",
      "31770/31770 [==============================] - 1s 22us/step - loss: 0.5265 - accuracy: 0.7424 - val_loss: 0.5086 - val_accuracy: 0.7649\n",
      "Epoch 402/500\n",
      "31770/31770 [==============================] - 1s 21us/step - loss: 0.5268 - accuracy: 0.7417 - val_loss: 0.5156 - val_accuracy: 0.7598\n",
      "Epoch 403/500\n",
      "31770/31770 [==============================] - 1s 22us/step - loss: 0.5266 - accuracy: 0.7427 - val_loss: 0.4856 - val_accuracy: 0.7778\n",
      "Epoch 404/500\n",
      "31770/31770 [==============================] - 1s 22us/step - loss: 0.5268 - accuracy: 0.7416 - val_loss: 0.4832 - val_accuracy: 0.7786\n",
      "Epoch 405/500\n",
      "31770/31770 [==============================] - 1s 22us/step - loss: 0.5267 - accuracy: 0.7417 - val_loss: 0.4936 - val_accuracy: 0.7725\n",
      "Epoch 406/500\n",
      "31770/31770 [==============================] - 1s 22us/step - loss: 0.5265 - accuracy: 0.7430 - val_loss: 0.5140 - val_accuracy: 0.7597\n",
      "Epoch 407/500\n",
      "31770/31770 [==============================] - 1s 25us/step - loss: 0.5266 - accuracy: 0.7420 - val_loss: 0.5025 - val_accuracy: 0.7670\n",
      "Epoch 408/500\n",
      "31770/31770 [==============================] - 1s 22us/step - loss: 0.5266 - accuracy: 0.7420 - val_loss: 0.4999 - val_accuracy: 0.7700\n",
      "Epoch 409/500\n",
      "31770/31770 [==============================] - 1s 22us/step - loss: 0.5267 - accuracy: 0.7415 - val_loss: 0.5062 - val_accuracy: 0.7658\n",
      "Epoch 410/500\n",
      "31770/31770 [==============================] - 1s 22us/step - loss: 0.5266 - accuracy: 0.7426 - val_loss: 0.4838 - val_accuracy: 0.7784\n",
      "Epoch 411/500\n",
      "31770/31770 [==============================] - 1s 21us/step - loss: 0.5266 - accuracy: 0.7417 - val_loss: 0.5057 - val_accuracy: 0.7676\n",
      "Epoch 412/500\n",
      "31770/31770 [==============================] - 1s 21us/step - loss: 0.5267 - accuracy: 0.7424 - val_loss: 0.4915 - val_accuracy: 0.7737\n",
      "Epoch 413/500\n",
      "31770/31770 [==============================] - 1s 21us/step - loss: 0.5265 - accuracy: 0.7415 - val_loss: 0.4992 - val_accuracy: 0.7687\n",
      "Epoch 414/500\n",
      "31770/31770 [==============================] - 1s 22us/step - loss: 0.5267 - accuracy: 0.7418 - val_loss: 0.4914 - val_accuracy: 0.7749\n",
      "Epoch 415/500\n",
      "31770/31770 [==============================] - 1s 21us/step - loss: 0.5267 - accuracy: 0.7420 - val_loss: 0.4920 - val_accuracy: 0.7751\n",
      "Epoch 416/500\n",
      "31770/31770 [==============================] - 1s 22us/step - loss: 0.5265 - accuracy: 0.7430 - val_loss: 0.5085 - val_accuracy: 0.7625\n",
      "Epoch 417/500\n",
      "31770/31770 [==============================] - 1s 22us/step - loss: 0.5265 - accuracy: 0.7420 - val_loss: 0.4854 - val_accuracy: 0.7781\n",
      "Epoch 418/500\n",
      "31770/31770 [==============================] - 1s 21us/step - loss: 0.5265 - accuracy: 0.7423 - val_loss: 0.4827 - val_accuracy: 0.7788\n",
      "Epoch 419/500\n",
      "31770/31770 [==============================] - 1s 21us/step - loss: 0.5264 - accuracy: 0.7431 - val_loss: 0.4870 - val_accuracy: 0.7779\n",
      "Epoch 420/500\n",
      "31770/31770 [==============================] - 1s 22us/step - loss: 0.5266 - accuracy: 0.7424 - val_loss: 0.5085 - val_accuracy: 0.7638\n",
      "Epoch 421/500\n",
      "31770/31770 [==============================] - 1s 21us/step - loss: 0.5266 - accuracy: 0.7425 - val_loss: 0.5052 - val_accuracy: 0.7642\n",
      "Epoch 422/500\n",
      "31770/31770 [==============================] - 1s 22us/step - loss: 0.5267 - accuracy: 0.7416 - val_loss: 0.5167 - val_accuracy: 0.7592\n",
      "Epoch 423/500\n",
      "31770/31770 [==============================] - 1s 22us/step - loss: 0.5264 - accuracy: 0.7424 - val_loss: 0.4979 - val_accuracy: 0.7724\n",
      "Epoch 424/500\n",
      "31770/31770 [==============================] - 1s 22us/step - loss: 0.5267 - accuracy: 0.7426 - val_loss: 0.5033 - val_accuracy: 0.7678\n",
      "Epoch 425/500\n",
      "31770/31770 [==============================] - 1s 21us/step - loss: 0.5265 - accuracy: 0.7413 - val_loss: 0.5173 - val_accuracy: 0.7580\n",
      "Epoch 426/500\n",
      "31770/31770 [==============================] - 1s 22us/step - loss: 0.5266 - accuracy: 0.7423 - val_loss: 0.4877 - val_accuracy: 0.7769\n",
      "Epoch 427/500\n",
      "31770/31770 [==============================] - 1s 21us/step - loss: 0.5265 - accuracy: 0.7423 - val_loss: 0.4893 - val_accuracy: 0.7754\n",
      "Epoch 428/500\n",
      "31770/31770 [==============================] - 1s 21us/step - loss: 0.5267 - accuracy: 0.7416 - val_loss: 0.5122 - val_accuracy: 0.7610\n",
      "Epoch 429/500\n",
      "31770/31770 [==============================] - 1s 23us/step - loss: 0.5268 - accuracy: 0.7425 - val_loss: 0.4932 - val_accuracy: 0.7740\n",
      "Epoch 430/500\n",
      "31770/31770 [==============================] - 1s 22us/step - loss: 0.5264 - accuracy: 0.7418 - val_loss: 0.4915 - val_accuracy: 0.7749\n",
      "Epoch 431/500\n",
      "31770/31770 [==============================] - 1s 22us/step - loss: 0.5265 - accuracy: 0.7428 - val_loss: 0.5059 - val_accuracy: 0.7663\n",
      "Epoch 432/500\n",
      "31770/31770 [==============================] - 1s 21us/step - loss: 0.5268 - accuracy: 0.7420 - val_loss: 0.5071 - val_accuracy: 0.7660\n",
      "Epoch 433/500\n",
      "31770/31770 [==============================] - 1s 21us/step - loss: 0.5266 - accuracy: 0.7437 - val_loss: 0.4933 - val_accuracy: 0.7742\n",
      "Epoch 434/500\n",
      "31770/31770 [==============================] - 1s 21us/step - loss: 0.5267 - accuracy: 0.7420 - val_loss: 0.5095 - val_accuracy: 0.7634\n",
      "Epoch 435/500\n",
      "31770/31770 [==============================] - 1s 22us/step - loss: 0.5266 - accuracy: 0.7424 - val_loss: 0.5072 - val_accuracy: 0.7649\n",
      "Epoch 436/500\n",
      "31770/31770 [==============================] - 1s 22us/step - loss: 0.5268 - accuracy: 0.7417 - val_loss: 0.4827 - val_accuracy: 0.7795\n",
      "Epoch 437/500\n"
     ]
    },
    {
     "name": "stdout",
     "output_type": "stream",
     "text": [
      "31770/31770 [==============================] - 1s 22us/step - loss: 0.5266 - accuracy: 0.7425 - val_loss: 0.4912 - val_accuracy: 0.7756\n",
      "Epoch 438/500\n",
      "31770/31770 [==============================] - 1s 22us/step - loss: 0.5266 - accuracy: 0.7424 - val_loss: 0.4903 - val_accuracy: 0.7752\n",
      "Epoch 439/500\n",
      "31770/31770 [==============================] - 1s 24us/step - loss: 0.5266 - accuracy: 0.7423 - val_loss: 0.5165 - val_accuracy: 0.7596\n",
      "Epoch 440/500\n",
      "31770/31770 [==============================] - 1s 25us/step - loss: 0.5266 - accuracy: 0.7427 - val_loss: 0.4905 - val_accuracy: 0.7754\n",
      "Epoch 441/500\n",
      "31770/31770 [==============================] - 1s 23us/step - loss: 0.5266 - accuracy: 0.7426 - val_loss: 0.5048 - val_accuracy: 0.7685\n",
      "Epoch 442/500\n",
      "31770/31770 [==============================] - 1s 23us/step - loss: 0.5267 - accuracy: 0.7427 - val_loss: 0.4937 - val_accuracy: 0.7744\n",
      "Epoch 443/500\n",
      "31770/31770 [==============================] - 1s 23us/step - loss: 0.5264 - accuracy: 0.7429 - val_loss: 0.4923 - val_accuracy: 0.7737\n",
      "Epoch 444/500\n",
      "31770/31770 [==============================] - 1s 26us/step - loss: 0.5268 - accuracy: 0.7430 - val_loss: 0.4813 - val_accuracy: 0.7790\n",
      "Epoch 445/500\n",
      "31770/31770 [==============================] - 1s 24us/step - loss: 0.5269 - accuracy: 0.7426 - val_loss: 0.5095 - val_accuracy: 0.7651\n",
      "Epoch 446/500\n",
      "31770/31770 [==============================] - 1s 29us/step - loss: 0.5264 - accuracy: 0.7424 - val_loss: 0.4908 - val_accuracy: 0.7753\n",
      "Epoch 447/500\n",
      "31770/31770 [==============================] - 1s 24us/step - loss: 0.5266 - accuracy: 0.7415 - val_loss: 0.4862 - val_accuracy: 0.7780\n",
      "Epoch 448/500\n",
      "31770/31770 [==============================] - 1s 26us/step - loss: 0.5267 - accuracy: 0.7430 - val_loss: 0.5125 - val_accuracy: 0.7615\n",
      "Epoch 449/500\n",
      "31770/31770 [==============================] - 1s 23us/step - loss: 0.5264 - accuracy: 0.7428 - val_loss: 0.5055 - val_accuracy: 0.7640\n",
      "Epoch 450/500\n",
      "31770/31770 [==============================] - ETA: 0s - loss: 0.5262 - accuracy: 0.74 - 1s 22us/step - loss: 0.5266 - accuracy: 0.7427 - val_loss: 0.4944 - val_accuracy: 0.7741\n",
      "Epoch 451/500\n",
      "31770/31770 [==============================] - 1s 22us/step - loss: 0.5266 - accuracy: 0.7429 - val_loss: 0.4858 - val_accuracy: 0.7783\n",
      "Epoch 452/500\n",
      "31770/31770 [==============================] - 1s 22us/step - loss: 0.5265 - accuracy: 0.7421 - val_loss: 0.5035 - val_accuracy: 0.7689\n",
      "Epoch 453/500\n",
      "31770/31770 [==============================] - 1s 22us/step - loss: 0.5266 - accuracy: 0.7425 - val_loss: 0.4945 - val_accuracy: 0.7752\n",
      "Epoch 454/500\n",
      "31770/31770 [==============================] - 1s 22us/step - loss: 0.5266 - accuracy: 0.7423 - val_loss: 0.4885 - val_accuracy: 0.7760\n",
      "Epoch 455/500\n",
      "31770/31770 [==============================] - 1s 22us/step - loss: 0.5265 - accuracy: 0.7419 - val_loss: 0.5093 - val_accuracy: 0.7650\n",
      "Epoch 456/500\n",
      "31770/31770 [==============================] - 1s 23us/step - loss: 0.5267 - accuracy: 0.7421 - val_loss: 0.4856 - val_accuracy: 0.7752\n",
      "Epoch 457/500\n",
      "31770/31770 [==============================] - 1s 23us/step - loss: 0.5264 - accuracy: 0.7423 - val_loss: 0.5072 - val_accuracy: 0.7624\n",
      "Epoch 458/500\n",
      "31770/31770 [==============================] - 1s 23us/step - loss: 0.5266 - accuracy: 0.7423 - val_loss: 0.5104 - val_accuracy: 0.7630\n",
      "Epoch 459/500\n",
      "31770/31770 [==============================] - 1s 23us/step - loss: 0.5266 - accuracy: 0.7420 - val_loss: 0.4943 - val_accuracy: 0.7737\n",
      "Epoch 460/500\n",
      "31770/31770 [==============================] - 1s 23us/step - loss: 0.5265 - accuracy: 0.7435 - val_loss: 0.5094 - val_accuracy: 0.7621\n",
      "Epoch 461/500\n",
      "31770/31770 [==============================] - 1s 21us/step - loss: 0.5266 - accuracy: 0.7417 - val_loss: 0.5106 - val_accuracy: 0.7671\n",
      "Epoch 462/500\n",
      "31770/31770 [==============================] - 1s 22us/step - loss: 0.5269 - accuracy: 0.7432 - val_loss: 0.5016 - val_accuracy: 0.7660\n",
      "Epoch 463/500\n",
      "31770/31770 [==============================] - 1s 22us/step - loss: 0.5265 - accuracy: 0.7432 - val_loss: 0.4881 - val_accuracy: 0.7773\n",
      "Epoch 464/500\n",
      "31770/31770 [==============================] - 1s 23us/step - loss: 0.5263 - accuracy: 0.7431 - val_loss: 0.4870 - val_accuracy: 0.7783\n",
      "Epoch 465/500\n",
      "31770/31770 [==============================] - 1s 22us/step - loss: 0.5266 - accuracy: 0.7419 - val_loss: 0.5044 - val_accuracy: 0.7700\n",
      "Epoch 466/500\n",
      "31770/31770 [==============================] - 1s 23us/step - loss: 0.5264 - accuracy: 0.7430 - val_loss: 0.4849 - val_accuracy: 0.7764\n",
      "Epoch 467/500\n",
      "31770/31770 [==============================] - 1s 23us/step - loss: 0.5264 - accuracy: 0.7434 - val_loss: 0.5202 - val_accuracy: 0.7584\n",
      "Epoch 468/500\n",
      "31770/31770 [==============================] - 1s 22us/step - loss: 0.5266 - accuracy: 0.7413 - val_loss: 0.5153 - val_accuracy: 0.7571\n",
      "Epoch 469/500\n",
      "31770/31770 [==============================] - 1s 24us/step - loss: 0.5267 - accuracy: 0.7415 - val_loss: 0.4925 - val_accuracy: 0.7752\n",
      "Epoch 470/500\n",
      "31770/31770 [==============================] - 1s 23us/step - loss: 0.5266 - accuracy: 0.7427 - val_loss: 0.5114 - val_accuracy: 0.7631\n",
      "Epoch 471/500\n",
      "31770/31770 [==============================] - 1s 23us/step - loss: 0.5266 - accuracy: 0.7428 - val_loss: 0.5057 - val_accuracy: 0.7673\n",
      "Epoch 472/500\n",
      "31770/31770 [==============================] - 1s 24us/step - loss: 0.5268 - accuracy: 0.7418 - val_loss: 0.5098 - val_accuracy: 0.7627\n",
      "Epoch 473/500\n",
      "31770/31770 [==============================] - 1s 25us/step - loss: 0.5265 - accuracy: 0.7428 - val_loss: 0.4955 - val_accuracy: 0.7729\n",
      "Epoch 474/500\n",
      "31770/31770 [==============================] - 1s 23us/step - loss: 0.5267 - accuracy: 0.7432 - val_loss: 0.4835 - val_accuracy: 0.7771\n",
      "Epoch 475/500\n",
      "31770/31770 [==============================] - 1s 24us/step - loss: 0.5267 - accuracy: 0.7423 - val_loss: 0.5009 - val_accuracy: 0.7678\n",
      "Epoch 476/500\n",
      "31770/31770 [==============================] - 1s 24us/step - loss: 0.5265 - accuracy: 0.7418 - val_loss: 0.4911 - val_accuracy: 0.7742\n",
      "Epoch 477/500\n",
      "31770/31770 [==============================] - 1s 25us/step - loss: 0.5265 - accuracy: 0.7428 - val_loss: 0.5081 - val_accuracy: 0.7648\n",
      "Epoch 478/500\n",
      "31770/31770 [==============================] - 1s 25us/step - loss: 0.5267 - accuracy: 0.7417 - val_loss: 0.4923 - val_accuracy: 0.7740\n",
      "Epoch 479/500\n",
      "31770/31770 [==============================] - 1s 28us/step - loss: 0.5262 - accuracy: 0.7417 - val_loss: 0.4875 - val_accuracy: 0.7788\n",
      "Epoch 480/500\n",
      "31770/31770 [==============================] - 1s 24us/step - loss: 0.5265 - accuracy: 0.7422 - val_loss: 0.5058 - val_accuracy: 0.7647\n",
      "Epoch 481/500\n",
      "31770/31770 [==============================] - 1s 22us/step - loss: 0.5266 - accuracy: 0.7412 - val_loss: 0.4942 - val_accuracy: 0.7730\n",
      "Epoch 482/500\n",
      "31770/31770 [==============================] - 1s 26us/step - loss: 0.5266 - accuracy: 0.7424 - val_loss: 0.4878 - val_accuracy: 0.7765\n",
      "Epoch 483/500\n",
      "31770/31770 [==============================] - 1s 24us/step - loss: 0.5264 - accuracy: 0.7429 - val_loss: 0.4868 - val_accuracy: 0.7771\n",
      "Epoch 484/500\n",
      "31770/31770 [==============================] - 1s 25us/step - loss: 0.5263 - accuracy: 0.7423 - val_loss: 0.4833 - val_accuracy: 0.7793\n",
      "Epoch 485/500\n",
      "31770/31770 [==============================] - 1s 22us/step - loss: 0.5267 - accuracy: 0.7422 - val_loss: 0.4953 - val_accuracy: 0.7730\n",
      "Epoch 486/500\n",
      "31770/31770 [==============================] - 1s 22us/step - loss: 0.5264 - accuracy: 0.7416 - val_loss: 0.4905 - val_accuracy: 0.7755\n",
      "Epoch 487/500\n",
      "31770/31770 [==============================] - 1s 23us/step - loss: 0.5266 - accuracy: 0.7418 - val_loss: 0.5015 - val_accuracy: 0.7708\n",
      "Epoch 488/500\n",
      "31770/31770 [==============================] - ETA: 0s - loss: 0.5261 - accuracy: 0.74 - 1s 22us/step - loss: 0.5267 - accuracy: 0.7423 - val_loss: 0.5024 - val_accuracy: 0.7697\n",
      "Epoch 489/500\n",
      "31770/31770 [==============================] - 1s 22us/step - loss: 0.5264 - accuracy: 0.7427 - val_loss: 0.5033 - val_accuracy: 0.7690\n",
      "Epoch 490/500\n",
      "31770/31770 [==============================] - 1s 23us/step - loss: 0.5267 - accuracy: 0.7428 - val_loss: 0.4897 - val_accuracy: 0.7751\n",
      "Epoch 491/500\n"
     ]
    },
    {
     "name": "stdout",
     "output_type": "stream",
     "text": [
      "31770/31770 [==============================] - 1s 22us/step - loss: 0.5266 - accuracy: 0.7425 - val_loss: 0.4887 - val_accuracy: 0.7759\n",
      "Epoch 492/500\n",
      "31770/31770 [==============================] - 1s 22us/step - loss: 0.5265 - accuracy: 0.7421 - val_loss: 0.4932 - val_accuracy: 0.7738\n",
      "Epoch 493/500\n",
      "31770/31770 [==============================] - 1s 22us/step - loss: 0.5263 - accuracy: 0.7420 - val_loss: 0.4877 - val_accuracy: 0.7763\n",
      "Epoch 494/500\n",
      "31770/31770 [==============================] - 1s 22us/step - loss: 0.5266 - accuracy: 0.7421 - val_loss: 0.4959 - val_accuracy: 0.7725\n",
      "Epoch 495/500\n",
      "31770/31770 [==============================] - 1s 22us/step - loss: 0.5265 - accuracy: 0.7427 - val_loss: 0.5221 - val_accuracy: 0.7552\n",
      "Epoch 496/500\n",
      "31770/31770 [==============================] - 1s 23us/step - loss: 0.5265 - accuracy: 0.7424 - val_loss: 0.5199 - val_accuracy: 0.7567\n",
      "Epoch 497/500\n",
      "31770/31770 [==============================] - 1s 22us/step - loss: 0.5267 - accuracy: 0.7414 - val_loss: 0.4991 - val_accuracy: 0.7698\n",
      "Epoch 498/500\n",
      "31770/31770 [==============================] - 1s 23us/step - loss: 0.5264 - accuracy: 0.7423 - val_loss: 0.4852 - val_accuracy: 0.7792\n",
      "Epoch 499/500\n",
      "31770/31770 [==============================] - 1s 25us/step - loss: 0.5266 - accuracy: 0.7423 - val_loss: 0.5166 - val_accuracy: 0.7589\n",
      "Epoch 500/500\n",
      "31770/31770 [==============================] - 1s 22us/step - loss: 0.5267 - accuracy: 0.7431 - val_loss: 0.4945 - val_accuracy: 0.7728\n"
     ]
    }
   ],
   "source": [
    "opt = optimizers.Adam(learning_rate=0.001, beta_1=0.9, beta_2=0.999, amsgrad=False)\n",
    "network.compile(optimizer='rmsprop',\n",
    "                loss='binary_crossentropy',\n",
    "                metrics=['accuracy'])\n",
    "\n",
    "epochs = 500\n",
    "history = network.fit(nn_train_x, \n",
    "                      train_y, \n",
    "                      epochs=epochs, \n",
    "                      batch_size=128, \n",
    "                      validation_data=(nn_test_x, test_y))"
   ]
  },
  {
   "cell_type": "code",
   "execution_count": 171,
   "metadata": {},
   "outputs": [
    {
     "data": {
      "image/png": "[encoded data removed]",
      "text/plain": [
       "<Figure size 432x288 with 1 Axes>"
      ]
     },
     "metadata": {
      "needs_background": "light"
     },
     "output_type": "display_data"
    }
   ],
   "source": [
    "history_dict = history.history\n",
    "loss_values = history_dict['loss']\n",
    "test_loss_values = history_dict['val_loss']\n",
    "epochs_range = range(1, epochs + 1)\n",
    "plt.plot(epochs_range, loss_values, 'bo', label='Training loss')\n",
    "plt.plot(epochs_range, test_loss_values, 'ro', label='Test loss')\n",
    "plt.title('Training and test loss')\n",
    "plt.xlabel('Epochs')\n",
    "plt.ylabel('Loss')\n",
    "plt.legend()\n",
    "plt.show()"
   ]
  },
  {
   "cell_type": "code",
   "execution_count": 172,
   "metadata": {},
   "outputs": [
    {
     "data": {
      "image/png": "[encoded data removed]",
      "text/plain": [
       "<Figure size 432x288 with 1 Axes>"
      ]
     },
     "metadata": {
      "needs_background": "light"
     },
     "output_type": "display_data"
    }
   ],
   "source": [
    "acc_values = history_dict['accuracy']\n",
    "test_acc_values = history_dict['val_accuracy']\n",
    "plt.plot(epochs_range, acc_values, 'bo', label='Training accuracy')\n",
    "plt.plot(epochs_range, test_acc_values, 'ro', label='Test accuracy')\n",
    "plt.title('Training and test accuracy')\n",
    "plt.xlabel('Epochs')\n",
    "plt.ylabel('Accuracy')\n",
    "plt.legend()\n",
    "plt.show()"
   ]
  },
  {
   "cell_type": "code",
   "execution_count": 173,
   "metadata": {},
   "outputs": [
    {
     "name": "stdout",
     "output_type": "stream",
     "text": [
      "Correct: 12237 0.7727818124407957\n",
      "Pos: 12788 0.807578149668456\n",
      "True Positive: 10726 0.6773602778654878\n",
      "True Negative: 1511 0.09542153457530786\n",
      "False Positive: 2062 0.13021787180296812\n",
      "False Negative: 1536 0.09700031575623619\n",
      "Positive Precision: 0.8387550828902096\n",
      "Positive Recall: 0.8747349535149241\n",
      "Positive F1 Score: 0.8563672654690618\n",
      "Negative Precision: 0.4958976042008533\n",
      "Negative Recall: 0.4228939266722642\n",
      "Negative F1 Score: 0.4564954682779456\n"
     ]
    }
   ],
   "source": [
    "correct = 0\n",
    "pos_count = 0\n",
    "matrix = [0, 0, 0, 0]\n",
    "preds = network.predict(nn_test_x)\n",
    "for i in range(len(test_y)):\n",
    "    if (preds[i] > 0.5):\n",
    "        pos_count += 1\n",
    "    if (preds[i] > 0.5 and test_y.iloc[i] > 0.5):\n",
    "        correct += 1\n",
    "        matrix[0] += 1\n",
    "    elif (preds[i] <= 0.5 and test_y.iloc[i] <= 0.5):\n",
    "        correct += 1\n",
    "        matrix[1] += 1\n",
    "    elif (preds[i] > 0.5 and test_y.iloc[i] <= 0.5):\n",
    "        matrix[2] += 1\n",
    "    elif (preds[i] <= 0.5 and test_y.iloc[i] > 0.5):\n",
    "        matrix[3] += 1\n",
    "\n",
    "pos_f1 = 2 * ((matrix[0] / pos_count) * (matrix[0] / len(test_df[test_df.positive == 1]))) / ((matrix[0] / pos_count) + (matrix[0] / len(test_df[test_df.positive == 1])))\n",
    "neg_f1 = 2 * ((matrix[1] / (matrix[1] + matrix[3])) * (matrix[1] / (len(test_df[test_df.positive == 0])))) / ((matrix[1] / (matrix[1] + matrix[3])) + (matrix[1] / (len(test_df[test_df.positive == 0]))))\n",
    "print('Correct:', correct, correct / len(test_df))\n",
    "print('Pos:', pos_count, pos_count / len(test_df))\n",
    "print('True Positive:', matrix[0], matrix[0] / len(test_df))\n",
    "print('True Negative:', matrix[1], matrix[1] / len(test_df))\n",
    "print('False Positive:', matrix[2], matrix[2] / len(test_df))\n",
    "print('False Negative:', matrix[3], matrix[3] / len(test_df))\n",
    "print('Positive Precision:', matrix[0] / pos_count)\n",
    "print('Positive Recall:', matrix[0] / len(test_df[test_df.positive == 1]))\n",
    "print('Positive F1 Score:', pos_f1)\n",
    "print('Negative Precision:', matrix[1] / (matrix[1] + matrix[3]))\n",
    "print('Negative Recall:', matrix[1] / (len(test_df[test_df.positive == 0])))\n",
    "print('Negative F1 Score:', neg_f1)"
   ]
  },
  {
   "cell_type": "code",
   "execution_count": 174,
   "metadata": {},
   "outputs": [],
   "source": [
    "#network.save('basic_neural_net8.h5')"
   ]
  },
  {
   "cell_type": "code",
   "execution_count": 176,
   "metadata": {},
   "outputs": [
    {
     "name": "stdout",
     "output_type": "stream",
     "text": [
      "Correct: 11824 0.7467003473318599\n",
      "Pos: 13035 0.8231765077360278\n",
      "True Positive: 10643 0.6721187243448058\n",
      "True Negative: 1181 0.074581622987054\n",
      "False Positive: 2392 0.15105778339122197\n",
      "False Negative: 1619 0.10224186927691822\n",
      "Positive Precision: 0.816494054468738\n",
      "Positive Recall: 0.8679660740499103\n",
      "Positive F1 Score: 0.8414436494445983\n",
      "Negative Precision: 0.42178571428571426\n",
      "Negative Recall: 0.33053456479149174\n",
      "Negative F1 Score: 0.37062607876981013\n"
     ]
    }
   ],
   "source": [
    "correct = 0\n",
    "pos_count = 0\n",
    "matrix = [0, 0, 0, 0]\n",
    "for i in range(len(test_y)):\n",
    "    pred = 1 if test_x.iloc[i].pos_sim >= test_x.iloc[i].neg_sim else 0 \n",
    "    if (pred > 0.5):\n",
    "        pos_count += 1\n",
    "    if (pred > 0.5 and test_y.iloc[i] > 0.5):\n",
    "        correct += 1\n",
    "        matrix[0] += 1\n",
    "    elif (pred <= 0.5 and test_y.iloc[i] <= 0.5):\n",
    "        correct += 1\n",
    "        matrix[1] += 1\n",
    "    elif (pred > 0.5 and test_y.iloc[i] <= 0.5):\n",
    "        matrix[2] += 1\n",
    "    elif (pred <= 0.5 and test_y.iloc[i] > 0.5):\n",
    "        matrix[3] += 1\n",
    "\n",
    "pos_f1 = 2 * ((matrix[0] / pos_count) * (matrix[0] / len(test_df[test_df.positive == 1]))) / ((matrix[0] / pos_count) + (matrix[0] / len(test_df[test_df.positive == 1])))\n",
    "neg_f1 = 2 * ((matrix[1] / (matrix[1] + matrix[3])) * (matrix[1] / (len(test_df[test_df.positive == 0])))) / ((matrix[1] / (matrix[1] + matrix[3])) + (matrix[1] / (len(test_df[test_df.positive == 0]))))\n",
    "print('Correct:', correct, correct / len(test_df))\n",
    "print('Pos:', pos_count, pos_count / len(test_df))\n",
    "print('True Positive:', matrix[0], matrix[0] / len(test_df))\n",
    "print('True Negative:', matrix[1], matrix[1] / len(test_df))\n",
    "print('False Positive:', matrix[2], matrix[2] / len(test_df))\n",
    "print('False Negative:', matrix[3], matrix[3] / len(test_df))\n",
    "print('Positive Precision:', matrix[0] / pos_count)\n",
    "print('Positive Recall:', matrix[0] / len(test_df[test_df.positive == 1]))\n",
    "print('Positive F1 Score:', pos_f1)\n",
    "print('Negative Precision:', matrix[1] / (matrix[1] + matrix[3]))\n",
    "print('Negative Recall:', matrix[1] / (len(test_df[test_df.positive == 0])))\n",
    "print('Negative F1 Score:', neg_f1)"
   ]
  },
  {
   "cell_type": "code",
   "execution_count": null,
   "metadata": {},
   "outputs": [],
   "source": []
  }
 ],
 "metadata": {
  "kernelspec": {
   "display_name": "Python 3",
   "language": "python",
   "name": "python3"
  },
  "language_info": {
   "codemirror_mode": {
    "name": "ipython",
    "version": 3
   },
   "file_extension": ".py",
   "mimetype": "text/x-python",
   "name": "python",
   "nbconvert_exporter": "python",
   "pygments_lexer": "ipython3",
   "version": "3.7.6"
  }
 },
 "nbformat": 4,
 "nbformat_minor": 2
}
