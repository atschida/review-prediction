{
 "cells": [
  {
   "cell_type": "code",
   "execution_count": 1,
   "metadata": {},
   "outputs": [],
   "source": [
    "import pandas as pd"
   ]
  },
  {
   "cell_type": "code",
   "execution_count": 8,
   "metadata": {},
   "outputs": [],
   "source": [
    "def jaccard_similarity(query, document):\n",
    "    query, document = query.split(), document.split()\n",
    "    intersection = set(query).intersection(set(document))\n",
    "    union = set(query).union(set(document))\n",
    "    return len(intersection)/len(union)"
   ]
  },
  {
   "cell_type": "code",
   "execution_count": 78,
   "metadata": {},
   "outputs": [],
   "source": [
    "def get_most_similar_review(row, raw_source):\n",
    "    prod = row.prod_corpus\n",
    "    if (isinstance(prod, float)):\n",
    "        return None\n",
    "    cust_reviews = raw_source.query('customer_id == {}'.format(row.customer_id))\n",
    "    max_sim, max_row = 0, None\n",
    "    for i, review in cust_reviews.iterrows():\n",
    "        if (not review.product_parent in product_df.index):\n",
    "            continue\n",
    "        cur_prod = product_df.loc[review.product_parent].corpus\n",
    "        if (isinstance(cur_prod, float)):\n",
    "            continue\n",
    "        sim = jaccard_similarity(prod, cur_prod)\n",
    "        if (sim > max_sim):\n",
    "            max_sim, max_row = sim, review\n",
    "            \n",
    "    return max_row"
   ]
  },
  {
   "cell_type": "code",
   "execution_count": 120,
   "metadata": {},
   "outputs": [],
   "source": [
    "from sklearn.neighbors import NearestNeighbors\n",
    "def get_most_similar_product(row, raw_source):\n",
    "    if (not row.product_parent in product_df.index):\n",
    "        return None\n",
    "    prod = product_df.loc[row.product_parent]\n",
    "    cust_reviews = raw_source.query('customer_id == {}'.format(row.customer_id))\n",
    "    products = product_df[product_df.index.isin(cust_reviews.product_parent.tolist())]\n",
    "    if (len(products) == 0):\n",
    "        return None\n",
    "    nbrs = NearestNeighbors(n_neighbors=1, algorithm='ball_tree').fit(products.drop('corpus', axis=1))\n",
    "    return products.iloc[nbrs.kneighbors([prod.drop('corpus')], return_distance=False)[0][0]]"
   ]
  },
  {
   "cell_type": "code",
   "execution_count": 71,
   "metadata": {},
   "outputs": [
    {
     "data": {
      "text/html": [
       "<div>\n",
       "<style scoped>\n",
       "    .dataframe tbody tr th:only-of-type {\n",
       "        vertical-align: middle;\n",
       "    }\n",
       "\n",
       "    .dataframe tbody tr th {\n",
       "        vertical-align: top;\n",
       "    }\n",
       "\n",
       "    .dataframe thead th {\n",
       "        text-align: right;\n",
       "    }\n",
       "</style>\n",
       "<table border=\"1\" class=\"dataframe\">\n",
       "  <thead>\n",
       "    <tr style=\"text-align: right;\">\n",
       "      <th></th>\n",
       "      <th>review_id</th>\n",
       "      <th>star_rating</th>\n",
       "      <th>star_rating.1</th>\n",
       "      <th>total_votes</th>\n",
       "      <th>total_votes.1</th>\n",
       "      <th>helpful_votes</th>\n",
       "      <th>helpful_votes.1</th>\n",
       "      <th>corpus</th>\n",
       "    </tr>\n",
       "  </thead>\n",
       "  <tbody>\n",
       "    <tr>\n",
       "      <td>1602</td>\n",
       "      <td>3</td>\n",
       "      <td>3.6666666666666665</td>\n",
       "      <td>1.5275252316519468</td>\n",
       "      <td>0.3333333333333333</td>\n",
       "      <td>0.5773502691896258</td>\n",
       "      <td>0.0</td>\n",
       "      <td>0.0</td>\n",
       "      <td>keyboard month featur problems. &lt; br / &gt; &lt; br ...</td>\n",
       "    </tr>\n",
       "    <tr>\n",
       "      <td>2696</td>\n",
       "      <td>3</td>\n",
       "      <td>3.6666666666666665</td>\n",
       "      <td>1.5275252316519468</td>\n",
       "      <td>1.3333333333333333</td>\n",
       "      <td>0.5773502691896257</td>\n",
       "      <td>0.6666666666666666</td>\n",
       "      <td>1.1547005383792517</td>\n",
       "      <td>one pad roccat cu surfac metal foil. &lt; br / &gt; ...</td>\n",
       "    </tr>\n",
       "    <tr>\n",
       "      <td>3140</td>\n",
       "      <td>1</td>\n",
       "      <td>1.0</td>\n",
       "      <td>0.0</td>\n",
       "      <td>0.0</td>\n",
       "      <td>0.0</td>\n",
       "      <td>0.0</td>\n",
       "      <td>0.0</td>\n",
       "      <td>peel</td>\n",
       "    </tr>\n",
       "    <tr>\n",
       "      <td>4318</td>\n",
       "      <td>23</td>\n",
       "      <td>4.086956521739131</td>\n",
       "      <td>1.202763616096502</td>\n",
       "      <td>18.652173913043477</td>\n",
       "      <td>28.128938020305664</td>\n",
       "      <td>14.217391304347826</td>\n",
       "      <td>22.633355356719807</td>\n",
       "      <td>dimens purs i ipad mini im sick god tablet i t...</td>\n",
       "    </tr>\n",
       "    <tr>\n",
       "      <td>10581</td>\n",
       "      <td>7</td>\n",
       "      <td>5.0</td>\n",
       "      <td>0.0</td>\n",
       "      <td>2.7142857142857144</td>\n",
       "      <td>3.302235894778249</td>\n",
       "      <td>2.5714285714285716</td>\n",
       "      <td>3.408672412985387</td>\n",
       "      <td>did extens cabl bulk cabl length odd patch cab...</td>\n",
       "    </tr>\n",
       "  </tbody>\n",
       "</table>\n",
       "</div>"
      ],
      "text/plain": [
       "      review_id         star_rating       star_rating.1         total_votes  \\\n",
       "1602          3  3.6666666666666665  1.5275252316519468  0.3333333333333333   \n",
       "2696          3  3.6666666666666665  1.5275252316519468  1.3333333333333333   \n",
       "3140          1                 1.0                 0.0                 0.0   \n",
       "4318         23   4.086956521739131   1.202763616096502  18.652173913043477   \n",
       "10581         7                 5.0                 0.0  2.7142857142857144   \n",
       "\n",
       "            total_votes.1       helpful_votes     helpful_votes.1  \\\n",
       "1602   0.5773502691896258                 0.0                 0.0   \n",
       "2696   0.5773502691896257  0.6666666666666666  1.1547005383792517   \n",
       "3140                  0.0                 0.0                 0.0   \n",
       "4318   28.128938020305664  14.217391304347826  22.633355356719807   \n",
       "10581   3.302235894778249  2.5714285714285716   3.408672412985387   \n",
       "\n",
       "                                                  corpus  \n",
       "1602   keyboard month featur problems. < br / > < br ...  \n",
       "2696   one pad roccat cu surfac metal foil. < br / > ...  \n",
       "3140                                                peel  \n",
       "4318   dimens purs i ipad mini im sick god tablet i t...  \n",
       "10581  did extens cabl bulk cabl length odd patch cab...  "
      ]
     },
     "execution_count": 71,
     "metadata": {},
     "output_type": "execute_result"
    }
   ],
   "source": [
    "product_df = pd.read_csv('product_df.csv', index_col=0)\n",
    "product_df = product_df[2:]\n",
    "product_df.head()"
   ]
  },
  {
   "cell_type": "code",
   "execution_count": 72,
   "metadata": {},
   "outputs": [],
   "source": [
    "test_raw = pd.read_csv('test_raw.csv', index_col=0)\n",
    "test_df = pd.read_csv('test_df.csv', index_col=0)"
   ]
  },
  {
   "cell_type": "code",
   "execution_count": 97,
   "metadata": {},
   "outputs": [
    {
     "name": "stdout",
     "output_type": "stream",
     "text": [
      "Correct: 16565 0.7194353963083605\n",
      "Bad: 57 0.00247557003257329\n",
      "Positive: 18185 0.7897937024972855\n"
     ]
    }
   ],
   "source": [
    "correct = 0\n",
    "bad_data = 0\n",
    "positive = 0\n",
    "for i, row in test_df.iterrows():\n",
    "    pred = get_most_similar_review(row, test_raw)\n",
    "    if (pred is None):\n",
    "        bad_data += 1\n",
    "        continue\n",
    "    if (pred.star_rating > 3):\n",
    "        positive += 1\n",
    "    if (pred.star_rating > 3 and row.star_rating > 3):\n",
    "        correct += 1\n",
    "    if (pred.star_rating <= 3 and row.star_rating <= 3):\n",
    "        correct += 1\n",
    "\n",
    "print('Correct:', correct, correct / len(test_df))\n",
    "print('Bad:', bad_data, bad_data / len(test_df))\n",
    "print('Positive:', positive, positive / len(test_df))"
   ]
  },
  {
   "cell_type": "code",
   "execution_count": 121,
   "metadata": {},
   "outputs": [
    {
     "name": "stdout",
     "output_type": "stream",
     "text": [
      "Correct: 12026 0.5223018458197611\n",
      "Bad: 7204 0.3128773072747014\n",
      "Positive: 15010 0.651900108577633\n"
     ]
    }
   ],
   "source": [
    "correct = 0\n",
    "bad_data = 0\n",
    "positive = 0\n",
    "for i, row in test_df.iterrows():\n",
    "    pred = get_most_similar_product(row, test_raw)\n",
    "    if (pred is None):\n",
    "        bad_data += 1\n",
    "        continue\n",
    "    if (pred.star_rating > 3):\n",
    "        positive += 1\n",
    "    if (pred.star_rating > 3 and row.star_rating > 3):\n",
    "        correct += 1\n",
    "    if (pred.star_rating <= 3 and row.star_rating <= 3):\n",
    "        correct += 1\n",
    "\n",
    "print('Correct:', correct, correct / len(test_df))\n",
    "print('Bad:', bad_data, bad_data / len(test_df))\n",
    "print('Positive:', positive, positive / len(test_df))"
   ]
  },
  {
   "cell_type": "code",
   "execution_count": 135,
   "metadata": {},
   "outputs": [],
   "source": [
    "def get_pred(row, raw_source):\n",
    "    knn_pred = get_most_similar_product(row, raw_source)\n",
    "    jaccard_pred = get_most_similar_review(row, raw_source)\n",
    "    if (knn_pred is None and jaccard_pred is None):\n",
    "        return None, None\n",
    "    if (knn_pred is None):\n",
    "        return jaccard_pred.star_rating, None\n",
    "    if (jaccard_pred is None):\n",
    "        return None, knn_pred.star_rating\n",
    "    \n",
    "    return jaccard_pred.star_rating, knn_pred.star_rating"
   ]
  },
  {
   "cell_type": "code",
   "execution_count": 130,
   "metadata": {},
   "outputs": [
    {
     "name": "stdout",
     "output_type": "stream",
     "text": [
      "Correct: 17212 0.7475352877307274\n",
      "Bad: 36 0.0015635179153094462\n",
      "Positive: 19899 0.8642345276872965\n"
     ]
    }
   ],
   "source": [
    "correct = 0\n",
    "bad_data = 0\n",
    "positive = 0\n",
    "for i, row in test_df.iterrows():\n",
    "    pred = get_pred(row, test_raw)\n",
    "    if (pred is None):\n",
    "        bad_data += 1\n",
    "        continue\n",
    "    if (pred > 3):\n",
    "        positive += 1\n",
    "    if (pred > 3 and row.star_rating > 3):\n",
    "        correct += 1\n",
    "    if (pred <= 3 and row.star_rating <= 3):\n",
    "        correct += 1\n",
    "\n",
    "print('Correct:', correct, correct / len(test_df))\n",
    "print('Bad:', bad_data, bad_data / len(test_df))\n",
    "print('Positive:', positive, positive / len(test_df))"
   ]
  },
  {
   "cell_type": "code",
   "execution_count": 131,
   "metadata": {},
   "outputs": [],
   "source": [
    "train_raw = pd.read_csv('train_raw.csv', index_col=0)\n",
    "train_df = pd.read_csv('train_df.csv', index_col=0)"
   ]
  },
  {
   "cell_type": "code",
   "execution_count": 138,
   "metadata": {},
   "outputs": [],
   "source": [
    "res = []\n",
    "for i, row in train_df.iterrows():\n",
    "    pred = get_pred(row, train_raw)\n",
    "    res.append((pred[0], pred[1], row.star_rating))"
   ]
  },
  {
   "cell_type": "code",
   "execution_count": 139,
   "metadata": {},
   "outputs": [],
   "source": [
    "def get_weighted(jacc, knn, alpha):\n",
    "    if (jacc is None and knn is None):\n",
    "        return None\n",
    "    if (jacc is None):\n",
    "        return knn\n",
    "    if (knn is None):\n",
    "        return jacc\n",
    "    \n",
    "    return alpha * jacc + (1 - alpha) * knn"
   ]
  },
  {
   "cell_type": "code",
   "execution_count": 179,
   "metadata": {},
   "outputs": [
    {
     "name": "stdout",
     "output_type": "stream",
     "text": [
      "Best Results at Alpha: 0.2 Acc: 0.775109138638704\n"
     ]
    }
   ],
   "source": [
    "accs = []\n",
    "best_alpha = 0\n",
    "best_acc = 0\n",
    "for alpha_big in range(101):\n",
    "    alpha = alpha_big / 100\n",
    "    correct = 0\n",
    "    positive = 0\n",
    "    bad_data = 0\n",
    "    for jacc, knn, truth in res:\n",
    "        pred = get_weighted(jacc, knn, alpha)\n",
    "        #print(jacc, knn, correct, pred)\n",
    "        if (pred is None):\n",
    "            bad_data += 1\n",
    "            continue\n",
    "        if (pred > 3):\n",
    "            positive += 1\n",
    "        if (pred > 3 and truth > 3):\n",
    "            correct += 1\n",
    "        if (pred <= 3 and truth <= 3):\n",
    "            correct += 1\n",
    "    '''print('---', alpha, '---')\n",
    "    print('Correct:', correct, correct / len(train_df))\n",
    "    print('Bad:', bad_data, bad_data / len(train_df))\n",
    "    print('Positive:', positive, positive / len(train_df))'''\n",
    "    accs.append(correct / len(train_df))\n",
    "    if (correct / len(train_df) > best_acc):\n",
    "        best_acc, best_alpha = (correct / len(train_df)), alpha\n",
    "\n",
    "print('Best Results at Alpha: {} Acc: {}'.format(best_alpha, best_acc))        "
   ]
  },
  {
   "cell_type": "code",
   "execution_count": 153,
   "metadata": {},
   "outputs": [],
   "source": [
    "test_res = []\n",
    "for i, row in test_df.iterrows():\n",
    "    pred = get_pred(row, test_raw)\n",
    "    test_res.append((pred[0], pred[1], row.star_rating))"
   ]
  },
  {
   "cell_type": "code",
   "execution_count": 178,
   "metadata": {},
   "outputs": [
    {
     "name": "stdout",
     "output_type": "stream",
     "text": [
      "Best Results at Alpha: 0.34 Acc: 0.7521389793702498 Pos: 0.8912486427795874\n",
      "Correct Neg: 0.04477741585233442\n",
      "Correct Pos: 0.7073615635179153\n",
      "False Neg: 0.06241042345276873\n",
      "False Pos: 0.18388707926167208\n"
     ]
    }
   ],
   "source": [
    "threshhold = 3\n",
    "test_accs = []\n",
    "test_best_alpha = 0\n",
    "test_best_acc = 0\n",
    "test_best_pos = 0\n",
    "test_best_correct_pos = 0\n",
    "test_best_correct_neg = 0\n",
    "test_best_false_pos = 0\n",
    "test_best_false_neg = 0\n",
    "for alpha_big in range(101):\n",
    "    alpha = alpha_big / 100\n",
    "    correct = 0\n",
    "    positive = 0\n",
    "    bad_data = 0\n",
    "    correct_pos = 0\n",
    "    correct_neg = 0\n",
    "    false_neg = 0\n",
    "    false_pos = 0\n",
    "    for jacc, knn, truth in test_res:\n",
    "        pred = get_weighted(jacc, knn, alpha)\n",
    "        #print(jacc, knn, correct, pred)\n",
    "        if (pred is None):\n",
    "            bad_data += 1\n",
    "            continue\n",
    "        if (pred > threshhold):\n",
    "            positive += 1\n",
    "        if (pred > threshhold and truth > threshhold):\n",
    "            correct += 1\n",
    "            correct_pos += 1\n",
    "        if (pred <= threshhold and truth <= threshhold):\n",
    "            correct += 1\n",
    "            correct_neg += 1 \n",
    "        if (pred <= threshhold and truth > threshhold):\n",
    "            false_neg += 1 \n",
    "        if (pred > threshhold and truth <= threshhold):\n",
    "            false_pos += 1 \n",
    "    '''print('---', alpha, '---')\n",
    "    print('Correct:', correct, correct / len(train_df))\n",
    "    print('Bad:', bad_data, bad_data / len(train_df))\n",
    "    print('Positive:', positive, positive / len(train_df))'''\n",
    "    test_accs.append(correct / len(test_df))\n",
    "    if (correct / len(test_df) > test_best_acc):\n",
    "    #if (correct_neg > test_best_correct_neg):\n",
    "        test_best_acc, test_best_alpha, test_best_pos = (correct / len(test_df)), alpha, (positive / len(test_df))\n",
    "        test_best_correct_neg = correct_neg\n",
    "        test_best_correct_pos = correct_pos\n",
    "        test_best_false_pos = false_pos\n",
    "        test_best_false_neg = false_neg\n",
    "\n",
    "print('Best Results at Alpha: {} Acc: {} Pos: {}'.format(test_best_alpha, test_best_acc, test_best_pos))\n",
    "print('Correct Neg:', test_best_correct_neg / len(test_df))# len(test_df[test_df.star_rating <= threshhold]))\n",
    "print('Correct Pos:', test_best_correct_pos / len(test_df))#len(test_df[test_df.star_rating > threshhold]))\n",
    "print('False Neg:', test_best_false_neg / len(test_df))#len(test_df[test_df.star_rating <= threshhold])))\n",
    "print('False Pos:', test_best_false_pos / len(test_df))#len(test_df[test_df.star_rating > threshhold])))"
   ]
  },
  {
   "cell_type": "code",
   "execution_count": 147,
   "metadata": {},
   "outputs": [
    {
     "data": {
      "text/plain": [
       "0.775109138638704"
      ]
     },
     "execution_count": 147,
     "metadata": {},
     "output_type": "execute_result"
    }
   ],
   "source": [
    "max(accs)"
   ]
  },
  {
   "cell_type": "code",
   "execution_count": null,
   "metadata": {},
   "outputs": [],
   "source": []
  }
 ],
 "metadata": {
  "kernelspec": {
   "display_name": "Python 3",
   "language": "python",
   "name": "python3"
  },
  "language_info": {
   "codemirror_mode": {
    "name": "ipython",
    "version": 3
   },
   "file_extension": ".py",
   "mimetype": "text/x-python",
   "name": "python",
   "nbconvert_exporter": "python",
   "pygments_lexer": "ipython3",
   "version": "3.7.6"
  }
 },
 "nbformat": 4,
 "nbformat_minor": 2
}
