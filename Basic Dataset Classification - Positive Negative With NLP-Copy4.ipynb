{
 "cells": [
  {
   "cell_type": "code",
   "execution_count": 1,
   "metadata": {},
   "outputs": [],
   "source": [
    "import pandas as pd\n",
    "from sklearn.ensemble import RandomForestClassifier\n",
    "from sklearn.ensemble import RandomForestRegressor"
   ]
  },
  {
   "cell_type": "code",
   "execution_count": 2,
   "metadata": {},
   "outputs": [
    {
     "data": {
      "text/html": [
       "<div>\n",
       "<style scoped>\n",
       "    .dataframe tbody tr th:only-of-type {\n",
       "        vertical-align: middle;\n",
       "    }\n",
       "\n",
       "    .dataframe tbody tr th {\n",
       "        vertical-align: top;\n",
       "    }\n",
       "\n",
       "    .dataframe thead th {\n",
       "        text-align: right;\n",
       "    }\n",
       "</style>\n",
       "<table border=\"1\" class=\"dataframe\">\n",
       "  <thead>\n",
       "    <tr style=\"text-align: right;\">\n",
       "      <th></th>\n",
       "      <th>customer_id</th>\n",
       "      <th>product_parent</th>\n",
       "      <th>star_rating</th>\n",
       "      <th>cust_review_count</th>\n",
       "      <th>cust_star_rating_mean</th>\n",
       "      <th>cust_star_rating_std</th>\n",
       "      <th>cust_total_votes_mean</th>\n",
       "      <th>cust_total_votes_std</th>\n",
       "      <th>cust_helpful_votes_mean</th>\n",
       "      <th>cust_helpful_votes_std</th>\n",
       "      <th>...</th>\n",
       "      <th>pos_3_word_3</th>\n",
       "      <th>neg_1_word_1</th>\n",
       "      <th>neg_1_word_2</th>\n",
       "      <th>neg_1_word_3</th>\n",
       "      <th>neg_2_word_1</th>\n",
       "      <th>neg_2_word_2</th>\n",
       "      <th>neg_2_word_3</th>\n",
       "      <th>neg_3_word_1</th>\n",
       "      <th>neg_3_word_2</th>\n",
       "      <th>neg_3_word_3</th>\n",
       "    </tr>\n",
       "  </thead>\n",
       "  <tbody>\n",
       "    <tr>\n",
       "      <th>0</th>\n",
       "      <td>1617361</td>\n",
       "      <td>849246716</td>\n",
       "      <td>5</td>\n",
       "      <td>5</td>\n",
       "      <td>5.000000</td>\n",
       "      <td>0.000000</td>\n",
       "      <td>0.200000</td>\n",
       "      <td>0.447214</td>\n",
       "      <td>0.000000</td>\n",
       "      <td>0.000000</td>\n",
       "      <td>...</td>\n",
       "      <td>0.186957</td>\n",
       "      <td>0.000000</td>\n",
       "      <td>0.000000</td>\n",
       "      <td>0.000000</td>\n",
       "      <td>0.000000</td>\n",
       "      <td>0.000000</td>\n",
       "      <td>0.000000</td>\n",
       "      <td>0.000000</td>\n",
       "      <td>0.000000</td>\n",
       "      <td>0.000000</td>\n",
       "    </tr>\n",
       "    <tr>\n",
       "      <th>1</th>\n",
       "      <td>53052607</td>\n",
       "      <td>849246716</td>\n",
       "      <td>3</td>\n",
       "      <td>5</td>\n",
       "      <td>3.600000</td>\n",
       "      <td>0.547723</td>\n",
       "      <td>0.400000</td>\n",
       "      <td>0.894427</td>\n",
       "      <td>0.400000</td>\n",
       "      <td>0.894427</td>\n",
       "      <td>...</td>\n",
       "      <td>-0.028547</td>\n",
       "      <td>0.172017</td>\n",
       "      <td>0.084518</td>\n",
       "      <td>0.194290</td>\n",
       "      <td>0.002472</td>\n",
       "      <td>0.006273</td>\n",
       "      <td>0.052950</td>\n",
       "      <td>0.344210</td>\n",
       "      <td>0.307019</td>\n",
       "      <td>0.363920</td>\n",
       "    </tr>\n",
       "    <tr>\n",
       "      <th>2</th>\n",
       "      <td>15679577</td>\n",
       "      <td>849246716</td>\n",
       "      <td>5</td>\n",
       "      <td>8</td>\n",
       "      <td>3.375000</td>\n",
       "      <td>1.505941</td>\n",
       "      <td>7.625000</td>\n",
       "      <td>19.175412</td>\n",
       "      <td>6.500000</td>\n",
       "      <td>17.188036</td>\n",
       "      <td>...</td>\n",
       "      <td>0.044000</td>\n",
       "      <td>0.371702</td>\n",
       "      <td>0.000015</td>\n",
       "      <td>0.316641</td>\n",
       "      <td>0.156807</td>\n",
       "      <td>0.052990</td>\n",
       "      <td>0.165214</td>\n",
       "      <td>0.011699</td>\n",
       "      <td>-0.066285</td>\n",
       "      <td>-0.171195</td>\n",
       "    </tr>\n",
       "    <tr>\n",
       "      <th>3</th>\n",
       "      <td>16367779</td>\n",
       "      <td>849246716</td>\n",
       "      <td>5</td>\n",
       "      <td>9</td>\n",
       "      <td>4.444444</td>\n",
       "      <td>0.527046</td>\n",
       "      <td>0.888889</td>\n",
       "      <td>1.364225</td>\n",
       "      <td>0.777778</td>\n",
       "      <td>1.092906</td>\n",
       "      <td>...</td>\n",
       "      <td>-0.171195</td>\n",
       "      <td>0.000000</td>\n",
       "      <td>0.000000</td>\n",
       "      <td>0.000000</td>\n",
       "      <td>0.000000</td>\n",
       "      <td>0.000000</td>\n",
       "      <td>0.000000</td>\n",
       "      <td>0.000000</td>\n",
       "      <td>0.000000</td>\n",
       "      <td>0.000000</td>\n",
       "    </tr>\n",
       "    <tr>\n",
       "      <th>4</th>\n",
       "      <td>25485198</td>\n",
       "      <td>849246716</td>\n",
       "      <td>5</td>\n",
       "      <td>17</td>\n",
       "      <td>5.000000</td>\n",
       "      <td>0.000000</td>\n",
       "      <td>0.235294</td>\n",
       "      <td>0.437237</td>\n",
       "      <td>0.176471</td>\n",
       "      <td>0.392953</td>\n",
       "      <td>...</td>\n",
       "      <td>0.249734</td>\n",
       "      <td>0.000000</td>\n",
       "      <td>0.000000</td>\n",
       "      <td>0.000000</td>\n",
       "      <td>0.000000</td>\n",
       "      <td>0.000000</td>\n",
       "      <td>0.000000</td>\n",
       "      <td>0.000000</td>\n",
       "      <td>0.000000</td>\n",
       "      <td>0.000000</td>\n",
       "    </tr>\n",
       "  </tbody>\n",
       "</table>\n",
       "<p>5 rows × 37 columns</p>\n",
       "</div>"
      ],
      "text/plain": [
       "   customer_id  product_parent  star_rating  cust_review_count  \\\n",
       "0      1617361       849246716            5                  5   \n",
       "1     53052607       849246716            3                  5   \n",
       "2     15679577       849246716            5                  8   \n",
       "3     16367779       849246716            5                  9   \n",
       "4     25485198       849246716            5                 17   \n",
       "\n",
       "   cust_star_rating_mean  cust_star_rating_std  cust_total_votes_mean  \\\n",
       "0               5.000000              0.000000               0.200000   \n",
       "1               3.600000              0.547723               0.400000   \n",
       "2               3.375000              1.505941               7.625000   \n",
       "3               4.444444              0.527046               0.888889   \n",
       "4               5.000000              0.000000               0.235294   \n",
       "\n",
       "   cust_total_votes_std  cust_helpful_votes_mean  cust_helpful_votes_std  ...  \\\n",
       "0              0.447214                 0.000000                0.000000  ...   \n",
       "1              0.894427                 0.400000                0.894427  ...   \n",
       "2             19.175412                 6.500000               17.188036  ...   \n",
       "3              1.364225                 0.777778                1.092906  ...   \n",
       "4              0.437237                 0.176471                0.392953  ...   \n",
       "\n",
       "   pos_3_word_3  neg_1_word_1  neg_1_word_2  neg_1_word_3  neg_2_word_1  \\\n",
       "0      0.186957      0.000000      0.000000      0.000000      0.000000   \n",
       "1     -0.028547      0.172017      0.084518      0.194290      0.002472   \n",
       "2      0.044000      0.371702      0.000015      0.316641      0.156807   \n",
       "3     -0.171195      0.000000      0.000000      0.000000      0.000000   \n",
       "4      0.249734      0.000000      0.000000      0.000000      0.000000   \n",
       "\n",
       "   neg_2_word_2  neg_2_word_3  neg_3_word_1  neg_3_word_2  neg_3_word_3  \n",
       "0      0.000000      0.000000      0.000000      0.000000      0.000000  \n",
       "1      0.006273      0.052950      0.344210      0.307019      0.363920  \n",
       "2      0.052990      0.165214      0.011699     -0.066285     -0.171195  \n",
       "3      0.000000      0.000000      0.000000      0.000000      0.000000  \n",
       "4      0.000000      0.000000      0.000000      0.000000      0.000000  \n",
       "\n",
       "[5 rows x 37 columns]"
      ]
     },
     "execution_count": 2,
     "metadata": {},
     "output_type": "execute_result"
    }
   ],
   "source": [
    "train_df = pd.read_csv('train_df2.csv', index_col=0)\n",
    "train_df.drop(['positive', 'pos_corpus', 'neg_corpus', 'pos_1', 'pos_2', 'pos_3', \n",
    "               'neg_1', 'neg_2', 'neg_3', 'prod_corpus', 'word_1', 'word_2', 'word_3'], axis=1, inplace=True)\n",
    "#train_df.drop(['cust_total_votes_mean', 'cust_total_votes_std', 'cust_helpful_votes_mean', 'cust_helpful_votes_std', \n",
    "#               'prod_total_votes_mean', 'prod_total_votes_std', 'prod_helpful_votes_mean', 'prod_helpful_votes_std'], \n",
    "#              axis=1, inplace=True)\n",
    "train_df.head()"
   ]
  },
  {
   "cell_type": "code",
   "execution_count": 3,
   "metadata": {},
   "outputs": [
    {
     "data": {
      "text/plain": [
       "Index(['customer_id', 'product_parent', 'star_rating', 'cust_review_count',\n",
       "       'cust_star_rating_mean', 'cust_star_rating_std',\n",
       "       'cust_total_votes_mean', 'cust_total_votes_std',\n",
       "       'cust_helpful_votes_mean', 'cust_helpful_votes_std',\n",
       "       'prod_review_count', 'prod_star_rating_mean', 'prod_star_rating_std',\n",
       "       'prod_total_votes_mean', 'prod_total_votes_std',\n",
       "       'prod_helpful_votes_mean', 'prod_helpful_votes_std', 'pos_sim',\n",
       "       'neg_sim', 'pos_1_word_1', 'pos_1_word_2', 'pos_1_word_3',\n",
       "       'pos_2_word_1', 'pos_2_word_2', 'pos_2_word_3', 'pos_3_word_1',\n",
       "       'pos_3_word_2', 'pos_3_word_3', 'neg_1_word_1', 'neg_1_word_2',\n",
       "       'neg_1_word_3', 'neg_2_word_1', 'neg_2_word_2', 'neg_2_word_3',\n",
       "       'neg_3_word_1', 'neg_3_word_2', 'neg_3_word_3'],\n",
       "      dtype='object')"
      ]
     },
     "execution_count": 3,
     "metadata": {},
     "output_type": "execute_result"
    }
   ],
   "source": [
    "train_df.columns"
   ]
  },
  {
   "cell_type": "code",
   "execution_count": 4,
   "metadata": {},
   "outputs": [
    {
     "data": {
      "text/plain": [
       "star_rating\n",
       "1     3431\n",
       "2     2299\n",
       "3     3801\n",
       "4     7972\n",
       "5    30219\n",
       "dtype: int64"
      ]
     },
     "execution_count": 4,
     "metadata": {},
     "output_type": "execute_result"
    }
   ],
   "source": [
    "train_df.groupby('star_rating').size()"
   ]
  },
  {
   "cell_type": "code",
   "execution_count": 5,
   "metadata": {},
   "outputs": [],
   "source": [
    "temp = train_df[train_df.star_rating == 1]\n",
    "temp = pd.concat([temp, train_df[train_df.star_rating == 2]])\n",
    "temp = pd.concat([temp, train_df[train_df.star_rating == 3]])\n",
    "temp = pd.concat([temp, train_df[train_df.star_rating == 4][:4765]])\n",
    "temp = pd.concat([temp, train_df[train_df.star_rating == 5][:4765]])\n",
    "train_df = temp"
   ]
  },
  {
   "cell_type": "code",
   "execution_count": 6,
   "metadata": {},
   "outputs": [
    {
     "data": {
      "text/plain": [
       "star_rating\n",
       "1    0.180001\n",
       "2    0.120613\n",
       "3    0.199412\n",
       "4    0.249987\n",
       "5    0.249987\n",
       "dtype: float64"
      ]
     },
     "execution_count": 6,
     "metadata": {},
     "output_type": "execute_result"
    }
   ],
   "source": [
    "train_df.groupby('star_rating').size() / len(train_df)"
   ]
  },
  {
   "cell_type": "code",
   "execution_count": 7,
   "metadata": {},
   "outputs": [
    {
     "data": {
      "text/plain": [
       "0.49997376842767954"
      ]
     },
     "execution_count": 7,
     "metadata": {},
     "output_type": "execute_result"
    }
   ],
   "source": [
    "len(train_df[train_df.star_rating > 3]) / len(train_df)"
   ]
  },
  {
   "cell_type": "code",
   "execution_count": 8,
   "metadata": {},
   "outputs": [
    {
     "data": {
      "text/html": [
       "<div>\n",
       "<style scoped>\n",
       "    .dataframe tbody tr th:only-of-type {\n",
       "        vertical-align: middle;\n",
       "    }\n",
       "\n",
       "    .dataframe tbody tr th {\n",
       "        vertical-align: top;\n",
       "    }\n",
       "\n",
       "    .dataframe thead th {\n",
       "        text-align: right;\n",
       "    }\n",
       "</style>\n",
       "<table border=\"1\" class=\"dataframe\">\n",
       "  <thead>\n",
       "    <tr style=\"text-align: right;\">\n",
       "      <th></th>\n",
       "      <th>customer_id</th>\n",
       "      <th>product_parent</th>\n",
       "      <th>star_rating</th>\n",
       "      <th>cust_review_count</th>\n",
       "      <th>cust_star_rating_mean</th>\n",
       "      <th>cust_star_rating_std</th>\n",
       "      <th>cust_total_votes_mean</th>\n",
       "      <th>cust_total_votes_std</th>\n",
       "      <th>cust_helpful_votes_mean</th>\n",
       "      <th>cust_helpful_votes_std</th>\n",
       "      <th>...</th>\n",
       "      <th>pos_3_word_3</th>\n",
       "      <th>neg_1_word_1</th>\n",
       "      <th>neg_1_word_2</th>\n",
       "      <th>neg_1_word_3</th>\n",
       "      <th>neg_2_word_1</th>\n",
       "      <th>neg_2_word_2</th>\n",
       "      <th>neg_2_word_3</th>\n",
       "      <th>neg_3_word_1</th>\n",
       "      <th>neg_3_word_2</th>\n",
       "      <th>neg_3_word_3</th>\n",
       "    </tr>\n",
       "  </thead>\n",
       "  <tbody>\n",
       "    <tr>\n",
       "      <th>0</th>\n",
       "      <td>36330222</td>\n",
       "      <td>986428010</td>\n",
       "      <td>5</td>\n",
       "      <td>24</td>\n",
       "      <td>4.291667</td>\n",
       "      <td>1.267629</td>\n",
       "      <td>0.541667</td>\n",
       "      <td>1.250362</td>\n",
       "      <td>0.333333</td>\n",
       "      <td>1.049500</td>\n",
       "      <td>...</td>\n",
       "      <td>0.001941</td>\n",
       "      <td>0.000987</td>\n",
       "      <td>-0.015594</td>\n",
       "      <td>-0.013630</td>\n",
       "      <td>0.006534</td>\n",
       "      <td>0.007653</td>\n",
       "      <td>0.023873</td>\n",
       "      <td>-0.029103</td>\n",
       "      <td>-0.046843</td>\n",
       "      <td>-0.041810</td>\n",
       "    </tr>\n",
       "    <tr>\n",
       "      <th>1</th>\n",
       "      <td>24360083</td>\n",
       "      <td>986428010</td>\n",
       "      <td>4</td>\n",
       "      <td>23</td>\n",
       "      <td>4.347826</td>\n",
       "      <td>1.191206</td>\n",
       "      <td>1.434783</td>\n",
       "      <td>2.191431</td>\n",
       "      <td>1.000000</td>\n",
       "      <td>1.537412</td>\n",
       "      <td>...</td>\n",
       "      <td>0.901494</td>\n",
       "      <td>-0.222196</td>\n",
       "      <td>-0.196039</td>\n",
       "      <td>-0.217517</td>\n",
       "      <td>0.918800</td>\n",
       "      <td>0.925143</td>\n",
       "      <td>0.901494</td>\n",
       "      <td>0.919331</td>\n",
       "      <td>0.902017</td>\n",
       "      <td>1.000000</td>\n",
       "    </tr>\n",
       "    <tr>\n",
       "      <th>2</th>\n",
       "      <td>28891040</td>\n",
       "      <td>437083384</td>\n",
       "      <td>4</td>\n",
       "      <td>10</td>\n",
       "      <td>4.500000</td>\n",
       "      <td>0.707107</td>\n",
       "      <td>0.000000</td>\n",
       "      <td>0.000000</td>\n",
       "      <td>0.000000</td>\n",
       "      <td>0.000000</td>\n",
       "      <td>...</td>\n",
       "      <td>0.092532</td>\n",
       "      <td>0.313854</td>\n",
       "      <td>0.086877</td>\n",
       "      <td>0.315884</td>\n",
       "      <td>0.196752</td>\n",
       "      <td>0.052950</td>\n",
       "      <td>0.194290</td>\n",
       "      <td>0.054040</td>\n",
       "      <td>0.014332</td>\n",
       "      <td>-0.002904</td>\n",
       "    </tr>\n",
       "    <tr>\n",
       "      <th>3</th>\n",
       "      <td>52449052</td>\n",
       "      <td>437083384</td>\n",
       "      <td>3</td>\n",
       "      <td>5</td>\n",
       "      <td>3.400000</td>\n",
       "      <td>1.516575</td>\n",
       "      <td>11.800000</td>\n",
       "      <td>20.789420</td>\n",
       "      <td>10.400000</td>\n",
       "      <td>18.187908</td>\n",
       "      <td>...</td>\n",
       "      <td>0.187860</td>\n",
       "      <td>0.083284</td>\n",
       "      <td>-0.115922</td>\n",
       "      <td>0.023810</td>\n",
       "      <td>0.090283</td>\n",
       "      <td>-0.083403</td>\n",
       "      <td>0.025464</td>\n",
       "      <td>0.084633</td>\n",
       "      <td>-0.092710</td>\n",
       "      <td>0.019767</td>\n",
       "    </tr>\n",
       "    <tr>\n",
       "      <th>4</th>\n",
       "      <td>27192976</td>\n",
       "      <td>437083384</td>\n",
       "      <td>4</td>\n",
       "      <td>6</td>\n",
       "      <td>4.666667</td>\n",
       "      <td>0.816497</td>\n",
       "      <td>0.500000</td>\n",
       "      <td>1.224745</td>\n",
       "      <td>0.000000</td>\n",
       "      <td>0.000000</td>\n",
       "      <td>...</td>\n",
       "      <td>0.126235</td>\n",
       "      <td>-0.083963</td>\n",
       "      <td>0.036128</td>\n",
       "      <td>-0.155615</td>\n",
       "      <td>-0.020984</td>\n",
       "      <td>0.021015</td>\n",
       "      <td>-0.042505</td>\n",
       "      <td>0.059809</td>\n",
       "      <td>-0.017769</td>\n",
       "      <td>-0.064662</td>\n",
       "    </tr>\n",
       "  </tbody>\n",
       "</table>\n",
       "<p>5 rows × 37 columns</p>\n",
       "</div>"
      ],
      "text/plain": [
       "   customer_id  product_parent  star_rating  cust_review_count  \\\n",
       "0     36330222       986428010            5                 24   \n",
       "1     24360083       986428010            4                 23   \n",
       "2     28891040       437083384            4                 10   \n",
       "3     52449052       437083384            3                  5   \n",
       "4     27192976       437083384            4                  6   \n",
       "\n",
       "   cust_star_rating_mean  cust_star_rating_std  cust_total_votes_mean  \\\n",
       "0               4.291667              1.267629               0.541667   \n",
       "1               4.347826              1.191206               1.434783   \n",
       "2               4.500000              0.707107               0.000000   \n",
       "3               3.400000              1.516575              11.800000   \n",
       "4               4.666667              0.816497               0.500000   \n",
       "\n",
       "   cust_total_votes_std  cust_helpful_votes_mean  cust_helpful_votes_std  ...  \\\n",
       "0              1.250362                 0.333333                1.049500  ...   \n",
       "1              2.191431                 1.000000                1.537412  ...   \n",
       "2              0.000000                 0.000000                0.000000  ...   \n",
       "3             20.789420                10.400000               18.187908  ...   \n",
       "4              1.224745                 0.000000                0.000000  ...   \n",
       "\n",
       "   pos_3_word_3  neg_1_word_1  neg_1_word_2  neg_1_word_3  neg_2_word_1  \\\n",
       "0      0.001941      0.000987     -0.015594     -0.013630      0.006534   \n",
       "1      0.901494     -0.222196     -0.196039     -0.217517      0.918800   \n",
       "2      0.092532      0.313854      0.086877      0.315884      0.196752   \n",
       "3      0.187860      0.083284     -0.115922      0.023810      0.090283   \n",
       "4      0.126235     -0.083963      0.036128     -0.155615     -0.020984   \n",
       "\n",
       "   neg_2_word_2  neg_2_word_3  neg_3_word_1  neg_3_word_2  neg_3_word_3  \n",
       "0      0.007653      0.023873     -0.029103     -0.046843     -0.041810  \n",
       "1      0.925143      0.901494      0.919331      0.902017      1.000000  \n",
       "2      0.052950      0.194290      0.054040      0.014332     -0.002904  \n",
       "3     -0.083403      0.025464      0.084633     -0.092710      0.019767  \n",
       "4      0.021015     -0.042505      0.059809     -0.017769     -0.064662  \n",
       "\n",
       "[5 rows x 37 columns]"
      ]
     },
     "execution_count": 8,
     "metadata": {},
     "output_type": "execute_result"
    }
   ],
   "source": [
    "test_df = pd.read_csv('test_df2.csv', index_col=0)\n",
    "test_df.drop(['positive', 'pos_corpus', 'neg_corpus', 'pos_1', 'pos_2', 'pos_3', \n",
    "               'neg_1', 'neg_2', 'neg_3', 'prod_corpus', 'word_1', 'word_2', 'word_3'], axis=1, inplace=True)\n",
    "#test_df.drop(['cust_total_votes_mean', 'cust_total_votes_std', 'cust_helpful_votes_mean', 'cust_helpful_votes_std', \n",
    "#               'prod_total_votes_mean', 'prod_total_votes_std', 'prod_helpful_votes_mean', 'prod_helpful_votes_std'], \n",
    "#              axis=1, inplace=True)\n",
    "test_df.head()"
   ]
  },
  {
   "cell_type": "code",
   "execution_count": 9,
   "metadata": {},
   "outputs": [
    {
     "data": {
      "text/plain": [
       "star_rating\n",
       "1    1248\n",
       "2     879\n",
       "3    1446\n",
       "4    3234\n",
       "5    9028\n",
       "dtype: int64"
      ]
     },
     "execution_count": 9,
     "metadata": {},
     "output_type": "execute_result"
    }
   ],
   "source": [
    "test_df.groupby('star_rating').size()"
   ]
  },
  {
   "cell_type": "code",
   "execution_count": 10,
   "metadata": {},
   "outputs": [],
   "source": [
    "temp = test_df[test_df.star_rating == 1]\n",
    "temp = pd.concat([temp, test_df[test_df.star_rating == 2]])\n",
    "temp = pd.concat([temp, test_df[test_df.star_rating == 3]])\n",
    "temp = pd.concat([temp, test_df[test_df.star_rating == 4][:1786]])\n",
    "temp = pd.concat([temp, test_df[test_df.star_rating == 5][:1786]])\n",
    "test_df = temp"
   ]
  },
  {
   "cell_type": "code",
   "execution_count": 11,
   "metadata": {},
   "outputs": [
    {
     "data": {
      "text/plain": [
       "0.4999300209937019"
      ]
     },
     "execution_count": 11,
     "metadata": {},
     "output_type": "execute_result"
    }
   ],
   "source": [
    "len(test_df[test_df.star_rating > 3]) / len(test_df)"
   ]
  },
  {
   "cell_type": "code",
   "execution_count": 12,
   "metadata": {},
   "outputs": [],
   "source": [
    "train_ids = train_df[['customer_id', 'product_parent', 'star_rating', 'pos_sim', 'neg_sim',\n",
    "        'pos_2_word_1', 'pos_2_word_2', 'pos_2_word_3', 'pos_3_word_1',\n",
    "        'pos_3_word_2', 'pos_3_word_3', 'neg_1_word_1', 'neg_1_word_2',\n",
    "        'neg_1_word_3', 'neg_2_word_1', 'neg_2_word_2', 'neg_2_word_3',\n",
    "        'neg_3_word_1', 'neg_3_word_2', 'neg_3_word_3']]"
   ]
  },
  {
   "cell_type": "code",
   "execution_count": 13,
   "metadata": {
    "scrolled": true
   },
   "outputs": [
    {
     "data": {
      "text/html": [
       "<div>\n",
       "<style scoped>\n",
       "    .dataframe tbody tr th:only-of-type {\n",
       "        vertical-align: middle;\n",
       "    }\n",
       "\n",
       "    .dataframe tbody tr th {\n",
       "        vertical-align: top;\n",
       "    }\n",
       "\n",
       "    .dataframe thead th {\n",
       "        text-align: right;\n",
       "    }\n",
       "</style>\n",
       "<table border=\"1\" class=\"dataframe\">\n",
       "  <thead>\n",
       "    <tr style=\"text-align: right;\">\n",
       "      <th></th>\n",
       "      <th>customer_id</th>\n",
       "      <th>product_parent</th>\n",
       "      <th>star_rating</th>\n",
       "      <th>cust_review_count</th>\n",
       "      <th>cust_star_rating_mean</th>\n",
       "      <th>cust_star_rating_std</th>\n",
       "      <th>cust_total_votes_mean</th>\n",
       "      <th>cust_total_votes_std</th>\n",
       "      <th>cust_helpful_votes_mean</th>\n",
       "      <th>cust_helpful_votes_std</th>\n",
       "      <th>...</th>\n",
       "      <th>pos_3_word_3</th>\n",
       "      <th>neg_1_word_1</th>\n",
       "      <th>neg_1_word_2</th>\n",
       "      <th>neg_1_word_3</th>\n",
       "      <th>neg_2_word_1</th>\n",
       "      <th>neg_2_word_2</th>\n",
       "      <th>neg_2_word_3</th>\n",
       "      <th>neg_3_word_1</th>\n",
       "      <th>neg_3_word_2</th>\n",
       "      <th>neg_3_word_3</th>\n",
       "    </tr>\n",
       "  </thead>\n",
       "  <tbody>\n",
       "    <tr>\n",
       "      <th>41</th>\n",
       "      <td>13056300</td>\n",
       "      <td>927530974</td>\n",
       "      <td>1</td>\n",
       "      <td>0.009662</td>\n",
       "      <td>0.400000</td>\n",
       "      <td>0.948683</td>\n",
       "      <td>0.000958</td>\n",
       "      <td>0.000658</td>\n",
       "      <td>0.000829</td>\n",
       "      <td>0.000704</td>\n",
       "      <td>...</td>\n",
       "      <td>-0.101550</td>\n",
       "      <td>-0.006956</td>\n",
       "      <td>0.009816</td>\n",
       "      <td>0.008186</td>\n",
       "      <td>-0.198119</td>\n",
       "      <td>-0.183380</td>\n",
       "      <td>-0.169559</td>\n",
       "      <td>-0.048658</td>\n",
       "      <td>-0.054150</td>\n",
       "      <td>-0.059749</td>\n",
       "    </tr>\n",
       "    <tr>\n",
       "      <th>44</th>\n",
       "      <td>19967303</td>\n",
       "      <td>857219057</td>\n",
       "      <td>1</td>\n",
       "      <td>0.024155</td>\n",
       "      <td>0.562500</td>\n",
       "      <td>0.601338</td>\n",
       "      <td>0.007089</td>\n",
       "      <td>0.002731</td>\n",
       "      <td>0.005908</td>\n",
       "      <td>0.002400</td>\n",
       "      <td>...</td>\n",
       "      <td>-0.112887</td>\n",
       "      <td>-0.270663</td>\n",
       "      <td>-0.222196</td>\n",
       "      <td>-0.217517</td>\n",
       "      <td>-0.170426</td>\n",
       "      <td>-0.096344</td>\n",
       "      <td>-0.077012</td>\n",
       "      <td>0.173743</td>\n",
       "      <td>-0.155578</td>\n",
       "      <td>-0.148746</td>\n",
       "    </tr>\n",
       "    <tr>\n",
       "      <th>53</th>\n",
       "      <td>49283157</td>\n",
       "      <td>934621546</td>\n",
       "      <td>1</td>\n",
       "      <td>0.009662</td>\n",
       "      <td>0.750000</td>\n",
       "      <td>0.612372</td>\n",
       "      <td>0.000479</td>\n",
       "      <td>0.000271</td>\n",
       "      <td>0.000498</td>\n",
       "      <td>0.000282</td>\n",
       "      <td>...</td>\n",
       "      <td>0.240538</td>\n",
       "      <td>0.092777</td>\n",
       "      <td>0.107679</td>\n",
       "      <td>0.253574</td>\n",
       "      <td>0.015682</td>\n",
       "      <td>0.015621</td>\n",
       "      <td>-0.105031</td>\n",
       "      <td>0.037956</td>\n",
       "      <td>0.048229</td>\n",
       "      <td>0.034084</td>\n",
       "    </tr>\n",
       "    <tr>\n",
       "      <th>74</th>\n",
       "      <td>31007318</td>\n",
       "      <td>934621546</td>\n",
       "      <td>1</td>\n",
       "      <td>0.053140</td>\n",
       "      <td>0.660714</td>\n",
       "      <td>0.825212</td>\n",
       "      <td>0.001483</td>\n",
       "      <td>0.001165</td>\n",
       "      <td>0.001303</td>\n",
       "      <td>0.001009</td>\n",
       "      <td>...</td>\n",
       "      <td>0.221961</td>\n",
       "      <td>-0.161533</td>\n",
       "      <td>-0.154322</td>\n",
       "      <td>0.193814</td>\n",
       "      <td>0.000987</td>\n",
       "      <td>-0.013630</td>\n",
       "      <td>0.486891</td>\n",
       "      <td>0.005210</td>\n",
       "      <td>0.001941</td>\n",
       "      <td>0.182759</td>\n",
       "    </tr>\n",
       "    <tr>\n",
       "      <th>97</th>\n",
       "      <td>36493798</td>\n",
       "      <td>934621546</td>\n",
       "      <td>1</td>\n",
       "      <td>0.009662</td>\n",
       "      <td>0.950000</td>\n",
       "      <td>0.193649</td>\n",
       "      <td>0.001597</td>\n",
       "      <td>0.001195</td>\n",
       "      <td>0.001327</td>\n",
       "      <td>0.000960</td>\n",
       "      <td>...</td>\n",
       "      <td>0.127181</td>\n",
       "      <td>0.000000</td>\n",
       "      <td>0.000000</td>\n",
       "      <td>0.000000</td>\n",
       "      <td>0.000000</td>\n",
       "      <td>0.000000</td>\n",
       "      <td>0.000000</td>\n",
       "      <td>0.000000</td>\n",
       "      <td>0.000000</td>\n",
       "      <td>0.000000</td>\n",
       "    </tr>\n",
       "  </tbody>\n",
       "</table>\n",
       "<p>5 rows × 37 columns</p>\n",
       "</div>"
      ],
      "text/plain": [
       "    customer_id  product_parent  star_rating  cust_review_count  \\\n",
       "41     13056300       927530974            1           0.009662   \n",
       "44     19967303       857219057            1           0.024155   \n",
       "53     49283157       934621546            1           0.009662   \n",
       "74     31007318       934621546            1           0.053140   \n",
       "97     36493798       934621546            1           0.009662   \n",
       "\n",
       "    cust_star_rating_mean  cust_star_rating_std  cust_total_votes_mean  \\\n",
       "41               0.400000              0.948683               0.000958   \n",
       "44               0.562500              0.601338               0.007089   \n",
       "53               0.750000              0.612372               0.000479   \n",
       "74               0.660714              0.825212               0.001483   \n",
       "97               0.950000              0.193649               0.001597   \n",
       "\n",
       "    cust_total_votes_std  cust_helpful_votes_mean  cust_helpful_votes_std  \\\n",
       "41              0.000658                 0.000829                0.000704   \n",
       "44              0.002731                 0.005908                0.002400   \n",
       "53              0.000271                 0.000498                0.000282   \n",
       "74              0.001165                 0.001303                0.001009   \n",
       "97              0.001195                 0.001327                0.000960   \n",
       "\n",
       "    ...  pos_3_word_3  neg_1_word_1  neg_1_word_2  neg_1_word_3  neg_2_word_1  \\\n",
       "41  ...     -0.101550     -0.006956      0.009816      0.008186     -0.198119   \n",
       "44  ...     -0.112887     -0.270663     -0.222196     -0.217517     -0.170426   \n",
       "53  ...      0.240538      0.092777      0.107679      0.253574      0.015682   \n",
       "74  ...      0.221961     -0.161533     -0.154322      0.193814      0.000987   \n",
       "97  ...      0.127181      0.000000      0.000000      0.000000      0.000000   \n",
       "\n",
       "    neg_2_word_2  neg_2_word_3  neg_3_word_1  neg_3_word_2  neg_3_word_3  \n",
       "41     -0.183380     -0.169559     -0.048658     -0.054150     -0.059749  \n",
       "44     -0.096344     -0.077012      0.173743     -0.155578     -0.148746  \n",
       "53      0.015621     -0.105031      0.037956      0.048229      0.034084  \n",
       "74     -0.013630      0.486891      0.005210      0.001941      0.182759  \n",
       "97      0.000000      0.000000      0.000000      0.000000      0.000000  \n",
       "\n",
       "[5 rows x 37 columns]"
      ]
     },
     "execution_count": 13,
     "metadata": {},
     "output_type": "execute_result"
    }
   ],
   "source": [
    "from sklearn import preprocessing\n",
    "min_max_scaler = preprocessing.MinMaxScaler()\n",
    "train_df_norm = pd.DataFrame(min_max_scaler.fit_transform(train_df), columns=train_df.columns, index=train_df.index)\n",
    "train_df_norm[['customer_id', 'product_parent', 'star_rating', 'pos_sim', 'neg_sim',\n",
    "        'pos_2_word_1', 'pos_2_word_2', 'pos_2_word_3', 'pos_3_word_1',\n",
    "        'pos_3_word_2', 'pos_3_word_3', 'neg_1_word_1', 'neg_1_word_2',\n",
    "        'neg_1_word_3', 'neg_2_word_1', 'neg_2_word_2', 'neg_2_word_3',\n",
    "        'neg_3_word_1', 'neg_3_word_2', 'neg_3_word_3']] = train_ids\n",
    "train_df_norm.head()"
   ]
  },
  {
   "cell_type": "code",
   "execution_count": 14,
   "metadata": {},
   "outputs": [],
   "source": [
    "test_ids = test_df[['customer_id', 'product_parent', 'star_rating', 'pos_sim', 'neg_sim',\n",
    "        'pos_2_word_1', 'pos_2_word_2', 'pos_2_word_3', 'pos_3_word_1',\n",
    "        'pos_3_word_2', 'pos_3_word_3', 'neg_1_word_1', 'neg_1_word_2',\n",
    "        'neg_1_word_3', 'neg_2_word_1', 'neg_2_word_2', 'neg_2_word_3',\n",
    "        'neg_3_word_1', 'neg_3_word_2', 'neg_3_word_3']]"
   ]
  },
  {
   "cell_type": "code",
   "execution_count": 15,
   "metadata": {},
   "outputs": [
    {
     "data": {
      "text/html": [
       "<div>\n",
       "<style scoped>\n",
       "    .dataframe tbody tr th:only-of-type {\n",
       "        vertical-align: middle;\n",
       "    }\n",
       "\n",
       "    .dataframe tbody tr th {\n",
       "        vertical-align: top;\n",
       "    }\n",
       "\n",
       "    .dataframe thead th {\n",
       "        text-align: right;\n",
       "    }\n",
       "</style>\n",
       "<table border=\"1\" class=\"dataframe\">\n",
       "  <thead>\n",
       "    <tr style=\"text-align: right;\">\n",
       "      <th></th>\n",
       "      <th>customer_id</th>\n",
       "      <th>product_parent</th>\n",
       "      <th>star_rating</th>\n",
       "      <th>cust_review_count</th>\n",
       "      <th>cust_star_rating_mean</th>\n",
       "      <th>cust_star_rating_std</th>\n",
       "      <th>cust_total_votes_mean</th>\n",
       "      <th>cust_total_votes_std</th>\n",
       "      <th>cust_helpful_votes_mean</th>\n",
       "      <th>cust_helpful_votes_std</th>\n",
       "      <th>...</th>\n",
       "      <th>pos_3_word_3</th>\n",
       "      <th>neg_1_word_1</th>\n",
       "      <th>neg_1_word_2</th>\n",
       "      <th>neg_1_word_3</th>\n",
       "      <th>neg_2_word_1</th>\n",
       "      <th>neg_2_word_2</th>\n",
       "      <th>neg_2_word_3</th>\n",
       "      <th>neg_3_word_1</th>\n",
       "      <th>neg_3_word_2</th>\n",
       "      <th>neg_3_word_3</th>\n",
       "    </tr>\n",
       "  </thead>\n",
       "  <tbody>\n",
       "    <tr>\n",
       "      <th>48</th>\n",
       "      <td>14252235</td>\n",
       "      <td>492347851</td>\n",
       "      <td>1</td>\n",
       "      <td>0.009662</td>\n",
       "      <td>1.000000</td>\n",
       "      <td>0.000000</td>\n",
       "      <td>0.000958</td>\n",
       "      <td>0.000499</td>\n",
       "      <td>0.000995</td>\n",
       "      <td>0.000517</td>\n",
       "      <td>...</td>\n",
       "      <td>-0.036035</td>\n",
       "      <td>0.000000</td>\n",
       "      <td>0.000000</td>\n",
       "      <td>0.000000</td>\n",
       "      <td>0.000000</td>\n",
       "      <td>0.000000</td>\n",
       "      <td>0.000000</td>\n",
       "      <td>0.000000</td>\n",
       "      <td>0.000000</td>\n",
       "      <td>0.000000</td>\n",
       "    </tr>\n",
       "    <tr>\n",
       "      <th>89</th>\n",
       "      <td>48189030</td>\n",
       "      <td>492347851</td>\n",
       "      <td>1</td>\n",
       "      <td>0.014493</td>\n",
       "      <td>0.541667</td>\n",
       "      <td>0.794512</td>\n",
       "      <td>0.006390</td>\n",
       "      <td>0.002775</td>\n",
       "      <td>0.005943</td>\n",
       "      <td>0.002545</td>\n",
       "      <td>...</td>\n",
       "      <td>-0.118247</td>\n",
       "      <td>0.285941</td>\n",
       "      <td>-0.132897</td>\n",
       "      <td>-0.118247</td>\n",
       "      <td>0.329414</td>\n",
       "      <td>0.000987</td>\n",
       "      <td>-0.013630</td>\n",
       "      <td>0.222047</td>\n",
       "      <td>-0.104434</td>\n",
       "      <td>-0.101832</td>\n",
       "    </tr>\n",
       "    <tr>\n",
       "      <th>90</th>\n",
       "      <td>9891231</td>\n",
       "      <td>492347851</td>\n",
       "      <td>1</td>\n",
       "      <td>0.009662</td>\n",
       "      <td>0.800000</td>\n",
       "      <td>0.362284</td>\n",
       "      <td>0.002716</td>\n",
       "      <td>0.000997</td>\n",
       "      <td>0.002322</td>\n",
       "      <td>0.000929</td>\n",
       "      <td>...</td>\n",
       "      <td>0.902017</td>\n",
       "      <td>0.018512</td>\n",
       "      <td>0.183956</td>\n",
       "      <td>0.202136</td>\n",
       "      <td>-0.063167</td>\n",
       "      <td>-0.222196</td>\n",
       "      <td>-0.217517</td>\n",
       "      <td>0.207801</td>\n",
       "      <td>0.040059</td>\n",
       "      <td>0.039550</td>\n",
       "    </tr>\n",
       "    <tr>\n",
       "      <th>97</th>\n",
       "      <td>31800633</td>\n",
       "      <td>492347851</td>\n",
       "      <td>1</td>\n",
       "      <td>0.009662</td>\n",
       "      <td>0.800000</td>\n",
       "      <td>0.564579</td>\n",
       "      <td>0.000639</td>\n",
       "      <td>0.000332</td>\n",
       "      <td>0.000498</td>\n",
       "      <td>0.000282</td>\n",
       "      <td>...</td>\n",
       "      <td>0.005750</td>\n",
       "      <td>0.087603</td>\n",
       "      <td>0.083421</td>\n",
       "      <td>0.094976</td>\n",
       "      <td>0.153926</td>\n",
       "      <td>-0.009339</td>\n",
       "      <td>-0.018355</td>\n",
       "      <td>0.134237</td>\n",
       "      <td>-0.159913</td>\n",
       "      <td>-0.173323</td>\n",
       "    </tr>\n",
       "    <tr>\n",
       "      <th>101</th>\n",
       "      <td>35290425</td>\n",
       "      <td>492347851</td>\n",
       "      <td>1</td>\n",
       "      <td>0.014493</td>\n",
       "      <td>0.750000</td>\n",
       "      <td>0.474342</td>\n",
       "      <td>0.000666</td>\n",
       "      <td>0.000355</td>\n",
       "      <td>0.000691</td>\n",
       "      <td>0.000368</td>\n",
       "      <td>...</td>\n",
       "      <td>-0.144800</td>\n",
       "      <td>-0.111532</td>\n",
       "      <td>1.000000</td>\n",
       "      <td>0.919331</td>\n",
       "      <td>-0.109643</td>\n",
       "      <td>0.918800</td>\n",
       "      <td>0.901494</td>\n",
       "      <td>-0.101550</td>\n",
       "      <td>0.916021</td>\n",
       "      <td>0.902017</td>\n",
       "    </tr>\n",
       "  </tbody>\n",
       "</table>\n",
       "<p>5 rows × 37 columns</p>\n",
       "</div>"
      ],
      "text/plain": [
       "     customer_id  product_parent  star_rating  cust_review_count  \\\n",
       "48      14252235       492347851            1           0.009662   \n",
       "89      48189030       492347851            1           0.014493   \n",
       "90       9891231       492347851            1           0.009662   \n",
       "97      31800633       492347851            1           0.009662   \n",
       "101     35290425       492347851            1           0.014493   \n",
       "\n",
       "     cust_star_rating_mean  cust_star_rating_std  cust_total_votes_mean  \\\n",
       "48                1.000000              0.000000               0.000958   \n",
       "89                0.541667              0.794512               0.006390   \n",
       "90                0.800000              0.362284               0.002716   \n",
       "97                0.800000              0.564579               0.000639   \n",
       "101               0.750000              0.474342               0.000666   \n",
       "\n",
       "     cust_total_votes_std  cust_helpful_votes_mean  cust_helpful_votes_std  \\\n",
       "48               0.000499                 0.000995                0.000517   \n",
       "89               0.002775                 0.005943                0.002545   \n",
       "90               0.000997                 0.002322                0.000929   \n",
       "97               0.000332                 0.000498                0.000282   \n",
       "101              0.000355                 0.000691                0.000368   \n",
       "\n",
       "     ...  pos_3_word_3  neg_1_word_1  neg_1_word_2  neg_1_word_3  \\\n",
       "48   ...     -0.036035      0.000000      0.000000      0.000000   \n",
       "89   ...     -0.118247      0.285941     -0.132897     -0.118247   \n",
       "90   ...      0.902017      0.018512      0.183956      0.202136   \n",
       "97   ...      0.005750      0.087603      0.083421      0.094976   \n",
       "101  ...     -0.144800     -0.111532      1.000000      0.919331   \n",
       "\n",
       "     neg_2_word_1  neg_2_word_2  neg_2_word_3  neg_3_word_1  neg_3_word_2  \\\n",
       "48       0.000000      0.000000      0.000000      0.000000      0.000000   \n",
       "89       0.329414      0.000987     -0.013630      0.222047     -0.104434   \n",
       "90      -0.063167     -0.222196     -0.217517      0.207801      0.040059   \n",
       "97       0.153926     -0.009339     -0.018355      0.134237     -0.159913   \n",
       "101     -0.109643      0.918800      0.901494     -0.101550      0.916021   \n",
       "\n",
       "     neg_3_word_3  \n",
       "48       0.000000  \n",
       "89      -0.101832  \n",
       "90       0.039550  \n",
       "97      -0.173323  \n",
       "101      0.902017  \n",
       "\n",
       "[5 rows x 37 columns]"
      ]
     },
     "execution_count": 15,
     "metadata": {},
     "output_type": "execute_result"
    }
   ],
   "source": [
    "test_df_norm = pd.DataFrame(min_max_scaler.transform(test_df), columns=test_df.columns, index=test_df.index)\n",
    "test_df_norm[['customer_id', 'product_parent', 'star_rating', 'pos_sim', 'neg_sim',\n",
    "        'pos_2_word_1', 'pos_2_word_2', 'pos_2_word_3', 'pos_3_word_1',\n",
    "        'pos_3_word_2', 'pos_3_word_3', 'neg_1_word_1', 'neg_1_word_2',\n",
    "        'neg_1_word_3', 'neg_2_word_1', 'neg_2_word_2', 'neg_2_word_3',\n",
    "        'neg_3_word_1', 'neg_3_word_2', 'neg_3_word_3']] = test_ids\n",
    "test_df_norm.head()"
   ]
  },
  {
   "cell_type": "code",
   "execution_count": 16,
   "metadata": {},
   "outputs": [],
   "source": [
    "train_x, train_y = train_df.drop('star_rating', axis=1), train_df['star_rating']\n",
    "test_x, test_y = test_df.drop('star_rating', axis=1), test_df['star_rating']\n",
    "train_x_norm = train_df_norm.drop('star_rating', axis=1)\n",
    "test_x_norm = test_df.drop('star_rating', axis=1)"
   ]
  },
  {
   "cell_type": "code",
   "execution_count": 17,
   "metadata": {},
   "outputs": [
    {
     "data": {
      "text/html": [
       "<div>\n",
       "<style scoped>\n",
       "    .dataframe tbody tr th:only-of-type {\n",
       "        vertical-align: middle;\n",
       "    }\n",
       "\n",
       "    .dataframe tbody tr th {\n",
       "        vertical-align: top;\n",
       "    }\n",
       "\n",
       "    .dataframe thead th {\n",
       "        text-align: right;\n",
       "    }\n",
       "</style>\n",
       "<table border=\"1\" class=\"dataframe\">\n",
       "  <thead>\n",
       "    <tr style=\"text-align: right;\">\n",
       "      <th></th>\n",
       "      <th>customer_id</th>\n",
       "      <th>product_parent</th>\n",
       "      <th>star_rating</th>\n",
       "      <th>cust_review_count</th>\n",
       "      <th>cust_star_rating_mean</th>\n",
       "      <th>cust_star_rating_std</th>\n",
       "      <th>cust_total_votes_mean</th>\n",
       "      <th>cust_total_votes_std</th>\n",
       "      <th>cust_helpful_votes_mean</th>\n",
       "      <th>cust_helpful_votes_std</th>\n",
       "      <th>...</th>\n",
       "      <th>pos_3_word_3</th>\n",
       "      <th>neg_1_word_1</th>\n",
       "      <th>neg_1_word_2</th>\n",
       "      <th>neg_1_word_3</th>\n",
       "      <th>neg_2_word_1</th>\n",
       "      <th>neg_2_word_2</th>\n",
       "      <th>neg_2_word_3</th>\n",
       "      <th>neg_3_word_1</th>\n",
       "      <th>neg_3_word_2</th>\n",
       "      <th>neg_3_word_3</th>\n",
       "    </tr>\n",
       "  </thead>\n",
       "  <tbody>\n",
       "  </tbody>\n",
       "</table>\n",
       "<p>0 rows × 37 columns</p>\n",
       "</div>"
      ],
      "text/plain": [
       "Empty DataFrame\n",
       "Columns: [customer_id, product_parent, star_rating, cust_review_count, cust_star_rating_mean, cust_star_rating_std, cust_total_votes_mean, cust_total_votes_std, cust_helpful_votes_mean, cust_helpful_votes_std, prod_review_count, prod_star_rating_mean, prod_star_rating_std, prod_total_votes_mean, prod_total_votes_std, prod_helpful_votes_mean, prod_helpful_votes_std, pos_sim, neg_sim, pos_1_word_1, pos_1_word_2, pos_1_word_3, pos_2_word_1, pos_2_word_2, pos_2_word_3, pos_3_word_1, pos_3_word_2, pos_3_word_3, neg_1_word_1, neg_1_word_2, neg_1_word_3, neg_2_word_1, neg_2_word_2, neg_2_word_3, neg_3_word_1, neg_3_word_2, neg_3_word_3]\n",
       "Index: []\n",
       "\n",
       "[0 rows x 37 columns]"
      ]
     },
     "execution_count": 17,
     "metadata": {},
     "output_type": "execute_result"
    }
   ],
   "source": [
    "is_NaN = train_df_norm.isnull()\n",
    "row_has_NaN = is_NaN.any(axis=1)\n",
    "train_df_norm[row_has_NaN]"
   ]
  },
  {
   "cell_type": "code",
   "execution_count": 18,
   "metadata": {},
   "outputs": [],
   "source": [
    "def evaluate(m, x, test):\n",
    "    correct = 0\n",
    "    pos_count = 0\n",
    "    star_cor = 0\n",
    "    matrix = [0, 0, 0, 0]\n",
    "    preds = m.predict(x)\n",
    "    for i in range(len(test)):\n",
    "        if (preds[i] > 3):\n",
    "            pos_count += 1\n",
    "        if (preds[i] == test.iloc[i]):\n",
    "            star_cor += 1\n",
    "        if (preds[i] > 3 and test.iloc[i] > 3):\n",
    "            correct += 1\n",
    "            matrix[0] += 1\n",
    "        elif (preds[i] <= 3 and test.iloc[i] <= 3):\n",
    "            correct += 1\n",
    "            matrix[1] += 1\n",
    "        elif (preds[i] > 3 and test.iloc[i] <= 3):\n",
    "            matrix[2] += 1\n",
    "        elif (preds[i] <= 3 and test.iloc[i] > 3):\n",
    "            matrix[3] += 1\n",
    "\n",
    "    print('Correct:', correct, correct / len(test_df))\n",
    "    print('Pos:', pos_count, pos_count / len(test_df))\n",
    "    print('Star Correct:', star_cor, star_cor / len(test_df))\n",
    "    print('True Positive:', matrix[0], matrix[0] / len(test_df))\n",
    "    print('True Negative:', matrix[1], matrix[1] / len(test_df))\n",
    "    print('False Positive:', matrix[2], matrix[2] / len(test_df))\n",
    "    print('False Negative:', matrix[3], matrix[3] / len(test_df))"
   ]
  },
  {
   "cell_type": "code",
   "execution_count": 19,
   "metadata": {},
   "outputs": [
    {
     "data": {
      "text/plain": [
       "GradientBoostingClassifier(ccp_alpha=0.0, criterion='friedman_mse', init=None,\n",
       "                           learning_rate=0.1, loss='deviance', max_depth=3,\n",
       "                           max_features=None, max_leaf_nodes=None,\n",
       "                           min_impurity_decrease=0.0, min_impurity_split=None,\n",
       "                           min_samples_leaf=1, min_samples_split=2,\n",
       "                           min_weight_fraction_leaf=0.0, n_estimators=100,\n",
       "                           n_iter_no_change=None, presort='deprecated',\n",
       "                           random_state=None, subsample=1.0, tol=0.0001,\n",
       "                           validation_fraction=0.1, verbose=0,\n",
       "                           warm_start=False)"
      ]
     },
     "execution_count": 19,
     "metadata": {},
     "output_type": "execute_result"
    }
   ],
   "source": [
    "from sklearn.ensemble import GradientBoostingClassifier\n",
    "gb = GradientBoostingClassifier()\n",
    "gb.fit(train_x.drop(['customer_id', 'product_parent'], axis=1), train_y)"
   ]
  },
  {
   "cell_type": "code",
   "execution_count": 20,
   "metadata": {},
   "outputs": [
    {
     "data": {
      "text/plain": [
       "0.3920223932820154"
      ]
     },
     "execution_count": 20,
     "metadata": {},
     "output_type": "execute_result"
    }
   ],
   "source": [
    "gb.score(test_x.drop(['customer_id', 'product_parent'], axis=1), test_y)"
   ]
  },
  {
   "cell_type": "code",
   "execution_count": 21,
   "metadata": {},
   "outputs": [
    {
     "name": "stdout",
     "output_type": "stream",
     "text": [
      "Correct: 4967 0.6951714485654303\n",
      "Pos: 3408 0.4769769069279216\n",
      "Star Correct: 2801 0.3920223932820154\n",
      "True Positive: 2401 0.33603918824352697\n",
      "True Negative: 2566 0.35913226032190343\n",
      "False Positive: 1007 0.14093771868439467\n",
      "False Negative: 1171 0.16389083275017494\n"
     ]
    }
   ],
   "source": [
    "evaluate(gb, test_x.drop(['customer_id', 'product_parent'], axis=1), test_y)"
   ]
  },
  {
   "cell_type": "code",
   "execution_count": 22,
   "metadata": {},
   "outputs": [],
   "source": [
    "drop_cols = ['customer_id', 'product_parent']#, 'cust_review_count', 'prod_review_count']\n",
    "             #'neg_1_word_1', 'neg_1_word_2', 'neg_1_word_3',\n",
    "             #'neg_2_word_1', 'neg_2_word_2', 'neg_2_word_3', \n",
    "             #'neg_3_word_1', 'neg_3_word_2', 'neg_3_word_3']"
   ]
  },
  {
   "cell_type": "code",
   "execution_count": 23,
   "metadata": {},
   "outputs": [
    {
     "data": {
      "text/plain": [
       "RandomForestClassifier(bootstrap=True, ccp_alpha=0.0, class_weight=None,\n",
       "                       criterion='entropy', max_depth=None, max_features='auto',\n",
       "                       max_leaf_nodes=None, max_samples=None,\n",
       "                       min_impurity_decrease=0.0, min_impurity_split=None,\n",
       "                       min_samples_leaf=1, min_samples_split=2,\n",
       "                       min_weight_fraction_leaf=0.0, n_estimators=1000,\n",
       "                       n_jobs=-1, oob_score=False, random_state=None, verbose=0,\n",
       "                       warm_start=False)"
      ]
     },
     "execution_count": 23,
     "metadata": {},
     "output_type": "execute_result"
    }
   ],
   "source": [
    "rf = RandomForestClassifier(n_estimators=1000, criterion='entropy', n_jobs=-1)\n",
    "rf.fit(train_x.drop(drop_cols, axis=1), train_y)"
   ]
  },
  {
   "cell_type": "code",
   "execution_count": 24,
   "metadata": {},
   "outputs": [
    {
     "data": {
      "text/plain": [
       "0.3815255423372988"
      ]
     },
     "execution_count": 24,
     "metadata": {},
     "output_type": "execute_result"
    }
   ],
   "source": [
    "rf.score(test_x.drop(drop_cols, axis=1), test_y)"
   ]
  },
  {
   "cell_type": "code",
   "execution_count": 25,
   "metadata": {},
   "outputs": [
    {
     "name": "stdout",
     "output_type": "stream",
     "text": [
      "Correct: 4985 0.6976906927921623\n",
      "Pos: 3432 0.48033589923023096\n",
      "Star Correct: 2726 0.3815255423372988\n",
      "True Positive: 2422 0.3389783065080476\n",
      "True Negative: 2563 0.3587123862841148\n",
      "False Positive: 1010 0.14135759272218335\n",
      "False Negative: 1150 0.1609517144856543\n"
     ]
    }
   ],
   "source": [
    "evaluate(rf, test_x.drop(drop_cols, axis=1), test_y)"
   ]
  },
  {
   "cell_type": "code",
   "execution_count": 26,
   "metadata": {},
   "outputs": [
    {
     "data": {
      "text/plain": [
       "<BarContainer object of 34 artists>"
      ]
     },
     "execution_count": 26,
     "metadata": {},
     "output_type": "execute_result"
    },
    {
     "data": {
      "image/png": "[encoded data removed]",
      "text/plain": [
       "<Figure size 432x288 with 1 Axes>"
      ]
     },
     "metadata": {
      "needs_background": "light"
     },
     "output_type": "display_data"
    }
   ],
   "source": [
    "import matplotlib.pyplot as plt\n",
    "imp_tuples = sorted(zip(map(lambda x: round(x, 4), rf.feature_importances_), \n",
    "                 train_x.drop(drop_cols, axis=1).columns), reverse=False)\n",
    "imp = [t[0] for t in imp_tuples]\n",
    "labl = [t[1] for t in imp_tuples]\n",
    "plt.barh(labl, imp, linewidth=5)"
   ]
  },
  {
   "cell_type": "code",
   "execution_count": 27,
   "metadata": {},
   "outputs": [
    {
     "data": {
      "text/plain": [
       "RandomForestRegressor(bootstrap=True, ccp_alpha=0.0, criterion='mse',\n",
       "                      max_depth=None, max_features='auto', max_leaf_nodes=None,\n",
       "                      max_samples=None, min_impurity_decrease=0.0,\n",
       "                      min_impurity_split=None, min_samples_leaf=1,\n",
       "                      min_samples_split=2, min_weight_fraction_leaf=0.0,\n",
       "                      n_estimators=1000, n_jobs=-1, oob_score=False,\n",
       "                      random_state=None, verbose=0, warm_start=False)"
      ]
     },
     "execution_count": 27,
     "metadata": {},
     "output_type": "execute_result"
    }
   ],
   "source": [
    "rf2 = RandomForestRegressor(n_estimators=1000, n_jobs=-1)\n",
    "rf2.fit(train_x.drop(drop_cols, axis=1), train_y)"
   ]
  },
  {
   "cell_type": "code",
   "execution_count": 28,
   "metadata": {},
   "outputs": [
    {
     "data": {
      "text/plain": [
       "0.1786313507103977"
      ]
     },
     "execution_count": 28,
     "metadata": {},
     "output_type": "execute_result"
    }
   ],
   "source": [
    "rf2.score(test_x.drop(drop_cols, axis=1), test_y)"
   ]
  },
  {
   "cell_type": "code",
   "execution_count": 29,
   "metadata": {},
   "outputs": [
    {
     "name": "stdout",
     "output_type": "stream",
     "text": [
      "Correct: 5009 0.7010496850944716\n",
      "Pos: 2930 0.4100769769069279\n",
      "Star Correct: 3 0.0004198740377886634\n",
      "True Positive: 2183 0.30552834149755076\n",
      "True Negative: 2826 0.3955213435969209\n",
      "False Positive: 747 0.10454863540937719\n",
      "False Negative: 1389 0.19440167949615114\n"
     ]
    }
   ],
   "source": [
    "evaluate(rf2, test_x.drop(drop_cols, axis=1), test_y)"
   ]
  },
  {
   "cell_type": "code",
   "execution_count": 30,
   "metadata": {},
   "outputs": [
    {
     "data": {
      "text/plain": [
       "<BarContainer object of 34 artists>"
      ]
     },
     "execution_count": 30,
     "metadata": {},
     "output_type": "execute_result"
    },
    {
     "data": {
      "image/png": "[encoded data removed]",
      "text/plain": [
       "<Figure size 432x288 with 1 Axes>"
      ]
     },
     "metadata": {
      "needs_background": "light"
     },
     "output_type": "display_data"
    }
   ],
   "source": [
    "imp_tuples = sorted(zip(map(lambda x: round(x, 4), rf2.feature_importances_), \n",
    "                 train_x.drop(drop_cols, axis=1).columns), reverse=False)\n",
    "imp = [t[0] for t in imp_tuples]\n",
    "labl = [t[1] for t in imp_tuples]\n",
    "plt.barh(labl, imp, linewidth=5)"
   ]
  },
  {
   "cell_type": "code",
   "execution_count": 31,
   "metadata": {},
   "outputs": [
    {
     "data": {
      "text/plain": [
       "KNeighborsClassifier(algorithm='auto', leaf_size=30, metric='minkowski',\n",
       "                     metric_params=None, n_jobs=None, n_neighbors=1, p=2,\n",
       "                     weights='distance')"
      ]
     },
     "execution_count": 31,
     "metadata": {},
     "output_type": "execute_result"
    }
   ],
   "source": [
    "from sklearn.neighbors import KNeighborsClassifier\n",
    "knn = KNeighborsClassifier(n_neighbors=1, weights='distance')\n",
    "knn.fit(train_x.drop(drop_cols, axis=1), train_y)"
   ]
  },
  {
   "cell_type": "code",
   "execution_count": 32,
   "metadata": {},
   "outputs": [
    {
     "data": {
      "text/plain": [
       "0.24338698390482855"
      ]
     },
     "execution_count": 32,
     "metadata": {},
     "output_type": "execute_result"
    }
   ],
   "source": [
    "knn.score(test_x.drop(drop_cols, axis=1), test_y)"
   ]
  },
  {
   "cell_type": "code",
   "execution_count": 33,
   "metadata": {},
   "outputs": [
    {
     "name": "stdout",
     "output_type": "stream",
     "text": [
      "Correct: 4158 0.5819454163750875\n",
      "Pos: 2693 0.3769069279216235\n",
      "Star Correct: 1739 0.24338698390482855\n",
      "True Positive: 1639 0.22939118264520644\n",
      "True Negative: 2519 0.35255423372988104\n",
      "False Positive: 1054 0.1475157452764171\n",
      "False Negative: 1933 0.27053883834849546\n"
     ]
    }
   ],
   "source": [
    "evaluate(knn, test_x.drop(drop_cols, axis=1), test_y)"
   ]
  },
  {
   "cell_type": "code",
   "execution_count": 34,
   "metadata": {},
   "outputs": [
    {
     "data": {
      "text/plain": [
       "GaussianNB(priors=None, var_smoothing=1e-09)"
      ]
     },
     "execution_count": 34,
     "metadata": {},
     "output_type": "execute_result"
    }
   ],
   "source": [
    "from sklearn.naive_bayes import GaussianNB\n",
    "gnb = GaussianNB()\n",
    "gnb.fit(train_x.drop(drop_cols, axis=1), train_y)"
   ]
  },
  {
   "cell_type": "code",
   "execution_count": 35,
   "metadata": {},
   "outputs": [
    {
     "data": {
      "text/plain": [
       "0.2934919524142757"
      ]
     },
     "execution_count": 35,
     "metadata": {},
     "output_type": "execute_result"
    }
   ],
   "source": [
    "gnb.score(test_x.drop(drop_cols, axis=1), test_y)"
   ]
  },
  {
   "cell_type": "code",
   "execution_count": 36,
   "metadata": {},
   "outputs": [
    {
     "name": "stdout",
     "output_type": "stream",
     "text": [
      "Correct: 4649 0.650664800559832\n",
      "Pos: 2212 0.30958712386284115\n",
      "Star Correct: 2097 0.2934919524142757\n",
      "True Positive: 1644 0.23009097270818754\n",
      "True Negative: 3005 0.4205738278516445\n",
      "False Positive: 568 0.07949615115465361\n",
      "False Negative: 1928 0.26983904828551436\n"
     ]
    }
   ],
   "source": [
    "evaluate(gnb, test_x.drop(drop_cols, axis=1), test_y)"
   ]
  },
  {
   "cell_type": "code",
   "execution_count": 59,
   "metadata": {},
   "outputs": [],
   "source": [
    "from keras import models\n",
    "from keras import layers\n",
    "from keras import optimizers\n",
    "from keras.utils import to_categorical\n",
    "import keras\n",
    "import numpy as np"
   ]
  },
  {
   "cell_type": "code",
   "execution_count": 60,
   "metadata": {},
   "outputs": [],
   "source": [
    "keras.backend.clear_session()"
   ]
  },
  {
   "cell_type": "code",
   "execution_count": 61,
   "metadata": {},
   "outputs": [],
   "source": [
    "nn_train_x = train_x.drop(['customer_id', 'product_parent'], axis=1)\n",
    "nn_test_x = test_x.drop(['customer_id', 'product_parent'], axis=1)"
   ]
  },
  {
   "cell_type": "code",
   "execution_count": 62,
   "metadata": {},
   "outputs": [
    {
     "data": {
      "text/plain": [
       "(19061, 34)"
      ]
     },
     "execution_count": 62,
     "metadata": {},
     "output_type": "execute_result"
    }
   ],
   "source": [
    "np.shape(nn_train_x)"
   ]
  },
  {
   "cell_type": "code",
   "execution_count": 63,
   "metadata": {},
   "outputs": [],
   "source": [
    "train_y_cat = train_y - 1\n",
    "test_y_cat = test_y - 1\n",
    "train_y_cat = to_categorical(train_y_cat)\n",
    "test_y_cat = to_categorical(test_y_cat)"
   ]
  },
  {
   "cell_type": "code",
   "execution_count": 64,
   "metadata": {},
   "outputs": [
    {
     "name": "stdout",
     "output_type": "stream",
     "text": [
      "Model: \"sequential_1\"\n",
      "_________________________________________________________________\n",
      "Layer (type)                 Output Shape              Param #   \n",
      "=================================================================\n",
      "dense_1 (Dense)              (None, 5)                 175       \n",
      "=================================================================\n",
      "Total params: 175\n",
      "Trainable params: 175\n",
      "Non-trainable params: 0\n",
      "_________________________________________________________________\n"
     ]
    }
   ],
   "source": [
    "network = models.Sequential()\n",
    "'''network.add(layers.Dense(1024, activation='relu', input_shape=(34,)))\n",
    "network.add(layers.Dropout(0.5))\n",
    "network.add(layers.Dense(1024, activation='relu', input_shape=(1024,)))\n",
    "network.add(layers.Dense(1024, activation='relu', input_shape=(1024,)))\n",
    "network.add(layers.Dense(512, activation='relu', input_shape=(1024,)))\n",
    "network.add(layers.Dropout(0.5))\n",
    "network.add(layers.Dense(512, activation='relu', input_shape=(512,)))\n",
    "network.add(layers.Dense(512, activation='relu', input_shape=(512,)))\n",
    "network.add(layers.Dense(256, activation='relu', input_shape=(512,)))\n",
    "network.add(layers.Dropout(0.5))\n",
    "network.add(layers.Dense(256, activation='relu', input_shape=(256,)))\n",
    "network.add(layers.Dense(256, activation='relu', input_shape=(256,)))\n",
    "network.add(layers.Dense(128, activation='relu', input_shape=(256,)))\n",
    "network.add(layers.Dropout(0.5))\n",
    "network.add(layers.Dense(128, activation='relu', input_shape=(128,)))\n",
    "network.add(layers.Dense(128, activation='relu', input_shape=(128,)))'''\n",
    "network.add(layers.Dense(5, activation='softmax', input_shape=(34,)))\n",
    "network.summary()"
   ]
  },
  {
   "cell_type": "code",
   "execution_count": 65,
   "metadata": {},
   "outputs": [
    {
     "name": "stdout",
     "output_type": "stream",
     "text": [
      "Train on 19061 samples, validate on 7145 samples\n",
      "Epoch 1/30\n",
      "19061/19061 [==============================] - 11s 595us/step - loss: 56.1062 - accuracy: 0.2165 - val_loss: 9.6455 - val_accuracy: 0.2817\n",
      "Epoch 2/30\n",
      "19061/19061 [==============================] - 11s 587us/step - loss: 5.6845 - accuracy: 0.2968 - val_loss: 2.8994 - val_accuracy: 0.2582\n",
      "Epoch 3/30\n",
      "19061/19061 [==============================] - 12s 613us/step - loss: 1.9341 - accuracy: 0.3208 - val_loss: 2.0080 - val_accuracy: 0.2864\n",
      "Epoch 4/30\n",
      "19061/19061 [==============================] - 12s 650us/step - loss: 1.7374 - accuracy: 0.3369 - val_loss: 1.8553 - val_accuracy: 0.3103\n",
      "Epoch 5/30\n",
      "19061/19061 [==============================] - 11s 576us/step - loss: 1.6939 - accuracy: 0.3422 - val_loss: 1.7508 - val_accuracy: 0.3250\n",
      "Epoch 6/30\n",
      "19061/19061 [==============================] - 12s 639us/step - loss: 1.6590 - accuracy: 0.3486 - val_loss: 1.6946 - val_accuracy: 0.3325\n",
      "Epoch 7/30\n",
      "19061/19061 [==============================] - 13s 687us/step - loss: 1.6384 - accuracy: 0.3546 - val_loss: 1.6813 - val_accuracy: 0.3299\n",
      "Epoch 8/30\n",
      "19061/19061 [==============================] - 12s 618us/step - loss: 1.6254 - accuracy: 0.3553 - val_loss: 1.6381 - val_accuracy: 0.3384\n",
      "Epoch 9/30\n",
      "19061/19061 [==============================] - 12s 613us/step - loss: 1.6152 - accuracy: 0.3587 - val_loss: 1.6193 - val_accuracy: 0.3426\n",
      "Epoch 10/30\n",
      "19061/19061 [==============================] - 12s 624us/step - loss: 1.6098 - accuracy: 0.3641 - val_loss: 1.6024 - val_accuracy: 0.3169\n",
      "Epoch 11/30\n",
      "19061/19061 [==============================] - 11s 576us/step - loss: 1.6012 - accuracy: 0.3640 - val_loss: 1.5976 - val_accuracy: 0.3192\n",
      "Epoch 12/30\n",
      "19061/19061 [==============================] - 11s 603us/step - loss: 1.6008 - accuracy: 0.3650 - val_loss: 1.5717 - val_accuracy: 0.3495\n",
      "Epoch 13/30\n",
      "19061/19061 [==============================] - 11s 576us/step - loss: 1.5881 - accuracy: 0.3636 - val_loss: 1.5658 - val_accuracy: 0.3619\n",
      "Epoch 14/30\n",
      "19061/19061 [==============================] - 10s 518us/step - loss: 1.5905 - accuracy: 0.3676 - val_loss: 1.6478 - val_accuracy: 0.2995\n",
      "Epoch 15/30\n",
      "19061/19061 [==============================] - 13s 661us/step - loss: 1.5722 - accuracy: 0.3682 - val_loss: 1.5261 - val_accuracy: 0.3575\n",
      "Epoch 16/30\n",
      "19061/19061 [==============================] - 11s 587us/step - loss: 1.5802 - accuracy: 0.3648 - val_loss: 1.5707 - val_accuracy: 0.3559\n",
      "Epoch 17/30\n",
      "19061/19061 [==============================] - 13s 666us/step - loss: 1.5632 - accuracy: 0.3753 - val_loss: 1.5644 - val_accuracy: 0.3363\n",
      "Epoch 18/30\n",
      "19061/19061 [==============================] - 12s 608us/step - loss: 1.5688 - accuracy: 0.3670 - val_loss: 1.6624 - val_accuracy: 0.3710\n",
      "Epoch 19/30\n",
      "19061/19061 [==============================] - 11s 603us/step - loss: 1.5617 - accuracy: 0.3718 - val_loss: 1.5281 - val_accuracy: 0.3517\n",
      "Epoch 20/30\n",
      "19061/19061 [==============================] - 12s 645us/step - loss: 1.5597 - accuracy: 0.3736 - val_loss: 1.6303 - val_accuracy: 0.3481\n",
      "Epoch 21/30\n",
      "19061/19061 [==============================] - 12s 644us/step - loss: 1.5551 - accuracy: 0.3690 - val_loss: 1.5384 - val_accuracy: 0.3510\n",
      "Epoch 22/30\n",
      "19061/19061 [==============================] - 12s 629us/step - loss: 1.5541 - accuracy: 0.3757 - val_loss: 1.5273 - val_accuracy: 0.3710\n",
      "Epoch 23/30\n",
      "19061/19061 [==============================] - 12s 650us/step - loss: 1.5591 - accuracy: 0.3733 - val_loss: 1.5185 - val_accuracy: 0.3432\n",
      "Epoch 24/30\n",
      "19061/19061 [==============================] - 11s 597us/step - loss: 1.5473 - accuracy: 0.3746 - val_loss: 1.5450 - val_accuracy: 0.3440\n",
      "Epoch 25/30\n",
      "19061/19061 [==============================] - 13s 659us/step - loss: 1.5517 - accuracy: 0.3716 - val_loss: 1.5364 - val_accuracy: 0.3705\n",
      "Epoch 26/30\n",
      "19061/19061 [==============================] - 12s 650us/step - loss: 1.5485 - accuracy: 0.3742 - val_loss: 1.5085 - val_accuracy: 0.3661\n",
      "Epoch 27/30\n",
      "19061/19061 [==============================] - 11s 582us/step - loss: 1.5434 - accuracy: 0.3723 - val_loss: 1.5905 - val_accuracy: 0.3036\n",
      "Epoch 28/30\n",
      "19061/19061 [==============================] - 12s 608us/step - loss: 1.5394 - accuracy: 0.3727 - val_loss: 1.5645 - val_accuracy: 0.3111\n",
      "Epoch 29/30\n",
      "19061/19061 [==============================] - 11s 576us/step - loss: 1.5572 - accuracy: 0.3697 - val_loss: 1.5400 - val_accuracy: 0.3702\n",
      "Epoch 30/30\n",
      "19061/19061 [==============================] - 12s 629us/step - loss: 1.5487 - accuracy: 0.3724 - val_loss: 1.7619 - val_accuracy: 0.3019\n"
     ]
    }
   ],
   "source": [
    "opt = optimizers.Adam(learning_rate=0.001, beta_1=0.9, beta_2=0.999, amsgrad=False)\n",
    "network.compile(optimizer='rmsprop',\n",
    "                loss='categorical_crossentropy',\n",
    "                metrics=['accuracy'])\n",
    "\n",
    "epochs = 30\n",
    "history = network.fit(nn_train_x, \n",
    "                      train_y_cat, \n",
    "                      epochs=epochs, \n",
    "                      batch_size=128, \n",
    "                      validation_data=(nn_test_x, test_y_cat))"
   ]
  },
  {
   "cell_type": "code",
   "execution_count": 66,
   "metadata": {},
   "outputs": [
    {
     "data": {
      "image/png": "[encoded data removed]",
      "text/plain": [
       "<Figure size 432x288 with 1 Axes>"
      ]
     },
     "metadata": {
      "needs_background": "light"
     },
     "output_type": "display_data"
    }
   ],
   "source": [
    "history_dict = history.history\n",
    "loss_values = history_dict['loss']\n",
    "test_loss_values = history_dict['val_loss']\n",
    "epochs_range = range(1, epochs + 1)\n",
    "plt.plot(epochs_range, loss_values, 'bo', label='Training loss')\n",
    "plt.plot(epochs_range, test_loss_values, 'ro', label='Test loss')\n",
    "plt.title('Training and test loss')\n",
    "plt.xlabel('Epochs')\n",
    "plt.ylabel('Loss')\n",
    "plt.legend()\n",
    "plt.show()"
   ]
  },
  {
   "cell_type": "code",
   "execution_count": 67,
   "metadata": {},
   "outputs": [
    {
     "data": {
      "image/png": "[encoded data removed]",
      "text/plain": [
       "<Figure size 432x288 with 1 Axes>"
      ]
     },
     "metadata": {
      "needs_background": "light"
     },
     "output_type": "display_data"
    }
   ],
   "source": [
    "acc_values = history_dict['accuracy']\n",
    "test_acc_values = history_dict['val_accuracy']\n",
    "plt.plot(epochs_range, acc_values, 'bo', label='Training accuracy')\n",
    "plt.plot(epochs_range, test_acc_values, 'ro', label='Test accuracy')\n",
    "plt.title('Training and test accuracy')\n",
    "plt.xlabel('Epochs')\n",
    "plt.ylabel('Accuracy')\n",
    "plt.legend()\n",
    "plt.show()"
   ]
  },
  {
   "cell_type": "code",
   "execution_count": 68,
   "metadata": {},
   "outputs": [
    {
     "name": "stdout",
     "output_type": "stream",
     "text": [
      "Correct: 4727 0.6615815255423373\n",
      "Pos: 5070 0.7095871238628412\n",
      "Star Correct: 2157 0.30188943317004896\n",
      "True Positive: 3112 0.43554933519944017\n",
      "True Negative: 1615 0.22603219034289712\n",
      "False Positive: 1958 0.274037788663401\n",
      "False Negative: 460 0.06438068579426172\n"
     ]
    }
   ],
   "source": [
    "correct = 0\n",
    "pos_count = 0\n",
    "star_cor = 0\n",
    "matrix = [0, 0, 0, 0]\n",
    "preds = network.predict(nn_test_x)\n",
    "for i in range(len(preds)):\n",
    "    if (np.argmax(preds[i]) > 2):\n",
    "        pos_count += 1\n",
    "    if (np.argmax(preds[i]) == np.argmax(test_y_cat[i])):\n",
    "        star_cor += 1\n",
    "    if (np.argmax(preds[i]) > 2 and np.argmax(test_y_cat[i]) > 2):\n",
    "        correct += 1\n",
    "        matrix[0] += 1\n",
    "    elif (np.argmax(preds[i]) <= 2 and np.argmax(test_y_cat[i]) <= 2):\n",
    "        correct += 1\n",
    "        matrix[1] += 1\n",
    "    elif (np.argmax(preds[i]) > 2 and np.argmax(test_y_cat[i]) <= 2):\n",
    "        matrix[2] += 1\n",
    "    elif (np.argmax(preds[i]) <= 2 and np.argmax(test_y_cat[i]) > 2):\n",
    "        matrix[3] += 1\n",
    "\n",
    "print('Correct:', correct, correct / len(test_df))\n",
    "print('Pos:', pos_count, pos_count / len(test_df))\n",
    "print('Star Correct:', star_cor, star_cor / len(test_df))\n",
    "print('True Positive:', matrix[0], matrix[0] / len(test_df))\n",
    "print('True Negative:', matrix[1], matrix[1] / len(test_df))\n",
    "print('False Positive:', matrix[2], matrix[2] / len(test_df))\n",
    "print('False Negative:', matrix[3], matrix[3] / len(test_df))"
   ]
  },
  {
   "cell_type": "code",
   "execution_count": 69,
   "metadata": {},
   "outputs": [],
   "source": [
    "#network.save('basic_neural_net4.h5')"
   ]
  },
  {
   "cell_type": "code",
   "execution_count": null,
   "metadata": {},
   "outputs": [],
   "source": []
  }
 ],
 "metadata": {
  "kernelspec": {
   "display_name": "Python 3",
   "language": "python",
   "name": "python3"
  },
  "language_info": {
   "codemirror_mode": {
    "name": "ipython",
    "version": 3
   },
   "file_extension": ".py",
   "mimetype": "text/x-python",
   "name": "python",
   "nbconvert_exporter": "python",
   "pygments_lexer": "ipython3",
   "version": "3.7.6"
  }
 },
 "nbformat": 4,
 "nbformat_minor": 2
}
