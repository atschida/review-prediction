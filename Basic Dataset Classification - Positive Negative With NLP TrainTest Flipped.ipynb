{
 "cells": [
  {
   "cell_type": "code",
   "execution_count": 1,
   "metadata": {},
   "outputs": [],
   "source": [
    "import pandas as pd\n",
    "from sklearn.ensemble import RandomForestClassifier\n",
    "from sklearn.ensemble import RandomForestRegressor"
   ]
  },
  {
   "cell_type": "code",
   "execution_count": 2,
   "metadata": {},
   "outputs": [
    {
     "data": {
      "text/html": [
       "<div>\n",
       "<style scoped>\n",
       "    .dataframe tbody tr th:only-of-type {\n",
       "        vertical-align: middle;\n",
       "    }\n",
       "\n",
       "    .dataframe tbody tr th {\n",
       "        vertical-align: top;\n",
       "    }\n",
       "\n",
       "    .dataframe thead th {\n",
       "        text-align: right;\n",
       "    }\n",
       "</style>\n",
       "<table border=\"1\" class=\"dataframe\">\n",
       "  <thead>\n",
       "    <tr style=\"text-align: right;\">\n",
       "      <th></th>\n",
       "      <th>customer_id</th>\n",
       "      <th>product_parent</th>\n",
       "      <th>star_rating</th>\n",
       "      <th>cust_review_count</th>\n",
       "      <th>cust_star_rating_mean</th>\n",
       "      <th>cust_star_rating_std</th>\n",
       "      <th>prod_review_count</th>\n",
       "      <th>prod_star_rating_mean</th>\n",
       "      <th>prod_star_rating_std</th>\n",
       "      <th>pos_sim</th>\n",
       "      <th>...</th>\n",
       "      <th>pos_3_word_3</th>\n",
       "      <th>neg_1_word_1</th>\n",
       "      <th>neg_1_word_2</th>\n",
       "      <th>neg_1_word_3</th>\n",
       "      <th>neg_2_word_1</th>\n",
       "      <th>neg_2_word_2</th>\n",
       "      <th>neg_2_word_3</th>\n",
       "      <th>neg_3_word_1</th>\n",
       "      <th>neg_3_word_2</th>\n",
       "      <th>neg_3_word_3</th>\n",
       "    </tr>\n",
       "  </thead>\n",
       "  <tbody>\n",
       "    <tr>\n",
       "      <th>0</th>\n",
       "      <td>1617361</td>\n",
       "      <td>849246716</td>\n",
       "      <td>5</td>\n",
       "      <td>5</td>\n",
       "      <td>5.000000</td>\n",
       "      <td>0.000000</td>\n",
       "      <td>297</td>\n",
       "      <td>4.872054</td>\n",
       "      <td>0.363625</td>\n",
       "      <td>0.033451</td>\n",
       "      <td>...</td>\n",
       "      <td>0.186957</td>\n",
       "      <td>0.000000</td>\n",
       "      <td>0.000000</td>\n",
       "      <td>0.000000</td>\n",
       "      <td>0.000000</td>\n",
       "      <td>0.000000</td>\n",
       "      <td>0.000000</td>\n",
       "      <td>0.000000</td>\n",
       "      <td>0.000000</td>\n",
       "      <td>0.000000</td>\n",
       "    </tr>\n",
       "    <tr>\n",
       "      <th>1</th>\n",
       "      <td>53052607</td>\n",
       "      <td>849246716</td>\n",
       "      <td>3</td>\n",
       "      <td>5</td>\n",
       "      <td>3.600000</td>\n",
       "      <td>0.547723</td>\n",
       "      <td>297</td>\n",
       "      <td>4.872054</td>\n",
       "      <td>0.363625</td>\n",
       "      <td>0.012478</td>\n",
       "      <td>...</td>\n",
       "      <td>-0.028547</td>\n",
       "      <td>0.172017</td>\n",
       "      <td>0.084518</td>\n",
       "      <td>0.194290</td>\n",
       "      <td>0.002472</td>\n",
       "      <td>0.006273</td>\n",
       "      <td>0.052950</td>\n",
       "      <td>0.344210</td>\n",
       "      <td>0.307019</td>\n",
       "      <td>0.363920</td>\n",
       "    </tr>\n",
       "    <tr>\n",
       "      <th>2</th>\n",
       "      <td>15679577</td>\n",
       "      <td>849246716</td>\n",
       "      <td>5</td>\n",
       "      <td>8</td>\n",
       "      <td>3.375000</td>\n",
       "      <td>1.505941</td>\n",
       "      <td>297</td>\n",
       "      <td>4.872054</td>\n",
       "      <td>0.363625</td>\n",
       "      <td>0.007220</td>\n",
       "      <td>...</td>\n",
       "      <td>0.044000</td>\n",
       "      <td>0.371702</td>\n",
       "      <td>0.000015</td>\n",
       "      <td>0.316641</td>\n",
       "      <td>0.156807</td>\n",
       "      <td>0.052990</td>\n",
       "      <td>0.165214</td>\n",
       "      <td>0.011699</td>\n",
       "      <td>-0.066285</td>\n",
       "      <td>-0.171195</td>\n",
       "    </tr>\n",
       "    <tr>\n",
       "      <th>3</th>\n",
       "      <td>16367779</td>\n",
       "      <td>849246716</td>\n",
       "      <td>5</td>\n",
       "      <td>9</td>\n",
       "      <td>4.444444</td>\n",
       "      <td>0.527046</td>\n",
       "      <td>297</td>\n",
       "      <td>4.872054</td>\n",
       "      <td>0.363625</td>\n",
       "      <td>0.095238</td>\n",
       "      <td>...</td>\n",
       "      <td>-0.171195</td>\n",
       "      <td>0.000000</td>\n",
       "      <td>0.000000</td>\n",
       "      <td>0.000000</td>\n",
       "      <td>0.000000</td>\n",
       "      <td>0.000000</td>\n",
       "      <td>0.000000</td>\n",
       "      <td>0.000000</td>\n",
       "      <td>0.000000</td>\n",
       "      <td>0.000000</td>\n",
       "    </tr>\n",
       "    <tr>\n",
       "      <th>4</th>\n",
       "      <td>25485198</td>\n",
       "      <td>849246716</td>\n",
       "      <td>5</td>\n",
       "      <td>17</td>\n",
       "      <td>5.000000</td>\n",
       "      <td>0.000000</td>\n",
       "      <td>297</td>\n",
       "      <td>4.872054</td>\n",
       "      <td>0.363625</td>\n",
       "      <td>0.010870</td>\n",
       "      <td>...</td>\n",
       "      <td>0.249734</td>\n",
       "      <td>0.000000</td>\n",
       "      <td>0.000000</td>\n",
       "      <td>0.000000</td>\n",
       "      <td>0.000000</td>\n",
       "      <td>0.000000</td>\n",
       "      <td>0.000000</td>\n",
       "      <td>0.000000</td>\n",
       "      <td>0.000000</td>\n",
       "      <td>0.000000</td>\n",
       "    </tr>\n",
       "  </tbody>\n",
       "</table>\n",
       "<p>5 rows × 29 columns</p>\n",
       "</div>"
      ],
      "text/plain": [
       "   customer_id  product_parent  star_rating  cust_review_count  \\\n",
       "0      1617361       849246716            5                  5   \n",
       "1     53052607       849246716            3                  5   \n",
       "2     15679577       849246716            5                  8   \n",
       "3     16367779       849246716            5                  9   \n",
       "4     25485198       849246716            5                 17   \n",
       "\n",
       "   cust_star_rating_mean  cust_star_rating_std  prod_review_count  \\\n",
       "0               5.000000              0.000000                297   \n",
       "1               3.600000              0.547723                297   \n",
       "2               3.375000              1.505941                297   \n",
       "3               4.444444              0.527046                297   \n",
       "4               5.000000              0.000000                297   \n",
       "\n",
       "   prod_star_rating_mean  prod_star_rating_std   pos_sim  ...  pos_3_word_3  \\\n",
       "0               4.872054              0.363625  0.033451  ...      0.186957   \n",
       "1               4.872054              0.363625  0.012478  ...     -0.028547   \n",
       "2               4.872054              0.363625  0.007220  ...      0.044000   \n",
       "3               4.872054              0.363625  0.095238  ...     -0.171195   \n",
       "4               4.872054              0.363625  0.010870  ...      0.249734   \n",
       "\n",
       "   neg_1_word_1  neg_1_word_2  neg_1_word_3  neg_2_word_1  neg_2_word_2  \\\n",
       "0      0.000000      0.000000      0.000000      0.000000      0.000000   \n",
       "1      0.172017      0.084518      0.194290      0.002472      0.006273   \n",
       "2      0.371702      0.000015      0.316641      0.156807      0.052990   \n",
       "3      0.000000      0.000000      0.000000      0.000000      0.000000   \n",
       "4      0.000000      0.000000      0.000000      0.000000      0.000000   \n",
       "\n",
       "   neg_2_word_3  neg_3_word_1  neg_3_word_2  neg_3_word_3  \n",
       "0      0.000000      0.000000      0.000000      0.000000  \n",
       "1      0.052950      0.344210      0.307019      0.363920  \n",
       "2      0.165214      0.011699     -0.066285     -0.171195  \n",
       "3      0.000000      0.000000      0.000000      0.000000  \n",
       "4      0.000000      0.000000      0.000000      0.000000  \n",
       "\n",
       "[5 rows x 29 columns]"
      ]
     },
     "execution_count": 2,
     "metadata": {},
     "output_type": "execute_result"
    }
   ],
   "source": [
    "train_df = pd.read_csv('train_df2.csv', index_col=0)\n",
    "train_df.drop(['positive', 'pos_corpus', 'neg_corpus', 'pos_1', 'pos_2', 'pos_3', \n",
    "               'neg_1', 'neg_2', 'neg_3', 'prod_corpus', 'word_1', 'word_2', 'word_3'], axis=1, inplace=True)\n",
    "train_df.drop(['cust_total_votes_mean', 'cust_total_votes_std', 'cust_helpful_votes_mean', 'cust_helpful_votes_std', \n",
    "               'prod_total_votes_mean', 'prod_total_votes_std', 'prod_helpful_votes_mean', 'prod_helpful_votes_std'], \n",
    "              axis=1, inplace=True)\n",
    "train_df.head()"
   ]
  },
  {
   "cell_type": "code",
   "execution_count": 3,
   "metadata": {},
   "outputs": [
    {
     "data": {
      "text/plain": [
       "Index(['customer_id', 'product_parent', 'star_rating', 'cust_review_count',\n",
       "       'cust_star_rating_mean', 'cust_star_rating_std', 'prod_review_count',\n",
       "       'prod_star_rating_mean', 'prod_star_rating_std', 'pos_sim', 'neg_sim',\n",
       "       'pos_1_word_1', 'pos_1_word_2', 'pos_1_word_3', 'pos_2_word_1',\n",
       "       'pos_2_word_2', 'pos_2_word_3', 'pos_3_word_1', 'pos_3_word_2',\n",
       "       'pos_3_word_3', 'neg_1_word_1', 'neg_1_word_2', 'neg_1_word_3',\n",
       "       'neg_2_word_1', 'neg_2_word_2', 'neg_2_word_3', 'neg_3_word_1',\n",
       "       'neg_3_word_2', 'neg_3_word_3'],\n",
       "      dtype='object')"
      ]
     },
     "execution_count": 3,
     "metadata": {},
     "output_type": "execute_result"
    }
   ],
   "source": [
    "train_df.columns"
   ]
  },
  {
   "cell_type": "code",
   "execution_count": 4,
   "metadata": {},
   "outputs": [
    {
     "data": {
      "text/plain": [
       "star_rating\n",
       "1     3431\n",
       "2     2299\n",
       "3     3801\n",
       "4     7972\n",
       "5    30219\n",
       "dtype: int64"
      ]
     },
     "execution_count": 4,
     "metadata": {},
     "output_type": "execute_result"
    }
   ],
   "source": [
    "train_df.groupby('star_rating').size()"
   ]
  },
  {
   "cell_type": "code",
   "execution_count": 5,
   "metadata": {},
   "outputs": [],
   "source": [
    "temp = train_df[train_df.star_rating == 1][:3324]\n",
    "temp = pd.concat([temp, train_df[train_df.star_rating == 2]])\n",
    "temp = pd.concat([temp, train_df[train_df.star_rating == 3]])\n",
    "temp = pd.concat([temp, train_df[train_df.star_rating == 4][:len(train_df[train_df.star_rating == 4]) // 2]])\n",
    "temp = pd.concat([temp, train_df[train_df.star_rating == 5][:len(train_df[train_df.star_rating == 5]) // 8]])\n",
    "train_df = temp"
   ]
  },
  {
   "cell_type": "code",
   "execution_count": 5,
   "metadata": {},
   "outputs": [
    {
     "data": {
      "text/plain": [
       "star_rating\n",
       "1    0.071896\n",
       "2    0.048175\n",
       "3    0.079649\n",
       "4    0.167051\n",
       "5    0.633230\n",
       "dtype: float64"
      ]
     },
     "execution_count": 5,
     "metadata": {},
     "output_type": "execute_result"
    }
   ],
   "source": [
    "train_df.groupby('star_rating').size() / len(train_df)"
   ]
  },
  {
   "cell_type": "code",
   "execution_count": 6,
   "metadata": {},
   "outputs": [
    {
     "data": {
      "text/html": [
       "<div>\n",
       "<style scoped>\n",
       "    .dataframe tbody tr th:only-of-type {\n",
       "        vertical-align: middle;\n",
       "    }\n",
       "\n",
       "    .dataframe tbody tr th {\n",
       "        vertical-align: top;\n",
       "    }\n",
       "\n",
       "    .dataframe thead th {\n",
       "        text-align: right;\n",
       "    }\n",
       "</style>\n",
       "<table border=\"1\" class=\"dataframe\">\n",
       "  <thead>\n",
       "    <tr style=\"text-align: right;\">\n",
       "      <th></th>\n",
       "      <th>customer_id</th>\n",
       "      <th>product_parent</th>\n",
       "      <th>star_rating</th>\n",
       "      <th>cust_review_count</th>\n",
       "      <th>cust_star_rating_mean</th>\n",
       "      <th>cust_star_rating_std</th>\n",
       "      <th>prod_review_count</th>\n",
       "      <th>prod_star_rating_mean</th>\n",
       "      <th>prod_star_rating_std</th>\n",
       "      <th>pos_sim</th>\n",
       "      <th>...</th>\n",
       "      <th>pos_3_word_3</th>\n",
       "      <th>neg_1_word_1</th>\n",
       "      <th>neg_1_word_2</th>\n",
       "      <th>neg_1_word_3</th>\n",
       "      <th>neg_2_word_1</th>\n",
       "      <th>neg_2_word_2</th>\n",
       "      <th>neg_2_word_3</th>\n",
       "      <th>neg_3_word_1</th>\n",
       "      <th>neg_3_word_2</th>\n",
       "      <th>neg_3_word_3</th>\n",
       "    </tr>\n",
       "  </thead>\n",
       "  <tbody>\n",
       "    <tr>\n",
       "      <th>0</th>\n",
       "      <td>36330222</td>\n",
       "      <td>986428010</td>\n",
       "      <td>5</td>\n",
       "      <td>24</td>\n",
       "      <td>4.291667</td>\n",
       "      <td>1.267629</td>\n",
       "      <td>18</td>\n",
       "      <td>4.333333</td>\n",
       "      <td>1.188177</td>\n",
       "      <td>0.070423</td>\n",
       "      <td>...</td>\n",
       "      <td>0.001941</td>\n",
       "      <td>0.000987</td>\n",
       "      <td>-0.015594</td>\n",
       "      <td>-0.013630</td>\n",
       "      <td>0.006534</td>\n",
       "      <td>0.007653</td>\n",
       "      <td>0.023873</td>\n",
       "      <td>-0.029103</td>\n",
       "      <td>-0.046843</td>\n",
       "      <td>-0.041810</td>\n",
       "    </tr>\n",
       "    <tr>\n",
       "      <th>1</th>\n",
       "      <td>24360083</td>\n",
       "      <td>986428010</td>\n",
       "      <td>4</td>\n",
       "      <td>23</td>\n",
       "      <td>4.347826</td>\n",
       "      <td>1.191206</td>\n",
       "      <td>18</td>\n",
       "      <td>4.333333</td>\n",
       "      <td>1.188177</td>\n",
       "      <td>0.095361</td>\n",
       "      <td>...</td>\n",
       "      <td>0.901494</td>\n",
       "      <td>-0.222196</td>\n",
       "      <td>-0.196039</td>\n",
       "      <td>-0.217517</td>\n",
       "      <td>0.918800</td>\n",
       "      <td>0.925143</td>\n",
       "      <td>0.901494</td>\n",
       "      <td>0.919331</td>\n",
       "      <td>0.902017</td>\n",
       "      <td>1.000000</td>\n",
       "    </tr>\n",
       "    <tr>\n",
       "      <th>2</th>\n",
       "      <td>28891040</td>\n",
       "      <td>437083384</td>\n",
       "      <td>4</td>\n",
       "      <td>10</td>\n",
       "      <td>4.500000</td>\n",
       "      <td>0.707107</td>\n",
       "      <td>407</td>\n",
       "      <td>4.503686</td>\n",
       "      <td>0.887439</td>\n",
       "      <td>0.006944</td>\n",
       "      <td>...</td>\n",
       "      <td>0.092532</td>\n",
       "      <td>0.313854</td>\n",
       "      <td>0.086877</td>\n",
       "      <td>0.315884</td>\n",
       "      <td>0.196752</td>\n",
       "      <td>0.052950</td>\n",
       "      <td>0.194290</td>\n",
       "      <td>0.054040</td>\n",
       "      <td>0.014332</td>\n",
       "      <td>-0.002904</td>\n",
       "    </tr>\n",
       "    <tr>\n",
       "      <th>3</th>\n",
       "      <td>52449052</td>\n",
       "      <td>437083384</td>\n",
       "      <td>3</td>\n",
       "      <td>5</td>\n",
       "      <td>3.400000</td>\n",
       "      <td>1.516575</td>\n",
       "      <td>407</td>\n",
       "      <td>4.503686</td>\n",
       "      <td>0.887439</td>\n",
       "      <td>0.010390</td>\n",
       "      <td>...</td>\n",
       "      <td>0.187860</td>\n",
       "      <td>0.083284</td>\n",
       "      <td>-0.115922</td>\n",
       "      <td>0.023810</td>\n",
       "      <td>0.090283</td>\n",
       "      <td>-0.083403</td>\n",
       "      <td>0.025464</td>\n",
       "      <td>0.084633</td>\n",
       "      <td>-0.092710</td>\n",
       "      <td>0.019767</td>\n",
       "    </tr>\n",
       "    <tr>\n",
       "      <th>4</th>\n",
       "      <td>27192976</td>\n",
       "      <td>437083384</td>\n",
       "      <td>4</td>\n",
       "      <td>6</td>\n",
       "      <td>4.666667</td>\n",
       "      <td>0.816497</td>\n",
       "      <td>407</td>\n",
       "      <td>4.503686</td>\n",
       "      <td>0.887439</td>\n",
       "      <td>0.012942</td>\n",
       "      <td>...</td>\n",
       "      <td>0.126235</td>\n",
       "      <td>-0.083963</td>\n",
       "      <td>0.036128</td>\n",
       "      <td>-0.155615</td>\n",
       "      <td>-0.020984</td>\n",
       "      <td>0.021015</td>\n",
       "      <td>-0.042505</td>\n",
       "      <td>0.059809</td>\n",
       "      <td>-0.017769</td>\n",
       "      <td>-0.064662</td>\n",
       "    </tr>\n",
       "  </tbody>\n",
       "</table>\n",
       "<p>5 rows × 29 columns</p>\n",
       "</div>"
      ],
      "text/plain": [
       "   customer_id  product_parent  star_rating  cust_review_count  \\\n",
       "0     36330222       986428010            5                 24   \n",
       "1     24360083       986428010            4                 23   \n",
       "2     28891040       437083384            4                 10   \n",
       "3     52449052       437083384            3                  5   \n",
       "4     27192976       437083384            4                  6   \n",
       "\n",
       "   cust_star_rating_mean  cust_star_rating_std  prod_review_count  \\\n",
       "0               4.291667              1.267629                 18   \n",
       "1               4.347826              1.191206                 18   \n",
       "2               4.500000              0.707107                407   \n",
       "3               3.400000              1.516575                407   \n",
       "4               4.666667              0.816497                407   \n",
       "\n",
       "   prod_star_rating_mean  prod_star_rating_std   pos_sim  ...  pos_3_word_3  \\\n",
       "0               4.333333              1.188177  0.070423  ...      0.001941   \n",
       "1               4.333333              1.188177  0.095361  ...      0.901494   \n",
       "2               4.503686              0.887439  0.006944  ...      0.092532   \n",
       "3               4.503686              0.887439  0.010390  ...      0.187860   \n",
       "4               4.503686              0.887439  0.012942  ...      0.126235   \n",
       "\n",
       "   neg_1_word_1  neg_1_word_2  neg_1_word_3  neg_2_word_1  neg_2_word_2  \\\n",
       "0      0.000987     -0.015594     -0.013630      0.006534      0.007653   \n",
       "1     -0.222196     -0.196039     -0.217517      0.918800      0.925143   \n",
       "2      0.313854      0.086877      0.315884      0.196752      0.052950   \n",
       "3      0.083284     -0.115922      0.023810      0.090283     -0.083403   \n",
       "4     -0.083963      0.036128     -0.155615     -0.020984      0.021015   \n",
       "\n",
       "   neg_2_word_3  neg_3_word_1  neg_3_word_2  neg_3_word_3  \n",
       "0      0.023873     -0.029103     -0.046843     -0.041810  \n",
       "1      0.901494      0.919331      0.902017      1.000000  \n",
       "2      0.194290      0.054040      0.014332     -0.002904  \n",
       "3      0.025464      0.084633     -0.092710      0.019767  \n",
       "4     -0.042505      0.059809     -0.017769     -0.064662  \n",
       "\n",
       "[5 rows x 29 columns]"
      ]
     },
     "execution_count": 6,
     "metadata": {},
     "output_type": "execute_result"
    }
   ],
   "source": [
    "test_df = pd.read_csv('test_df2.csv', index_col=0)\n",
    "test_df.drop(['positive', 'pos_corpus', 'neg_corpus', 'pos_1', 'pos_2', 'pos_3', \n",
    "               'neg_1', 'neg_2', 'neg_3', 'prod_corpus', 'word_1', 'word_2', 'word_3'], axis=1, inplace=True)\n",
    "test_df.drop(['cust_total_votes_mean', 'cust_total_votes_std', 'cust_helpful_votes_mean', 'cust_helpful_votes_std', \n",
    "               'prod_total_votes_mean', 'prod_total_votes_std', 'prod_helpful_votes_mean', 'prod_helpful_votes_std'], \n",
    "              axis=1, inplace=True)\n",
    "test_df.head()"
   ]
  },
  {
   "cell_type": "code",
   "execution_count": 7,
   "metadata": {},
   "outputs": [
    {
     "data": {
      "text/plain": [
       "0.5701294600568361"
      ]
     },
     "execution_count": 7,
     "metadata": {},
     "output_type": "execute_result"
    }
   ],
   "source": [
    "len(test_df.query('star_rating == 5')) / len(test_df)"
   ]
  },
  {
   "cell_type": "code",
   "execution_count": 8,
   "metadata": {},
   "outputs": [],
   "source": [
    "train_ids = train_df[['customer_id', 'product_parent', 'star_rating', 'pos_sim', 'neg_sim',\n",
    "        'pos_2_word_1', 'pos_2_word_2', 'pos_2_word_3', 'pos_3_word_1',\n",
    "        'pos_3_word_2', 'pos_3_word_3', 'neg_1_word_1', 'neg_1_word_2',\n",
    "        'neg_1_word_3', 'neg_2_word_1', 'neg_2_word_2', 'neg_2_word_3',\n",
    "        'neg_3_word_1', 'neg_3_word_2', 'neg_3_word_3']]"
   ]
  },
  {
   "cell_type": "code",
   "execution_count": 9,
   "metadata": {
    "scrolled": true
   },
   "outputs": [
    {
     "data": {
      "text/html": [
       "<div>\n",
       "<style scoped>\n",
       "    .dataframe tbody tr th:only-of-type {\n",
       "        vertical-align: middle;\n",
       "    }\n",
       "\n",
       "    .dataframe tbody tr th {\n",
       "        vertical-align: top;\n",
       "    }\n",
       "\n",
       "    .dataframe thead th {\n",
       "        text-align: right;\n",
       "    }\n",
       "</style>\n",
       "<table border=\"1\" class=\"dataframe\">\n",
       "  <thead>\n",
       "    <tr style=\"text-align: right;\">\n",
       "      <th></th>\n",
       "      <th>customer_id</th>\n",
       "      <th>product_parent</th>\n",
       "      <th>star_rating</th>\n",
       "      <th>cust_review_count</th>\n",
       "      <th>cust_star_rating_mean</th>\n",
       "      <th>cust_star_rating_std</th>\n",
       "      <th>prod_review_count</th>\n",
       "      <th>prod_star_rating_mean</th>\n",
       "      <th>prod_star_rating_std</th>\n",
       "      <th>pos_sim</th>\n",
       "      <th>...</th>\n",
       "      <th>pos_3_word_3</th>\n",
       "      <th>neg_1_word_1</th>\n",
       "      <th>neg_1_word_2</th>\n",
       "      <th>neg_1_word_3</th>\n",
       "      <th>neg_2_word_1</th>\n",
       "      <th>neg_2_word_2</th>\n",
       "      <th>neg_2_word_3</th>\n",
       "      <th>neg_3_word_1</th>\n",
       "      <th>neg_3_word_2</th>\n",
       "      <th>neg_3_word_3</th>\n",
       "    </tr>\n",
       "  </thead>\n",
       "  <tbody>\n",
       "    <tr>\n",
       "      <th>0</th>\n",
       "      <td>1617361</td>\n",
       "      <td>849246716</td>\n",
       "      <td>5</td>\n",
       "      <td>0.013393</td>\n",
       "      <td>1.000000</td>\n",
       "      <td>0.000000</td>\n",
       "      <td>0.047284</td>\n",
       "      <td>0.968013</td>\n",
       "      <td>0.128561</td>\n",
       "      <td>0.033451</td>\n",
       "      <td>...</td>\n",
       "      <td>0.186957</td>\n",
       "      <td>0.000000</td>\n",
       "      <td>0.000000</td>\n",
       "      <td>0.000000</td>\n",
       "      <td>0.000000</td>\n",
       "      <td>0.000000</td>\n",
       "      <td>0.000000</td>\n",
       "      <td>0.000000</td>\n",
       "      <td>0.000000</td>\n",
       "      <td>0.000000</td>\n",
       "    </tr>\n",
       "    <tr>\n",
       "      <th>1</th>\n",
       "      <td>53052607</td>\n",
       "      <td>849246716</td>\n",
       "      <td>3</td>\n",
       "      <td>0.013393</td>\n",
       "      <td>0.650000</td>\n",
       "      <td>0.237171</td>\n",
       "      <td>0.047284</td>\n",
       "      <td>0.968013</td>\n",
       "      <td>0.128561</td>\n",
       "      <td>0.012478</td>\n",
       "      <td>...</td>\n",
       "      <td>-0.028547</td>\n",
       "      <td>0.172017</td>\n",
       "      <td>0.084518</td>\n",
       "      <td>0.194290</td>\n",
       "      <td>0.002472</td>\n",
       "      <td>0.006273</td>\n",
       "      <td>0.052950</td>\n",
       "      <td>0.344210</td>\n",
       "      <td>0.307019</td>\n",
       "      <td>0.363920</td>\n",
       "    </tr>\n",
       "    <tr>\n",
       "      <th>2</th>\n",
       "      <td>15679577</td>\n",
       "      <td>849246716</td>\n",
       "      <td>5</td>\n",
       "      <td>0.026786</td>\n",
       "      <td>0.593750</td>\n",
       "      <td>0.652091</td>\n",
       "      <td>0.047284</td>\n",
       "      <td>0.968013</td>\n",
       "      <td>0.128561</td>\n",
       "      <td>0.007220</td>\n",
       "      <td>...</td>\n",
       "      <td>0.044000</td>\n",
       "      <td>0.371702</td>\n",
       "      <td>0.000015</td>\n",
       "      <td>0.316641</td>\n",
       "      <td>0.156807</td>\n",
       "      <td>0.052990</td>\n",
       "      <td>0.165214</td>\n",
       "      <td>0.011699</td>\n",
       "      <td>-0.066285</td>\n",
       "      <td>-0.171195</td>\n",
       "    </tr>\n",
       "    <tr>\n",
       "      <th>3</th>\n",
       "      <td>16367779</td>\n",
       "      <td>849246716</td>\n",
       "      <td>5</td>\n",
       "      <td>0.031250</td>\n",
       "      <td>0.861111</td>\n",
       "      <td>0.228218</td>\n",
       "      <td>0.047284</td>\n",
       "      <td>0.968013</td>\n",
       "      <td>0.128561</td>\n",
       "      <td>0.095238</td>\n",
       "      <td>...</td>\n",
       "      <td>-0.171195</td>\n",
       "      <td>0.000000</td>\n",
       "      <td>0.000000</td>\n",
       "      <td>0.000000</td>\n",
       "      <td>0.000000</td>\n",
       "      <td>0.000000</td>\n",
       "      <td>0.000000</td>\n",
       "      <td>0.000000</td>\n",
       "      <td>0.000000</td>\n",
       "      <td>0.000000</td>\n",
       "    </tr>\n",
       "    <tr>\n",
       "      <th>4</th>\n",
       "      <td>25485198</td>\n",
       "      <td>849246716</td>\n",
       "      <td>5</td>\n",
       "      <td>0.066964</td>\n",
       "      <td>1.000000</td>\n",
       "      <td>0.000000</td>\n",
       "      <td>0.047284</td>\n",
       "      <td>0.968013</td>\n",
       "      <td>0.128561</td>\n",
       "      <td>0.010870</td>\n",
       "      <td>...</td>\n",
       "      <td>0.249734</td>\n",
       "      <td>0.000000</td>\n",
       "      <td>0.000000</td>\n",
       "      <td>0.000000</td>\n",
       "      <td>0.000000</td>\n",
       "      <td>0.000000</td>\n",
       "      <td>0.000000</td>\n",
       "      <td>0.000000</td>\n",
       "      <td>0.000000</td>\n",
       "      <td>0.000000</td>\n",
       "    </tr>\n",
       "  </tbody>\n",
       "</table>\n",
       "<p>5 rows × 29 columns</p>\n",
       "</div>"
      ],
      "text/plain": [
       "   customer_id  product_parent  star_rating  cust_review_count  \\\n",
       "0      1617361       849246716            5           0.013393   \n",
       "1     53052607       849246716            3           0.013393   \n",
       "2     15679577       849246716            5           0.026786   \n",
       "3     16367779       849246716            5           0.031250   \n",
       "4     25485198       849246716            5           0.066964   \n",
       "\n",
       "   cust_star_rating_mean  cust_star_rating_std  prod_review_count  \\\n",
       "0               1.000000              0.000000           0.047284   \n",
       "1               0.650000              0.237171           0.047284   \n",
       "2               0.593750              0.652091           0.047284   \n",
       "3               0.861111              0.228218           0.047284   \n",
       "4               1.000000              0.000000           0.047284   \n",
       "\n",
       "   prod_star_rating_mean  prod_star_rating_std   pos_sim  ...  pos_3_word_3  \\\n",
       "0               0.968013              0.128561  0.033451  ...      0.186957   \n",
       "1               0.968013              0.128561  0.012478  ...     -0.028547   \n",
       "2               0.968013              0.128561  0.007220  ...      0.044000   \n",
       "3               0.968013              0.128561  0.095238  ...     -0.171195   \n",
       "4               0.968013              0.128561  0.010870  ...      0.249734   \n",
       "\n",
       "   neg_1_word_1  neg_1_word_2  neg_1_word_3  neg_2_word_1  neg_2_word_2  \\\n",
       "0      0.000000      0.000000      0.000000      0.000000      0.000000   \n",
       "1      0.172017      0.084518      0.194290      0.002472      0.006273   \n",
       "2      0.371702      0.000015      0.316641      0.156807      0.052990   \n",
       "3      0.000000      0.000000      0.000000      0.000000      0.000000   \n",
       "4      0.000000      0.000000      0.000000      0.000000      0.000000   \n",
       "\n",
       "   neg_2_word_3  neg_3_word_1  neg_3_word_2  neg_3_word_3  \n",
       "0      0.000000      0.000000      0.000000      0.000000  \n",
       "1      0.052950      0.344210      0.307019      0.363920  \n",
       "2      0.165214      0.011699     -0.066285     -0.171195  \n",
       "3      0.000000      0.000000      0.000000      0.000000  \n",
       "4      0.000000      0.000000      0.000000      0.000000  \n",
       "\n",
       "[5 rows x 29 columns]"
      ]
     },
     "execution_count": 9,
     "metadata": {},
     "output_type": "execute_result"
    }
   ],
   "source": [
    "from sklearn import preprocessing\n",
    "min_max_scaler = preprocessing.MinMaxScaler()\n",
    "train_df_norm = pd.DataFrame(min_max_scaler.fit_transform(train_df), columns=train_df.columns, index=train_df.index)\n",
    "train_df_norm[['customer_id', 'product_parent', 'star_rating', 'pos_sim', 'neg_sim',\n",
    "        'pos_2_word_1', 'pos_2_word_2', 'pos_2_word_3', 'pos_3_word_1',\n",
    "        'pos_3_word_2', 'pos_3_word_3', 'neg_1_word_1', 'neg_1_word_2',\n",
    "        'neg_1_word_3', 'neg_2_word_1', 'neg_2_word_2', 'neg_2_word_3',\n",
    "        'neg_3_word_1', 'neg_3_word_2', 'neg_3_word_3']] = train_ids\n",
    "train_df_norm.head()"
   ]
  },
  {
   "cell_type": "code",
   "execution_count": 10,
   "metadata": {},
   "outputs": [],
   "source": [
    "test_ids = test_df[['customer_id', 'product_parent', 'star_rating', 'pos_sim', 'neg_sim',\n",
    "        'pos_2_word_1', 'pos_2_word_2', 'pos_2_word_3', 'pos_3_word_1',\n",
    "        'pos_3_word_2', 'pos_3_word_3', 'neg_1_word_1', 'neg_1_word_2',\n",
    "        'neg_1_word_3', 'neg_2_word_1', 'neg_2_word_2', 'neg_2_word_3',\n",
    "        'neg_3_word_1', 'neg_3_word_2', 'neg_3_word_3']]"
   ]
  },
  {
   "cell_type": "code",
   "execution_count": 11,
   "metadata": {},
   "outputs": [
    {
     "data": {
      "text/html": [
       "<div>\n",
       "<style scoped>\n",
       "    .dataframe tbody tr th:only-of-type {\n",
       "        vertical-align: middle;\n",
       "    }\n",
       "\n",
       "    .dataframe tbody tr th {\n",
       "        vertical-align: top;\n",
       "    }\n",
       "\n",
       "    .dataframe thead th {\n",
       "        text-align: right;\n",
       "    }\n",
       "</style>\n",
       "<table border=\"1\" class=\"dataframe\">\n",
       "  <thead>\n",
       "    <tr style=\"text-align: right;\">\n",
       "      <th></th>\n",
       "      <th>customer_id</th>\n",
       "      <th>product_parent</th>\n",
       "      <th>star_rating</th>\n",
       "      <th>cust_review_count</th>\n",
       "      <th>cust_star_rating_mean</th>\n",
       "      <th>cust_star_rating_std</th>\n",
       "      <th>prod_review_count</th>\n",
       "      <th>prod_star_rating_mean</th>\n",
       "      <th>prod_star_rating_std</th>\n",
       "      <th>pos_sim</th>\n",
       "      <th>...</th>\n",
       "      <th>pos_3_word_3</th>\n",
       "      <th>neg_1_word_1</th>\n",
       "      <th>neg_1_word_2</th>\n",
       "      <th>neg_1_word_3</th>\n",
       "      <th>neg_2_word_1</th>\n",
       "      <th>neg_2_word_2</th>\n",
       "      <th>neg_2_word_3</th>\n",
       "      <th>neg_3_word_1</th>\n",
       "      <th>neg_3_word_2</th>\n",
       "      <th>neg_3_word_3</th>\n",
       "    </tr>\n",
       "  </thead>\n",
       "  <tbody>\n",
       "    <tr>\n",
       "      <th>0</th>\n",
       "      <td>36330222</td>\n",
       "      <td>986428010</td>\n",
       "      <td>5</td>\n",
       "      <td>0.098214</td>\n",
       "      <td>0.822917</td>\n",
       "      <td>0.548900</td>\n",
       "      <td>0.002716</td>\n",
       "      <td>0.833333</td>\n",
       "      <td>0.420084</td>\n",
       "      <td>0.070423</td>\n",
       "      <td>...</td>\n",
       "      <td>0.001941</td>\n",
       "      <td>0.000987</td>\n",
       "      <td>-0.015594</td>\n",
       "      <td>-0.013630</td>\n",
       "      <td>0.006534</td>\n",
       "      <td>0.007653</td>\n",
       "      <td>0.023873</td>\n",
       "      <td>-0.029103</td>\n",
       "      <td>-0.046843</td>\n",
       "      <td>-0.041810</td>\n",
       "    </tr>\n",
       "    <tr>\n",
       "      <th>1</th>\n",
       "      <td>24360083</td>\n",
       "      <td>986428010</td>\n",
       "      <td>4</td>\n",
       "      <td>0.093750</td>\n",
       "      <td>0.836957</td>\n",
       "      <td>0.515807</td>\n",
       "      <td>0.002716</td>\n",
       "      <td>0.833333</td>\n",
       "      <td>0.420084</td>\n",
       "      <td>0.095361</td>\n",
       "      <td>...</td>\n",
       "      <td>0.901494</td>\n",
       "      <td>-0.222196</td>\n",
       "      <td>-0.196039</td>\n",
       "      <td>-0.217517</td>\n",
       "      <td>0.918800</td>\n",
       "      <td>0.925143</td>\n",
       "      <td>0.901494</td>\n",
       "      <td>0.919331</td>\n",
       "      <td>0.902017</td>\n",
       "      <td>1.000000</td>\n",
       "    </tr>\n",
       "    <tr>\n",
       "      <th>2</th>\n",
       "      <td>28891040</td>\n",
       "      <td>437083384</td>\n",
       "      <td>4</td>\n",
       "      <td>0.035714</td>\n",
       "      <td>0.875000</td>\n",
       "      <td>0.306186</td>\n",
       "      <td>0.064856</td>\n",
       "      <td>0.875921</td>\n",
       "      <td>0.313757</td>\n",
       "      <td>0.006944</td>\n",
       "      <td>...</td>\n",
       "      <td>0.092532</td>\n",
       "      <td>0.313854</td>\n",
       "      <td>0.086877</td>\n",
       "      <td>0.315884</td>\n",
       "      <td>0.196752</td>\n",
       "      <td>0.052950</td>\n",
       "      <td>0.194290</td>\n",
       "      <td>0.054040</td>\n",
       "      <td>0.014332</td>\n",
       "      <td>-0.002904</td>\n",
       "    </tr>\n",
       "    <tr>\n",
       "      <th>3</th>\n",
       "      <td>52449052</td>\n",
       "      <td>437083384</td>\n",
       "      <td>3</td>\n",
       "      <td>0.013393</td>\n",
       "      <td>0.600000</td>\n",
       "      <td>0.656696</td>\n",
       "      <td>0.064856</td>\n",
       "      <td>0.875921</td>\n",
       "      <td>0.313757</td>\n",
       "      <td>0.010390</td>\n",
       "      <td>...</td>\n",
       "      <td>0.187860</td>\n",
       "      <td>0.083284</td>\n",
       "      <td>-0.115922</td>\n",
       "      <td>0.023810</td>\n",
       "      <td>0.090283</td>\n",
       "      <td>-0.083403</td>\n",
       "      <td>0.025464</td>\n",
       "      <td>0.084633</td>\n",
       "      <td>-0.092710</td>\n",
       "      <td>0.019767</td>\n",
       "    </tr>\n",
       "    <tr>\n",
       "      <th>4</th>\n",
       "      <td>27192976</td>\n",
       "      <td>437083384</td>\n",
       "      <td>4</td>\n",
       "      <td>0.017857</td>\n",
       "      <td>0.916667</td>\n",
       "      <td>0.353553</td>\n",
       "      <td>0.064856</td>\n",
       "      <td>0.875921</td>\n",
       "      <td>0.313757</td>\n",
       "      <td>0.012942</td>\n",
       "      <td>...</td>\n",
       "      <td>0.126235</td>\n",
       "      <td>-0.083963</td>\n",
       "      <td>0.036128</td>\n",
       "      <td>-0.155615</td>\n",
       "      <td>-0.020984</td>\n",
       "      <td>0.021015</td>\n",
       "      <td>-0.042505</td>\n",
       "      <td>0.059809</td>\n",
       "      <td>-0.017769</td>\n",
       "      <td>-0.064662</td>\n",
       "    </tr>\n",
       "  </tbody>\n",
       "</table>\n",
       "<p>5 rows × 29 columns</p>\n",
       "</div>"
      ],
      "text/plain": [
       "   customer_id  product_parent  star_rating  cust_review_count  \\\n",
       "0     36330222       986428010            5           0.098214   \n",
       "1     24360083       986428010            4           0.093750   \n",
       "2     28891040       437083384            4           0.035714   \n",
       "3     52449052       437083384            3           0.013393   \n",
       "4     27192976       437083384            4           0.017857   \n",
       "\n",
       "   cust_star_rating_mean  cust_star_rating_std  prod_review_count  \\\n",
       "0               0.822917              0.548900           0.002716   \n",
       "1               0.836957              0.515807           0.002716   \n",
       "2               0.875000              0.306186           0.064856   \n",
       "3               0.600000              0.656696           0.064856   \n",
       "4               0.916667              0.353553           0.064856   \n",
       "\n",
       "   prod_star_rating_mean  prod_star_rating_std   pos_sim  ...  pos_3_word_3  \\\n",
       "0               0.833333              0.420084  0.070423  ...      0.001941   \n",
       "1               0.833333              0.420084  0.095361  ...      0.901494   \n",
       "2               0.875921              0.313757  0.006944  ...      0.092532   \n",
       "3               0.875921              0.313757  0.010390  ...      0.187860   \n",
       "4               0.875921              0.313757  0.012942  ...      0.126235   \n",
       "\n",
       "   neg_1_word_1  neg_1_word_2  neg_1_word_3  neg_2_word_1  neg_2_word_2  \\\n",
       "0      0.000987     -0.015594     -0.013630      0.006534      0.007653   \n",
       "1     -0.222196     -0.196039     -0.217517      0.918800      0.925143   \n",
       "2      0.313854      0.086877      0.315884      0.196752      0.052950   \n",
       "3      0.083284     -0.115922      0.023810      0.090283     -0.083403   \n",
       "4     -0.083963      0.036128     -0.155615     -0.020984      0.021015   \n",
       "\n",
       "   neg_2_word_3  neg_3_word_1  neg_3_word_2  neg_3_word_3  \n",
       "0      0.023873     -0.029103     -0.046843     -0.041810  \n",
       "1      0.901494      0.919331      0.902017      1.000000  \n",
       "2      0.194290      0.054040      0.014332     -0.002904  \n",
       "3      0.025464      0.084633     -0.092710      0.019767  \n",
       "4     -0.042505      0.059809     -0.017769     -0.064662  \n",
       "\n",
       "[5 rows x 29 columns]"
      ]
     },
     "execution_count": 11,
     "metadata": {},
     "output_type": "execute_result"
    }
   ],
   "source": [
    "test_df_norm = pd.DataFrame(min_max_scaler.transform(test_df), columns=test_df.columns, index=test_df.index)\n",
    "test_df_norm[['customer_id', 'product_parent', 'star_rating', 'pos_sim', 'neg_sim',\n",
    "        'pos_2_word_1', 'pos_2_word_2', 'pos_2_word_3', 'pos_3_word_1',\n",
    "        'pos_3_word_2', 'pos_3_word_3', 'neg_1_word_1', 'neg_1_word_2',\n",
    "        'neg_1_word_3', 'neg_2_word_1', 'neg_2_word_2', 'neg_2_word_3',\n",
    "        'neg_3_word_1', 'neg_3_word_2', 'neg_3_word_3']] = test_ids\n",
    "test_df_norm.head()"
   ]
  },
  {
   "cell_type": "code",
   "execution_count": 12,
   "metadata": {},
   "outputs": [],
   "source": [
    "test_df, train_df =  train_df, test_df\n",
    "test_df_norm, train_df_norm =  train_df_norm, test_df_norm"
   ]
  },
  {
   "cell_type": "code",
   "execution_count": 13,
   "metadata": {},
   "outputs": [],
   "source": [
    "train_x, train_y = train_df.drop('star_rating', axis=1), train_df['star_rating']\n",
    "test_x, test_y = test_df.drop('star_rating', axis=1), test_df['star_rating']\n",
    "train_x_norm = train_df_norm.drop('star_rating', axis=1)\n",
    "test_x_norm = test_df.drop('star_rating', axis=1)"
   ]
  },
  {
   "cell_type": "code",
   "execution_count": 14,
   "metadata": {},
   "outputs": [
    {
     "data": {
      "text/html": [
       "<div>\n",
       "<style scoped>\n",
       "    .dataframe tbody tr th:only-of-type {\n",
       "        vertical-align: middle;\n",
       "    }\n",
       "\n",
       "    .dataframe tbody tr th {\n",
       "        vertical-align: top;\n",
       "    }\n",
       "\n",
       "    .dataframe thead th {\n",
       "        text-align: right;\n",
       "    }\n",
       "</style>\n",
       "<table border=\"1\" class=\"dataframe\">\n",
       "  <thead>\n",
       "    <tr style=\"text-align: right;\">\n",
       "      <th></th>\n",
       "      <th>customer_id</th>\n",
       "      <th>product_parent</th>\n",
       "      <th>star_rating</th>\n",
       "      <th>cust_review_count</th>\n",
       "      <th>cust_star_rating_mean</th>\n",
       "      <th>cust_star_rating_std</th>\n",
       "      <th>prod_review_count</th>\n",
       "      <th>prod_star_rating_mean</th>\n",
       "      <th>prod_star_rating_std</th>\n",
       "      <th>pos_sim</th>\n",
       "      <th>...</th>\n",
       "      <th>pos_3_word_3</th>\n",
       "      <th>neg_1_word_1</th>\n",
       "      <th>neg_1_word_2</th>\n",
       "      <th>neg_1_word_3</th>\n",
       "      <th>neg_2_word_1</th>\n",
       "      <th>neg_2_word_2</th>\n",
       "      <th>neg_2_word_3</th>\n",
       "      <th>neg_3_word_1</th>\n",
       "      <th>neg_3_word_2</th>\n",
       "      <th>neg_3_word_3</th>\n",
       "    </tr>\n",
       "  </thead>\n",
       "  <tbody>\n",
       "  </tbody>\n",
       "</table>\n",
       "<p>0 rows × 29 columns</p>\n",
       "</div>"
      ],
      "text/plain": [
       "Empty DataFrame\n",
       "Columns: [customer_id, product_parent, star_rating, cust_review_count, cust_star_rating_mean, cust_star_rating_std, prod_review_count, prod_star_rating_mean, prod_star_rating_std, pos_sim, neg_sim, pos_1_word_1, pos_1_word_2, pos_1_word_3, pos_2_word_1, pos_2_word_2, pos_2_word_3, pos_3_word_1, pos_3_word_2, pos_3_word_3, neg_1_word_1, neg_1_word_2, neg_1_word_3, neg_2_word_1, neg_2_word_2, neg_2_word_3, neg_3_word_1, neg_3_word_2, neg_3_word_3]\n",
       "Index: []\n",
       "\n",
       "[0 rows x 29 columns]"
      ]
     },
     "execution_count": 14,
     "metadata": {},
     "output_type": "execute_result"
    }
   ],
   "source": [
    "is_NaN = train_df_norm.isnull()\n",
    "row_has_NaN = is_NaN.any(axis=1)\n",
    "train_df_norm[row_has_NaN]"
   ]
  },
  {
   "cell_type": "code",
   "execution_count": 15,
   "metadata": {},
   "outputs": [
    {
     "data": {
      "text/plain": [
       "GradientBoostingClassifier(ccp_alpha=0.0, criterion='friedman_mse', init=None,\n",
       "                           learning_rate=0.1, loss='deviance', max_depth=3,\n",
       "                           max_features=None, max_leaf_nodes=None,\n",
       "                           min_impurity_decrease=0.0, min_impurity_split=None,\n",
       "                           min_samples_leaf=1, min_samples_split=2,\n",
       "                           min_weight_fraction_leaf=0.0, n_estimators=100,\n",
       "                           n_iter_no_change=None, presort='deprecated',\n",
       "                           random_state=None, subsample=1.0, tol=0.0001,\n",
       "                           validation_fraction=0.1, verbose=0,\n",
       "                           warm_start=False)"
      ]
     },
     "execution_count": 15,
     "metadata": {},
     "output_type": "execute_result"
    }
   ],
   "source": [
    "from sklearn.ensemble import GradientBoostingClassifier\n",
    "gb = GradientBoostingClassifier()\n",
    "gb.fit(train_x_norm.drop(['customer_id', 'product_parent'], axis=1), train_y)"
   ]
  },
  {
   "cell_type": "code",
   "execution_count": 16,
   "metadata": {},
   "outputs": [
    {
     "data": {
      "text/plain": [
       "0.6038933825070198"
      ]
     },
     "execution_count": 16,
     "metadata": {},
     "output_type": "execute_result"
    }
   ],
   "source": [
    "gb.score(test_x_norm.drop(['customer_id', 'product_parent'], axis=1), test_y)"
   ]
  },
  {
   "cell_type": "code",
   "execution_count": 89,
   "metadata": {},
   "outputs": [
    {
     "data": {
      "text/plain": [
       "RandomForestClassifier(bootstrap=True, ccp_alpha=0.0,\n",
       "                       class_weight='balanced_subsample', criterion='entropy',\n",
       "                       max_depth=None, max_features='auto', max_leaf_nodes=None,\n",
       "                       max_samples=0.1, min_impurity_decrease=0.0,\n",
       "                       min_impurity_split=None, min_samples_leaf=1,\n",
       "                       min_samples_split=2, min_weight_fraction_leaf=0.0,\n",
       "                       n_estimators=1000, n_jobs=-1, oob_score=True,\n",
       "                       random_state=None, verbose=0, warm_start=False)"
      ]
     },
     "execution_count": 89,
     "metadata": {},
     "output_type": "execute_result"
    }
   ],
   "source": [
    "rf = RandomForestClassifier(n_estimators=1000, criterion='entropy', oob_score=True,\n",
    "                            n_jobs=-1, class_weight=\"balanced_subsample\", max_samples=0.10)\n",
    "rf.fit(train_x.drop(['customer_id', 'product_parent'], axis=1), train_y)"
   ]
  },
  {
   "cell_type": "code",
   "execution_count": 90,
   "metadata": {},
   "outputs": [
    {
     "data": {
      "text/plain": [
       "0.636100750178115"
      ]
     },
     "execution_count": 90,
     "metadata": {},
     "output_type": "execute_result"
    }
   ],
   "source": [
    "rf.score(test_x.drop(['customer_id', 'product_parent'], axis=1), test_y)"
   ]
  },
  {
   "cell_type": "code",
   "execution_count": 20,
   "metadata": {},
   "outputs": [
    {
     "data": {
      "text/plain": [
       "RandomForestRegressor(bootstrap=True, ccp_alpha=0.0, criterion='mse',\n",
       "                      max_depth=None, max_features='auto', max_leaf_nodes=None,\n",
       "                      max_samples=None, min_impurity_decrease=0.0,\n",
       "                      min_impurity_split=None, min_samples_leaf=1,\n",
       "                      min_samples_split=2, min_weight_fraction_leaf=0.0,\n",
       "                      n_estimators=1000, n_jobs=-1, oob_score=False,\n",
       "                      random_state=None, verbose=0, warm_start=False)"
      ]
     },
     "execution_count": 20,
     "metadata": {},
     "output_type": "execute_result"
    }
   ],
   "source": [
    "rf2 = RandomForestRegressor(n_estimators=1000, n_jobs=-1)\n",
    "rf2.fit(train_x.drop(['customer_id', 'product_parent'], axis=1), train_y)"
   ]
  },
  {
   "cell_type": "code",
   "execution_count": 21,
   "metadata": {},
   "outputs": [
    {
     "data": {
      "text/plain": [
       "0.14217134457034308"
      ]
     },
     "execution_count": 21,
     "metadata": {},
     "output_type": "execute_result"
    }
   ],
   "source": [
    "rf2.score(test_x.drop(['customer_id', 'product_parent'], axis=1), test_y)"
   ]
  },
  {
   "cell_type": "code",
   "execution_count": 24,
   "metadata": {},
   "outputs": [
    {
     "data": {
      "text/plain": [
       "<BarContainer object of 26 artists>"
      ]
     },
     "execution_count": 24,
     "metadata": {},
     "output_type": "execute_result"
    },
    {
     "data": {
      "image/png": "[encoded data removed]",
      "text/plain": [
       "<Figure size 432x288 with 1 Axes>"
      ]
     },
     "metadata": {
      "needs_background": "light"
     },
     "output_type": "display_data"
    }
   ],
   "source": [
    "imp_tuples = sorted(zip(map(lambda x: round(x, 4), rf.feature_importances_), \n",
    "                 train_x.drop(['customer_id', 'product_parent'], axis=1).columns), reverse=False)\n",
    "imp = [t[0] for t in imp_tuples]\n",
    "labl = [t[1] for t in imp_tuples]\n",
    "plt.barh(labl, imp, linewidth=5)"
   ]
  },
  {
   "cell_type": "code",
   "execution_count": 27,
   "metadata": {},
   "outputs": [
    {
     "data": {
      "text/plain": [
       "KNeighborsClassifier(algorithm='auto', leaf_size=30, metric='minkowski',\n",
       "                     metric_params=None, n_jobs=None, n_neighbors=3, p=2,\n",
       "                     weights='distance')"
      ]
     },
     "execution_count": 27,
     "metadata": {},
     "output_type": "execute_result"
    }
   ],
   "source": [
    "from sklearn.neighbors import KNeighborsClassifier\n",
    "knn = KNeighborsClassifier(n_neighbors=3, weights='distance')\n",
    "knn.fit(train_x_norm.drop(['customer_id', 'product_parent'], axis=1), train_y)"
   ]
  },
  {
   "cell_type": "code",
   "execution_count": 29,
   "metadata": {},
   "outputs": [
    {
     "data": {
      "text/plain": [
       "0.5813880390595533"
      ]
     },
     "execution_count": 29,
     "metadata": {},
     "output_type": "execute_result"
    }
   ],
   "source": [
    "knn.score(test_x_norm.drop(['customer_id', 'product_parent'], axis=1), test_y)"
   ]
  },
  {
   "cell_type": "code",
   "execution_count": 31,
   "metadata": {},
   "outputs": [
    {
     "data": {
      "text/plain": [
       "GaussianNB(priors=None, var_smoothing=1e-09)"
      ]
     },
     "execution_count": 31,
     "metadata": {},
     "output_type": "execute_result"
    }
   ],
   "source": [
    "from sklearn.naive_bayes import GaussianNB\n",
    "gnb = GaussianNB()\n",
    "gnb.fit(train_x_norm.drop(['customer_id', 'product_parent'], axis=1), train_y)"
   ]
  },
  {
   "cell_type": "code",
   "execution_count": 32,
   "metadata": {},
   "outputs": [
    {
     "data": {
      "text/plain": [
       "0.0929340765265496"
      ]
     },
     "execution_count": 32,
     "metadata": {},
     "output_type": "execute_result"
    }
   ],
   "source": [
    "gnb.score(test_x_norm.drop(['customer_id', 'product_parent'], axis=1), test_y)"
   ]
  },
  {
   "cell_type": "code",
   "execution_count": 87,
   "metadata": {},
   "outputs": [
    {
     "name": "stdout",
     "output_type": "stream",
     "text": [
      "Correct: 38383 0.8043040945475881\n",
      "Pos: 47354 0.9922886718913708\n",
      "Star Correct: 30355 0.6360797954821675\n",
      "True Positive: 38103 0.7984367796823268\n",
      "True Negative: 280 0.005867314865261305\n",
      "False Positive: 9251 0.19385189220904406\n",
      "False Negative: 88 0.0018440132433678387\n"
     ]
    }
   ],
   "source": [
    "correct = 0\n",
    "pos_count = 0\n",
    "star_cor = 0\n",
    "matrix = [0, 0, 0, 0]\n",
    "preds = rf.predict(test_x.drop(['customer_id', 'product_parent'], axis=1))\n",
    "for i, row in test_df.iterrows():\n",
    "    if (preds[i] > 3):\n",
    "        pos_count += 1\n",
    "    if (preds[i] == row.star_rating):\n",
    "        star_cor += 1\n",
    "    if (preds[i] > 3 and row.star_rating > 3):\n",
    "        correct += 1\n",
    "        matrix[0] += 1\n",
    "    elif (preds[i] <= 3 and row.star_rating <= 3):\n",
    "        correct += 1\n",
    "        matrix[1] += 1\n",
    "    elif (preds[i] > 3 and row.star_rating <= 3):\n",
    "        matrix[2] += 1\n",
    "    elif (preds[i] <= 3 and row.star_rating > 3):\n",
    "        matrix[3] += 1\n",
    "\n",
    "print('Correct:', correct, correct / len(test_df))\n",
    "print('Pos:', pos_count, pos_count / len(test_df))\n",
    "print('Star Correct:', star_cor, star_cor / len(test_df))\n",
    "print('True Positive:', matrix[0], matrix[0] / len(test_df))\n",
    "print('True Negative:', matrix[1], matrix[1] / len(test_df))\n",
    "print('False Positive:', matrix[2], matrix[2] / len(test_df))\n",
    "print('False Negative:', matrix[3], matrix[3] / len(test_df))"
   ]
  },
  {
   "cell_type": "code",
   "execution_count": 35,
   "metadata": {},
   "outputs": [],
   "source": [
    "from keras import models\n",
    "from keras import layers\n",
    "from keras import optimizers\n",
    "from keras.utils import to_categorical\n",
    "import keras\n",
    "import numpy as np\n",
    "import matplotlib.pyplot as plt"
   ]
  },
  {
   "cell_type": "code",
   "execution_count": 36,
   "metadata": {},
   "outputs": [],
   "source": [
    "keras.backend.clear_session()"
   ]
  },
  {
   "cell_type": "code",
   "execution_count": 37,
   "metadata": {},
   "outputs": [],
   "source": [
    "nn_train_x = train_x_norm.drop(['customer_id', 'product_parent'], axis=1)\n",
    "nn_test_x = test_x_norm.drop(['customer_id', 'product_parent'], axis=1)"
   ]
  },
  {
   "cell_type": "code",
   "execution_count": 38,
   "metadata": {},
   "outputs": [
    {
     "data": {
      "text/plain": [
       "(15835, 26)"
      ]
     },
     "execution_count": 38,
     "metadata": {},
     "output_type": "execute_result"
    }
   ],
   "source": [
    "np.shape(nn_train_x)"
   ]
  },
  {
   "cell_type": "code",
   "execution_count": 42,
   "metadata": {},
   "outputs": [],
   "source": [
    "train_y_cat = train_y - 1\n",
    "test_y_cat = test_y - 1\n",
    "train_y_cat = to_categorical(train_y_cat)\n",
    "test_y_cat = to_categorical(test_y_cat)"
   ]
  },
  {
   "cell_type": "code",
   "execution_count": 43,
   "metadata": {},
   "outputs": [
    {
     "data": {
      "text/plain": [
       "array([[0., 0., 0., 0., 1.],\n",
       "       [0., 0., 0., 1., 0.],\n",
       "       [0., 0., 0., 1., 0.],\n",
       "       ...,\n",
       "       [0., 0., 0., 0., 1.],\n",
       "       [0., 0., 0., 0., 1.],\n",
       "       [1., 0., 0., 0., 0.]], dtype=float32)"
      ]
     },
     "execution_count": 43,
     "metadata": {},
     "output_type": "execute_result"
    }
   ],
   "source": [
    "train_y_cat"
   ]
  },
  {
   "cell_type": "code",
   "execution_count": 79,
   "metadata": {},
   "outputs": [
    {
     "name": "stdout",
     "output_type": "stream",
     "text": [
      "Model: \"sequential_6\"\n",
      "_________________________________________________________________\n",
      "Layer (type)                 Output Shape              Param #   \n",
      "=================================================================\n",
      "dense_37 (Dense)             (None, 1024)              27648     \n",
      "_________________________________________________________________\n",
      "dense_38 (Dense)             (None, 1024)              1049600   \n",
      "_________________________________________________________________\n",
      "dense_39 (Dense)             (None, 1024)              1049600   \n",
      "_________________________________________________________________\n",
      "dense_40 (Dense)             (None, 512)               524800    \n",
      "_________________________________________________________________\n",
      "dense_41 (Dense)             (None, 512)               262656    \n",
      "_________________________________________________________________\n",
      "dense_42 (Dense)             (None, 512)               262656    \n",
      "_________________________________________________________________\n",
      "dense_43 (Dense)             (None, 256)               131328    \n",
      "_________________________________________________________________\n",
      "dense_44 (Dense)             (None, 256)               65792     \n",
      "_________________________________________________________________\n",
      "dense_45 (Dense)             (None, 256)               65792     \n",
      "_________________________________________________________________\n",
      "dense_46 (Dense)             (None, 128)               32896     \n",
      "_________________________________________________________________\n",
      "dense_47 (Dense)             (None, 128)               16512     \n",
      "_________________________________________________________________\n",
      "dense_48 (Dense)             (None, 128)               16512     \n",
      "_________________________________________________________________\n",
      "dense_49 (Dense)             (None, 5)                 645       \n",
      "=================================================================\n",
      "Total params: 3,506,437\n",
      "Trainable params: 3,506,437\n",
      "Non-trainable params: 0\n",
      "_________________________________________________________________\n"
     ]
    }
   ],
   "source": [
    "network = models.Sequential()\n",
    "network.add(layers.Dense(1024, activation='relu', input_shape=(26,)))\n",
    "#network.add(layers.Dropout(0.5))\n",
    "network.add(layers.Dense(1024, activation='relu', input_shape=(1024,)))\n",
    "network.add(layers.Dense(1024, activation='relu', input_shape=(1024,)))\n",
    "network.add(layers.Dense(512, activation='relu', input_shape=(1024,)))\n",
    "#network.add(layers.Dropout(0.5))\n",
    "network.add(layers.Dense(512, activation='relu', input_shape=(512,)))\n",
    "network.add(layers.Dense(512, activation='relu', input_shape=(512,)))\n",
    "network.add(layers.Dense(256, activation='relu', input_shape=(512,)))\n",
    "#network.add(layers.Dropout(0.5))\n",
    "network.add(layers.Dense(256, activation='relu', input_shape=(256,)))\n",
    "network.add(layers.Dense(256, activation='relu', input_shape=(256,)))\n",
    "network.add(layers.Dense(128, activation='relu', input_shape=(256,)))\n",
    "#network.add(layers.Dropout(0.5))\n",
    "network.add(layers.Dense(128, activation='relu', input_shape=(128,)))\n",
    "network.add(layers.Dense(128, activation='relu', input_shape=(128,)))\n",
    "network.add(layers.Dense(5, activation='softmax', input_shape=(128,)))\n",
    "network.summary()"
   ]
  },
  {
   "cell_type": "code",
   "execution_count": 80,
   "metadata": {},
   "outputs": [
    {
     "name": "stdout",
     "output_type": "stream",
     "text": [
      "Train on 15835 samples, validate on 47722 samples\n",
      "Epoch 1/30\n",
      "15835/15835 [==============================] - 3s 161us/step - loss: 1.5224 - accuracy: 0.5666 - val_loss: 13.1501 - val_accuracy: 0.6332\n",
      "Epoch 2/30\n",
      "15835/15835 [==============================] - 1s 89us/step - loss: 1.1893 - accuracy: 0.5701 - val_loss: 7.2805 - val_accuracy: 0.6330\n",
      "Epoch 3/30\n",
      "15835/15835 [==============================] - 2s 100us/step - loss: 1.1645 - accuracy: 0.5737 - val_loss: 6.5074 - val_accuracy: 0.6332\n",
      "Epoch 4/30\n",
      "15835/15835 [==============================] - 1s 90us/step - loss: 1.1515 - accuracy: 0.5737 - val_loss: 35.4066 - val_accuracy: 0.6332\n",
      "Epoch 5/30\n",
      "15835/15835 [==============================] - 1s 91us/step - loss: 1.1455 - accuracy: 0.5761 - val_loss: 125.3094 - val_accuracy: 0.6332\n",
      "Epoch 6/30\n",
      "15835/15835 [==============================] - 1s 87us/step - loss: 1.1419 - accuracy: 0.5775 - val_loss: 62.6485 - val_accuracy: 0.6332\n",
      "Epoch 7/30\n",
      "15835/15835 [==============================] - 2s 95us/step - loss: 1.1339 - accuracy: 0.5787 - val_loss: 351.3981 - val_accuracy: 0.6332\n",
      "Epoch 8/30\n",
      "15835/15835 [==============================] - 1s 89us/step - loss: 1.1283 - accuracy: 0.5787 - val_loss: 401.9834 - val_accuracy: 0.6332\n",
      "Epoch 9/30\n",
      "15835/15835 [==============================] - 2s 103us/step - loss: 1.1244 - accuracy: 0.5795 - val_loss: 466.0312 - val_accuracy: 0.6332\n",
      "Epoch 10/30\n",
      "15835/15835 [==============================] - 1s 88us/step - loss: 1.1208 - accuracy: 0.5803 - val_loss: 653.4508 - val_accuracy: 0.6332\n",
      "Epoch 11/30\n",
      "15835/15835 [==============================] - 1s 90us/step - loss: 1.1199 - accuracy: 0.5809 - val_loss: 628.4441 - val_accuracy: 0.6332\n",
      "Epoch 12/30\n",
      "15835/15835 [==============================] - 1s 89us/step - loss: 1.1145 - accuracy: 0.5816 - val_loss: 532.4489 - val_accuracy: 0.6332\n",
      "Epoch 13/30\n",
      "15835/15835 [==============================] - 1s 93us/step - loss: 1.1098 - accuracy: 0.5828 - val_loss: 1165.5425 - val_accuracy: 0.6332\n",
      "Epoch 14/30\n",
      "15835/15835 [==============================] - 1s 88us/step - loss: 1.1067 - accuracy: 0.5838 - val_loss: 711.9327 - val_accuracy: 0.6332\n",
      "Epoch 15/30\n",
      "15835/15835 [==============================] - 2s 98us/step - loss: 1.1025 - accuracy: 0.5838 - val_loss: 1399.5425 - val_accuracy: 0.6332\n",
      "Epoch 16/30\n",
      "15835/15835 [==============================] - 1s 95us/step - loss: 1.0961 - accuracy: 0.5843 - val_loss: 705.3521 - val_accuracy: 0.6332\n",
      "Epoch 17/30\n",
      "15835/15835 [==============================] - 1s 88us/step - loss: 1.0954 - accuracy: 0.5860 - val_loss: 1155.8138 - val_accuracy: 0.6332\n",
      "Epoch 18/30\n",
      "15835/15835 [==============================] - 1s 86us/step - loss: 1.0868 - accuracy: 0.5877 - val_loss: 1904.5163 - val_accuracy: 0.6332\n",
      "Epoch 19/30\n",
      "15835/15835 [==============================] - 1s 86us/step - loss: 1.0841 - accuracy: 0.5887 - val_loss: 2511.8836 - val_accuracy: 0.6332\n",
      "Epoch 20/30\n",
      "15835/15835 [==============================] - 1s 90us/step - loss: 1.0789 - accuracy: 0.5893 - val_loss: 2582.0033 - val_accuracy: 0.6332\n",
      "Epoch 21/30\n",
      "15835/15835 [==============================] - 1s 89us/step - loss: 1.0729 - accuracy: 0.5899 - val_loss: 4227.1445 - val_accuracy: 0.6332\n",
      "Epoch 22/30\n",
      "15835/15835 [==============================] - 1s 91us/step - loss: 1.0669 - accuracy: 0.5907 - val_loss: 3908.6180 - val_accuracy: 0.6332\n",
      "Epoch 23/30\n",
      "15835/15835 [==============================] - 1s 86us/step - loss: 1.0624 - accuracy: 0.5912 - val_loss: 7370.0273 - val_accuracy: 0.6332\n",
      "Epoch 24/30\n",
      "15835/15835 [==============================] - 1s 86us/step - loss: 1.0553 - accuracy: 0.5927 - val_loss: 7495.0710 - val_accuracy: 0.6332\n",
      "Epoch 25/30\n",
      "15835/15835 [==============================] - 1s 85us/step - loss: 1.0474 - accuracy: 0.5929 - val_loss: 9634.5025 - val_accuracy: 0.6332\n",
      "Epoch 26/30\n",
      "15835/15835 [==============================] - 1s 92us/step - loss: 1.0463 - accuracy: 0.5948 - val_loss: 8566.5804 - val_accuracy: 0.6332\n",
      "Epoch 27/30\n",
      "15835/15835 [==============================] - 1s 86us/step - loss: 1.0367 - accuracy: 0.5962 - val_loss: 15739.7710 - val_accuracy: 0.6332\n",
      "Epoch 28/30\n",
      "15835/15835 [==============================] - 1s 91us/step - loss: 1.0284 - accuracy: 0.5980 - val_loss: 11832.4790 - val_accuracy: 0.6332\n",
      "Epoch 29/30\n",
      "15835/15835 [==============================] - 1s 90us/step - loss: 1.0215 - accuracy: 0.6040 - val_loss: 8942.4653 - val_accuracy: 0.6332\n",
      "Epoch 30/30\n",
      "15835/15835 [==============================] - 1s 89us/step - loss: 1.0163 - accuracy: 0.6113 - val_loss: 28989.1868 - val_accuracy: 0.6332\n"
     ]
    }
   ],
   "source": [
    "opt = optimizers.Adam(learning_rate=0.001, beta_1=0.9, beta_2=0.999, amsgrad=False)\n",
    "network.compile(optimizer='rmsprop',\n",
    "                loss='categorical_crossentropy',\n",
    "                metrics=['accuracy'])\n",
    "\n",
    "epochs = 30\n",
    "history = network.fit(nn_train_x, \n",
    "                      train_y_cat, \n",
    "                      epochs=epochs, \n",
    "                      batch_size=128, \n",
    "                      validation_data=(nn_test_x, test_y_cat))"
   ]
  },
  {
   "cell_type": "code",
   "execution_count": 81,
   "metadata": {},
   "outputs": [
    {
     "data": {
      "image/png": "[encoded data removed]",
      "text/plain": [
       "<Figure size 432x288 with 1 Axes>"
      ]
     },
     "metadata": {
      "needs_background": "light"
     },
     "output_type": "display_data"
    }
   ],
   "source": [
    "history_dict = history.history\n",
    "loss_values = history_dict['loss']\n",
    "test_loss_values = history_dict['val_loss']\n",
    "epochs_range = range(1, epochs + 1)\n",
    "plt.plot(epochs_range, loss_values, 'bo', label='Training loss')\n",
    "plt.plot(epochs_range, test_loss_values, 'ro', label='Test loss')\n",
    "plt.title('Training and test loss')\n",
    "plt.xlabel('Epochs')\n",
    "plt.ylabel('Loss')\n",
    "plt.legend()\n",
    "plt.show()"
   ]
  },
  {
   "cell_type": "code",
   "execution_count": 82,
   "metadata": {},
   "outputs": [
    {
     "data": {
      "image/png": "[encoded data removed]",
      "text/plain": [
       "<Figure size 432x288 with 1 Axes>"
      ]
     },
     "metadata": {
      "needs_background": "light"
     },
     "output_type": "display_data"
    }
   ],
   "source": [
    "acc_values = history_dict['accuracy']\n",
    "test_acc_values = history_dict['val_accuracy']\n",
    "plt.plot(epochs_range, acc_values, 'bo', label='Training accuracy')\n",
    "plt.plot(epochs_range, test_acc_values, 'ro', label='Test accuracy')\n",
    "plt.title('Training and test accuracy')\n",
    "plt.xlabel('Epochs')\n",
    "plt.ylabel('Accuracy')\n",
    "plt.legend()\n",
    "plt.show()"
   ]
  },
  {
   "cell_type": "code",
   "execution_count": 84,
   "metadata": {},
   "outputs": [
    {
     "name": "stdout",
     "output_type": "stream",
     "text": [
      "Correct: 30219 0.6332299568333264\n",
      "Pos: 47722 1.0\n",
      "Star Correct: 30219 0.6332299568333264\n",
      "True Positive: 30219 0.6332299568333264\n",
      "True Negative: 0 0.0\n",
      "False Positive: 17503 0.36677004316667366\n",
      "False Negative: 0 0.0\n"
     ]
    }
   ],
   "source": [
    "correct = 0\n",
    "pos_count = 0\n",
    "star_cor = 0\n",
    "matrix = [0, 0, 0, 0]\n",
    "preds = network.predict(nn_test_x)\n",
    "for i, row in test_df.iterrows():\n",
    "    if (np.argmax(preds[i]) > 3):\n",
    "        pos_count += 1\n",
    "    if (np.argmax(preds[i]) == np.argmax(test_y_cat[i])):\n",
    "        star_cor += 1\n",
    "    if (np.argmax(preds[i]) > 3 and np.argmax(test_y_cat[i]) > 3):\n",
    "        correct += 1\n",
    "        matrix[0] += 1\n",
    "    elif (np.argmax(preds[i]) <= 3 and np.argmax(test_y_cat[i]) <= 3):\n",
    "        correct += 1\n",
    "        matrix[1] += 1\n",
    "    elif (np.argmax(preds[i]) > 3 and np.argmax(test_y_cat[i]) <= 3):\n",
    "        matrix[2] += 1\n",
    "    elif (np.argmax(preds[i]) <= 3 and np.argmax(test_y_cat[i]) > 3):\n",
    "        matrix[3] += 1\n",
    "\n",
    "print('Correct:', correct, correct / len(test_df))\n",
    "print('Pos:', pos_count, pos_count / len(test_df))\n",
    "print('Star Correct:', star_cor, star_cor / len(test_df))\n",
    "print('True Positive:', matrix[0], matrix[0] / len(test_df))\n",
    "print('True Negative:', matrix[1], matrix[1] / len(test_df))\n",
    "print('False Positive:', matrix[2], matrix[2] / len(test_df))\n",
    "print('False Negative:', matrix[3], matrix[3] / len(test_df))"
   ]
  },
  {
   "cell_type": "code",
   "execution_count": 75,
   "metadata": {},
   "outputs": [],
   "source": [
    "#network.save('basic_neural_net3.h5')"
   ]
  },
  {
   "cell_type": "code",
   "execution_count": 78,
   "metadata": {},
   "outputs": [
    {
     "data": {
      "text/plain": [
       "array([201.77647], dtype=float32)"
      ]
     },
     "execution_count": 78,
     "metadata": {},
     "output_type": "execute_result"
    }
   ],
   "source": [
    "sum(preds) / len(preds)"
   ]
  },
  {
   "cell_type": "code",
   "execution_count": null,
   "metadata": {},
   "outputs": [],
   "source": []
  }
 ],
 "metadata": {
  "kernelspec": {
   "display_name": "Python 3",
   "language": "python",
   "name": "python3"
  },
  "language_info": {
   "codemirror_mode": {
    "name": "ipython",
    "version": 3
   },
   "file_extension": ".py",
   "mimetype": "text/x-python",
   "name": "python",
   "nbconvert_exporter": "python",
   "pygments_lexer": "ipython3",
   "version": "3.7.6"
  }
 },
 "nbformat": 4,
 "nbformat_minor": 2
}
