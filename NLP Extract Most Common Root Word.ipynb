{
 "cells": [
  {
   "cell_type": "code",
   "execution_count": 1,
   "metadata": {},
   "outputs": [],
   "source": [
    "import matplotlib\n",
    "matplotlib.use('Agg')\n",
    "\n",
    "import pandas as pd\n",
    "import numpy as np\n",
    "import matplotlib.pyplot as plt\n",
    "import nltk\n",
    "import re\n",
    "from nltk.corpus import stopwords\n",
    "from nltk.stem.porter import PorterStemmer\n",
    "from sklearn.feature_extraction.text import CountVectorizer\n",
    "from sklearn.naive_bayes import GaussianNB\n",
    "from sklearn.model_selection import train_test_split\n",
    "from sklearn.metrics import confusion_matrix"
   ]
  },
  {
   "cell_type": "code",
   "execution_count": 6,
   "metadata": {},
   "outputs": [
    {
     "name": "stderr",
     "output_type": "stream",
     "text": [
      "[nltk_data] Downloading package punkt to\n",
      "[nltk_data]     C:\\Users\\Andy\\AppData\\Roaming\\nltk_data...\n",
      "[nltk_data]   Package punkt is already up-to-date!\n",
      "[nltk_data] Downloading package averaged_perceptron_tagger to\n",
      "[nltk_data]     C:\\Users\\Andy\\AppData\\Roaming\\nltk_data...\n",
      "[nltk_data]   Package averaged_perceptron_tagger is already up-to-\n",
      "[nltk_data]       date!\n",
      "[nltk_data] Downloading package maxent_ne_chunker to\n",
      "[nltk_data]     C:\\Users\\Andy\\AppData\\Roaming\\nltk_data...\n",
      "[nltk_data]   Unzipping chunkers\\maxent_ne_chunker.zip.\n",
      "[nltk_data] Downloading package words to\n",
      "[nltk_data]     C:\\Users\\Andy\\AppData\\Roaming\\nltk_data...\n",
      "[nltk_data]   Unzipping corpora\\words.zip.\n",
      "[nltk_data] Downloading package stopwords to\n",
      "[nltk_data]     C:\\Users\\Andy\\AppData\\Roaming\\nltk_data...\n",
      "[nltk_data]   Unzipping corpora\\stopwords.zip.\n"
     ]
    },
    {
     "data": {
      "text/plain": [
       "True"
      ]
     },
     "execution_count": 6,
     "metadata": {},
     "output_type": "execute_result"
    }
   ],
   "source": [
    "nltk.download('punkt')\n",
    "nltk.download('averaged_perceptron_tagger')\n",
    "nltk.download('maxent_ne_chunker')\n",
    "nltk.download('words')\n",
    "nltk.download('stopwords')"
   ]
  },
  {
   "cell_type": "code",
   "execution_count": 74,
   "metadata": {},
   "outputs": [],
   "source": [
    "def clean(review):\n",
    "    if (isNaN(review)):\n",
    "        return ''\n",
    "    review = re.sub(\"[^a-zA-z]\", ' ', review)\n",
    "    review = review.lower()\n",
    "    review = review.split()\n",
    "    ps = PorterStemmer()\n",
    "    review = [ps.stem(word) for word in review if not word in set(stopwords.words('english'))]\n",
    "    review = \" \".join(review)\n",
    "    return review\n",
    "\n",
    "def isNaN(string):\n",
    "    return string != string"
   ]
  },
  {
   "cell_type": "code",
   "execution_count": 90,
   "metadata": {},
   "outputs": [],
   "source": [
    "def clean(review):\n",
    "    if (isNaN(review)):\n",
    "        return ''\n",
    "    # function to test if something is a noun\n",
    "    is_noun = lambda pos: pos[:2] == 'NN'\n",
    "    # do the nlp stuff\n",
    "    review = re.sub(\"[^a-zA-z]\", ' ', review)\n",
    "    review = review.lower()\n",
    "    tokenized = nltk.word_tokenize(review)\n",
    "    ps = PorterStemmer()\n",
    "    nouns = [ps.stem(word) for (word, pos) in nltk.pos_tag(tokenized) if is_noun(pos)]\n",
    "    return nouns"
   ]
  },
  {
   "cell_type": "code",
   "execution_count": 91,
   "metadata": {},
   "outputs": [
    {
     "data": {
      "text/plain": [
       "['game', 'time']"
      ]
     },
     "execution_count": 91,
     "metadata": {},
     "output_type": "execute_result"
    }
   ],
   "source": [
    "clean2('Its A pretty good game and it came on time but')"
   ]
  },
  {
   "cell_type": "code",
   "execution_count": 92,
   "metadata": {},
   "outputs": [
    {
     "data": {
      "text/html": [
       "<div>\n",
       "<style scoped>\n",
       "    .dataframe tbody tr th:only-of-type {\n",
       "        vertical-align: middle;\n",
       "    }\n",
       "\n",
       "    .dataframe tbody tr th {\n",
       "        vertical-align: top;\n",
       "    }\n",
       "\n",
       "    .dataframe thead th {\n",
       "        text-align: right;\n",
       "    }\n",
       "</style>\n",
       "<table border=\"1\" class=\"dataframe\">\n",
       "  <thead>\n",
       "    <tr style=\"text-align: right;\">\n",
       "      <th></th>\n",
       "      <th>marketplace</th>\n",
       "      <th>customer_id</th>\n",
       "      <th>review_id</th>\n",
       "      <th>product_id</th>\n",
       "      <th>product_parent</th>\n",
       "      <th>product_title</th>\n",
       "      <th>product_category</th>\n",
       "      <th>star_rating</th>\n",
       "      <th>helpful_votes</th>\n",
       "      <th>total_votes</th>\n",
       "      <th>vine</th>\n",
       "      <th>verified_purchase</th>\n",
       "      <th>review_headline</th>\n",
       "      <th>review_body</th>\n",
       "      <th>review_date</th>\n",
       "      <th>positive</th>\n",
       "      <th>clean_review</th>\n",
       "    </tr>\n",
       "  </thead>\n",
       "  <tbody>\n",
       "    <tr>\n",
       "      <th>267779</th>\n",
       "      <td>US</td>\n",
       "      <td>3387522</td>\n",
       "      <td>R2JEMKCQT9QTVM</td>\n",
       "      <td>B008SBZD5U</td>\n",
       "      <td>150118808</td>\n",
       "      <td>Kingdom Hearts HD 1.5 Remix</td>\n",
       "      <td>Video Games</td>\n",
       "      <td>4</td>\n",
       "      <td>0</td>\n",
       "      <td>0</td>\n",
       "      <td>N</td>\n",
       "      <td>Y</td>\n",
       "      <td>KH!&gt;% RULE!</td>\n",
       "      <td>Its A pretty good game and it came on time but...</td>\n",
       "      <td>2015-02-01</td>\n",
       "      <td>1</td>\n",
       "      <td>[game, time, year, combo, ps]</td>\n",
       "    </tr>\n",
       "    <tr>\n",
       "      <th>267796</th>\n",
       "      <td>US</td>\n",
       "      <td>15137367</td>\n",
       "      <td>R3IM5TXYMA7DCQ</td>\n",
       "      <td>B00IXMF5CU</td>\n",
       "      <td>292308774</td>\n",
       "      <td>Terraria - Xbox 360</td>\n",
       "      <td>Video Games</td>\n",
       "      <td>5</td>\n",
       "      <td>1</td>\n",
       "      <td>2</td>\n",
       "      <td>N</td>\n",
       "      <td>Y</td>\n",
       "      <td>Five Stars</td>\n",
       "      <td>Excellent</td>\n",
       "      <td>2015-02-01</td>\n",
       "      <td>1</td>\n",
       "      <td>[excel]</td>\n",
       "    </tr>\n",
       "    <tr>\n",
       "      <th>267818</th>\n",
       "      <td>US</td>\n",
       "      <td>15137367</td>\n",
       "      <td>R2PFXXB4EP23B</td>\n",
       "      <td>B00EM5UFEK</td>\n",
       "      <td>461081395</td>\n",
       "      <td>Plants vs. Zombies Garden Warfare</td>\n",
       "      <td>Video Games</td>\n",
       "      <td>4</td>\n",
       "      <td>0</td>\n",
       "      <td>0</td>\n",
       "      <td>N</td>\n",
       "      <td>Y</td>\n",
       "      <td>Four Stars</td>\n",
       "      <td>Excellent</td>\n",
       "      <td>2015-02-01</td>\n",
       "      <td>1</td>\n",
       "      <td>[excel]</td>\n",
       "    </tr>\n",
       "    <tr>\n",
       "      <th>267871</th>\n",
       "      <td>US</td>\n",
       "      <td>4354770</td>\n",
       "      <td>R1A9DB178PFXLH</td>\n",
       "      <td>B004OPYLTS</td>\n",
       "      <td>245894499</td>\n",
       "      <td>Fishdom - Nintendo DS</td>\n",
       "      <td>Video Games</td>\n",
       "      <td>5</td>\n",
       "      <td>0</td>\n",
       "      <td>0</td>\n",
       "      <td>N</td>\n",
       "      <td>Y</td>\n",
       "      <td>Fun Game</td>\n",
       "      <td>Fun game, levels get harder as you progress.</td>\n",
       "      <td>2015-02-01</td>\n",
       "      <td>1</td>\n",
       "      <td>[game, level]</td>\n",
       "    </tr>\n",
       "    <tr>\n",
       "      <th>267892</th>\n",
       "      <td>US</td>\n",
       "      <td>6698937</td>\n",
       "      <td>R1RS2GAXENP9LF</td>\n",
       "      <td>B00BGA9X9W</td>\n",
       "      <td>943154724</td>\n",
       "      <td>DualShock 4 Wireless Controller for PlayStatio...</td>\n",
       "      <td>Video Games</td>\n",
       "      <td>4</td>\n",
       "      <td>0</td>\n",
       "      <td>0</td>\n",
       "      <td>N</td>\n",
       "      <td>Y</td>\n",
       "      <td>Four Stars</td>\n",
       "      <td>Great controller</td>\n",
       "      <td>2015-02-01</td>\n",
       "      <td>1</td>\n",
       "      <td>[control]</td>\n",
       "    </tr>\n",
       "  </tbody>\n",
       "</table>\n",
       "</div>"
      ],
      "text/plain": [
       "       marketplace  customer_id       review_id  product_id  product_parent  \\\n",
       "267779          US      3387522  R2JEMKCQT9QTVM  B008SBZD5U       150118808   \n",
       "267796          US     15137367  R3IM5TXYMA7DCQ  B00IXMF5CU       292308774   \n",
       "267818          US     15137367   R2PFXXB4EP23B  B00EM5UFEK       461081395   \n",
       "267871          US      4354770  R1A9DB178PFXLH  B004OPYLTS       245894499   \n",
       "267892          US      6698937  R1RS2GAXENP9LF  B00BGA9X9W       943154724   \n",
       "\n",
       "                                            product_title product_category  \\\n",
       "267779                        Kingdom Hearts HD 1.5 Remix      Video Games   \n",
       "267796                                Terraria - Xbox 360      Video Games   \n",
       "267818                  Plants vs. Zombies Garden Warfare      Video Games   \n",
       "267871                              Fishdom - Nintendo DS      Video Games   \n",
       "267892  DualShock 4 Wireless Controller for PlayStatio...      Video Games   \n",
       "\n",
       "        star_rating  helpful_votes  total_votes vine verified_purchase  \\\n",
       "267779            4              0            0    N                 Y   \n",
       "267796            5              1            2    N                 Y   \n",
       "267818            4              0            0    N                 Y   \n",
       "267871            5              0            0    N                 Y   \n",
       "267892            4              0            0    N                 Y   \n",
       "\n",
       "       review_headline                                        review_body  \\\n",
       "267779     KH!>% RULE!  Its A pretty good game and it came on time but...   \n",
       "267796      Five Stars                                          Excellent   \n",
       "267818      Four Stars                                          Excellent   \n",
       "267871        Fun Game       Fun game, levels get harder as you progress.   \n",
       "267892      Four Stars                                   Great controller   \n",
       "\n",
       "       review_date  positive                   clean_review  \n",
       "267779  2015-02-01         1  [game, time, year, combo, ps]  \n",
       "267796  2015-02-01         1                        [excel]  \n",
       "267818  2015-02-01         1                        [excel]  \n",
       "267871  2015-02-01         1                  [game, level]  \n",
       "267892  2015-02-01         1                      [control]  "
      ]
     },
     "execution_count": 92,
     "metadata": {},
     "output_type": "execute_result"
    }
   ],
   "source": [
    "train_df = pd.read_csv('train_raw.csv', index_col=0)\n",
    "train_df['positive'] = train_df['star_rating'].apply(lambda x: 1 if x > 3 else 0)\n",
    "train_df['clean_review'] = train_df['review_body'].apply(clean)\n",
    "train_df.head()"
   ]
  },
  {
   "cell_type": "code",
   "execution_count": 130,
   "metadata": {},
   "outputs": [],
   "source": [
    "def jaccard_similarity(query, document):\n",
    "    intersection = set(query).intersection(set(document))\n",
    "    union = set(query).union(set(document))\n",
    "    return len(intersection)/len(union)"
   ]
  },
  {
   "cell_type": "code",
   "execution_count": 131,
   "metadata": {},
   "outputs": [],
   "source": [
    "def product_sim(prod1, prod2):\n",
    "    return jaccard_similarity([word for review in prod1.tolist() for word in review], [word for review in prod2.tolist() for word in review])"
   ]
  },
  {
   "cell_type": "code",
   "execution_count": 134,
   "metadata": {},
   "outputs": [],
   "source": [
    "kingdom_hearts = train_df[train_df.product_parent == 150118808]['clean_review']\n",
    "terraria = train_df[train_df.product_parent == 292308774]['clean_review']\n",
    "controller = train_df[train_df.product_parent == 943154724]['clean_review']"
   ]
  },
  {
   "cell_type": "code",
   "execution_count": 135,
   "metadata": {},
   "outputs": [
    {
     "name": "stdout",
     "output_type": "stream",
     "text": [
      "p1: kingdom_hearts p2: terraria sim: 0.1018957345971564\n",
      "p1: kingdom_hearts p2: controller sim: 0.17600700525394045\n",
      "p1: terraria p2: controller sim: 0.052313883299798795\n"
     ]
    }
   ],
   "source": [
    "print('p1: {} p2: {} sim: {}'.format('kingdom_hearts', 'terraria', product_sim(kingdom_hearts, terraria)))\n",
    "print('p1: {} p2: {} sim: {}'.format('kingdom_hearts', 'controller', product_sim(kingdom_hearts, controller)))\n",
    "print('p1: {} p2: {} sim: {}'.format('terraria', 'controller', product_sim(terraria, controller)))"
   ]
  },
  {
   "cell_type": "code",
   "execution_count": 138,
   "metadata": {},
   "outputs": [],
   "source": [
    "kingdom_hearts = train_df[train_df.product_parent == 150118808]['review_body'].apply(lambda x: x.split())\n",
    "terraria = train_df[train_df.product_parent == 292308774]['review_body'].apply(lambda x: x.split())\n",
    "controller = train_df[train_df.product_parent == 943154724]['review_body'].apply(lambda x: x.split())"
   ]
  },
  {
   "cell_type": "code",
   "execution_count": 139,
   "metadata": {},
   "outputs": [
    {
     "name": "stdout",
     "output_type": "stream",
     "text": [
      "p1: kingdom_hearts p2: terraria sim: 0.10227936879018118\n",
      "p1: kingdom_hearts p2: controller sim: 0.1579828415986608\n",
      "p1: terraria p2: controller sim: 0.05120630231413097\n"
     ]
    }
   ],
   "source": [
    "print('p1: {} p2: {} sim: {}'.format('kingdom_hearts', 'terraria', product_sim(kingdom_hearts, terraria)))\n",
    "print('p1: {} p2: {} sim: {}'.format('kingdom_hearts', 'controller', product_sim(kingdom_hearts, controller)))\n",
    "print('p1: {} p2: {} sim: {}'.format('terraria', 'controller', product_sim(terraria, controller)))"
   ]
  },
  {
   "cell_type": "code",
   "execution_count": 94,
   "metadata": {},
   "outputs": [
    {
     "data": {
      "text/plain": [
       "{}"
      ]
     },
     "execution_count": 94,
     "metadata": {},
     "output_type": "execute_result"
    }
   ],
   "source": [
    "myId = 4354770\n",
    "words = [item for l in train_df.query('customer_id == {} & positive == 0'.format(myId)).clean_review for item in l]\n",
    "{w : words.count(w) for w in words}"
   ]
  },
  {
   "cell_type": "code",
   "execution_count": 100,
   "metadata": {},
   "outputs": [
    {
     "data": {
      "text/plain": [
       "{'game': 3,\n",
       " 'level': 1,\n",
       " 'i': 1,\n",
       " 'ds': 1,\n",
       " 'nintendo': 1,\n",
       " 'problem': 1,\n",
       " 'favorit': 1,\n",
       " 'save': 1,\n",
       " 'scratch': 1,\n",
       " 'work': 1,\n",
       " 'play': 1,\n",
       " 'day': 1}"
      ]
     },
     "execution_count": 100,
     "metadata": {},
     "output_type": "execute_result"
    }
   ],
   "source": [
    "myId = 4354770\n",
    "words = [w for review in train_df.query('customer_id == {} & positive == 1'.format(myId)).clean_review for w in review]\n",
    "{w : words.count(w) for w in words}"
   ]
  },
  {
   "cell_type": "code",
   "execution_count": 105,
   "metadata": {},
   "outputs": [
    {
     "data": {
      "text/plain": [
       "{'game': 9,\n",
       " 'level': 2,\n",
       " 'fun': 2,\n",
       " 'sister': 1,\n",
       " 'type': 1,\n",
       " 'addit': 1,\n",
       " 'aquarium': 1,\n",
       " 'color': 1,\n",
       " 'i': 4,\n",
       " 'version': 1,\n",
       " 'line': 1,\n",
       " 'match': 1,\n",
       " 'part': 2,\n",
       " 'par': 1,\n",
       " 'graffic': 1,\n",
       " 'tank': 1}"
      ]
     },
     "execution_count": 105,
     "metadata": {},
     "output_type": "execute_result"
    }
   ],
   "source": [
    "myId = 245894499\n",
    "words = [item for l in train_df.query('product_parent == {} & positive == 1'.format(myId)).clean_review for item in l]\n",
    "{w : words.count(w) for w in words}"
   ]
  },
  {
   "cell_type": "code",
   "execution_count": 54,
   "metadata": {},
   "outputs": [],
   "source": [
    "myId = 245894499\n",
    "words = [item for l in train_df.query('product_parent == {} & positive == 1'.format(myId)).clean_review.apply(lambda x: x.split()) for item in l]\n",
    "pos = {w : words.count(w) for w in words}"
   ]
  },
  {
   "cell_type": "code",
   "execution_count": 55,
   "metadata": {},
   "outputs": [],
   "source": [
    "words = [item for l in train_df.query('product_parent == {} & positive == 0'.format(myId)).clean_review.apply(lambda x: x.split()) for item in l]\n",
    "neg = {w : words.count(w) for w in words}"
   ]
  },
  {
   "cell_type": "code",
   "execution_count": 67,
   "metadata": {},
   "outputs": [],
   "source": [
    "import heapq\n",
    "pos_n = heapq.nlargest(5, pos, key=pos.get)\n",
    "neg_n = heapq.nlargest(5, neg, key=neg.get)"
   ]
  },
  {
   "cell_type": "code",
   "execution_count": 68,
   "metadata": {},
   "outputs": [
    {
     "data": {
      "text/plain": [
       "['game', 'fun', 'get', 'level', 'realli']"
      ]
     },
     "execution_count": 68,
     "metadata": {},
     "output_type": "execute_result"
    }
   ],
   "source": [
    "pos_n"
   ]
  },
  {
   "cell_type": "code",
   "execution_count": 66,
   "metadata": {},
   "outputs": [
    {
     "data": {
      "text/plain": [
       "{'fun', 'game', 'get', 'realli'}"
      ]
     },
     "execution_count": 66,
     "metadata": {},
     "output_type": "execute_result"
    }
   ],
   "source": [
    "pos_n.difference(neg_n)"
   ]
  },
  {
   "cell_type": "code",
   "execution_count": 65,
   "metadata": {},
   "outputs": [
    {
     "data": {
      "text/plain": [
       "{'aquarium', 'chang', 'go', 'item'}"
      ]
     },
     "execution_count": 65,
     "metadata": {},
     "output_type": "execute_result"
    }
   ],
   "source": [
    "neg_n.difference(pos_n)"
   ]
  },
  {
   "cell_type": "code",
   "execution_count": null,
   "metadata": {},
   "outputs": [],
   "source": []
  }
 ],
 "metadata": {
  "kernelspec": {
   "display_name": "Python 3",
   "language": "python",
   "name": "python3"
  },
  "language_info": {
   "codemirror_mode": {
    "name": "ipython",
    "version": 3
   },
   "file_extension": ".py",
   "mimetype": "text/x-python",
   "name": "python",
   "nbconvert_exporter": "python",
   "pygments_lexer": "ipython3",
   "version": "3.7.6"
  }
 },
 "nbformat": 4,
 "nbformat_minor": 4
}
