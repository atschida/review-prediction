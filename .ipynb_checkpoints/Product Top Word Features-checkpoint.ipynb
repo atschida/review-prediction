{
 "cells": [
  {
   "cell_type": "code",
   "execution_count": 1,
   "metadata": {},
   "outputs": [],
   "source": [
    "import pandas as pd\n",
    "import nltk\n",
    "import re\n",
    "from nltk.corpus import stopwords\n",
    "from nltk.stem.porter import PorterStemmer"
   ]
  },
  {
   "cell_type": "code",
   "execution_count": 2,
   "metadata": {},
   "outputs": [],
   "source": [
    "train_df = pd.read_csv('train_df.csv', index_col=0)\n",
    "test_df = pd.read_csv('test_df.csv', index_col=0)"
   ]
  },
  {
   "cell_type": "code",
   "execution_count": 11,
   "metadata": {},
   "outputs": [
    {
     "name": "stderr",
     "output_type": "stream",
     "text": [
      "E:\\ProgramData\\Anaconda3\\envs\\PythonGPU\\lib\\site-packages\\IPython\\core\\interactiveshell.py:3063: DtypeWarning: Columns (0,1,2,3,4,5,6,7) have mixed types.Specify dtype option on import or set low_memory=False.\n",
      "  interactivity=interactivity, compiler=compiler, result=result)\n"
     ]
    },
    {
     "data": {
      "text/html": [
       "<div>\n",
       "<style scoped>\n",
       "    .dataframe tbody tr th:only-of-type {\n",
       "        vertical-align: middle;\n",
       "    }\n",
       "\n",
       "    .dataframe tbody tr th {\n",
       "        vertical-align: top;\n",
       "    }\n",
       "\n",
       "    .dataframe thead th {\n",
       "        text-align: right;\n",
       "    }\n",
       "</style>\n",
       "<table border=\"1\" class=\"dataframe\">\n",
       "  <thead>\n",
       "    <tr style=\"text-align: right;\">\n",
       "      <th></th>\n",
       "      <th>review_id</th>\n",
       "      <th>star_rating</th>\n",
       "      <th>star_rating.1</th>\n",
       "      <th>total_votes</th>\n",
       "      <th>total_votes.1</th>\n",
       "      <th>helpful_votes</th>\n",
       "      <th>helpful_votes.1</th>\n",
       "      <th>corpus</th>\n",
       "    </tr>\n",
       "  </thead>\n",
       "  <tbody>\n",
       "    <tr>\n",
       "      <th>1602</th>\n",
       "      <td>3</td>\n",
       "      <td>3.6666666666666665</td>\n",
       "      <td>1.5275252316519468</td>\n",
       "      <td>0.3333333333333333</td>\n",
       "      <td>0.5773502691896258</td>\n",
       "      <td>0.0</td>\n",
       "      <td>0.0</td>\n",
       "      <td>keyboard month featur problems. &lt; br / &gt; &lt; br ...</td>\n",
       "    </tr>\n",
       "    <tr>\n",
       "      <th>2696</th>\n",
       "      <td>3</td>\n",
       "      <td>3.6666666666666665</td>\n",
       "      <td>1.5275252316519468</td>\n",
       "      <td>1.3333333333333333</td>\n",
       "      <td>0.5773502691896257</td>\n",
       "      <td>0.6666666666666666</td>\n",
       "      <td>1.1547005383792517</td>\n",
       "      <td>one pad roccat cu surfac metal foil. &lt; br / &gt; ...</td>\n",
       "    </tr>\n",
       "    <tr>\n",
       "      <th>3140</th>\n",
       "      <td>1</td>\n",
       "      <td>1.0</td>\n",
       "      <td>0.0</td>\n",
       "      <td>0.0</td>\n",
       "      <td>0.0</td>\n",
       "      <td>0.0</td>\n",
       "      <td>0.0</td>\n",
       "      <td>peel</td>\n",
       "    </tr>\n",
       "    <tr>\n",
       "      <th>4318</th>\n",
       "      <td>23</td>\n",
       "      <td>4.086956521739131</td>\n",
       "      <td>1.202763616096502</td>\n",
       "      <td>18.652173913043477</td>\n",
       "      <td>28.128938020305664</td>\n",
       "      <td>14.217391304347826</td>\n",
       "      <td>22.633355356719807</td>\n",
       "      <td>dimens purs i ipad mini im sick god tablet i t...</td>\n",
       "    </tr>\n",
       "    <tr>\n",
       "      <th>10581</th>\n",
       "      <td>7</td>\n",
       "      <td>5.0</td>\n",
       "      <td>0.0</td>\n",
       "      <td>2.7142857142857144</td>\n",
       "      <td>3.302235894778249</td>\n",
       "      <td>2.5714285714285716</td>\n",
       "      <td>3.408672412985387</td>\n",
       "      <td>did extens cabl bulk cabl length odd patch cab...</td>\n",
       "    </tr>\n",
       "  </tbody>\n",
       "</table>\n",
       "</div>"
      ],
      "text/plain": [
       "      review_id         star_rating       star_rating.1         total_votes  \\\n",
       "1602          3  3.6666666666666665  1.5275252316519468  0.3333333333333333   \n",
       "2696          3  3.6666666666666665  1.5275252316519468  1.3333333333333333   \n",
       "3140          1                 1.0                 0.0                 0.0   \n",
       "4318         23   4.086956521739131   1.202763616096502  18.652173913043477   \n",
       "10581         7                 5.0                 0.0  2.7142857142857144   \n",
       "\n",
       "            total_votes.1       helpful_votes     helpful_votes.1  \\\n",
       "1602   0.5773502691896258                 0.0                 0.0   \n",
       "2696   0.5773502691896257  0.6666666666666666  1.1547005383792517   \n",
       "3140                  0.0                 0.0                 0.0   \n",
       "4318   28.128938020305664  14.217391304347826  22.633355356719807   \n",
       "10581   3.302235894778249  2.5714285714285716   3.408672412985387   \n",
       "\n",
       "                                                  corpus  \n",
       "1602   keyboard month featur problems. < br / > < br ...  \n",
       "2696   one pad roccat cu surfac metal foil. < br / > ...  \n",
       "3140                                                peel  \n",
       "4318   dimens purs i ipad mini im sick god tablet i t...  \n",
       "10581  did extens cabl bulk cabl length odd patch cab...  "
      ]
     },
     "execution_count": 11,
     "metadata": {},
     "output_type": "execute_result"
    }
   ],
   "source": [
    "product_df = pd.read_csv('product_df.csv', index_col=0)\n",
    "product_df = product_df[2:]\n",
    "product_df.head()"
   ]
  },
  {
   "cell_type": "code",
   "execution_count": 3,
   "metadata": {},
   "outputs": [],
   "source": [
    "import heapq\n",
    "def get_top_3(corpus):\n",
    "    res = ['', '', '']\n",
    "    words = str(corpus).split()\n",
    "    words = {w : words.count(w) for w in words}\n",
    "    \n",
    "    heap_array = heapq.nlargest(3, words, key=words.get)\n",
    "    i = 0\n",
    "    for w in heap_array:\n",
    "        res[i] = w\n",
    "        i += 1\n",
    "        \n",
    "    return res"
   ]
  },
  {
   "cell_type": "code",
   "execution_count": 13,
   "metadata": {},
   "outputs": [],
   "source": [
    "product_top_3 = product_df.corpus.apply(get_top_3)"
   ]
  },
  {
   "cell_type": "code",
   "execution_count": 14,
   "metadata": {},
   "outputs": [
    {
     "data": {
      "text/plain": [
       "1602               [keyboard, br, /]\n",
       "2696                      [<, br, /]\n",
       "3140                      [peel, , ]\n",
       "4318                 [/, tablet, br]\n",
       "10581                   [cabl, /, <]\n",
       "                      ...           \n",
       "999976732    [stock, batteri, short]\n",
       "999978079                 [/, >, br]\n",
       "999992470         [tab4, inch, snug]\n",
       "999992934      [case, cutout, kindl]\n",
       "999996025      [item, check, condit]\n",
       "Name: corpus, Length: 214749, dtype: object"
      ]
     },
     "execution_count": 14,
     "metadata": {},
     "output_type": "execute_result"
    }
   ],
   "source": [
    "product_top_3"
   ]
  },
  {
   "cell_type": "code",
   "execution_count": 15,
   "metadata": {},
   "outputs": [],
   "source": [
    "product_df['word_1'] = [item[0] for item in product_top_3.to_list()]\n",
    "product_df['word_2'] = [item[1] for item in product_top_3.to_list()]\n",
    "product_df['word_3'] = [item[2] for item in product_top_3.to_list()]"
   ]
  },
  {
   "cell_type": "code",
   "execution_count": 21,
   "metadata": {},
   "outputs": [
    {
     "data": {
      "text/plain": [
       "review_id                                                          1\n",
       "star_rating                                                        5\n",
       "star_rating.1                                                      0\n",
       "total_votes                                                        0\n",
       "total_votes.1                                                      0\n",
       "helpful_votes                                                      0\n",
       "helpful_votes.1                                                    0\n",
       "corpus             tab4 inch snug price hole place stitch case li...\n",
       "word_1                                                          tab4\n",
       "word_2                                                          inch\n",
       "word_3                                                          snug\n",
       "Name: 999992470, dtype: object"
      ]
     },
     "execution_count": 21,
     "metadata": {},
     "output_type": "execute_result"
    }
   ],
   "source": [
    "product_df.loc[999992470]"
   ]
  },
  {
   "cell_type": "code",
   "execution_count": 17,
   "metadata": {},
   "outputs": [],
   "source": [
    "product_df.to_csv('product_df2.csv')"
   ]
  },
  {
   "cell_type": "code",
   "execution_count": 26,
   "metadata": {},
   "outputs": [
    {
     "name": "stderr",
     "output_type": "stream",
     "text": [
      "E:\\ProgramData\\Anaconda3\\envs\\PythonGPU\\lib\\site-packages\\ipykernel_launcher.py:2: SettingWithCopyWarning: \n",
      "A value is trying to be set on a copy of a slice from a DataFrame.\n",
      "Try using .loc[row_indexer,col_indexer] = value instead\n",
      "\n",
      "See the caveats in the documentation: https://pandas.pydata.org/pandas-docs/stable/user_guide/indexing.html#returning-a-view-versus-a-copy\n",
      "  \n"
     ]
    },
    {
     "data": {
      "text/html": [
       "<div>\n",
       "<style scoped>\n",
       "    .dataframe tbody tr th:only-of-type {\n",
       "        vertical-align: middle;\n",
       "    }\n",
       "\n",
       "    .dataframe tbody tr th {\n",
       "        vertical-align: top;\n",
       "    }\n",
       "\n",
       "    .dataframe thead th {\n",
       "        text-align: right;\n",
       "    }\n",
       "</style>\n",
       "<table border=\"1\" class=\"dataframe\">\n",
       "  <thead>\n",
       "    <tr style=\"text-align: right;\">\n",
       "      <th></th>\n",
       "      <th>word_1</th>\n",
       "      <th>word_2</th>\n",
       "      <th>word_3</th>\n",
       "      <th>product_parent</th>\n",
       "    </tr>\n",
       "  </thead>\n",
       "  <tbody>\n",
       "    <tr>\n",
       "      <th>1602</th>\n",
       "      <td>keyboard</td>\n",
       "      <td>br</td>\n",
       "      <td>/</td>\n",
       "      <td>1602</td>\n",
       "    </tr>\n",
       "    <tr>\n",
       "      <th>2696</th>\n",
       "      <td>&lt;</td>\n",
       "      <td>br</td>\n",
       "      <td>/</td>\n",
       "      <td>2696</td>\n",
       "    </tr>\n",
       "    <tr>\n",
       "      <th>3140</th>\n",
       "      <td>peel</td>\n",
       "      <td></td>\n",
       "      <td></td>\n",
       "      <td>3140</td>\n",
       "    </tr>\n",
       "    <tr>\n",
       "      <th>4318</th>\n",
       "      <td>/</td>\n",
       "      <td>tablet</td>\n",
       "      <td>br</td>\n",
       "      <td>4318</td>\n",
       "    </tr>\n",
       "    <tr>\n",
       "      <th>10581</th>\n",
       "      <td>cabl</td>\n",
       "      <td>/</td>\n",
       "      <td>&lt;</td>\n",
       "      <td>10581</td>\n",
       "    </tr>\n",
       "  </tbody>\n",
       "</table>\n",
       "</div>"
      ],
      "text/plain": [
       "         word_1  word_2 word_3 product_parent\n",
       "1602   keyboard      br      /           1602\n",
       "2696          <      br      /           2696\n",
       "3140       peel                          3140\n",
       "4318          /  tablet     br           4318\n",
       "10581      cabl       /      <          10581"
      ]
     },
     "execution_count": 26,
     "metadata": {},
     "output_type": "execute_result"
    }
   ],
   "source": [
    "word_df = product_df[['word_1', 'word_2', 'word_3']]\n",
    "word_df['product_parent'] = word_df.index\n",
    "word_df.head()"
   ]
  },
  {
   "cell_type": "code",
   "execution_count": 29,
   "metadata": {},
   "outputs": [],
   "source": [
    "test_df = pd.merge(test_df, word_df, how='inner', on='product_parent')"
   ]
  },
  {
   "cell_type": "code",
   "execution_count": 43,
   "metadata": {},
   "outputs": [],
   "source": [
    "import nltk\n",
    "from nltk.corpus import wordnet as wn\n",
    "def word_sim(w1, w2):\n",
    "    if (isinstance(w1, float) or isinstance(w2, float)):\n",
    "        return 0\n",
    "    w1_synset = wn.synsets(w1)\n",
    "    w2_synset = wn.synsets(w2)\n",
    "    if (len(w1_synset) == 0 or len(w2_synset) == 0):\n",
    "        return 0\n",
    "    w1_syn = w1_synset[0]\n",
    "    w2_syn = w2_synset[0]\n",
    "    sim = w1_syn.wup_similarity(w2_syn)\n",
    "    if (sim == None):\n",
    "        return 0\n",
    "    return sim"
   ]
  },
  {
   "cell_type": "code",
   "execution_count": 47,
   "metadata": {},
   "outputs": [
    {
     "data": {
      "text/plain": [
       "0.5417113988001263"
      ]
     },
     "execution_count": 47,
     "metadata": {},
     "output_type": "execute_result"
    }
   ],
   "source": [
    "len([x for x in test_df.apply((lambda x: word_sim(x.pos_1, x.word_1)), axis=1) if x == 0]) / len(test_df)"
   ]
  },
  {
   "cell_type": "code",
   "execution_count": 36,
   "metadata": {},
   "outputs": [
    {
     "data": {
      "text/plain": [
       "0"
      ]
     },
     "execution_count": 36,
     "metadata": {},
     "output_type": "execute_result"
    }
   ],
   "source": [
    "word_sim('kindl', 'book')"
   ]
  },
  {
   "cell_type": "code",
   "execution_count": 48,
   "metadata": {},
   "outputs": [
    {
     "name": "stderr",
     "output_type": "stream",
     "text": [
      "E:\\ProgramData\\Anaconda3\\envs\\PythonGPU\\lib\\site-packages\\IPython\\core\\interactiveshell.py:3063: DtypeWarning: Columns (0,1,2,3,4,5,6,7) have mixed types.Specify dtype option on import or set low_memory=False.\n",
      "  interactivity=interactivity, compiler=compiler, result=result)\n"
     ]
    }
   ],
   "source": [
    "train_cust_df = pd.read_csv('train_cust_df.csv', index_col=0)\n",
    "test_cust_df = pd.read_csv('test_cust_df.csv', index_col=0)"
   ]
  },
  {
   "cell_type": "code",
   "execution_count": 53,
   "metadata": {},
   "outputs": [],
   "source": [
    "corpus = [w.split() for w in train_cust_df.pos_corpus if not isinstance(w, float)]\n",
    "corpus = corpus + [w.split() for w in train_cust_df.neg_corpus if not isinstance(w, float)]\n",
    "corpus = corpus + [w.split() for w in product_df.corpus if not isinstance(w, float)]"
   ]
  },
  {
   "cell_type": "code",
   "execution_count": 57,
   "metadata": {},
   "outputs": [],
   "source": [
    "import gensim \n",
    "\n",
    "# build vocabulary and train model\n",
    "model = gensim.models.Word2Vec(\n",
    "    corpus,\n",
    "    size=150,\n",
    "    window=10,\n",
    "    min_count=2,\n",
    "    workers=10,\n",
    "    iter=10)"
   ]
  },
  {
   "cell_type": "code",
   "execution_count": 63,
   "metadata": {},
   "outputs": [
    {
     "data": {
      "text/plain": [
       "[('horribl', 0.7745047211647034),\n",
       " ('aw', 0.658147394657135),\n",
       " ('bad', 0.6169096231460571),\n",
       " ('crappi', 0.6089656352996826),\n",
       " ('worst', 0.5955891013145447),\n",
       " ('suck', 0.5561203956604004)]"
      ]
     },
     "execution_count": 63,
     "metadata": {},
     "output_type": "execute_result"
    }
   ],
   "source": [
    "model.wv.most_similar(positive='terribl', topn=6)"
   ]
  },
  {
   "cell_type": "code",
   "execution_count": 67,
   "metadata": {},
   "outputs": [],
   "source": [
    "def word_vec_sim(w1, w2):\n",
    "    if (isinstance(w1, float) or isinstance(w2, float)):\n",
    "        return 0\n",
    "    if (w1 not in model.wv.vocab or w2 not in model.wv.vocab):\n",
    "        return 0\n",
    "    sim = model.wv.similarity(w1=w1, w2=w2)\n",
    "    if (sim == None):\n",
    "        return 0\n",
    "    return sim"
   ]
  },
  {
   "cell_type": "code",
   "execution_count": 73,
   "metadata": {},
   "outputs": [
    {
     "data": {
      "text/plain": [
       "4   -0.083963\n",
       "dtype: float64"
      ]
     },
     "execution_count": 73,
     "metadata": {},
     "output_type": "execute_result"
    }
   ],
   "source": [
    "test_df[4:5].apply((lambda x: word_vec_sim(x.pos_1, x.word_1)), axis=1)"
   ]
  },
  {
   "cell_type": "code",
   "execution_count": 76,
   "metadata": {},
   "outputs": [
    {
     "data": {
      "text/plain": [
       "4    cover\n",
       "Name: word_1, dtype: object"
      ]
     },
     "execution_count": 76,
     "metadata": {},
     "output_type": "execute_result"
    }
   ],
   "source": [
    "test_df[4:5].word_1"
   ]
  },
  {
   "cell_type": "code",
   "execution_count": 77,
   "metadata": {},
   "outputs": [
    {
     "data": {
      "text/plain": [
       "-0.083962604"
      ]
     },
     "execution_count": 77,
     "metadata": {},
     "output_type": "execute_result"
    }
   ],
   "source": [
    "model.wv.similarity(w1='game', w2='cover')"
   ]
  },
  {
   "cell_type": "code",
   "execution_count": null,
   "metadata": {},
   "outputs": [],
   "source": []
  }
 ],
 "metadata": {
  "kernelspec": {
   "display_name": "Python 3",
   "language": "python",
   "name": "python3"
  },
  "language_info": {
   "codemirror_mode": {
    "name": "ipython",
    "version": 3
   },
   "file_extension": ".py",
   "mimetype": "text/x-python",
   "name": "python",
   "nbconvert_exporter": "python",
   "pygments_lexer": "ipython3",
   "version": "3.7.6"
  }
 },
 "nbformat": 4,
 "nbformat_minor": 2
}
