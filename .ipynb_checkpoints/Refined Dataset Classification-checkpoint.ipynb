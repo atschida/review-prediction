{
 "cells": [
  {
   "cell_type": "code",
   "execution_count": 1,
   "metadata": {},
   "outputs": [],
   "source": [
    "import pandas as pd\n",
    "from sklearn.ensemble import RandomForestClassifier\n",
    "from sklearn.ensemble import RandomForestRegressor"
   ]
  },
  {
   "cell_type": "code",
   "execution_count": 2,
   "metadata": {},
   "outputs": [
    {
     "data": {
      "text/html": [
       "<div>\n",
       "<style scoped>\n",
       "    .dataframe tbody tr th:only-of-type {\n",
       "        vertical-align: middle;\n",
       "    }\n",
       "\n",
       "    .dataframe tbody tr th {\n",
       "        vertical-align: top;\n",
       "    }\n",
       "\n",
       "    .dataframe thead th {\n",
       "        text-align: right;\n",
       "    }\n",
       "</style>\n",
       "<table border=\"1\" class=\"dataframe\">\n",
       "  <thead>\n",
       "    <tr style=\"text-align: right;\">\n",
       "      <th></th>\n",
       "      <th>customer_id</th>\n",
       "      <th>product_parent</th>\n",
       "      <th>positive</th>\n",
       "      <th>cust_review_count</th>\n",
       "      <th>cust_star_rating_mean</th>\n",
       "      <th>cust_star_rating_std</th>\n",
       "      <th>prod_review_count</th>\n",
       "      <th>prod_star_rating_mean</th>\n",
       "      <th>prod_star_rating_std</th>\n",
       "      <th>pos_sim</th>\n",
       "      <th>neg_sim</th>\n",
       "      <th>avg_pos_word</th>\n",
       "      <th>avg_neg_word</th>\n",
       "    </tr>\n",
       "  </thead>\n",
       "  <tbody>\n",
       "    <tr>\n",
       "      <th>0</th>\n",
       "      <td>1617361</td>\n",
       "      <td>849246716</td>\n",
       "      <td>1</td>\n",
       "      <td>5</td>\n",
       "      <td>5.000000</td>\n",
       "      <td>0.000000</td>\n",
       "      <td>297</td>\n",
       "      <td>4.872054</td>\n",
       "      <td>0.363625</td>\n",
       "      <td>0.033451</td>\n",
       "      <td>0.000000</td>\n",
       "      <td>0.308559</td>\n",
       "      <td>0.000000</td>\n",
       "    </tr>\n",
       "    <tr>\n",
       "      <th>1</th>\n",
       "      <td>53052607</td>\n",
       "      <td>849246716</td>\n",
       "      <td>0</td>\n",
       "      <td>5</td>\n",
       "      <td>3.600000</td>\n",
       "      <td>0.547723</td>\n",
       "      <td>297</td>\n",
       "      <td>4.872054</td>\n",
       "      <td>0.363625</td>\n",
       "      <td>0.012478</td>\n",
       "      <td>0.009009</td>\n",
       "      <td>0.096724</td>\n",
       "      <td>0.169741</td>\n",
       "    </tr>\n",
       "    <tr>\n",
       "      <th>2</th>\n",
       "      <td>15679577</td>\n",
       "      <td>849246716</td>\n",
       "      <td>1</td>\n",
       "      <td>8</td>\n",
       "      <td>3.375000</td>\n",
       "      <td>1.505941</td>\n",
       "      <td>297</td>\n",
       "      <td>4.872054</td>\n",
       "      <td>0.363625</td>\n",
       "      <td>0.007220</td>\n",
       "      <td>0.033333</td>\n",
       "      <td>0.067060</td>\n",
       "      <td>0.093065</td>\n",
       "    </tr>\n",
       "    <tr>\n",
       "      <th>3</th>\n",
       "      <td>16367779</td>\n",
       "      <td>849246716</td>\n",
       "      <td>1</td>\n",
       "      <td>9</td>\n",
       "      <td>4.444444</td>\n",
       "      <td>0.527046</td>\n",
       "      <td>297</td>\n",
       "      <td>4.872054</td>\n",
       "      <td>0.363625</td>\n",
       "      <td>0.095238</td>\n",
       "      <td>0.000000</td>\n",
       "      <td>-0.077627</td>\n",
       "      <td>0.000000</td>\n",
       "    </tr>\n",
       "    <tr>\n",
       "      <th>4</th>\n",
       "      <td>25485198</td>\n",
       "      <td>849246716</td>\n",
       "      <td>1</td>\n",
       "      <td>17</td>\n",
       "      <td>5.000000</td>\n",
       "      <td>0.000000</td>\n",
       "      <td>297</td>\n",
       "      <td>4.872054</td>\n",
       "      <td>0.363625</td>\n",
       "      <td>0.010870</td>\n",
       "      <td>0.000000</td>\n",
       "      <td>0.368011</td>\n",
       "      <td>0.000000</td>\n",
       "    </tr>\n",
       "  </tbody>\n",
       "</table>\n",
       "</div>"
      ],
      "text/plain": [
       "   customer_id  product_parent  positive  cust_review_count  \\\n",
       "0      1617361       849246716         1                  5   \n",
       "1     53052607       849246716         0                  5   \n",
       "2     15679577       849246716         1                  8   \n",
       "3     16367779       849246716         1                  9   \n",
       "4     25485198       849246716         1                 17   \n",
       "\n",
       "   cust_star_rating_mean  cust_star_rating_std  prod_review_count  \\\n",
       "0               5.000000              0.000000                297   \n",
       "1               3.600000              0.547723                297   \n",
       "2               3.375000              1.505941                297   \n",
       "3               4.444444              0.527046                297   \n",
       "4               5.000000              0.000000                297   \n",
       "\n",
       "   prod_star_rating_mean  prod_star_rating_std   pos_sim   neg_sim  \\\n",
       "0               4.872054              0.363625  0.033451  0.000000   \n",
       "1               4.872054              0.363625  0.012478  0.009009   \n",
       "2               4.872054              0.363625  0.007220  0.033333   \n",
       "3               4.872054              0.363625  0.095238  0.000000   \n",
       "4               4.872054              0.363625  0.010870  0.000000   \n",
       "\n",
       "   avg_pos_word  avg_neg_word  \n",
       "0      0.308559      0.000000  \n",
       "1      0.096724      0.169741  \n",
       "2      0.067060      0.093065  \n",
       "3     -0.077627      0.000000  \n",
       "4      0.368011      0.000000  "
      ]
     },
     "execution_count": 2,
     "metadata": {},
     "output_type": "execute_result"
    }
   ],
   "source": [
    "train_df = pd.read_csv('train_df2.csv', index_col=0)\n",
    "train_df.drop(['star_rating', 'pos_corpus', 'neg_corpus', 'pos_1', 'pos_2', 'pos_3', \n",
    "               'neg_1', 'neg_2', 'neg_3', 'prod_corpus', 'word_1', 'word_2', 'word_3'], axis=1, inplace=True)\n",
    "train_df.drop(['cust_total_votes_mean', 'cust_total_votes_std', 'cust_helpful_votes_mean', 'cust_helpful_votes_std', \n",
    "               'prod_total_votes_mean', 'prod_total_votes_std', 'prod_helpful_votes_mean', 'prod_helpful_votes_std'], \n",
    "              axis=1, inplace=True)\n",
    "\n",
    "train_df['avg_pos_word'] = train_df.apply((lambda x: (x.pos_1_word_1 + x.pos_1_word_2 + x.pos_1_word_3 +\n",
    "                                                      x.pos_2_word_1 + x.pos_2_word_2 + x.pos_2_word_3 +\n",
    "                                                      x.pos_3_word_1 + x.pos_3_word_2 + x.pos_3_word_3) / 9), axis=1)\n",
    "train_df['avg_neg_word'] = train_df.apply((lambda x: (x.neg_1_word_1 + x.neg_1_word_2 + x.neg_1_word_3 +\n",
    "                                                      x.neg_2_word_1 + x.neg_2_word_2 + x.neg_2_word_3 +\n",
    "                                                      x.neg_3_word_1 + x.neg_3_word_2 + x.neg_3_word_3) / 9), axis=1)\n",
    "train_df.drop(['pos_1_word_1', 'pos_1_word_2', 'pos_1_word_3', 'pos_2_word_1',\n",
    "               'pos_2_word_2', 'pos_2_word_3', 'pos_3_word_1', 'pos_3_word_2',\n",
    "               'pos_3_word_3', 'neg_1_word_1', 'neg_1_word_2', 'neg_1_word_3',\n",
    "               'neg_2_word_1', 'neg_2_word_2', 'neg_2_word_3', 'neg_3_word_1',\n",
    "               'neg_3_word_2', 'neg_3_word_3'], axis=1, inplace=True)\n",
    "\n",
    "train_df.head()"
   ]
  },
  {
   "cell_type": "code",
   "execution_count": 3,
   "metadata": {},
   "outputs": [
    {
     "data": {
      "text/plain": [
       "Index(['customer_id', 'product_parent', 'positive', 'cust_review_count',\n",
       "       'cust_star_rating_mean', 'cust_star_rating_std', 'prod_review_count',\n",
       "       'prod_star_rating_mean', 'prod_star_rating_std', 'pos_sim', 'neg_sim',\n",
       "       'avg_pos_word', 'avg_neg_word'],\n",
       "      dtype='object')"
      ]
     },
     "execution_count": 3,
     "metadata": {},
     "output_type": "execute_result"
    }
   ],
   "source": [
    "train_df.columns"
   ]
  },
  {
   "cell_type": "code",
   "execution_count": 4,
   "metadata": {},
   "outputs": [
    {
     "data": {
      "text/plain": [
       "positive\n",
       "0     9531\n",
       "1    38191\n",
       "dtype: int64"
      ]
     },
     "execution_count": 4,
     "metadata": {},
     "output_type": "execute_result"
    }
   ],
   "source": [
    "train_df.groupby('positive').size()"
   ]
  },
  {
   "cell_type": "code",
   "execution_count": 5,
   "metadata": {},
   "outputs": [],
   "source": [
    "temp = train_df[train_df.positive == 0]\n",
    "temp = pd.concat([temp, train_df[train_df.positive == 1][:14296]]) #9531\n",
    "train_df = temp"
   ]
  },
  {
   "cell_type": "code",
   "execution_count": 6,
   "metadata": {},
   "outputs": [
    {
     "data": {
      "text/plain": [
       "positive\n",
       "0    0.400008\n",
       "1    0.599992\n",
       "dtype: float64"
      ]
     },
     "execution_count": 6,
     "metadata": {},
     "output_type": "execute_result"
    }
   ],
   "source": [
    "train_df.groupby('positive').size() / len(train_df)"
   ]
  },
  {
   "cell_type": "code",
   "execution_count": 7,
   "metadata": {},
   "outputs": [
    {
     "data": {
      "text/plain": [
       "0.5999916061610777"
      ]
     },
     "execution_count": 7,
     "metadata": {},
     "output_type": "execute_result"
    }
   ],
   "source": [
    "len(train_df[train_df.positive == 1]) / len(train_df)"
   ]
  },
  {
   "cell_type": "code",
   "execution_count": 8,
   "metadata": {},
   "outputs": [
    {
     "data": {
      "text/html": [
       "<div>\n",
       "<style scoped>\n",
       "    .dataframe tbody tr th:only-of-type {\n",
       "        vertical-align: middle;\n",
       "    }\n",
       "\n",
       "    .dataframe tbody tr th {\n",
       "        vertical-align: top;\n",
       "    }\n",
       "\n",
       "    .dataframe thead th {\n",
       "        text-align: right;\n",
       "    }\n",
       "</style>\n",
       "<table border=\"1\" class=\"dataframe\">\n",
       "  <thead>\n",
       "    <tr style=\"text-align: right;\">\n",
       "      <th></th>\n",
       "      <th>customer_id</th>\n",
       "      <th>product_parent</th>\n",
       "      <th>positive</th>\n",
       "      <th>cust_review_count</th>\n",
       "      <th>cust_star_rating_mean</th>\n",
       "      <th>cust_star_rating_std</th>\n",
       "      <th>prod_review_count</th>\n",
       "      <th>prod_star_rating_mean</th>\n",
       "      <th>prod_star_rating_std</th>\n",
       "      <th>pos_sim</th>\n",
       "      <th>neg_sim</th>\n",
       "      <th>avg_pos_word</th>\n",
       "      <th>avg_neg_word</th>\n",
       "    </tr>\n",
       "  </thead>\n",
       "  <tbody>\n",
       "    <tr>\n",
       "      <th>0</th>\n",
       "      <td>36330222</td>\n",
       "      <td>986428010</td>\n",
       "      <td>1</td>\n",
       "      <td>24</td>\n",
       "      <td>4.291667</td>\n",
       "      <td>1.267629</td>\n",
       "      <td>18</td>\n",
       "      <td>4.333333</td>\n",
       "      <td>1.188177</td>\n",
       "      <td>0.070423</td>\n",
       "      <td>0.012295</td>\n",
       "      <td>-0.031375</td>\n",
       "      <td>-0.011993</td>\n",
       "    </tr>\n",
       "    <tr>\n",
       "      <th>1</th>\n",
       "      <td>24360083</td>\n",
       "      <td>986428010</td>\n",
       "      <td>1</td>\n",
       "      <td>23</td>\n",
       "      <td>4.347826</td>\n",
       "      <td>1.191206</td>\n",
       "      <td>18</td>\n",
       "      <td>4.333333</td>\n",
       "      <td>1.188177</td>\n",
       "      <td>0.095361</td>\n",
       "      <td>0.049808</td>\n",
       "      <td>0.933571</td>\n",
       "      <td>0.547893</td>\n",
       "    </tr>\n",
       "    <tr>\n",
       "      <th>2</th>\n",
       "      <td>28891040</td>\n",
       "      <td>437083384</td>\n",
       "      <td>1</td>\n",
       "      <td>10</td>\n",
       "      <td>4.500000</td>\n",
       "      <td>0.707107</td>\n",
       "      <td>407</td>\n",
       "      <td>4.503686</td>\n",
       "      <td>0.887439</td>\n",
       "      <td>0.006944</td>\n",
       "      <td>0.005208</td>\n",
       "      <td>0.172577</td>\n",
       "      <td>0.136230</td>\n",
       "    </tr>\n",
       "    <tr>\n",
       "      <th>3</th>\n",
       "      <td>52449052</td>\n",
       "      <td>437083384</td>\n",
       "      <td>0</td>\n",
       "      <td>5</td>\n",
       "      <td>3.400000</td>\n",
       "      <td>1.516575</td>\n",
       "      <td>407</td>\n",
       "      <td>4.503686</td>\n",
       "      <td>0.887439</td>\n",
       "      <td>0.010390</td>\n",
       "      <td>0.059514</td>\n",
       "      <td>0.250885</td>\n",
       "      <td>0.003912</td>\n",
       "    </tr>\n",
       "    <tr>\n",
       "      <th>4</th>\n",
       "      <td>27192976</td>\n",
       "      <td>437083384</td>\n",
       "      <td>1</td>\n",
       "      <td>6</td>\n",
       "      <td>4.666667</td>\n",
       "      <td>0.816497</td>\n",
       "      <td>407</td>\n",
       "      <td>4.503686</td>\n",
       "      <td>0.887439</td>\n",
       "      <td>0.012942</td>\n",
       "      <td>0.003460</td>\n",
       "      <td>0.039631</td>\n",
       "      <td>-0.029838</td>\n",
       "    </tr>\n",
       "  </tbody>\n",
       "</table>\n",
       "</div>"
      ],
      "text/plain": [
       "   customer_id  product_parent  positive  cust_review_count  \\\n",
       "0     36330222       986428010         1                 24   \n",
       "1     24360083       986428010         1                 23   \n",
       "2     28891040       437083384         1                 10   \n",
       "3     52449052       437083384         0                  5   \n",
       "4     27192976       437083384         1                  6   \n",
       "\n",
       "   cust_star_rating_mean  cust_star_rating_std  prod_review_count  \\\n",
       "0               4.291667              1.267629                 18   \n",
       "1               4.347826              1.191206                 18   \n",
       "2               4.500000              0.707107                407   \n",
       "3               3.400000              1.516575                407   \n",
       "4               4.666667              0.816497                407   \n",
       "\n",
       "   prod_star_rating_mean  prod_star_rating_std   pos_sim   neg_sim  \\\n",
       "0               4.333333              1.188177  0.070423  0.012295   \n",
       "1               4.333333              1.188177  0.095361  0.049808   \n",
       "2               4.503686              0.887439  0.006944  0.005208   \n",
       "3               4.503686              0.887439  0.010390  0.059514   \n",
       "4               4.503686              0.887439  0.012942  0.003460   \n",
       "\n",
       "   avg_pos_word  avg_neg_word  \n",
       "0     -0.031375     -0.011993  \n",
       "1      0.933571      0.547893  \n",
       "2      0.172577      0.136230  \n",
       "3      0.250885      0.003912  \n",
       "4      0.039631     -0.029838  "
      ]
     },
     "execution_count": 8,
     "metadata": {},
     "output_type": "execute_result"
    }
   ],
   "source": [
    "test_df = pd.read_csv('test_df2.csv', index_col=0)\n",
    "test_df.drop(['star_rating', 'pos_corpus', 'neg_corpus', 'pos_1', 'pos_2', 'pos_3', \n",
    "               'neg_1', 'neg_2', 'neg_3', 'prod_corpus', 'word_1', 'word_2', 'word_3'], axis=1, inplace=True)\n",
    "test_df.drop(['cust_total_votes_mean', 'cust_total_votes_std', 'cust_helpful_votes_mean', 'cust_helpful_votes_std', \n",
    "               'prod_total_votes_mean', 'prod_total_votes_std', 'prod_helpful_votes_mean', 'prod_helpful_votes_std'], \n",
    "              axis=1, inplace=True)\n",
    "\n",
    "test_df['avg_pos_word'] = test_df.apply((lambda x: (x.pos_1_word_1 + x.pos_1_word_2 + x.pos_1_word_3 +\n",
    "                                                      x.pos_2_word_1 + x.pos_2_word_2 + x.pos_2_word_3 +\n",
    "                                                      x.pos_3_word_1 + x.pos_3_word_2 + x.pos_3_word_3) / 9), axis=1)\n",
    "test_df['avg_neg_word'] = test_df.apply((lambda x: (x.neg_1_word_1 + x.neg_1_word_2 + x.neg_1_word_3 +\n",
    "                                                      x.neg_2_word_1 + x.neg_2_word_2 + x.neg_2_word_3 +\n",
    "                                                      x.neg_3_word_1 + x.neg_3_word_2 + x.neg_3_word_3) / 9), axis=1)\n",
    "test_df.drop(['pos_1_word_1', 'pos_1_word_2', 'pos_1_word_3', 'pos_2_word_1',\n",
    "               'pos_2_word_2', 'pos_2_word_3', 'pos_3_word_1', 'pos_3_word_2',\n",
    "               'pos_3_word_3', 'neg_1_word_1', 'neg_1_word_2', 'neg_1_word_3',\n",
    "               'neg_2_word_1', 'neg_2_word_2', 'neg_2_word_3', 'neg_3_word_1',\n",
    "               'neg_3_word_2', 'neg_3_word_3'], axis=1, inplace=True)\n",
    "test_df.head()"
   ]
  },
  {
   "cell_type": "code",
   "execution_count": 9,
   "metadata": {},
   "outputs": [
    {
     "data": {
      "text/plain": [
       "positive\n",
       "0     3573\n",
       "1    12262\n",
       "dtype: int64"
      ]
     },
     "execution_count": 9,
     "metadata": {},
     "output_type": "execute_result"
    }
   ],
   "source": [
    "test_df.groupby('positive').size()"
   ]
  },
  {
   "cell_type": "code",
   "execution_count": 10,
   "metadata": {},
   "outputs": [],
   "source": [
    "test_df_og = test_df.copy()\n",
    "temp = test_df[test_df.positive == 0]\n",
    "temp = pd.concat([temp, test_df[test_df.positive == 1][:5359]]) # 3573\n",
    "test_df = temp"
   ]
  },
  {
   "cell_type": "code",
   "execution_count": 11,
   "metadata": {},
   "outputs": [
    {
     "data": {
      "text/plain": [
       "0.5999776085982983"
      ]
     },
     "execution_count": 11,
     "metadata": {},
     "output_type": "execute_result"
    }
   ],
   "source": [
    "len(test_df[test_df.positive == 1]) / len(test_df)"
   ]
  },
  {
   "cell_type": "code",
   "execution_count": 12,
   "metadata": {},
   "outputs": [],
   "source": [
    "train_x, train_y = train_df.drop('positive', axis=1), train_df['positive']\n",
    "test_x, test_y = test_df.drop('positive', axis=1), test_df['positive']"
   ]
  },
  {
   "cell_type": "code",
   "execution_count": 13,
   "metadata": {},
   "outputs": [
    {
     "data": {
      "text/html": [
       "<div>\n",
       "<style scoped>\n",
       "    .dataframe tbody tr th:only-of-type {\n",
       "        vertical-align: middle;\n",
       "    }\n",
       "\n",
       "    .dataframe tbody tr th {\n",
       "        vertical-align: top;\n",
       "    }\n",
       "\n",
       "    .dataframe thead th {\n",
       "        text-align: right;\n",
       "    }\n",
       "</style>\n",
       "<table border=\"1\" class=\"dataframe\">\n",
       "  <thead>\n",
       "    <tr style=\"text-align: right;\">\n",
       "      <th></th>\n",
       "      <th>customer_id</th>\n",
       "      <th>product_parent</th>\n",
       "      <th>positive</th>\n",
       "      <th>cust_review_count</th>\n",
       "      <th>cust_star_rating_mean</th>\n",
       "      <th>cust_star_rating_std</th>\n",
       "      <th>prod_review_count</th>\n",
       "      <th>prod_star_rating_mean</th>\n",
       "      <th>prod_star_rating_std</th>\n",
       "      <th>pos_sim</th>\n",
       "      <th>neg_sim</th>\n",
       "      <th>avg_pos_word</th>\n",
       "      <th>avg_neg_word</th>\n",
       "    </tr>\n",
       "  </thead>\n",
       "  <tbody>\n",
       "  </tbody>\n",
       "</table>\n",
       "</div>"
      ],
      "text/plain": [
       "Empty DataFrame\n",
       "Columns: [customer_id, product_parent, positive, cust_review_count, cust_star_rating_mean, cust_star_rating_std, prod_review_count, prod_star_rating_mean, prod_star_rating_std, pos_sim, neg_sim, avg_pos_word, avg_neg_word]\n",
       "Index: []"
      ]
     },
     "execution_count": 13,
     "metadata": {},
     "output_type": "execute_result"
    }
   ],
   "source": [
    "is_NaN = train_df.isnull()\n",
    "row_has_NaN = is_NaN.any(axis=1)\n",
    "train_df[row_has_NaN]"
   ]
  },
  {
   "cell_type": "code",
   "execution_count": 14,
   "metadata": {},
   "outputs": [],
   "source": [
    "def evaluate(m, x, test):\n",
    "    correct = 0\n",
    "    pos_count = 0\n",
    "    star_cor = 0\n",
    "    matrix = [0, 0, 0, 0]\n",
    "    preds = m.predict(x)\n",
    "    for i in range(len(test)):\n",
    "        if (preds[i] > 0.5):\n",
    "            pos_count += 1\n",
    "        if (preds[i] == test.iloc[i]):\n",
    "            star_cor += 1\n",
    "        if (preds[i] > 0.5 and test.iloc[i] > 0.5):\n",
    "            correct += 1\n",
    "            matrix[0] += 1\n",
    "        elif (preds[i] <= 0.5 and test.iloc[i] <= 0.5):\n",
    "            correct += 1\n",
    "            matrix[1] += 1\n",
    "        elif (preds[i] > 0.5 and test.iloc[i] <= 0.5):\n",
    "            matrix[2] += 1\n",
    "        elif (preds[i] <= 0.5 and test.iloc[i] > 0.5):\n",
    "            matrix[3] += 1\n",
    "\n",
    "    print('Correct:', correct, correct / len(test_df))\n",
    "    print('Pos:', pos_count, pos_count / len(test_df))\n",
    "    print('Star Correct:', star_cor, star_cor / len(test_df))\n",
    "    print('True Positive:', matrix[0], matrix[0] / len(test_df))\n",
    "    print('True Negative:', matrix[1], matrix[1] / len(test_df))\n",
    "    print('False Positive:', matrix[2], matrix[2] / len(test_df))\n",
    "    print('False Negative:', matrix[3], matrix[3] / len(test_df))"
   ]
  },
  {
   "cell_type": "code",
   "execution_count": 15,
   "metadata": {},
   "outputs": [
    {
     "data": {
      "image/png": "[encoded data removed]",
      "text/plain": [
       "<Figure size 864x720 with 2 Axes>"
      ]
     },
     "metadata": {
      "needs_background": "light"
     },
     "output_type": "display_data"
    }
   ],
   "source": [
    "import matplotlib.pyplot as plt\n",
    "import seaborn as sns\n",
    "\n",
    "#Using Pearson Correlation\n",
    "plt.figure(figsize=(12,10))\n",
    "cor = train_df.corr()\n",
    "sns.heatmap(cor, annot=True, cmap=plt.cm.Blues)\n",
    "plt.show()"
   ]
  },
  {
   "cell_type": "code",
   "execution_count": 16,
   "metadata": {},
   "outputs": [],
   "source": [
    "drop_cols = ['customer_id', 'product_parent', 'cust_review_count', 'prod_review_count', \n",
    "             'cust_star_rating_std', 'prod_star_rating_std']\n",
    "             #'neg_1_word_1', 'neg_1_word_2', 'neg_1_word_3',\n",
    "             #'neg_2_word_1', 'neg_2_word_2', 'neg_2_word_3', \n",
    "             #'neg_3_word_1', 'neg_3_word_2', 'neg_3_word_3']"
   ]
  },
  {
   "cell_type": "code",
   "execution_count": 17,
   "metadata": {},
   "outputs": [
    {
     "data": {
      "text/plain": [
       "GradientBoostingClassifier(ccp_alpha=0.0, criterion='friedman_mse', init=None,\n",
       "                           learning_rate=0.1, loss='deviance', max_depth=3,\n",
       "                           max_features=None, max_leaf_nodes=None,\n",
       "                           min_impurity_decrease=0.0, min_impurity_split=None,\n",
       "                           min_samples_leaf=1, min_samples_split=2,\n",
       "                           min_weight_fraction_leaf=0.0, n_estimators=100,\n",
       "                           n_iter_no_change=None, presort='deprecated',\n",
       "                           random_state=None, subsample=1.0, tol=0.0001,\n",
       "                           validation_fraction=0.1, verbose=0,\n",
       "                           warm_start=False)"
      ]
     },
     "execution_count": 17,
     "metadata": {},
     "output_type": "execute_result"
    }
   ],
   "source": [
    "from sklearn.ensemble import GradientBoostingClassifier\n",
    "gb = GradientBoostingClassifier()\n",
    "gb.fit(train_x.drop(drop_cols, axis=1), train_y)"
   ]
  },
  {
   "cell_type": "code",
   "execution_count": 18,
   "metadata": {},
   "outputs": [
    {
     "data": {
      "text/plain": [
       "0.7149574563367667"
      ]
     },
     "execution_count": 18,
     "metadata": {},
     "output_type": "execute_result"
    }
   ],
   "source": [
    "gb.score(test_x.drop(drop_cols, axis=1), test_y)"
   ]
  },
  {
   "cell_type": "code",
   "execution_count": 19,
   "metadata": {},
   "outputs": [
    {
     "name": "stdout",
     "output_type": "stream",
     "text": [
      "Correct: 6386 0.7149574563367667\n",
      "Pos: 4577 0.5124272279444694\n",
      "Star Correct: 6386 0.7149574563367667\n",
      "True Positive: 3695 0.4136811464397671\n",
      "True Negative: 2691 0.30127630989699955\n",
      "False Positive: 882 0.0987460815047022\n",
      "False Negative: 1664 0.18629646215853113\n"
     ]
    }
   ],
   "source": [
    "evaluate(gb, test_x.drop(drop_cols, axis=1), test_y)"
   ]
  },
  {
   "cell_type": "code",
   "execution_count": 20,
   "metadata": {},
   "outputs": [
    {
     "data": {
      "text/plain": [
       "RandomForestClassifier(bootstrap=True, ccp_alpha=0.0, class_weight=None,\n",
       "                       criterion='entropy', max_depth=None, max_features='auto',\n",
       "                       max_leaf_nodes=None, max_samples=None,\n",
       "                       min_impurity_decrease=0.0, min_impurity_split=None,\n",
       "                       min_samples_leaf=1, min_samples_split=2,\n",
       "                       min_weight_fraction_leaf=0.0, n_estimators=1000,\n",
       "                       n_jobs=-1, oob_score=False, random_state=None, verbose=0,\n",
       "                       warm_start=False)"
      ]
     },
     "execution_count": 20,
     "metadata": {},
     "output_type": "execute_result"
    }
   ],
   "source": [
    "rf = RandomForestClassifier(n_estimators=1000, criterion='entropy', n_jobs=-1)\n",
    "rf.fit(train_x.drop(drop_cols, axis=1), train_y)"
   ]
  },
  {
   "cell_type": "code",
   "execution_count": 21,
   "metadata": {},
   "outputs": [
    {
     "data": {
      "text/plain": [
       "0.7072324227496641"
      ]
     },
     "execution_count": 21,
     "metadata": {},
     "output_type": "execute_result"
    }
   ],
   "source": [
    "rf.score(test_x.drop(drop_cols, axis=1), test_y)"
   ]
  },
  {
   "cell_type": "code",
   "execution_count": 22,
   "metadata": {},
   "outputs": [
    {
     "name": "stdout",
     "output_type": "stream",
     "text": [
      "Correct: 6317 0.7072324227496641\n",
      "Pos: 4528 0.5069413345275414\n",
      "Star Correct: 6317 0.7072324227496641\n",
      "True Positive: 3636 0.4070756829377519\n",
      "True Negative: 2681 0.3001567398119122\n",
      "False Positive: 892 0.09986565158978952\n",
      "False Negative: 1723 0.19290192566054634\n"
     ]
    }
   ],
   "source": [
    "evaluate(rf, test_x.drop(drop_cols, axis=1), test_y)"
   ]
  },
  {
   "cell_type": "code",
   "execution_count": 23,
   "metadata": {},
   "outputs": [
    {
     "data": {
      "text/plain": [
       "<BarContainer object of 6 artists>"
      ]
     },
     "execution_count": 23,
     "metadata": {},
     "output_type": "execute_result"
    },
    {
     "data": {
      "image/png": "[encoded data removed]",
      "text/plain": [
       "<Figure size 432x288 with 1 Axes>"
      ]
     },
     "metadata": {
      "needs_background": "light"
     },
     "output_type": "display_data"
    }
   ],
   "source": [
    "imp_tuples = sorted(zip(map(lambda x: round(x, 4), rf.feature_importances_), \n",
    "                 train_x.drop(drop_cols, axis=1).columns), reverse=False)\n",
    "imp = [t[0] for t in imp_tuples]\n",
    "labl = [t[1] for t in imp_tuples]\n",
    "plt.barh(labl, imp, linewidth=5)"
   ]
  },
  {
   "cell_type": "code",
   "execution_count": 24,
   "metadata": {},
   "outputs": [
    {
     "data": {
      "text/plain": [
       "RandomForestRegressor(bootstrap=True, ccp_alpha=0.0, criterion='mse',\n",
       "                      max_depth=None, max_features='auto', max_leaf_nodes=None,\n",
       "                      max_samples=None, min_impurity_decrease=0.0,\n",
       "                      min_impurity_split=None, min_samples_leaf=1,\n",
       "                      min_samples_split=2, min_weight_fraction_leaf=0.0,\n",
       "                      n_estimators=1000, n_jobs=-1, oob_score=False,\n",
       "                      random_state=None, verbose=0, warm_start=False)"
      ]
     },
     "execution_count": 24,
     "metadata": {},
     "output_type": "execute_result"
    }
   ],
   "source": [
    "rf2 = RandomForestRegressor(n_estimators=1000, n_jobs=-1)\n",
    "rf2.fit(train_x.drop(drop_cols, axis=1), train_y)"
   ]
  },
  {
   "cell_type": "code",
   "execution_count": 25,
   "metadata": {},
   "outputs": [
    {
     "data": {
      "text/plain": [
       "0.15894520179553218"
      ]
     },
     "execution_count": 25,
     "metadata": {},
     "output_type": "execute_result"
    }
   ],
   "source": [
    "rf2.score(test_x.drop(drop_cols, axis=1), test_y)"
   ]
  },
  {
   "cell_type": "code",
   "execution_count": 26,
   "metadata": {},
   "outputs": [
    {
     "name": "stdout",
     "output_type": "stream",
     "text": [
      "Correct: 6226 0.6970443349753694\n",
      "Pos: 4455 0.4987684729064039\n",
      "Star Correct: 39 0.004366323331840573\n",
      "True Positive: 3554 0.3978952082400358\n",
      "True Negative: 2672 0.2991491267353336\n",
      "False Positive: 901 0.10087326466636812\n",
      "False Negative: 1805 0.20208240035826242\n"
     ]
    }
   ],
   "source": [
    "evaluate(rf2, test_x.drop(drop_cols, axis=1), test_y)"
   ]
  },
  {
   "cell_type": "code",
   "execution_count": 27,
   "metadata": {},
   "outputs": [
    {
     "data": {
      "text/plain": [
       "<BarContainer object of 6 artists>"
      ]
     },
     "execution_count": 27,
     "metadata": {},
     "output_type": "execute_result"
    },
    {
     "data": {
      "image/png": "[encoded data removed]",
      "text/plain": [
       "<Figure size 432x288 with 1 Axes>"
      ]
     },
     "metadata": {
      "needs_background": "light"
     },
     "output_type": "display_data"
    }
   ],
   "source": [
    "imp_tuples = sorted(zip(map(lambda x: round(x, 4), rf2.feature_importances_), \n",
    "                 train_x.drop(drop_cols, axis=1).columns), reverse=False)\n",
    "imp = [t[0] for t in imp_tuples]\n",
    "labl = [t[1] for t in imp_tuples]\n",
    "plt.barh(labl, imp, linewidth=5)"
   ]
  },
  {
   "cell_type": "code",
   "execution_count": 28,
   "metadata": {},
   "outputs": [
    {
     "data": {
      "text/plain": [
       "KNeighborsClassifier(algorithm='auto', leaf_size=30, metric='minkowski',\n",
       "                     metric_params=None, n_jobs=None, n_neighbors=1, p=2,\n",
       "                     weights='distance')"
      ]
     },
     "execution_count": 28,
     "metadata": {},
     "output_type": "execute_result"
    }
   ],
   "source": [
    "from sklearn.neighbors import KNeighborsClassifier\n",
    "knn = KNeighborsClassifier(n_neighbors=1, weights='distance')\n",
    "knn.fit(train_x.drop(drop_cols, axis=1), train_y)"
   ]
  },
  {
   "cell_type": "code",
   "execution_count": 29,
   "metadata": {},
   "outputs": [
    {
     "data": {
      "text/plain": [
       "0.625615763546798"
      ]
     },
     "execution_count": 29,
     "metadata": {},
     "output_type": "execute_result"
    }
   ],
   "source": [
    "knn.score(test_x.drop(drop_cols, axis=1), test_y)"
   ]
  },
  {
   "cell_type": "code",
   "execution_count": 30,
   "metadata": {},
   "outputs": [
    {
     "name": "stdout",
     "output_type": "stream",
     "text": [
      "Correct: 5588 0.625615763546798\n",
      "Pos: 4577 0.5124272279444694\n",
      "Star Correct: 5588 0.625615763546798\n",
      "True Positive: 3296 0.3690103000447828\n",
      "True Negative: 2292 0.25660546350201524\n",
      "False Positive: 1281 0.14341692789968652\n",
      "False Negative: 2063 0.23096730855351544\n"
     ]
    }
   ],
   "source": [
    "evaluate(knn, test_x.drop(drop_cols, axis=1), test_y)"
   ]
  },
  {
   "cell_type": "code",
   "execution_count": 31,
   "metadata": {},
   "outputs": [
    {
     "data": {
      "text/plain": [
       "GaussianNB(priors=None, var_smoothing=1e-09)"
      ]
     },
     "execution_count": 31,
     "metadata": {},
     "output_type": "execute_result"
    }
   ],
   "source": [
    "from sklearn.naive_bayes import GaussianNB\n",
    "gnb = GaussianNB()\n",
    "gnb.fit(train_x.drop(drop_cols, axis=1), train_y)"
   ]
  },
  {
   "cell_type": "code",
   "execution_count": 32,
   "metadata": {},
   "outputs": [
    {
     "data": {
      "text/plain": [
       "0.7111509180474698"
      ]
     },
     "execution_count": 32,
     "metadata": {},
     "output_type": "execute_result"
    }
   ],
   "source": [
    "gnb.score(test_x.drop(drop_cols, axis=1), test_y)"
   ]
  },
  {
   "cell_type": "code",
   "execution_count": 33,
   "metadata": {},
   "outputs": [
    {
     "name": "stdout",
     "output_type": "stream",
     "text": [
      "Correct: 6352 0.7111509180474698\n",
      "Pos: 5463 0.6116211374832065\n",
      "Star Correct: 6352 0.7111509180474698\n",
      "True Positive: 4121 0.46137483206448726\n",
      "True Negative: 2231 0.24977608598298254\n",
      "False Positive: 1342 0.15024630541871922\n",
      "False Negative: 1238 0.138602776533811\n"
     ]
    }
   ],
   "source": [
    "evaluate(gnb, test_x.drop(drop_cols, axis=1), test_y)"
   ]
  },
  {
   "cell_type": "code",
   "execution_count": 78,
   "metadata": {},
   "outputs": [],
   "source": [
    "from keras import models\n",
    "from keras import layers\n",
    "from keras import optimizers\n",
    "from keras.utils import to_categorical\n",
    "import keras\n",
    "import numpy as np"
   ]
  },
  {
   "cell_type": "code",
   "execution_count": 79,
   "metadata": {},
   "outputs": [],
   "source": [
    "keras.backend.clear_session()"
   ]
  },
  {
   "cell_type": "code",
   "execution_count": 80,
   "metadata": {},
   "outputs": [],
   "source": [
    "nn_train_x = train_x.drop(drop_cols, axis=1)\n",
    "nn_test_x = test_x.drop(drop_cols, axis=1)"
   ]
  },
  {
   "cell_type": "code",
   "execution_count": 81,
   "metadata": {},
   "outputs": [
    {
     "data": {
      "text/plain": [
       "(23827, 6)"
      ]
     },
     "execution_count": 81,
     "metadata": {},
     "output_type": "execute_result"
    }
   ],
   "source": [
    "np.shape(nn_train_x)"
   ]
  },
  {
   "cell_type": "code",
   "execution_count": 82,
   "metadata": {},
   "outputs": [
    {
     "name": "stdout",
     "output_type": "stream",
     "text": [
      "Model: \"sequential_1\"\n",
      "_________________________________________________________________\n",
      "Layer (type)                 Output Shape              Param #   \n",
      "=================================================================\n",
      "dense_1 (Dense)              (None, 1)                 7         \n",
      "=================================================================\n",
      "Total params: 7\n",
      "Trainable params: 7\n",
      "Non-trainable params: 0\n",
      "_________________________________________________________________\n"
     ]
    }
   ],
   "source": [
    "network = models.Sequential()\n",
    "network.add(layers.Dense(1, activation='sigmoid', input_shape=(6,)))\n",
    "network.summary()"
   ]
  },
  {
   "cell_type": "code",
   "execution_count": 83,
   "metadata": {},
   "outputs": [
    {
     "name": "stdout",
     "output_type": "stream",
     "text": [
      "Train on 23827 samples, validate on 8932 samples\n",
      "Epoch 1/500\n",
      "23827/23827 [==============================] - 0s 18us/step - loss: 0.7561 - accuracy: 0.4810 - val_loss: 0.6591 - val_accuracy: 0.6094\n",
      "Epoch 2/500\n",
      "23827/23827 [==============================] - 0s 15us/step - loss: 0.6556 - accuracy: 0.6171 - val_loss: 0.6543 - val_accuracy: 0.6122\n",
      "Epoch 3/500\n",
      "23827/23827 [==============================] - 0s 15us/step - loss: 0.6527 - accuracy: 0.6198 - val_loss: 0.6511 - val_accuracy: 0.6158\n",
      "Epoch 4/500\n",
      "23827/23827 [==============================] - 0s 15us/step - loss: 0.6499 - accuracy: 0.6231 - val_loss: 0.6483 - val_accuracy: 0.6211\n",
      "Epoch 5/500\n",
      "23827/23827 [==============================] - 0s 14us/step - loss: 0.6474 - accuracy: 0.6257 - val_loss: 0.6449 - val_accuracy: 0.6227\n",
      "Epoch 6/500\n",
      "23827/23827 [==============================] - 0s 16us/step - loss: 0.6450 - accuracy: 0.6273 - val_loss: 0.6422 - val_accuracy: 0.6263\n",
      "Epoch 7/500\n",
      "23827/23827 [==============================] - 0s 17us/step - loss: 0.6426 - accuracy: 0.6292 - val_loss: 0.6393 - val_accuracy: 0.6310\n",
      "Epoch 8/500\n",
      "23827/23827 [==============================] - 0s 16us/step - loss: 0.6402 - accuracy: 0.6312 - val_loss: 0.6366 - val_accuracy: 0.6337\n",
      "Epoch 9/500\n",
      "23827/23827 [==============================] - 0s 15us/step - loss: 0.6379 - accuracy: 0.6333 - val_loss: 0.6341 - val_accuracy: 0.6376\n",
      "Epoch 10/500\n",
      "23827/23827 [==============================] - 0s 15us/step - loss: 0.6359 - accuracy: 0.6355 - val_loss: 0.6315 - val_accuracy: 0.6396\n",
      "Epoch 11/500\n",
      "23827/23827 [==============================] - 0s 15us/step - loss: 0.6337 - accuracy: 0.6385 - val_loss: 0.6304 - val_accuracy: 0.6452\n",
      "Epoch 12/500\n",
      "23827/23827 [==============================] - 0s 16us/step - loss: 0.6319 - accuracy: 0.6401 - val_loss: 0.6270 - val_accuracy: 0.6478\n",
      "Epoch 13/500\n",
      "23827/23827 [==============================] - 0s 15us/step - loss: 0.6300 - accuracy: 0.6421 - val_loss: 0.6247 - val_accuracy: 0.6498\n",
      "Epoch 14/500\n",
      "23827/23827 [==============================] - 0s 15us/step - loss: 0.6281 - accuracy: 0.6451 - val_loss: 0.6231 - val_accuracy: 0.6525\n",
      "Epoch 15/500\n",
      "23827/23827 [==============================] - 0s 16us/step - loss: 0.6263 - accuracy: 0.6468 - val_loss: 0.6212 - val_accuracy: 0.6560\n",
      "Epoch 16/500\n",
      "23827/23827 [==============================] - 0s 15us/step - loss: 0.6246 - accuracy: 0.6488 - val_loss: 0.6189 - val_accuracy: 0.6576\n",
      "Epoch 17/500\n",
      "23827/23827 [==============================] - 0s 15us/step - loss: 0.6228 - accuracy: 0.6515 - val_loss: 0.6174 - val_accuracy: 0.6614\n",
      "Epoch 18/500\n",
      "23827/23827 [==============================] - 0s 17us/step - loss: 0.6210 - accuracy: 0.6526 - val_loss: 0.6147 - val_accuracy: 0.6620\n",
      "Epoch 19/500\n",
      "23827/23827 [==============================] - 0s 17us/step - loss: 0.6194 - accuracy: 0.6547 - val_loss: 0.6138 - val_accuracy: 0.6651\n",
      "Epoch 20/500\n",
      "23827/23827 [==============================] - 0s 16us/step - loss: 0.6178 - accuracy: 0.6557 - val_loss: 0.6120 - val_accuracy: 0.6676\n",
      "Epoch 21/500\n",
      "23827/23827 [==============================] - 0s 16us/step - loss: 0.6164 - accuracy: 0.6579 - val_loss: 0.6101 - val_accuracy: 0.6680\n",
      "Epoch 22/500\n",
      "23827/23827 [==============================] - 0s 15us/step - loss: 0.6148 - accuracy: 0.6585 - val_loss: 0.6080 - val_accuracy: 0.6719\n",
      "Epoch 23/500\n",
      "23827/23827 [==============================] - 0s 15us/step - loss: 0.6133 - accuracy: 0.6602 - val_loss: 0.6064 - val_accuracy: 0.6740\n",
      "Epoch 24/500\n",
      "23827/23827 [==============================] - 0s 15us/step - loss: 0.6118 - accuracy: 0.6624 - val_loss: 0.6068 - val_accuracy: 0.6818\n",
      "Epoch 25/500\n",
      "23827/23827 [==============================] - 0s 15us/step - loss: 0.6104 - accuracy: 0.6642 - val_loss: 0.6033 - val_accuracy: 0.6792\n",
      "Epoch 26/500\n",
      "23827/23827 [==============================] - 0s 15us/step - loss: 0.6090 - accuracy: 0.6652 - val_loss: 0.6018 - val_accuracy: 0.6817\n",
      "Epoch 27/500\n",
      "23827/23827 [==============================] - 0s 15us/step - loss: 0.6076 - accuracy: 0.6678 - val_loss: 0.6006 - val_accuracy: 0.6862\n",
      "Epoch 28/500\n",
      "23827/23827 [==============================] - 0s 15us/step - loss: 0.6062 - accuracy: 0.6699 - val_loss: 0.5989 - val_accuracy: 0.6875\n",
      "Epoch 29/500\n",
      "23827/23827 [==============================] - 0s 15us/step - loss: 0.6048 - accuracy: 0.6708 - val_loss: 0.5969 - val_accuracy: 0.6852\n",
      "Epoch 30/500\n",
      "23827/23827 [==============================] - 0s 15us/step - loss: 0.6035 - accuracy: 0.6717 - val_loss: 0.5956 - val_accuracy: 0.6867\n",
      "Epoch 31/500\n",
      "23827/23827 [==============================] - 0s 15us/step - loss: 0.6023 - accuracy: 0.6727 - val_loss: 0.5965 - val_accuracy: 0.6956\n",
      "Epoch 32/500\n",
      "23827/23827 [==============================] - 0s 15us/step - loss: 0.6011 - accuracy: 0.6749 - val_loss: 0.5936 - val_accuracy: 0.6946\n",
      "Epoch 33/500\n",
      "23827/23827 [==============================] - 0s 15us/step - loss: 0.5999 - accuracy: 0.6755 - val_loss: 0.5929 - val_accuracy: 0.6972\n",
      "Epoch 34/500\n",
      "23827/23827 [==============================] - 0s 16us/step - loss: 0.5986 - accuracy: 0.6774 - val_loss: 0.5932 - val_accuracy: 0.7020\n",
      "Epoch 35/500\n",
      "23827/23827 [==============================] - 0s 15us/step - loss: 0.5974 - accuracy: 0.6779 - val_loss: 0.5921 - val_accuracy: 0.7028\n",
      "Epoch 36/500\n",
      "23827/23827 [==============================] - 0s 15us/step - loss: 0.5964 - accuracy: 0.6798 - val_loss: 0.5896 - val_accuracy: 0.7011\n",
      "Epoch 37/500\n",
      "23827/23827 [==============================] - 0s 15us/step - loss: 0.5952 - accuracy: 0.6811 - val_loss: 0.5892 - val_accuracy: 0.7041\n",
      "Epoch 38/500\n",
      "23827/23827 [==============================] - 0s 15us/step - loss: 0.5940 - accuracy: 0.6823 - val_loss: 0.5870 - val_accuracy: 0.7038\n",
      "Epoch 39/500\n",
      "23827/23827 [==============================] - 0s 16us/step - loss: 0.5931 - accuracy: 0.6844 - val_loss: 0.5870 - val_accuracy: 0.7060\n",
      "Epoch 40/500\n",
      "23827/23827 [==============================] - 0s 15us/step - loss: 0.5921 - accuracy: 0.6850 - val_loss: 0.5858 - val_accuracy: 0.7067\n",
      "Epoch 41/500\n",
      "23827/23827 [==============================] - 0s 15us/step - loss: 0.5910 - accuracy: 0.6864 - val_loss: 0.5841 - val_accuracy: 0.7066\n",
      "Epoch 42/500\n",
      "23827/23827 [==============================] - 0s 15us/step - loss: 0.5901 - accuracy: 0.6862 - val_loss: 0.5840 - val_accuracy: 0.7094\n",
      "Epoch 43/500\n",
      "23827/23827 [==============================] - 0s 15us/step - loss: 0.5890 - accuracy: 0.6883 - val_loss: 0.5816 - val_accuracy: 0.7088\n",
      "Epoch 44/500\n",
      "23827/23827 [==============================] - 0s 15us/step - loss: 0.5881 - accuracy: 0.6881 - val_loss: 0.5816 - val_accuracy: 0.7117\n",
      "Epoch 45/500\n",
      "23827/23827 [==============================] - 0s 15us/step - loss: 0.5873 - accuracy: 0.6898 - val_loss: 0.5820 - val_accuracy: 0.7126\n",
      "Epoch 46/500\n",
      "23827/23827 [==============================] - 0s 15us/step - loss: 0.5863 - accuracy: 0.6901 - val_loss: 0.5821 - val_accuracy: 0.7127\n",
      "Epoch 47/500\n",
      "23827/23827 [==============================] - 0s 15us/step - loss: 0.5855 - accuracy: 0.6917 - val_loss: 0.5793 - val_accuracy: 0.7127\n",
      "Epoch 48/500\n",
      "23827/23827 [==============================] - 0s 16us/step - loss: 0.5846 - accuracy: 0.6937 - val_loss: 0.5798 - val_accuracy: 0.7146\n",
      "Epoch 49/500\n",
      "23827/23827 [==============================] - 0s 16us/step - loss: 0.5838 - accuracy: 0.6932 - val_loss: 0.5787 - val_accuracy: 0.7147\n",
      "Epoch 50/500\n",
      "23827/23827 [==============================] - 0s 16us/step - loss: 0.5830 - accuracy: 0.6947 - val_loss: 0.5773 - val_accuracy: 0.7151\n",
      "Epoch 51/500\n",
      "23827/23827 [==============================] - 0s 15us/step - loss: 0.5823 - accuracy: 0.6945 - val_loss: 0.5774 - val_accuracy: 0.7154\n",
      "Epoch 52/500\n",
      "23827/23827 [==============================] - 0s 15us/step - loss: 0.5815 - accuracy: 0.6957 - val_loss: 0.5761 - val_accuracy: 0.7165\n",
      "Epoch 53/500\n",
      "23827/23827 [==============================] - 0s 15us/step - loss: 0.5808 - accuracy: 0.6964 - val_loss: 0.5758 - val_accuracy: 0.7162\n",
      "Epoch 54/500\n",
      "23827/23827 [==============================] - 0s 14us/step - loss: 0.5801 - accuracy: 0.6964 - val_loss: 0.5761 - val_accuracy: 0.7184\n",
      "Epoch 55/500\n",
      "23827/23827 [==============================] - 0s 16us/step - loss: 0.5793 - accuracy: 0.6974 - val_loss: 0.5765 - val_accuracy: 0.7201\n"
     ]
    },
    {
     "name": "stdout",
     "output_type": "stream",
     "text": [
      "Epoch 56/500\n",
      "23827/23827 [==============================] - 0s 15us/step - loss: 0.5786 - accuracy: 0.6985 - val_loss: 0.5732 - val_accuracy: 0.7179\n",
      "Epoch 57/500\n",
      "23827/23827 [==============================] - 0s 15us/step - loss: 0.5779 - accuracy: 0.6983 - val_loss: 0.5749 - val_accuracy: 0.7195\n",
      "Epoch 58/500\n",
      "23827/23827 [==============================] - 0s 15us/step - loss: 0.5772 - accuracy: 0.6995 - val_loss: 0.5739 - val_accuracy: 0.7204\n",
      "Epoch 59/500\n",
      "23827/23827 [==============================] - 0s 15us/step - loss: 0.5766 - accuracy: 0.7004 - val_loss: 0.5727 - val_accuracy: 0.7201\n",
      "Epoch 60/500\n",
      "23827/23827 [==============================] - 0s 15us/step - loss: 0.5760 - accuracy: 0.7003 - val_loss: 0.5712 - val_accuracy: 0.7201\n",
      "Epoch 61/500\n",
      "23827/23827 [==============================] - 0s 16us/step - loss: 0.5754 - accuracy: 0.7018 - val_loss: 0.5726 - val_accuracy: 0.7216\n",
      "Epoch 62/500\n",
      "23827/23827 [==============================] - 0s 16us/step - loss: 0.5748 - accuracy: 0.7019 - val_loss: 0.5711 - val_accuracy: 0.7222\n",
      "Epoch 63/500\n",
      "23827/23827 [==============================] - 0s 15us/step - loss: 0.5741 - accuracy: 0.7022 - val_loss: 0.5688 - val_accuracy: 0.7217\n",
      "Epoch 64/500\n",
      "23827/23827 [==============================] - 0s 15us/step - loss: 0.5736 - accuracy: 0.7025 - val_loss: 0.5693 - val_accuracy: 0.7227\n",
      "Epoch 65/500\n",
      "23827/23827 [==============================] - 0s 15us/step - loss: 0.5730 - accuracy: 0.7029 - val_loss: 0.5701 - val_accuracy: 0.7212\n",
      "Epoch 66/500\n",
      "23827/23827 [==============================] - 0s 15us/step - loss: 0.5724 - accuracy: 0.7047 - val_loss: 0.5698 - val_accuracy: 0.7215\n",
      "Epoch 67/500\n",
      "23827/23827 [==============================] - 0s 15us/step - loss: 0.5718 - accuracy: 0.7056 - val_loss: 0.5675 - val_accuracy: 0.7236\n",
      "Epoch 68/500\n",
      "23827/23827 [==============================] - 0s 15us/step - loss: 0.5714 - accuracy: 0.7047 - val_loss: 0.5673 - val_accuracy: 0.7237\n",
      "Epoch 69/500\n",
      "23827/23827 [==============================] - 0s 15us/step - loss: 0.5708 - accuracy: 0.7055 - val_loss: 0.5667 - val_accuracy: 0.7235\n",
      "Epoch 70/500\n",
      "23827/23827 [==============================] - 0s 15us/step - loss: 0.5703 - accuracy: 0.7063 - val_loss: 0.5678 - val_accuracy: 0.7220\n",
      "Epoch 71/500\n",
      "23827/23827 [==============================] - 0s 15us/step - loss: 0.5699 - accuracy: 0.7069 - val_loss: 0.5677 - val_accuracy: 0.7209\n",
      "Epoch 72/500\n",
      "23827/23827 [==============================] - 0s 15us/step - loss: 0.5693 - accuracy: 0.7073 - val_loss: 0.5672 - val_accuracy: 0.7217\n",
      "Epoch 73/500\n",
      "23827/23827 [==============================] - 0s 15us/step - loss: 0.5689 - accuracy: 0.7077 - val_loss: 0.5644 - val_accuracy: 0.7242\n",
      "Epoch 74/500\n",
      "23827/23827 [==============================] - 0s 15us/step - loss: 0.5684 - accuracy: 0.7085 - val_loss: 0.5682 - val_accuracy: 0.7211\n",
      "Epoch 75/500\n",
      "23827/23827 [==============================] - 0s 16us/step - loss: 0.5680 - accuracy: 0.7093 - val_loss: 0.5640 - val_accuracy: 0.7239\n",
      "Epoch 76/500\n",
      "23827/23827 [==============================] - 0s 15us/step - loss: 0.5676 - accuracy: 0.7093 - val_loss: 0.5649 - val_accuracy: 0.7222\n",
      "Epoch 77/500\n",
      "23827/23827 [==============================] - 0s 15us/step - loss: 0.5671 - accuracy: 0.7095 - val_loss: 0.5656 - val_accuracy: 0.7223\n",
      "Epoch 78/500\n",
      "23827/23827 [==============================] - 0s 15us/step - loss: 0.5665 - accuracy: 0.7108 - val_loss: 0.5666 - val_accuracy: 0.7223\n",
      "Epoch 79/500\n",
      "23827/23827 [==============================] - 0s 15us/step - loss: 0.5663 - accuracy: 0.7102 - val_loss: 0.5641 - val_accuracy: 0.7228\n",
      "Epoch 80/500\n",
      "23827/23827 [==============================] - 0s 15us/step - loss: 0.5659 - accuracy: 0.7099 - val_loss: 0.5633 - val_accuracy: 0.7235\n",
      "Epoch 81/500\n",
      "23827/23827 [==============================] - 0s 15us/step - loss: 0.5654 - accuracy: 0.7110 - val_loss: 0.5632 - val_accuracy: 0.7229\n",
      "Epoch 82/500\n",
      "23827/23827 [==============================] - 0s 15us/step - loss: 0.5651 - accuracy: 0.7110 - val_loss: 0.5648 - val_accuracy: 0.7223\n",
      "Epoch 83/500\n",
      "23827/23827 [==============================] - 0s 15us/step - loss: 0.5646 - accuracy: 0.7116 - val_loss: 0.5647 - val_accuracy: 0.7219\n",
      "Epoch 84/500\n",
      "23827/23827 [==============================] - 0s 15us/step - loss: 0.5643 - accuracy: 0.7116 - val_loss: 0.5668 - val_accuracy: 0.7216\n",
      "Epoch 85/500\n",
      "23827/23827 [==============================] - 0s 15us/step - loss: 0.5639 - accuracy: 0.7119 - val_loss: 0.5646 - val_accuracy: 0.7217\n",
      "Epoch 86/500\n",
      "23827/23827 [==============================] - 0s 15us/step - loss: 0.5635 - accuracy: 0.7126 - val_loss: 0.5628 - val_accuracy: 0.7236\n",
      "Epoch 87/500\n",
      "23827/23827 [==============================] - 0s 15us/step - loss: 0.5631 - accuracy: 0.7132 - val_loss: 0.5617 - val_accuracy: 0.7236\n",
      "Epoch 88/500\n",
      "23827/23827 [==============================] - 0s 15us/step - loss: 0.5628 - accuracy: 0.7129 - val_loss: 0.5658 - val_accuracy: 0.7229\n",
      "Epoch 89/500\n",
      "23827/23827 [==============================] - 0s 16us/step - loss: 0.5625 - accuracy: 0.7138 - val_loss: 0.5610 - val_accuracy: 0.7236\n",
      "Epoch 90/500\n",
      "23827/23827 [==============================] - 0s 15us/step - loss: 0.5622 - accuracy: 0.7138 - val_loss: 0.5623 - val_accuracy: 0.7218\n",
      "Epoch 91/500\n",
      "23827/23827 [==============================] - 0s 15us/step - loss: 0.5618 - accuracy: 0.7142 - val_loss: 0.5610 - val_accuracy: 0.7230\n",
      "Epoch 92/500\n",
      "23827/23827 [==============================] - 0s 15us/step - loss: 0.5615 - accuracy: 0.7147 - val_loss: 0.5618 - val_accuracy: 0.7225\n",
      "Epoch 93/500\n",
      "23827/23827 [==============================] - 0s 15us/step - loss: 0.5612 - accuracy: 0.7145 - val_loss: 0.5635 - val_accuracy: 0.7229\n",
      "Epoch 94/500\n",
      "23827/23827 [==============================] - 0s 15us/step - loss: 0.5609 - accuracy: 0.7155 - val_loss: 0.5626 - val_accuracy: 0.7222\n",
      "Epoch 95/500\n",
      "23827/23827 [==============================] - 0s 15us/step - loss: 0.5606 - accuracy: 0.7157 - val_loss: 0.5616 - val_accuracy: 0.7227\n",
      "Epoch 96/500\n",
      "23827/23827 [==============================] - 0s 15us/step - loss: 0.5603 - accuracy: 0.7156 - val_loss: 0.5637 - val_accuracy: 0.7234\n",
      "Epoch 97/500\n",
      "23827/23827 [==============================] - 0s 15us/step - loss: 0.5600 - accuracy: 0.7163 - val_loss: 0.5623 - val_accuracy: 0.7237\n",
      "Epoch 98/500\n",
      "23827/23827 [==============================] - 0s 15us/step - loss: 0.5597 - accuracy: 0.7162 - val_loss: 0.5602 - val_accuracy: 0.7234\n",
      "Epoch 99/500\n",
      "23827/23827 [==============================] - 0s 15us/step - loss: 0.5594 - accuracy: 0.7151 - val_loss: 0.5642 - val_accuracy: 0.7242\n",
      "Epoch 100/500\n",
      "23827/23827 [==============================] - 0s 15us/step - loss: 0.5591 - accuracy: 0.7167 - val_loss: 0.5615 - val_accuracy: 0.7237\n",
      "Epoch 101/500\n",
      "23827/23827 [==============================] - 0s 15us/step - loss: 0.5588 - accuracy: 0.7173 - val_loss: 0.5597 - val_accuracy: 0.7235\n",
      "Epoch 102/500\n",
      "23827/23827 [==============================] - 0s 15us/step - loss: 0.5585 - accuracy: 0.7170 - val_loss: 0.5621 - val_accuracy: 0.7244\n",
      "Epoch 103/500\n",
      "23827/23827 [==============================] - 0s 17us/step - loss: 0.5583 - accuracy: 0.7174 - val_loss: 0.5612 - val_accuracy: 0.7238\n",
      "Epoch 104/500\n",
      "23827/23827 [==============================] - 0s 16us/step - loss: 0.5580 - accuracy: 0.7178 - val_loss: 0.5590 - val_accuracy: 0.7237\n",
      "Epoch 105/500\n",
      "23827/23827 [==============================] - 0s 17us/step - loss: 0.5577 - accuracy: 0.7175 - val_loss: 0.5646 - val_accuracy: 0.7218\n",
      "Epoch 106/500\n",
      "23827/23827 [==============================] - 0s 15us/step - loss: 0.5575 - accuracy: 0.7187 - val_loss: 0.5590 - val_accuracy: 0.7246\n",
      "Epoch 107/500\n",
      "23827/23827 [==============================] - 0s 15us/step - loss: 0.5572 - accuracy: 0.7180 - val_loss: 0.5581 - val_accuracy: 0.7245\n",
      "Epoch 108/500\n",
      "23827/23827 [==============================] - 0s 15us/step - loss: 0.5570 - accuracy: 0.7184 - val_loss: 0.5604 - val_accuracy: 0.7241\n",
      "Epoch 109/500\n",
      "23827/23827 [==============================] - 0s 15us/step - loss: 0.5568 - accuracy: 0.7181 - val_loss: 0.5582 - val_accuracy: 0.7249\n",
      "Epoch 110/500\n",
      "23827/23827 [==============================] - 0s 15us/step - loss: 0.5565 - accuracy: 0.7183 - val_loss: 0.5606 - val_accuracy: 0.7238\n"
     ]
    },
    {
     "name": "stdout",
     "output_type": "stream",
     "text": [
      "Epoch 111/500\n",
      "23827/23827 [==============================] - 0s 15us/step - loss: 0.5563 - accuracy: 0.7193 - val_loss: 0.5573 - val_accuracy: 0.7250\n",
      "Epoch 112/500\n",
      "23827/23827 [==============================] - 0s 15us/step - loss: 0.5561 - accuracy: 0.7197 - val_loss: 0.5568 - val_accuracy: 0.7249\n",
      "Epoch 113/500\n",
      "23827/23827 [==============================] - 0s 18us/step - loss: 0.5558 - accuracy: 0.7198 - val_loss: 0.5606 - val_accuracy: 0.7232\n",
      "Epoch 114/500\n",
      "23827/23827 [==============================] - 0s 15us/step - loss: 0.5556 - accuracy: 0.7194 - val_loss: 0.5616 - val_accuracy: 0.7231\n",
      "Epoch 115/500\n",
      "23827/23827 [==============================] - 0s 15us/step - loss: 0.5553 - accuracy: 0.7201 - val_loss: 0.5579 - val_accuracy: 0.7246\n",
      "Epoch 116/500\n",
      "23827/23827 [==============================] - 0s 16us/step - loss: 0.5552 - accuracy: 0.7198 - val_loss: 0.5589 - val_accuracy: 0.7231\n",
      "Epoch 117/500\n",
      "23827/23827 [==============================] - 0s 15us/step - loss: 0.5549 - accuracy: 0.7193 - val_loss: 0.5596 - val_accuracy: 0.7236\n",
      "Epoch 118/500\n",
      "23827/23827 [==============================] - 0s 15us/step - loss: 0.5547 - accuracy: 0.7206 - val_loss: 0.5570 - val_accuracy: 0.7241\n",
      "Epoch 119/500\n",
      "23827/23827 [==============================] - 0s 15us/step - loss: 0.5544 - accuracy: 0.7204 - val_loss: 0.5596 - val_accuracy: 0.7231\n",
      "Epoch 120/500\n",
      "23827/23827 [==============================] - 0s 15us/step - loss: 0.5542 - accuracy: 0.7204 - val_loss: 0.5581 - val_accuracy: 0.7239\n",
      "Epoch 121/500\n",
      "23827/23827 [==============================] - 0s 15us/step - loss: 0.5540 - accuracy: 0.7205 - val_loss: 0.5608 - val_accuracy: 0.7234\n",
      "Epoch 122/500\n",
      "23827/23827 [==============================] - 0s 15us/step - loss: 0.5539 - accuracy: 0.7204 - val_loss: 0.5580 - val_accuracy: 0.7223\n",
      "Epoch 123/500\n",
      "23827/23827 [==============================] - 0s 15us/step - loss: 0.5537 - accuracy: 0.7212 - val_loss: 0.5579 - val_accuracy: 0.7222\n",
      "Epoch 124/500\n",
      "23827/23827 [==============================] - 0s 15us/step - loss: 0.5535 - accuracy: 0.7207 - val_loss: 0.5576 - val_accuracy: 0.7225\n",
      "Epoch 125/500\n",
      "23827/23827 [==============================] - 0s 15us/step - loss: 0.5533 - accuracy: 0.7218 - val_loss: 0.5560 - val_accuracy: 0.7239\n",
      "Epoch 126/500\n",
      "23827/23827 [==============================] - 0s 15us/step - loss: 0.5531 - accuracy: 0.7210 - val_loss: 0.5563 - val_accuracy: 0.7239\n",
      "Epoch 127/500\n",
      "23827/23827 [==============================] - 0s 15us/step - loss: 0.5529 - accuracy: 0.7212 - val_loss: 0.5566 - val_accuracy: 0.7232\n",
      "Epoch 128/500\n",
      "23827/23827 [==============================] - 0s 15us/step - loss: 0.5527 - accuracy: 0.7212 - val_loss: 0.5600 - val_accuracy: 0.7232\n",
      "Epoch 129/500\n",
      "23827/23827 [==============================] - 0s 15us/step - loss: 0.5525 - accuracy: 0.7228 - val_loss: 0.5560 - val_accuracy: 0.7236\n",
      "Epoch 130/500\n",
      "23827/23827 [==============================] - 0s 17us/step - loss: 0.5523 - accuracy: 0.7225 - val_loss: 0.5584 - val_accuracy: 0.7231\n",
      "Epoch 131/500\n",
      "23827/23827 [==============================] - 0s 15us/step - loss: 0.5522 - accuracy: 0.7227 - val_loss: 0.5568 - val_accuracy: 0.7226\n",
      "Epoch 132/500\n",
      "23827/23827 [==============================] - 0s 15us/step - loss: 0.5520 - accuracy: 0.7229 - val_loss: 0.5556 - val_accuracy: 0.7230\n",
      "Epoch 133/500\n",
      "23827/23827 [==============================] - 0s 15us/step - loss: 0.5519 - accuracy: 0.7218 - val_loss: 0.5583 - val_accuracy: 0.7235\n",
      "Epoch 134/500\n",
      "23827/23827 [==============================] - 0s 15us/step - loss: 0.5517 - accuracy: 0.7230 - val_loss: 0.5583 - val_accuracy: 0.7239\n",
      "Epoch 135/500\n",
      "23827/23827 [==============================] - 0s 15us/step - loss: 0.5515 - accuracy: 0.7230 - val_loss: 0.5578 - val_accuracy: 0.7232\n",
      "Epoch 136/500\n",
      "23827/23827 [==============================] - 0s 15us/step - loss: 0.5513 - accuracy: 0.7229 - val_loss: 0.5589 - val_accuracy: 0.7242\n",
      "Epoch 137/500\n",
      "23827/23827 [==============================] - 0s 15us/step - loss: 0.5512 - accuracy: 0.7237 - val_loss: 0.5568 - val_accuracy: 0.7226\n",
      "Epoch 138/500\n",
      "23827/23827 [==============================] - 0s 16us/step - loss: 0.5509 - accuracy: 0.7224 - val_loss: 0.5589 - val_accuracy: 0.7249\n",
      "Epoch 139/500\n",
      "23827/23827 [==============================] - 0s 18us/step - loss: 0.5508 - accuracy: 0.7236 - val_loss: 0.5544 - val_accuracy: 0.7236\n",
      "Epoch 140/500\n",
      "23827/23827 [==============================] - 0s 19us/step - loss: 0.5507 - accuracy: 0.7232 - val_loss: 0.5579 - val_accuracy: 0.7244\n",
      "Epoch 141/500\n",
      "23827/23827 [==============================] - 0s 15us/step - loss: 0.5505 - accuracy: 0.7237 - val_loss: 0.5578 - val_accuracy: 0.7244\n",
      "Epoch 142/500\n",
      "23827/23827 [==============================] - 0s 17us/step - loss: 0.5504 - accuracy: 0.7230 - val_loss: 0.5580 - val_accuracy: 0.7250\n",
      "Epoch 143/500\n",
      "23827/23827 [==============================] - 0s 19us/step - loss: 0.5502 - accuracy: 0.7238 - val_loss: 0.5538 - val_accuracy: 0.7230\n",
      "Epoch 144/500\n",
      "23827/23827 [==============================] - 0s 18us/step - loss: 0.5501 - accuracy: 0.7239 - val_loss: 0.5565 - val_accuracy: 0.7238\n",
      "Epoch 145/500\n",
      "23827/23827 [==============================] - 0s 17us/step - loss: 0.5500 - accuracy: 0.7244 - val_loss: 0.5580 - val_accuracy: 0.7248\n",
      "Epoch 146/500\n",
      "23827/23827 [==============================] - 0s 18us/step - loss: 0.5498 - accuracy: 0.7245 - val_loss: 0.5564 - val_accuracy: 0.7247\n",
      "Epoch 147/500\n",
      "23827/23827 [==============================] - 0s 17us/step - loss: 0.5496 - accuracy: 0.7243 - val_loss: 0.5603 - val_accuracy: 0.7256\n",
      "Epoch 148/500\n",
      "23827/23827 [==============================] - 0s 16us/step - loss: 0.5495 - accuracy: 0.7240 - val_loss: 0.5595 - val_accuracy: 0.7250\n",
      "Epoch 149/500\n",
      "23827/23827 [==============================] - 0s 17us/step - loss: 0.5494 - accuracy: 0.7249 - val_loss: 0.5582 - val_accuracy: 0.7251\n",
      "Epoch 150/500\n",
      "23827/23827 [==============================] - 0s 15us/step - loss: 0.5492 - accuracy: 0.7250 - val_loss: 0.5556 - val_accuracy: 0.7241\n",
      "Epoch 151/500\n",
      "23827/23827 [==============================] - 0s 15us/step - loss: 0.5491 - accuracy: 0.7244 - val_loss: 0.5598 - val_accuracy: 0.7251\n",
      "Epoch 152/500\n",
      "23827/23827 [==============================] - 0s 15us/step - loss: 0.5489 - accuracy: 0.7255 - val_loss: 0.5552 - val_accuracy: 0.7239\n",
      "Epoch 153/500\n",
      "23827/23827 [==============================] - 0s 17us/step - loss: 0.5488 - accuracy: 0.7250 - val_loss: 0.5558 - val_accuracy: 0.7247\n",
      "Epoch 154/500\n",
      "23827/23827 [==============================] - 0s 15us/step - loss: 0.5487 - accuracy: 0.7259 - val_loss: 0.5561 - val_accuracy: 0.7248\n",
      "Epoch 155/500\n",
      "23827/23827 [==============================] - 0s 15us/step - loss: 0.5485 - accuracy: 0.7256 - val_loss: 0.5539 - val_accuracy: 0.7248\n",
      "Epoch 156/500\n",
      "23827/23827 [==============================] - 0s 16us/step - loss: 0.5483 - accuracy: 0.7255 - val_loss: 0.5594 - val_accuracy: 0.7253\n",
      "Epoch 157/500\n",
      "23827/23827 [==============================] - 0s 15us/step - loss: 0.5483 - accuracy: 0.7261 - val_loss: 0.5574 - val_accuracy: 0.7249\n",
      "Epoch 158/500\n",
      "23827/23827 [==============================] - 0s 18us/step - loss: 0.5481 - accuracy: 0.7249 - val_loss: 0.5561 - val_accuracy: 0.7247\n",
      "Epoch 159/500\n",
      "23827/23827 [==============================] - 0s 17us/step - loss: 0.5480 - accuracy: 0.7260 - val_loss: 0.5571 - val_accuracy: 0.7237\n",
      "Epoch 160/500\n",
      "23827/23827 [==============================] - 0s 16us/step - loss: 0.5479 - accuracy: 0.7255 - val_loss: 0.5582 - val_accuracy: 0.7250\n",
      "Epoch 161/500\n",
      "23827/23827 [==============================] - 0s 17us/step - loss: 0.5478 - accuracy: 0.7264 - val_loss: 0.5575 - val_accuracy: 0.7246\n",
      "Epoch 162/500\n",
      "23827/23827 [==============================] - 0s 16us/step - loss: 0.5477 - accuracy: 0.7262 - val_loss: 0.5574 - val_accuracy: 0.7245\n",
      "Epoch 163/500\n",
      "23827/23827 [==============================] - 0s 15us/step - loss: 0.5475 - accuracy: 0.7270 - val_loss: 0.5532 - val_accuracy: 0.7248\n",
      "Epoch 164/500\n",
      "23827/23827 [==============================] - 0s 15us/step - loss: 0.5474 - accuracy: 0.7262 - val_loss: 0.5567 - val_accuracy: 0.7241\n",
      "Epoch 165/500\n"
     ]
    },
    {
     "name": "stdout",
     "output_type": "stream",
     "text": [
      "23827/23827 [==============================] - 0s 15us/step - loss: 0.5473 - accuracy: 0.7273 - val_loss: 0.5586 - val_accuracy: 0.7263\n",
      "Epoch 166/500\n",
      "23827/23827 [==============================] - 0s 16us/step - loss: 0.5471 - accuracy: 0.7269 - val_loss: 0.5562 - val_accuracy: 0.7242\n",
      "Epoch 167/500\n",
      "23827/23827 [==============================] - 0s 15us/step - loss: 0.5471 - accuracy: 0.7268 - val_loss: 0.5562 - val_accuracy: 0.7244\n",
      "Epoch 168/500\n",
      "23827/23827 [==============================] - 0s 15us/step - loss: 0.5470 - accuracy: 0.7268 - val_loss: 0.5558 - val_accuracy: 0.7239\n",
      "Epoch 169/500\n",
      "23827/23827 [==============================] - 0s 19us/step - loss: 0.5468 - accuracy: 0.7272 - val_loss: 0.5536 - val_accuracy: 0.7250\n",
      "Epoch 170/500\n",
      "23827/23827 [==============================] - 0s 16us/step - loss: 0.5467 - accuracy: 0.7270 - val_loss: 0.5577 - val_accuracy: 0.7260\n",
      "Epoch 171/500\n",
      "23827/23827 [==============================] - 0s 16us/step - loss: 0.5466 - accuracy: 0.7270 - val_loss: 0.5549 - val_accuracy: 0.7236\n",
      "Epoch 172/500\n",
      "23827/23827 [==============================] - 0s 17us/step - loss: 0.5465 - accuracy: 0.7272 - val_loss: 0.5548 - val_accuracy: 0.7238\n",
      "Epoch 173/500\n",
      "23827/23827 [==============================] - 0s 17us/step - loss: 0.5464 - accuracy: 0.7265 - val_loss: 0.5547 - val_accuracy: 0.7237\n",
      "Epoch 174/500\n",
      "23827/23827 [==============================] - 0s 15us/step - loss: 0.5463 - accuracy: 0.7271 - val_loss: 0.5537 - val_accuracy: 0.7245\n",
      "Epoch 175/500\n",
      "23827/23827 [==============================] - 0s 15us/step - loss: 0.5462 - accuracy: 0.7275 - val_loss: 0.5538 - val_accuracy: 0.7246\n",
      "Epoch 176/500\n",
      "23827/23827 [==============================] - 0s 15us/step - loss: 0.5461 - accuracy: 0.7277 - val_loss: 0.5560 - val_accuracy: 0.7246\n",
      "Epoch 177/500\n",
      "23827/23827 [==============================] - 0s 15us/step - loss: 0.5460 - accuracy: 0.7274 - val_loss: 0.5579 - val_accuracy: 0.7259\n",
      "Epoch 178/500\n",
      "23827/23827 [==============================] - 0s 15us/step - loss: 0.5459 - accuracy: 0.7275 - val_loss: 0.5559 - val_accuracy: 0.7249\n",
      "Epoch 179/500\n",
      "23827/23827 [==============================] - 0s 15us/step - loss: 0.5458 - accuracy: 0.7281 - val_loss: 0.5529 - val_accuracy: 0.7246\n",
      "Epoch 180/500\n",
      "23827/23827 [==============================] - 0s 15us/step - loss: 0.5457 - accuracy: 0.7283 - val_loss: 0.5562 - val_accuracy: 0.7246\n",
      "Epoch 181/500\n",
      "23827/23827 [==============================] - 0s 15us/step - loss: 0.5456 - accuracy: 0.7281 - val_loss: 0.5544 - val_accuracy: 0.7250\n",
      "Epoch 182/500\n",
      "23827/23827 [==============================] - 0s 16us/step - loss: 0.5454 - accuracy: 0.7284 - val_loss: 0.5544 - val_accuracy: 0.7251\n",
      "Epoch 183/500\n",
      "23827/23827 [==============================] - 0s 15us/step - loss: 0.5454 - accuracy: 0.7281 - val_loss: 0.5581 - val_accuracy: 0.7257\n",
      "Epoch 184/500\n",
      "23827/23827 [==============================] - 0s 15us/step - loss: 0.5453 - accuracy: 0.7277 - val_loss: 0.5585 - val_accuracy: 0.7254\n",
      "Epoch 185/500\n",
      "23827/23827 [==============================] - 0s 15us/step - loss: 0.5452 - accuracy: 0.7286 - val_loss: 0.5546 - val_accuracy: 0.7237\n",
      "Epoch 186/500\n",
      "23827/23827 [==============================] - 0s 15us/step - loss: 0.5451 - accuracy: 0.7282 - val_loss: 0.5529 - val_accuracy: 0.7251\n",
      "Epoch 187/500\n",
      "23827/23827 [==============================] - 0s 15us/step - loss: 0.5450 - accuracy: 0.7282 - val_loss: 0.5549 - val_accuracy: 0.7244\n",
      "Epoch 188/500\n",
      "23827/23827 [==============================] - 0s 15us/step - loss: 0.5449 - accuracy: 0.7290 - val_loss: 0.5546 - val_accuracy: 0.7240\n",
      "Epoch 189/500\n",
      "23827/23827 [==============================] - 0s 15us/step - loss: 0.5448 - accuracy: 0.7289 - val_loss: 0.5520 - val_accuracy: 0.7249\n",
      "Epoch 190/500\n",
      "23827/23827 [==============================] - 0s 17us/step - loss: 0.5448 - accuracy: 0.7288 - val_loss: 0.5542 - val_accuracy: 0.7241\n",
      "Epoch 191/500\n",
      "23827/23827 [==============================] - 0s 17us/step - loss: 0.5446 - accuracy: 0.7287 - val_loss: 0.5536 - val_accuracy: 0.7247\n",
      "Epoch 192/500\n",
      "23827/23827 [==============================] - 0s 16us/step - loss: 0.5446 - accuracy: 0.7275 - val_loss: 0.5541 - val_accuracy: 0.7244\n",
      "Epoch 193/500\n",
      "23827/23827 [==============================] - 0s 16us/step - loss: 0.5444 - accuracy: 0.7290 - val_loss: 0.5557 - val_accuracy: 0.7254\n",
      "Epoch 194/500\n",
      "23827/23827 [==============================] - 0s 15us/step - loss: 0.5444 - accuracy: 0.7290 - val_loss: 0.5549 - val_accuracy: 0.7242\n",
      "Epoch 195/500\n",
      "23827/23827 [==============================] - 0s 15us/step - loss: 0.5443 - accuracy: 0.7287 - val_loss: 0.5535 - val_accuracy: 0.7242\n",
      "Epoch 196/500\n",
      "23827/23827 [==============================] - 0s 16us/step - loss: 0.5442 - accuracy: 0.7285 - val_loss: 0.5589 - val_accuracy: 0.7257\n",
      "Epoch 197/500\n",
      "23827/23827 [==============================] - 0s 15us/step - loss: 0.5441 - accuracy: 0.7290 - val_loss: 0.5528 - val_accuracy: 0.7240\n",
      "Epoch 198/500\n",
      "23827/23827 [==============================] - 0s 16us/step - loss: 0.5441 - accuracy: 0.7290 - val_loss: 0.5530 - val_accuracy: 0.7244\n",
      "Epoch 199/500\n",
      "23827/23827 [==============================] - 0s 15us/step - loss: 0.5440 - accuracy: 0.7290 - val_loss: 0.5551 - val_accuracy: 0.7254\n",
      "Epoch 200/500\n",
      "23827/23827 [==============================] - 0s 15us/step - loss: 0.5439 - accuracy: 0.7289 - val_loss: 0.5578 - val_accuracy: 0.7250\n",
      "Epoch 201/500\n",
      "23827/23827 [==============================] - 0s 15us/step - loss: 0.5438 - accuracy: 0.7296 - val_loss: 0.5572 - val_accuracy: 0.7248\n",
      "Epoch 202/500\n",
      "23827/23827 [==============================] - 0s 16us/step - loss: 0.5437 - accuracy: 0.7295 - val_loss: 0.5576 - val_accuracy: 0.7253\n",
      "Epoch 203/500\n",
      "23827/23827 [==============================] - 0s 15us/step - loss: 0.5437 - accuracy: 0.7293 - val_loss: 0.5555 - val_accuracy: 0.7256\n",
      "Epoch 204/500\n",
      "23827/23827 [==============================] - 0s 15us/step - loss: 0.5436 - accuracy: 0.7297 - val_loss: 0.5584 - val_accuracy: 0.7264\n",
      "Epoch 205/500\n",
      "23827/23827 [==============================] - 0s 15us/step - loss: 0.5435 - accuracy: 0.7294 - val_loss: 0.5547 - val_accuracy: 0.7257\n",
      "Epoch 206/500\n",
      "23827/23827 [==============================] - 0s 15us/step - loss: 0.5434 - accuracy: 0.7296 - val_loss: 0.5540 - val_accuracy: 0.7251\n",
      "Epoch 207/500\n",
      "23827/23827 [==============================] - 0s 15us/step - loss: 0.5433 - accuracy: 0.7300 - val_loss: 0.5577 - val_accuracy: 0.7255\n",
      "Epoch 208/500\n",
      "23827/23827 [==============================] - 0s 15us/step - loss: 0.5433 - accuracy: 0.7298 - val_loss: 0.5565 - val_accuracy: 0.7257\n",
      "Epoch 209/500\n",
      "23827/23827 [==============================] - 0s 16us/step - loss: 0.5432 - accuracy: 0.7297 - val_loss: 0.5556 - val_accuracy: 0.7255\n",
      "Epoch 210/500\n",
      "23827/23827 [==============================] - 0s 16us/step - loss: 0.5431 - accuracy: 0.7297 - val_loss: 0.5547 - val_accuracy: 0.7264\n",
      "Epoch 211/500\n",
      "23827/23827 [==============================] - 0s 15us/step - loss: 0.5431 - accuracy: 0.7299 - val_loss: 0.5556 - val_accuracy: 0.7253\n",
      "Epoch 212/500\n",
      "23827/23827 [==============================] - 0s 15us/step - loss: 0.5430 - accuracy: 0.7305 - val_loss: 0.5574 - val_accuracy: 0.7258\n",
      "Epoch 213/500\n",
      "23827/23827 [==============================] - 0s 16us/step - loss: 0.5429 - accuracy: 0.7305 - val_loss: 0.5557 - val_accuracy: 0.7254\n",
      "Epoch 214/500\n",
      "23827/23827 [==============================] - 0s 18us/step - loss: 0.5428 - accuracy: 0.7306 - val_loss: 0.5542 - val_accuracy: 0.7264\n",
      "Epoch 215/500\n",
      "23827/23827 [==============================] - 0s 17us/step - loss: 0.5427 - accuracy: 0.7303 - val_loss: 0.5558 - val_accuracy: 0.7256\n",
      "Epoch 216/500\n",
      "23827/23827 [==============================] - 0s 15us/step - loss: 0.5426 - accuracy: 0.7302 - val_loss: 0.5573 - val_accuracy: 0.7259\n",
      "Epoch 217/500\n",
      "23827/23827 [==============================] - 0s 15us/step - loss: 0.5426 - accuracy: 0.7310 - val_loss: 0.5560 - val_accuracy: 0.7262\n",
      "Epoch 218/500\n",
      "23827/23827 [==============================] - 0s 15us/step - loss: 0.5426 - accuracy: 0.7301 - val_loss: 0.5567 - val_accuracy: 0.7262\n",
      "Epoch 219/500\n",
      "23827/23827 [==============================] - 0s 15us/step - loss: 0.5425 - accuracy: 0.7304 - val_loss: 0.5567 - val_accuracy: 0.7264\n"
     ]
    },
    {
     "name": "stdout",
     "output_type": "stream",
     "text": [
      "Epoch 220/500\n",
      "23827/23827 [==============================] - 0s 15us/step - loss: 0.5424 - accuracy: 0.7309 - val_loss: 0.5545 - val_accuracy: 0.7256\n",
      "Epoch 221/500\n",
      "23827/23827 [==============================] - 0s 15us/step - loss: 0.5422 - accuracy: 0.7303 - val_loss: 0.5542 - val_accuracy: 0.7260\n",
      "Epoch 222/500\n",
      "23827/23827 [==============================] - 0s 15us/step - loss: 0.5422 - accuracy: 0.7315 - val_loss: 0.5529 - val_accuracy: 0.7264\n",
      "Epoch 223/500\n",
      "23827/23827 [==============================] - 0s 17us/step - loss: 0.5422 - accuracy: 0.7308 - val_loss: 0.5567 - val_accuracy: 0.7260\n",
      "Epoch 224/500\n",
      "23827/23827 [==============================] - 0s 15us/step - loss: 0.5421 - accuracy: 0.7297 - val_loss: 0.5618 - val_accuracy: 0.7232\n",
      "Epoch 225/500\n",
      "23827/23827 [==============================] - 0s 15us/step - loss: 0.5422 - accuracy: 0.7315 - val_loss: 0.5529 - val_accuracy: 0.7265\n",
      "Epoch 226/500\n",
      "23827/23827 [==============================] - 0s 15us/step - loss: 0.5421 - accuracy: 0.7304 - val_loss: 0.5551 - val_accuracy: 0.7264\n",
      "Epoch 227/500\n",
      "23827/23827 [==============================] - 0s 15us/step - loss: 0.5420 - accuracy: 0.7311 - val_loss: 0.5565 - val_accuracy: 0.7257\n",
      "Epoch 228/500\n",
      "23827/23827 [==============================] - 0s 15us/step - loss: 0.5419 - accuracy: 0.7308 - val_loss: 0.5542 - val_accuracy: 0.7259\n",
      "Epoch 229/500\n",
      "23827/23827 [==============================] - 0s 15us/step - loss: 0.5419 - accuracy: 0.7310 - val_loss: 0.5548 - val_accuracy: 0.7262\n",
      "Epoch 230/500\n",
      "23827/23827 [==============================] - 0s 15us/step - loss: 0.5418 - accuracy: 0.7305 - val_loss: 0.5542 - val_accuracy: 0.7259\n",
      "Epoch 231/500\n",
      "23827/23827 [==============================] - 0s 15us/step - loss: 0.5417 - accuracy: 0.7315 - val_loss: 0.5589 - val_accuracy: 0.7245\n",
      "Epoch 232/500\n",
      "23827/23827 [==============================] - 0s 15us/step - loss: 0.5416 - accuracy: 0.7319 - val_loss: 0.5561 - val_accuracy: 0.7255\n",
      "Epoch 233/500\n",
      "23827/23827 [==============================] - 0s 15us/step - loss: 0.5416 - accuracy: 0.7322 - val_loss: 0.5564 - val_accuracy: 0.7258\n",
      "Epoch 234/500\n",
      "23827/23827 [==============================] - 0s 15us/step - loss: 0.5415 - accuracy: 0.7311 - val_loss: 0.5549 - val_accuracy: 0.7263\n",
      "Epoch 235/500\n",
      "23827/23827 [==============================] - 0s 15us/step - loss: 0.5414 - accuracy: 0.7318 - val_loss: 0.5571 - val_accuracy: 0.7256\n",
      "Epoch 236/500\n",
      "23827/23827 [==============================] - 0s 15us/step - loss: 0.5414 - accuracy: 0.7308 - val_loss: 0.5552 - val_accuracy: 0.7266\n",
      "Epoch 237/500\n",
      "23827/23827 [==============================] - 0s 16us/step - loss: 0.5413 - accuracy: 0.7317 - val_loss: 0.5532 - val_accuracy: 0.7268\n",
      "Epoch 238/500\n",
      "23827/23827 [==============================] - 0s 15us/step - loss: 0.5413 - accuracy: 0.7314 - val_loss: 0.5547 - val_accuracy: 0.7266\n",
      "Epoch 239/500\n",
      "23827/23827 [==============================] - 0s 15us/step - loss: 0.5413 - accuracy: 0.7315 - val_loss: 0.5549 - val_accuracy: 0.7267\n",
      "Epoch 240/500\n",
      "23827/23827 [==============================] - 0s 15us/step - loss: 0.5412 - accuracy: 0.7320 - val_loss: 0.5540 - val_accuracy: 0.7270\n",
      "Epoch 241/500\n",
      "23827/23827 [==============================] - 0s 16us/step - loss: 0.5411 - accuracy: 0.7312 - val_loss: 0.5535 - val_accuracy: 0.7267\n",
      "Epoch 242/500\n",
      "23827/23827 [==============================] - 0s 15us/step - loss: 0.5411 - accuracy: 0.7314 - val_loss: 0.5545 - val_accuracy: 0.7266\n",
      "Epoch 243/500\n",
      "23827/23827 [==============================] - 0s 15us/step - loss: 0.5411 - accuracy: 0.7316 - val_loss: 0.5542 - val_accuracy: 0.7270\n",
      "Epoch 244/500\n",
      "23827/23827 [==============================] - 0s 15us/step - loss: 0.5410 - accuracy: 0.7325 - val_loss: 0.5555 - val_accuracy: 0.7256\n",
      "Epoch 245/500\n",
      "23827/23827 [==============================] - 0s 15us/step - loss: 0.5409 - accuracy: 0.7313 - val_loss: 0.5550 - val_accuracy: 0.7259\n",
      "Epoch 246/500\n",
      "23827/23827 [==============================] - 0s 15us/step - loss: 0.5409 - accuracy: 0.7313 - val_loss: 0.5546 - val_accuracy: 0.7269\n",
      "Epoch 247/500\n",
      "23827/23827 [==============================] - 0s 15us/step - loss: 0.5408 - accuracy: 0.7315 - val_loss: 0.5589 - val_accuracy: 0.7245\n",
      "Epoch 248/500\n",
      "23827/23827 [==============================] - 0s 15us/step - loss: 0.5408 - accuracy: 0.7324 - val_loss: 0.5514 - val_accuracy: 0.7263\n",
      "Epoch 249/500\n",
      "23827/23827 [==============================] - 0s 15us/step - loss: 0.5407 - accuracy: 0.7318 - val_loss: 0.5530 - val_accuracy: 0.7266\n",
      "Epoch 250/500\n",
      "23827/23827 [==============================] - 0s 16us/step - loss: 0.5407 - accuracy: 0.7314 - val_loss: 0.5530 - val_accuracy: 0.7269\n",
      "Epoch 251/500\n",
      "23827/23827 [==============================] - 0s 16us/step - loss: 0.5406 - accuracy: 0.7325 - val_loss: 0.5541 - val_accuracy: 0.7273\n",
      "Epoch 252/500\n",
      "23827/23827 [==============================] - 0s 15us/step - loss: 0.5406 - accuracy: 0.7318 - val_loss: 0.5551 - val_accuracy: 0.7254\n",
      "Epoch 253/500\n",
      "23827/23827 [==============================] - 0s 15us/step - loss: 0.5405 - accuracy: 0.7326 - val_loss: 0.5545 - val_accuracy: 0.7267\n",
      "Epoch 254/500\n",
      "23827/23827 [==============================] - 0s 15us/step - loss: 0.5405 - accuracy: 0.7321 - val_loss: 0.5563 - val_accuracy: 0.7251\n",
      "Epoch 255/500\n",
      "23827/23827 [==============================] - 0s 15us/step - loss: 0.5405 - accuracy: 0.7326 - val_loss: 0.5540 - val_accuracy: 0.7265\n",
      "Epoch 256/500\n",
      "23827/23827 [==============================] - 0s 15us/step - loss: 0.5404 - accuracy: 0.7323 - val_loss: 0.5577 - val_accuracy: 0.7256\n",
      "Epoch 257/500\n",
      "23827/23827 [==============================] - 0s 15us/step - loss: 0.5403 - accuracy: 0.7326 - val_loss: 0.5530 - val_accuracy: 0.7265\n",
      "Epoch 258/500\n",
      "23827/23827 [==============================] - 0s 15us/step - loss: 0.5403 - accuracy: 0.7328 - val_loss: 0.5542 - val_accuracy: 0.7263\n",
      "Epoch 259/500\n",
      "23827/23827 [==============================] - 0s 15us/step - loss: 0.5402 - accuracy: 0.7321 - val_loss: 0.5553 - val_accuracy: 0.7257\n",
      "Epoch 260/500\n",
      "23827/23827 [==============================] - 0s 15us/step - loss: 0.5402 - accuracy: 0.7332 - val_loss: 0.5554 - val_accuracy: 0.7256\n",
      "Epoch 261/500\n",
      "23827/23827 [==============================] - 0s 15us/step - loss: 0.5402 - accuracy: 0.7329 - val_loss: 0.5538 - val_accuracy: 0.7266\n",
      "Epoch 262/500\n",
      "23827/23827 [==============================] - 0s 15us/step - loss: 0.5401 - accuracy: 0.7333 - val_loss: 0.5530 - val_accuracy: 0.7267\n",
      "Epoch 263/500\n",
      "23827/23827 [==============================] - 0s 15us/step - loss: 0.5400 - accuracy: 0.7322 - val_loss: 0.5580 - val_accuracy: 0.7253\n",
      "Epoch 264/500\n",
      "23827/23827 [==============================] - 0s 15us/step - loss: 0.5400 - accuracy: 0.7331 - val_loss: 0.5570 - val_accuracy: 0.7258\n",
      "Epoch 265/500\n",
      "23827/23827 [==============================] - 0s 16us/step - loss: 0.5400 - accuracy: 0.7338 - val_loss: 0.5537 - val_accuracy: 0.7266\n",
      "Epoch 266/500\n",
      "23827/23827 [==============================] - 0s 15us/step - loss: 0.5399 - accuracy: 0.7332 - val_loss: 0.5537 - val_accuracy: 0.7264\n",
      "Epoch 267/500\n",
      "23827/23827 [==============================] - 0s 16us/step - loss: 0.5399 - accuracy: 0.7330 - val_loss: 0.5577 - val_accuracy: 0.7251\n",
      "Epoch 268/500\n",
      "23827/23827 [==============================] - 0s 19us/step - loss: 0.5399 - accuracy: 0.7336 - val_loss: 0.5550 - val_accuracy: 0.7247\n",
      "Epoch 269/500\n",
      "23827/23827 [==============================] - 0s 16us/step - loss: 0.5398 - accuracy: 0.7332 - val_loss: 0.5609 - val_accuracy: 0.7241\n",
      "Epoch 270/500\n",
      "23827/23827 [==============================] - 0s 17us/step - loss: 0.5397 - accuracy: 0.7337 - val_loss: 0.5552 - val_accuracy: 0.7248\n",
      "Epoch 271/500\n",
      "23827/23827 [==============================] - 0s 18us/step - loss: 0.5397 - accuracy: 0.7334 - val_loss: 0.5540 - val_accuracy: 0.7258\n",
      "Epoch 272/500\n",
      "23827/23827 [==============================] - 0s 17us/step - loss: 0.5397 - accuracy: 0.7340 - val_loss: 0.5560 - val_accuracy: 0.7264\n",
      "Epoch 273/500\n",
      "23827/23827 [==============================] - 0s 17us/step - loss: 0.5397 - accuracy: 0.7337 - val_loss: 0.5548 - val_accuracy: 0.7246\n",
      "Epoch 274/500\n"
     ]
    },
    {
     "name": "stdout",
     "output_type": "stream",
     "text": [
      "23827/23827 [==============================] - 0s 17us/step - loss: 0.5396 - accuracy: 0.7327 - val_loss: 0.5544 - val_accuracy: 0.7249\n",
      "Epoch 275/500\n",
      "23827/23827 [==============================] - 0s 15us/step - loss: 0.5396 - accuracy: 0.7332 - val_loss: 0.5580 - val_accuracy: 0.7259\n",
      "Epoch 276/500\n",
      "23827/23827 [==============================] - 0s 16us/step - loss: 0.5396 - accuracy: 0.7332 - val_loss: 0.5562 - val_accuracy: 0.7260\n",
      "Epoch 277/500\n",
      "23827/23827 [==============================] - 0s 18us/step - loss: 0.5395 - accuracy: 0.7335 - val_loss: 0.5565 - val_accuracy: 0.7262\n",
      "Epoch 278/500\n",
      "23827/23827 [==============================] - 0s 20us/step - loss: 0.5395 - accuracy: 0.7337 - val_loss: 0.5573 - val_accuracy: 0.7257\n",
      "Epoch 279/500\n",
      "23827/23827 [==============================] - 0s 17us/step - loss: 0.5394 - accuracy: 0.7335 - val_loss: 0.5555 - val_accuracy: 0.7254\n",
      "Epoch 280/500\n",
      "23827/23827 [==============================] - 0s 16us/step - loss: 0.5393 - accuracy: 0.7339 - val_loss: 0.5531 - val_accuracy: 0.7264\n",
      "Epoch 281/500\n",
      "23827/23827 [==============================] - 0s 16us/step - loss: 0.5393 - accuracy: 0.7338 - val_loss: 0.5590 - val_accuracy: 0.7254\n",
      "Epoch 282/500\n",
      "23827/23827 [==============================] - 0s 15us/step - loss: 0.5393 - accuracy: 0.7341 - val_loss: 0.5562 - val_accuracy: 0.7256\n",
      "Epoch 283/500\n",
      "23827/23827 [==============================] - 0s 15us/step - loss: 0.5393 - accuracy: 0.7337 - val_loss: 0.5567 - val_accuracy: 0.7262\n",
      "Epoch 284/500\n",
      "23827/23827 [==============================] - 0s 15us/step - loss: 0.5392 - accuracy: 0.7343 - val_loss: 0.5577 - val_accuracy: 0.7264\n",
      "Epoch 285/500\n",
      "23827/23827 [==============================] - 0s 15us/step - loss: 0.5392 - accuracy: 0.7339 - val_loss: 0.5547 - val_accuracy: 0.7249\n",
      "Epoch 286/500\n",
      "23827/23827 [==============================] - 0s 15us/step - loss: 0.5391 - accuracy: 0.7340 - val_loss: 0.5566 - val_accuracy: 0.7259\n",
      "Epoch 287/500\n",
      "23827/23827 [==============================] - 0s 15us/step - loss: 0.5391 - accuracy: 0.7347 - val_loss: 0.5564 - val_accuracy: 0.7256\n",
      "Epoch 288/500\n",
      "23827/23827 [==============================] - 0s 15us/step - loss: 0.5391 - accuracy: 0.7349 - val_loss: 0.5525 - val_accuracy: 0.7263\n",
      "Epoch 289/500\n",
      "23827/23827 [==============================] - 0s 15us/step - loss: 0.5391 - accuracy: 0.7341 - val_loss: 0.5535 - val_accuracy: 0.7260\n",
      "Epoch 290/500\n",
      "23827/23827 [==============================] - 0s 17us/step - loss: 0.5390 - accuracy: 0.7340 - val_loss: 0.5558 - val_accuracy: 0.7258\n",
      "Epoch 291/500\n",
      "23827/23827 [==============================] - 0s 15us/step - loss: 0.5389 - accuracy: 0.7339 - val_loss: 0.5542 - val_accuracy: 0.7253\n",
      "Epoch 292/500\n",
      "23827/23827 [==============================] - 0s 15us/step - loss: 0.5389 - accuracy: 0.7350 - val_loss: 0.5563 - val_accuracy: 0.7256\n",
      "Epoch 293/500\n",
      "23827/23827 [==============================] - 0s 15us/step - loss: 0.5389 - accuracy: 0.7343 - val_loss: 0.5562 - val_accuracy: 0.7258\n",
      "Epoch 294/500\n",
      "23827/23827 [==============================] - 0s 15us/step - loss: 0.5389 - accuracy: 0.7347 - val_loss: 0.5560 - val_accuracy: 0.7258\n",
      "Epoch 295/500\n",
      "23827/23827 [==============================] - 0s 15us/step - loss: 0.5388 - accuracy: 0.7343 - val_loss: 0.5587 - val_accuracy: 0.7259\n",
      "Epoch 296/500\n",
      "23827/23827 [==============================] - 0s 15us/step - loss: 0.5388 - accuracy: 0.7344 - val_loss: 0.5557 - val_accuracy: 0.7262\n",
      "Epoch 297/500\n",
      "23827/23827 [==============================] - 0s 16us/step - loss: 0.5387 - accuracy: 0.7349 - val_loss: 0.5533 - val_accuracy: 0.7257\n",
      "Epoch 298/500\n",
      "23827/23827 [==============================] - 0s 15us/step - loss: 0.5387 - accuracy: 0.7349 - val_loss: 0.5545 - val_accuracy: 0.7257\n",
      "Epoch 299/500\n",
      "23827/23827 [==============================] - 0s 15us/step - loss: 0.5387 - accuracy: 0.7346 - val_loss: 0.5564 - val_accuracy: 0.7255\n",
      "Epoch 300/500\n",
      "23827/23827 [==============================] - 0s 15us/step - loss: 0.5386 - accuracy: 0.7337 - val_loss: 0.5558 - val_accuracy: 0.7257\n",
      "Epoch 301/500\n",
      "23827/23827 [==============================] - 0s 15us/step - loss: 0.5386 - accuracy: 0.7344 - val_loss: 0.5557 - val_accuracy: 0.7257\n",
      "Epoch 302/500\n",
      "23827/23827 [==============================] - 0s 15us/step - loss: 0.5386 - accuracy: 0.7343 - val_loss: 0.5581 - val_accuracy: 0.7258\n",
      "Epoch 303/500\n",
      "23827/23827 [==============================] - 0s 15us/step - loss: 0.5386 - accuracy: 0.7339 - val_loss: 0.5540 - val_accuracy: 0.7260\n",
      "Epoch 304/500\n",
      "23827/23827 [==============================] - 0s 17us/step - loss: 0.5386 - accuracy: 0.7345 - val_loss: 0.5545 - val_accuracy: 0.7258\n",
      "Epoch 305/500\n",
      "23827/23827 [==============================] - 0s 15us/step - loss: 0.5385 - accuracy: 0.7354 - val_loss: 0.5557 - val_accuracy: 0.7262\n",
      "Epoch 306/500\n",
      "23827/23827 [==============================] - 0s 15us/step - loss: 0.5385 - accuracy: 0.7347 - val_loss: 0.5568 - val_accuracy: 0.7260\n",
      "Epoch 307/500\n",
      "23827/23827 [==============================] - 0s 15us/step - loss: 0.5385 - accuracy: 0.7342 - val_loss: 0.5584 - val_accuracy: 0.7253\n",
      "Epoch 308/500\n",
      "23827/23827 [==============================] - 0s 15us/step - loss: 0.5385 - accuracy: 0.7353 - val_loss: 0.5543 - val_accuracy: 0.7259\n",
      "Epoch 309/500\n",
      "23827/23827 [==============================] - 0s 15us/step - loss: 0.5384 - accuracy: 0.7349 - val_loss: 0.5553 - val_accuracy: 0.7258\n",
      "Epoch 310/500\n",
      "23827/23827 [==============================] - 0s 15us/step - loss: 0.5384 - accuracy: 0.7348 - val_loss: 0.5576 - val_accuracy: 0.7255\n",
      "Epoch 311/500\n",
      "23827/23827 [==============================] - 0s 15us/step - loss: 0.5383 - accuracy: 0.7343 - val_loss: 0.5577 - val_accuracy: 0.7254\n",
      "Epoch 312/500\n",
      "23827/23827 [==============================] - 0s 15us/step - loss: 0.5383 - accuracy: 0.7346 - val_loss: 0.5583 - val_accuracy: 0.7256\n",
      "Epoch 313/500\n",
      "23827/23827 [==============================] - 0s 15us/step - loss: 0.5383 - accuracy: 0.7354 - val_loss: 0.5558 - val_accuracy: 0.7264\n",
      "Epoch 314/500\n",
      "23827/23827 [==============================] - 0s 15us/step - loss: 0.5383 - accuracy: 0.7350 - val_loss: 0.5539 - val_accuracy: 0.7262\n",
      "Epoch 315/500\n",
      "23827/23827 [==============================] - 0s 15us/step - loss: 0.5382 - accuracy: 0.7353 - val_loss: 0.5573 - val_accuracy: 0.7257\n",
      "Epoch 316/500\n",
      "23827/23827 [==============================] - 0s 15us/step - loss: 0.5382 - accuracy: 0.7350 - val_loss: 0.5578 - val_accuracy: 0.7250\n",
      "Epoch 317/500\n",
      "23827/23827 [==============================] - 0s 15us/step - loss: 0.5382 - accuracy: 0.7355 - val_loss: 0.5541 - val_accuracy: 0.7265\n",
      "Epoch 318/500\n",
      "23827/23827 [==============================] - 0s 16us/step - loss: 0.5381 - accuracy: 0.7349 - val_loss: 0.5574 - val_accuracy: 0.7257\n",
      "Epoch 319/500\n",
      "23827/23827 [==============================] - 0s 17us/step - loss: 0.5380 - accuracy: 0.7350 - val_loss: 0.5577 - val_accuracy: 0.7253\n",
      "Epoch 320/500\n",
      "23827/23827 [==============================] - 0s 17us/step - loss: 0.5381 - accuracy: 0.7356 - val_loss: 0.5563 - val_accuracy: 0.7265\n",
      "Epoch 321/500\n",
      "23827/23827 [==============================] - 0s 16us/step - loss: 0.5381 - accuracy: 0.7350 - val_loss: 0.5577 - val_accuracy: 0.7249\n",
      "Epoch 322/500\n",
      "23827/23827 [==============================] - 0s 16us/step - loss: 0.5380 - accuracy: 0.7349 - val_loss: 0.5544 - val_accuracy: 0.7262\n",
      "Epoch 323/500\n",
      "23827/23827 [==============================] - 0s 17us/step - loss: 0.5380 - accuracy: 0.7350 - val_loss: 0.5550 - val_accuracy: 0.7262\n",
      "Epoch 324/500\n",
      "23827/23827 [==============================] - 0s 18us/step - loss: 0.5379 - accuracy: 0.7361 - val_loss: 0.5519 - val_accuracy: 0.7262\n",
      "Epoch 325/500\n",
      "23827/23827 [==============================] - 0s 15us/step - loss: 0.5380 - accuracy: 0.7348 - val_loss: 0.5545 - val_accuracy: 0.7262\n",
      "Epoch 326/500\n",
      "23827/23827 [==============================] - 0s 15us/step - loss: 0.5379 - accuracy: 0.7356 - val_loss: 0.5559 - val_accuracy: 0.7262\n",
      "Epoch 327/500\n",
      "23827/23827 [==============================] - 0s 17us/step - loss: 0.5379 - accuracy: 0.7354 - val_loss: 0.5582 - val_accuracy: 0.7257\n",
      "Epoch 328/500\n",
      "23827/23827 [==============================] - 0s 15us/step - loss: 0.5379 - accuracy: 0.7361 - val_loss: 0.5555 - val_accuracy: 0.7263\n"
     ]
    },
    {
     "name": "stdout",
     "output_type": "stream",
     "text": [
      "Epoch 329/500\n",
      "23827/23827 [==============================] - 0s 17us/step - loss: 0.5378 - accuracy: 0.7346 - val_loss: 0.5561 - val_accuracy: 0.7265\n",
      "Epoch 330/500\n",
      "23827/23827 [==============================] - 0s 16us/step - loss: 0.5378 - accuracy: 0.7351 - val_loss: 0.5578 - val_accuracy: 0.7257\n",
      "Epoch 331/500\n",
      "23827/23827 [==============================] - 0s 17us/step - loss: 0.5378 - accuracy: 0.7355 - val_loss: 0.5534 - val_accuracy: 0.7263\n",
      "Epoch 332/500\n",
      "23827/23827 [==============================] - 0s 15us/step - loss: 0.5377 - accuracy: 0.7348 - val_loss: 0.5548 - val_accuracy: 0.7263\n",
      "Epoch 333/500\n",
      "23827/23827 [==============================] - 0s 15us/step - loss: 0.5378 - accuracy: 0.7347 - val_loss: 0.5578 - val_accuracy: 0.7257\n",
      "Epoch 334/500\n",
      "23827/23827 [==============================] - 0s 15us/step - loss: 0.5377 - accuracy: 0.7355 - val_loss: 0.5599 - val_accuracy: 0.7262\n",
      "Epoch 335/500\n",
      "23827/23827 [==============================] - 0s 15us/step - loss: 0.5377 - accuracy: 0.7356 - val_loss: 0.5603 - val_accuracy: 0.7257\n",
      "Epoch 336/500\n",
      "23827/23827 [==============================] - 0s 15us/step - loss: 0.5377 - accuracy: 0.7353 - val_loss: 0.5559 - val_accuracy: 0.7259\n",
      "Epoch 337/500\n",
      "23827/23827 [==============================] - 0s 15us/step - loss: 0.5377 - accuracy: 0.7353 - val_loss: 0.5563 - val_accuracy: 0.7264\n",
      "Epoch 338/500\n",
      "23827/23827 [==============================] - 0s 16us/step - loss: 0.5376 - accuracy: 0.7361 - val_loss: 0.5582 - val_accuracy: 0.7258\n",
      "Epoch 339/500\n",
      "23827/23827 [==============================] - 0s 15us/step - loss: 0.5376 - accuracy: 0.7360 - val_loss: 0.5544 - val_accuracy: 0.7262\n",
      "Epoch 340/500\n",
      "23827/23827 [==============================] - 0s 15us/step - loss: 0.5376 - accuracy: 0.7353 - val_loss: 0.5533 - val_accuracy: 0.7257\n",
      "Epoch 341/500\n",
      "23827/23827 [==============================] - 0s 16us/step - loss: 0.5376 - accuracy: 0.7353 - val_loss: 0.5548 - val_accuracy: 0.7264\n",
      "Epoch 342/500\n",
      "23827/23827 [==============================] - 0s 15us/step - loss: 0.5375 - accuracy: 0.7353 - val_loss: 0.5559 - val_accuracy: 0.7267\n",
      "Epoch 343/500\n",
      "23827/23827 [==============================] - 0s 16us/step - loss: 0.5375 - accuracy: 0.7355 - val_loss: 0.5563 - val_accuracy: 0.7267\n",
      "Epoch 344/500\n",
      "23827/23827 [==============================] - 0s 16us/step - loss: 0.5375 - accuracy: 0.7352 - val_loss: 0.5554 - val_accuracy: 0.7263\n",
      "Epoch 345/500\n",
      "23827/23827 [==============================] - 0s 15us/step - loss: 0.5374 - accuracy: 0.7350 - val_loss: 0.5525 - val_accuracy: 0.7256\n",
      "Epoch 346/500\n",
      "23827/23827 [==============================] - 0s 16us/step - loss: 0.5375 - accuracy: 0.7353 - val_loss: 0.5550 - val_accuracy: 0.7259\n",
      "Epoch 347/500\n",
      "23827/23827 [==============================] - 0s 16us/step - loss: 0.5374 - accuracy: 0.7355 - val_loss: 0.5551 - val_accuracy: 0.7256\n",
      "Epoch 348/500\n",
      "23827/23827 [==============================] - 0s 15us/step - loss: 0.5374 - accuracy: 0.7352 - val_loss: 0.5533 - val_accuracy: 0.7262\n",
      "Epoch 349/500\n",
      "23827/23827 [==============================] - 0s 16us/step - loss: 0.5374 - accuracy: 0.7349 - val_loss: 0.5552 - val_accuracy: 0.7260\n",
      "Epoch 350/500\n",
      "23827/23827 [==============================] - 0s 15us/step - loss: 0.5374 - accuracy: 0.7354 - val_loss: 0.5547 - val_accuracy: 0.7265\n",
      "Epoch 351/500\n",
      "23827/23827 [==============================] - 0s 16us/step - loss: 0.5373 - accuracy: 0.7353 - val_loss: 0.5550 - val_accuracy: 0.7258\n",
      "Epoch 352/500\n",
      "23827/23827 [==============================] - 0s 16us/step - loss: 0.5373 - accuracy: 0.7353 - val_loss: 0.5602 - val_accuracy: 0.7253\n",
      "Epoch 353/500\n",
      "23827/23827 [==============================] - 0s 15us/step - loss: 0.5373 - accuracy: 0.7356 - val_loss: 0.5526 - val_accuracy: 0.7263\n",
      "Epoch 354/500\n",
      "23827/23827 [==============================] - 0s 16us/step - loss: 0.5372 - accuracy: 0.7355 - val_loss: 0.5599 - val_accuracy: 0.7250\n",
      "Epoch 355/500\n",
      "23827/23827 [==============================] - 0s 15us/step - loss: 0.5372 - accuracy: 0.7358 - val_loss: 0.5557 - val_accuracy: 0.7264\n",
      "Epoch 356/500\n",
      "23827/23827 [==============================] - 0s 15us/step - loss: 0.5372 - accuracy: 0.7353 - val_loss: 0.5590 - val_accuracy: 0.7262\n",
      "Epoch 357/500\n",
      "23827/23827 [==============================] - 0s 16us/step - loss: 0.5372 - accuracy: 0.7358 - val_loss: 0.5562 - val_accuracy: 0.7269\n",
      "Epoch 358/500\n",
      "23827/23827 [==============================] - 0s 15us/step - loss: 0.5372 - accuracy: 0.7356 - val_loss: 0.5556 - val_accuracy: 0.7264\n",
      "Epoch 359/500\n",
      "23827/23827 [==============================] - 0s 15us/step - loss: 0.5372 - accuracy: 0.7354 - val_loss: 0.5573 - val_accuracy: 0.7258\n",
      "Epoch 360/500\n",
      "23827/23827 [==============================] - 0s 15us/step - loss: 0.5371 - accuracy: 0.7357 - val_loss: 0.5555 - val_accuracy: 0.7263\n",
      "Epoch 361/500\n",
      "23827/23827 [==============================] - 0s 15us/step - loss: 0.5371 - accuracy: 0.7357 - val_loss: 0.5581 - val_accuracy: 0.7263\n",
      "Epoch 362/500\n",
      "23827/23827 [==============================] - 0s 15us/step - loss: 0.5371 - accuracy: 0.7365 - val_loss: 0.5583 - val_accuracy: 0.7264\n",
      "Epoch 363/500\n",
      "23827/23827 [==============================] - 0s 15us/step - loss: 0.5371 - accuracy: 0.7357 - val_loss: 0.5558 - val_accuracy: 0.7263\n",
      "Epoch 364/500\n",
      "23827/23827 [==============================] - 0s 15us/step - loss: 0.5370 - accuracy: 0.7356 - val_loss: 0.5609 - val_accuracy: 0.7250\n",
      "Epoch 365/500\n",
      "23827/23827 [==============================] - 0s 15us/step - loss: 0.5370 - accuracy: 0.7362 - val_loss: 0.5549 - val_accuracy: 0.7264\n",
      "Epoch 366/500\n",
      "23827/23827 [==============================] - 0s 15us/step - loss: 0.5370 - accuracy: 0.7359 - val_loss: 0.5557 - val_accuracy: 0.7264\n",
      "Epoch 367/500\n",
      "23827/23827 [==============================] - 0s 15us/step - loss: 0.5370 - accuracy: 0.7364 - val_loss: 0.5571 - val_accuracy: 0.7260\n",
      "Epoch 368/500\n",
      "23827/23827 [==============================] - 0s 15us/step - loss: 0.5370 - accuracy: 0.7359 - val_loss: 0.5581 - val_accuracy: 0.7263\n",
      "Epoch 369/500\n",
      "23827/23827 [==============================] - 0s 15us/step - loss: 0.5370 - accuracy: 0.7358 - val_loss: 0.5574 - val_accuracy: 0.7260\n",
      "Epoch 370/500\n",
      "23827/23827 [==============================] - 0s 16us/step - loss: 0.5369 - accuracy: 0.7358 - val_loss: 0.5607 - val_accuracy: 0.7248\n",
      "Epoch 371/500\n",
      "23827/23827 [==============================] - 0s 16us/step - loss: 0.5369 - accuracy: 0.7355 - val_loss: 0.5563 - val_accuracy: 0.7265\n",
      "Epoch 372/500\n",
      "23827/23827 [==============================] - 0s 15us/step - loss: 0.5369 - accuracy: 0.7366 - val_loss: 0.5556 - val_accuracy: 0.7264\n",
      "Epoch 373/500\n",
      "23827/23827 [==============================] - 0s 16us/step - loss: 0.5369 - accuracy: 0.7359 - val_loss: 0.5567 - val_accuracy: 0.7268\n",
      "Epoch 374/500\n",
      "23827/23827 [==============================] - 0s 15us/step - loss: 0.5369 - accuracy: 0.7354 - val_loss: 0.5593 - val_accuracy: 0.7266\n",
      "Epoch 375/500\n",
      "23827/23827 [==============================] - 0s 15us/step - loss: 0.5369 - accuracy: 0.7361 - val_loss: 0.5539 - val_accuracy: 0.7264\n",
      "Epoch 376/500\n",
      "23827/23827 [==============================] - 0s 15us/step - loss: 0.5368 - accuracy: 0.7349 - val_loss: 0.5593 - val_accuracy: 0.7265\n",
      "Epoch 377/500\n",
      "23827/23827 [==============================] - 0s 15us/step - loss: 0.5368 - accuracy: 0.7361 - val_loss: 0.5592 - val_accuracy: 0.7265\n",
      "Epoch 378/500\n",
      "23827/23827 [==============================] - 0s 15us/step - loss: 0.5369 - accuracy: 0.7351 - val_loss: 0.5559 - val_accuracy: 0.7257\n",
      "Epoch 379/500\n",
      "23827/23827 [==============================] - 0s 15us/step - loss: 0.5368 - accuracy: 0.7359 - val_loss: 0.5583 - val_accuracy: 0.7264\n",
      "Epoch 380/500\n",
      "23827/23827 [==============================] - 0s 15us/step - loss: 0.5368 - accuracy: 0.7351 - val_loss: 0.5574 - val_accuracy: 0.7260\n",
      "Epoch 381/500\n",
      "23827/23827 [==============================] - 0s 15us/step - loss: 0.5368 - accuracy: 0.7358 - val_loss: 0.5586 - val_accuracy: 0.7263\n",
      "Epoch 382/500\n",
      "23827/23827 [==============================] - 0s 15us/step - loss: 0.5367 - accuracy: 0.7366 - val_loss: 0.5560 - val_accuracy: 0.7260\n",
      "Epoch 383/500\n"
     ]
    },
    {
     "name": "stdout",
     "output_type": "stream",
     "text": [
      "23827/23827 [==============================] - 0s 15us/step - loss: 0.5368 - accuracy: 0.7359 - val_loss: 0.5596 - val_accuracy: 0.7264\n",
      "Epoch 384/500\n",
      "23827/23827 [==============================] - 0s 15us/step - loss: 0.5367 - accuracy: 0.7354 - val_loss: 0.5565 - val_accuracy: 0.7266\n",
      "Epoch 385/500\n",
      "23827/23827 [==============================] - 0s 17us/step - loss: 0.5367 - accuracy: 0.7356 - val_loss: 0.5540 - val_accuracy: 0.7259\n",
      "Epoch 386/500\n",
      "23827/23827 [==============================] - 0s 15us/step - loss: 0.5367 - accuracy: 0.7355 - val_loss: 0.5553 - val_accuracy: 0.7263\n",
      "Epoch 387/500\n",
      "23827/23827 [==============================] - 0s 15us/step - loss: 0.5367 - accuracy: 0.7349 - val_loss: 0.5579 - val_accuracy: 0.7259\n",
      "Epoch 388/500\n",
      "23827/23827 [==============================] - 0s 15us/step - loss: 0.5366 - accuracy: 0.7355 - val_loss: 0.5577 - val_accuracy: 0.7258\n",
      "Epoch 389/500\n",
      "23827/23827 [==============================] - 0s 15us/step - loss: 0.5366 - accuracy: 0.7364 - val_loss: 0.5600 - val_accuracy: 0.7258\n",
      "Epoch 390/500\n",
      "23827/23827 [==============================] - 0s 15us/step - loss: 0.5366 - accuracy: 0.7365 - val_loss: 0.5578 - val_accuracy: 0.7260\n",
      "Epoch 391/500\n",
      "23827/23827 [==============================] - 0s 15us/step - loss: 0.5366 - accuracy: 0.7356 - val_loss: 0.5581 - val_accuracy: 0.7258\n",
      "Epoch 392/500\n",
      "23827/23827 [==============================] - 0s 15us/step - loss: 0.5366 - accuracy: 0.7354 - val_loss: 0.5603 - val_accuracy: 0.7255\n",
      "Epoch 393/500\n",
      "23827/23827 [==============================] - 0s 15us/step - loss: 0.5366 - accuracy: 0.7361 - val_loss: 0.5569 - val_accuracy: 0.7264\n",
      "Epoch 394/500\n",
      "23827/23827 [==============================] - 0s 15us/step - loss: 0.5366 - accuracy: 0.7356 - val_loss: 0.5563 - val_accuracy: 0.7266\n",
      "Epoch 395/500\n",
      "23827/23827 [==============================] - 0s 15us/step - loss: 0.5365 - accuracy: 0.7354 - val_loss: 0.5603 - val_accuracy: 0.7263\n",
      "Epoch 396/500\n",
      "23827/23827 [==============================] - 0s 15us/step - loss: 0.5365 - accuracy: 0.7362 - val_loss: 0.5556 - val_accuracy: 0.7265\n",
      "Epoch 397/500\n",
      "23827/23827 [==============================] - 0s 15us/step - loss: 0.5364 - accuracy: 0.7365 - val_loss: 0.5608 - val_accuracy: 0.7254\n",
      "Epoch 398/500\n",
      "23827/23827 [==============================] - 0s 15us/step - loss: 0.5365 - accuracy: 0.7365 - val_loss: 0.5590 - val_accuracy: 0.7264\n",
      "Epoch 399/500\n",
      "23827/23827 [==============================] - 0s 16us/step - loss: 0.5365 - accuracy: 0.7363 - val_loss: 0.5559 - val_accuracy: 0.7262\n",
      "Epoch 400/500\n",
      "23827/23827 [==============================] - 0s 17us/step - loss: 0.5365 - accuracy: 0.7367 - val_loss: 0.5576 - val_accuracy: 0.7263\n",
      "Epoch 401/500\n",
      "23827/23827 [==============================] - 1s 22us/step - loss: 0.5364 - accuracy: 0.7358 - val_loss: 0.5599 - val_accuracy: 0.7263\n",
      "Epoch 402/500\n",
      "23827/23827 [==============================] - 0s 20us/step - loss: 0.5365 - accuracy: 0.7358 - val_loss: 0.5568 - val_accuracy: 0.7266\n",
      "Epoch 403/500\n",
      "23827/23827 [==============================] - 0s 16us/step - loss: 0.5364 - accuracy: 0.7364 - val_loss: 0.5556 - val_accuracy: 0.7260\n",
      "Epoch 404/500\n",
      "23827/23827 [==============================] - 0s 15us/step - loss: 0.5364 - accuracy: 0.7358 - val_loss: 0.5576 - val_accuracy: 0.7260\n",
      "Epoch 405/500\n",
      "23827/23827 [==============================] - 0s 15us/step - loss: 0.5363 - accuracy: 0.7351 - val_loss: 0.5597 - val_accuracy: 0.7264\n",
      "Epoch 406/500\n",
      "23827/23827 [==============================] - 0s 15us/step - loss: 0.5364 - accuracy: 0.7360 - val_loss: 0.5604 - val_accuracy: 0.7260\n",
      "Epoch 407/500\n",
      "23827/23827 [==============================] - 0s 15us/step - loss: 0.5363 - accuracy: 0.7361 - val_loss: 0.5598 - val_accuracy: 0.7264\n",
      "Epoch 408/500\n",
      "23827/23827 [==============================] - 0s 15us/step - loss: 0.5364 - accuracy: 0.7361 - val_loss: 0.5588 - val_accuracy: 0.7258\n",
      "Epoch 409/500\n",
      "23827/23827 [==============================] - 0s 17us/step - loss: 0.5364 - accuracy: 0.7354 - val_loss: 0.5564 - val_accuracy: 0.7268\n",
      "Epoch 410/500\n",
      "23827/23827 [==============================] - 0s 17us/step - loss: 0.5363 - accuracy: 0.7351 - val_loss: 0.5564 - val_accuracy: 0.7267\n",
      "Epoch 411/500\n",
      "23827/23827 [==============================] - 0s 16us/step - loss: 0.5363 - accuracy: 0.7361 - val_loss: 0.5542 - val_accuracy: 0.7265\n",
      "Epoch 412/500\n",
      "23827/23827 [==============================] - 0s 17us/step - loss: 0.5363 - accuracy: 0.7359 - val_loss: 0.5572 - val_accuracy: 0.7258\n",
      "Epoch 413/500\n",
      "23827/23827 [==============================] - 0s 18us/step - loss: 0.5363 - accuracy: 0.7361 - val_loss: 0.5548 - val_accuracy: 0.7257\n",
      "Epoch 414/500\n",
      "23827/23827 [==============================] - 0s 16us/step - loss: 0.5363 - accuracy: 0.7363 - val_loss: 0.5582 - val_accuracy: 0.7257\n",
      "Epoch 415/500\n",
      "23827/23827 [==============================] - 0s 16us/step - loss: 0.5363 - accuracy: 0.7359 - val_loss: 0.5607 - val_accuracy: 0.7257\n",
      "Epoch 416/500\n",
      "23827/23827 [==============================] - 0s 15us/step - loss: 0.5363 - accuracy: 0.7362 - val_loss: 0.5562 - val_accuracy: 0.7267\n",
      "Epoch 417/500\n",
      "23827/23827 [==============================] - 0s 16us/step - loss: 0.5363 - accuracy: 0.7356 - val_loss: 0.5585 - val_accuracy: 0.7255\n",
      "Epoch 418/500\n",
      "23827/23827 [==============================] - 0s 16us/step - loss: 0.5362 - accuracy: 0.7365 - val_loss: 0.5588 - val_accuracy: 0.7260\n",
      "Epoch 419/500\n",
      "23827/23827 [==============================] - 0s 16us/step - loss: 0.5362 - accuracy: 0.7354 - val_loss: 0.5597 - val_accuracy: 0.7260\n",
      "Epoch 420/500\n",
      "23827/23827 [==============================] - 0s 15us/step - loss: 0.5362 - accuracy: 0.7351 - val_loss: 0.5598 - val_accuracy: 0.7264\n",
      "Epoch 421/500\n",
      "23827/23827 [==============================] - 0s 16us/step - loss: 0.5362 - accuracy: 0.7358 - val_loss: 0.5550 - val_accuracy: 0.7258\n",
      "Epoch 422/500\n",
      "23827/23827 [==============================] - 0s 16us/step - loss: 0.5361 - accuracy: 0.7361 - val_loss: 0.5608 - val_accuracy: 0.7258\n",
      "Epoch 423/500\n",
      "23827/23827 [==============================] - 0s 15us/step - loss: 0.5362 - accuracy: 0.7358 - val_loss: 0.5549 - val_accuracy: 0.7262\n",
      "Epoch 424/500\n",
      "23827/23827 [==============================] - 0s 16us/step - loss: 0.5361 - accuracy: 0.7365 - val_loss: 0.5538 - val_accuracy: 0.7267\n",
      "Epoch 425/500\n",
      "23827/23827 [==============================] - 0s 15us/step - loss: 0.5362 - accuracy: 0.7355 - val_loss: 0.5584 - val_accuracy: 0.7258\n",
      "Epoch 426/500\n",
      "23827/23827 [==============================] - 0s 17us/step - loss: 0.5361 - accuracy: 0.7357 - val_loss: 0.5573 - val_accuracy: 0.7260\n",
      "Epoch 427/500\n",
      "23827/23827 [==============================] - 0s 15us/step - loss: 0.5361 - accuracy: 0.7370 - val_loss: 0.5593 - val_accuracy: 0.7258\n",
      "Epoch 428/500\n",
      "23827/23827 [==============================] - 0s 15us/step - loss: 0.5361 - accuracy: 0.7357 - val_loss: 0.5566 - val_accuracy: 0.7266\n",
      "Epoch 429/500\n",
      "23827/23827 [==============================] - 0s 15us/step - loss: 0.5361 - accuracy: 0.7363 - val_loss: 0.5526 - val_accuracy: 0.7266\n",
      "Epoch 430/500\n",
      "23827/23827 [==============================] - 0s 15us/step - loss: 0.5360 - accuracy: 0.7356 - val_loss: 0.5558 - val_accuracy: 0.7270\n",
      "Epoch 431/500\n",
      "23827/23827 [==============================] - 0s 16us/step - loss: 0.5361 - accuracy: 0.7358 - val_loss: 0.5589 - val_accuracy: 0.7255\n",
      "Epoch 432/500\n",
      "23827/23827 [==============================] - 0s 15us/step - loss: 0.5361 - accuracy: 0.7353 - val_loss: 0.5581 - val_accuracy: 0.7258\n",
      "Epoch 433/500\n",
      "23827/23827 [==============================] - 0s 15us/step - loss: 0.5360 - accuracy: 0.7363 - val_loss: 0.5577 - val_accuracy: 0.7257\n",
      "Epoch 434/500\n",
      "23827/23827 [==============================] - 0s 16us/step - loss: 0.5361 - accuracy: 0.7367 - val_loss: 0.5559 - val_accuracy: 0.7266\n",
      "Epoch 435/500\n",
      "23827/23827 [==============================] - 0s 15us/step - loss: 0.5361 - accuracy: 0.7364 - val_loss: 0.5578 - val_accuracy: 0.7257\n",
      "Epoch 436/500\n",
      "23827/23827 [==============================] - 0s 15us/step - loss: 0.5360 - accuracy: 0.7358 - val_loss: 0.5613 - val_accuracy: 0.7247\n",
      "Epoch 437/500\n",
      "23827/23827 [==============================] - 0s 15us/step - loss: 0.5361 - accuracy: 0.7365 - val_loss: 0.5596 - val_accuracy: 0.7251\n"
     ]
    },
    {
     "name": "stdout",
     "output_type": "stream",
     "text": [
      "Epoch 438/500\n",
      "23827/23827 [==============================] - 0s 16us/step - loss: 0.5360 - accuracy: 0.7363 - val_loss: 0.5581 - val_accuracy: 0.7259\n",
      "Epoch 439/500\n",
      "23827/23827 [==============================] - 0s 15us/step - loss: 0.5359 - accuracy: 0.7361 - val_loss: 0.5554 - val_accuracy: 0.7269\n",
      "Epoch 440/500\n",
      "23827/23827 [==============================] - 0s 15us/step - loss: 0.5360 - accuracy: 0.7358 - val_loss: 0.5566 - val_accuracy: 0.7264\n",
      "Epoch 441/500\n",
      "23827/23827 [==============================] - 0s 15us/step - loss: 0.5359 - accuracy: 0.7355 - val_loss: 0.5605 - val_accuracy: 0.7253\n",
      "Epoch 442/500\n",
      "23827/23827 [==============================] - 0s 15us/step - loss: 0.5360 - accuracy: 0.7363 - val_loss: 0.5608 - val_accuracy: 0.7248\n",
      "Epoch 443/500\n",
      "23827/23827 [==============================] - 0s 15us/step - loss: 0.5360 - accuracy: 0.7360 - val_loss: 0.5580 - val_accuracy: 0.7259\n",
      "Epoch 444/500\n",
      "23827/23827 [==============================] - 0s 15us/step - loss: 0.5359 - accuracy: 0.7366 - val_loss: 0.5618 - val_accuracy: 0.7246\n",
      "Epoch 445/500\n",
      "23827/23827 [==============================] - 0s 15us/step - loss: 0.5359 - accuracy: 0.7361 - val_loss: 0.5561 - val_accuracy: 0.7266\n",
      "Epoch 446/500\n",
      "23827/23827 [==============================] - 0s 15us/step - loss: 0.5359 - accuracy: 0.7356 - val_loss: 0.5617 - val_accuracy: 0.7246\n",
      "Epoch 447/500\n",
      "23827/23827 [==============================] - 0s 15us/step - loss: 0.5359 - accuracy: 0.7363 - val_loss: 0.5552 - val_accuracy: 0.7267\n",
      "Epoch 448/500\n",
      "23827/23827 [==============================] - 0s 15us/step - loss: 0.5359 - accuracy: 0.7363 - val_loss: 0.5576 - val_accuracy: 0.7259\n",
      "Epoch 449/500\n",
      "23827/23827 [==============================] - 0s 15us/step - loss: 0.5359 - accuracy: 0.7361 - val_loss: 0.5578 - val_accuracy: 0.7260\n",
      "Epoch 450/500\n",
      "23827/23827 [==============================] - 0s 15us/step - loss: 0.5359 - accuracy: 0.7360 - val_loss: 0.5573 - val_accuracy: 0.7260\n",
      "Epoch 451/500\n",
      "23827/23827 [==============================] - 0s 16us/step - loss: 0.5358 - accuracy: 0.7363 - val_loss: 0.5605 - val_accuracy: 0.7250\n",
      "Epoch 452/500\n",
      "23827/23827 [==============================] - 0s 16us/step - loss: 0.5358 - accuracy: 0.7359 - val_loss: 0.5600 - val_accuracy: 0.7253\n",
      "Epoch 453/500\n",
      "23827/23827 [==============================] - 0s 15us/step - loss: 0.5358 - accuracy: 0.7366 - val_loss: 0.5608 - val_accuracy: 0.7248\n",
      "Epoch 454/500\n",
      "23827/23827 [==============================] - 0s 15us/step - loss: 0.5358 - accuracy: 0.7365 - val_loss: 0.5634 - val_accuracy: 0.7250\n",
      "Epoch 455/500\n",
      "23827/23827 [==============================] - 0s 15us/step - loss: 0.5358 - accuracy: 0.7366 - val_loss: 0.5556 - val_accuracy: 0.7269\n",
      "Epoch 456/500\n",
      "23827/23827 [==============================] - 0s 15us/step - loss: 0.5359 - accuracy: 0.7363 - val_loss: 0.5576 - val_accuracy: 0.7263\n",
      "Epoch 457/500\n",
      "23827/23827 [==============================] - 0s 15us/step - loss: 0.5358 - accuracy: 0.7363 - val_loss: 0.5596 - val_accuracy: 0.7247\n",
      "Epoch 458/500\n",
      "23827/23827 [==============================] - 0s 15us/step - loss: 0.5358 - accuracy: 0.7366 - val_loss: 0.5553 - val_accuracy: 0.7268\n",
      "Epoch 459/500\n",
      "23827/23827 [==============================] - 0s 15us/step - loss: 0.5358 - accuracy: 0.7361 - val_loss: 0.5585 - val_accuracy: 0.7262\n",
      "Epoch 460/500\n",
      "23827/23827 [==============================] - 0s 16us/step - loss: 0.5358 - accuracy: 0.7360 - val_loss: 0.5571 - val_accuracy: 0.7263\n",
      "Epoch 461/500\n",
      "23827/23827 [==============================] - 0s 18us/step - loss: 0.5358 - accuracy: 0.7357 - val_loss: 0.5576 - val_accuracy: 0.7260\n",
      "Epoch 462/500\n",
      "23827/23827 [==============================] - 0s 21us/step - loss: 0.5357 - accuracy: 0.7368 - val_loss: 0.5595 - val_accuracy: 0.7247\n",
      "Epoch 463/500\n",
      "23827/23827 [==============================] - 0s 18us/step - loss: 0.5357 - accuracy: 0.7362 - val_loss: 0.5555 - val_accuracy: 0.7266\n",
      "Epoch 464/500\n",
      "23827/23827 [==============================] - 0s 18us/step - loss: 0.5357 - accuracy: 0.7354 - val_loss: 0.5566 - val_accuracy: 0.7262\n",
      "Epoch 465/500\n",
      "23827/23827 [==============================] - 0s 16us/step - loss: 0.5357 - accuracy: 0.7363 - val_loss: 0.5579 - val_accuracy: 0.7256\n",
      "Epoch 466/500\n",
      "23827/23827 [==============================] - 0s 16us/step - loss: 0.5357 - accuracy: 0.7362 - val_loss: 0.5596 - val_accuracy: 0.7253\n",
      "Epoch 467/500\n",
      "23827/23827 [==============================] - 0s 16us/step - loss: 0.5357 - accuracy: 0.7361 - val_loss: 0.5566 - val_accuracy: 0.7264\n",
      "Epoch 468/500\n",
      "23827/23827 [==============================] - 0s 17us/step - loss: 0.5356 - accuracy: 0.7364 - val_loss: 0.5651 - val_accuracy: 0.7239\n",
      "Epoch 469/500\n",
      "23827/23827 [==============================] - 0s 16us/step - loss: 0.5358 - accuracy: 0.7364 - val_loss: 0.5591 - val_accuracy: 0.7251\n",
      "Epoch 470/500\n",
      "23827/23827 [==============================] - 0s 16us/step - loss: 0.5357 - accuracy: 0.7361 - val_loss: 0.5647 - val_accuracy: 0.7245\n",
      "Epoch 471/500\n",
      "23827/23827 [==============================] - 0s 15us/step - loss: 0.5358 - accuracy: 0.7365 - val_loss: 0.5587 - val_accuracy: 0.7253\n",
      "Epoch 472/500\n",
      "23827/23827 [==============================] - 0s 15us/step - loss: 0.5356 - accuracy: 0.7365 - val_loss: 0.5579 - val_accuracy: 0.7263\n",
      "Epoch 473/500\n",
      "23827/23827 [==============================] - 0s 15us/step - loss: 0.5357 - accuracy: 0.7361 - val_loss: 0.5585 - val_accuracy: 0.7259\n",
      "Epoch 474/500\n",
      "23827/23827 [==============================] - 0s 16us/step - loss: 0.5357 - accuracy: 0.7363 - val_loss: 0.5552 - val_accuracy: 0.7268\n",
      "Epoch 475/500\n",
      "23827/23827 [==============================] - 0s 15us/step - loss: 0.5356 - accuracy: 0.7363 - val_loss: 0.5570 - val_accuracy: 0.7260\n",
      "Epoch 476/500\n",
      "23827/23827 [==============================] - 0s 16us/step - loss: 0.5356 - accuracy: 0.7363 - val_loss: 0.5590 - val_accuracy: 0.7249\n",
      "Epoch 477/500\n",
      "23827/23827 [==============================] - 0s 16us/step - loss: 0.5357 - accuracy: 0.7358 - val_loss: 0.5581 - val_accuracy: 0.7262\n",
      "Epoch 478/500\n",
      "23827/23827 [==============================] - 0s 17us/step - loss: 0.5357 - accuracy: 0.7357 - val_loss: 0.5592 - val_accuracy: 0.7247\n",
      "Epoch 479/500\n",
      "23827/23827 [==============================] - 0s 16us/step - loss: 0.5356 - accuracy: 0.7364 - val_loss: 0.5558 - val_accuracy: 0.7267\n",
      "Epoch 480/500\n",
      "23827/23827 [==============================] - 0s 16us/step - loss: 0.5356 - accuracy: 0.7363 - val_loss: 0.5601 - val_accuracy: 0.7247\n",
      "Epoch 481/500\n",
      "23827/23827 [==============================] - 0s 15us/step - loss: 0.5356 - accuracy: 0.7367 - val_loss: 0.5565 - val_accuracy: 0.7263\n",
      "Epoch 482/500\n",
      "23827/23827 [==============================] - 0s 15us/step - loss: 0.5356 - accuracy: 0.7370 - val_loss: 0.5547 - val_accuracy: 0.7270\n",
      "Epoch 483/500\n",
      "23827/23827 [==============================] - 0s 15us/step - loss: 0.5356 - accuracy: 0.7363 - val_loss: 0.5564 - val_accuracy: 0.7264\n",
      "Epoch 484/500\n",
      "23827/23827 [==============================] - 0s 16us/step - loss: 0.5355 - accuracy: 0.7370 - val_loss: 0.5585 - val_accuracy: 0.7255\n",
      "Epoch 485/500\n",
      "23827/23827 [==============================] - 0s 18us/step - loss: 0.5356 - accuracy: 0.7365 - val_loss: 0.5590 - val_accuracy: 0.7251\n",
      "Epoch 486/500\n",
      "23827/23827 [==============================] - 0s 17us/step - loss: 0.5356 - accuracy: 0.7362 - val_loss: 0.5575 - val_accuracy: 0.7259\n",
      "Epoch 487/500\n",
      "23827/23827 [==============================] - 0s 15us/step - loss: 0.5356 - accuracy: 0.7363 - val_loss: 0.5595 - val_accuracy: 0.7251\n",
      "Epoch 488/500\n",
      "23827/23827 [==============================] - 0s 15us/step - loss: 0.5356 - accuracy: 0.7362 - val_loss: 0.5590 - val_accuracy: 0.7248\n",
      "Epoch 489/500\n",
      "23827/23827 [==============================] - 0s 15us/step - loss: 0.5356 - accuracy: 0.7363 - val_loss: 0.5579 - val_accuracy: 0.7264\n",
      "Epoch 490/500\n",
      "23827/23827 [==============================] - 0s 16us/step - loss: 0.5355 - accuracy: 0.7365 - val_loss: 0.5638 - val_accuracy: 0.7254\n",
      "Epoch 491/500\n",
      "23827/23827 [==============================] - 0s 18us/step - loss: 0.5356 - accuracy: 0.7363 - val_loss: 0.5571 - val_accuracy: 0.7263\n",
      "Epoch 492/500\n"
     ]
    },
    {
     "name": "stdout",
     "output_type": "stream",
     "text": [
      "23827/23827 [==============================] - 0s 16us/step - loss: 0.5355 - accuracy: 0.7365 - val_loss: 0.5585 - val_accuracy: 0.7256\n",
      "Epoch 493/500\n",
      "23827/23827 [==============================] - 0s 17us/step - loss: 0.5354 - accuracy: 0.7364 - val_loss: 0.5595 - val_accuracy: 0.7249\n",
      "Epoch 494/500\n",
      "23827/23827 [==============================] - 0s 15us/step - loss: 0.5355 - accuracy: 0.7367 - val_loss: 0.5567 - val_accuracy: 0.7264\n",
      "Epoch 495/500\n",
      "23827/23827 [==============================] - 0s 15us/step - loss: 0.5355 - accuracy: 0.7363 - val_loss: 0.5599 - val_accuracy: 0.7247\n",
      "Epoch 496/500\n",
      "23827/23827 [==============================] - 0s 15us/step - loss: 0.5354 - accuracy: 0.7365 - val_loss: 0.5644 - val_accuracy: 0.7255\n",
      "Epoch 497/500\n",
      "23827/23827 [==============================] - 0s 15us/step - loss: 0.5355 - accuracy: 0.7356 - val_loss: 0.5547 - val_accuracy: 0.7270\n",
      "Epoch 498/500\n",
      "23827/23827 [==============================] - 0s 15us/step - loss: 0.5355 - accuracy: 0.7361 - val_loss: 0.5593 - val_accuracy: 0.7251\n",
      "Epoch 499/500\n",
      "23827/23827 [==============================] - 0s 16us/step - loss: 0.5354 - accuracy: 0.7363 - val_loss: 0.5586 - val_accuracy: 0.7255\n",
      "Epoch 500/500\n",
      "23827/23827 [==============================] - 0s 15us/step - loss: 0.5355 - accuracy: 0.7372 - val_loss: 0.5575 - val_accuracy: 0.7260\n"
     ]
    }
   ],
   "source": [
    "opt = optimizers.Adam(learning_rate=0.001, beta_1=0.9, beta_2=0.999, amsgrad=False)\n",
    "network.compile(optimizer='rmsprop',\n",
    "                loss='binary_crossentropy',\n",
    "                metrics=['accuracy'])\n",
    "\n",
    "epochs = 500\n",
    "history = network.fit(nn_train_x, \n",
    "                      train_y, \n",
    "                      epochs=epochs, \n",
    "                      batch_size=128, \n",
    "                      validation_data=(nn_test_x, test_y))"
   ]
  },
  {
   "cell_type": "code",
   "execution_count": 84,
   "metadata": {},
   "outputs": [
    {
     "data": {
      "image/png": "[encoded data removed]",
      "text/plain": [
       "<Figure size 432x288 with 1 Axes>"
      ]
     },
     "metadata": {
      "needs_background": "light"
     },
     "output_type": "display_data"
    }
   ],
   "source": [
    "history_dict = history.history\n",
    "loss_values = history_dict['loss']\n",
    "test_loss_values = history_dict['val_loss']\n",
    "epochs_range = range(1, epochs + 1)\n",
    "plt.plot(epochs_range, loss_values, 'bo', label='Training loss')\n",
    "plt.plot(epochs_range, test_loss_values, 'ro', label='Test loss')\n",
    "plt.title('Training and test loss')\n",
    "plt.xlabel('Epochs')\n",
    "plt.ylabel('Loss')\n",
    "plt.legend()\n",
    "plt.show()"
   ]
  },
  {
   "cell_type": "code",
   "execution_count": 85,
   "metadata": {},
   "outputs": [
    {
     "data": {
      "image/png": "[encoded data removed]",
      "text/plain": [
       "<Figure size 432x288 with 1 Axes>"
      ]
     },
     "metadata": {
      "needs_background": "light"
     },
     "output_type": "display_data"
    }
   ],
   "source": [
    "acc_values = history_dict['accuracy']\n",
    "test_acc_values = history_dict['val_accuracy']\n",
    "plt.plot(epochs_range, acc_values, 'bo', label='Training accuracy')\n",
    "plt.plot(epochs_range, test_acc_values, 'ro', label='Test accuracy')\n",
    "plt.title('Training and test accuracy')\n",
    "plt.xlabel('Epochs')\n",
    "plt.ylabel('Accuracy')\n",
    "plt.legend()\n",
    "plt.show()"
   ]
  },
  {
   "cell_type": "code",
   "execution_count": 86,
   "metadata": {},
   "outputs": [
    {
     "name": "stdout",
     "output_type": "stream",
     "text": [
      "Correct: 6485 0.7260412001791312\n",
      "Pos: 5326 0.59628302731751\n",
      "Star Correct: 0 0.0\n",
      "True Positive: 4119 0.46115091804746977\n",
      "True Negative: 2366 0.26489028213166144\n",
      "False Positive: 1207 0.1351321092700403\n",
      "False Negative: 1240 0.13882669055082847\n"
     ]
    }
   ],
   "source": [
    "correct = 0\n",
    "pos_count = 0\n",
    "star_cor = 0\n",
    "matrix = [0, 0, 0, 0]\n",
    "preds = network.predict(nn_test_x)\n",
    "for i in range(len(test_y)):\n",
    "    if (preds[i] > 0.5):\n",
    "        pos_count += 1\n",
    "    if (preds[i] == test_y.iloc[i]):\n",
    "        star_cor += 1\n",
    "    if (preds[i] > 0.5 and test_y.iloc[i] > 0.5):\n",
    "        correct += 1\n",
    "        matrix[0] += 1\n",
    "    elif (preds[i] <= 0.5 and test_y.iloc[i] <= 0.5):\n",
    "        correct += 1\n",
    "        matrix[1] += 1\n",
    "    elif (preds[i] > 0.5 and test_y.iloc[i] <= 0.5):\n",
    "        matrix[2] += 1\n",
    "    elif (preds[i] <= 0.5 and test_y.iloc[i] > 0.5):\n",
    "        matrix[3] += 1\n",
    "\n",
    "print('Correct:', correct, correct / len(test_df))\n",
    "print('Pos:', pos_count, pos_count / len(test_df))\n",
    "print('Star Correct:', star_cor, star_cor / len(test_df))\n",
    "print('True Positive:', matrix[0], matrix[0] / len(test_df))\n",
    "print('True Negative:', matrix[1], matrix[1] / len(test_df))\n",
    "print('False Positive:', matrix[2], matrix[2] / len(test_df))\n",
    "print('False Negative:', matrix[3], matrix[3] / len(test_df))"
   ]
  },
  {
   "cell_type": "code",
   "execution_count": 87,
   "metadata": {},
   "outputs": [
    {
     "name": "stdout",
     "output_type": "stream",
     "text": [
      "Correct: 10546 0.6659930533628039\n",
      "Pos: 9387 0.5928007578149669\n",
      "Star Correct: 0 0.0\n",
      "True Positive: 8180 0.5165772023997474\n",
      "True Negative: 2366 0.1494158509630565\n",
      "False Positive: 1207 0.07622355541521945\n",
      "False Negative: 4082 0.25778339122197663\n"
     ]
    }
   ],
   "source": [
    "nn_test_x_2 = test_df_og.drop(drop_cols + ['positive'], axis=1)\n",
    "test_y_2 = test_df_og['positive']\n",
    "\n",
    "correct = 0\n",
    "pos_count = 0\n",
    "star_cor = 0\n",
    "matrix = [0, 0, 0, 0]\n",
    "preds = network.predict(nn_test_x_2)\n",
    "for i in range(len(test_y_2)):\n",
    "    if (preds[i] > 0.5):\n",
    "        pos_count += 1\n",
    "    if (preds[i] == test_y_2.iloc[i]):\n",
    "        star_cor += 1\n",
    "    if (preds[i] > 0.5 and test_y_2.iloc[i] > 0.5):\n",
    "        correct += 1\n",
    "        matrix[0] += 1\n",
    "    elif (preds[i] <= 0.5 and test_y_2.iloc[i] <= 0.5):\n",
    "        correct += 1\n",
    "        matrix[1] += 1\n",
    "    elif (preds[i] > 0.5 and test_y_2.iloc[i] <= 0.5):\n",
    "        matrix[2] += 1\n",
    "    elif (preds[i] <= 0.5 and test_y_2.iloc[i] > 0.5):\n",
    "        matrix[3] += 1\n",
    "\n",
    "print('Correct:', correct, correct / len(test_df_og))\n",
    "print('Pos:', pos_count, pos_count / len(test_df_og))\n",
    "print('Star Correct:', star_cor, star_cor / len(test_df_og))\n",
    "print('True Positive:', matrix[0], matrix[0] / len(test_df_og))\n",
    "print('True Negative:', matrix[1], matrix[1] / len(test_df_og))\n",
    "print('False Positive:', matrix[2], matrix[2] / len(test_df_og))\n",
    "print('False Negative:', matrix[3], matrix[3] / len(test_df_og))"
   ]
  },
  {
   "cell_type": "code",
   "execution_count": 88,
   "metadata": {},
   "outputs": [],
   "source": [
    "#network.save('basic_neural_net6.h5')"
   ]
  },
  {
   "cell_type": "code",
   "execution_count": null,
   "metadata": {},
   "outputs": [],
   "source": []
  }
 ],
 "metadata": {
  "kernelspec": {
   "display_name": "Python 3",
   "language": "python",
   "name": "python3"
  },
  "language_info": {
   "codemirror_mode": {
    "name": "ipython",
    "version": 3
   },
   "file_extension": ".py",
   "mimetype": "text/x-python",
   "name": "python",
   "nbconvert_exporter": "python",
   "pygments_lexer": "ipython3",
   "version": "3.7.6"
  }
 },
 "nbformat": 4,
 "nbformat_minor": 2
}
