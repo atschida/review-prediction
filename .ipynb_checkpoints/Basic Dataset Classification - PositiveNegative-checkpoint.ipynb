{
 "cells": [
  {
   "cell_type": "code",
   "execution_count": 1,
   "metadata": {},
   "outputs": [],
   "source": [
    "import pandas as pd\n",
    "from sklearn.ensemble import RandomForestClassifier"
   ]
  },
  {
   "cell_type": "code",
   "execution_count": 7,
   "metadata": {},
   "outputs": [
    {
     "data": {
      "text/html": [
       "<div>\n",
       "<style scoped>\n",
       "    .dataframe tbody tr th:only-of-type {\n",
       "        vertical-align: middle;\n",
       "    }\n",
       "\n",
       "    .dataframe tbody tr th {\n",
       "        vertical-align: top;\n",
       "    }\n",
       "\n",
       "    .dataframe thead th {\n",
       "        text-align: right;\n",
       "    }\n",
       "</style>\n",
       "<table border=\"1\" class=\"dataframe\">\n",
       "  <thead>\n",
       "    <tr style=\"text-align: right;\">\n",
       "      <th></th>\n",
       "      <th>customer_id</th>\n",
       "      <th>product_parent</th>\n",
       "      <th>('review_id', 'count')_x</th>\n",
       "      <th>('star_rating', 'mean')_x</th>\n",
       "      <th>('star_rating', 'std')_x</th>\n",
       "      <th>('total_votes', 'mean')_x</th>\n",
       "      <th>('total_votes', 'std')_x</th>\n",
       "      <th>('helpful_votes', 'mean')_x</th>\n",
       "      <th>('helpful_votes', 'std')_x</th>\n",
       "      <th>('review_id_y', 'count')</th>\n",
       "      <th>('star_rating_y', 'mean')</th>\n",
       "      <th>('star_rating_y', 'std')</th>\n",
       "      <th>('total_votes_y', 'mean')</th>\n",
       "      <th>('total_votes_y', 'std')</th>\n",
       "      <th>('helpful_votes_y', 'mean')</th>\n",
       "      <th>('helpful_votes_y', 'std')</th>\n",
       "      <th>positive</th>\n",
       "    </tr>\n",
       "  </thead>\n",
       "  <tbody>\n",
       "    <tr>\n",
       "      <th>0</th>\n",
       "      <td>1617361</td>\n",
       "      <td>849246716</td>\n",
       "      <td>5</td>\n",
       "      <td>5.000000</td>\n",
       "      <td>0.000000</td>\n",
       "      <td>0.200000</td>\n",
       "      <td>0.447214</td>\n",
       "      <td>0.000000</td>\n",
       "      <td>0.000000</td>\n",
       "      <td>297</td>\n",
       "      <td>4.872054</td>\n",
       "      <td>0.363625</td>\n",
       "      <td>0.424242</td>\n",
       "      <td>3.224979</td>\n",
       "      <td>0.37037</td>\n",
       "      <td>3.042081</td>\n",
       "      <td>1</td>\n",
       "    </tr>\n",
       "    <tr>\n",
       "      <th>1</th>\n",
       "      <td>53052607</td>\n",
       "      <td>849246716</td>\n",
       "      <td>5</td>\n",
       "      <td>3.600000</td>\n",
       "      <td>0.547723</td>\n",
       "      <td>0.400000</td>\n",
       "      <td>0.894427</td>\n",
       "      <td>0.400000</td>\n",
       "      <td>0.894427</td>\n",
       "      <td>297</td>\n",
       "      <td>4.872054</td>\n",
       "      <td>0.363625</td>\n",
       "      <td>0.424242</td>\n",
       "      <td>3.224979</td>\n",
       "      <td>0.37037</td>\n",
       "      <td>3.042081</td>\n",
       "      <td>0</td>\n",
       "    </tr>\n",
       "    <tr>\n",
       "      <th>2</th>\n",
       "      <td>15679577</td>\n",
       "      <td>849246716</td>\n",
       "      <td>8</td>\n",
       "      <td>3.375000</td>\n",
       "      <td>1.505941</td>\n",
       "      <td>7.625000</td>\n",
       "      <td>19.175412</td>\n",
       "      <td>6.500000</td>\n",
       "      <td>17.188036</td>\n",
       "      <td>297</td>\n",
       "      <td>4.872054</td>\n",
       "      <td>0.363625</td>\n",
       "      <td>0.424242</td>\n",
       "      <td>3.224979</td>\n",
       "      <td>0.37037</td>\n",
       "      <td>3.042081</td>\n",
       "      <td>1</td>\n",
       "    </tr>\n",
       "    <tr>\n",
       "      <th>3</th>\n",
       "      <td>16367779</td>\n",
       "      <td>849246716</td>\n",
       "      <td>9</td>\n",
       "      <td>4.444444</td>\n",
       "      <td>0.527046</td>\n",
       "      <td>0.888889</td>\n",
       "      <td>1.364225</td>\n",
       "      <td>0.777778</td>\n",
       "      <td>1.092906</td>\n",
       "      <td>297</td>\n",
       "      <td>4.872054</td>\n",
       "      <td>0.363625</td>\n",
       "      <td>0.424242</td>\n",
       "      <td>3.224979</td>\n",
       "      <td>0.37037</td>\n",
       "      <td>3.042081</td>\n",
       "      <td>1</td>\n",
       "    </tr>\n",
       "    <tr>\n",
       "      <th>4</th>\n",
       "      <td>25485198</td>\n",
       "      <td>849246716</td>\n",
       "      <td>17</td>\n",
       "      <td>5.000000</td>\n",
       "      <td>0.000000</td>\n",
       "      <td>0.235294</td>\n",
       "      <td>0.437237</td>\n",
       "      <td>0.176471</td>\n",
       "      <td>0.392953</td>\n",
       "      <td>297</td>\n",
       "      <td>4.872054</td>\n",
       "      <td>0.363625</td>\n",
       "      <td>0.424242</td>\n",
       "      <td>3.224979</td>\n",
       "      <td>0.37037</td>\n",
       "      <td>3.042081</td>\n",
       "      <td>1</td>\n",
       "    </tr>\n",
       "  </tbody>\n",
       "</table>\n",
       "</div>"
      ],
      "text/plain": [
       "   customer_id  product_parent  ('review_id', 'count')_x  \\\n",
       "0      1617361       849246716                         5   \n",
       "1     53052607       849246716                         5   \n",
       "2     15679577       849246716                         8   \n",
       "3     16367779       849246716                         9   \n",
       "4     25485198       849246716                        17   \n",
       "\n",
       "   ('star_rating', 'mean')_x  ('star_rating', 'std')_x  \\\n",
       "0                   5.000000                  0.000000   \n",
       "1                   3.600000                  0.547723   \n",
       "2                   3.375000                  1.505941   \n",
       "3                   4.444444                  0.527046   \n",
       "4                   5.000000                  0.000000   \n",
       "\n",
       "   ('total_votes', 'mean')_x  ('total_votes', 'std')_x  \\\n",
       "0                   0.200000                  0.447214   \n",
       "1                   0.400000                  0.894427   \n",
       "2                   7.625000                 19.175412   \n",
       "3                   0.888889                  1.364225   \n",
       "4                   0.235294                  0.437237   \n",
       "\n",
       "   ('helpful_votes', 'mean')_x  ('helpful_votes', 'std')_x  \\\n",
       "0                     0.000000                    0.000000   \n",
       "1                     0.400000                    0.894427   \n",
       "2                     6.500000                   17.188036   \n",
       "3                     0.777778                    1.092906   \n",
       "4                     0.176471                    0.392953   \n",
       "\n",
       "   ('review_id_y', 'count')  ('star_rating_y', 'mean')  \\\n",
       "0                       297                   4.872054   \n",
       "1                       297                   4.872054   \n",
       "2                       297                   4.872054   \n",
       "3                       297                   4.872054   \n",
       "4                       297                   4.872054   \n",
       "\n",
       "   ('star_rating_y', 'std')  ('total_votes_y', 'mean')  \\\n",
       "0                  0.363625                   0.424242   \n",
       "1                  0.363625                   0.424242   \n",
       "2                  0.363625                   0.424242   \n",
       "3                  0.363625                   0.424242   \n",
       "4                  0.363625                   0.424242   \n",
       "\n",
       "   ('total_votes_y', 'std')  ('helpful_votes_y', 'mean')  \\\n",
       "0                  3.224979                      0.37037   \n",
       "1                  3.224979                      0.37037   \n",
       "2                  3.224979                      0.37037   \n",
       "3                  3.224979                      0.37037   \n",
       "4                  3.224979                      0.37037   \n",
       "\n",
       "   ('helpful_votes_y', 'std')  positive  \n",
       "0                    3.042081         1  \n",
       "1                    3.042081         0  \n",
       "2                    3.042081         1  \n",
       "3                    3.042081         1  \n",
       "4                    3.042081         1  "
      ]
     },
     "execution_count": 7,
     "metadata": {},
     "output_type": "execute_result"
    }
   ],
   "source": [
    "train_df = pd.read_csv('train_df.csv', index_col=0)\n",
    "train_df['positive'] = train_df['star_rating_x'].apply(lambda x: 1 if x > 3 else 0)\n",
    "train_df.drop('star_rating_x', axis=1, inplace=True)\n",
    "train_df.head()"
   ]
  },
  {
   "cell_type": "code",
   "execution_count": 8,
   "metadata": {},
   "outputs": [
    {
     "data": {
      "text/html": [
       "<div>\n",
       "<style scoped>\n",
       "    .dataframe tbody tr th:only-of-type {\n",
       "        vertical-align: middle;\n",
       "    }\n",
       "\n",
       "    .dataframe tbody tr th {\n",
       "        vertical-align: top;\n",
       "    }\n",
       "\n",
       "    .dataframe thead th {\n",
       "        text-align: right;\n",
       "    }\n",
       "</style>\n",
       "<table border=\"1\" class=\"dataframe\">\n",
       "  <thead>\n",
       "    <tr style=\"text-align: right;\">\n",
       "      <th></th>\n",
       "      <th>customer_id</th>\n",
       "      <th>product_parent</th>\n",
       "      <th>('review_id', 'count')_x</th>\n",
       "      <th>('star_rating', 'mean')_x</th>\n",
       "      <th>('star_rating', 'std')_x</th>\n",
       "      <th>('total_votes', 'mean')_x</th>\n",
       "      <th>('total_votes', 'std')_x</th>\n",
       "      <th>('helpful_votes', 'mean')_x</th>\n",
       "      <th>('helpful_votes', 'std')_x</th>\n",
       "      <th>('review_id_y', 'count')</th>\n",
       "      <th>('star_rating_y', 'mean')</th>\n",
       "      <th>('star_rating_y', 'std')</th>\n",
       "      <th>('total_votes_y', 'mean')</th>\n",
       "      <th>('total_votes_y', 'std')</th>\n",
       "      <th>('helpful_votes_y', 'mean')</th>\n",
       "      <th>('helpful_votes_y', 'std')</th>\n",
       "      <th>positive</th>\n",
       "    </tr>\n",
       "  </thead>\n",
       "  <tbody>\n",
       "    <tr>\n",
       "      <th>0</th>\n",
       "      <td>36330222</td>\n",
       "      <td>986428010</td>\n",
       "      <td>24</td>\n",
       "      <td>4.291667</td>\n",
       "      <td>1.267629</td>\n",
       "      <td>0.541667</td>\n",
       "      <td>1.250362</td>\n",
       "      <td>0.333333</td>\n",
       "      <td>1.049500</td>\n",
       "      <td>18</td>\n",
       "      <td>4.333333</td>\n",
       "      <td>1.188177</td>\n",
       "      <td>0.833333</td>\n",
       "      <td>2.572479</td>\n",
       "      <td>0.722222</td>\n",
       "      <td>2.346601</td>\n",
       "      <td>1</td>\n",
       "    </tr>\n",
       "    <tr>\n",
       "      <th>1</th>\n",
       "      <td>24360083</td>\n",
       "      <td>986428010</td>\n",
       "      <td>23</td>\n",
       "      <td>4.347826</td>\n",
       "      <td>1.191206</td>\n",
       "      <td>1.434783</td>\n",
       "      <td>2.191431</td>\n",
       "      <td>1.000000</td>\n",
       "      <td>1.537412</td>\n",
       "      <td>18</td>\n",
       "      <td>4.333333</td>\n",
       "      <td>1.188177</td>\n",
       "      <td>0.833333</td>\n",
       "      <td>2.572479</td>\n",
       "      <td>0.722222</td>\n",
       "      <td>2.346601</td>\n",
       "      <td>1</td>\n",
       "    </tr>\n",
       "    <tr>\n",
       "      <th>2</th>\n",
       "      <td>28891040</td>\n",
       "      <td>437083384</td>\n",
       "      <td>10</td>\n",
       "      <td>4.500000</td>\n",
       "      <td>0.707107</td>\n",
       "      <td>0.000000</td>\n",
       "      <td>0.000000</td>\n",
       "      <td>0.000000</td>\n",
       "      <td>0.000000</td>\n",
       "      <td>407</td>\n",
       "      <td>4.503686</td>\n",
       "      <td>0.887439</td>\n",
       "      <td>12.356265</td>\n",
       "      <td>112.878540</td>\n",
       "      <td>10.651106</td>\n",
       "      <td>100.388954</td>\n",
       "      <td>1</td>\n",
       "    </tr>\n",
       "    <tr>\n",
       "      <th>3</th>\n",
       "      <td>52449052</td>\n",
       "      <td>437083384</td>\n",
       "      <td>5</td>\n",
       "      <td>3.400000</td>\n",
       "      <td>1.516575</td>\n",
       "      <td>11.800000</td>\n",
       "      <td>20.789420</td>\n",
       "      <td>10.400000</td>\n",
       "      <td>18.187908</td>\n",
       "      <td>407</td>\n",
       "      <td>4.503686</td>\n",
       "      <td>0.887439</td>\n",
       "      <td>12.356265</td>\n",
       "      <td>112.878540</td>\n",
       "      <td>10.651106</td>\n",
       "      <td>100.388954</td>\n",
       "      <td>0</td>\n",
       "    </tr>\n",
       "    <tr>\n",
       "      <th>4</th>\n",
       "      <td>27192976</td>\n",
       "      <td>437083384</td>\n",
       "      <td>6</td>\n",
       "      <td>4.666667</td>\n",
       "      <td>0.816497</td>\n",
       "      <td>0.500000</td>\n",
       "      <td>1.224745</td>\n",
       "      <td>0.000000</td>\n",
       "      <td>0.000000</td>\n",
       "      <td>407</td>\n",
       "      <td>4.503686</td>\n",
       "      <td>0.887439</td>\n",
       "      <td>12.356265</td>\n",
       "      <td>112.878540</td>\n",
       "      <td>10.651106</td>\n",
       "      <td>100.388954</td>\n",
       "      <td>1</td>\n",
       "    </tr>\n",
       "  </tbody>\n",
       "</table>\n",
       "</div>"
      ],
      "text/plain": [
       "   customer_id  product_parent  ('review_id', 'count')_x  \\\n",
       "0     36330222       986428010                        24   \n",
       "1     24360083       986428010                        23   \n",
       "2     28891040       437083384                        10   \n",
       "3     52449052       437083384                         5   \n",
       "4     27192976       437083384                         6   \n",
       "\n",
       "   ('star_rating', 'mean')_x  ('star_rating', 'std')_x  \\\n",
       "0                   4.291667                  1.267629   \n",
       "1                   4.347826                  1.191206   \n",
       "2                   4.500000                  0.707107   \n",
       "3                   3.400000                  1.516575   \n",
       "4                   4.666667                  0.816497   \n",
       "\n",
       "   ('total_votes', 'mean')_x  ('total_votes', 'std')_x  \\\n",
       "0                   0.541667                  1.250362   \n",
       "1                   1.434783                  2.191431   \n",
       "2                   0.000000                  0.000000   \n",
       "3                  11.800000                 20.789420   \n",
       "4                   0.500000                  1.224745   \n",
       "\n",
       "   ('helpful_votes', 'mean')_x  ('helpful_votes', 'std')_x  \\\n",
       "0                     0.333333                    1.049500   \n",
       "1                     1.000000                    1.537412   \n",
       "2                     0.000000                    0.000000   \n",
       "3                    10.400000                   18.187908   \n",
       "4                     0.000000                    0.000000   \n",
       "\n",
       "   ('review_id_y', 'count')  ('star_rating_y', 'mean')  \\\n",
       "0                        18                   4.333333   \n",
       "1                        18                   4.333333   \n",
       "2                       407                   4.503686   \n",
       "3                       407                   4.503686   \n",
       "4                       407                   4.503686   \n",
       "\n",
       "   ('star_rating_y', 'std')  ('total_votes_y', 'mean')  \\\n",
       "0                  1.188177                   0.833333   \n",
       "1                  1.188177                   0.833333   \n",
       "2                  0.887439                  12.356265   \n",
       "3                  0.887439                  12.356265   \n",
       "4                  0.887439                  12.356265   \n",
       "\n",
       "   ('total_votes_y', 'std')  ('helpful_votes_y', 'mean')  \\\n",
       "0                  2.572479                     0.722222   \n",
       "1                  2.572479                     0.722222   \n",
       "2                112.878540                    10.651106   \n",
       "3                112.878540                    10.651106   \n",
       "4                112.878540                    10.651106   \n",
       "\n",
       "   ('helpful_votes_y', 'std')  positive  \n",
       "0                    2.346601         1  \n",
       "1                    2.346601         1  \n",
       "2                  100.388954         1  \n",
       "3                  100.388954         0  \n",
       "4                  100.388954         1  "
      ]
     },
     "execution_count": 8,
     "metadata": {},
     "output_type": "execute_result"
    }
   ],
   "source": [
    "test_df = pd.read_csv('test_df.csv', index_col=0)\n",
    "test_df['positive'] = test_df['star_rating_x'].apply(lambda x: 1 if x > 3 else 0)\n",
    "test_df.drop('star_rating_x', axis=1, inplace=True)\n",
    "test_df.head()"
   ]
  },
  {
   "cell_type": "code",
   "execution_count": 9,
   "metadata": {},
   "outputs": [],
   "source": [
    "train_x, train_y = train_df.drop('positive', axis=1), train_df['positive']\n",
    "test_x, test_y = test_df.drop('positive', axis=1), test_df['positive']"
   ]
  },
  {
   "cell_type": "code",
   "execution_count": 10,
   "metadata": {},
   "outputs": [
    {
     "data": {
      "text/plain": [
       "RandomForestClassifier(bootstrap=True, ccp_alpha=0.0, class_weight=None,\n",
       "                       criterion='gini', max_depth=None, max_features='auto',\n",
       "                       max_leaf_nodes=None, max_samples=None,\n",
       "                       min_impurity_decrease=0.0, min_impurity_split=None,\n",
       "                       min_samples_leaf=1, min_samples_split=2,\n",
       "                       min_weight_fraction_leaf=0.0, n_estimators=100,\n",
       "                       n_jobs=None, oob_score=False, random_state=None,\n",
       "                       verbose=0, warm_start=False)"
      ]
     },
     "execution_count": 10,
     "metadata": {},
     "output_type": "execute_result"
    }
   ],
   "source": [
    "rf = RandomForestClassifier(n_estimators=100)\n",
    "rf.fit(train_x, train_y)"
   ]
  },
  {
   "cell_type": "code",
   "execution_count": 11,
   "metadata": {},
   "outputs": [
    {
     "data": {
      "text/plain": [
       "0.7836699239956569"
      ]
     },
     "execution_count": 11,
     "metadata": {},
     "output_type": "execute_result"
    }
   ],
   "source": [
    "rf.score(test_x, test_y)"
   ]
  },
  {
   "cell_type": "code",
   "execution_count": 12,
   "metadata": {},
   "outputs": [
    {
     "data": {
      "text/plain": [
       "KNeighborsClassifier(algorithm='auto', leaf_size=30, metric='minkowski',\n",
       "                     metric_params=None, n_jobs=None, n_neighbors=5, p=2,\n",
       "                     weights='uniform')"
      ]
     },
     "execution_count": 12,
     "metadata": {},
     "output_type": "execute_result"
    }
   ],
   "source": [
    "from sklearn.neighbors import KNeighborsClassifier\n",
    "knn = KNeighborsClassifier(n_neighbors=5)\n",
    "knn.fit(train_x, train_y)"
   ]
  },
  {
   "cell_type": "code",
   "execution_count": 13,
   "metadata": {},
   "outputs": [
    {
     "data": {
      "text/plain": [
       "0.7354614549402823"
      ]
     },
     "execution_count": 13,
     "metadata": {},
     "output_type": "execute_result"
    }
   ],
   "source": [
    "knn.score(test_x, test_y)"
   ]
  },
  {
   "cell_type": "code",
   "execution_count": 14,
   "metadata": {},
   "outputs": [
    {
     "data": {
      "text/plain": [
       "GaussianNB(priors=None, var_smoothing=1e-09)"
      ]
     },
     "execution_count": 14,
     "metadata": {},
     "output_type": "execute_result"
    }
   ],
   "source": [
    "from sklearn.naive_bayes import GaussianNB\n",
    "gnb = GaussianNB()\n",
    "gnb.fit(train_x, train_y)"
   ]
  },
  {
   "cell_type": "code",
   "execution_count": 15,
   "metadata": {},
   "outputs": [
    {
     "data": {
      "text/plain": [
       "0.8009108181409448"
      ]
     },
     "execution_count": 15,
     "metadata": {},
     "output_type": "execute_result"
    }
   ],
   "source": [
    "gnb.score(train_x, train_y)"
   ]
  },
  {
   "cell_type": "code",
   "execution_count": 16,
   "metadata": {},
   "outputs": [
    {
     "name": "stderr",
     "output_type": "stream",
     "text": [
      "Using TensorFlow backend.\n"
     ]
    }
   ],
   "source": [
    "from keras import models\n",
    "from keras import layers\n",
    "from keras.utils import to_categorical\n",
    "import numpy as np\n",
    "import matplotlib.pyplot as plt"
   ]
  },
  {
   "cell_type": "code",
   "execution_count": 17,
   "metadata": {},
   "outputs": [
    {
     "data": {
      "text/plain": [
       "(68949, 16)"
      ]
     },
     "execution_count": 17,
     "metadata": {},
     "output_type": "execute_result"
    }
   ],
   "source": [
    "np.shape(train_x)"
   ]
  },
  {
   "cell_type": "code",
   "execution_count": 18,
   "metadata": {},
   "outputs": [
    {
     "name": "stdout",
     "output_type": "stream",
     "text": [
      "Model: \"sequential_1\"\n",
      "_________________________________________________________________\n",
      "Layer (type)                 Output Shape              Param #   \n",
      "=================================================================\n",
      "dense_1 (Dense)              (None, 12)                204       \n",
      "_________________________________________________________________\n",
      "dense_2 (Dense)              (None, 1)                 13        \n",
      "=================================================================\n",
      "Total params: 217\n",
      "Trainable params: 217\n",
      "Non-trainable params: 0\n",
      "_________________________________________________________________\n"
     ]
    }
   ],
   "source": [
    "network = models.Sequential()\n",
    "network.add(layers.Dense(12, activation='relu', input_shape=(16,)))\n",
    "#network.add(layers.Dense(128, activation='relu', input_shape=(256,)))\n",
    "#network.add(layers.Dense(64, activation='relu', input_shape=(128,)))\n",
    "#network.add(layers.Dense(32, activation='relu', input_shape=(64,)))\n",
    "network.add(layers.Dense(1, activation='sigmoid', input_shape=(16,)))\n",
    "network.summary()"
   ]
  },
  {
   "cell_type": "code",
   "execution_count": null,
   "metadata": {},
   "outputs": [],
   "source": [
    "network.compile(optimizer='rmsprop',\n",
    "                loss='binary_crossentropy',\n",
    "                metrics=['accuracy'])\n",
    "\n",
    "epochs = 10\n",
    "history = network.fit(train_x, \n",
    "                      train_y.positive, \n",
    "                      epochs=epochs, \n",
    "                      batch_size=128, \n",
    "                      validation_data=(test_x, test_y.positive))"
   ]
  },
  {
   "cell_type": "code",
   "execution_count": 102,
   "metadata": {},
   "outputs": [
    {
     "data": {
      "image/png": "[encoded data removed]",
      "text/plain": [
       "<Figure size 432x288 with 1 Axes>"
      ]
     },
     "metadata": {
      "needs_background": "light"
     },
     "output_type": "display_data"
    }
   ],
   "source": [
    "history_dict = history.history\n",
    "loss_values = history_dict['loss']\n",
    "test_loss_values = history_dict['val_loss']\n",
    "epochs_range = range(1, epochs + 1)\n",
    "plt.plot(epochs_range, loss_values, 'bo', label='Training loss')\n",
    "plt.plot(epochs_range, test_loss_values, 'ro', label='Test loss')\n",
    "plt.title('Training and test loss')\n",
    "plt.xlabel('Epochs')\n",
    "plt.ylabel('Loss')\n",
    "plt.legend()\n",
    "plt.show()"
   ]
  },
  {
   "cell_type": "code",
   "execution_count": 104,
   "metadata": {},
   "outputs": [
    {
     "data": {
      "image/png": "[encoded data removed]",
      "text/plain": [
       "<Figure size 432x288 with 1 Axes>"
      ]
     },
     "metadata": {
      "needs_background": "light"
     },
     "output_type": "display_data"
    }
   ],
   "source": [
    "acc_values = history_dict['accuracy']\n",
    "test_acc_values = history_dict['val_accuracy']\n",
    "plt.plot(epochs_range, acc_values, 'b', label='Training accuracy')\n",
    "plt.plot(epochs_range, test_acc_values, 'r', label='Test accuracy')\n",
    "plt.title('Training and test accuracy')\n",
    "plt.xlabel('Epochs')\n",
    "plt.ylabel('Accuracy')\n",
    "plt.legend()\n",
    "plt.show()"
   ]
  },
  {
   "cell_type": "code",
   "execution_count": 53,
   "metadata": {},
   "outputs": [
    {
     "data": {
      "text/html": [
       "<div>\n",
       "<style scoped>\n",
       "    .dataframe tbody tr th:only-of-type {\n",
       "        vertical-align: middle;\n",
       "    }\n",
       "\n",
       "    .dataframe tbody tr th {\n",
       "        vertical-align: top;\n",
       "    }\n",
       "\n",
       "    .dataframe thead th {\n",
       "        text-align: right;\n",
       "    }\n",
       "</style>\n",
       "<table border=\"1\" class=\"dataframe\">\n",
       "  <thead>\n",
       "    <tr style=\"text-align: right;\">\n",
       "      <th></th>\n",
       "      <th>marketplace</th>\n",
       "      <th>customer_id</th>\n",
       "      <th>review_id</th>\n",
       "      <th>product_id</th>\n",
       "      <th>product_parent</th>\n",
       "      <th>product_title</th>\n",
       "      <th>product_category</th>\n",
       "      <th>star_rating</th>\n",
       "      <th>helpful_votes</th>\n",
       "      <th>total_votes</th>\n",
       "      <th>vine</th>\n",
       "      <th>verified_purchase</th>\n",
       "      <th>review_headline</th>\n",
       "      <th>review_body</th>\n",
       "      <th>review_date</th>\n",
       "    </tr>\n",
       "  </thead>\n",
       "  <tbody>\n",
       "    <tr>\n",
       "      <th>267779</th>\n",
       "      <td>US</td>\n",
       "      <td>3387522</td>\n",
       "      <td>R2JEMKCQT9QTVM</td>\n",
       "      <td>B008SBZD5U</td>\n",
       "      <td>150118808</td>\n",
       "      <td>Kingdom Hearts HD 1.5 Remix</td>\n",
       "      <td>Video Games</td>\n",
       "      <td>4</td>\n",
       "      <td>0</td>\n",
       "      <td>0</td>\n",
       "      <td>N</td>\n",
       "      <td>Y</td>\n",
       "      <td>KH!&gt;% RULE!</td>\n",
       "      <td>Its A pretty good game and it came on time but...</td>\n",
       "      <td>2015-02-01</td>\n",
       "    </tr>\n",
       "    <tr>\n",
       "      <th>267796</th>\n",
       "      <td>US</td>\n",
       "      <td>15137367</td>\n",
       "      <td>R3IM5TXYMA7DCQ</td>\n",
       "      <td>B00IXMF5CU</td>\n",
       "      <td>292308774</td>\n",
       "      <td>Terraria - Xbox 360</td>\n",
       "      <td>Video Games</td>\n",
       "      <td>5</td>\n",
       "      <td>1</td>\n",
       "      <td>2</td>\n",
       "      <td>N</td>\n",
       "      <td>Y</td>\n",
       "      <td>Five Stars</td>\n",
       "      <td>Excellent</td>\n",
       "      <td>2015-02-01</td>\n",
       "    </tr>\n",
       "    <tr>\n",
       "      <th>267818</th>\n",
       "      <td>US</td>\n",
       "      <td>15137367</td>\n",
       "      <td>R2PFXXB4EP23B</td>\n",
       "      <td>B00EM5UFEK</td>\n",
       "      <td>461081395</td>\n",
       "      <td>Plants vs. Zombies Garden Warfare</td>\n",
       "      <td>Video Games</td>\n",
       "      <td>4</td>\n",
       "      <td>0</td>\n",
       "      <td>0</td>\n",
       "      <td>N</td>\n",
       "      <td>Y</td>\n",
       "      <td>Four Stars</td>\n",
       "      <td>Excellent</td>\n",
       "      <td>2015-02-01</td>\n",
       "    </tr>\n",
       "    <tr>\n",
       "      <th>267871</th>\n",
       "      <td>US</td>\n",
       "      <td>4354770</td>\n",
       "      <td>R1A9DB178PFXLH</td>\n",
       "      <td>B004OPYLTS</td>\n",
       "      <td>245894499</td>\n",
       "      <td>Fishdom - Nintendo DS</td>\n",
       "      <td>Video Games</td>\n",
       "      <td>5</td>\n",
       "      <td>0</td>\n",
       "      <td>0</td>\n",
       "      <td>N</td>\n",
       "      <td>Y</td>\n",
       "      <td>Fun Game</td>\n",
       "      <td>Fun game, levels get harder as you progress.</td>\n",
       "      <td>2015-02-01</td>\n",
       "    </tr>\n",
       "    <tr>\n",
       "      <th>267892</th>\n",
       "      <td>US</td>\n",
       "      <td>6698937</td>\n",
       "      <td>R1RS2GAXENP9LF</td>\n",
       "      <td>B00BGA9X9W</td>\n",
       "      <td>943154724</td>\n",
       "      <td>DualShock 4 Wireless Controller for PlayStatio...</td>\n",
       "      <td>Video Games</td>\n",
       "      <td>4</td>\n",
       "      <td>0</td>\n",
       "      <td>0</td>\n",
       "      <td>N</td>\n",
       "      <td>Y</td>\n",
       "      <td>Four Stars</td>\n",
       "      <td>Great controller</td>\n",
       "      <td>2015-02-01</td>\n",
       "    </tr>\n",
       "  </tbody>\n",
       "</table>\n",
       "</div>"
      ],
      "text/plain": [
       "       marketplace  customer_id       review_id  product_id  product_parent  \\\n",
       "267779          US      3387522  R2JEMKCQT9QTVM  B008SBZD5U       150118808   \n",
       "267796          US     15137367  R3IM5TXYMA7DCQ  B00IXMF5CU       292308774   \n",
       "267818          US     15137367   R2PFXXB4EP23B  B00EM5UFEK       461081395   \n",
       "267871          US      4354770  R1A9DB178PFXLH  B004OPYLTS       245894499   \n",
       "267892          US      6698937  R1RS2GAXENP9LF  B00BGA9X9W       943154724   \n",
       "\n",
       "                                            product_title product_category  \\\n",
       "267779                        Kingdom Hearts HD 1.5 Remix      Video Games   \n",
       "267796                                Terraria - Xbox 360      Video Games   \n",
       "267818                  Plants vs. Zombies Garden Warfare      Video Games   \n",
       "267871                              Fishdom - Nintendo DS      Video Games   \n",
       "267892  DualShock 4 Wireless Controller for PlayStatio...      Video Games   \n",
       "\n",
       "        star_rating  helpful_votes  total_votes vine verified_purchase  \\\n",
       "267779            4              0            0    N                 Y   \n",
       "267796            5              1            2    N                 Y   \n",
       "267818            4              0            0    N                 Y   \n",
       "267871            5              0            0    N                 Y   \n",
       "267892            4              0            0    N                 Y   \n",
       "\n",
       "       review_headline                                        review_body  \\\n",
       "267779     KH!>% RULE!  Its A pretty good game and it came on time but...   \n",
       "267796      Five Stars                                          Excellent   \n",
       "267818      Four Stars                                          Excellent   \n",
       "267871        Fun Game       Fun game, levels get harder as you progress.   \n",
       "267892      Four Stars                                   Great controller   \n",
       "\n",
       "       review_date  \n",
       "267779  2015-02-01  \n",
       "267796  2015-02-01  \n",
       "267818  2015-02-01  \n",
       "267871  2015-02-01  \n",
       "267892  2015-02-01  "
      ]
     },
     "execution_count": 53,
     "metadata": {},
     "output_type": "execute_result"
    }
   ],
   "source": [
    "svd_train_df = pd.read_csv('train_raw.csv', index_col=0)\n",
    "svd_train_df = pd.concat([svd_train_df, pd.read_csv('train_raw_max.csv', index_col=0)])\n",
    "svd_test_df = pd.read_csv('test_raw.csv', index_col=0)\n",
    "svd_test_df = pd.concat([svd_train_df, pd.read_csv('test_raw_max.csv', index_col=0)])\n",
    "\n",
    "svd_test_df.head()"
   ]
  },
  {
   "cell_type": "code",
   "execution_count": 67,
   "metadata": {},
   "outputs": [],
   "source": [
    "from surprise import Dataset\n",
    "from surprise import Reader\n",
    "\n",
    "svd_train_df[['customer_id', 'product_parent', 'star_rating', 'review_date']].to_csv('svd_train_df.csv', index=False)\n",
    "svd_test_df[['customer_id', 'product_parent', 'star_rating', 'review_date']].to_csv('svd_test_df.csv', index=False)"
   ]
  },
  {
   "cell_type": "code",
   "execution_count": 68,
   "metadata": {},
   "outputs": [],
   "source": [
    "reader = Reader(line_format='user item rating timestamp', sep=',', skip_lines=1)\n",
    "data = Dataset.load_from_folds([('svd_train_df.csv', 'svd_test_df.csv')], reader=reader)"
   ]
  },
  {
   "cell_type": "code",
   "execution_count": 69,
   "metadata": {},
   "outputs": [
    {
     "name": "stdout",
     "output_type": "stream",
     "text": [
      "RMSE: 0.7750\n",
      "MAE:  0.5614\n"
     ]
    }
   ],
   "source": [
    "from surprise import accuracy\n",
    "from surprise import SVD\n",
    "from surprise.model_selection import PredefinedKFold\n",
    "\n",
    "pkf = PredefinedKFold()\n",
    "\n",
    "algo = SVD()\n",
    "\n",
    "for trainset, testset in pkf.split(data):\n",
    "\n",
    "    # train and test algorithm.\n",
    "    algo.fit(trainset)\n",
    "    predictions = algo.test(testset)\n",
    "\n",
    "    # Compute and print Root Mean Squared Error\n",
    "    mean_rmse = accuracy.rmse(predictions, verbose=True)\n",
    "    mean_mae = accuracy.mae(predictions, verbose=True)"
   ]
  },
  {
   "cell_type": "code",
   "execution_count": 83,
   "metadata": {},
   "outputs": [
    {
     "name": "stdout",
     "output_type": "stream",
     "text": [
      "Correct: 417209 %: 0.5884852895956578\n"
     ]
    }
   ],
   "source": [
    "correct = 0\n",
    "for i, row in svd_test_df.iterrows():\n",
    "    uid = str(row.customer_id)\n",
    "    iid = str(row.product_parent)\n",
    "\n",
    "    # get a prediction for specific users and items.\n",
    "    pred = algo.predict(uid, iid, r_ui=row.star_rating, verbose=False)\n",
    "    if (round(pred.est) == row.star_rating):\n",
    "        correct += 1\n",
    "\n",
    "print('Correct: {} %: {}'.format(correct, correct / len(svd_test_df)))"
   ]
  },
  {
   "cell_type": "code",
   "execution_count": 73,
   "metadata": {},
   "outputs": [
    {
     "name": "stdout",
     "output_type": "stream",
     "text": [
      "Evaluating RMSE, MAE of algorithm SVD on 5 split(s).\n",
      "\n",
      "                  Fold 1  Fold 2  Fold 3  Fold 4  Fold 5  Mean    Std     \n",
      "RMSE (testset)    1.0953  1.0951  1.0927  1.0956  1.0940  1.0945  0.0011  \n",
      "MAE (testset)     0.8028  0.8024  0.8008  0.8025  0.8005  0.8018  0.0010  \n",
      "Fit time          27.75   27.66   27.97   27.84   27.92   27.83   0.11    \n",
      "Test time         0.83    1.37    0.86    0.89    0.87    0.96    0.20    \n"
     ]
    },
    {
     "data": {
      "text/plain": [
       "{'test_rmse': array([1.09534239, 1.09508365, 1.0927032 , 1.0956433 , 1.09395646]),\n",
       " 'test_mae': array([0.80281008, 0.80242705, 0.80075902, 0.80253453, 0.80046218]),\n",
       " 'fit_time': (27.746243238449097,\n",
       "  27.655399084091187,\n",
       "  27.970982313156128,\n",
       "  27.841853618621826,\n",
       "  27.91947364807129),\n",
       " 'test_time': (0.8308095932006836,\n",
       "  1.3688032627105713,\n",
       "  0.8627254962921143,\n",
       "  0.8875277042388916,\n",
       "  0.8744089603424072)}"
      ]
     },
     "execution_count": 73,
     "metadata": {},
     "output_type": "execute_result"
    }
   ],
   "source": [
    "from surprise.model_selection import cross_validate\n",
    "data2 = Dataset.load_from_file('svd_train_df.csv', reader=reader)\n",
    "cross_validate(SVD(), data2, cv=5, verbose=True)"
   ]
  },
  {
   "cell_type": "code",
   "execution_count": 74,
   "metadata": {},
   "outputs": [],
   "source": [
    "from surprise.model_selection import GridSearchCV\n",
    "from surprise import SVDpp\n",
    "param_grid = {'n_epochs': [5, 10], 'lr_all': [0.002, 0.005],\n",
    "              'reg_all': [0.4, 0.6]}\n",
    "gs = GridSearchCV(SVD, param_grid, measures=['rmse', 'mae'], cv=pkf)\n",
    "gs.fit(data)"
   ]
  },
  {
   "cell_type": "code",
   "execution_count": 75,
   "metadata": {},
   "outputs": [
    {
     "name": "stdout",
     "output_type": "stream",
     "text": [
      "0.9892573460577072\n",
      "0.7461866221482449\n"
     ]
    }
   ],
   "source": [
    "print(gs.best_score['rmse'])\n",
    "print(gs.best_score['mae'])"
   ]
  },
  {
   "cell_type": "code",
   "execution_count": null,
   "metadata": {},
   "outputs": [],
   "source": []
  }
 ],
 "metadata": {
  "kernelspec": {
   "display_name": "Python 3",
   "language": "python",
   "name": "python3"
  },
  "language_info": {
   "codemirror_mode": {
    "name": "ipython",
    "version": 3
   },
   "file_extension": ".py",
   "mimetype": "text/x-python",
   "name": "python",
   "nbconvert_exporter": "python",
   "pygments_lexer": "ipython3",
   "version": "3.7.6"
  }
 },
 "nbformat": 4,
 "nbformat_minor": 2
}
