{
 "cells": [
  {
   "cell_type": "code",
   "execution_count": 3,
   "metadata": {},
   "outputs": [],
   "source": [
    "import pandas as pd"
   ]
  },
  {
   "cell_type": "code",
   "execution_count": 4,
   "metadata": {},
   "outputs": [],
   "source": [
    "def jaccard_similarity(query, document):\n",
    "    query, document = query.split(), document.split()\n",
    "    intersection = set(query).intersection(set(document))\n",
    "    union = set(query).union(set(document))\n",
    "    return len(intersection)/len(union)"
   ]
  },
  {
   "cell_type": "code",
   "execution_count": 10,
   "metadata": {},
   "outputs": [],
   "source": [
    "def get_most_similar_review(row, raw_source):\n",
    "    prod = row.prod_corpus\n",
    "    if (isinstance(prod, float)):\n",
    "        return None\n",
    "    cust_reviews = raw_source.query('customer_id == {}'.format(row.customer_id))\n",
    "    max_sim, max_row = 0, None\n",
    "    for i, review in cust_reviews.iterrows():\n",
    "        if (not review.product_parent in product_df.index):\n",
    "            continue\n",
    "        cur_prod = product_df.loc[review.product_parent].corpus\n",
    "        if (isinstance(cur_prod, float)):\n",
    "            continue\n",
    "        sim = jaccard_similarity(prod, cur_prod)\n",
    "        if (sim > max_sim):\n",
    "            max_sim, max_row = sim, review\n",
    "            \n",
    "    return max_row"
   ]
  },
  {
   "cell_type": "code",
   "execution_count": 31,
   "metadata": {},
   "outputs": [],
   "source": [
    "from sklearn.neighbors import NearestNeighbors\n",
    "from sklearn import preprocessing\n",
    "def get_most_similar_product(row, raw_source):\n",
    "    if (not row.product_parent in product_df.index):\n",
    "        return None\n",
    "    prod = product_df.loc[row.product_parent]\n",
    "    cust_reviews = raw_source.query('customer_id == {}'.format(row.customer_id))\n",
    "    products = product_df[product_df.index.isin(cust_reviews.product_parent.tolist())]\n",
    "    if (len(products) == 0):\n",
    "        return None\n",
    "    min_max_scaler = preprocessing.MinMaxScaler()\n",
    "    nbrs = NearestNeighbors(n_neighbors=1, algorithm='ball_tree').fit(min_max_scaler.fit_transform(products.drop('corpus', axis=1)))\n",
    "    return products.iloc[nbrs.kneighbors(min_max_scaler.transform([prod.drop('corpus')]), return_distance=False)[0][0]]"
   ]
  },
  {
   "cell_type": "code",
   "execution_count": 20,
   "metadata": {},
   "outputs": [
    {
     "name": "stderr",
     "output_type": "stream",
     "text": [
      "E:\\ProgramData\\Anaconda3\\lib\\site-packages\\IPython\\core\\interactiveshell.py:3058: DtypeWarning: Columns (0,1,2,3,4,5,6,7) have mixed types. Specify dtype option on import or set low_memory=False.\n",
      "  interactivity=interactivity, compiler=compiler, result=result)\n"
     ]
    },
    {
     "data": {
      "text/html": [
       "<div>\n",
       "<style scoped>\n",
       "    .dataframe tbody tr th:only-of-type {\n",
       "        vertical-align: middle;\n",
       "    }\n",
       "\n",
       "    .dataframe tbody tr th {\n",
       "        vertical-align: top;\n",
       "    }\n",
       "\n",
       "    .dataframe thead th {\n",
       "        text-align: right;\n",
       "    }\n",
       "</style>\n",
       "<table border=\"1\" class=\"dataframe\">\n",
       "  <thead>\n",
       "    <tr style=\"text-align: right;\">\n",
       "      <th></th>\n",
       "      <th>review_id</th>\n",
       "      <th>star_rating</th>\n",
       "      <th>star_rating.1</th>\n",
       "      <th>corpus</th>\n",
       "    </tr>\n",
       "  </thead>\n",
       "  <tbody>\n",
       "    <tr>\n",
       "      <td>1602</td>\n",
       "      <td>3</td>\n",
       "      <td>3.6666666666666665</td>\n",
       "      <td>1.5275252316519468</td>\n",
       "      <td>keyboard month featur problems. &lt; br / &gt; &lt; br ...</td>\n",
       "    </tr>\n",
       "    <tr>\n",
       "      <td>2696</td>\n",
       "      <td>3</td>\n",
       "      <td>3.6666666666666665</td>\n",
       "      <td>1.5275252316519468</td>\n",
       "      <td>one pad roccat cu surfac metal foil. &lt; br / &gt; ...</td>\n",
       "    </tr>\n",
       "    <tr>\n",
       "      <td>3140</td>\n",
       "      <td>1</td>\n",
       "      <td>1.0</td>\n",
       "      <td>0.0</td>\n",
       "      <td>peel</td>\n",
       "    </tr>\n",
       "    <tr>\n",
       "      <td>4318</td>\n",
       "      <td>23</td>\n",
       "      <td>4.086956521739131</td>\n",
       "      <td>1.202763616096502</td>\n",
       "      <td>dimens purs i ipad mini im sick god tablet i t...</td>\n",
       "    </tr>\n",
       "    <tr>\n",
       "      <td>10581</td>\n",
       "      <td>7</td>\n",
       "      <td>5.0</td>\n",
       "      <td>0.0</td>\n",
       "      <td>did extens cabl bulk cabl length odd patch cab...</td>\n",
       "    </tr>\n",
       "  </tbody>\n",
       "</table>\n",
       "</div>"
      ],
      "text/plain": [
       "      review_id         star_rating       star_rating.1  \\\n",
       "1602          3  3.6666666666666665  1.5275252316519468   \n",
       "2696          3  3.6666666666666665  1.5275252316519468   \n",
       "3140          1                 1.0                 0.0   \n",
       "4318         23   4.086956521739131   1.202763616096502   \n",
       "10581         7                 5.0                 0.0   \n",
       "\n",
       "                                                  corpus  \n",
       "1602   keyboard month featur problems. < br / > < br ...  \n",
       "2696   one pad roccat cu surfac metal foil. < br / > ...  \n",
       "3140                                                peel  \n",
       "4318   dimens purs i ipad mini im sick god tablet i t...  \n",
       "10581  did extens cabl bulk cabl length odd patch cab...  "
      ]
     },
     "execution_count": 20,
     "metadata": {},
     "output_type": "execute_result"
    }
   ],
   "source": [
    "product_df = pd.read_csv('product_df.csv', index_col=0)\n",
    "product_df = product_df[2:]\n",
    "product_df.drop(['total_votes', 'total_votes.1', 'helpful_votes', 'helpful_votes.1'], axis=1, inplace=True)\n",
    "product_df.head()"
   ]
  },
  {
   "cell_type": "code",
   "execution_count": 21,
   "metadata": {},
   "outputs": [],
   "source": [
    "test_raw = pd.read_csv('test_raw.csv', index_col=0)\n",
    "test_df = pd.read_csv('test_df.csv', index_col=0)"
   ]
  },
  {
   "cell_type": "code",
   "execution_count": 97,
   "metadata": {},
   "outputs": [
    {
     "name": "stdout",
     "output_type": "stream",
     "text": [
      "Correct: 16565 0.7194353963083605\n",
      "Bad: 57 0.00247557003257329\n",
      "Positive: 18185 0.7897937024972855\n"
     ]
    }
   ],
   "source": [
    "correct = 0\n",
    "bad_data = 0\n",
    "positive = 0\n",
    "for i, row in test_df.iterrows():\n",
    "    pred = get_most_similar_review(row, test_raw)\n",
    "    if (pred is None):\n",
    "        bad_data += 1\n",
    "        continue\n",
    "    if (pred.star_rating > 3):\n",
    "        positive += 1\n",
    "    if (pred.star_rating > 3 and row.star_rating > 3):\n",
    "        correct += 1\n",
    "    if (pred.star_rating <= 3 and row.star_rating <= 3):\n",
    "        correct += 1\n",
    "\n",
    "print('Correct:', correct, correct / len(test_df))\n",
    "print('Bad:', bad_data, bad_data / len(test_df))\n",
    "print('Positive:', positive, positive / len(test_df))"
   ]
  },
  {
   "cell_type": "code",
   "execution_count": 121,
   "metadata": {},
   "outputs": [
    {
     "name": "stdout",
     "output_type": "stream",
     "text": [
      "Correct: 12026 0.5223018458197611\n",
      "Bad: 7204 0.3128773072747014\n",
      "Positive: 15010 0.651900108577633\n"
     ]
    }
   ],
   "source": [
    "correct = 0\n",
    "bad_data = 0\n",
    "positive = 0\n",
    "for i, row in test_df.iterrows():\n",
    "    pred = get_most_similar_product(row, test_raw)\n",
    "    if (pred is None):\n",
    "        bad_data += 1\n",
    "        continue\n",
    "    if (pred.star_rating > 3):\n",
    "        positive += 1\n",
    "    if (pred.star_rating > 3 and row.star_rating > 3):\n",
    "        correct += 1\n",
    "    if (pred.star_rating <= 3 and row.star_rating <= 3):\n",
    "        correct += 1\n",
    "\n",
    "print('Correct:', correct, correct / len(test_df))\n",
    "print('Bad:', bad_data, bad_data / len(test_df))\n",
    "print('Positive:', positive, positive / len(test_df))"
   ]
  },
  {
   "cell_type": "code",
   "execution_count": 22,
   "metadata": {},
   "outputs": [],
   "source": [
    "def get_pred(row, raw_source):\n",
    "    knn_pred = get_most_similar_product(row, raw_source)\n",
    "    jaccard_pred = get_most_similar_review(row, raw_source)\n",
    "    if (knn_pred is None and jaccard_pred is None):\n",
    "        return None, None\n",
    "    if (knn_pred is None):\n",
    "        return jaccard_pred.star_rating, None\n",
    "    if (jaccard_pred is None):\n",
    "        return None, knn_pred.star_rating\n",
    "    \n",
    "    return jaccard_pred.star_rating, knn_pred.star_rating"
   ]
  },
  {
   "cell_type": "code",
   "execution_count": 130,
   "metadata": {},
   "outputs": [
    {
     "name": "stdout",
     "output_type": "stream",
     "text": [
      "Correct: 17212 0.7475352877307274\n",
      "Bad: 36 0.0015635179153094462\n",
      "Positive: 19899 0.8642345276872965\n"
     ]
    }
   ],
   "source": [
    "correct = 0\n",
    "bad_data = 0\n",
    "positive = 0\n",
    "for i, row in test_df.iterrows():\n",
    "    pred = get_pred(row, test_raw)\n",
    "    if (pred is None):\n",
    "        bad_data += 1\n",
    "        continue\n",
    "    if (pred > 3):\n",
    "        positive += 1\n",
    "    if (pred > 3 and row.star_rating > 3):\n",
    "        correct += 1\n",
    "    if (pred <= 3 and row.star_rating <= 3):\n",
    "        correct += 1\n",
    "\n",
    "print('Correct:', correct, correct / len(test_df))\n",
    "print('Bad:', bad_data, bad_data / len(test_df))\n",
    "print('Positive:', positive, positive / len(test_df))"
   ]
  },
  {
   "cell_type": "code",
   "execution_count": 23,
   "metadata": {},
   "outputs": [],
   "source": [
    "train_raw = pd.read_csv('train_raw.csv', index_col=0)\n",
    "train_df = pd.read_csv('train_df.csv', index_col=0)"
   ]
  },
  {
   "cell_type": "code",
   "execution_count": 32,
   "metadata": {},
   "outputs": [],
   "source": [
    "res = []\n",
    "for i, row in train_df.iterrows():\n",
    "    pred = get_pred(row, train_raw)\n",
    "    res.append((pred[0], pred[1], row.star_rating))"
   ]
  },
  {
   "cell_type": "code",
   "execution_count": 33,
   "metadata": {},
   "outputs": [],
   "source": [
    "def get_weighted(jacc, knn, alpha):\n",
    "    if (jacc is None and knn is None):\n",
    "        return None\n",
    "    if (jacc is None):\n",
    "        return knn\n",
    "    if (knn is None):\n",
    "        return jacc\n",
    "    \n",
    "    return alpha * jacc + (1 - alpha) * knn"
   ]
  },
  {
   "cell_type": "code",
   "execution_count": 34,
   "metadata": {},
   "outputs": [
    {
     "name": "stdout",
     "output_type": "stream",
     "text": [
      "Best Results at Alpha: 0.22 Acc: 0.779257132083134\n"
     ]
    }
   ],
   "source": [
    "accs = []\n",
    "best_alpha = 0\n",
    "best_acc = 0\n",
    "for alpha_big in range(101):\n",
    "    alpha = alpha_big / 100\n",
    "    correct = 0\n",
    "    positive = 0\n",
    "    bad_data = 0\n",
    "    for jacc, knn, truth in res:\n",
    "        pred = get_weighted(jacc, knn, alpha)\n",
    "        #print(jacc, knn, correct, pred)\n",
    "        if (pred is None):\n",
    "            bad_data += 1\n",
    "            continue\n",
    "        if (pred > 3):\n",
    "            positive += 1\n",
    "        if (pred > 3 and truth > 3):\n",
    "            correct += 1\n",
    "        if (pred <= 3 and truth <= 3):\n",
    "            correct += 1\n",
    "    '''print('---', alpha, '---')\n",
    "    print('Correct:', correct, correct / len(train_df))\n",
    "    print('Bad:', bad_data, bad_data / len(train_df))\n",
    "    print('Positive:', positive, positive / len(train_df))'''\n",
    "    accs.append(correct / len(train_df))\n",
    "    if (correct / len(train_df) > best_acc):\n",
    "        best_acc, best_alpha = (correct / len(train_df)), alpha\n",
    "\n",
    "print('Best Results at Alpha: {} Acc: {}'.format(best_alpha, best_acc))        "
   ]
  },
  {
   "cell_type": "code",
   "execution_count": 35,
   "metadata": {},
   "outputs": [],
   "source": [
    "test_res = []\n",
    "for i, row in test_df.iterrows():\n",
    "    pred = get_pred(row, test_raw)\n",
    "    test_res.append((pred[0], pred[1], row.star_rating))"
   ]
  },
  {
   "cell_type": "code",
   "execution_count": 39,
   "metadata": {},
   "outputs": [
    {
     "name": "stdout",
     "output_type": "stream",
     "text": [
      "Best Results at Alpha: 0.32 Acc: 0.7565689467969599 Pos: 0.9046254071661238\n",
      "Correct Neg: 0.04030401737242128\n",
      "Correct Pos: 0.7162649294245386\n",
      "False Neg: 0.053507057546145494\n",
      "False Pos: 0.18836047774158524\n"
     ]
    }
   ],
   "source": [
    "threshhold = 3\n",
    "test_accs = []\n",
    "test_best_alpha = 0\n",
    "test_best_acc = 0\n",
    "test_best_pos = 0\n",
    "test_best_correct_pos = 0\n",
    "test_best_correct_neg = 0\n",
    "test_best_false_pos = 0\n",
    "test_best_false_neg = 0\n",
    "for alpha_big in range(101):\n",
    "    alpha = alpha_big / 100\n",
    "    correct = 0\n",
    "    positive = 0\n",
    "    bad_data = 0\n",
    "    correct_pos = 0\n",
    "    correct_neg = 0\n",
    "    false_neg = 0\n",
    "    false_pos = 0\n",
    "    for jacc, knn, truth in test_res:\n",
    "        pred = get_weighted(jacc, knn, alpha)\n",
    "        #print(jacc, knn, correct, pred)\n",
    "        if (pred is None):\n",
    "            bad_data += 1\n",
    "            continue\n",
    "        if (pred > threshhold):\n",
    "            positive += 1\n",
    "        if (pred > threshhold and truth > threshhold):\n",
    "            correct += 1\n",
    "            correct_pos += 1\n",
    "        if (pred <= threshhold and truth <= threshhold):\n",
    "            correct += 1\n",
    "            correct_neg += 1 \n",
    "        if (pred <= threshhold and truth > threshhold):\n",
    "            false_neg += 1 \n",
    "        if (pred > threshhold and truth <= threshhold):\n",
    "            false_pos += 1 \n",
    "    '''print('---', alpha, '---')\n",
    "    print('Correct:', correct, correct / len(train_df))\n",
    "    print('Bad:', bad_data, bad_data / len(train_df))\n",
    "    print('Positive:', positive, positive / len(train_df))'''\n",
    "    test_accs.append(correct / len(test_df))\n",
    "    if (correct / len(test_df) > test_best_acc):\n",
    "    #if (correct_neg > test_best_correct_neg):\n",
    "        test_best_acc, test_best_alpha, test_best_pos = (correct / len(test_df)), alpha, (positive / len(test_df))\n",
    "        test_best_correct_neg = correct_neg\n",
    "        test_best_correct_pos = correct_pos\n",
    "        test_best_false_pos = false_pos\n",
    "        test_best_false_neg = false_neg\n",
    "\n",
    "print('Best Results at Alpha: {} Acc: {} Pos: {}'.format(test_best_alpha, test_best_acc, test_best_pos))\n",
    "print('Correct Neg:', test_best_correct_neg / len(test_df))# len(test_df[test_df.star_rating <= threshhold]))\n",
    "print('Correct Pos:', test_best_correct_pos / len(test_df))#len(test_df[test_df.star_rating > threshhold]))\n",
    "print('False Neg:', test_best_false_neg / len(test_df))#len(test_df[test_df.star_rating <= threshhold])))\n",
    "print('False Pos:', test_best_false_pos / len(test_df))#len(test_df[test_df.star_rating > threshhold])))"
   ]
  },
  {
   "cell_type": "code",
   "execution_count": 147,
   "metadata": {},
   "outputs": [
    {
     "data": {
      "text/plain": [
       "0.775109138638704"
      ]
     },
     "execution_count": 147,
     "metadata": {},
     "output_type": "execute_result"
    }
   ],
   "source": [
    "max(accs)"
   ]
  },
  {
   "cell_type": "code",
   "execution_count": null,
   "metadata": {},
   "outputs": [],
   "source": []
  }
 ],
 "metadata": {
  "kernelspec": {
   "display_name": "Python 3",
   "language": "python",
   "name": "python3"
  },
  "language_info": {
   "codemirror_mode": {
    "name": "ipython",
    "version": 3
   },
   "file_extension": ".py",
   "mimetype": "text/x-python",
   "name": "python",
   "nbconvert_exporter": "python",
   "pygments_lexer": "ipython3",
   "version": "3.6.9"
  }
 },
 "nbformat": 4,
 "nbformat_minor": 2
}
