{
 "cells": [
  {
   "cell_type": "code",
   "execution_count": 127,
   "metadata": {},
   "outputs": [],
   "source": [
    "import pandas as pd\n",
    "from sklearn.ensemble import RandomForestClassifier"
   ]
  },
  {
   "cell_type": "code",
   "execution_count": 128,
   "metadata": {},
   "outputs": [
    {
     "data": {
      "text/html": [
       "<div>\n",
       "<style scoped>\n",
       "    .dataframe tbody tr th:only-of-type {\n",
       "        vertical-align: middle;\n",
       "    }\n",
       "\n",
       "    .dataframe tbody tr th {\n",
       "        vertical-align: top;\n",
       "    }\n",
       "\n",
       "    .dataframe thead th {\n",
       "        text-align: right;\n",
       "    }\n",
       "</style>\n",
       "<table border=\"1\" class=\"dataframe\">\n",
       "  <thead>\n",
       "    <tr style=\"text-align: right;\">\n",
       "      <th></th>\n",
       "      <th>customer_id</th>\n",
       "      <th>product_parent</th>\n",
       "      <th>positive</th>\n",
       "      <th>cust_review_count</th>\n",
       "      <th>cust_star_rating_mean</th>\n",
       "      <th>cust_star_rating_std</th>\n",
       "      <th>prod_review_count</th>\n",
       "      <th>prod_star_rating_mean</th>\n",
       "      <th>prod_star_rating_std</th>\n",
       "      <th>pos_sim</th>\n",
       "      <th>neg_sim</th>\n",
       "    </tr>\n",
       "  </thead>\n",
       "  <tbody>\n",
       "    <tr>\n",
       "      <th>0</th>\n",
       "      <td>1617361</td>\n",
       "      <td>849246716</td>\n",
       "      <td>1</td>\n",
       "      <td>5</td>\n",
       "      <td>5.000000</td>\n",
       "      <td>0.000000</td>\n",
       "      <td>297</td>\n",
       "      <td>4.872054</td>\n",
       "      <td>0.363625</td>\n",
       "      <td>0.033451</td>\n",
       "      <td>0.000000</td>\n",
       "    </tr>\n",
       "    <tr>\n",
       "      <th>1</th>\n",
       "      <td>53052607</td>\n",
       "      <td>849246716</td>\n",
       "      <td>0</td>\n",
       "      <td>5</td>\n",
       "      <td>3.600000</td>\n",
       "      <td>0.547723</td>\n",
       "      <td>297</td>\n",
       "      <td>4.872054</td>\n",
       "      <td>0.363625</td>\n",
       "      <td>0.012478</td>\n",
       "      <td>0.009009</td>\n",
       "    </tr>\n",
       "    <tr>\n",
       "      <th>2</th>\n",
       "      <td>15679577</td>\n",
       "      <td>849246716</td>\n",
       "      <td>1</td>\n",
       "      <td>8</td>\n",
       "      <td>3.375000</td>\n",
       "      <td>1.505941</td>\n",
       "      <td>297</td>\n",
       "      <td>4.872054</td>\n",
       "      <td>0.363625</td>\n",
       "      <td>0.007220</td>\n",
       "      <td>0.033333</td>\n",
       "    </tr>\n",
       "    <tr>\n",
       "      <th>3</th>\n",
       "      <td>16367779</td>\n",
       "      <td>849246716</td>\n",
       "      <td>1</td>\n",
       "      <td>9</td>\n",
       "      <td>4.444444</td>\n",
       "      <td>0.527046</td>\n",
       "      <td>297</td>\n",
       "      <td>4.872054</td>\n",
       "      <td>0.363625</td>\n",
       "      <td>0.095238</td>\n",
       "      <td>0.000000</td>\n",
       "    </tr>\n",
       "    <tr>\n",
       "      <th>4</th>\n",
       "      <td>25485198</td>\n",
       "      <td>849246716</td>\n",
       "      <td>1</td>\n",
       "      <td>17</td>\n",
       "      <td>5.000000</td>\n",
       "      <td>0.000000</td>\n",
       "      <td>297</td>\n",
       "      <td>4.872054</td>\n",
       "      <td>0.363625</td>\n",
       "      <td>0.010870</td>\n",
       "      <td>0.000000</td>\n",
       "    </tr>\n",
       "  </tbody>\n",
       "</table>\n",
       "</div>"
      ],
      "text/plain": [
       "   customer_id  product_parent  positive  cust_review_count  \\\n",
       "0      1617361       849246716         1                  5   \n",
       "1     53052607       849246716         0                  5   \n",
       "2     15679577       849246716         1                  8   \n",
       "3     16367779       849246716         1                  9   \n",
       "4     25485198       849246716         1                 17   \n",
       "\n",
       "   cust_star_rating_mean  cust_star_rating_std  prod_review_count  \\\n",
       "0               5.000000              0.000000                297   \n",
       "1               3.600000              0.547723                297   \n",
       "2               3.375000              1.505941                297   \n",
       "3               4.444444              0.527046                297   \n",
       "4               5.000000              0.000000                297   \n",
       "\n",
       "   prod_star_rating_mean  prod_star_rating_std   pos_sim   neg_sim  \n",
       "0               4.872054              0.363625  0.033451  0.000000  \n",
       "1               4.872054              0.363625  0.012478  0.009009  \n",
       "2               4.872054              0.363625  0.007220  0.033333  \n",
       "3               4.872054              0.363625  0.095238  0.000000  \n",
       "4               4.872054              0.363625  0.010870  0.000000  "
      ]
     },
     "execution_count": 128,
     "metadata": {},
     "output_type": "execute_result"
    }
   ],
   "source": [
    "train_df = pd.read_csv('train_df.csv', index_col=0)\n",
    "train_df.drop(['star_rating', 'pos_corpus', 'neg_corpus', 'pos_1', 'pos_2', 'pos_3', \n",
    "               'neg_1', 'neg_2', 'neg_3', 'prod_corpus'], axis=1, inplace=True)\n",
    "train_df.drop(['cust_total_votes_mean', 'cust_total_votes_std', 'cust_helpful_votes_mean', 'cust_helpful_votes_std', \n",
    "               'prod_total_votes_mean', 'prod_total_votes_std', 'prod_helpful_votes_mean', 'prod_helpful_votes_std'], \n",
    "              axis=1, inplace=True)\n",
    "train_df.head()"
   ]
  },
  {
   "cell_type": "code",
   "execution_count": 129,
   "metadata": {},
   "outputs": [
    {
     "data": {
      "text/html": [
       "<div>\n",
       "<style scoped>\n",
       "    .dataframe tbody tr th:only-of-type {\n",
       "        vertical-align: middle;\n",
       "    }\n",
       "\n",
       "    .dataframe tbody tr th {\n",
       "        vertical-align: top;\n",
       "    }\n",
       "\n",
       "    .dataframe thead th {\n",
       "        text-align: right;\n",
       "    }\n",
       "</style>\n",
       "<table border=\"1\" class=\"dataframe\">\n",
       "  <thead>\n",
       "    <tr style=\"text-align: right;\">\n",
       "      <th></th>\n",
       "      <th>customer_id</th>\n",
       "      <th>product_parent</th>\n",
       "      <th>positive</th>\n",
       "      <th>cust_review_count</th>\n",
       "      <th>cust_star_rating_mean</th>\n",
       "      <th>cust_star_rating_std</th>\n",
       "      <th>prod_review_count</th>\n",
       "      <th>prod_star_rating_mean</th>\n",
       "      <th>prod_star_rating_std</th>\n",
       "      <th>pos_sim</th>\n",
       "      <th>neg_sim</th>\n",
       "    </tr>\n",
       "  </thead>\n",
       "  <tbody>\n",
       "    <tr>\n",
       "      <th>0</th>\n",
       "      <td>36330222</td>\n",
       "      <td>986428010</td>\n",
       "      <td>1</td>\n",
       "      <td>24</td>\n",
       "      <td>4.291667</td>\n",
       "      <td>1.267629</td>\n",
       "      <td>18</td>\n",
       "      <td>4.333333</td>\n",
       "      <td>1.188177</td>\n",
       "      <td>0.070423</td>\n",
       "      <td>0.012295</td>\n",
       "    </tr>\n",
       "    <tr>\n",
       "      <th>1</th>\n",
       "      <td>24360083</td>\n",
       "      <td>986428010</td>\n",
       "      <td>1</td>\n",
       "      <td>23</td>\n",
       "      <td>4.347826</td>\n",
       "      <td>1.191206</td>\n",
       "      <td>18</td>\n",
       "      <td>4.333333</td>\n",
       "      <td>1.188177</td>\n",
       "      <td>0.095361</td>\n",
       "      <td>0.049808</td>\n",
       "    </tr>\n",
       "    <tr>\n",
       "      <th>2</th>\n",
       "      <td>28891040</td>\n",
       "      <td>437083384</td>\n",
       "      <td>1</td>\n",
       "      <td>10</td>\n",
       "      <td>4.500000</td>\n",
       "      <td>0.707107</td>\n",
       "      <td>407</td>\n",
       "      <td>4.503686</td>\n",
       "      <td>0.887439</td>\n",
       "      <td>0.006944</td>\n",
       "      <td>0.005208</td>\n",
       "    </tr>\n",
       "    <tr>\n",
       "      <th>3</th>\n",
       "      <td>52449052</td>\n",
       "      <td>437083384</td>\n",
       "      <td>0</td>\n",
       "      <td>5</td>\n",
       "      <td>3.400000</td>\n",
       "      <td>1.516575</td>\n",
       "      <td>407</td>\n",
       "      <td>4.503686</td>\n",
       "      <td>0.887439</td>\n",
       "      <td>0.010390</td>\n",
       "      <td>0.059514</td>\n",
       "    </tr>\n",
       "    <tr>\n",
       "      <th>4</th>\n",
       "      <td>27192976</td>\n",
       "      <td>437083384</td>\n",
       "      <td>1</td>\n",
       "      <td>6</td>\n",
       "      <td>4.666667</td>\n",
       "      <td>0.816497</td>\n",
       "      <td>407</td>\n",
       "      <td>4.503686</td>\n",
       "      <td>0.887439</td>\n",
       "      <td>0.012942</td>\n",
       "      <td>0.003460</td>\n",
       "    </tr>\n",
       "  </tbody>\n",
       "</table>\n",
       "</div>"
      ],
      "text/plain": [
       "   customer_id  product_parent  positive  cust_review_count  \\\n",
       "0     36330222       986428010         1                 24   \n",
       "1     24360083       986428010         1                 23   \n",
       "2     28891040       437083384         1                 10   \n",
       "3     52449052       437083384         0                  5   \n",
       "4     27192976       437083384         1                  6   \n",
       "\n",
       "   cust_star_rating_mean  cust_star_rating_std  prod_review_count  \\\n",
       "0               4.291667              1.267629                 18   \n",
       "1               4.347826              1.191206                 18   \n",
       "2               4.500000              0.707107                407   \n",
       "3               3.400000              1.516575                407   \n",
       "4               4.666667              0.816497                407   \n",
       "\n",
       "   prod_star_rating_mean  prod_star_rating_std   pos_sim   neg_sim  \n",
       "0               4.333333              1.188177  0.070423  0.012295  \n",
       "1               4.333333              1.188177  0.095361  0.049808  \n",
       "2               4.503686              0.887439  0.006944  0.005208  \n",
       "3               4.503686              0.887439  0.010390  0.059514  \n",
       "4               4.503686              0.887439  0.012942  0.003460  "
      ]
     },
     "execution_count": 129,
     "metadata": {},
     "output_type": "execute_result"
    }
   ],
   "source": [
    "test_df = pd.read_csv('test_df.csv', index_col=0)\n",
    "test_df.drop(['star_rating', 'pos_corpus', 'neg_corpus', 'pos_1', 'pos_2', 'pos_3', \n",
    "               'neg_1', 'neg_2', 'neg_3', 'prod_corpus'], axis=1, inplace=True)\n",
    "test_df.drop(['cust_total_votes_mean', 'cust_total_votes_std', 'cust_helpful_votes_mean', 'cust_helpful_votes_std', \n",
    "               'prod_total_votes_mean', 'prod_total_votes_std', 'prod_helpful_votes_mean', 'prod_helpful_votes_std'], \n",
    "              axis=1, inplace=True)\n",
    "test_df.head()"
   ]
  },
  {
   "cell_type": "code",
   "execution_count": 98,
   "metadata": {},
   "outputs": [
    {
     "data": {
      "text/plain": [
       "0.5690336590662324"
      ]
     },
     "execution_count": 98,
     "metadata": {},
     "output_type": "execute_result"
    }
   ],
   "source": [
    "#len(test_df.query('positive == 1')) / len(test_df)\n",
    "#train_df.drop('star_rating', axis=1, inplace=True)\n",
    "#test_df.drop('star_rating', axis=1, inplace=True)"
   ]
  },
  {
   "cell_type": "code",
   "execution_count": 88,
   "metadata": {},
   "outputs": [],
   "source": [
    "from sklearn import preprocessing\n",
    "def normalize(df):\n",
    "    min_max_scaler = preprocessing.MinMaxScaler()\n",
    "    newdf = pd.DataFrame(min_max_scaler.fit_transform(df), columns=df.columns)\n",
    "\n",
    "    return df"
   ]
  },
  {
   "cell_type": "code",
   "execution_count": 130,
   "metadata": {},
   "outputs": [],
   "source": [
    "train_ids = train_df[['customer_id', 'product_parent']]"
   ]
  },
  {
   "cell_type": "code",
   "execution_count": 131,
   "metadata": {},
   "outputs": [
    {
     "data": {
      "text/html": [
       "<div>\n",
       "<style scoped>\n",
       "    .dataframe tbody tr th:only-of-type {\n",
       "        vertical-align: middle;\n",
       "    }\n",
       "\n",
       "    .dataframe tbody tr th {\n",
       "        vertical-align: top;\n",
       "    }\n",
       "\n",
       "    .dataframe thead th {\n",
       "        text-align: right;\n",
       "    }\n",
       "</style>\n",
       "<table border=\"1\" class=\"dataframe\">\n",
       "  <thead>\n",
       "    <tr style=\"text-align: right;\">\n",
       "      <th></th>\n",
       "      <th>customer_id</th>\n",
       "      <th>product_parent</th>\n",
       "      <th>positive</th>\n",
       "      <th>cust_review_count</th>\n",
       "      <th>cust_star_rating_mean</th>\n",
       "      <th>cust_star_rating_std</th>\n",
       "      <th>prod_review_count</th>\n",
       "      <th>prod_star_rating_mean</th>\n",
       "      <th>prod_star_rating_std</th>\n",
       "      <th>pos_sim</th>\n",
       "      <th>neg_sim</th>\n",
       "    </tr>\n",
       "  </thead>\n",
       "  <tbody>\n",
       "    <tr>\n",
       "      <th>0</th>\n",
       "      <td>1617361</td>\n",
       "      <td>849246716</td>\n",
       "      <td>1.0</td>\n",
       "      <td>0.003717</td>\n",
       "      <td>1.000000</td>\n",
       "      <td>0.000000</td>\n",
       "      <td>0.047284</td>\n",
       "      <td>0.968013</td>\n",
       "      <td>0.128561</td>\n",
       "      <td>0.076459</td>\n",
       "      <td>0.000000</td>\n",
       "    </tr>\n",
       "    <tr>\n",
       "      <th>1</th>\n",
       "      <td>53052607</td>\n",
       "      <td>849246716</td>\n",
       "      <td>0.0</td>\n",
       "      <td>0.003717</td>\n",
       "      <td>0.650000</td>\n",
       "      <td>0.237171</td>\n",
       "      <td>0.047284</td>\n",
       "      <td>0.968013</td>\n",
       "      <td>0.128561</td>\n",
       "      <td>0.028520</td>\n",
       "      <td>0.009009</td>\n",
       "    </tr>\n",
       "    <tr>\n",
       "      <th>2</th>\n",
       "      <td>15679577</td>\n",
       "      <td>849246716</td>\n",
       "      <td>1.0</td>\n",
       "      <td>0.007435</td>\n",
       "      <td>0.593750</td>\n",
       "      <td>0.652091</td>\n",
       "      <td>0.047284</td>\n",
       "      <td>0.968013</td>\n",
       "      <td>0.128561</td>\n",
       "      <td>0.016503</td>\n",
       "      <td>0.033333</td>\n",
       "    </tr>\n",
       "    <tr>\n",
       "      <th>3</th>\n",
       "      <td>16367779</td>\n",
       "      <td>849246716</td>\n",
       "      <td>1.0</td>\n",
       "      <td>0.008674</td>\n",
       "      <td>0.861111</td>\n",
       "      <td>0.228218</td>\n",
       "      <td>0.047284</td>\n",
       "      <td>0.968013</td>\n",
       "      <td>0.128561</td>\n",
       "      <td>0.217687</td>\n",
       "      <td>0.000000</td>\n",
       "    </tr>\n",
       "    <tr>\n",
       "      <th>4</th>\n",
       "      <td>25485198</td>\n",
       "      <td>849246716</td>\n",
       "      <td>1.0</td>\n",
       "      <td>0.018587</td>\n",
       "      <td>1.000000</td>\n",
       "      <td>0.000000</td>\n",
       "      <td>0.047284</td>\n",
       "      <td>0.968013</td>\n",
       "      <td>0.128561</td>\n",
       "      <td>0.024845</td>\n",
       "      <td>0.000000</td>\n",
       "    </tr>\n",
       "  </tbody>\n",
       "</table>\n",
       "</div>"
      ],
      "text/plain": [
       "   customer_id  product_parent  positive  cust_review_count  \\\n",
       "0      1617361       849246716       1.0           0.003717   \n",
       "1     53052607       849246716       0.0           0.003717   \n",
       "2     15679577       849246716       1.0           0.007435   \n",
       "3     16367779       849246716       1.0           0.008674   \n",
       "4     25485198       849246716       1.0           0.018587   \n",
       "\n",
       "   cust_star_rating_mean  cust_star_rating_std  prod_review_count  \\\n",
       "0               1.000000              0.000000           0.047284   \n",
       "1               0.650000              0.237171           0.047284   \n",
       "2               0.593750              0.652091           0.047284   \n",
       "3               0.861111              0.228218           0.047284   \n",
       "4               1.000000              0.000000           0.047284   \n",
       "\n",
       "   prod_star_rating_mean  prod_star_rating_std   pos_sim   neg_sim  \n",
       "0               0.968013              0.128561  0.076459  0.000000  \n",
       "1               0.968013              0.128561  0.028520  0.009009  \n",
       "2               0.968013              0.128561  0.016503  0.033333  \n",
       "3               0.968013              0.128561  0.217687  0.000000  \n",
       "4               0.968013              0.128561  0.024845  0.000000  "
      ]
     },
     "execution_count": 131,
     "metadata": {},
     "output_type": "execute_result"
    }
   ],
   "source": [
    "from sklearn import preprocessing\n",
    "min_max_scaler = preprocessing.MinMaxScaler()\n",
    "train_df_norm = pd.DataFrame(min_max_scaler.fit_transform(train_df), columns=train_df.columns)\n",
    "train_df_norm[['customer_id', 'product_parent']] = train_ids\n",
    "train_df_norm.head()"
   ]
  },
  {
   "cell_type": "code",
   "execution_count": 132,
   "metadata": {},
   "outputs": [],
   "source": [
    "test_ids = test_df[['customer_id', 'product_parent']] "
   ]
  },
  {
   "cell_type": "code",
   "execution_count": 133,
   "metadata": {},
   "outputs": [
    {
     "data": {
      "text/html": [
       "<div>\n",
       "<style scoped>\n",
       "    .dataframe tbody tr th:only-of-type {\n",
       "        vertical-align: middle;\n",
       "    }\n",
       "\n",
       "    .dataframe tbody tr th {\n",
       "        vertical-align: top;\n",
       "    }\n",
       "\n",
       "    .dataframe thead th {\n",
       "        text-align: right;\n",
       "    }\n",
       "</style>\n",
       "<table border=\"1\" class=\"dataframe\">\n",
       "  <thead>\n",
       "    <tr style=\"text-align: right;\">\n",
       "      <th></th>\n",
       "      <th>customer_id</th>\n",
       "      <th>product_parent</th>\n",
       "      <th>positive</th>\n",
       "      <th>cust_review_count</th>\n",
       "      <th>cust_star_rating_mean</th>\n",
       "      <th>cust_star_rating_std</th>\n",
       "      <th>prod_review_count</th>\n",
       "      <th>prod_star_rating_mean</th>\n",
       "      <th>prod_star_rating_std</th>\n",
       "      <th>pos_sim</th>\n",
       "      <th>neg_sim</th>\n",
       "    </tr>\n",
       "  </thead>\n",
       "  <tbody>\n",
       "    <tr>\n",
       "      <th>0</th>\n",
       "      <td>36330222</td>\n",
       "      <td>986428010</td>\n",
       "      <td>1.0</td>\n",
       "      <td>0.027261</td>\n",
       "      <td>0.822917</td>\n",
       "      <td>0.548900</td>\n",
       "      <td>0.002716</td>\n",
       "      <td>0.833333</td>\n",
       "      <td>0.420084</td>\n",
       "      <td>0.160966</td>\n",
       "      <td>0.012295</td>\n",
       "    </tr>\n",
       "    <tr>\n",
       "      <th>1</th>\n",
       "      <td>24360083</td>\n",
       "      <td>986428010</td>\n",
       "      <td>1.0</td>\n",
       "      <td>0.026022</td>\n",
       "      <td>0.836957</td>\n",
       "      <td>0.515807</td>\n",
       "      <td>0.002716</td>\n",
       "      <td>0.833333</td>\n",
       "      <td>0.420084</td>\n",
       "      <td>0.217968</td>\n",
       "      <td>0.049808</td>\n",
       "    </tr>\n",
       "    <tr>\n",
       "      <th>2</th>\n",
       "      <td>28891040</td>\n",
       "      <td>437083384</td>\n",
       "      <td>1.0</td>\n",
       "      <td>0.009913</td>\n",
       "      <td>0.875000</td>\n",
       "      <td>0.306186</td>\n",
       "      <td>0.064856</td>\n",
       "      <td>0.875921</td>\n",
       "      <td>0.313757</td>\n",
       "      <td>0.015873</td>\n",
       "      <td>0.005208</td>\n",
       "    </tr>\n",
       "    <tr>\n",
       "      <th>3</th>\n",
       "      <td>52449052</td>\n",
       "      <td>437083384</td>\n",
       "      <td>0.0</td>\n",
       "      <td>0.003717</td>\n",
       "      <td>0.600000</td>\n",
       "      <td>0.656696</td>\n",
       "      <td>0.064856</td>\n",
       "      <td>0.875921</td>\n",
       "      <td>0.313757</td>\n",
       "      <td>0.023748</td>\n",
       "      <td>0.059514</td>\n",
       "    </tr>\n",
       "    <tr>\n",
       "      <th>4</th>\n",
       "      <td>27192976</td>\n",
       "      <td>437083384</td>\n",
       "      <td>1.0</td>\n",
       "      <td>0.004957</td>\n",
       "      <td>0.916667</td>\n",
       "      <td>0.353553</td>\n",
       "      <td>0.064856</td>\n",
       "      <td>0.875921</td>\n",
       "      <td>0.313757</td>\n",
       "      <td>0.029582</td>\n",
       "      <td>0.003460</td>\n",
       "    </tr>\n",
       "  </tbody>\n",
       "</table>\n",
       "</div>"
      ],
      "text/plain": [
       "   customer_id  product_parent  positive  cust_review_count  \\\n",
       "0     36330222       986428010       1.0           0.027261   \n",
       "1     24360083       986428010       1.0           0.026022   \n",
       "2     28891040       437083384       1.0           0.009913   \n",
       "3     52449052       437083384       0.0           0.003717   \n",
       "4     27192976       437083384       1.0           0.004957   \n",
       "\n",
       "   cust_star_rating_mean  cust_star_rating_std  prod_review_count  \\\n",
       "0               0.822917              0.548900           0.002716   \n",
       "1               0.836957              0.515807           0.002716   \n",
       "2               0.875000              0.306186           0.064856   \n",
       "3               0.600000              0.656696           0.064856   \n",
       "4               0.916667              0.353553           0.064856   \n",
       "\n",
       "   prod_star_rating_mean  prod_star_rating_std   pos_sim   neg_sim  \n",
       "0               0.833333              0.420084  0.160966  0.012295  \n",
       "1               0.833333              0.420084  0.217968  0.049808  \n",
       "2               0.875921              0.313757  0.015873  0.005208  \n",
       "3               0.875921              0.313757  0.023748  0.059514  \n",
       "4               0.875921              0.313757  0.029582  0.003460  "
      ]
     },
     "execution_count": 133,
     "metadata": {},
     "output_type": "execute_result"
    }
   ],
   "source": [
    "test_df_norm = pd.DataFrame(min_max_scaler.transform(test_df), columns=test_df.columns)\n",
    "test_df_norm[['customer_id', 'product_parent']]  = test_ids\n",
    "test_df_norm.head()"
   ]
  },
  {
   "cell_type": "code",
   "execution_count": 134,
   "metadata": {},
   "outputs": [],
   "source": [
    "train_x, train_y = train_df.drop('positive', axis=1), train_df['positive']\n",
    "test_x, test_y = test_df.drop('positive', axis=1), test_df['positive']\n",
    "train_x_norm = train_df_norm.drop('positive', axis=1)\n",
    "test_x_norm = test_df.drop('positive', axis=1)"
   ]
  },
  {
   "cell_type": "code",
   "execution_count": 94,
   "metadata": {},
   "outputs": [
    {
     "data": {
      "text/plain": [
       "(array([ 9923.,     0.,     0.,     0.,     0.,     0.,     0.,     0.,\n",
       "            0., 13102.]),\n",
       " array([0. , 0.1, 0.2, 0.3, 0.4, 0.5, 0.6, 0.7, 0.8, 0.9, 1. ]),\n",
       " <a list of 10 Patch objects>)"
      ]
     },
     "execution_count": 94,
     "metadata": {},
     "output_type": "execute_result"
    },
    {
     "data": {
      "image/png": "[encoded data removed]",
      "text/plain": [
       "<Figure size 432x288 with 1 Axes>"
      ]
     },
     "metadata": {
      "needs_background": "light"
     },
     "output_type": "display_data"
    }
   ],
   "source": [
    "plt.hist(test_y)"
   ]
  },
  {
   "cell_type": "code",
   "execution_count": 122,
   "metadata": {},
   "outputs": [
    {
     "data": {
      "text/plain": [
       "RandomForestClassifier(bootstrap=True, ccp_alpha=0.0, class_weight=None,\n",
       "                       criterion='entropy', max_depth=None, max_features='auto',\n",
       "                       max_leaf_nodes=None, max_samples=None,\n",
       "                       min_impurity_decrease=0.0, min_impurity_split=None,\n",
       "                       min_samples_leaf=1, min_samples_split=2,\n",
       "                       min_weight_fraction_leaf=0.0, n_estimators=1000,\n",
       "                       n_jobs=None, oob_score=False, random_state=None,\n",
       "                       verbose=0, warm_start=False)"
      ]
     },
     "execution_count": 122,
     "metadata": {},
     "output_type": "execute_result"
    }
   ],
   "source": [
    "rf = RandomForestClassifier(n_estimators=1000, criterion='entropy')\n",
    "rf.fit(train_x, train_y)"
   ]
  },
  {
   "cell_type": "code",
   "execution_count": 123,
   "metadata": {},
   "outputs": [
    {
     "data": {
      "text/plain": [
       "0.6793919652551574"
      ]
     },
     "execution_count": 123,
     "metadata": {},
     "output_type": "execute_result"
    }
   ],
   "source": [
    "rf.score(test_x, test_y)"
   ]
  },
  {
   "cell_type": "code",
   "execution_count": 137,
   "metadata": {},
   "outputs": [
    {
     "data": {
      "text/plain": [
       "KNeighborsClassifier(algorithm='auto', leaf_size=30, metric='minkowski',\n",
       "                     metric_params=None, n_jobs=None, n_neighbors=3, p=2,\n",
       "                     weights='distance')"
      ]
     },
     "execution_count": 137,
     "metadata": {},
     "output_type": "execute_result"
    }
   ],
   "source": [
    "from sklearn.neighbors import KNeighborsClassifier\n",
    "knn = KNeighborsClassifier(n_neighbors=3, weights='distance')\n",
    "knn.fit(train_x_norm.drop(['customer_id', 'product_parent'], axis=1), train_y)"
   ]
  },
  {
   "cell_type": "code",
   "execution_count": 138,
   "metadata": {},
   "outputs": [
    {
     "data": {
      "text/plain": [
       "0.762171552660152"
      ]
     },
     "execution_count": 138,
     "metadata": {},
     "output_type": "execute_result"
    }
   ],
   "source": [
    "knn.score(test_x.drop(['customer_id', 'product_parent'], axis=1), test_y)"
   ]
  },
  {
   "cell_type": "code",
   "execution_count": 139,
   "metadata": {},
   "outputs": [
    {
     "data": {
      "text/plain": [
       "GaussianNB(priors=None, var_smoothing=1e-09)"
      ]
     },
     "execution_count": 139,
     "metadata": {},
     "output_type": "execute_result"
    }
   ],
   "source": [
    "from sklearn.naive_bayes import GaussianNB\n",
    "gnb = GaussianNB()\n",
    "gnb.fit(train_x.drop(['customer_id', 'product_parent'], axis=1), train_y)"
   ]
  },
  {
   "cell_type": "code",
   "execution_count": 140,
   "metadata": {},
   "outputs": [
    {
     "data": {
      "text/plain": [
       "0.7466666666666667"
      ]
     },
     "execution_count": 140,
     "metadata": {},
     "output_type": "execute_result"
    }
   ],
   "source": [
    "gnb.score(test_x.drop(['customer_id', 'product_parent'], axis=1), test_y)"
   ]
  },
  {
   "cell_type": "code",
   "execution_count": 111,
   "metadata": {},
   "outputs": [],
   "source": [
    "from keras import models\n",
    "from keras import layers\n",
    "from keras.utils import to_categorical\n",
    "import numpy as np\n",
    "import matplotlib.pyplot as plt"
   ]
  },
  {
   "cell_type": "code",
   "execution_count": 112,
   "metadata": {},
   "outputs": [],
   "source": [
    "nn_train_x = train_x_norm.drop(['customer_id', 'product_parent'], axis=1)\n",
    "nn_test_x = test_x_norm.drop(['customer_id', 'product_parent'], axis=1)"
   ]
  },
  {
   "cell_type": "code",
   "execution_count": 113,
   "metadata": {},
   "outputs": [
    {
     "data": {
      "text/plain": [
       "(68949, 8)"
      ]
     },
     "execution_count": 113,
     "metadata": {},
     "output_type": "execute_result"
    }
   ],
   "source": [
    "np.shape(nn_train_x)"
   ]
  },
  {
   "cell_type": "code",
   "execution_count": 39,
   "metadata": {},
   "outputs": [],
   "source": [
    "train_y_cat = to_categorical(train_y)\n",
    "test_y_cat = to_categorical(test_y)"
   ]
  },
  {
   "cell_type": "code",
   "execution_count": 40,
   "metadata": {},
   "outputs": [
    {
     "data": {
      "text/plain": [
       "array([[0., 0., 0., 0., 0., 1.],\n",
       "       [0., 0., 0., 1., 0., 0.],\n",
       "       [0., 0., 0., 0., 0., 1.],\n",
       "       ...,\n",
       "       [0., 0., 0., 0., 0., 1.],\n",
       "       [0., 0., 0., 0., 0., 1.],\n",
       "       [0., 0., 0., 0., 0., 1.]], dtype=float32)"
      ]
     },
     "execution_count": 40,
     "metadata": {},
     "output_type": "execute_result"
    }
   ],
   "source": [
    "train_y_cat"
   ]
  },
  {
   "cell_type": "code",
   "execution_count": 118,
   "metadata": {},
   "outputs": [
    {
     "name": "stdout",
     "output_type": "stream",
     "text": [
      "Model: \"sequential_5\"\n",
      "_________________________________________________________________\n",
      "Layer (type)                 Output Shape              Param #   \n",
      "=================================================================\n",
      "dense_41 (Dense)             (None, 1024)              9216      \n",
      "_________________________________________________________________\n",
      "dense_42 (Dense)             (None, 1024)              1049600   \n",
      "_________________________________________________________________\n",
      "dense_43 (Dense)             (None, 1024)              1049600   \n",
      "_________________________________________________________________\n",
      "dense_44 (Dense)             (None, 512)               524800    \n",
      "_________________________________________________________________\n",
      "dense_45 (Dense)             (None, 512)               262656    \n",
      "_________________________________________________________________\n",
      "dense_46 (Dense)             (None, 512)               262656    \n",
      "_________________________________________________________________\n",
      "dense_47 (Dense)             (None, 256)               131328    \n",
      "_________________________________________________________________\n",
      "dense_48 (Dense)             (None, 256)               65792     \n",
      "_________________________________________________________________\n",
      "dense_49 (Dense)             (None, 256)               65792     \n",
      "_________________________________________________________________\n",
      "dense_50 (Dense)             (None, 128)               32896     \n",
      "_________________________________________________________________\n",
      "dense_51 (Dense)             (None, 128)               16512     \n",
      "_________________________________________________________________\n",
      "dense_52 (Dense)             (None, 128)               16512     \n",
      "_________________________________________________________________\n",
      "dense_53 (Dense)             (None, 1)                 129       \n",
      "=================================================================\n",
      "Total params: 3,487,489\n",
      "Trainable params: 3,487,489\n",
      "Non-trainable params: 0\n",
      "_________________________________________________________________\n"
     ]
    }
   ],
   "source": [
    "network = models.Sequential()\n",
    "network.add(layers.Dense(1024, activation='relu', input_shape=(8,)))\n",
    "#network.add(layers.Dropout(0.5))\n",
    "network.add(layers.Dense(1024, activation='relu', input_shape=(1024,)))\n",
    "network.add(layers.Dense(1024, activation='relu', input_shape=(1024,)))\n",
    "network.add(layers.Dense(512, activation='relu', input_shape=(1024,)))\n",
    "#network.add(layers.Dropout(0.5))\n",
    "network.add(layers.Dense(512, activation='relu', input_shape=(512,)))\n",
    "network.add(layers.Dense(512, activation='relu', input_shape=(512,)))\n",
    "network.add(layers.Dense(256, activation='relu', input_shape=(512,)))\n",
    "#network.add(layers.Dropout(0.5))\n",
    "network.add(layers.Dense(256, activation='relu', input_shape=(256,)))\n",
    "network.add(layers.Dense(256, activation='relu', input_shape=(256,)))\n",
    "network.add(layers.Dense(128, activation='relu', input_shape=(256,)))\n",
    "#network.add(layers.Dropout(0.5))\n",
    "network.add(layers.Dense(128, activation='relu', input_shape=(128,)))\n",
    "network.add(layers.Dense(128, activation='relu', input_shape=(128,)))\n",
    "network.add(layers.Dense(1, activation='sigmoid', input_shape=(128,)))\n",
    "network.summary()"
   ]
  },
  {
   "cell_type": "code",
   "execution_count": 119,
   "metadata": {},
   "outputs": [
    {
     "name": "stdout",
     "output_type": "stream",
     "text": [
      "Train on 68949 samples, validate on 23025 samples\n",
      "Epoch 1/30\n",
      "68949/68949 [==============================] - 4s 63us/step - loss: 0.6240 - accuracy: 0.6687 - val_loss: 114.9830 - val_accuracy: 0.5690\n",
      "Epoch 2/30\n",
      "68949/68949 [==============================] - 4s 56us/step - loss: 0.5863 - accuracy: 0.6897 - val_loss: 106.2683 - val_accuracy: 0.5690\n",
      "Epoch 3/30\n",
      "68949/68949 [==============================] - 4s 59us/step - loss: 0.5811 - accuracy: 0.6941 - val_loss: 139.8220 - val_accuracy: 0.5690\n",
      "Epoch 4/30\n",
      "68949/68949 [==============================] - 4s 55us/step - loss: 0.5790 - accuracy: 0.6932 - val_loss: 246.6450 - val_accuracy: 0.5690\n",
      "Epoch 5/30\n",
      "68949/68949 [==============================] - 4s 55us/step - loss: 0.5755 - accuracy: 0.6983 - val_loss: 143.1838 - val_accuracy: 0.5690\n",
      "Epoch 6/30\n",
      "68949/68949 [==============================] - 4s 55us/step - loss: 0.5761 - accuracy: 0.6986 - val_loss: 297.2828 - val_accuracy: 0.5690\n",
      "Epoch 7/30\n",
      "68949/68949 [==============================] - 4s 54us/step - loss: 0.5751 - accuracy: 0.7005 - val_loss: 299.3624 - val_accuracy: 0.5793\n",
      "Epoch 8/30\n",
      "68949/68949 [==============================] - 4s 54us/step - loss: 0.5718 - accuracy: 0.7000 - val_loss: 223.9475 - val_accuracy: 0.5690\n",
      "Epoch 9/30\n",
      "68949/68949 [==============================] - 4s 54us/step - loss: 0.5703 - accuracy: 0.7018 - val_loss: 91.7395 - val_accuracy: 0.5925\n",
      "Epoch 10/30\n",
      "68949/68949 [==============================] - 4s 54us/step - loss: 0.5739 - accuracy: 0.7004 - val_loss: 338.5991 - val_accuracy: 0.5825\n",
      "Epoch 11/30\n",
      "68949/68949 [==============================] - 4s 54us/step - loss: 0.5712 - accuracy: 0.7011 - val_loss: 309.6507 - val_accuracy: 0.5690\n",
      "Epoch 12/30\n",
      "68949/68949 [==============================] - 4s 54us/step - loss: 0.5707 - accuracy: 0.7022 - val_loss: 335.2288 - val_accuracy: 0.5732\n",
      "Epoch 13/30\n",
      "68949/68949 [==============================] - 4s 54us/step - loss: 0.5692 - accuracy: 0.7037 - val_loss: 1520.2152 - val_accuracy: 0.5813\n",
      "Epoch 14/30\n",
      "68949/68949 [==============================] - 4s 55us/step - loss: 0.5689 - accuracy: 0.7025 - val_loss: 161.2542 - val_accuracy: 0.5822\n",
      "Epoch 15/30\n",
      "68949/68949 [==============================] - 4s 54us/step - loss: 0.5684 - accuracy: 0.7035 - val_loss: 511.5800 - val_accuracy: 0.5804\n",
      "Epoch 16/30\n",
      "68949/68949 [==============================] - 4s 55us/step - loss: 0.5681 - accuracy: 0.7027 - val_loss: 315.1766 - val_accuracy: 0.5690\n",
      "Epoch 17/30\n",
      "68949/68949 [==============================] - 4s 55us/step - loss: 0.5669 - accuracy: 0.7040 - val_loss: 441.7156 - val_accuracy: 0.5788\n",
      "Epoch 18/30\n",
      "68949/68949 [==============================] - 4s 55us/step - loss: 0.5669 - accuracy: 0.7062 - val_loss: 375.6683 - val_accuracy: 0.5776\n",
      "Epoch 19/30\n",
      "68949/68949 [==============================] - 4s 55us/step - loss: 0.5673 - accuracy: 0.7053 - val_loss: 287.8938 - val_accuracy: 0.5690\n",
      "Epoch 20/30\n",
      "68949/68949 [==============================] - 4s 55us/step - loss: 0.5670 - accuracy: 0.7059 - val_loss: 479.0566 - val_accuracy: 0.5756\n",
      "Epoch 21/30\n",
      "68949/68949 [==============================] - 4s 54us/step - loss: 0.5663 - accuracy: 0.7059 - val_loss: 400.2102 - val_accuracy: 0.5690\n",
      "Epoch 22/30\n",
      "68949/68949 [==============================] - 4s 55us/step - loss: 0.5655 - accuracy: 0.7052 - val_loss: 360.6322 - val_accuracy: 0.5797\n",
      "Epoch 23/30\n",
      "68949/68949 [==============================] - 4s 55us/step - loss: 0.5654 - accuracy: 0.7057 - val_loss: 456.3824 - val_accuracy: 0.5692\n",
      "Epoch 24/30\n",
      "68949/68949 [==============================] - 4s 55us/step - loss: 0.5652 - accuracy: 0.7060 - val_loss: 636.4086 - val_accuracy: 0.5801\n",
      "Epoch 25/30\n",
      "68949/68949 [==============================] - 4s 55us/step - loss: 0.5660 - accuracy: 0.7053 - val_loss: 35.6908 - val_accuracy: 0.5691\n",
      "Epoch 26/30\n",
      "68949/68949 [==============================] - 4s 54us/step - loss: 0.5652 - accuracy: 0.7062 - val_loss: 547.4593 - val_accuracy: 0.5690\n",
      "Epoch 27/30\n",
      "68949/68949 [==============================] - 4s 55us/step - loss: 0.5641 - accuracy: 0.7062 - val_loss: 15651.9104 - val_accuracy: 0.4310\n",
      "Epoch 28/30\n",
      "68949/68949 [==============================] - 4s 55us/step - loss: 0.5666 - accuracy: 0.7065 - val_loss: 118.1613 - val_accuracy: 0.5812\n",
      "Epoch 29/30\n",
      "68949/68949 [==============================] - 4s 55us/step - loss: 0.5649 - accuracy: 0.7058 - val_loss: 170.1959 - val_accuracy: 0.5841\n",
      "Epoch 30/30\n",
      "68949/68949 [==============================] - 4s 54us/step - loss: 0.5641 - accuracy: 0.7061 - val_loss: 476.1267 - val_accuracy: 0.5727\n"
     ]
    }
   ],
   "source": [
    "network.compile(optimizer='rmsprop',\n",
    "                loss='binary_crossentropy',\n",
    "                metrics=['accuracy'])\n",
    "\n",
    "epochs = 30\n",
    "history = network.fit(nn_train_x, \n",
    "                      train_y, \n",
    "                      epochs=epochs, \n",
    "                      batch_size=128, \n",
    "                      validation_data=(nn_test_x, test_y))"
   ]
  },
  {
   "cell_type": "code",
   "execution_count": 120,
   "metadata": {},
   "outputs": [
    {
     "data": {
      "image/png": "[encoded data removed]",
      "text/plain": [
       "<Figure size 432x288 with 1 Axes>"
      ]
     },
     "metadata": {
      "needs_background": "light"
     },
     "output_type": "display_data"
    }
   ],
   "source": [
    "history_dict = history.history\n",
    "loss_values = history_dict['loss']\n",
    "test_loss_values = history_dict['val_loss']\n",
    "epochs_range = range(1, epochs + 1)\n",
    "plt.plot(epochs_range, loss_values, 'bo', label='Training loss')\n",
    "plt.plot(epochs_range, test_loss_values, 'ro', label='Test loss')\n",
    "plt.title('Training and test loss')\n",
    "plt.xlabel('Epochs')\n",
    "plt.ylabel('Loss')\n",
    "plt.legend()\n",
    "plt.show()"
   ]
  },
  {
   "cell_type": "code",
   "execution_count": 121,
   "metadata": {},
   "outputs": [
    {
     "data": {
      "image/png": "[encoded data removed]",
      "text/plain": [
       "<Figure size 432x288 with 1 Axes>"
      ]
     },
     "metadata": {
      "needs_background": "light"
     },
     "output_type": "display_data"
    }
   ],
   "source": [
    "acc_values = history_dict['accuracy']\n",
    "test_acc_values = history_dict['val_accuracy']\n",
    "plt.plot(epochs_range, acc_values, 'bo', label='Training accuracy')\n",
    "plt.plot(epochs_range, test_acc_values, 'ro', label='Test accuracy')\n",
    "plt.title('Training and test accuracy')\n",
    "plt.xlabel('Epochs')\n",
    "plt.ylabel('Accuracy')\n",
    "plt.legend()\n",
    "plt.show()"
   ]
  },
  {
   "cell_type": "code",
   "execution_count": 63,
   "metadata": {},
   "outputs": [],
   "source": [
    "preds = network.predict(nn_test_x)"
   ]
  },
  {
   "cell_type": "code",
   "execution_count": 64,
   "metadata": {},
   "outputs": [
    {
     "name": "stdout",
     "output_type": "stream",
     "text": [
      "23025/23025 [==============================] - 1s 45us/step\n"
     ]
    },
    {
     "data": {
      "text/plain": [
       "[1.1920930376163597e-07, 0.0]"
      ]
     },
     "execution_count": 64,
     "metadata": {},
     "output_type": "execute_result"
    }
   ],
   "source": [
    "network.evaluate(nn_test_x, test_y_cat)"
   ]
  },
  {
   "cell_type": "code",
   "execution_count": 53,
   "metadata": {},
   "outputs": [
    {
     "data": {
      "text/plain": [
       "23025"
      ]
     },
     "execution_count": 53,
     "metadata": {},
     "output_type": "execute_result"
    }
   ],
   "source": [
    "len(preds)"
   ]
  },
  {
   "cell_type": "code",
   "execution_count": 55,
   "metadata": {},
   "outputs": [
    {
     "name": "stdout",
     "output_type": "stream",
     "text": [
      "Correct: 17750 0.7709011943539631\n",
      "Pos: 23007 0.9992182410423452\n",
      "Star Correct: 13102 0.5690336590662324\n"
     ]
    }
   ],
   "source": [
    "correct = 0\n",
    "pos_count = 0\n",
    "star_cor = 0\n",
    "for i, row in test_df.iterrows():\n",
    "    if (np.argmax(preds[i]) > 3):\n",
    "        pos_count += 1\n",
    "    if (np.argmax(preds[i]) == np.argmax(test_y_cat[i])):\n",
    "        star_cor += 1\n",
    "    if (np.argmax(preds[i]) > 3 and np.argmax(test_y_cat[i]) > 3):\n",
    "        correct += 1\n",
    "    elif (np.argmax(preds[i]) <= 3 and np.argmax(test_y_cat[i]) <= 3):\n",
    "        correct += 1\n",
    "\n",
    "print('Correct:', correct, correct / len(test_df))\n",
    "print('Pos:', pos_count, pos_count / len(test_df))\n",
    "print('Star Correct:', star_cor, star_cor / len(test_df))"
   ]
  },
  {
   "cell_type": "code",
   "execution_count": 142,
   "metadata": {},
   "outputs": [
    {
     "data": {
      "text/plain": [
       "0.7538180394204412"
      ]
     },
     "execution_count": 142,
     "metadata": {},
     "output_type": "execute_result"
    }
   ],
   "source": [
    "(len(train_df.query('positive == 1 & (pos_sim >= neg_sim)')) + len(train_df.query('positive == 0 & (pos_sim < neg_sim)'))) / len(train_df)"
   ]
  },
  {
   "cell_type": "code",
   "execution_count": 141,
   "metadata": {},
   "outputs": [
    {
     "name": "stdout",
     "output_type": "stream",
     "text": [
      "False Negatives: 7357 0.10670205514220656\n",
      "False Positives: 9617 0.13947990543735225\n",
      "Correct Negatives: 4110 0.059609276421702995\n",
      "Correct Positives: 47865 0.6942087629987382\n"
     ]
    }
   ],
   "source": [
    "print('False Negatives:', len(train_df.query('positive == 1 & (pos_sim < neg_sim)')), len(train_df.query('positive == 1 & (pos_sim < neg_sim)')) / len(train_df))\n",
    "print('False Positives:', len(train_df.query('positive == 0 & (pos_sim >= neg_sim)')), len(train_df.query('positive == 0 & (pos_sim >= neg_sim)')) / len(train_df))\n",
    "print('Correct Negatives:', len(train_df.query('positive == 0 & (pos_sim < neg_sim)')), len(train_df.query('positive == 0 & (pos_sim < neg_sim)')) / len(train_df))\n",
    "print('Correct Positives:', len(train_df.query('positive == 1 & (pos_sim >= neg_sim)')), len(train_df.query('positive == 1 & (pos_sim >= neg_sim)')) / len(train_df))"
   ]
  },
  {
   "cell_type": "code",
   "execution_count": null,
   "metadata": {},
   "outputs": [],
   "source": [
    "len(train_df.query('positive == 1 & (pos_sim < neg_sim)'))"
   ]
  }
 ],
 "metadata": {
  "kernelspec": {
   "display_name": "Python 3",
   "language": "python",
   "name": "python3"
  },
  "language_info": {
   "codemirror_mode": {
    "name": "ipython",
    "version": 3
   },
   "file_extension": ".py",
   "mimetype": "text/x-python",
   "name": "python",
   "nbconvert_exporter": "python",
   "pygments_lexer": "ipython3",
   "version": "3.7.6"
  }
 },
 "nbformat": 4,
 "nbformat_minor": 2
}
