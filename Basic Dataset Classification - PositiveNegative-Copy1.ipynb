{
 "cells": [
  {
   "cell_type": "code",
   "execution_count": 1,
   "metadata": {},
   "outputs": [],
   "source": [
    "import pandas as pd\n",
    "from sklearn.ensemble import RandomForestClassifier"
   ]
  },
  {
   "cell_type": "code",
   "execution_count": 2,
   "metadata": {},
   "outputs": [
    {
     "data": {
      "text/html": [
       "<div>\n",
       "<style scoped>\n",
       "    .dataframe tbody tr th:only-of-type {\n",
       "        vertical-align: middle;\n",
       "    }\n",
       "\n",
       "    .dataframe tbody tr th {\n",
       "        vertical-align: top;\n",
       "    }\n",
       "\n",
       "    .dataframe thead th {\n",
       "        text-align: right;\n",
       "    }\n",
       "</style>\n",
       "<table border=\"1\" class=\"dataframe\">\n",
       "  <thead>\n",
       "    <tr style=\"text-align: right;\">\n",
       "      <th></th>\n",
       "      <th>('review_id', 'count')_x</th>\n",
       "      <th>('star_rating', 'mean')_x</th>\n",
       "      <th>('star_rating', 'std')_x</th>\n",
       "      <th>('total_votes', 'mean')_x</th>\n",
       "      <th>('total_votes', 'std')_x</th>\n",
       "      <th>('helpful_votes', 'mean')_x</th>\n",
       "      <th>('helpful_votes', 'std')_x</th>\n",
       "      <th>('review_id_y', 'count')</th>\n",
       "      <th>('star_rating_y', 'mean')</th>\n",
       "      <th>('star_rating_y', 'std')</th>\n",
       "      <th>('total_votes_y', 'mean')</th>\n",
       "      <th>('total_votes_y', 'std')</th>\n",
       "      <th>('helpful_votes_y', 'mean')</th>\n",
       "      <th>('helpful_votes_y', 'std')</th>\n",
       "      <th>positive</th>\n",
       "    </tr>\n",
       "  </thead>\n",
       "  <tbody>\n",
       "    <tr>\n",
       "      <th>0</th>\n",
       "      <td>5</td>\n",
       "      <td>5.000000</td>\n",
       "      <td>0.000000</td>\n",
       "      <td>0.200000</td>\n",
       "      <td>0.447214</td>\n",
       "      <td>0.000000</td>\n",
       "      <td>0.000000</td>\n",
       "      <td>297</td>\n",
       "      <td>4.872054</td>\n",
       "      <td>0.363625</td>\n",
       "      <td>0.424242</td>\n",
       "      <td>3.224979</td>\n",
       "      <td>0.37037</td>\n",
       "      <td>3.042081</td>\n",
       "      <td>1</td>\n",
       "    </tr>\n",
       "    <tr>\n",
       "      <th>1</th>\n",
       "      <td>5</td>\n",
       "      <td>3.600000</td>\n",
       "      <td>0.547723</td>\n",
       "      <td>0.400000</td>\n",
       "      <td>0.894427</td>\n",
       "      <td>0.400000</td>\n",
       "      <td>0.894427</td>\n",
       "      <td>297</td>\n",
       "      <td>4.872054</td>\n",
       "      <td>0.363625</td>\n",
       "      <td>0.424242</td>\n",
       "      <td>3.224979</td>\n",
       "      <td>0.37037</td>\n",
       "      <td>3.042081</td>\n",
       "      <td>0</td>\n",
       "    </tr>\n",
       "    <tr>\n",
       "      <th>2</th>\n",
       "      <td>8</td>\n",
       "      <td>3.375000</td>\n",
       "      <td>1.505941</td>\n",
       "      <td>7.625000</td>\n",
       "      <td>19.175412</td>\n",
       "      <td>6.500000</td>\n",
       "      <td>17.188036</td>\n",
       "      <td>297</td>\n",
       "      <td>4.872054</td>\n",
       "      <td>0.363625</td>\n",
       "      <td>0.424242</td>\n",
       "      <td>3.224979</td>\n",
       "      <td>0.37037</td>\n",
       "      <td>3.042081</td>\n",
       "      <td>1</td>\n",
       "    </tr>\n",
       "    <tr>\n",
       "      <th>3</th>\n",
       "      <td>9</td>\n",
       "      <td>4.444444</td>\n",
       "      <td>0.527046</td>\n",
       "      <td>0.888889</td>\n",
       "      <td>1.364225</td>\n",
       "      <td>0.777778</td>\n",
       "      <td>1.092906</td>\n",
       "      <td>297</td>\n",
       "      <td>4.872054</td>\n",
       "      <td>0.363625</td>\n",
       "      <td>0.424242</td>\n",
       "      <td>3.224979</td>\n",
       "      <td>0.37037</td>\n",
       "      <td>3.042081</td>\n",
       "      <td>1</td>\n",
       "    </tr>\n",
       "    <tr>\n",
       "      <th>4</th>\n",
       "      <td>17</td>\n",
       "      <td>5.000000</td>\n",
       "      <td>0.000000</td>\n",
       "      <td>0.235294</td>\n",
       "      <td>0.437237</td>\n",
       "      <td>0.176471</td>\n",
       "      <td>0.392953</td>\n",
       "      <td>297</td>\n",
       "      <td>4.872054</td>\n",
       "      <td>0.363625</td>\n",
       "      <td>0.424242</td>\n",
       "      <td>3.224979</td>\n",
       "      <td>0.37037</td>\n",
       "      <td>3.042081</td>\n",
       "      <td>1</td>\n",
       "    </tr>\n",
       "  </tbody>\n",
       "</table>\n",
       "</div>"
      ],
      "text/plain": [
       "   ('review_id', 'count')_x  ('star_rating', 'mean')_x  \\\n",
       "0                         5                   5.000000   \n",
       "1                         5                   3.600000   \n",
       "2                         8                   3.375000   \n",
       "3                         9                   4.444444   \n",
       "4                        17                   5.000000   \n",
       "\n",
       "   ('star_rating', 'std')_x  ('total_votes', 'mean')_x  \\\n",
       "0                  0.000000                   0.200000   \n",
       "1                  0.547723                   0.400000   \n",
       "2                  1.505941                   7.625000   \n",
       "3                  0.527046                   0.888889   \n",
       "4                  0.000000                   0.235294   \n",
       "\n",
       "   ('total_votes', 'std')_x  ('helpful_votes', 'mean')_x  \\\n",
       "0                  0.447214                     0.000000   \n",
       "1                  0.894427                     0.400000   \n",
       "2                 19.175412                     6.500000   \n",
       "3                  1.364225                     0.777778   \n",
       "4                  0.437237                     0.176471   \n",
       "\n",
       "   ('helpful_votes', 'std')_x  ('review_id_y', 'count')  \\\n",
       "0                    0.000000                       297   \n",
       "1                    0.894427                       297   \n",
       "2                   17.188036                       297   \n",
       "3                    1.092906                       297   \n",
       "4                    0.392953                       297   \n",
       "\n",
       "   ('star_rating_y', 'mean')  ('star_rating_y', 'std')  \\\n",
       "0                   4.872054                  0.363625   \n",
       "1                   4.872054                  0.363625   \n",
       "2                   4.872054                  0.363625   \n",
       "3                   4.872054                  0.363625   \n",
       "4                   4.872054                  0.363625   \n",
       "\n",
       "   ('total_votes_y', 'mean')  ('total_votes_y', 'std')  \\\n",
       "0                   0.424242                  3.224979   \n",
       "1                   0.424242                  3.224979   \n",
       "2                   0.424242                  3.224979   \n",
       "3                   0.424242                  3.224979   \n",
       "4                   0.424242                  3.224979   \n",
       "\n",
       "   ('helpful_votes_y', 'mean')  ('helpful_votes_y', 'std')  positive  \n",
       "0                      0.37037                    3.042081         1  \n",
       "1                      0.37037                    3.042081         0  \n",
       "2                      0.37037                    3.042081         1  \n",
       "3                      0.37037                    3.042081         1  \n",
       "4                      0.37037                    3.042081         1  "
      ]
     },
     "execution_count": 2,
     "metadata": {},
     "output_type": "execute_result"
    }
   ],
   "source": [
    "train_df = pd.read_csv('train_df.csv', index_col=0)\n",
    "train_df['positive'] = train_df['star_rating_x'].apply(lambda x: 1 if x > 3 else 0)\n",
    "train_df.drop('star_rating_x', axis=1, inplace=True)\n",
    "train_df.drop('customer_id', axis=1, inplace=True)\n",
    "train_df.drop('product_parent', axis=1, inplace=True)\n",
    "train_df.head()"
   ]
  },
  {
   "cell_type": "code",
   "execution_count": 3,
   "metadata": {},
   "outputs": [
    {
     "data": {
      "text/html": [
       "<div>\n",
       "<style scoped>\n",
       "    .dataframe tbody tr th:only-of-type {\n",
       "        vertical-align: middle;\n",
       "    }\n",
       "\n",
       "    .dataframe tbody tr th {\n",
       "        vertical-align: top;\n",
       "    }\n",
       "\n",
       "    .dataframe thead th {\n",
       "        text-align: right;\n",
       "    }\n",
       "</style>\n",
       "<table border=\"1\" class=\"dataframe\">\n",
       "  <thead>\n",
       "    <tr style=\"text-align: right;\">\n",
       "      <th></th>\n",
       "      <th>('review_id', 'count')_x</th>\n",
       "      <th>('star_rating', 'mean')_x</th>\n",
       "      <th>('star_rating', 'std')_x</th>\n",
       "      <th>('total_votes', 'mean')_x</th>\n",
       "      <th>('total_votes', 'std')_x</th>\n",
       "      <th>('helpful_votes', 'mean')_x</th>\n",
       "      <th>('helpful_votes', 'std')_x</th>\n",
       "      <th>('review_id_y', 'count')</th>\n",
       "      <th>('star_rating_y', 'mean')</th>\n",
       "      <th>('star_rating_y', 'std')</th>\n",
       "      <th>('total_votes_y', 'mean')</th>\n",
       "      <th>('total_votes_y', 'std')</th>\n",
       "      <th>('helpful_votes_y', 'mean')</th>\n",
       "      <th>('helpful_votes_y', 'std')</th>\n",
       "      <th>positive</th>\n",
       "    </tr>\n",
       "  </thead>\n",
       "  <tbody>\n",
       "    <tr>\n",
       "      <th>0</th>\n",
       "      <td>24</td>\n",
       "      <td>4.291667</td>\n",
       "      <td>1.267629</td>\n",
       "      <td>0.541667</td>\n",
       "      <td>1.250362</td>\n",
       "      <td>0.333333</td>\n",
       "      <td>1.049500</td>\n",
       "      <td>18</td>\n",
       "      <td>4.333333</td>\n",
       "      <td>1.188177</td>\n",
       "      <td>0.833333</td>\n",
       "      <td>2.572479</td>\n",
       "      <td>0.722222</td>\n",
       "      <td>2.346601</td>\n",
       "      <td>1</td>\n",
       "    </tr>\n",
       "    <tr>\n",
       "      <th>1</th>\n",
       "      <td>23</td>\n",
       "      <td>4.347826</td>\n",
       "      <td>1.191206</td>\n",
       "      <td>1.434783</td>\n",
       "      <td>2.191431</td>\n",
       "      <td>1.000000</td>\n",
       "      <td>1.537412</td>\n",
       "      <td>18</td>\n",
       "      <td>4.333333</td>\n",
       "      <td>1.188177</td>\n",
       "      <td>0.833333</td>\n",
       "      <td>2.572479</td>\n",
       "      <td>0.722222</td>\n",
       "      <td>2.346601</td>\n",
       "      <td>1</td>\n",
       "    </tr>\n",
       "    <tr>\n",
       "      <th>2</th>\n",
       "      <td>10</td>\n",
       "      <td>4.500000</td>\n",
       "      <td>0.707107</td>\n",
       "      <td>0.000000</td>\n",
       "      <td>0.000000</td>\n",
       "      <td>0.000000</td>\n",
       "      <td>0.000000</td>\n",
       "      <td>407</td>\n",
       "      <td>4.503686</td>\n",
       "      <td>0.887439</td>\n",
       "      <td>12.356265</td>\n",
       "      <td>112.878540</td>\n",
       "      <td>10.651106</td>\n",
       "      <td>100.388954</td>\n",
       "      <td>1</td>\n",
       "    </tr>\n",
       "    <tr>\n",
       "      <th>3</th>\n",
       "      <td>5</td>\n",
       "      <td>3.400000</td>\n",
       "      <td>1.516575</td>\n",
       "      <td>11.800000</td>\n",
       "      <td>20.789420</td>\n",
       "      <td>10.400000</td>\n",
       "      <td>18.187908</td>\n",
       "      <td>407</td>\n",
       "      <td>4.503686</td>\n",
       "      <td>0.887439</td>\n",
       "      <td>12.356265</td>\n",
       "      <td>112.878540</td>\n",
       "      <td>10.651106</td>\n",
       "      <td>100.388954</td>\n",
       "      <td>0</td>\n",
       "    </tr>\n",
       "    <tr>\n",
       "      <th>4</th>\n",
       "      <td>6</td>\n",
       "      <td>4.666667</td>\n",
       "      <td>0.816497</td>\n",
       "      <td>0.500000</td>\n",
       "      <td>1.224745</td>\n",
       "      <td>0.000000</td>\n",
       "      <td>0.000000</td>\n",
       "      <td>407</td>\n",
       "      <td>4.503686</td>\n",
       "      <td>0.887439</td>\n",
       "      <td>12.356265</td>\n",
       "      <td>112.878540</td>\n",
       "      <td>10.651106</td>\n",
       "      <td>100.388954</td>\n",
       "      <td>1</td>\n",
       "    </tr>\n",
       "  </tbody>\n",
       "</table>\n",
       "</div>"
      ],
      "text/plain": [
       "   ('review_id', 'count')_x  ('star_rating', 'mean')_x  \\\n",
       "0                        24                   4.291667   \n",
       "1                        23                   4.347826   \n",
       "2                        10                   4.500000   \n",
       "3                         5                   3.400000   \n",
       "4                         6                   4.666667   \n",
       "\n",
       "   ('star_rating', 'std')_x  ('total_votes', 'mean')_x  \\\n",
       "0                  1.267629                   0.541667   \n",
       "1                  1.191206                   1.434783   \n",
       "2                  0.707107                   0.000000   \n",
       "3                  1.516575                  11.800000   \n",
       "4                  0.816497                   0.500000   \n",
       "\n",
       "   ('total_votes', 'std')_x  ('helpful_votes', 'mean')_x  \\\n",
       "0                  1.250362                     0.333333   \n",
       "1                  2.191431                     1.000000   \n",
       "2                  0.000000                     0.000000   \n",
       "3                 20.789420                    10.400000   \n",
       "4                  1.224745                     0.000000   \n",
       "\n",
       "   ('helpful_votes', 'std')_x  ('review_id_y', 'count')  \\\n",
       "0                    1.049500                        18   \n",
       "1                    1.537412                        18   \n",
       "2                    0.000000                       407   \n",
       "3                   18.187908                       407   \n",
       "4                    0.000000                       407   \n",
       "\n",
       "   ('star_rating_y', 'mean')  ('star_rating_y', 'std')  \\\n",
       "0                   4.333333                  1.188177   \n",
       "1                   4.333333                  1.188177   \n",
       "2                   4.503686                  0.887439   \n",
       "3                   4.503686                  0.887439   \n",
       "4                   4.503686                  0.887439   \n",
       "\n",
       "   ('total_votes_y', 'mean')  ('total_votes_y', 'std')  \\\n",
       "0                   0.833333                  2.572479   \n",
       "1                   0.833333                  2.572479   \n",
       "2                  12.356265                112.878540   \n",
       "3                  12.356265                112.878540   \n",
       "4                  12.356265                112.878540   \n",
       "\n",
       "   ('helpful_votes_y', 'mean')  ('helpful_votes_y', 'std')  positive  \n",
       "0                     0.722222                    2.346601         1  \n",
       "1                     0.722222                    2.346601         1  \n",
       "2                    10.651106                  100.388954         1  \n",
       "3                    10.651106                  100.388954         0  \n",
       "4                    10.651106                  100.388954         1  "
      ]
     },
     "execution_count": 3,
     "metadata": {},
     "output_type": "execute_result"
    }
   ],
   "source": [
    "test_df = pd.read_csv('test_df.csv', index_col=0)\n",
    "test_df['positive'] = test_df['star_rating_x'].apply(lambda x: 1 if x > 3 else 0)\n",
    "test_df.drop('star_rating_x', axis=1, inplace=True)\n",
    "test_df.drop('customer_id', axis=1, inplace=True)\n",
    "test_df.drop('product_parent', axis=1, inplace=True)\n",
    "test_df.head()"
   ]
  },
  {
   "cell_type": "code",
   "execution_count": 4,
   "metadata": {},
   "outputs": [],
   "source": [
    "train_x, train_y = train_df.drop('positive', axis=1), train_df['positive']\n",
    "test_x, test_y = test_df.drop('positive', axis=1), test_df['positive']"
   ]
  },
  {
   "cell_type": "code",
   "execution_count": 5,
   "metadata": {},
   "outputs": [
    {
     "data": {
      "text/plain": [
       "RandomForestClassifier(bootstrap=True, ccp_alpha=0.0, class_weight=None,\n",
       "                       criterion='gini', max_depth=None, max_features='auto',\n",
       "                       max_leaf_nodes=None, max_samples=None,\n",
       "                       min_impurity_decrease=0.0, min_impurity_split=None,\n",
       "                       min_samples_leaf=1, min_samples_split=2,\n",
       "                       min_weight_fraction_leaf=0.0, n_estimators=1000,\n",
       "                       n_jobs=None, oob_score=False, random_state=None,\n",
       "                       verbose=0, warm_start=False)"
      ]
     },
     "execution_count": 5,
     "metadata": {},
     "output_type": "execute_result"
    }
   ],
   "source": [
    "rf = RandomForestClassifier(n_estimators=1000)\n",
    "rf.fit(train_x, train_y)"
   ]
  },
  {
   "cell_type": "code",
   "execution_count": 6,
   "metadata": {},
   "outputs": [
    {
     "data": {
      "text/plain": [
       "0.7874049945711183"
      ]
     },
     "execution_count": 6,
     "metadata": {},
     "output_type": "execute_result"
    }
   ],
   "source": [
    "rf.score(test_x, test_y)"
   ]
  },
  {
   "cell_type": "code",
   "execution_count": 7,
   "metadata": {},
   "outputs": [
    {
     "data": {
      "text/plain": [
       "KNeighborsClassifier(algorithm='auto', leaf_size=30, metric='minkowski',\n",
       "                     metric_params=None, n_jobs=None, n_neighbors=5, p=2,\n",
       "                     weights='uniform')"
      ]
     },
     "execution_count": 7,
     "metadata": {},
     "output_type": "execute_result"
    }
   ],
   "source": [
    "from sklearn.neighbors import KNeighborsClassifier\n",
    "knn = KNeighborsClassifier(n_neighbors=5)\n",
    "knn.fit(train_x, train_y)"
   ]
  },
  {
   "cell_type": "code",
   "execution_count": 8,
   "metadata": {},
   "outputs": [
    {
     "data": {
      "text/plain": [
       "0.7292073832790446"
      ]
     },
     "execution_count": 8,
     "metadata": {},
     "output_type": "execute_result"
    }
   ],
   "source": [
    "knn.score(test_x, test_y)"
   ]
  },
  {
   "cell_type": "code",
   "execution_count": 9,
   "metadata": {},
   "outputs": [
    {
     "data": {
      "text/plain": [
       "GaussianNB(priors=None, var_smoothing=1e-09)"
      ]
     },
     "execution_count": 9,
     "metadata": {},
     "output_type": "execute_result"
    }
   ],
   "source": [
    "from sklearn.naive_bayes import GaussianNB\n",
    "gnb = GaussianNB()\n",
    "gnb.fit(train_x, train_y)"
   ]
  },
  {
   "cell_type": "code",
   "execution_count": 10,
   "metadata": {},
   "outputs": [
    {
     "data": {
      "text/plain": [
       "0.7422442675020667"
      ]
     },
     "execution_count": 10,
     "metadata": {},
     "output_type": "execute_result"
    }
   ],
   "source": [
    "gnb.score(train_x, train_y)"
   ]
  },
  {
   "cell_type": "code",
   "execution_count": 11,
   "metadata": {},
   "outputs": [
    {
     "name": "stderr",
     "output_type": "stream",
     "text": [
      "Using TensorFlow backend.\n"
     ]
    }
   ],
   "source": [
    "from keras import models\n",
    "from keras import layers\n",
    "from keras.utils import to_categorical\n",
    "import numpy as np\n",
    "import matplotlib.pyplot as plt"
   ]
  },
  {
   "cell_type": "code",
   "execution_count": 37,
   "metadata": {},
   "outputs": [],
   "source": [
    "from sklearn import preprocessing\n",
    "def normalize(df):\n",
    "    min_max_scaler = preprocessing.MinMaxScaler()\n",
    "    newdf = pd.DataFrame(min_max_scaler.fit_transform(df), columns=df.columns)\n",
    "\n",
    "    return df"
   ]
  },
  {
   "cell_type": "code",
   "execution_count": 38,
   "metadata": {},
   "outputs": [],
   "source": [
    "train_x = normalize(train_x)\n",
    "test_x = normalize(test_x)"
   ]
  },
  {
   "cell_type": "code",
   "execution_count": 39,
   "metadata": {},
   "outputs": [
    {
     "data": {
      "text/plain": [
       "(68949, 14)"
      ]
     },
     "execution_count": 39,
     "metadata": {},
     "output_type": "execute_result"
    }
   ],
   "source": [
    "np.shape(train_x)"
   ]
  },
  {
   "cell_type": "code",
   "execution_count": 40,
   "metadata": {},
   "outputs": [
    {
     "name": "stdout",
     "output_type": "stream",
     "text": [
      "Model: \"sequential_2\"\n",
      "_________________________________________________________________\n",
      "Layer (type)                 Output Shape              Param #   \n",
      "=================================================================\n",
      "dense_6 (Dense)              (None, 256)               3840      \n",
      "_________________________________________________________________\n",
      "dense_7 (Dense)              (None, 128)               32896     \n",
      "_________________________________________________________________\n",
      "dense_8 (Dense)              (None, 64)                8256      \n",
      "_________________________________________________________________\n",
      "dense_9 (Dense)              (None, 32)                2080      \n",
      "_________________________________________________________________\n",
      "dense_10 (Dense)             (None, 1)                 33        \n",
      "=================================================================\n",
      "Total params: 47,105\n",
      "Trainable params: 47,105\n",
      "Non-trainable params: 0\n",
      "_________________________________________________________________\n"
     ]
    }
   ],
   "source": [
    "network = models.Sequential()\n",
    "network.add(layers.Dense(256, activation='relu', input_shape=(14,)))\n",
    "network.add(layers.Dense(128, activation='relu', input_shape=(256,)))\n",
    "network.add(layers.Dense(64, activation='relu', input_shape=(128,)))\n",
    "network.add(layers.Dense(32, activation='relu', input_shape=(64,)))\n",
    "network.add(layers.Dense(1, activation='sigmoid', input_shape=(32,)))\n",
    "network.summary()"
   ]
  },
  {
   "cell_type": "code",
   "execution_count": 41,
   "metadata": {},
   "outputs": [
    {
     "name": "stdout",
     "output_type": "stream",
     "text": [
      "Train on 68949 samples, validate on 23025 samples\n",
      "Epoch 1/30\n",
      "68949/68949 [==============================] - 2s 24us/step - loss: 0.7511 - accuracy: 0.7769 - val_loss: 0.5271 - val_accuracy: 0.7713\n",
      "Epoch 2/30\n",
      "68949/68949 [==============================] - 1s 21us/step - loss: 0.4982 - accuracy: 0.7979 - val_loss: 0.5166 - val_accuracy: 0.7704\n",
      "Epoch 3/30\n",
      "68949/68949 [==============================] - 1s 21us/step - loss: 0.4790 - accuracy: 0.8006 - val_loss: 0.5166 - val_accuracy: 0.7703\n",
      "Epoch 4/30\n",
      "68949/68949 [==============================] - 1s 21us/step - loss: 0.4668 - accuracy: 0.8033 - val_loss: 0.4888 - val_accuracy: 0.7765\n",
      "Epoch 5/30\n",
      "68949/68949 [==============================] - 1s 21us/step - loss: 0.4626 - accuracy: 0.8037 - val_loss: 0.4926 - val_accuracy: 0.7766\n",
      "Epoch 6/30\n",
      "68949/68949 [==============================] - 1s 21us/step - loss: 0.4589 - accuracy: 0.8052 - val_loss: 0.4875 - val_accuracy: 0.7808\n",
      "Epoch 7/30\n",
      "68949/68949 [==============================] - 1s 21us/step - loss: 0.4568 - accuracy: 0.8054 - val_loss: 0.5030 - val_accuracy: 0.7677\n",
      "Epoch 8/30\n",
      "68949/68949 [==============================] - 1s 21us/step - loss: 0.4541 - accuracy: 0.8055 - val_loss: 0.5078 - val_accuracy: 0.7795\n",
      "Epoch 9/30\n",
      "68949/68949 [==============================] - 1s 22us/step - loss: 0.4534 - accuracy: 0.8053 - val_loss: 0.4871 - val_accuracy: 0.7819\n",
      "Epoch 10/30\n",
      "68949/68949 [==============================] - 1s 21us/step - loss: 0.4512 - accuracy: 0.8058 - val_loss: 0.5034 - val_accuracy: 0.7682\n",
      "Epoch 11/30\n",
      "68949/68949 [==============================] - 2s 22us/step - loss: 0.4514 - accuracy: 0.8064 - val_loss: 0.4818 - val_accuracy: 0.7830\n",
      "Epoch 12/30\n",
      "68949/68949 [==============================] - 1s 21us/step - loss: 0.4512 - accuracy: 0.8069 - val_loss: 0.4963 - val_accuracy: 0.7822\n",
      "Epoch 13/30\n",
      "68949/68949 [==============================] - 1s 21us/step - loss: 0.4502 - accuracy: 0.8065 - val_loss: 0.5207 - val_accuracy: 0.7676\n",
      "Epoch 14/30\n",
      "68949/68949 [==============================] - 1s 21us/step - loss: 0.4496 - accuracy: 0.8066 - val_loss: 0.4875 - val_accuracy: 0.7815\n",
      "Epoch 15/30\n",
      "68949/68949 [==============================] - 1s 21us/step - loss: 0.4497 - accuracy: 0.8072 - val_loss: 0.5089 - val_accuracy: 0.7808\n",
      "Epoch 16/30\n",
      "68949/68949 [==============================] - 1s 21us/step - loss: 0.4489 - accuracy: 0.8079 - val_loss: 0.4846 - val_accuracy: 0.7806\n",
      "Epoch 17/30\n",
      "68949/68949 [==============================] - 2s 23us/step - loss: 0.4482 - accuracy: 0.8072 - val_loss: 0.4932 - val_accuracy: 0.7839\n",
      "Epoch 18/30\n",
      "68949/68949 [==============================] - 1s 21us/step - loss: 0.4478 - accuracy: 0.8078 - val_loss: 0.4972 - val_accuracy: 0.7829\n",
      "Epoch 19/30\n",
      "68949/68949 [==============================] - 1s 21us/step - loss: 0.4486 - accuracy: 0.8079 - val_loss: 0.4888 - val_accuracy: 0.7789\n",
      "Epoch 20/30\n",
      "68949/68949 [==============================] - 1s 21us/step - loss: 0.4466 - accuracy: 0.8078 - val_loss: 0.4796 - val_accuracy: 0.7831\n",
      "Epoch 21/30\n",
      "68949/68949 [==============================] - 1s 21us/step - loss: 0.4464 - accuracy: 0.8085 - val_loss: 0.5424 - val_accuracy: 0.7640\n",
      "Epoch 22/30\n",
      "68949/68949 [==============================] - 1s 21us/step - loss: 0.4470 - accuracy: 0.8084 - val_loss: 0.4833 - val_accuracy: 0.7835\n",
      "Epoch 23/30\n",
      "68949/68949 [==============================] - 1s 21us/step - loss: 0.4480 - accuracy: 0.8082 - val_loss: 0.4865 - val_accuracy: 0.7821\n",
      "Epoch 24/30\n",
      "68949/68949 [==============================] - 1s 21us/step - loss: 0.4459 - accuracy: 0.8084 - val_loss: 0.4902 - val_accuracy: 0.7807\n",
      "Epoch 25/30\n",
      "68949/68949 [==============================] - 1s 20us/step - loss: 0.4468 - accuracy: 0.8089 - val_loss: 0.4850 - val_accuracy: 0.7819\n",
      "Epoch 26/30\n",
      "68949/68949 [==============================] - 1s 20us/step - loss: 0.4460 - accuracy: 0.8084 - val_loss: 0.5289 - val_accuracy: 0.7532\n",
      "Epoch 27/30\n",
      "68949/68949 [==============================] - 1s 21us/step - loss: 0.4450 - accuracy: 0.8091 - val_loss: 0.4810 - val_accuracy: 0.7829\n",
      "Epoch 28/30\n",
      "68949/68949 [==============================] - 1s 21us/step - loss: 0.4491 - accuracy: 0.8078 - val_loss: 0.4848 - val_accuracy: 0.7840\n",
      "Epoch 29/30\n",
      "68949/68949 [==============================] - 1s 20us/step - loss: 0.4458 - accuracy: 0.8087 - val_loss: 0.4826 - val_accuracy: 0.7826\n",
      "Epoch 30/30\n",
      "68949/68949 [==============================] - 1s 20us/step - loss: 0.4476 - accuracy: 0.8082 - val_loss: 0.4961 - val_accuracy: 0.7829\n"
     ]
    }
   ],
   "source": [
    "network.compile(optimizer='rmsprop',\n",
    "                loss='binary_crossentropy',\n",
    "                metrics=['accuracy'])\n",
    "\n",
    "epochs = 30\n",
    "history = network.fit(train_x, \n",
    "                      train_y, \n",
    "                      epochs=epochs, \n",
    "                      batch_size=128, \n",
    "                      validation_data=(test_x, test_y))"
   ]
  },
  {
   "cell_type": "code",
   "execution_count": 42,
   "metadata": {},
   "outputs": [
    {
     "data": {
      "image/png": "[encoded data removed]",
      "text/plain": [
       "<Figure size 432x288 with 1 Axes>"
      ]
     },
     "metadata": {
      "needs_background": "light"
     },
     "output_type": "display_data"
    }
   ],
   "source": [
    "history_dict = history.history\n",
    "loss_values = history_dict['loss']\n",
    "test_loss_values = history_dict['val_loss']\n",
    "epochs_range = range(1, epochs + 1)\n",
    "plt.plot(epochs_range, loss_values, 'bo', label='Training loss')\n",
    "plt.plot(epochs_range, test_loss_values, 'ro', label='Test loss')\n",
    "plt.title('Training and test loss')\n",
    "plt.xlabel('Epochs')\n",
    "plt.ylabel('Loss')\n",
    "plt.legend()\n",
    "plt.show()"
   ]
  },
  {
   "cell_type": "code",
   "execution_count": 43,
   "metadata": {},
   "outputs": [
    {
     "data": {
      "image/png": "[encoded data removed]",
      "text/plain": [
       "<Figure size 432x288 with 1 Axes>"
      ]
     },
     "metadata": {
      "needs_background": "light"
     },
     "output_type": "display_data"
    }
   ],
   "source": [
    "acc_values = history_dict['accuracy']\n",
    "test_acc_values = history_dict['val_accuracy']\n",
    "plt.plot(epochs_range, acc_values, 'bo', label='Training accuracy')\n",
    "plt.plot(epochs_range, test_acc_values, 'ro', label='Test accuracy')\n",
    "plt.title('Training and test accuracy')\n",
    "plt.xlabel('Epochs')\n",
    "plt.ylabel('Accuracy')\n",
    "plt.legend()\n",
    "plt.show()"
   ]
  },
  {
   "cell_type": "code",
   "execution_count": null,
   "metadata": {},
   "outputs": [],
   "source": [
    "svd_train_df = pd.read_csv('train_raw.csv', index_col=0)\n",
    "svd_train_df = pd.concat([svd_train_df, pd.read_csv('train_raw_max.csv', index_col=0)])\n",
    "svd_test_df = pd.read_csv('test_raw.csv', index_col=0)\n",
    "svd_test_df = pd.concat([svd_train_df, pd.read_csv('test_raw_max.csv', index_col=0)])\n",
    "\n",
    "svd_test_df.head()"
   ]
  },
  {
   "cell_type": "code",
   "execution_count": null,
   "metadata": {},
   "outputs": [],
   "source": [
    "from surprise import Dataset\n",
    "from surprise import Reader\n",
    "\n",
    "svd_train_df[['customer_id', 'product_parent', 'star_rating', 'review_date']].to_csv('svd_train_df.csv', index=False)\n",
    "svd_test_df[['customer_id', 'product_parent', 'star_rating', 'review_date']].to_csv('svd_test_df.csv', index=False)"
   ]
  },
  {
   "cell_type": "code",
   "execution_count": null,
   "metadata": {},
   "outputs": [],
   "source": [
    "reader = Reader(line_format='user item rating timestamp', sep=',', skip_lines=1)\n",
    "data = Dataset.load_from_folds([('svd_train_df.csv', 'svd_test_df.csv')], reader=reader)"
   ]
  },
  {
   "cell_type": "code",
   "execution_count": null,
   "metadata": {},
   "outputs": [],
   "source": [
    "from surprise import accuracy\n",
    "from surprise import SVD\n",
    "from surprise.model_selection import PredefinedKFold\n",
    "\n",
    "pkf = PredefinedKFold()\n",
    "\n",
    "algo = SVD()\n",
    "\n",
    "for trainset, testset in pkf.split(data):\n",
    "\n",
    "    # train and test algorithm.\n",
    "    algo.fit(trainset)\n",
    "    predictions = algo.test(testset)\n",
    "\n",
    "    # Compute and print Root Mean Squared Error\n",
    "    mean_rmse = accuracy.rmse(predictions, verbose=True)\n",
    "    mean_mae = accuracy.mae(predictions, verbose=True)"
   ]
  },
  {
   "cell_type": "code",
   "execution_count": null,
   "metadata": {},
   "outputs": [],
   "source": [
    "correct = 0\n",
    "for i, row in svd_test_df.iterrows():\n",
    "    uid = str(row.customer_id)\n",
    "    iid = str(row.product_parent)\n",
    "\n",
    "    # get a prediction for specific users and items.\n",
    "    pred = algo.predict(uid, iid, r_ui=row.star_rating, verbose=False)\n",
    "    if (round(pred.est) == row.star_rating):\n",
    "        correct += 1\n",
    "\n",
    "print('Correct: {} %: {}'.format(correct, correct / len(svd_test_df)))"
   ]
  },
  {
   "cell_type": "code",
   "execution_count": null,
   "metadata": {},
   "outputs": [],
   "source": [
    "from surprise.model_selection import cross_validate\n",
    "data2 = Dataset.load_from_file('svd_train_df.csv', reader=reader)\n",
    "cross_validate(SVD(), data2, cv=5, verbose=True)"
   ]
  },
  {
   "cell_type": "code",
   "execution_count": null,
   "metadata": {},
   "outputs": [],
   "source": [
    "from surprise.model_selection import GridSearchCV\n",
    "from surprise import SVDpp\n",
    "param_grid = {'n_epochs': [5, 10], 'lr_all': [0.002, 0.005],\n",
    "              'reg_all': [0.4, 0.6]}\n",
    "gs = GridSearchCV(SVD, param_grid, measures=['rmse', 'mae'], cv=pkf)\n",
    "gs.fit(data)"
   ]
  },
  {
   "cell_type": "code",
   "execution_count": null,
   "metadata": {},
   "outputs": [],
   "source": [
    "print(gs.best_score['rmse'])\n",
    "print(gs.best_score['mae'])"
   ]
  },
  {
   "cell_type": "code",
   "execution_count": null,
   "metadata": {},
   "outputs": [],
   "source": []
  }
 ],
 "metadata": {
  "kernelspec": {
   "display_name": "Python 3",
   "language": "python",
   "name": "python3"
  },
  "language_info": {
   "codemirror_mode": {
    "name": "ipython",
    "version": 3
   },
   "file_extension": ".py",
   "mimetype": "text/x-python",
   "name": "python",
   "nbconvert_exporter": "python",
   "pygments_lexer": "ipython3",
   "version": "3.7.6"
  }
 },
 "nbformat": 4,
 "nbformat_minor": 2
}
