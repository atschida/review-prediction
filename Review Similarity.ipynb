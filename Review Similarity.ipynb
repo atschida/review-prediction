{
 "cells": [
  {
   "cell_type": "code",
   "execution_count": 4,
   "metadata": {},
   "outputs": [],
   "source": [
    "import pandas as pd\n",
    "import nltk\n",
    "from nltk.corpus import wordnet as wn\n",
    "from nltk.corpus import wordnet_ic\n",
    "from nltk.text import TextCollection"
   ]
  },
  {
   "cell_type": "code",
   "execution_count": 23,
   "metadata": {},
   "outputs": [
    {
     "name": "stderr",
     "output_type": "stream",
     "text": [
      "[nltk_data] Downloading package gutenberg to\n",
      "[nltk_data]     C:\\Users\\Andy\\AppData\\Roaming\\nltk_data...\n",
      "[nltk_data]   Package gutenberg is already up-to-date!\n",
      "[nltk_data] Downloading package webtext to\n",
      "[nltk_data]     C:\\Users\\Andy\\AppData\\Roaming\\nltk_data...\n",
      "[nltk_data]   Unzipping corpora\\webtext.zip.\n"
     ]
    },
    {
     "data": {
      "text/plain": [
       "True"
      ]
     },
     "execution_count": 23,
     "metadata": {},
     "output_type": "execute_result"
    }
   ],
   "source": [
    "nltk.download('gutenberg')\n",
    "nltk.download('webtext')"
   ]
  },
  {
   "cell_type": "code",
   "execution_count": 66,
   "metadata": {},
   "outputs": [],
   "source": [
    "def isNaN(string):\n",
    "    return string != string"
   ]
  },
  {
   "cell_type": "code",
   "execution_count": 69,
   "metadata": {},
   "outputs": [
    {
     "data": {
      "text/html": [
       "<div>\n",
       "<style scoped>\n",
       "    .dataframe tbody tr th:only-of-type {\n",
       "        vertical-align: middle;\n",
       "    }\n",
       "\n",
       "    .dataframe tbody tr th {\n",
       "        vertical-align: top;\n",
       "    }\n",
       "\n",
       "    .dataframe thead th {\n",
       "        text-align: right;\n",
       "    }\n",
       "</style>\n",
       "<table border=\"1\" class=\"dataframe\">\n",
       "  <thead>\n",
       "    <tr style=\"text-align: right;\">\n",
       "      <th></th>\n",
       "      <th>marketplace</th>\n",
       "      <th>customer_id</th>\n",
       "      <th>review_id</th>\n",
       "      <th>product_id</th>\n",
       "      <th>product_parent</th>\n",
       "      <th>product_title</th>\n",
       "      <th>product_category</th>\n",
       "      <th>star_rating</th>\n",
       "      <th>helpful_votes</th>\n",
       "      <th>total_votes</th>\n",
       "      <th>vine</th>\n",
       "      <th>verified_purchase</th>\n",
       "      <th>review_headline</th>\n",
       "      <th>review_body</th>\n",
       "      <th>review_date</th>\n",
       "    </tr>\n",
       "  </thead>\n",
       "  <tbody>\n",
       "    <tr>\n",
       "      <th>267779</th>\n",
       "      <td>US</td>\n",
       "      <td>3387522</td>\n",
       "      <td>R2JEMKCQT9QTVM</td>\n",
       "      <td>B008SBZD5U</td>\n",
       "      <td>150118808</td>\n",
       "      <td>Kingdom Hearts HD 1.5 Remix</td>\n",
       "      <td>Video Games</td>\n",
       "      <td>4</td>\n",
       "      <td>0</td>\n",
       "      <td>0</td>\n",
       "      <td>N</td>\n",
       "      <td>Y</td>\n",
       "      <td>KH!&gt;% RULE!</td>\n",
       "      <td>Its A pretty good game and it came on time but...</td>\n",
       "      <td>2015-02-01</td>\n",
       "    </tr>\n",
       "    <tr>\n",
       "      <th>267796</th>\n",
       "      <td>US</td>\n",
       "      <td>15137367</td>\n",
       "      <td>R3IM5TXYMA7DCQ</td>\n",
       "      <td>B00IXMF5CU</td>\n",
       "      <td>292308774</td>\n",
       "      <td>Terraria - Xbox 360</td>\n",
       "      <td>Video Games</td>\n",
       "      <td>5</td>\n",
       "      <td>1</td>\n",
       "      <td>2</td>\n",
       "      <td>N</td>\n",
       "      <td>Y</td>\n",
       "      <td>Five Stars</td>\n",
       "      <td>Excellent</td>\n",
       "      <td>2015-02-01</td>\n",
       "    </tr>\n",
       "    <tr>\n",
       "      <th>267818</th>\n",
       "      <td>US</td>\n",
       "      <td>15137367</td>\n",
       "      <td>R2PFXXB4EP23B</td>\n",
       "      <td>B00EM5UFEK</td>\n",
       "      <td>461081395</td>\n",
       "      <td>Plants vs. Zombies Garden Warfare</td>\n",
       "      <td>Video Games</td>\n",
       "      <td>4</td>\n",
       "      <td>0</td>\n",
       "      <td>0</td>\n",
       "      <td>N</td>\n",
       "      <td>Y</td>\n",
       "      <td>Four Stars</td>\n",
       "      <td>Excellent</td>\n",
       "      <td>2015-02-01</td>\n",
       "    </tr>\n",
       "    <tr>\n",
       "      <th>267871</th>\n",
       "      <td>US</td>\n",
       "      <td>4354770</td>\n",
       "      <td>R1A9DB178PFXLH</td>\n",
       "      <td>B004OPYLTS</td>\n",
       "      <td>245894499</td>\n",
       "      <td>Fishdom - Nintendo DS</td>\n",
       "      <td>Video Games</td>\n",
       "      <td>5</td>\n",
       "      <td>0</td>\n",
       "      <td>0</td>\n",
       "      <td>N</td>\n",
       "      <td>Y</td>\n",
       "      <td>Fun Game</td>\n",
       "      <td>Fun game, levels get harder as you progress.</td>\n",
       "      <td>2015-02-01</td>\n",
       "    </tr>\n",
       "    <tr>\n",
       "      <th>267892</th>\n",
       "      <td>US</td>\n",
       "      <td>6698937</td>\n",
       "      <td>R1RS2GAXENP9LF</td>\n",
       "      <td>B00BGA9X9W</td>\n",
       "      <td>943154724</td>\n",
       "      <td>DualShock 4 Wireless Controller for PlayStatio...</td>\n",
       "      <td>Video Games</td>\n",
       "      <td>4</td>\n",
       "      <td>0</td>\n",
       "      <td>0</td>\n",
       "      <td>N</td>\n",
       "      <td>Y</td>\n",
       "      <td>Four Stars</td>\n",
       "      <td>Great controller</td>\n",
       "      <td>2015-02-01</td>\n",
       "    </tr>\n",
       "  </tbody>\n",
       "</table>\n",
       "</div>"
      ],
      "text/plain": [
       "       marketplace  customer_id       review_id  product_id  product_parent  \\\n",
       "267779          US      3387522  R2JEMKCQT9QTVM  B008SBZD5U       150118808   \n",
       "267796          US     15137367  R3IM5TXYMA7DCQ  B00IXMF5CU       292308774   \n",
       "267818          US     15137367   R2PFXXB4EP23B  B00EM5UFEK       461081395   \n",
       "267871          US      4354770  R1A9DB178PFXLH  B004OPYLTS       245894499   \n",
       "267892          US      6698937  R1RS2GAXENP9LF  B00BGA9X9W       943154724   \n",
       "\n",
       "                                            product_title product_category  \\\n",
       "267779                        Kingdom Hearts HD 1.5 Remix      Video Games   \n",
       "267796                                Terraria - Xbox 360      Video Games   \n",
       "267818                  Plants vs. Zombies Garden Warfare      Video Games   \n",
       "267871                              Fishdom - Nintendo DS      Video Games   \n",
       "267892  DualShock 4 Wireless Controller for PlayStatio...      Video Games   \n",
       "\n",
       "        star_rating  helpful_votes  total_votes vine verified_purchase  \\\n",
       "267779            4              0            0    N                 Y   \n",
       "267796            5              1            2    N                 Y   \n",
       "267818            4              0            0    N                 Y   \n",
       "267871            5              0            0    N                 Y   \n",
       "267892            4              0            0    N                 Y   \n",
       "\n",
       "       review_headline                                        review_body  \\\n",
       "267779     KH!>% RULE!  Its A pretty good game and it came on time but...   \n",
       "267796      Five Stars                                          Excellent   \n",
       "267818      Four Stars                                          Excellent   \n",
       "267871        Fun Game       Fun game, levels get harder as you progress.   \n",
       "267892      Four Stars                                   Great controller   \n",
       "\n",
       "       review_date  \n",
       "267779  2015-02-01  \n",
       "267796  2015-02-01  \n",
       "267818  2015-02-01  \n",
       "267871  2015-02-01  \n",
       "267892  2015-02-01  "
      ]
     },
     "execution_count": 69,
     "metadata": {},
     "output_type": "execute_result"
    }
   ],
   "source": [
    "train_df = pd.read_csv('train_raw.csv', index_col=0)\n",
    "train_df.head()"
   ]
  },
  {
   "cell_type": "code",
   "execution_count": 75,
   "metadata": {},
   "outputs": [
    {
     "data": {
      "text/html": [
       "<div>\n",
       "<style scoped>\n",
       "    .dataframe tbody tr th:only-of-type {\n",
       "        vertical-align: middle;\n",
       "    }\n",
       "\n",
       "    .dataframe tbody tr th {\n",
       "        vertical-align: top;\n",
       "    }\n",
       "\n",
       "    .dataframe thead th {\n",
       "        text-align: right;\n",
       "    }\n",
       "</style>\n",
       "<table border=\"1\" class=\"dataframe\">\n",
       "  <thead>\n",
       "    <tr style=\"text-align: right;\">\n",
       "      <th></th>\n",
       "      <th>marketplace</th>\n",
       "      <th>customer_id</th>\n",
       "      <th>review_id</th>\n",
       "      <th>product_id</th>\n",
       "      <th>product_parent</th>\n",
       "      <th>product_title</th>\n",
       "      <th>product_category</th>\n",
       "      <th>star_rating</th>\n",
       "      <th>helpful_votes</th>\n",
       "      <th>total_votes</th>\n",
       "      <th>vine</th>\n",
       "      <th>verified_purchase</th>\n",
       "      <th>review_headline</th>\n",
       "      <th>review_body</th>\n",
       "      <th>review_date</th>\n",
       "    </tr>\n",
       "  </thead>\n",
       "  <tbody>\n",
       "    <tr>\n",
       "      <th>267779</th>\n",
       "      <td>US</td>\n",
       "      <td>3387522</td>\n",
       "      <td>R2JEMKCQT9QTVM</td>\n",
       "      <td>B008SBZD5U</td>\n",
       "      <td>150118808</td>\n",
       "      <td>Kingdom Hearts HD 1.5 Remix</td>\n",
       "      <td>Video Games</td>\n",
       "      <td>4</td>\n",
       "      <td>0</td>\n",
       "      <td>0</td>\n",
       "      <td>N</td>\n",
       "      <td>Y</td>\n",
       "      <td>KH!&gt;% RULE!</td>\n",
       "      <td>Its A pretty good game and it came on time but...</td>\n",
       "      <td>2015-02-01</td>\n",
       "    </tr>\n",
       "    <tr>\n",
       "      <th>267796</th>\n",
       "      <td>US</td>\n",
       "      <td>15137367</td>\n",
       "      <td>R3IM5TXYMA7DCQ</td>\n",
       "      <td>B00IXMF5CU</td>\n",
       "      <td>292308774</td>\n",
       "      <td>Terraria - Xbox 360</td>\n",
       "      <td>Video Games</td>\n",
       "      <td>5</td>\n",
       "      <td>1</td>\n",
       "      <td>2</td>\n",
       "      <td>N</td>\n",
       "      <td>Y</td>\n",
       "      <td>Five Stars</td>\n",
       "      <td>Excellent</td>\n",
       "      <td>2015-02-01</td>\n",
       "    </tr>\n",
       "    <tr>\n",
       "      <th>267818</th>\n",
       "      <td>US</td>\n",
       "      <td>15137367</td>\n",
       "      <td>R2PFXXB4EP23B</td>\n",
       "      <td>B00EM5UFEK</td>\n",
       "      <td>461081395</td>\n",
       "      <td>Plants vs. Zombies Garden Warfare</td>\n",
       "      <td>Video Games</td>\n",
       "      <td>4</td>\n",
       "      <td>0</td>\n",
       "      <td>0</td>\n",
       "      <td>N</td>\n",
       "      <td>Y</td>\n",
       "      <td>Four Stars</td>\n",
       "      <td>Excellent</td>\n",
       "      <td>2015-02-01</td>\n",
       "    </tr>\n",
       "    <tr>\n",
       "      <th>267871</th>\n",
       "      <td>US</td>\n",
       "      <td>4354770</td>\n",
       "      <td>R1A9DB178PFXLH</td>\n",
       "      <td>B004OPYLTS</td>\n",
       "      <td>245894499</td>\n",
       "      <td>Fishdom - Nintendo DS</td>\n",
       "      <td>Video Games</td>\n",
       "      <td>5</td>\n",
       "      <td>0</td>\n",
       "      <td>0</td>\n",
       "      <td>N</td>\n",
       "      <td>Y</td>\n",
       "      <td>Fun Game</td>\n",
       "      <td>Fun game, levels get harder as you progress.</td>\n",
       "      <td>2015-02-01</td>\n",
       "    </tr>\n",
       "    <tr>\n",
       "      <th>267892</th>\n",
       "      <td>US</td>\n",
       "      <td>6698937</td>\n",
       "      <td>R1RS2GAXENP9LF</td>\n",
       "      <td>B00BGA9X9W</td>\n",
       "      <td>943154724</td>\n",
       "      <td>DualShock 4 Wireless Controller for PlayStatio...</td>\n",
       "      <td>Video Games</td>\n",
       "      <td>4</td>\n",
       "      <td>0</td>\n",
       "      <td>0</td>\n",
       "      <td>N</td>\n",
       "      <td>Y</td>\n",
       "      <td>Four Stars</td>\n",
       "      <td>Great controller</td>\n",
       "      <td>2015-02-01</td>\n",
       "    </tr>\n",
       "  </tbody>\n",
       "</table>\n",
       "</div>"
      ],
      "text/plain": [
       "       marketplace  customer_id       review_id  product_id  product_parent  \\\n",
       "267779          US      3387522  R2JEMKCQT9QTVM  B008SBZD5U       150118808   \n",
       "267796          US     15137367  R3IM5TXYMA7DCQ  B00IXMF5CU       292308774   \n",
       "267818          US     15137367   R2PFXXB4EP23B  B00EM5UFEK       461081395   \n",
       "267871          US      4354770  R1A9DB178PFXLH  B004OPYLTS       245894499   \n",
       "267892          US      6698937  R1RS2GAXENP9LF  B00BGA9X9W       943154724   \n",
       "\n",
       "                                            product_title product_category  \\\n",
       "267779                        Kingdom Hearts HD 1.5 Remix      Video Games   \n",
       "267796                                Terraria - Xbox 360      Video Games   \n",
       "267818                  Plants vs. Zombies Garden Warfare      Video Games   \n",
       "267871                              Fishdom - Nintendo DS      Video Games   \n",
       "267892  DualShock 4 Wireless Controller for PlayStatio...      Video Games   \n",
       "\n",
       "        star_rating  helpful_votes  total_votes vine verified_purchase  \\\n",
       "267779            4              0            0    N                 Y   \n",
       "267796            5              1            2    N                 Y   \n",
       "267818            4              0            0    N                 Y   \n",
       "267871            5              0            0    N                 Y   \n",
       "267892            4              0            0    N                 Y   \n",
       "\n",
       "       review_headline                                        review_body  \\\n",
       "267779     KH!>% RULE!  Its A pretty good game and it came on time but...   \n",
       "267796      Five Stars                                          Excellent   \n",
       "267818      Four Stars                                          Excellent   \n",
       "267871        Fun Game       Fun game, levels get harder as you progress.   \n",
       "267892      Four Stars                                   Great controller   \n",
       "\n",
       "       review_date  \n",
       "267779  2015-02-01  \n",
       "267796  2015-02-01  \n",
       "267818  2015-02-01  \n",
       "267871  2015-02-01  \n",
       "267892  2015-02-01  "
      ]
     },
     "execution_count": 75,
     "metadata": {},
     "output_type": "execute_result"
    }
   ],
   "source": [
    "train_df['review_body'] = train_df['review_body'].apply(lambda x: '' if isNaN(x) else x)\n",
    "train_df.head()"
   ]
  },
  {
   "cell_type": "code",
   "execution_count": 76,
   "metadata": {},
   "outputs": [],
   "source": [
    "corpus = TextCollection(train_df.review_body)"
   ]
  },
  {
   "cell_type": "code",
   "execution_count": 78,
   "metadata": {},
   "outputs": [
    {
     "data": {
      "text/plain": [
       "4.033328746641025"
      ]
     },
     "execution_count": 78,
     "metadata": {},
     "output_type": "execute_result"
    }
   ],
   "source": [
    "corpus.idf('Game')"
   ]
  },
  {
   "cell_type": "code",
   "execution_count": 137,
   "metadata": {},
   "outputs": [],
   "source": [
    "def get_word_to_text_sim(string1, string2):\n",
    "    print('Beginning Text Sim')\n",
    "    num = 0\n",
    "    \n",
    "    print('Calculating Numerator')\n",
    "    for w1 in string1.split():\n",
    "        max_sim = 0\n",
    "        for w2 in string2.split():\n",
    "            w1_synset = wn.synsets(w1)\n",
    "            w2_synset = wn.synsets(w2)\n",
    "            if (len(w1_synset) == 0 or len(w2_synset) == 0):\n",
    "                continue\n",
    "            w1_syn = w1_synset[0]\n",
    "            w2_syn = w2_synset[0]\n",
    "            sim = w1_syn.wup_similarity(w2_syn)\n",
    "            if (sim != None and sim > max_sim):\n",
    "                max_sim = sim\n",
    "        freq = corpus.idf(w1)\n",
    "        num += max_sim * freq\n",
    "\n",
    "    print('Calculating Denominator')\n",
    "    denom = 0\n",
    "    for w1 in string1.split():\n",
    "        w1_synset = wn.synsets(w1)\n",
    "        if (len(w1_synset) == 0):\n",
    "            continue\n",
    "        freq = corpus.idf(w1)\n",
    "        denom += freq\n",
    "    \n",
    "    if (denom == 0):\n",
    "        return 0\n",
    "    \n",
    "    return num / denom"
   ]
  },
  {
   "cell_type": "code",
   "execution_count": 138,
   "metadata": {},
   "outputs": [],
   "source": [
    "def text_sim(string1, string2):\n",
    "    return (get_word_to_text_sim(string1, string2) + get_word_to_text_sim(string2, string1)) / 2"
   ]
  },
  {
   "cell_type": "code",
   "execution_count": 139,
   "metadata": {},
   "outputs": [],
   "source": [
    "s1 = \"I'm going to buy some bread\"\n",
    "s2 = \"I'm going to the store to purchase bread\"\n",
    "s3 = \"I'm going to work to make some money\""
   ]
  },
  {
   "cell_type": "code",
   "execution_count": 140,
   "metadata": {},
   "outputs": [
    {
     "name": "stdout",
     "output_type": "stream",
     "text": [
      "Beginning Text Sim\n",
      "Calculating Numerator\n",
      "Calculating Denominator\n",
      "Beginning Text Sim\n",
      "Calculating Numerator\n",
      "Calculating Denominator\n",
      "w1: I'm going to buy some bread w2: I'm going to the store to purchase bread sim: 0.7826037244687303\n",
      "Beginning Text Sim\n",
      "Calculating Numerator\n",
      "Calculating Denominator\n",
      "Beginning Text Sim\n",
      "Calculating Numerator\n",
      "Calculating Denominator\n",
      "w1: I'm going to buy some bread w2: I'm going to work to make some money sim: 0.5497105780746618\n",
      "Beginning Text Sim\n",
      "Calculating Numerator\n",
      "Calculating Denominator\n",
      "Beginning Text Sim\n",
      "Calculating Numerator\n",
      "Calculating Denominator\n",
      "w1: I'm going to the store to purchase bread w2: I'm going to work to make some money sim: 0.44763921153577335\n"
     ]
    }
   ],
   "source": [
    "print('w1: {} w2: {} sim: {}'.format(s1, s2, text_sim(s1, s2)))\n",
    "print('w1: {} w2: {} sim: {}'.format(s1, s3, text_sim(s1, s3)))\n",
    "print('w1: {} w2: {} sim: {}'.format(s2, s3, text_sim(s2, s3)))"
   ]
  },
  {
   "cell_type": "code",
   "execution_count": 141,
   "metadata": {},
   "outputs": [],
   "source": [
    "kingdom_hearts = train_df[train_df.product_parent == 150118808]['review_body']"
   ]
  },
  {
   "cell_type": "code",
   "execution_count": 142,
   "metadata": {},
   "outputs": [],
   "source": [
    "terraria = train_df[train_df.product_parent == 292308774]['review_body']"
   ]
  },
  {
   "cell_type": "code",
   "execution_count": 143,
   "metadata": {},
   "outputs": [],
   "source": [
    "controller = train_df[train_df.product_parent == 943154724]['review_body']"
   ]
  },
  {
   "cell_type": "code",
   "execution_count": 153,
   "metadata": {},
   "outputs": [],
   "source": [
    "def product_sim(prod1, prod2):\n",
    "    sim = 0\n",
    "    count = 0\n",
    "    for r1 in prod1:\n",
    "        for r2 in prod2:\n",
    "            sim += jaccard_similarity(r1, r2)\n",
    "            count += 1\n",
    "    \n",
    "    return sim / count        "
   ]
  },
  {
   "cell_type": "code",
   "execution_count": 155,
   "metadata": {},
   "outputs": [],
   "source": [
    "def jaccard_similarity(query, document):\n",
    "    intersection = set(query).intersection(set(document))\n",
    "    union = set(query).union(set(document))\n",
    "    return len(intersection)/len(union)"
   ]
  },
  {
   "cell_type": "code",
   "execution_count": 158,
   "metadata": {},
   "outputs": [],
   "source": [
    "def product_sim(prod1, prod2):\n",
    "    return jaccard_similarity(\" \".join(prod1.tolist()).split(), \" \".join(prod2.tolist()).split())"
   ]
  },
  {
   "cell_type": "code",
   "execution_count": 159,
   "metadata": {},
   "outputs": [
    {
     "name": "stdout",
     "output_type": "stream",
     "text": [
      "p1: kingdom_hearts p2: terraria sim: 0.10227936879018118\n",
      "p1: kingdom_hearts p2: controller sim: 0.1579828415986608\n",
      "p1: terraria p2: controller sim: 0.05120630231413097\n"
     ]
    }
   ],
   "source": [
    "print('p1: {} p2: {} sim: {}'.format('kingdom_hearts', 'terraria', product_sim(kingdom_hearts, terraria)))\n",
    "print('p1: {} p2: {} sim: {}'.format('kingdom_hearts', 'controller', product_sim(kingdom_hearts, controller)))\n",
    "print('p1: {} p2: {} sim: {}'.format('terraria', 'controller', product_sim(terraria, controller)))"
   ]
  },
  {
   "cell_type": "code",
   "execution_count": null,
   "metadata": {},
   "outputs": [],
   "source": []
  }
 ],
 "metadata": {
  "kernelspec": {
   "display_name": "Python 3",
   "language": "python",
   "name": "python3"
  },
  "language_info": {
   "codemirror_mode": {
    "name": "ipython",
    "version": 3
   },
   "file_extension": ".py",
   "mimetype": "text/x-python",
   "name": "python",
   "nbconvert_exporter": "python",
   "pygments_lexer": "ipython3",
   "version": "3.7.6"
  }
 },
 "nbformat": 4,
 "nbformat_minor": 4
}
