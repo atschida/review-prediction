{
 "cells": [
  {
   "cell_type": "code",
   "execution_count": 1,
   "metadata": {},
   "outputs": [],
   "source": [
    "import pandas as pd\n",
    "from surprise import Dataset\n",
    "from surprise import Reader\n",
    "from surprise import accuracy\n",
    "from surprise import SVD\n",
    "from surprise.model_selection import PredefinedKFold"
   ]
  },
  {
   "cell_type": "code",
   "execution_count": 2,
   "metadata": {},
   "outputs": [
    {
     "data": {
      "text/html": [
       "<div>\n",
       "<style scoped>\n",
       "    .dataframe tbody tr th:only-of-type {\n",
       "        vertical-align: middle;\n",
       "    }\n",
       "\n",
       "    .dataframe tbody tr th {\n",
       "        vertical-align: top;\n",
       "    }\n",
       "\n",
       "    .dataframe thead th {\n",
       "        text-align: right;\n",
       "    }\n",
       "</style>\n",
       "<table border=\"1\" class=\"dataframe\">\n",
       "  <thead>\n",
       "    <tr style=\"text-align: right;\">\n",
       "      <th></th>\n",
       "      <th>marketplace</th>\n",
       "      <th>customer_id</th>\n",
       "      <th>review_id</th>\n",
       "      <th>product_id</th>\n",
       "      <th>product_parent</th>\n",
       "      <th>product_title</th>\n",
       "      <th>product_category</th>\n",
       "      <th>star_rating</th>\n",
       "      <th>helpful_votes</th>\n",
       "      <th>total_votes</th>\n",
       "      <th>vine</th>\n",
       "      <th>verified_purchase</th>\n",
       "      <th>review_headline</th>\n",
       "      <th>review_body</th>\n",
       "      <th>review_date</th>\n",
       "      <th>positive</th>\n",
       "      <th>clean_review</th>\n",
       "    </tr>\n",
       "  </thead>\n",
       "  <tbody>\n",
       "    <tr>\n",
       "      <th>827781</th>\n",
       "      <td>US</td>\n",
       "      <td>26050837</td>\n",
       "      <td>R1U8RPT9T62MXB</td>\n",
       "      <td>B002SD94AY</td>\n",
       "      <td>652294944</td>\n",
       "      <td>Gen Soft Rubber Jelly Silicone Skin Cover Case...</td>\n",
       "      <td>Video Games</td>\n",
       "      <td>5</td>\n",
       "      <td>0</td>\n",
       "      <td>0</td>\n",
       "      <td>N</td>\n",
       "      <td>Y</td>\n",
       "      <td>fits like a glove</td>\n",
       "      <td>this thing is pretty cool, several times i hav...</td>\n",
       "      <td>2013-08-15</td>\n",
       "      <td>1</td>\n",
       "      <td>thing time psp slip hand</td>\n",
       "    </tr>\n",
       "    <tr>\n",
       "      <th>827860</th>\n",
       "      <td>US</td>\n",
       "      <td>11150678</td>\n",
       "      <td>R6C94ECBW3SHZ</td>\n",
       "      <td>B0086V5UF0</td>\n",
       "      <td>245270804</td>\n",
       "      <td>Just Dance 4</td>\n",
       "      <td>Video Games</td>\n",
       "      <td>4</td>\n",
       "      <td>0</td>\n",
       "      <td>0</td>\n",
       "      <td>N</td>\n",
       "      <td>Y</td>\n",
       "      <td>Great Game</td>\n",
       "      <td>This is a great game to play with a group of f...</td>\n",
       "      <td>2013-08-15</td>\n",
       "      <td>1</td>\n",
       "      <td>game group friend time danc</td>\n",
       "    </tr>\n",
       "    <tr>\n",
       "      <th>827983</th>\n",
       "      <td>US</td>\n",
       "      <td>11150678</td>\n",
       "      <td>R1ZRZEIBTMEHN6</td>\n",
       "      <td>B003V8Q7BE</td>\n",
       "      <td>172539745</td>\n",
       "      <td>dreamGEAR Power Base Quad for Nintendo Wii &amp; W...</td>\n",
       "      <td>Video Games</td>\n",
       "      <td>4</td>\n",
       "      <td>0</td>\n",
       "      <td>0</td>\n",
       "      <td>N</td>\n",
       "      <td>Y</td>\n",
       "      <td>Money Saver</td>\n",
       "      <td>I've been looking for a way to charge my wii r...</td>\n",
       "      <td>2013-08-15</td>\n",
       "      <td>1</td>\n",
       "      <td>way wii remot battieri remot station on/off sw...</td>\n",
       "    </tr>\n",
       "    <tr>\n",
       "      <th>828004</th>\n",
       "      <td>US</td>\n",
       "      <td>11150678</td>\n",
       "      <td>R3NN0Z7YSEA9J3</td>\n",
       "      <td>B002D2Y3IS</td>\n",
       "      <td>811433211</td>\n",
       "      <td>Generic Remote + Nunchuk Nunchuck Controller C...</td>\n",
       "      <td>Video Games</td>\n",
       "      <td>4</td>\n",
       "      <td>0</td>\n",
       "      <td>0</td>\n",
       "      <td>N</td>\n",
       "      <td>Y</td>\n",
       "      <td>Works Great</td>\n",
       "      <td>I bought two of these because they were the ch...</td>\n",
       "      <td>2013-08-15</td>\n",
       "      <td>1</td>\n",
       "      <td>remot wii remot differ remot remot sound work ...</td>\n",
       "    </tr>\n",
       "    <tr>\n",
       "      <th>828064</th>\n",
       "      <td>US</td>\n",
       "      <td>26050837</td>\n",
       "      <td>R1DO33YUR5ZKG8</td>\n",
       "      <td>B006986TYS</td>\n",
       "      <td>468681529</td>\n",
       "      <td>Replacement UMD Casing Shell Case for Sony PSP...</td>\n",
       "      <td>Video Games</td>\n",
       "      <td>5</td>\n",
       "      <td>0</td>\n",
       "      <td>0</td>\n",
       "      <td>N</td>\n",
       "      <td>Y</td>\n",
       "      <td>awesome idea</td>\n",
       "      <td>it was a little tough to snap together at firs...</td>\n",
       "      <td>2013-08-15</td>\n",
       "      <td>1</td>\n",
       "      <td>origin games/movi</td>\n",
       "    </tr>\n",
       "  </tbody>\n",
       "</table>\n",
       "</div>"
      ],
      "text/plain": [
       "       marketplace  customer_id       review_id  product_id  product_parent  \\\n",
       "827781          US     26050837  R1U8RPT9T62MXB  B002SD94AY       652294944   \n",
       "827860          US     11150678   R6C94ECBW3SHZ  B0086V5UF0       245270804   \n",
       "827983          US     11150678  R1ZRZEIBTMEHN6  B003V8Q7BE       172539745   \n",
       "828004          US     11150678  R3NN0Z7YSEA9J3  B002D2Y3IS       811433211   \n",
       "828064          US     26050837  R1DO33YUR5ZKG8  B006986TYS       468681529   \n",
       "\n",
       "                                            product_title product_category  \\\n",
       "827781  Gen Soft Rubber Jelly Silicone Skin Cover Case...      Video Games   \n",
       "827860                                       Just Dance 4      Video Games   \n",
       "827983  dreamGEAR Power Base Quad for Nintendo Wii & W...      Video Games   \n",
       "828004  Generic Remote + Nunchuk Nunchuck Controller C...      Video Games   \n",
       "828064  Replacement UMD Casing Shell Case for Sony PSP...      Video Games   \n",
       "\n",
       "        star_rating  helpful_votes  total_votes vine verified_purchase  \\\n",
       "827781            5              0            0    N                 Y   \n",
       "827860            4              0            0    N                 Y   \n",
       "827983            4              0            0    N                 Y   \n",
       "828004            4              0            0    N                 Y   \n",
       "828064            5              0            0    N                 Y   \n",
       "\n",
       "          review_headline                                        review_body  \\\n",
       "827781  fits like a glove  this thing is pretty cool, several times i hav...   \n",
       "827860         Great Game  This is a great game to play with a group of f...   \n",
       "827983        Money Saver  I've been looking for a way to charge my wii r...   \n",
       "828004        Works Great  I bought two of these because they were the ch...   \n",
       "828064       awesome idea  it was a little tough to snap together at firs...   \n",
       "\n",
       "       review_date  positive  \\\n",
       "827781  2013-08-15         1   \n",
       "827860  2013-08-15         1   \n",
       "827983  2013-08-15         1   \n",
       "828004  2013-08-15         1   \n",
       "828064  2013-08-15         1   \n",
       "\n",
       "                                             clean_review  \n",
       "827781                           thing time psp slip hand  \n",
       "827860                        game group friend time danc  \n",
       "827983  way wii remot battieri remot station on/off sw...  \n",
       "828004  remot wii remot differ remot remot sound work ...  \n",
       "828064                                  origin games/movi  "
      ]
     },
     "execution_count": 2,
     "metadata": {},
     "output_type": "execute_result"
    }
   ],
   "source": [
    "svd_train_df = pd.read_csv('train_raw.csv', index_col=0)\n",
    "svd_train_df = pd.concat([svd_train_df, pd.read_csv('train_raw_max.csv', index_col=0)])\n",
    "svd_test_df = pd.read_csv('test_raw.csv', index_col=0)\n",
    "svd_test_df = pd.concat([svd_test_df, pd.read_csv('test_raw_max.csv', index_col=0)])\n",
    "\n",
    "temp = svd_train_df[svd_train_df.positive == 0]\n",
    "#temp = pd.concat([temp, train_df[train_df.positive == 1][:14296]]) #9531\n",
    "temp = pd.concat([temp, svd_train_df[svd_train_df.positive == 1].sample(22239)])\n",
    "svd_train_df = temp\n",
    "\n",
    "svd_test_df.head()"
   ]
  },
  {
   "cell_type": "code",
   "execution_count": 3,
   "metadata": {},
   "outputs": [],
   "source": [
    "svd_train_df[['customer_id', 'product_parent', 'star_rating', 'review_date']].to_csv('svd_train_df.csv', index=False)\n",
    "svd_test_df[['customer_id', 'product_parent', 'star_rating', 'review_date']].to_csv('svd_test_df.csv', index=False)"
   ]
  },
  {
   "cell_type": "code",
   "execution_count": 4,
   "metadata": {},
   "outputs": [],
   "source": [
    "reader = Reader(line_format='user item rating timestamp', sep=',', skip_lines=1)\n",
    "data = Dataset.load_from_folds([('svd_train_df.csv', 'svd_test_df.csv')], reader=reader)"
   ]
  },
  {
   "cell_type": "code",
   "execution_count": 5,
   "metadata": {},
   "outputs": [
    {
     "name": "stdout",
     "output_type": "stream",
     "text": [
      "RMSE: 2.0170\n",
      "MAE:  1.8712\n"
     ]
    }
   ],
   "source": [
    "from surprise import SVDpp\n",
    "pkf = PredefinedKFold()\n",
    "\n",
    "algo = SVD()\n",
    "\n",
    "for trainset, testset in pkf.split(data):\n",
    "\n",
    "    # train and test algorithm.\n",
    "    algo.fit(trainset)\n",
    "    predictions = algo.test(testset)\n",
    "\n",
    "    # Compute and print Root Mean Squared Error\n",
    "    mean_rmse = accuracy.rmse(predictions, verbose=True)\n",
    "    mean_mae = accuracy.mae(predictions, verbose=True)"
   ]
  },
  {
   "cell_type": "code",
   "execution_count": 7,
   "metadata": {},
   "outputs": [
    {
     "name": "stdout",
     "output_type": "stream",
     "text": [
      "Correct: 16453 %: 0.07294354445419804\n"
     ]
    }
   ],
   "source": [
    "correct = 0\n",
    "for i, row in svd_test_df.iterrows():\n",
    "    uid = str(row.customer_id)\n",
    "    iid = str(row.product_parent)\n",
    "\n",
    "    # get a prediction for specific users and items.\n",
    "    pred = algo.predict(uid, iid, r_ui=row.star_rating, verbose=False)\n",
    "    if (round(pred.est) == row.star_rating):\n",
    "        correct += 1\n",
    "\n",
    "print('Correct: {} %: {}'.format(correct, correct / len(svd_test_df)))"
   ]
  },
  {
   "cell_type": "code",
   "execution_count": 8,
   "metadata": {},
   "outputs": [
    {
     "ename": "KeyError",
     "evalue": "\"['review_date'] not in index\"",
     "output_type": "error",
     "traceback": [
      "\u001b[1;31m---------------------------------------------------------------------------\u001b[0m",
      "\u001b[1;31mKeyError\u001b[0m                                  Traceback (most recent call last)",
      "\u001b[1;32m<ipython-input-8-eba86d07577a>\u001b[0m in \u001b[0;36m<module>\u001b[1;34m\u001b[0m\n\u001b[0;32m      1\u001b[0m \u001b[0mtest_df\u001b[0m \u001b[1;33m=\u001b[0m \u001b[0mpd\u001b[0m\u001b[1;33m.\u001b[0m\u001b[0mread_csv\u001b[0m\u001b[1;33m(\u001b[0m\u001b[1;34m'test_df2.csv'\u001b[0m\u001b[1;33m,\u001b[0m \u001b[0mindex_col\u001b[0m\u001b[1;33m=\u001b[0m\u001b[1;36m0\u001b[0m\u001b[1;33m)\u001b[0m\u001b[1;33m\u001b[0m\u001b[1;33m\u001b[0m\u001b[0m\n\u001b[1;32m----> 2\u001b[1;33m \u001b[0mtest_df\u001b[0m \u001b[1;33m=\u001b[0m \u001b[0mtest_df\u001b[0m\u001b[1;33m[\u001b[0m\u001b[1;33m[\u001b[0m\u001b[1;34m'customer_id'\u001b[0m\u001b[1;33m,\u001b[0m \u001b[1;34m'product_parent'\u001b[0m\u001b[1;33m,\u001b[0m \u001b[1;34m'star_rating'\u001b[0m\u001b[1;33m,\u001b[0m \u001b[1;34m'review_date'\u001b[0m\u001b[1;33m]\u001b[0m\u001b[1;33m]\u001b[0m\u001b[1;33m\u001b[0m\u001b[1;33m\u001b[0m\u001b[0m\n\u001b[0m",
      "\u001b[1;32mE:\\ProgramData\\Anaconda3\\envs\\PythonGPU\\lib\\site-packages\\pandas\\core\\frame.py\u001b[0m in \u001b[0;36m__getitem__\u001b[1;34m(self, key)\u001b[0m\n\u001b[0;32m   2804\u001b[0m             \u001b[1;32mif\u001b[0m \u001b[0mis_iterator\u001b[0m\u001b[1;33m(\u001b[0m\u001b[0mkey\u001b[0m\u001b[1;33m)\u001b[0m\u001b[1;33m:\u001b[0m\u001b[1;33m\u001b[0m\u001b[1;33m\u001b[0m\u001b[0m\n\u001b[0;32m   2805\u001b[0m                 \u001b[0mkey\u001b[0m \u001b[1;33m=\u001b[0m \u001b[0mlist\u001b[0m\u001b[1;33m(\u001b[0m\u001b[0mkey\u001b[0m\u001b[1;33m)\u001b[0m\u001b[1;33m\u001b[0m\u001b[1;33m\u001b[0m\u001b[0m\n\u001b[1;32m-> 2806\u001b[1;33m             \u001b[0mindexer\u001b[0m \u001b[1;33m=\u001b[0m \u001b[0mself\u001b[0m\u001b[1;33m.\u001b[0m\u001b[0mloc\u001b[0m\u001b[1;33m.\u001b[0m\u001b[0m_get_listlike_indexer\u001b[0m\u001b[1;33m(\u001b[0m\u001b[0mkey\u001b[0m\u001b[1;33m,\u001b[0m \u001b[0maxis\u001b[0m\u001b[1;33m=\u001b[0m\u001b[1;36m1\u001b[0m\u001b[1;33m,\u001b[0m \u001b[0mraise_missing\u001b[0m\u001b[1;33m=\u001b[0m\u001b[1;32mTrue\u001b[0m\u001b[1;33m)\u001b[0m\u001b[1;33m[\u001b[0m\u001b[1;36m1\u001b[0m\u001b[1;33m]\u001b[0m\u001b[1;33m\u001b[0m\u001b[1;33m\u001b[0m\u001b[0m\n\u001b[0m\u001b[0;32m   2807\u001b[0m \u001b[1;33m\u001b[0m\u001b[0m\n\u001b[0;32m   2808\u001b[0m         \u001b[1;31m# take() does not accept boolean indexers\u001b[0m\u001b[1;33m\u001b[0m\u001b[1;33m\u001b[0m\u001b[1;33m\u001b[0m\u001b[0m\n",
      "\u001b[1;32mE:\\ProgramData\\Anaconda3\\envs\\PythonGPU\\lib\\site-packages\\pandas\\core\\indexing.py\u001b[0m in \u001b[0;36m_get_listlike_indexer\u001b[1;34m(self, key, axis, raise_missing)\u001b[0m\n\u001b[0;32m   1551\u001b[0m \u001b[1;33m\u001b[0m\u001b[0m\n\u001b[0;32m   1552\u001b[0m         self._validate_read_indexer(\n\u001b[1;32m-> 1553\u001b[1;33m             \u001b[0mkeyarr\u001b[0m\u001b[1;33m,\u001b[0m \u001b[0mindexer\u001b[0m\u001b[1;33m,\u001b[0m \u001b[0mo\u001b[0m\u001b[1;33m.\u001b[0m\u001b[0m_get_axis_number\u001b[0m\u001b[1;33m(\u001b[0m\u001b[0maxis\u001b[0m\u001b[1;33m)\u001b[0m\u001b[1;33m,\u001b[0m \u001b[0mraise_missing\u001b[0m\u001b[1;33m=\u001b[0m\u001b[0mraise_missing\u001b[0m\u001b[1;33m\u001b[0m\u001b[1;33m\u001b[0m\u001b[0m\n\u001b[0m\u001b[0;32m   1554\u001b[0m         )\n\u001b[0;32m   1555\u001b[0m         \u001b[1;32mreturn\u001b[0m \u001b[0mkeyarr\u001b[0m\u001b[1;33m,\u001b[0m \u001b[0mindexer\u001b[0m\u001b[1;33m\u001b[0m\u001b[1;33m\u001b[0m\u001b[0m\n",
      "\u001b[1;32mE:\\ProgramData\\Anaconda3\\envs\\PythonGPU\\lib\\site-packages\\pandas\\core\\indexing.py\u001b[0m in \u001b[0;36m_validate_read_indexer\u001b[1;34m(self, key, indexer, axis, raise_missing)\u001b[0m\n\u001b[0;32m   1644\u001b[0m             \u001b[1;32mif\u001b[0m \u001b[1;32mnot\u001b[0m \u001b[1;33m(\u001b[0m\u001b[0mself\u001b[0m\u001b[1;33m.\u001b[0m\u001b[0mname\u001b[0m \u001b[1;33m==\u001b[0m \u001b[1;34m\"loc\"\u001b[0m \u001b[1;32mand\u001b[0m \u001b[1;32mnot\u001b[0m \u001b[0mraise_missing\u001b[0m\u001b[1;33m)\u001b[0m\u001b[1;33m:\u001b[0m\u001b[1;33m\u001b[0m\u001b[1;33m\u001b[0m\u001b[0m\n\u001b[0;32m   1645\u001b[0m                 \u001b[0mnot_found\u001b[0m \u001b[1;33m=\u001b[0m \u001b[0mlist\u001b[0m\u001b[1;33m(\u001b[0m\u001b[0mset\u001b[0m\u001b[1;33m(\u001b[0m\u001b[0mkey\u001b[0m\u001b[1;33m)\u001b[0m \u001b[1;33m-\u001b[0m \u001b[0mset\u001b[0m\u001b[1;33m(\u001b[0m\u001b[0max\u001b[0m\u001b[1;33m)\u001b[0m\u001b[1;33m)\u001b[0m\u001b[1;33m\u001b[0m\u001b[1;33m\u001b[0m\u001b[0m\n\u001b[1;32m-> 1646\u001b[1;33m                 \u001b[1;32mraise\u001b[0m \u001b[0mKeyError\u001b[0m\u001b[1;33m(\u001b[0m\u001b[1;34mf\"{not_found} not in index\"\u001b[0m\u001b[1;33m)\u001b[0m\u001b[1;33m\u001b[0m\u001b[1;33m\u001b[0m\u001b[0m\n\u001b[0m\u001b[0;32m   1647\u001b[0m \u001b[1;33m\u001b[0m\u001b[0m\n\u001b[0;32m   1648\u001b[0m             \u001b[1;31m# we skip the warning on Categorical/Interval\u001b[0m\u001b[1;33m\u001b[0m\u001b[1;33m\u001b[0m\u001b[1;33m\u001b[0m\u001b[0m\n",
      "\u001b[1;31mKeyError\u001b[0m: \"['review_date'] not in index\""
     ]
    }
   ],
   "source": [
    "test_df = pd.read_csv('test_df2.csv', index_col=0)\n",
    "test_df = test_df[['customer_id', 'product_parent', 'star_rating']]"
   ]
  },
  {
   "cell_type": "code",
   "execution_count": 6,
   "metadata": {},
   "outputs": [
    {
     "name": "stdout",
     "output_type": "stream",
     "text": [
      "Correct: 57343 %: 0.25422729408843847\n",
      "Positive: 7881 %: 0.03494001542840423\n",
      "False Positive: 665 %: 0.002948243910657126\n",
      "False Negative: 167550 %: 0.7428244620009045\n"
     ]
    }
   ],
   "source": [
    "correct = 0\n",
    "positive = 0\n",
    "false_pos = 0\n",
    "false_neg = 0\n",
    "for i, row in svd_test_df.iterrows():\n",
    "    uid = str(row.customer_id)\n",
    "    iid = str(row.product_parent)\n",
    "\n",
    "    # get a prediction for specific users and items.\n",
    "    pred = algo.predict(uid, iid, r_ui=row.star_rating, verbose=False)\n",
    "    if (pred.est > 3 and row.star_rating > 3):\n",
    "        correct += 1\n",
    "    elif (pred.est <= 3 and row.star_rating <= 3):\n",
    "        correct += 1\n",
    "    if (pred.est > 3):\n",
    "        positive += 1\n",
    "    if (pred.est > 3 and row.star_rating <= 3):\n",
    "        false_pos += 1\n",
    "    if (pred.est <= 3 and row.star_rating > 3):\n",
    "        false_neg += 1\n",
    "\n",
    "print('Correct: {} %: {}'.format(correct, correct / len(svd_test_df)))\n",
    "print('Positive: {} %: {}'.format(positive, positive / len(svd_test_df)))\n",
    "print('False Positive: {} %: {}'.format(false_pos, false_pos / len(svd_test_df)))\n",
    "print('False Negative: {} %: {}'.format(false_neg, false_neg / len(svd_test_df)))"
   ]
  },
  {
   "cell_type": "code",
   "execution_count": null,
   "metadata": {},
   "outputs": [],
   "source": []
  }
 ],
 "metadata": {
  "kernelspec": {
   "display_name": "Python 3",
   "language": "python",
   "name": "python3"
  },
  "language_info": {
   "codemirror_mode": {
    "name": "ipython",
    "version": 3
   },
   "file_extension": ".py",
   "mimetype": "text/x-python",
   "name": "python",
   "nbconvert_exporter": "python",
   "pygments_lexer": "ipython3",
   "version": "3.7.6"
  }
 },
 "nbformat": 4,
 "nbformat_minor": 4
}
