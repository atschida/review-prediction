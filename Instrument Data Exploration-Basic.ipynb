{
 "cells": [
  {
   "cell_type": "code",
   "execution_count": 30,
   "metadata": {},
   "outputs": [],
   "source": [
    "import pandas as pd"
   ]
  },
  {
   "cell_type": "code",
   "execution_count": 31,
   "metadata": {},
   "outputs": [
    {
     "name": "stderr",
     "output_type": "stream",
     "text": [
      "b'Skipping line 5782: expected 15 fields, saw 22\\nSkipping line 31979: expected 15 fields, saw 22\\nSkipping line 32408: expected 15 fields, saw 22\\nSkipping line 45709: expected 15 fields, saw 22\\nSkipping line 64585: expected 15 fields, saw 22\\n'\n",
      "b'Skipping line 115742: expected 15 fields, saw 22\\nSkipping line 125537: expected 15 fields, saw 22\\nSkipping line 127580: expected 15 fields, saw 22\\nSkipping line 128696: expected 15 fields, saw 22\\n'\n",
      "b'Skipping line 143851: expected 15 fields, saw 22\\nSkipping line 147069: expected 15 fields, saw 22\\nSkipping line 149233: expected 15 fields, saw 22\\nSkipping line 167536: expected 15 fields, saw 22\\nSkipping line 168535: expected 15 fields, saw 22\\nSkipping line 171659: expected 15 fields, saw 22\\nSkipping line 184533: expected 15 fields, saw 22\\nSkipping line 184624: expected 15 fields, saw 22\\nSkipping line 184908: expected 15 fields, saw 22\\n'\n",
      "b'Skipping line 219150: expected 15 fields, saw 22\\nSkipping line 223178: expected 15 fields, saw 22\\nSkipping line 234333: expected 15 fields, saw 22\\nSkipping line 256242: expected 15 fields, saw 22\\n'\n",
      "b'Skipping line 268157: expected 15 fields, saw 22\\nSkipping line 276191: expected 15 fields, saw 22\\nSkipping line 277091: expected 15 fields, saw 22\\nSkipping line 288516: expected 15 fields, saw 22\\nSkipping line 289901: expected 15 fields, saw 22\\nSkipping line 292922: expected 15 fields, saw 22\\nSkipping line 308964: expected 15 fields, saw 22\\nSkipping line 325233: expected 15 fields, saw 22\\n'\n",
      "b'Skipping line 354051: expected 15 fields, saw 22\\nSkipping line 360552: expected 15 fields, saw 22\\nSkipping line 362489: expected 15 fields, saw 22\\nSkipping line 383798: expected 15 fields, saw 22\\nSkipping line 392390: expected 15 fields, saw 22\\n'\n",
      "b'Skipping line 456105: expected 15 fields, saw 22\\n'\n"
     ]
    },
    {
     "data": {
      "text/html": [
       "<div>\n",
       "<style scoped>\n",
       "    .dataframe tbody tr th:only-of-type {\n",
       "        vertical-align: middle;\n",
       "    }\n",
       "\n",
       "    .dataframe tbody tr th {\n",
       "        vertical-align: top;\n",
       "    }\n",
       "\n",
       "    .dataframe thead th {\n",
       "        text-align: right;\n",
       "    }\n",
       "</style>\n",
       "<table border=\"1\" class=\"dataframe\">\n",
       "  <thead>\n",
       "    <tr style=\"text-align: right;\">\n",
       "      <th></th>\n",
       "      <th>marketplace</th>\n",
       "      <th>customer_id</th>\n",
       "      <th>review_id</th>\n",
       "      <th>product_id</th>\n",
       "      <th>product_parent</th>\n",
       "      <th>product_title</th>\n",
       "      <th>product_category</th>\n",
       "      <th>star_rating</th>\n",
       "      <th>helpful_votes</th>\n",
       "      <th>total_votes</th>\n",
       "      <th>vine</th>\n",
       "      <th>verified_purchase</th>\n",
       "      <th>review_headline</th>\n",
       "      <th>review_body</th>\n",
       "      <th>review_date</th>\n",
       "      <th>positive</th>\n",
       "    </tr>\n",
       "  </thead>\n",
       "  <tbody>\n",
       "    <tr>\n",
       "      <td>0</td>\n",
       "      <td>US</td>\n",
       "      <td>45610553</td>\n",
       "      <td>RMDCHWD0Y5OZ9</td>\n",
       "      <td>B00HH62VB6</td>\n",
       "      <td>618218723</td>\n",
       "      <td>AGPtek® 10 Isolated Output 9V 12V 18V Guitar P...</td>\n",
       "      <td>Musical Instruments</td>\n",
       "      <td>3</td>\n",
       "      <td>0</td>\n",
       "      <td>1</td>\n",
       "      <td>N</td>\n",
       "      <td>N</td>\n",
       "      <td>Three Stars</td>\n",
       "      <td>Works very good, but induces ALOT of noise.</td>\n",
       "      <td>2015-08-31</td>\n",
       "      <td>0</td>\n",
       "    </tr>\n",
       "    <tr>\n",
       "      <td>1</td>\n",
       "      <td>US</td>\n",
       "      <td>14640079</td>\n",
       "      <td>RZSL0BALIYUNU</td>\n",
       "      <td>B003LRN53I</td>\n",
       "      <td>986692292</td>\n",
       "      <td>Sennheiser HD203 Closed-Back DJ Headphones</td>\n",
       "      <td>Musical Instruments</td>\n",
       "      <td>5</td>\n",
       "      <td>0</td>\n",
       "      <td>0</td>\n",
       "      <td>N</td>\n",
       "      <td>Y</td>\n",
       "      <td>Five Stars</td>\n",
       "      <td>Nice headphones at a reasonable price.</td>\n",
       "      <td>2015-08-31</td>\n",
       "      <td>1</td>\n",
       "    </tr>\n",
       "    <tr>\n",
       "      <td>2</td>\n",
       "      <td>US</td>\n",
       "      <td>6111003</td>\n",
       "      <td>RIZR67JKUDBI0</td>\n",
       "      <td>B0006VMBHI</td>\n",
       "      <td>603261968</td>\n",
       "      <td>AudioQuest LP record clean brush</td>\n",
       "      <td>Musical Instruments</td>\n",
       "      <td>3</td>\n",
       "      <td>0</td>\n",
       "      <td>1</td>\n",
       "      <td>N</td>\n",
       "      <td>Y</td>\n",
       "      <td>Three Stars</td>\n",
       "      <td>removes dust. does not clean</td>\n",
       "      <td>2015-08-31</td>\n",
       "      <td>0</td>\n",
       "    </tr>\n",
       "    <tr>\n",
       "      <td>3</td>\n",
       "      <td>US</td>\n",
       "      <td>1546619</td>\n",
       "      <td>R27HL570VNL85F</td>\n",
       "      <td>B002B55TRG</td>\n",
       "      <td>575084461</td>\n",
       "      <td>Hohner Inc. 560BX-BF Special Twenty Harmonica</td>\n",
       "      <td>Musical Instruments</td>\n",
       "      <td>5</td>\n",
       "      <td>0</td>\n",
       "      <td>0</td>\n",
       "      <td>N</td>\n",
       "      <td>Y</td>\n",
       "      <td>I purchase these for a friend in return for pl...</td>\n",
       "      <td>I purchase these for a friend in return for pl...</td>\n",
       "      <td>2015-08-31</td>\n",
       "      <td>1</td>\n",
       "    </tr>\n",
       "    <tr>\n",
       "      <td>4</td>\n",
       "      <td>US</td>\n",
       "      <td>12222213</td>\n",
       "      <td>R34EBU9QDWJ1GD</td>\n",
       "      <td>B00N1YPXW2</td>\n",
       "      <td>165236328</td>\n",
       "      <td>Blue Yeti USB Microphone - Blackout Edition</td>\n",
       "      <td>Musical Instruments</td>\n",
       "      <td>5</td>\n",
       "      <td>0</td>\n",
       "      <td>0</td>\n",
       "      <td>N</td>\n",
       "      <td>Y</td>\n",
       "      <td>Five Stars</td>\n",
       "      <td>This is an awesome mic!</td>\n",
       "      <td>2015-08-31</td>\n",
       "      <td>1</td>\n",
       "    </tr>\n",
       "  </tbody>\n",
       "</table>\n",
       "</div>"
      ],
      "text/plain": [
       "  marketplace  customer_id       review_id  product_id  product_parent  \\\n",
       "0          US     45610553   RMDCHWD0Y5OZ9  B00HH62VB6       618218723   \n",
       "1          US     14640079   RZSL0BALIYUNU  B003LRN53I       986692292   \n",
       "2          US      6111003   RIZR67JKUDBI0  B0006VMBHI       603261968   \n",
       "3          US      1546619  R27HL570VNL85F  B002B55TRG       575084461   \n",
       "4          US     12222213  R34EBU9QDWJ1GD  B00N1YPXW2       165236328   \n",
       "\n",
       "                                       product_title     product_category  \\\n",
       "0  AGPtek® 10 Isolated Output 9V 12V 18V Guitar P...  Musical Instruments   \n",
       "1         Sennheiser HD203 Closed-Back DJ Headphones  Musical Instruments   \n",
       "2                   AudioQuest LP record clean brush  Musical Instruments   \n",
       "3      Hohner Inc. 560BX-BF Special Twenty Harmonica  Musical Instruments   \n",
       "4        Blue Yeti USB Microphone - Blackout Edition  Musical Instruments   \n",
       "\n",
       "   star_rating  helpful_votes  total_votes vine verified_purchase  \\\n",
       "0            3              0            1    N                 N   \n",
       "1            5              0            0    N                 Y   \n",
       "2            3              0            1    N                 Y   \n",
       "3            5              0            0    N                 Y   \n",
       "4            5              0            0    N                 Y   \n",
       "\n",
       "                                     review_headline  \\\n",
       "0                                        Three Stars   \n",
       "1                                         Five Stars   \n",
       "2                                        Three Stars   \n",
       "3  I purchase these for a friend in return for pl...   \n",
       "4                                         Five Stars   \n",
       "\n",
       "                                         review_body review_date  positive  \n",
       "0        Works very good, but induces ALOT of noise.  2015-08-31         0  \n",
       "1             Nice headphones at a reasonable price.  2015-08-31         1  \n",
       "2                       removes dust. does not clean  2015-08-31         0  \n",
       "3  I purchase these for a friend in return for pl...  2015-08-31         1  \n",
       "4                            This is an awesome mic!  2015-08-31         1  "
      ]
     },
     "execution_count": 31,
     "metadata": {},
     "output_type": "execute_result"
    }
   ],
   "source": [
    "df = pd.read_csv('data/amazon_reviews_us_Musical_Instruments_v1_00.tsv', sep='\\t', error_bad_lines=False)\n",
    "df['positive'] = df.star_rating.apply(lambda rating: 1 if rating > 3 else 0)\n",
    "df.head()"
   ]
  },
  {
   "cell_type": "code",
   "execution_count": 32,
   "metadata": {},
   "outputs": [
    {
     "data": {
      "text/plain": [
       "0         0\n",
       "1         1\n",
       "2         0\n",
       "3         1\n",
       "4         1\n",
       "         ..\n",
       "903999    1\n",
       "904000    1\n",
       "904001    1\n",
       "904002    1\n",
       "904003    1\n",
       "Name: positive, Length: 904004, dtype: int64"
      ]
     },
     "execution_count": 32,
     "metadata": {},
     "output_type": "execute_result"
    }
   ],
   "source": [
    "df.positive"
   ]
  },
  {
   "cell_type": "code",
   "execution_count": 33,
   "metadata": {},
   "outputs": [
    {
     "data": {
      "text/plain": [
       "1.5782606038915126"
      ]
     },
     "execution_count": 33,
     "metadata": {},
     "output_type": "execute_result"
    }
   ],
   "source": [
    "df.groupby(df.customer_id).size().mean()"
   ]
  },
  {
   "cell_type": "code",
   "execution_count": 36,
   "metadata": {},
   "outputs": [
    {
     "data": {
      "text/html": [
       "<div>\n",
       "<style scoped>\n",
       "    .dataframe tbody tr th:only-of-type {\n",
       "        vertical-align: middle;\n",
       "    }\n",
       "\n",
       "    .dataframe tbody tr th {\n",
       "        vertical-align: top;\n",
       "    }\n",
       "\n",
       "    .dataframe thead th {\n",
       "        text-align: right;\n",
       "    }\n",
       "</style>\n",
       "<table border=\"1\" class=\"dataframe\">\n",
       "  <thead>\n",
       "    <tr style=\"text-align: right;\">\n",
       "      <th></th>\n",
       "      <th>customer_id</th>\n",
       "      <th>product_parent</th>\n",
       "    </tr>\n",
       "  </thead>\n",
       "  <tbody>\n",
       "    <tr>\n",
       "      <td>156601</td>\n",
       "      <td>15185554</td>\n",
       "      <td>753647223</td>\n",
       "    </tr>\n",
       "    <tr>\n",
       "      <td>852326</td>\n",
       "      <td>16228310</td>\n",
       "      <td>273886806</td>\n",
       "    </tr>\n",
       "    <tr>\n",
       "      <td>516377</td>\n",
       "      <td>51790687</td>\n",
       "      <td>900064685</td>\n",
       "    </tr>\n",
       "    <tr>\n",
       "      <td>661322</td>\n",
       "      <td>11513157</td>\n",
       "      <td>44258853</td>\n",
       "    </tr>\n",
       "    <tr>\n",
       "      <td>78240</td>\n",
       "      <td>40347763</td>\n",
       "      <td>637297052</td>\n",
       "    </tr>\n",
       "  </tbody>\n",
       "</table>\n",
       "</div>"
      ],
      "text/plain": [
       "        customer_id  product_parent\n",
       "156601     15185554       753647223\n",
       "852326     16228310       273886806\n",
       "516377     51790687       900064685\n",
       "661322     11513157        44258853\n",
       "78240      40347763       637297052"
      ]
     },
     "execution_count": 36,
     "metadata": {},
     "output_type": "execute_result"
    }
   ],
   "source": [
    "from sklearn.model_selection import train_test_split\n",
    "numerical_features = df[['customer_id', 'product_parent', 'positive']]\n",
    "numerical_features.drop_duplicates()\n",
    "\n",
    "X_train, X_test, y_train, y_test = train_test_split(numerical_features.drop('positive', axis=1), numerical_features.positive)\n",
    "\n",
    "X_train.head()"
   ]
  },
  {
   "cell_type": "code",
   "execution_count": 37,
   "metadata": {},
   "outputs": [
    {
     "data": {
      "text/plain": [
       "RandomForestClassifier(bootstrap=True, class_weight=None, criterion='gini',\n",
       "                       max_depth=None, max_features='auto', max_leaf_nodes=None,\n",
       "                       min_impurity_decrease=0.0, min_impurity_split=None,\n",
       "                       min_samples_leaf=1, min_samples_split=2,\n",
       "                       min_weight_fraction_leaf=0.0, n_estimators=100,\n",
       "                       n_jobs=None, oob_score=False, random_state=None,\n",
       "                       verbose=0, warm_start=False)"
      ]
     },
     "execution_count": 37,
     "metadata": {},
     "output_type": "execute_result"
    }
   ],
   "source": [
    "from sklearn.ensemble import RandomForestClassifier\n",
    "clf = RandomForestClassifier(n_estimators=100)\n",
    "clf.fit(X_train, y_train)"
   ]
  },
  {
   "cell_type": "code",
   "execution_count": 38,
   "metadata": {},
   "outputs": [
    {
     "data": {
      "text/plain": [
       "0.7794169052349326"
      ]
     },
     "execution_count": 38,
     "metadata": {},
     "output_type": "execute_result"
    }
   ],
   "source": [
    "clf.score(X_test, y_test)"
   ]
  },
  {
   "cell_type": "code",
   "execution_count": 39,
   "metadata": {},
   "outputs": [
    {
     "data": {
      "text/plain": [
       "MultinomialNB(alpha=1.0, class_prior=None, fit_prior=True)"
      ]
     },
     "execution_count": 39,
     "metadata": {},
     "output_type": "execute_result"
    }
   ],
   "source": [
    "from sklearn.naive_bayes import MultinomialNB\n",
    "bayes = MultinomialNB()\n",
    "bayes.fit(X_train, y_train)"
   ]
  },
  {
   "cell_type": "code",
   "execution_count": 40,
   "metadata": {},
   "outputs": [
    {
     "data": {
      "text/plain": [
       "0.5022809633585692"
      ]
     },
     "execution_count": 40,
     "metadata": {},
     "output_type": "execute_result"
    }
   ],
   "source": [
    "bayes.score(X_test, y_test)"
   ]
  },
  {
   "cell_type": "code",
   "execution_count": 41,
   "metadata": {},
   "outputs": [
    {
     "name": "stdout",
     "output_type": "stream",
     "text": [
      "k: 1 Acc: 0.700802208839784\n",
      "k: 2 Acc: 0.6113557019659205\n",
      "k: 3 Acc: 0.7538063990867298\n",
      "k: 4 Acc: 0.7124879978407175\n",
      "k: 5 Acc: 0.7770806323865823\n",
      "k: 6 Acc: 0.7549789602700873\n",
      "k: 7 Acc: 0.7894301352648883\n",
      "k: 8 Acc: 0.7769257658151955\n",
      "k: 9 Acc: 0.7968062088220849\n",
      "k: 10 Acc: 0.7892885429710488\n",
      "k: 11 Acc: 0.80095220817607\n",
      "k: 12 Acc: 0.7967442621935301\n",
      "k: 13 Acc: 0.8035052942243618\n",
      "k: 14 Acc: 0.8005849531639241\n",
      "k: 15 Acc: 0.8048459962566538\n",
      "k: 16 Acc: 0.8029610488449166\n",
      "k: 17 Acc: 0.805739797611515\n",
      "k: 18 Acc: 0.8045097145587852\n",
      "k: 19 Acc: 0.8066114751704638\n",
      "k: 20 Acc: 0.8055849310401282\n",
      "k: 21 Acc: 0.8068681112030478\n",
      "k: 22 Acc: 0.8063105915460551\n",
      "k: 23 Acc: 0.8072619147702886\n",
      "k: 24 Acc: 0.8068548369255003\n",
      "k: 25 Acc: 0.8074167813416755\n",
      "k: 26 Acc: 0.8071026234397193\n",
      "k: 27 Acc: 0.8075672231538799\n",
      "k: 28 Acc: 0.8072707642886536\n",
      "k: 29 Acc: 0.807779611594639\n",
      "k: 30 Acc: 0.8075672231538799\n",
      "k: 31 Acc: 0.8079433276843908\n",
      "k: 32 Acc: 0.8078282839456462\n",
      "k: 33 Acc: 0.8080273981088579\n",
      "k: 34 Acc: 0.8078858058150186\n",
      "k: 35 Acc: 0.8080981942557777\n",
      "k: 36 Acc: 0.8080141238313104\n",
      "k: 37 Acc: 0.8081468666067849\n",
      "k: 38 Acc: 0.8080539466639528\n",
      "k: 39 Acc: 0.8081645656435148\n",
      "k: 40 Acc: 0.8081158932925075\n",
      "k: 41 Acc: 0.8081866894394273\n",
      "k: 42 Acc: 0.8081247428108725\n",
      "k: 43 Acc: 0.8081999637169747\n",
      "k: 44 Acc: 0.8081778399210623\n",
      "k: 45 Acc: 0.8082043884761572\n",
      "k: 46 Acc: 0.8081866894394273\n",
      "k: 47 Acc: 0.8082220875128872\n",
      "k: 48 Acc: 0.8082132379945222\n",
      "k: 49 Acc: 0.8082353617904345\n"
     ]
    }
   ],
   "source": [
    "from sklearn.neighbors import KNeighborsClassifier\n",
    "maxK, maxAcc = 0, 0\n",
    "for i in range(1, 50):\n",
    "    neigh = KNeighborsClassifier(n_neighbors=i)\n",
    "    neigh.fit(X_train, y_train)\n",
    "    acc = neigh.score(X_test, y_test)\n",
    "    if acc > maxAcc:\n",
    "        maxK, maxAcc = i, acc\n",
    "    print(\"k: {} Acc: {}\".format(i, acc))\n",
    "print('Max k:', maxK, 'acc:', maxAcc)"
   ]
  },
  {
   "cell_type": "code",
   "execution_count": 42,
   "metadata": {},
   "outputs": [
    {
     "data": {
      "text/plain": [
       "0.8082353617904345"
      ]
     },
     "execution_count": 42,
     "metadata": {},
     "output_type": "execute_result"
    }
   ],
   "source": [
    "neigh.score(X_test, y_test)"
   ]
  },
  {
   "cell_type": "code",
   "execution_count": null,
   "metadata": {},
   "outputs": [],
   "source": []
  }
 ],
 "metadata": {
  "kernelspec": {
   "display_name": "Python 3",
   "language": "python",
   "name": "python3"
  },
  "language_info": {
   "codemirror_mode": {
    "name": "ipython",
    "version": 3
   },
   "file_extension": ".py",
   "mimetype": "text/x-python",
   "name": "python",
   "nbconvert_exporter": "python",
   "pygments_lexer": "ipython3",
   "version": "3.7.4"
  }
 },
 "nbformat": 4,
 "nbformat_minor": 2
}
