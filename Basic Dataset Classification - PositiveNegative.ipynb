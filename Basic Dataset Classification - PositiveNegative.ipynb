{
 "cells": [
  {
   "cell_type": "code",
   "execution_count": 2,
   "metadata": {},
   "outputs": [],
   "source": [
    "import pandas as pd\n",
    "from sklearn.ensemble import RandomForestClassifier"
   ]
  },
  {
   "cell_type": "code",
   "execution_count": 11,
   "metadata": {},
   "outputs": [
    {
     "data": {
      "text/html": [
       "<div>\n",
       "<style scoped>\n",
       "    .dataframe tbody tr th:only-of-type {\n",
       "        vertical-align: middle;\n",
       "    }\n",
       "\n",
       "    .dataframe tbody tr th {\n",
       "        vertical-align: top;\n",
       "    }\n",
       "\n",
       "    .dataframe thead th {\n",
       "        text-align: right;\n",
       "    }\n",
       "</style>\n",
       "<table border=\"1\" class=\"dataframe\">\n",
       "  <thead>\n",
       "    <tr style=\"text-align: right;\">\n",
       "      <th></th>\n",
       "      <th>customer_id</th>\n",
       "      <th>product_parent</th>\n",
       "      <th>positive</th>\n",
       "      <th>cust_review_count</th>\n",
       "      <th>cust_star_rating_mean</th>\n",
       "      <th>cust_star_rating_std</th>\n",
       "      <th>cust_total_votes_mean</th>\n",
       "      <th>cust_total_votes_std</th>\n",
       "      <th>cust_helpful_votes_mean</th>\n",
       "      <th>cust_helpful_votes_std</th>\n",
       "      <th>...</th>\n",
       "      <th>prod_review_count</th>\n",
       "      <th>prod_star_rating_mean</th>\n",
       "      <th>prod_star_rating_std</th>\n",
       "      <th>prod_total_votes_mean</th>\n",
       "      <th>prod_total_votes_std</th>\n",
       "      <th>prod_helpful_votes_mean</th>\n",
       "      <th>prod_helpful_votes_std</th>\n",
       "      <th>prod_corpus</th>\n",
       "      <th>pos_sim</th>\n",
       "      <th>neg_sim</th>\n",
       "    </tr>\n",
       "  </thead>\n",
       "  <tbody>\n",
       "    <tr>\n",
       "      <th>0</th>\n",
       "      <td>1617361</td>\n",
       "      <td>849246716</td>\n",
       "      <td>1</td>\n",
       "      <td>5</td>\n",
       "      <td>5.000000</td>\n",
       "      <td>0.000000</td>\n",
       "      <td>0.200000</td>\n",
       "      <td>0.447214</td>\n",
       "      <td>0.000000</td>\n",
       "      <td>0.000000</td>\n",
       "      <td>...</td>\n",
       "      <td>297</td>\n",
       "      <td>4.872054</td>\n",
       "      <td>0.363625</td>\n",
       "      <td>0.424242</td>\n",
       "      <td>3.224979</td>\n",
       "      <td>0.37037</td>\n",
       "      <td>3.042081</td>\n",
       "      <td>brick-and-mortar usb B cabl brand insignia wes...</td>\n",
       "      <td>0.033451</td>\n",
       "      <td>0.000000</td>\n",
       "    </tr>\n",
       "    <tr>\n",
       "      <th>1</th>\n",
       "      <td>53052607</td>\n",
       "      <td>849246716</td>\n",
       "      <td>0</td>\n",
       "      <td>5</td>\n",
       "      <td>3.600000</td>\n",
       "      <td>0.547723</td>\n",
       "      <td>0.400000</td>\n",
       "      <td>0.894427</td>\n",
       "      <td>0.400000</td>\n",
       "      <td>0.894427</td>\n",
       "      <td>...</td>\n",
       "      <td>297</td>\n",
       "      <td>4.872054</td>\n",
       "      <td>0.363625</td>\n",
       "      <td>0.424242</td>\n",
       "      <td>3.224979</td>\n",
       "      <td>0.37037</td>\n",
       "      <td>3.042081</td>\n",
       "      <td>brick-and-mortar usb B cabl brand insignia wes...</td>\n",
       "      <td>0.012478</td>\n",
       "      <td>0.009009</td>\n",
       "    </tr>\n",
       "    <tr>\n",
       "      <th>2</th>\n",
       "      <td>15679577</td>\n",
       "      <td>849246716</td>\n",
       "      <td>1</td>\n",
       "      <td>8</td>\n",
       "      <td>3.375000</td>\n",
       "      <td>1.505941</td>\n",
       "      <td>7.625000</td>\n",
       "      <td>19.175412</td>\n",
       "      <td>6.500000</td>\n",
       "      <td>17.188036</td>\n",
       "      <td>...</td>\n",
       "      <td>297</td>\n",
       "      <td>4.872054</td>\n",
       "      <td>0.363625</td>\n",
       "      <td>0.424242</td>\n",
       "      <td>3.224979</td>\n",
       "      <td>0.37037</td>\n",
       "      <td>3.042081</td>\n",
       "      <td>brick-and-mortar usb B cabl brand insignia wes...</td>\n",
       "      <td>0.007220</td>\n",
       "      <td>0.033333</td>\n",
       "    </tr>\n",
       "    <tr>\n",
       "      <th>3</th>\n",
       "      <td>16367779</td>\n",
       "      <td>849246716</td>\n",
       "      <td>1</td>\n",
       "      <td>9</td>\n",
       "      <td>4.444444</td>\n",
       "      <td>0.527046</td>\n",
       "      <td>0.888889</td>\n",
       "      <td>1.364225</td>\n",
       "      <td>0.777778</td>\n",
       "      <td>1.092906</td>\n",
       "      <td>...</td>\n",
       "      <td>297</td>\n",
       "      <td>4.872054</td>\n",
       "      <td>0.363625</td>\n",
       "      <td>0.424242</td>\n",
       "      <td>3.224979</td>\n",
       "      <td>0.37037</td>\n",
       "      <td>3.042081</td>\n",
       "      <td>brick-and-mortar usb B cabl brand insignia wes...</td>\n",
       "      <td>0.095238</td>\n",
       "      <td>0.000000</td>\n",
       "    </tr>\n",
       "    <tr>\n",
       "      <th>4</th>\n",
       "      <td>25485198</td>\n",
       "      <td>849246716</td>\n",
       "      <td>1</td>\n",
       "      <td>17</td>\n",
       "      <td>5.000000</td>\n",
       "      <td>0.000000</td>\n",
       "      <td>0.235294</td>\n",
       "      <td>0.437237</td>\n",
       "      <td>0.176471</td>\n",
       "      <td>0.392953</td>\n",
       "      <td>...</td>\n",
       "      <td>297</td>\n",
       "      <td>4.872054</td>\n",
       "      <td>0.363625</td>\n",
       "      <td>0.424242</td>\n",
       "      <td>3.224979</td>\n",
       "      <td>0.37037</td>\n",
       "      <td>3.042081</td>\n",
       "      <td>brick-and-mortar usb B cabl brand insignia wes...</td>\n",
       "      <td>0.010870</td>\n",
       "      <td>0.000000</td>\n",
       "    </tr>\n",
       "  </tbody>\n",
       "</table>\n",
       "<p>5 rows × 28 columns</p>\n",
       "</div>"
      ],
      "text/plain": [
       "   customer_id  product_parent  positive  cust_review_count  \\\n",
       "0      1617361       849246716         1                  5   \n",
       "1     53052607       849246716         0                  5   \n",
       "2     15679577       849246716         1                  8   \n",
       "3     16367779       849246716         1                  9   \n",
       "4     25485198       849246716         1                 17   \n",
       "\n",
       "   cust_star_rating_mean  cust_star_rating_std  cust_total_votes_mean  \\\n",
       "0               5.000000              0.000000               0.200000   \n",
       "1               3.600000              0.547723               0.400000   \n",
       "2               3.375000              1.505941               7.625000   \n",
       "3               4.444444              0.527046               0.888889   \n",
       "4               5.000000              0.000000               0.235294   \n",
       "\n",
       "   cust_total_votes_std  cust_helpful_votes_mean  cust_helpful_votes_std  ...  \\\n",
       "0              0.447214                 0.000000                0.000000  ...   \n",
       "1              0.894427                 0.400000                0.894427  ...   \n",
       "2             19.175412                 6.500000               17.188036  ...   \n",
       "3              1.364225                 0.777778                1.092906  ...   \n",
       "4              0.437237                 0.176471                0.392953  ...   \n",
       "\n",
       "  prod_review_count prod_star_rating_mean prod_star_rating_std  \\\n",
       "0               297              4.872054             0.363625   \n",
       "1               297              4.872054             0.363625   \n",
       "2               297              4.872054             0.363625   \n",
       "3               297              4.872054             0.363625   \n",
       "4               297              4.872054             0.363625   \n",
       "\n",
       "  prod_total_votes_mean prod_total_votes_std prod_helpful_votes_mean  \\\n",
       "0              0.424242             3.224979                 0.37037   \n",
       "1              0.424242             3.224979                 0.37037   \n",
       "2              0.424242             3.224979                 0.37037   \n",
       "3              0.424242             3.224979                 0.37037   \n",
       "4              0.424242             3.224979                 0.37037   \n",
       "\n",
       "  prod_helpful_votes_std                                        prod_corpus  \\\n",
       "0               3.042081  brick-and-mortar usb B cabl brand insignia wes...   \n",
       "1               3.042081  brick-and-mortar usb B cabl brand insignia wes...   \n",
       "2               3.042081  brick-and-mortar usb B cabl brand insignia wes...   \n",
       "3               3.042081  brick-and-mortar usb B cabl brand insignia wes...   \n",
       "4               3.042081  brick-and-mortar usb B cabl brand insignia wes...   \n",
       "\n",
       "    pos_sim   neg_sim  \n",
       "0  0.033451  0.000000  \n",
       "1  0.012478  0.009009  \n",
       "2  0.007220  0.033333  \n",
       "3  0.095238  0.000000  \n",
       "4  0.010870  0.000000  \n",
       "\n",
       "[5 rows x 28 columns]"
      ]
     },
     "execution_count": 11,
     "metadata": {},
     "output_type": "execute_result"
    }
   ],
   "source": [
    "train_df = pd.read_csv('train_df.csv', index_col=0)\n",
    "#train_df['positive'] = train_df['star_rating'].apply(lambda x: 1 if x > 3 else 0)\n",
    "train_df.drop('star_rating', axis=1, inplace=True)\n",
    "train_df.head()"
   ]
  },
  {
   "cell_type": "code",
   "execution_count": 12,
   "metadata": {},
   "outputs": [
    {
     "data": {
      "text/html": [
       "<div>\n",
       "<style scoped>\n",
       "    .dataframe tbody tr th:only-of-type {\n",
       "        vertical-align: middle;\n",
       "    }\n",
       "\n",
       "    .dataframe tbody tr th {\n",
       "        vertical-align: top;\n",
       "    }\n",
       "\n",
       "    .dataframe thead th {\n",
       "        text-align: right;\n",
       "    }\n",
       "</style>\n",
       "<table border=\"1\" class=\"dataframe\">\n",
       "  <thead>\n",
       "    <tr style=\"text-align: right;\">\n",
       "      <th></th>\n",
       "      <th>customer_id</th>\n",
       "      <th>product_parent</th>\n",
       "      <th>positive</th>\n",
       "      <th>cust_review_count</th>\n",
       "      <th>cust_star_rating_mean</th>\n",
       "      <th>cust_star_rating_std</th>\n",
       "      <th>cust_total_votes_mean</th>\n",
       "      <th>cust_total_votes_std</th>\n",
       "      <th>cust_helpful_votes_mean</th>\n",
       "      <th>cust_helpful_votes_std</th>\n",
       "      <th>...</th>\n",
       "      <th>prod_review_count</th>\n",
       "      <th>prod_star_rating_mean</th>\n",
       "      <th>prod_star_rating_std</th>\n",
       "      <th>prod_total_votes_mean</th>\n",
       "      <th>prod_total_votes_std</th>\n",
       "      <th>prod_helpful_votes_mean</th>\n",
       "      <th>prod_helpful_votes_std</th>\n",
       "      <th>prod_corpus</th>\n",
       "      <th>pos_sim</th>\n",
       "      <th>neg_sim</th>\n",
       "    </tr>\n",
       "  </thead>\n",
       "  <tbody>\n",
       "    <tr>\n",
       "      <th>0</th>\n",
       "      <td>36330222</td>\n",
       "      <td>986428010</td>\n",
       "      <td>1</td>\n",
       "      <td>24</td>\n",
       "      <td>4.291667</td>\n",
       "      <td>1.267629</td>\n",
       "      <td>0.541667</td>\n",
       "      <td>1.250362</td>\n",
       "      <td>0.333333</td>\n",
       "      <td>1.049500</td>\n",
       "      <td>...</td>\n",
       "      <td>18</td>\n",
       "      <td>4.333333</td>\n",
       "      <td>1.188177</td>\n",
       "      <td>0.833333</td>\n",
       "      <td>2.572479</td>\n",
       "      <td>0.722222</td>\n",
       "      <td>2.346601</td>\n",
       "      <td>come way packag market bullcrap hand though wa...</td>\n",
       "      <td>0.070423</td>\n",
       "      <td>0.012295</td>\n",
       "    </tr>\n",
       "    <tr>\n",
       "      <th>1</th>\n",
       "      <td>24360083</td>\n",
       "      <td>986428010</td>\n",
       "      <td>1</td>\n",
       "      <td>23</td>\n",
       "      <td>4.347826</td>\n",
       "      <td>1.191206</td>\n",
       "      <td>1.434783</td>\n",
       "      <td>2.191431</td>\n",
       "      <td>1.000000</td>\n",
       "      <td>1.537412</td>\n",
       "      <td>...</td>\n",
       "      <td>18</td>\n",
       "      <td>4.333333</td>\n",
       "      <td>1.188177</td>\n",
       "      <td>0.833333</td>\n",
       "      <td>2.572479</td>\n",
       "      <td>0.722222</td>\n",
       "      <td>2.346601</td>\n",
       "      <td>come way packag market bullcrap hand though wa...</td>\n",
       "      <td>0.095361</td>\n",
       "      <td>0.049808</td>\n",
       "    </tr>\n",
       "    <tr>\n",
       "      <th>2</th>\n",
       "      <td>28891040</td>\n",
       "      <td>437083384</td>\n",
       "      <td>1</td>\n",
       "      <td>10</td>\n",
       "      <td>4.500000</td>\n",
       "      <td>0.707107</td>\n",
       "      <td>0.000000</td>\n",
       "      <td>0.000000</td>\n",
       "      <td>0.000000</td>\n",
       "      <td>0.000000</td>\n",
       "      <td>...</td>\n",
       "      <td>407</td>\n",
       "      <td>4.503686</td>\n",
       "      <td>0.887439</td>\n",
       "      <td>12.356265</td>\n",
       "      <td>112.878540</td>\n",
       "      <td>10.651106</td>\n",
       "      <td>100.388954</td>\n",
       "      <td>work product proctect cover excel design color...</td>\n",
       "      <td>0.006944</td>\n",
       "      <td>0.005208</td>\n",
       "    </tr>\n",
       "    <tr>\n",
       "      <th>3</th>\n",
       "      <td>52449052</td>\n",
       "      <td>437083384</td>\n",
       "      <td>0</td>\n",
       "      <td>5</td>\n",
       "      <td>3.400000</td>\n",
       "      <td>1.516575</td>\n",
       "      <td>11.800000</td>\n",
       "      <td>20.789420</td>\n",
       "      <td>10.400000</td>\n",
       "      <td>18.187908</td>\n",
       "      <td>...</td>\n",
       "      <td>407</td>\n",
       "      <td>4.503686</td>\n",
       "      <td>0.887439</td>\n",
       "      <td>12.356265</td>\n",
       "      <td>112.878540</td>\n",
       "      <td>10.651106</td>\n",
       "      <td>100.388954</td>\n",
       "      <td>work product proctect cover excel design color...</td>\n",
       "      <td>0.010390</td>\n",
       "      <td>0.059514</td>\n",
       "    </tr>\n",
       "    <tr>\n",
       "      <th>4</th>\n",
       "      <td>27192976</td>\n",
       "      <td>437083384</td>\n",
       "      <td>1</td>\n",
       "      <td>6</td>\n",
       "      <td>4.666667</td>\n",
       "      <td>0.816497</td>\n",
       "      <td>0.500000</td>\n",
       "      <td>1.224745</td>\n",
       "      <td>0.000000</td>\n",
       "      <td>0.000000</td>\n",
       "      <td>...</td>\n",
       "      <td>407</td>\n",
       "      <td>4.503686</td>\n",
       "      <td>0.887439</td>\n",
       "      <td>12.356265</td>\n",
       "      <td>112.878540</td>\n",
       "      <td>10.651106</td>\n",
       "      <td>100.388954</td>\n",
       "      <td>work product proctect cover excel design color...</td>\n",
       "      <td>0.012942</td>\n",
       "      <td>0.003460</td>\n",
       "    </tr>\n",
       "  </tbody>\n",
       "</table>\n",
       "<p>5 rows × 28 columns</p>\n",
       "</div>"
      ],
      "text/plain": [
       "   customer_id  product_parent  positive  cust_review_count  \\\n",
       "0     36330222       986428010         1                 24   \n",
       "1     24360083       986428010         1                 23   \n",
       "2     28891040       437083384         1                 10   \n",
       "3     52449052       437083384         0                  5   \n",
       "4     27192976       437083384         1                  6   \n",
       "\n",
       "   cust_star_rating_mean  cust_star_rating_std  cust_total_votes_mean  \\\n",
       "0               4.291667              1.267629               0.541667   \n",
       "1               4.347826              1.191206               1.434783   \n",
       "2               4.500000              0.707107               0.000000   \n",
       "3               3.400000              1.516575              11.800000   \n",
       "4               4.666667              0.816497               0.500000   \n",
       "\n",
       "   cust_total_votes_std  cust_helpful_votes_mean  cust_helpful_votes_std  ...  \\\n",
       "0              1.250362                 0.333333                1.049500  ...   \n",
       "1              2.191431                 1.000000                1.537412  ...   \n",
       "2              0.000000                 0.000000                0.000000  ...   \n",
       "3             20.789420                10.400000               18.187908  ...   \n",
       "4              1.224745                 0.000000                0.000000  ...   \n",
       "\n",
       "  prod_review_count prod_star_rating_mean prod_star_rating_std  \\\n",
       "0                18              4.333333             1.188177   \n",
       "1                18              4.333333             1.188177   \n",
       "2               407              4.503686             0.887439   \n",
       "3               407              4.503686             0.887439   \n",
       "4               407              4.503686             0.887439   \n",
       "\n",
       "  prod_total_votes_mean prod_total_votes_std prod_helpful_votes_mean  \\\n",
       "0              0.833333             2.572479                0.722222   \n",
       "1              0.833333             2.572479                0.722222   \n",
       "2             12.356265           112.878540               10.651106   \n",
       "3             12.356265           112.878540               10.651106   \n",
       "4             12.356265           112.878540               10.651106   \n",
       "\n",
       "  prod_helpful_votes_std                                        prod_corpus  \\\n",
       "0               2.346601  come way packag market bullcrap hand though wa...   \n",
       "1               2.346601  come way packag market bullcrap hand though wa...   \n",
       "2             100.388954  work product proctect cover excel design color...   \n",
       "3             100.388954  work product proctect cover excel design color...   \n",
       "4             100.388954  work product proctect cover excel design color...   \n",
       "\n",
       "    pos_sim   neg_sim  \n",
       "0  0.070423  0.012295  \n",
       "1  0.095361  0.049808  \n",
       "2  0.006944  0.005208  \n",
       "3  0.010390  0.059514  \n",
       "4  0.012942  0.003460  \n",
       "\n",
       "[5 rows x 28 columns]"
      ]
     },
     "execution_count": 12,
     "metadata": {},
     "output_type": "execute_result"
    }
   ],
   "source": [
    "test_df = pd.read_csv('test_df.csv', index_col=0)\n",
    "#test_df['positive'] = test_df['star_rating_x'].apply(lambda x: 1 if x > 3 else 0)\n",
    "test_df.drop('star_rating', axis=1, inplace=True)\n",
    "test_df.head()"
   ]
  },
  {
   "cell_type": "code",
   "execution_count": 13,
   "metadata": {},
   "outputs": [],
   "source": [
    "train_x, train_y = train_df.drop('positive', axis=1), train_df['positive']\n",
    "test_x, test_y = test_df.drop('positive', axis=1), test_df['positive']"
   ]
  },
  {
   "cell_type": "code",
   "execution_count": 5,
   "metadata": {},
   "outputs": [
    {
     "data": {
      "text/plain": [
       "RandomForestClassifier(bootstrap=True, ccp_alpha=0.0, class_weight=None,\n",
       "                       criterion='gini', max_depth=None, max_features='auto',\n",
       "                       max_leaf_nodes=None, max_samples=None,\n",
       "                       min_impurity_decrease=0.0, min_impurity_split=None,\n",
       "                       min_samples_leaf=1, min_samples_split=2,\n",
       "                       min_weight_fraction_leaf=0.0, n_estimators=1000,\n",
       "                       n_jobs=None, oob_score=False, random_state=None,\n",
       "                       verbose=0, warm_start=False)"
      ]
     },
     "execution_count": 5,
     "metadata": {},
     "output_type": "execute_result"
    }
   ],
   "source": [
    "rf = RandomForestClassifier(n_estimators=1000)\n",
    "rf.fit(train_x, train_y)"
   ]
  },
  {
   "cell_type": "code",
   "execution_count": 6,
   "metadata": {},
   "outputs": [
    {
     "data": {
      "text/plain": [
       "0.7861889250814332"
      ]
     },
     "execution_count": 6,
     "metadata": {},
     "output_type": "execute_result"
    }
   ],
   "source": [
    "rf.score(test_x, test_y)"
   ]
  },
  {
   "cell_type": "code",
   "execution_count": 7,
   "metadata": {},
   "outputs": [
    {
     "data": {
      "text/plain": [
       "KNeighborsClassifier(algorithm='auto', leaf_size=30, metric='minkowski',\n",
       "                     metric_params=None, n_jobs=None, n_neighbors=5, p=2,\n",
       "                     weights='uniform')"
      ]
     },
     "execution_count": 7,
     "metadata": {},
     "output_type": "execute_result"
    }
   ],
   "source": [
    "from sklearn.neighbors import KNeighborsClassifier\n",
    "knn = KNeighborsClassifier(n_neighbors=5)\n",
    "knn.fit(train_x, train_y)"
   ]
  },
  {
   "cell_type": "code",
   "execution_count": 8,
   "metadata": {},
   "outputs": [
    {
     "data": {
      "text/plain": [
       "0.7354614549402823"
      ]
     },
     "execution_count": 8,
     "metadata": {},
     "output_type": "execute_result"
    }
   ],
   "source": [
    "knn.score(test_x, test_y)"
   ]
  },
  {
   "cell_type": "code",
   "execution_count": 14,
   "metadata": {},
   "outputs": [
    {
     "ename": "ValueError",
     "evalue": "could not convert string to float: 'switch time item crossov cabl ethernet cabl cabl dongl save space bag job space bag adapt break bag size cabl s guy plug way thing switch switch link light port jack / devic plug gig- plug way thing switch switch link light port jack / devic plug fast ethernet dongl bunch cabl keyr dongl bag key ring adapt crossov T1 loopback space work bag brilliant'",
     "output_type": "error",
     "traceback": [
      "\u001b[1;31m---------------------------------------------------------------------------\u001b[0m",
      "\u001b[1;31mValueError\u001b[0m                                Traceback (most recent call last)",
      "\u001b[1;32m<ipython-input-14-97489f386298>\u001b[0m in \u001b[0;36m<module>\u001b[1;34m\u001b[0m\n\u001b[0;32m      1\u001b[0m \u001b[1;32mfrom\u001b[0m \u001b[0msklearn\u001b[0m\u001b[1;33m.\u001b[0m\u001b[0mnaive_bayes\u001b[0m \u001b[1;32mimport\u001b[0m \u001b[0mGaussianNB\u001b[0m\u001b[1;33m\u001b[0m\u001b[1;33m\u001b[0m\u001b[0m\n\u001b[0;32m      2\u001b[0m \u001b[0mgnb\u001b[0m \u001b[1;33m=\u001b[0m \u001b[0mGaussianNB\u001b[0m\u001b[1;33m(\u001b[0m\u001b[1;33m)\u001b[0m\u001b[1;33m\u001b[0m\u001b[1;33m\u001b[0m\u001b[0m\n\u001b[1;32m----> 3\u001b[1;33m \u001b[0mgnb\u001b[0m\u001b[1;33m.\u001b[0m\u001b[0mfit\u001b[0m\u001b[1;33m(\u001b[0m\u001b[0mtrain_x\u001b[0m\u001b[1;33m,\u001b[0m \u001b[0mtrain_y\u001b[0m\u001b[1;33m)\u001b[0m\u001b[1;33m\u001b[0m\u001b[1;33m\u001b[0m\u001b[0m\n\u001b[0m",
      "\u001b[1;32mE:\\ProgramData\\Anaconda3\\envs\\PythonGPU\\lib\\site-packages\\sklearn\\naive_bayes.py\u001b[0m in \u001b[0;36mfit\u001b[1;34m(self, X, y, sample_weight)\u001b[0m\n\u001b[0;32m    206\u001b[0m         \u001b[0my\u001b[0m \u001b[1;33m=\u001b[0m \u001b[0mcolumn_or_1d\u001b[0m\u001b[1;33m(\u001b[0m\u001b[0my\u001b[0m\u001b[1;33m,\u001b[0m \u001b[0mwarn\u001b[0m\u001b[1;33m=\u001b[0m\u001b[1;32mTrue\u001b[0m\u001b[1;33m)\u001b[0m\u001b[1;33m\u001b[0m\u001b[1;33m\u001b[0m\u001b[0m\n\u001b[0;32m    207\u001b[0m         return self._partial_fit(X, y, np.unique(y), _refit=True,\n\u001b[1;32m--> 208\u001b[1;33m                                  sample_weight=sample_weight)\n\u001b[0m\u001b[0;32m    209\u001b[0m \u001b[1;33m\u001b[0m\u001b[0m\n\u001b[0;32m    210\u001b[0m     \u001b[1;32mdef\u001b[0m \u001b[0m_check_X\u001b[0m\u001b[1;33m(\u001b[0m\u001b[0mself\u001b[0m\u001b[1;33m,\u001b[0m \u001b[0mX\u001b[0m\u001b[1;33m)\u001b[0m\u001b[1;33m:\u001b[0m\u001b[1;33m\u001b[0m\u001b[1;33m\u001b[0m\u001b[0m\n",
      "\u001b[1;32mE:\\ProgramData\\Anaconda3\\envs\\PythonGPU\\lib\\site-packages\\sklearn\\naive_bayes.py\u001b[0m in \u001b[0;36m_partial_fit\u001b[1;34m(self, X, y, classes, _refit, sample_weight)\u001b[0m\n\u001b[0;32m    357\u001b[0m         \u001b[0mself\u001b[0m \u001b[1;33m:\u001b[0m \u001b[0mobject\u001b[0m\u001b[1;33m\u001b[0m\u001b[1;33m\u001b[0m\u001b[0m\n\u001b[0;32m    358\u001b[0m         \"\"\"\n\u001b[1;32m--> 359\u001b[1;33m         \u001b[0mX\u001b[0m\u001b[1;33m,\u001b[0m \u001b[0my\u001b[0m \u001b[1;33m=\u001b[0m \u001b[0mcheck_X_y\u001b[0m\u001b[1;33m(\u001b[0m\u001b[0mX\u001b[0m\u001b[1;33m,\u001b[0m \u001b[0my\u001b[0m\u001b[1;33m)\u001b[0m\u001b[1;33m\u001b[0m\u001b[1;33m\u001b[0m\u001b[0m\n\u001b[0m\u001b[0;32m    360\u001b[0m         \u001b[1;32mif\u001b[0m \u001b[0msample_weight\u001b[0m \u001b[1;32mis\u001b[0m \u001b[1;32mnot\u001b[0m \u001b[1;32mNone\u001b[0m\u001b[1;33m:\u001b[0m\u001b[1;33m\u001b[0m\u001b[1;33m\u001b[0m\u001b[0m\n\u001b[0;32m    361\u001b[0m             \u001b[0msample_weight\u001b[0m \u001b[1;33m=\u001b[0m \u001b[0m_check_sample_weight\u001b[0m\u001b[1;33m(\u001b[0m\u001b[0msample_weight\u001b[0m\u001b[1;33m,\u001b[0m \u001b[0mX\u001b[0m\u001b[1;33m)\u001b[0m\u001b[1;33m\u001b[0m\u001b[1;33m\u001b[0m\u001b[0m\n",
      "\u001b[1;32mE:\\ProgramData\\Anaconda3\\envs\\PythonGPU\\lib\\site-packages\\sklearn\\utils\\validation.py\u001b[0m in \u001b[0;36mcheck_X_y\u001b[1;34m(X, y, accept_sparse, accept_large_sparse, dtype, order, copy, force_all_finite, ensure_2d, allow_nd, multi_output, ensure_min_samples, ensure_min_features, y_numeric, warn_on_dtype, estimator)\u001b[0m\n\u001b[0;32m    753\u001b[0m                     \u001b[0mensure_min_features\u001b[0m\u001b[1;33m=\u001b[0m\u001b[0mensure_min_features\u001b[0m\u001b[1;33m,\u001b[0m\u001b[1;33m\u001b[0m\u001b[1;33m\u001b[0m\u001b[0m\n\u001b[0;32m    754\u001b[0m                     \u001b[0mwarn_on_dtype\u001b[0m\u001b[1;33m=\u001b[0m\u001b[0mwarn_on_dtype\u001b[0m\u001b[1;33m,\u001b[0m\u001b[1;33m\u001b[0m\u001b[1;33m\u001b[0m\u001b[0m\n\u001b[1;32m--> 755\u001b[1;33m                     estimator=estimator)\n\u001b[0m\u001b[0;32m    756\u001b[0m     \u001b[1;32mif\u001b[0m \u001b[0mmulti_output\u001b[0m\u001b[1;33m:\u001b[0m\u001b[1;33m\u001b[0m\u001b[1;33m\u001b[0m\u001b[0m\n\u001b[0;32m    757\u001b[0m         y = check_array(y, 'csr', force_all_finite=True, ensure_2d=False,\n",
      "\u001b[1;32mE:\\ProgramData\\Anaconda3\\envs\\PythonGPU\\lib\\site-packages\\sklearn\\utils\\validation.py\u001b[0m in \u001b[0;36mcheck_array\u001b[1;34m(array, accept_sparse, accept_large_sparse, dtype, order, copy, force_all_finite, ensure_2d, allow_nd, ensure_min_samples, ensure_min_features, warn_on_dtype, estimator)\u001b[0m\n\u001b[0;32m    529\u001b[0m                     \u001b[0marray\u001b[0m \u001b[1;33m=\u001b[0m \u001b[0marray\u001b[0m\u001b[1;33m.\u001b[0m\u001b[0mastype\u001b[0m\u001b[1;33m(\u001b[0m\u001b[0mdtype\u001b[0m\u001b[1;33m,\u001b[0m \u001b[0mcasting\u001b[0m\u001b[1;33m=\u001b[0m\u001b[1;34m\"unsafe\"\u001b[0m\u001b[1;33m,\u001b[0m \u001b[0mcopy\u001b[0m\u001b[1;33m=\u001b[0m\u001b[1;32mFalse\u001b[0m\u001b[1;33m)\u001b[0m\u001b[1;33m\u001b[0m\u001b[1;33m\u001b[0m\u001b[0m\n\u001b[0;32m    530\u001b[0m                 \u001b[1;32melse\u001b[0m\u001b[1;33m:\u001b[0m\u001b[1;33m\u001b[0m\u001b[1;33m\u001b[0m\u001b[0m\n\u001b[1;32m--> 531\u001b[1;33m                     \u001b[0marray\u001b[0m \u001b[1;33m=\u001b[0m \u001b[0mnp\u001b[0m\u001b[1;33m.\u001b[0m\u001b[0masarray\u001b[0m\u001b[1;33m(\u001b[0m\u001b[0marray\u001b[0m\u001b[1;33m,\u001b[0m \u001b[0morder\u001b[0m\u001b[1;33m=\u001b[0m\u001b[0morder\u001b[0m\u001b[1;33m,\u001b[0m \u001b[0mdtype\u001b[0m\u001b[1;33m=\u001b[0m\u001b[0mdtype\u001b[0m\u001b[1;33m)\u001b[0m\u001b[1;33m\u001b[0m\u001b[1;33m\u001b[0m\u001b[0m\n\u001b[0m\u001b[0;32m    532\u001b[0m             \u001b[1;32mexcept\u001b[0m \u001b[0mComplexWarning\u001b[0m\u001b[1;33m:\u001b[0m\u001b[1;33m\u001b[0m\u001b[1;33m\u001b[0m\u001b[0m\n\u001b[0;32m    533\u001b[0m                 raise ValueError(\"Complex data not supported\\n\"\n",
      "\u001b[1;32mE:\\ProgramData\\Anaconda3\\envs\\PythonGPU\\lib\\site-packages\\numpy\\core\\_asarray.py\u001b[0m in \u001b[0;36masarray\u001b[1;34m(a, dtype, order)\u001b[0m\n\u001b[0;32m     83\u001b[0m \u001b[1;33m\u001b[0m\u001b[0m\n\u001b[0;32m     84\u001b[0m     \"\"\"\n\u001b[1;32m---> 85\u001b[1;33m     \u001b[1;32mreturn\u001b[0m \u001b[0marray\u001b[0m\u001b[1;33m(\u001b[0m\u001b[0ma\u001b[0m\u001b[1;33m,\u001b[0m \u001b[0mdtype\u001b[0m\u001b[1;33m,\u001b[0m \u001b[0mcopy\u001b[0m\u001b[1;33m=\u001b[0m\u001b[1;32mFalse\u001b[0m\u001b[1;33m,\u001b[0m \u001b[0morder\u001b[0m\u001b[1;33m=\u001b[0m\u001b[0morder\u001b[0m\u001b[1;33m)\u001b[0m\u001b[1;33m\u001b[0m\u001b[1;33m\u001b[0m\u001b[0m\n\u001b[0m\u001b[0;32m     86\u001b[0m \u001b[1;33m\u001b[0m\u001b[0m\n\u001b[0;32m     87\u001b[0m \u001b[1;33m\u001b[0m\u001b[0m\n",
      "\u001b[1;31mValueError\u001b[0m: could not convert string to float: 'switch time item crossov cabl ethernet cabl cabl dongl save space bag job space bag adapt break bag size cabl s guy plug way thing switch switch link light port jack / devic plug gig- plug way thing switch switch link light port jack / devic plug fast ethernet dongl bunch cabl keyr dongl bag key ring adapt crossov T1 loopback space work bag brilliant'"
     ]
    }
   ],
   "source": [
    "from sklearn.naive_bayes import GaussianNB\n",
    "gnb = GaussianNB()\n",
    "gnb.fit(train_x, train_y)"
   ]
  },
  {
   "cell_type": "code",
   "execution_count": 10,
   "metadata": {},
   "outputs": [
    {
     "data": {
      "text/plain": [
       "0.8009108181409448"
      ]
     },
     "execution_count": 10,
     "metadata": {},
     "output_type": "execute_result"
    }
   ],
   "source": [
    "gnb.score(train_x, train_y)"
   ]
  },
  {
   "cell_type": "code",
   "execution_count": 11,
   "metadata": {},
   "outputs": [
    {
     "name": "stderr",
     "output_type": "stream",
     "text": [
      "Using TensorFlow backend.\n"
     ]
    }
   ],
   "source": [
    "from keras import models\n",
    "from keras import layers\n",
    "from keras.utils import to_categorical\n",
    "import numpy as np\n",
    "import matplotlib.pyplot as plt"
   ]
  },
  {
   "cell_type": "code",
   "execution_count": 12,
   "metadata": {},
   "outputs": [
    {
     "data": {
      "text/plain": [
       "(68949, 16)"
      ]
     },
     "execution_count": 12,
     "metadata": {},
     "output_type": "execute_result"
    }
   ],
   "source": [
    "np.shape(train_x)"
   ]
  },
  {
   "cell_type": "code",
   "execution_count": 17,
   "metadata": {},
   "outputs": [
    {
     "name": "stdout",
     "output_type": "stream",
     "text": [
      "Model: \"sequential_2\"\n",
      "_________________________________________________________________\n",
      "Layer (type)                 Output Shape              Param #   \n",
      "=================================================================\n",
      "dense_3 (Dense)              (None, 256)               4352      \n",
      "_________________________________________________________________\n",
      "dense_4 (Dense)              (None, 128)               32896     \n",
      "_________________________________________________________________\n",
      "dense_5 (Dense)              (None, 64)                8256      \n",
      "_________________________________________________________________\n",
      "dense_6 (Dense)              (None, 32)                2080      \n",
      "_________________________________________________________________\n",
      "dense_7 (Dense)              (None, 1)                 33        \n",
      "=================================================================\n",
      "Total params: 47,617\n",
      "Trainable params: 47,617\n",
      "Non-trainable params: 0\n",
      "_________________________________________________________________\n"
     ]
    }
   ],
   "source": [
    "network = models.Sequential()\n",
    "network.add(layers.Dense(256, activation='relu', input_shape=(16,)))\n",
    "network.add(layers.Dense(128, activation='relu', input_shape=(256,)))\n",
    "network.add(layers.Dense(64, activation='relu', input_shape=(128,)))\n",
    "network.add(layers.Dense(32, activation='relu', input_shape=(64,)))\n",
    "network.add(layers.Dense(1, activation='sigmoid', input_shape=(32,)))\n",
    "network.summary()"
   ]
  },
  {
   "cell_type": "code",
   "execution_count": 22,
   "metadata": {},
   "outputs": [
    {
     "name": "stdout",
     "output_type": "stream",
     "text": [
      "Train on 68949 samples, validate on 23025 samples\n",
      "Epoch 1/30\n",
      "68949/68949 [==============================] - 2s 24us/step - loss: 0.4992 - accuracy: 0.8009 - val_loss: 0.5415 - val_accuracy: 0.7709\n",
      "Epoch 2/30\n",
      "68949/68949 [==============================] - 1s 22us/step - loss: 0.4992 - accuracy: 0.8009 - val_loss: 0.5406 - val_accuracy: 0.7709\n",
      "Epoch 3/30\n",
      "68949/68949 [==============================] - 2s 22us/step - loss: 0.4992 - accuracy: 0.8009 - val_loss: 0.5402 - val_accuracy: 0.7709\n",
      "Epoch 4/30\n",
      "68949/68949 [==============================] - 2s 22us/step - loss: 0.4993 - accuracy: 0.8009 - val_loss: 0.5414 - val_accuracy: 0.7709\n",
      "Epoch 5/30\n",
      "68949/68949 [==============================] - 1s 21us/step - loss: 0.4992 - accuracy: 0.8009 - val_loss: 0.5412 - val_accuracy: 0.7709\n",
      "Epoch 6/30\n",
      "68949/68949 [==============================] - 2s 23us/step - loss: 0.4992 - accuracy: 0.8009 - val_loss: 0.5411 - val_accuracy: 0.7709\n",
      "Epoch 7/30\n",
      "68949/68949 [==============================] - 2s 22us/step - loss: 0.4992 - accuracy: 0.8009 - val_loss: 0.5411 - val_accuracy: 0.7709\n",
      "Epoch 8/30\n",
      "68949/68949 [==============================] - 1s 22us/step - loss: 0.4992 - accuracy: 0.8009 - val_loss: 0.5396 - val_accuracy: 0.7709\n",
      "Epoch 9/30\n",
      "68949/68949 [==============================] - 1s 21us/step - loss: 0.4992 - accuracy: 0.8009 - val_loss: 0.5406 - val_accuracy: 0.7709\n",
      "Epoch 10/30\n",
      "68949/68949 [==============================] - 1s 21us/step - loss: 0.4992 - accuracy: 0.8009 - val_loss: 0.5398 - val_accuracy: 0.7709\n",
      "Epoch 11/30\n",
      "68949/68949 [==============================] - 2s 24us/step - loss: 0.4993 - accuracy: 0.8009 - val_loss: 0.5407 - val_accuracy: 0.7709\n",
      "Epoch 12/30\n",
      "68949/68949 [==============================] - 2s 24us/step - loss: 0.4992 - accuracy: 0.8009 - val_loss: 0.5414 - val_accuracy: 0.7709\n",
      "Epoch 13/30\n",
      "68949/68949 [==============================] - 2s 24us/step - loss: 0.4992 - accuracy: 0.8009 - val_loss: 0.5410 - val_accuracy: 0.7709\n",
      "Epoch 14/30\n",
      "68949/68949 [==============================] - 2s 22us/step - loss: 0.4992 - accuracy: 0.8009 - val_loss: 0.5421 - val_accuracy: 0.7709\n",
      "Epoch 15/30\n",
      "68949/68949 [==============================] - 1s 21us/step - loss: 0.4992 - accuracy: 0.8009 - val_loss: 0.5424 - val_accuracy: 0.7709\n",
      "Epoch 16/30\n",
      "68949/68949 [==============================] - 2s 22us/step - loss: 0.4993 - accuracy: 0.8009 - val_loss: 0.5401 - val_accuracy: 0.7709\n",
      "Epoch 17/30\n",
      "68949/68949 [==============================] - 2s 23us/step - loss: 0.4992 - accuracy: 0.8009 - val_loss: 0.5411 - val_accuracy: 0.7709\n",
      "Epoch 18/30\n",
      "68949/68949 [==============================] - 2s 23us/step - loss: 0.4992 - accuracy: 0.8009 - val_loss: 0.5428 - val_accuracy: 0.7709\n",
      "Epoch 19/30\n",
      "68949/68949 [==============================] - 2s 23us/step - loss: 0.4993 - accuracy: 0.8009 - val_loss: 0.5410 - val_accuracy: 0.7709\n",
      "Epoch 20/30\n",
      "68949/68949 [==============================] - 2s 23us/step - loss: 0.4992 - accuracy: 0.8009 - val_loss: 0.5400 - val_accuracy: 0.7709\n",
      "Epoch 21/30\n",
      "68949/68949 [==============================] - 2s 26us/step - loss: 0.4992 - accuracy: 0.8009 - val_loss: 0.5400 - val_accuracy: 0.7709\n",
      "Epoch 22/30\n",
      "68949/68949 [==============================] - 2s 23us/step - loss: 0.4992 - accuracy: 0.8009 - val_loss: 0.5411 - val_accuracy: 0.7709\n",
      "Epoch 23/30\n",
      "68949/68949 [==============================] - 2s 23us/step - loss: 0.4992 - accuracy: 0.8009 - val_loss: 0.5397 - val_accuracy: 0.7709\n",
      "Epoch 24/30\n",
      "68949/68949 [==============================] - 2s 23us/step - loss: 0.4992 - accuracy: 0.8009 - val_loss: 0.5409 - val_accuracy: 0.7709\n",
      "Epoch 25/30\n",
      "68949/68949 [==============================] - 2s 23us/step - loss: 0.4992 - accuracy: 0.8009 - val_loss: 0.5419 - val_accuracy: 0.7709\n",
      "Epoch 26/30\n",
      "68949/68949 [==============================] - 2s 23us/step - loss: 0.4992 - accuracy: 0.8009 - val_loss: 0.5411 - val_accuracy: 0.7709\n",
      "Epoch 27/30\n",
      "68949/68949 [==============================] - 2s 23us/step - loss: 0.4992 - accuracy: 0.8009 - val_loss: 0.5414 - val_accuracy: 0.7709\n",
      "Epoch 28/30\n",
      "68949/68949 [==============================] - 1s 21us/step - loss: 0.4992 - accuracy: 0.8009 - val_loss: 0.5402 - val_accuracy: 0.7709\n",
      "Epoch 29/30\n",
      "68949/68949 [==============================] - 1s 22us/step - loss: 0.4992 - accuracy: 0.8009 - val_loss: 0.5411 - val_accuracy: 0.7709\n",
      "Epoch 30/30\n",
      "68949/68949 [==============================] - 1s 21us/step - loss: 0.4992 - accuracy: 0.8009 - val_loss: 0.5408 - val_accuracy: 0.7709\n"
     ]
    }
   ],
   "source": [
    "network.compile(optimizer='rmsprop',\n",
    "                loss='binary_crossentropy',\n",
    "                metrics=['accuracy'])\n",
    "\n",
    "epochs = 30\n",
    "history = network.fit(train_x, \n",
    "                      train_y, \n",
    "                      epochs=epochs, \n",
    "                      batch_size=128, \n",
    "                      validation_data=(test_x, test_y))"
   ]
  },
  {
   "cell_type": "code",
   "execution_count": 19,
   "metadata": {},
   "outputs": [
    {
     "data": {
      "image/png": "[encoded data removed]",
      "text/plain": [
       "<Figure size 432x288 with 1 Axes>"
      ]
     },
     "metadata": {
      "needs_background": "light"
     },
     "output_type": "display_data"
    }
   ],
   "source": [
    "history_dict = history.history\n",
    "loss_values = history_dict['loss']\n",
    "test_loss_values = history_dict['val_loss']\n",
    "epochs_range = range(1, epochs + 1)\n",
    "plt.plot(epochs_range, loss_values, 'bo', label='Training loss')\n",
    "plt.plot(epochs_range, test_loss_values, 'ro', label='Test loss')\n",
    "plt.title('Training and test loss')\n",
    "plt.xlabel('Epochs')\n",
    "plt.ylabel('Loss')\n",
    "plt.legend()\n",
    "plt.show()"
   ]
  },
  {
   "cell_type": "code",
   "execution_count": 21,
   "metadata": {},
   "outputs": [
    {
     "data": {
      "image/png": "[encoded data removed]",
      "text/plain": [
       "<Figure size 432x288 with 1 Axes>"
      ]
     },
     "metadata": {
      "needs_background": "light"
     },
     "output_type": "display_data"
    }
   ],
   "source": [
    "acc_values = history_dict['accuracy']\n",
    "test_acc_values = history_dict['val_accuracy']\n",
    "plt.plot(epochs_range, acc_values, 'bo', label='Training accuracy')\n",
    "plt.plot(epochs_range, test_acc_values, 'ro', label='Test accuracy')\n",
    "plt.title('Training and test accuracy')\n",
    "plt.xlabel('Epochs')\n",
    "plt.ylabel('Accuracy')\n",
    "plt.legend()\n",
    "plt.show()"
   ]
  },
  {
   "cell_type": "code",
   "execution_count": 3,
   "metadata": {},
   "outputs": [
    {
     "data": {
      "text/html": [
       "<div>\n",
       "<style scoped>\n",
       "    .dataframe tbody tr th:only-of-type {\n",
       "        vertical-align: middle;\n",
       "    }\n",
       "\n",
       "    .dataframe tbody tr th {\n",
       "        vertical-align: top;\n",
       "    }\n",
       "\n",
       "    .dataframe thead th {\n",
       "        text-align: right;\n",
       "    }\n",
       "</style>\n",
       "<table border=\"1\" class=\"dataframe\">\n",
       "  <thead>\n",
       "    <tr style=\"text-align: right;\">\n",
       "      <th></th>\n",
       "      <th>marketplace</th>\n",
       "      <th>customer_id</th>\n",
       "      <th>review_id</th>\n",
       "      <th>product_id</th>\n",
       "      <th>product_parent</th>\n",
       "      <th>product_title</th>\n",
       "      <th>product_category</th>\n",
       "      <th>star_rating</th>\n",
       "      <th>helpful_votes</th>\n",
       "      <th>total_votes</th>\n",
       "      <th>vine</th>\n",
       "      <th>verified_purchase</th>\n",
       "      <th>review_headline</th>\n",
       "      <th>review_body</th>\n",
       "      <th>review_date</th>\n",
       "      <th>positive</th>\n",
       "      <th>clean_review</th>\n",
       "    </tr>\n",
       "  </thead>\n",
       "  <tbody>\n",
       "    <tr>\n",
       "      <th>267779</th>\n",
       "      <td>US</td>\n",
       "      <td>3387522</td>\n",
       "      <td>R2JEMKCQT9QTVM</td>\n",
       "      <td>B008SBZD5U</td>\n",
       "      <td>150118808</td>\n",
       "      <td>Kingdom Hearts HD 1.5 Remix</td>\n",
       "      <td>Video Games</td>\n",
       "      <td>4</td>\n",
       "      <td>0</td>\n",
       "      <td>0</td>\n",
       "      <td>N</td>\n",
       "      <td>Y</td>\n",
       "      <td>KH!&gt;% RULE!</td>\n",
       "      <td>Its A pretty good game and it came on time but...</td>\n",
       "      <td>2015-02-01</td>\n",
       "      <td>1</td>\n",
       "      <td>A game time year combo set ps4</td>\n",
       "    </tr>\n",
       "    <tr>\n",
       "      <th>267796</th>\n",
       "      <td>US</td>\n",
       "      <td>15137367</td>\n",
       "      <td>R3IM5TXYMA7DCQ</td>\n",
       "      <td>B00IXMF5CU</td>\n",
       "      <td>292308774</td>\n",
       "      <td>Terraria - Xbox 360</td>\n",
       "      <td>Video Games</td>\n",
       "      <td>5</td>\n",
       "      <td>1</td>\n",
       "      <td>2</td>\n",
       "      <td>N</td>\n",
       "      <td>Y</td>\n",
       "      <td>Five Stars</td>\n",
       "      <td>Excellent</td>\n",
       "      <td>2015-02-01</td>\n",
       "      <td>1</td>\n",
       "      <td>excel</td>\n",
       "    </tr>\n",
       "    <tr>\n",
       "      <th>267818</th>\n",
       "      <td>US</td>\n",
       "      <td>15137367</td>\n",
       "      <td>R2PFXXB4EP23B</td>\n",
       "      <td>B00EM5UFEK</td>\n",
       "      <td>461081395</td>\n",
       "      <td>Plants vs. Zombies Garden Warfare</td>\n",
       "      <td>Video Games</td>\n",
       "      <td>4</td>\n",
       "      <td>0</td>\n",
       "      <td>0</td>\n",
       "      <td>N</td>\n",
       "      <td>Y</td>\n",
       "      <td>Four Stars</td>\n",
       "      <td>Excellent</td>\n",
       "      <td>2015-02-01</td>\n",
       "      <td>1</td>\n",
       "      <td>excel</td>\n",
       "    </tr>\n",
       "    <tr>\n",
       "      <th>267871</th>\n",
       "      <td>US</td>\n",
       "      <td>4354770</td>\n",
       "      <td>R1A9DB178PFXLH</td>\n",
       "      <td>B004OPYLTS</td>\n",
       "      <td>245894499</td>\n",
       "      <td>Fishdom - Nintendo DS</td>\n",
       "      <td>Video Games</td>\n",
       "      <td>5</td>\n",
       "      <td>0</td>\n",
       "      <td>0</td>\n",
       "      <td>N</td>\n",
       "      <td>Y</td>\n",
       "      <td>Fun Game</td>\n",
       "      <td>Fun game, levels get harder as you progress.</td>\n",
       "      <td>2015-02-01</td>\n",
       "      <td>1</td>\n",
       "      <td>fun game level</td>\n",
       "    </tr>\n",
       "    <tr>\n",
       "      <th>267892</th>\n",
       "      <td>US</td>\n",
       "      <td>6698937</td>\n",
       "      <td>R1RS2GAXENP9LF</td>\n",
       "      <td>B00BGA9X9W</td>\n",
       "      <td>943154724</td>\n",
       "      <td>DualShock 4 Wireless Controller for PlayStatio...</td>\n",
       "      <td>Video Games</td>\n",
       "      <td>4</td>\n",
       "      <td>0</td>\n",
       "      <td>0</td>\n",
       "      <td>N</td>\n",
       "      <td>Y</td>\n",
       "      <td>Four Stars</td>\n",
       "      <td>Great controller</td>\n",
       "      <td>2015-02-01</td>\n",
       "      <td>1</td>\n",
       "      <td>great control</td>\n",
       "    </tr>\n",
       "  </tbody>\n",
       "</table>\n",
       "</div>"
      ],
      "text/plain": [
       "       marketplace  customer_id       review_id  product_id  product_parent  \\\n",
       "267779          US      3387522  R2JEMKCQT9QTVM  B008SBZD5U       150118808   \n",
       "267796          US     15137367  R3IM5TXYMA7DCQ  B00IXMF5CU       292308774   \n",
       "267818          US     15137367   R2PFXXB4EP23B  B00EM5UFEK       461081395   \n",
       "267871          US      4354770  R1A9DB178PFXLH  B004OPYLTS       245894499   \n",
       "267892          US      6698937  R1RS2GAXENP9LF  B00BGA9X9W       943154724   \n",
       "\n",
       "                                            product_title product_category  \\\n",
       "267779                        Kingdom Hearts HD 1.5 Remix      Video Games   \n",
       "267796                                Terraria - Xbox 360      Video Games   \n",
       "267818                  Plants vs. Zombies Garden Warfare      Video Games   \n",
       "267871                              Fishdom - Nintendo DS      Video Games   \n",
       "267892  DualShock 4 Wireless Controller for PlayStatio...      Video Games   \n",
       "\n",
       "        star_rating  helpful_votes  total_votes vine verified_purchase  \\\n",
       "267779            4              0            0    N                 Y   \n",
       "267796            5              1            2    N                 Y   \n",
       "267818            4              0            0    N                 Y   \n",
       "267871            5              0            0    N                 Y   \n",
       "267892            4              0            0    N                 Y   \n",
       "\n",
       "       review_headline                                        review_body  \\\n",
       "267779     KH!>% RULE!  Its A pretty good game and it came on time but...   \n",
       "267796      Five Stars                                          Excellent   \n",
       "267818      Four Stars                                          Excellent   \n",
       "267871        Fun Game       Fun game, levels get harder as you progress.   \n",
       "267892      Four Stars                                   Great controller   \n",
       "\n",
       "       review_date  positive                    clean_review  \n",
       "267779  2015-02-01         1  A game time year combo set ps4  \n",
       "267796  2015-02-01         1                           excel  \n",
       "267818  2015-02-01         1                           excel  \n",
       "267871  2015-02-01         1                  fun game level  \n",
       "267892  2015-02-01         1                   great control  "
      ]
     },
     "execution_count": 3,
     "metadata": {},
     "output_type": "execute_result"
    }
   ],
   "source": [
    "svd_train_df = pd.read_csv('train_raw.csv', index_col=0)\n",
    "svd_train_df = pd.concat([svd_train_df, pd.read_csv('train_raw_max.csv', index_col=0)])\n",
    "svd_test_df = pd.read_csv('test_raw.csv', index_col=0)\n",
    "svd_test_df = pd.concat([svd_train_df, pd.read_csv('test_raw_max.csv', index_col=0)])\n",
    "\n",
    "svd_test_df.head()"
   ]
  },
  {
   "cell_type": "code",
   "execution_count": 4,
   "metadata": {},
   "outputs": [
    {
     "data": {
      "text/plain": [
       "(array([ 45171.,      0.,  30979.,      0.,      0.,  56479.,      0.,\n",
       "        121513.,      0., 430619.]),\n",
       " array([1. , 1.4, 1.8, 2.2, 2.6, 3. , 3.4, 3.8, 4.2, 4.6, 5. ]),\n",
       " <a list of 10 Patch objects>)"
      ]
     },
     "execution_count": 4,
     "metadata": {},
     "output_type": "execute_result"
    },
    {
     "data": {
      "image/png": "[encoded data removed]",
      "text/plain": [
       "<Figure size 432x288 with 1 Axes>"
      ]
     },
     "metadata": {
      "needs_background": "light"
     },
     "output_type": "display_data"
    }
   ],
   "source": [
    "import matplotlib.pyplot as plt\n",
    "plt.hist(svd_train_df.star_rating)"
   ]
  },
  {
   "cell_type": "code",
   "execution_count": 7,
   "metadata": {},
   "outputs": [
    {
     "data": {
      "text/plain": [
       "star_rating\n",
       "1     45171\n",
       "2     30979\n",
       "3     56479\n",
       "4    121513\n",
       "5    430619\n",
       "dtype: int64"
      ]
     },
     "execution_count": 7,
     "metadata": {},
     "output_type": "execute_result"
    }
   ],
   "source": [
    "svd_train_df.groupby('star_rating').size()"
   ]
  },
  {
   "cell_type": "code",
   "execution_count": 8,
   "metadata": {},
   "outputs": [
    {
     "data": {
      "text/plain": [
       "154895"
      ]
     },
     "execution_count": 8,
     "metadata": {},
     "output_type": "execute_result"
    }
   ],
   "source": [
    "30979 * 5"
   ]
  },
  {
   "cell_type": "code",
   "execution_count": null,
   "metadata": {},
   "outputs": [],
   "source": [
    "from surprise import Dataset\n",
    "from surprise import Reader\n",
    "\n",
    "svd_train_df[['customer_id', 'product_parent', 'star_rating', 'review_date']].to_csv('svd_train_df.csv', index=False)\n",
    "svd_test_df[['customer_id', 'product_parent', 'star_rating', 'review_date']].to_csv('svd_test_df.csv', index=False)"
   ]
  },
  {
   "cell_type": "code",
   "execution_count": null,
   "metadata": {},
   "outputs": [],
   "source": [
    "reader = Reader(line_format='user item rating timestamp', sep=',', skip_lines=1)\n",
    "data = Dataset.load_from_folds([('svd_train_df.csv', 'svd_test_df.csv')], reader=reader)"
   ]
  },
  {
   "cell_type": "code",
   "execution_count": null,
   "metadata": {},
   "outputs": [],
   "source": [
    "from surprise import accuracy\n",
    "from surprise import SVD\n",
    "from surprise.model_selection import PredefinedKFold\n",
    "\n",
    "pkf = PredefinedKFold()\n",
    "\n",
    "algo = SVD()\n",
    "\n",
    "for trainset, testset in pkf.split(data):\n",
    "\n",
    "    # train and test algorithm.\n",
    "    algo.fit(trainset)\n",
    "    predictions = algo.test(testset)\n",
    "\n",
    "    # Compute and print Root Mean Squared Error\n",
    "    mean_rmse = accuracy.rmse(predictions, verbose=True)\n",
    "    mean_mae = accuracy.mae(predictions, verbose=True)"
   ]
  },
  {
   "cell_type": "code",
   "execution_count": null,
   "metadata": {},
   "outputs": [],
   "source": [
    "correct = 0\n",
    "for i, row in svd_test_df.iterrows():\n",
    "    uid = str(row.customer_id)\n",
    "    iid = str(row.product_parent)\n",
    "\n",
    "    # get a prediction for specific users and items.\n",
    "    pred = algo.predict(uid, iid, r_ui=row.star_rating, verbose=False)\n",
    "    if (round(pred.est) == row.star_rating):\n",
    "        correct += 1\n",
    "\n",
    "print('Correct: {} %: {}'.format(correct, correct / len(svd_test_df)))"
   ]
  },
  {
   "cell_type": "code",
   "execution_count": null,
   "metadata": {},
   "outputs": [],
   "source": [
    "from surprise.model_selection import cross_validate\n",
    "data2 = Dataset.load_from_file('svd_train_df.csv', reader=reader)\n",
    "cross_validate(SVD(), data2, cv=5, verbose=True)"
   ]
  },
  {
   "cell_type": "code",
   "execution_count": null,
   "metadata": {},
   "outputs": [],
   "source": [
    "from surprise.model_selection import GridSearchCV\n",
    "from surprise import SVDpp\n",
    "param_grid = {'n_epochs': [5, 10], 'lr_all': [0.002, 0.005],\n",
    "              'reg_all': [0.4, 0.6]}\n",
    "gs = GridSearchCV(SVD, param_grid, measures=['rmse', 'mae'], cv=pkf)\n",
    "gs.fit(data)"
   ]
  },
  {
   "cell_type": "code",
   "execution_count": null,
   "metadata": {},
   "outputs": [],
   "source": [
    "print(gs.best_score['rmse'])\n",
    "print(gs.best_score['mae'])"
   ]
  },
  {
   "cell_type": "code",
   "execution_count": null,
   "metadata": {},
   "outputs": [],
   "source": []
  }
 ],
 "metadata": {
  "kernelspec": {
   "display_name": "Python 3",
   "language": "python",
   "name": "python3"
  },
  "language_info": {
   "codemirror_mode": {
    "name": "ipython",
    "version": 3
   },
   "file_extension": ".py",
   "mimetype": "text/x-python",
   "name": "python",
   "nbconvert_exporter": "python",
   "pygments_lexer": "ipython3",
   "version": "3.6.9"
  }
 },
 "nbformat": 4,
 "nbformat_minor": 2
}
