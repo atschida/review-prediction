{
 "cells": [
  {
   "cell_type": "code",
   "execution_count": 49,
   "metadata": {},
   "outputs": [],
   "source": [
    "import pandas as pd\n",
    "from sklearn.ensemble import RandomForestClassifier\n",
    "from sklearn.ensemble import RandomForestRegressor"
   ]
  },
  {
   "cell_type": "code",
   "execution_count": 50,
   "metadata": {},
   "outputs": [
    {
     "data": {
      "text/html": [
       "<div>\n",
       "<style scoped>\n",
       "    .dataframe tbody tr th:only-of-type {\n",
       "        vertical-align: middle;\n",
       "    }\n",
       "\n",
       "    .dataframe tbody tr th {\n",
       "        vertical-align: top;\n",
       "    }\n",
       "\n",
       "    .dataframe thead th {\n",
       "        text-align: right;\n",
       "    }\n",
       "</style>\n",
       "<table border=\"1\" class=\"dataframe\">\n",
       "  <thead>\n",
       "    <tr style=\"text-align: right;\">\n",
       "      <th></th>\n",
       "      <th>customer_id</th>\n",
       "      <th>product_parent</th>\n",
       "      <th>positive</th>\n",
       "      <th>cust_review_count</th>\n",
       "      <th>cust_star_rating_mean</th>\n",
       "      <th>cust_star_rating_std</th>\n",
       "      <th>prod_review_count</th>\n",
       "      <th>prod_star_rating_mean</th>\n",
       "      <th>prod_star_rating_std</th>\n",
       "      <th>pos_sim</th>\n",
       "      <th>neg_sim</th>\n",
       "      <th>avg_pos_word</th>\n",
       "      <th>avg_neg_word</th>\n",
       "    </tr>\n",
       "  </thead>\n",
       "  <tbody>\n",
       "    <tr>\n",
       "      <th>0</th>\n",
       "      <td>1617361</td>\n",
       "      <td>849246716</td>\n",
       "      <td>1</td>\n",
       "      <td>5</td>\n",
       "      <td>5.000000</td>\n",
       "      <td>0.000000</td>\n",
       "      <td>297</td>\n",
       "      <td>4.872054</td>\n",
       "      <td>0.363625</td>\n",
       "      <td>0.033451</td>\n",
       "      <td>0.000000</td>\n",
       "      <td>0.308559</td>\n",
       "      <td>0.000000</td>\n",
       "    </tr>\n",
       "    <tr>\n",
       "      <th>1</th>\n",
       "      <td>53052607</td>\n",
       "      <td>849246716</td>\n",
       "      <td>0</td>\n",
       "      <td>5</td>\n",
       "      <td>3.600000</td>\n",
       "      <td>0.547723</td>\n",
       "      <td>297</td>\n",
       "      <td>4.872054</td>\n",
       "      <td>0.363625</td>\n",
       "      <td>0.012478</td>\n",
       "      <td>0.009009</td>\n",
       "      <td>0.096724</td>\n",
       "      <td>0.169741</td>\n",
       "    </tr>\n",
       "    <tr>\n",
       "      <th>2</th>\n",
       "      <td>15679577</td>\n",
       "      <td>849246716</td>\n",
       "      <td>1</td>\n",
       "      <td>8</td>\n",
       "      <td>3.375000</td>\n",
       "      <td>1.505941</td>\n",
       "      <td>297</td>\n",
       "      <td>4.872054</td>\n",
       "      <td>0.363625</td>\n",
       "      <td>0.007220</td>\n",
       "      <td>0.033333</td>\n",
       "      <td>0.067060</td>\n",
       "      <td>0.093065</td>\n",
       "    </tr>\n",
       "    <tr>\n",
       "      <th>3</th>\n",
       "      <td>16367779</td>\n",
       "      <td>849246716</td>\n",
       "      <td>1</td>\n",
       "      <td>9</td>\n",
       "      <td>4.444444</td>\n",
       "      <td>0.527046</td>\n",
       "      <td>297</td>\n",
       "      <td>4.872054</td>\n",
       "      <td>0.363625</td>\n",
       "      <td>0.095238</td>\n",
       "      <td>0.000000</td>\n",
       "      <td>-0.077627</td>\n",
       "      <td>0.000000</td>\n",
       "    </tr>\n",
       "    <tr>\n",
       "      <th>4</th>\n",
       "      <td>25485198</td>\n",
       "      <td>849246716</td>\n",
       "      <td>1</td>\n",
       "      <td>17</td>\n",
       "      <td>5.000000</td>\n",
       "      <td>0.000000</td>\n",
       "      <td>297</td>\n",
       "      <td>4.872054</td>\n",
       "      <td>0.363625</td>\n",
       "      <td>0.010870</td>\n",
       "      <td>0.000000</td>\n",
       "      <td>0.368011</td>\n",
       "      <td>0.000000</td>\n",
       "    </tr>\n",
       "  </tbody>\n",
       "</table>\n",
       "</div>"
      ],
      "text/plain": [
       "   customer_id  product_parent  positive  cust_review_count  \\\n",
       "0      1617361       849246716         1                  5   \n",
       "1     53052607       849246716         0                  5   \n",
       "2     15679577       849246716         1                  8   \n",
       "3     16367779       849246716         1                  9   \n",
       "4     25485198       849246716         1                 17   \n",
       "\n",
       "   cust_star_rating_mean  cust_star_rating_std  prod_review_count  \\\n",
       "0               5.000000              0.000000                297   \n",
       "1               3.600000              0.547723                297   \n",
       "2               3.375000              1.505941                297   \n",
       "3               4.444444              0.527046                297   \n",
       "4               5.000000              0.000000                297   \n",
       "\n",
       "   prod_star_rating_mean  prod_star_rating_std   pos_sim   neg_sim  \\\n",
       "0               4.872054              0.363625  0.033451  0.000000   \n",
       "1               4.872054              0.363625  0.012478  0.009009   \n",
       "2               4.872054              0.363625  0.007220  0.033333   \n",
       "3               4.872054              0.363625  0.095238  0.000000   \n",
       "4               4.872054              0.363625  0.010870  0.000000   \n",
       "\n",
       "   avg_pos_word  avg_neg_word  \n",
       "0      0.308559      0.000000  \n",
       "1      0.096724      0.169741  \n",
       "2      0.067060      0.093065  \n",
       "3     -0.077627      0.000000  \n",
       "4      0.368011      0.000000  "
      ]
     },
     "execution_count": 50,
     "metadata": {},
     "output_type": "execute_result"
    }
   ],
   "source": [
    "train_df = pd.read_csv('train_df2.csv', index_col=0)\n",
    "train_df.drop(['star_rating', 'pos_corpus', 'neg_corpus', 'pos_1', 'pos_2', 'pos_3', \n",
    "               'neg_1', 'neg_2', 'neg_3', 'prod_corpus', 'word_1', 'word_2', 'word_3'], axis=1, inplace=True)\n",
    "train_df.drop(['cust_total_votes_mean', 'cust_total_votes_std', 'cust_helpful_votes_mean', 'cust_helpful_votes_std', \n",
    "               'prod_total_votes_mean', 'prod_total_votes_std', 'prod_helpful_votes_mean', 'prod_helpful_votes_std'], \n",
    "              axis=1, inplace=True)\n",
    "\n",
    "train_df['avg_pos_word'] = train_df.apply((lambda x: (x.pos_1_word_1 + x.pos_1_word_2 + x.pos_1_word_3 +\n",
    "                                                      x.pos_2_word_1 + x.pos_2_word_2 + x.pos_2_word_3 +\n",
    "                                                      x.pos_3_word_1 + x.pos_3_word_2 + x.pos_3_word_3) / 9), axis=1)\n",
    "train_df['avg_neg_word'] = train_df.apply((lambda x: (x.neg_1_word_1 + x.neg_1_word_2 + x.neg_1_word_3 +\n",
    "                                                      x.neg_2_word_1 + x.neg_2_word_2 + x.neg_2_word_3 +\n",
    "                                                      x.neg_3_word_1 + x.neg_3_word_2 + x.neg_3_word_3) / 9), axis=1)\n",
    "train_df.drop(['pos_1_word_1', 'pos_1_word_2', 'pos_1_word_3', 'pos_2_word_1',\n",
    "               'pos_2_word_2', 'pos_2_word_3', 'pos_3_word_1', 'pos_3_word_2',\n",
    "               'pos_3_word_3', 'neg_1_word_1', 'neg_1_word_2', 'neg_1_word_3',\n",
    "               'neg_2_word_1', 'neg_2_word_2', 'neg_2_word_3', 'neg_3_word_1',\n",
    "               'neg_3_word_2', 'neg_3_word_3'], axis=1, inplace=True)\n",
    "\n",
    "train_df.head()"
   ]
  },
  {
   "cell_type": "code",
   "execution_count": 51,
   "metadata": {},
   "outputs": [
    {
     "data": {
      "text/plain": [
       "Index(['customer_id', 'product_parent', 'positive', 'cust_review_count',\n",
       "       'cust_star_rating_mean', 'cust_star_rating_std', 'prod_review_count',\n",
       "       'prod_star_rating_mean', 'prod_star_rating_std', 'pos_sim', 'neg_sim',\n",
       "       'avg_pos_word', 'avg_neg_word'],\n",
       "      dtype='object')"
      ]
     },
     "execution_count": 51,
     "metadata": {},
     "output_type": "execute_result"
    }
   ],
   "source": [
    "train_df.columns"
   ]
  },
  {
   "cell_type": "code",
   "execution_count": 52,
   "metadata": {},
   "outputs": [
    {
     "data": {
      "text/plain": [
       "positive\n",
       "0     9531\n",
       "1    38191\n",
       "dtype: int64"
      ]
     },
     "execution_count": 52,
     "metadata": {},
     "output_type": "execute_result"
    }
   ],
   "source": [
    "train_df.groupby('positive').size()"
   ]
  },
  {
   "cell_type": "code",
   "execution_count": 53,
   "metadata": {},
   "outputs": [
    {
     "data": {
      "text/plain": [
       "positive\n",
       "0    0.199719\n",
       "1    0.800281\n",
       "dtype: float64"
      ]
     },
     "execution_count": 53,
     "metadata": {},
     "output_type": "execute_result"
    }
   ],
   "source": [
    "train_df.groupby('positive').size() / len(train_df)"
   ]
  },
  {
   "cell_type": "code",
   "execution_count": 54,
   "metadata": {},
   "outputs": [
    {
     "data": {
      "text/plain": [
       "0.8002807929256947"
      ]
     },
     "execution_count": 54,
     "metadata": {},
     "output_type": "execute_result"
    }
   ],
   "source": [
    "len(train_df[train_df.positive == 1]) / len(train_df)"
   ]
  },
  {
   "cell_type": "code",
   "execution_count": 55,
   "metadata": {},
   "outputs": [
    {
     "data": {
      "text/html": [
       "<div>\n",
       "<style scoped>\n",
       "    .dataframe tbody tr th:only-of-type {\n",
       "        vertical-align: middle;\n",
       "    }\n",
       "\n",
       "    .dataframe tbody tr th {\n",
       "        vertical-align: top;\n",
       "    }\n",
       "\n",
       "    .dataframe thead th {\n",
       "        text-align: right;\n",
       "    }\n",
       "</style>\n",
       "<table border=\"1\" class=\"dataframe\">\n",
       "  <thead>\n",
       "    <tr style=\"text-align: right;\">\n",
       "      <th></th>\n",
       "      <th>customer_id</th>\n",
       "      <th>product_parent</th>\n",
       "      <th>positive</th>\n",
       "      <th>cust_review_count</th>\n",
       "      <th>cust_star_rating_mean</th>\n",
       "      <th>cust_star_rating_std</th>\n",
       "      <th>prod_review_count</th>\n",
       "      <th>prod_star_rating_mean</th>\n",
       "      <th>prod_star_rating_std</th>\n",
       "      <th>pos_sim</th>\n",
       "      <th>neg_sim</th>\n",
       "      <th>avg_pos_word</th>\n",
       "      <th>avg_neg_word</th>\n",
       "    </tr>\n",
       "  </thead>\n",
       "  <tbody>\n",
       "    <tr>\n",
       "      <th>0</th>\n",
       "      <td>36330222</td>\n",
       "      <td>986428010</td>\n",
       "      <td>1</td>\n",
       "      <td>24</td>\n",
       "      <td>4.291667</td>\n",
       "      <td>1.267629</td>\n",
       "      <td>18</td>\n",
       "      <td>4.333333</td>\n",
       "      <td>1.188177</td>\n",
       "      <td>0.070423</td>\n",
       "      <td>0.012295</td>\n",
       "      <td>-0.031375</td>\n",
       "      <td>-0.011993</td>\n",
       "    </tr>\n",
       "    <tr>\n",
       "      <th>1</th>\n",
       "      <td>24360083</td>\n",
       "      <td>986428010</td>\n",
       "      <td>1</td>\n",
       "      <td>23</td>\n",
       "      <td>4.347826</td>\n",
       "      <td>1.191206</td>\n",
       "      <td>18</td>\n",
       "      <td>4.333333</td>\n",
       "      <td>1.188177</td>\n",
       "      <td>0.095361</td>\n",
       "      <td>0.049808</td>\n",
       "      <td>0.933571</td>\n",
       "      <td>0.547893</td>\n",
       "    </tr>\n",
       "    <tr>\n",
       "      <th>2</th>\n",
       "      <td>28891040</td>\n",
       "      <td>437083384</td>\n",
       "      <td>1</td>\n",
       "      <td>10</td>\n",
       "      <td>4.500000</td>\n",
       "      <td>0.707107</td>\n",
       "      <td>407</td>\n",
       "      <td>4.503686</td>\n",
       "      <td>0.887439</td>\n",
       "      <td>0.006944</td>\n",
       "      <td>0.005208</td>\n",
       "      <td>0.172577</td>\n",
       "      <td>0.136230</td>\n",
       "    </tr>\n",
       "    <tr>\n",
       "      <th>3</th>\n",
       "      <td>52449052</td>\n",
       "      <td>437083384</td>\n",
       "      <td>0</td>\n",
       "      <td>5</td>\n",
       "      <td>3.400000</td>\n",
       "      <td>1.516575</td>\n",
       "      <td>407</td>\n",
       "      <td>4.503686</td>\n",
       "      <td>0.887439</td>\n",
       "      <td>0.010390</td>\n",
       "      <td>0.059514</td>\n",
       "      <td>0.250885</td>\n",
       "      <td>0.003912</td>\n",
       "    </tr>\n",
       "    <tr>\n",
       "      <th>4</th>\n",
       "      <td>27192976</td>\n",
       "      <td>437083384</td>\n",
       "      <td>1</td>\n",
       "      <td>6</td>\n",
       "      <td>4.666667</td>\n",
       "      <td>0.816497</td>\n",
       "      <td>407</td>\n",
       "      <td>4.503686</td>\n",
       "      <td>0.887439</td>\n",
       "      <td>0.012942</td>\n",
       "      <td>0.003460</td>\n",
       "      <td>0.039631</td>\n",
       "      <td>-0.029838</td>\n",
       "    </tr>\n",
       "  </tbody>\n",
       "</table>\n",
       "</div>"
      ],
      "text/plain": [
       "   customer_id  product_parent  positive  cust_review_count  \\\n",
       "0     36330222       986428010         1                 24   \n",
       "1     24360083       986428010         1                 23   \n",
       "2     28891040       437083384         1                 10   \n",
       "3     52449052       437083384         0                  5   \n",
       "4     27192976       437083384         1                  6   \n",
       "\n",
       "   cust_star_rating_mean  cust_star_rating_std  prod_review_count  \\\n",
       "0               4.291667              1.267629                 18   \n",
       "1               4.347826              1.191206                 18   \n",
       "2               4.500000              0.707107                407   \n",
       "3               3.400000              1.516575                407   \n",
       "4               4.666667              0.816497                407   \n",
       "\n",
       "   prod_star_rating_mean  prod_star_rating_std   pos_sim   neg_sim  \\\n",
       "0               4.333333              1.188177  0.070423  0.012295   \n",
       "1               4.333333              1.188177  0.095361  0.049808   \n",
       "2               4.503686              0.887439  0.006944  0.005208   \n",
       "3               4.503686              0.887439  0.010390  0.059514   \n",
       "4               4.503686              0.887439  0.012942  0.003460   \n",
       "\n",
       "   avg_pos_word  avg_neg_word  \n",
       "0     -0.031375     -0.011993  \n",
       "1      0.933571      0.547893  \n",
       "2      0.172577      0.136230  \n",
       "3      0.250885      0.003912  \n",
       "4      0.039631     -0.029838  "
      ]
     },
     "execution_count": 55,
     "metadata": {},
     "output_type": "execute_result"
    }
   ],
   "source": [
    "test_df = pd.read_csv('test_df2.csv', index_col=0)\n",
    "test_df.drop(['star_rating', 'pos_corpus', 'neg_corpus', 'pos_1', 'pos_2', 'pos_3', \n",
    "               'neg_1', 'neg_2', 'neg_3', 'prod_corpus', 'word_1', 'word_2', 'word_3'], axis=1, inplace=True)\n",
    "test_df.drop(['cust_total_votes_mean', 'cust_total_votes_std', 'cust_helpful_votes_mean', 'cust_helpful_votes_std', \n",
    "               'prod_total_votes_mean', 'prod_total_votes_std', 'prod_helpful_votes_mean', 'prod_helpful_votes_std'], \n",
    "              axis=1, inplace=True)\n",
    "\n",
    "test_df['avg_pos_word'] = test_df.apply((lambda x: (x.pos_1_word_1 + x.pos_1_word_2 + x.pos_1_word_3 +\n",
    "                                                      x.pos_2_word_1 + x.pos_2_word_2 + x.pos_2_word_3 +\n",
    "                                                      x.pos_3_word_1 + x.pos_3_word_2 + x.pos_3_word_3) / 9), axis=1)\n",
    "test_df['avg_neg_word'] = test_df.apply((lambda x: (x.neg_1_word_1 + x.neg_1_word_2 + x.neg_1_word_3 +\n",
    "                                                      x.neg_2_word_1 + x.neg_2_word_2 + x.neg_2_word_3 +\n",
    "                                                      x.neg_3_word_1 + x.neg_3_word_2 + x.neg_3_word_3) / 9), axis=1)\n",
    "test_df.drop(['pos_1_word_1', 'pos_1_word_2', 'pos_1_word_3', 'pos_2_word_1',\n",
    "               'pos_2_word_2', 'pos_2_word_3', 'pos_3_word_1', 'pos_3_word_2',\n",
    "               'pos_3_word_3', 'neg_1_word_1', 'neg_1_word_2', 'neg_1_word_3',\n",
    "               'neg_2_word_1', 'neg_2_word_2', 'neg_2_word_3', 'neg_3_word_1',\n",
    "               'neg_3_word_2', 'neg_3_word_3'], axis=1, inplace=True)\n",
    "test_df.head()"
   ]
  },
  {
   "cell_type": "code",
   "execution_count": 56,
   "metadata": {},
   "outputs": [
    {
     "data": {
      "text/plain": [
       "positive\n",
       "0     3573\n",
       "1    12262\n",
       "dtype: int64"
      ]
     },
     "execution_count": 56,
     "metadata": {},
     "output_type": "execute_result"
    }
   ],
   "source": [
    "test_df.groupby('positive').size()"
   ]
  },
  {
   "cell_type": "code",
   "execution_count": 57,
   "metadata": {},
   "outputs": [
    {
     "data": {
      "text/plain": [
       "0.774360593621724"
      ]
     },
     "execution_count": 57,
     "metadata": {},
     "output_type": "execute_result"
    }
   ],
   "source": [
    "len(test_df[test_df.positive == 1]) / len(test_df)"
   ]
  },
  {
   "cell_type": "code",
   "execution_count": 58,
   "metadata": {},
   "outputs": [],
   "source": [
    "train_x, train_y = train_df.drop('positive', axis=1), train_df['positive']\n",
    "test_x, test_y = test_df.drop('positive', axis=1), test_df['positive']"
   ]
  },
  {
   "cell_type": "code",
   "execution_count": 59,
   "metadata": {},
   "outputs": [
    {
     "data": {
      "text/html": [
       "<div>\n",
       "<style scoped>\n",
       "    .dataframe tbody tr th:only-of-type {\n",
       "        vertical-align: middle;\n",
       "    }\n",
       "\n",
       "    .dataframe tbody tr th {\n",
       "        vertical-align: top;\n",
       "    }\n",
       "\n",
       "    .dataframe thead th {\n",
       "        text-align: right;\n",
       "    }\n",
       "</style>\n",
       "<table border=\"1\" class=\"dataframe\">\n",
       "  <thead>\n",
       "    <tr style=\"text-align: right;\">\n",
       "      <th></th>\n",
       "      <th>customer_id</th>\n",
       "      <th>product_parent</th>\n",
       "      <th>positive</th>\n",
       "      <th>cust_review_count</th>\n",
       "      <th>cust_star_rating_mean</th>\n",
       "      <th>cust_star_rating_std</th>\n",
       "      <th>prod_review_count</th>\n",
       "      <th>prod_star_rating_mean</th>\n",
       "      <th>prod_star_rating_std</th>\n",
       "      <th>pos_sim</th>\n",
       "      <th>neg_sim</th>\n",
       "      <th>avg_pos_word</th>\n",
       "      <th>avg_neg_word</th>\n",
       "    </tr>\n",
       "  </thead>\n",
       "  <tbody>\n",
       "  </tbody>\n",
       "</table>\n",
       "</div>"
      ],
      "text/plain": [
       "Empty DataFrame\n",
       "Columns: [customer_id, product_parent, positive, cust_review_count, cust_star_rating_mean, cust_star_rating_std, prod_review_count, prod_star_rating_mean, prod_star_rating_std, pos_sim, neg_sim, avg_pos_word, avg_neg_word]\n",
       "Index: []"
      ]
     },
     "execution_count": 59,
     "metadata": {},
     "output_type": "execute_result"
    }
   ],
   "source": [
    "is_NaN = train_df.isnull()\n",
    "row_has_NaN = is_NaN.any(axis=1)\n",
    "train_df[row_has_NaN]"
   ]
  },
  {
   "cell_type": "code",
   "execution_count": 60,
   "metadata": {},
   "outputs": [],
   "source": [
    "def evaluate(m, x, test):\n",
    "    correct = 0\n",
    "    pos_count = 0\n",
    "    matrix = [0, 0, 0, 0]\n",
    "    preds = m.predict(x)\n",
    "    for i in range(len(test)):\n",
    "        if (preds[i] > 0.5):\n",
    "            pos_count += 1\n",
    "        if (preds[i] > 0.5 and test.iloc[i] > 0.5):\n",
    "            correct += 1\n",
    "            matrix[0] += 1\n",
    "        elif (preds[i] <= 0.5 and test.iloc[i] <= 0.5):\n",
    "            correct += 1\n",
    "            matrix[1] += 1\n",
    "        elif (preds[i] > 0.5 and test.iloc[i] <= 0.5):\n",
    "            matrix[2] += 1\n",
    "        elif (preds[i] <= 0.5 and test.iloc[i] > 0.5):\n",
    "            matrix[3] += 1\n",
    "\n",
    "    pos_f1 = 2 * ((matrix[0] / pos_count) * (matrix[0] / len(test_df[test_df.positive == 1]))) / ((matrix[0] / pos_count) + (matrix[0] / len(test_df[test_df.positive == 1])))\n",
    "    neg_f1 = 2 * ((matrix[1] / (matrix[1] + matrix[3])) * (matrix[1] / (len(test_df[test_df.positive == 0])))) / ((matrix[1] / (matrix[1] + matrix[3])) + (matrix[1] / (len(test_df[test_df.positive == 0]))))\n",
    "    print('Correct:', correct, correct / len(test_df))\n",
    "    print('Pos:', pos_count, pos_count / len(test_df))\n",
    "    print('True Positive:', matrix[0], matrix[0] / len(test_df))\n",
    "    print('True Negative:', matrix[1], matrix[1] / len(test_df))\n",
    "    print('False Positive:', matrix[2], matrix[2] / len(test_df))\n",
    "    print('False Negative:', matrix[3], matrix[3] / len(test_df))\n",
    "    print('Positive Precision:', matrix[0] / pos_count)\n",
    "    print('Positive Recall:', matrix[0] / len(test_df[test_df.positive == 1]))\n",
    "    print('Positive F1 Score:', pos_f1)\n",
    "    print('Negative Precision:', matrix[1] / (matrix[1] + matrix[3]))\n",
    "    print('Negative Recall:', matrix[1] / (len(test_df[test_df.positive == 0])))\n",
    "    print('Negative F1 Score:', neg_f1)"
   ]
  },
  {
   "cell_type": "code",
   "execution_count": 61,
   "metadata": {},
   "outputs": [],
   "source": [
    "drop_cols = ['customer_id', 'product_parent', 'cust_review_count', 'prod_review_count', \n",
    "             'cust_star_rating_std', 'prod_star_rating_std']\n",
    "             #'neg_1_word_1', 'neg_1_word_2', 'neg_1_word_3',\n",
    "             #'neg_2_word_1', 'neg_2_word_2', 'neg_2_word_3', \n",
    "             #'neg_3_word_1', 'neg_3_word_2', 'neg_3_word_3']"
   ]
  },
  {
   "cell_type": "code",
   "execution_count": 62,
   "metadata": {},
   "outputs": [
    {
     "data": {
      "image/png": "[encoded data removed]",
      "text/plain": [
       "<Figure size 864x720 with 2 Axes>"
      ]
     },
     "metadata": {
      "needs_background": "light"
     },
     "output_type": "display_data"
    }
   ],
   "source": [
    "import matplotlib.pyplot as plt\n",
    "import seaborn as sns\n",
    "\n",
    "#Using Pearson Correlation\n",
    "plt.figure(figsize=(12,10))\n",
    "cor = train_df.drop(drop_cols, axis=1).corr()\n",
    "sns.heatmap(cor, annot=True, cmap=plt.cm.Blues)\n",
    "plt.show()"
   ]
  },
  {
   "cell_type": "code",
   "execution_count": 63,
   "metadata": {},
   "outputs": [
    {
     "data": {
      "text/plain": [
       "GradientBoostingClassifier(ccp_alpha=0.0, criterion='friedman_mse', init=None,\n",
       "                           learning_rate=0.1, loss='deviance', max_depth=3,\n",
       "                           max_features=None, max_leaf_nodes=None,\n",
       "                           min_impurity_decrease=0.0, min_impurity_split=None,\n",
       "                           min_samples_leaf=1, min_samples_split=2,\n",
       "                           min_weight_fraction_leaf=0.0, n_estimators=100,\n",
       "                           n_iter_no_change=None, presort='deprecated',\n",
       "                           random_state=None, subsample=1.0, tol=0.0001,\n",
       "                           validation_fraction=0.1, verbose=0,\n",
       "                           warm_start=False)"
      ]
     },
     "execution_count": 63,
     "metadata": {},
     "output_type": "execute_result"
    }
   ],
   "source": [
    "from sklearn.ensemble import GradientBoostingClassifier\n",
    "gb = GradientBoostingClassifier()\n",
    "gb.fit(train_x.drop(drop_cols, axis=1), train_y)"
   ]
  },
  {
   "cell_type": "code",
   "execution_count": 64,
   "metadata": {},
   "outputs": [
    {
     "data": {
      "text/plain": [
       "0.7929902115566783"
      ]
     },
     "execution_count": 64,
     "metadata": {},
     "output_type": "execute_result"
    }
   ],
   "source": [
    "gb.score(test_x.drop(drop_cols, axis=1), test_y)"
   ]
  },
  {
   "cell_type": "code",
   "execution_count": 65,
   "metadata": {},
   "outputs": [
    {
     "name": "stdout",
     "output_type": "stream",
     "text": [
      "Correct: 12557 0.7929902115566783\n",
      "Pos: 14452 0.9126618250710452\n",
      "True Positive: 11718 0.7400063151247237\n",
      "True Negative: 839 0.05298389643195453\n",
      "False Positive: 2734 0.17265550994632145\n",
      "False Negative: 544 0.03435427849700032\n",
      "Positive Precision: 0.8108220315527263\n",
      "Positive Recall: 0.9556352960365356\n",
      "Positive F1 Score: 0.8772928052706446\n",
      "Negative Precision: 0.6066522053506869\n",
      "Negative Recall: 0.23481668066050937\n",
      "Negative F1 Score: 0.3385794995964487\n"
     ]
    }
   ],
   "source": [
    "evaluate(gb, test_x.drop(drop_cols, axis=1), test_y)"
   ]
  },
  {
   "cell_type": "code",
   "execution_count": 66,
   "metadata": {},
   "outputs": [
    {
     "data": {
      "text/plain": [
       "RandomForestClassifier(bootstrap=True, ccp_alpha=0.0, class_weight=None,\n",
       "                       criterion='entropy', max_depth=None, max_features='auto',\n",
       "                       max_leaf_nodes=None, max_samples=None,\n",
       "                       min_impurity_decrease=0.0, min_impurity_split=None,\n",
       "                       min_samples_leaf=1, min_samples_split=2,\n",
       "                       min_weight_fraction_leaf=0.0, n_estimators=1000,\n",
       "                       n_jobs=-1, oob_score=False, random_state=None, verbose=0,\n",
       "                       warm_start=False)"
      ]
     },
     "execution_count": 66,
     "metadata": {},
     "output_type": "execute_result"
    }
   ],
   "source": [
    "rf = RandomForestClassifier(n_estimators=1000, criterion='entropy', n_jobs=-1)\n",
    "rf.fit(train_x.drop(drop_cols, axis=1), train_y)"
   ]
  },
  {
   "cell_type": "code",
   "execution_count": 67,
   "metadata": {},
   "outputs": [
    {
     "data": {
      "text/plain": [
       "0.7862961793495421"
      ]
     },
     "execution_count": 67,
     "metadata": {},
     "output_type": "execute_result"
    }
   ],
   "source": [
    "rf.score(test_x.drop(drop_cols, axis=1), test_y)"
   ]
  },
  {
   "cell_type": "code",
   "execution_count": 68,
   "metadata": {},
   "outputs": [
    {
     "name": "stdout",
     "output_type": "stream",
     "text": [
      "Correct: 12451 0.7862961793495421\n",
      "Pos: 14232 0.898768550678876\n",
      "True Positive: 11555 0.729712661825071\n",
      "True Negative: 896 0.056583517524471105\n",
      "False Positive: 2677 0.16905588885380488\n",
      "False Negative: 707 0.04464793179665298\n",
      "Positive Precision: 0.81190275435638\n",
      "Positive Recall: 0.9423421954004241\n",
      "Positive F1 Score: 0.8722729674643315\n",
      "Negative Precision: 0.5589519650655022\n",
      "Negative Recall: 0.2507696613490064\n",
      "Negative F1 Score: 0.34621329211746515\n"
     ]
    }
   ],
   "source": [
    "evaluate(rf, test_x.drop(drop_cols, axis=1), test_y)"
   ]
  },
  {
   "cell_type": "code",
   "execution_count": 69,
   "metadata": {},
   "outputs": [
    {
     "data": {
      "text/plain": [
       "<BarContainer object of 6 artists>"
      ]
     },
     "execution_count": 69,
     "metadata": {},
     "output_type": "execute_result"
    },
    {
     "data": {
      "image/png": "[encoded data removed]",
      "text/plain": [
       "<Figure size 432x288 with 1 Axes>"
      ]
     },
     "metadata": {
      "needs_background": "light"
     },
     "output_type": "display_data"
    }
   ],
   "source": [
    "imp_tuples = sorted(zip(map(lambda x: round(x, 4), rf.feature_importances_), \n",
    "                 train_x.drop(drop_cols, axis=1).columns), reverse=False)\n",
    "imp = [t[0] for t in imp_tuples]\n",
    "labl = [t[1] for t in imp_tuples]\n",
    "plt.barh(labl, imp, linewidth=5)"
   ]
  },
  {
   "cell_type": "code",
   "execution_count": 70,
   "metadata": {},
   "outputs": [
    {
     "data": {
      "text/plain": [
       "RandomForestRegressor(bootstrap=True, ccp_alpha=0.0, criterion='mse',\n",
       "                      max_depth=None, max_features='auto', max_leaf_nodes=None,\n",
       "                      max_samples=None, min_impurity_decrease=0.0,\n",
       "                      min_impurity_split=None, min_samples_leaf=1,\n",
       "                      min_samples_split=2, min_weight_fraction_leaf=0.0,\n",
       "                      n_estimators=1000, n_jobs=-1, oob_score=False,\n",
       "                      random_state=None, verbose=0, warm_start=False)"
      ]
     },
     "execution_count": 70,
     "metadata": {},
     "output_type": "execute_result"
    }
   ],
   "source": [
    "rf2 = RandomForestRegressor(n_estimators=1000, n_jobs=-1)\n",
    "rf2.fit(train_x.drop(drop_cols, axis=1), train_y)"
   ]
  },
  {
   "cell_type": "code",
   "execution_count": 71,
   "metadata": {},
   "outputs": [
    {
     "data": {
      "text/plain": [
       "0.10023450014771729"
      ]
     },
     "execution_count": 71,
     "metadata": {},
     "output_type": "execute_result"
    }
   ],
   "source": [
    "rf2.score(test_x.drop(drop_cols, axis=1), test_y)"
   ]
  },
  {
   "cell_type": "code",
   "execution_count": 72,
   "metadata": {},
   "outputs": [
    {
     "name": "stdout",
     "output_type": "stream",
     "text": [
      "Correct: 12357 0.7803599621092516\n",
      "Pos: 14040 0.8866435112093464\n",
      "True Positive: 11412 0.720682033470161\n",
      "True Negative: 945 0.05967792863909062\n",
      "False Positive: 2628 0.16596147773918535\n",
      "False Negative: 850 0.05367856015156299\n",
      "Positive Precision: 0.8128205128205128\n",
      "Positive Recall: 0.9306801500570869\n",
      "Positive F1 Score: 0.8677667097559121\n",
      "Negative Precision: 0.5264623955431755\n",
      "Negative Recall: 0.26448362720403024\n",
      "Negative F1 Score: 0.3520864381520119\n"
     ]
    }
   ],
   "source": [
    "evaluate(rf2, test_x.drop(drop_cols, axis=1), test_y)"
   ]
  },
  {
   "cell_type": "code",
   "execution_count": 73,
   "metadata": {},
   "outputs": [
    {
     "data": {
      "text/plain": [
       "<BarContainer object of 6 artists>"
      ]
     },
     "execution_count": 73,
     "metadata": {},
     "output_type": "execute_result"
    },
    {
     "data": {
      "image/png": "[encoded data removed]",
      "text/plain": [
       "<Figure size 432x288 with 1 Axes>"
      ]
     },
     "metadata": {
      "needs_background": "light"
     },
     "output_type": "display_data"
    }
   ],
   "source": [
    "imp_tuples = sorted(zip(map(lambda x: round(x, 4), rf2.feature_importances_), \n",
    "                 train_x.drop(drop_cols, axis=1).columns), reverse=False)\n",
    "imp = [t[0] for t in imp_tuples]\n",
    "labl = [t[1] for t in imp_tuples]\n",
    "plt.barh(labl, imp, linewidth=5)"
   ]
  },
  {
   "cell_type": "code",
   "execution_count": 74,
   "metadata": {},
   "outputs": [
    {
     "data": {
      "text/plain": [
       "KNeighborsClassifier(algorithm='auto', leaf_size=30, metric='minkowski',\n",
       "                     metric_params=None, n_jobs=None, n_neighbors=5, p=2,\n",
       "                     weights='distance')"
      ]
     },
     "execution_count": 74,
     "metadata": {},
     "output_type": "execute_result"
    }
   ],
   "source": [
    "from sklearn.neighbors import KNeighborsClassifier\n",
    "knn = KNeighborsClassifier(n_neighbors=5, weights='distance')\n",
    "knn.fit(train_x.drop(drop_cols, axis=1), train_y)"
   ]
  },
  {
   "cell_type": "code",
   "execution_count": 75,
   "metadata": {},
   "outputs": [
    {
     "data": {
      "text/plain": [
       "0.7535838332807073"
      ]
     },
     "execution_count": 75,
     "metadata": {},
     "output_type": "execute_result"
    }
   ],
   "source": [
    "knn.score(test_x.drop(drop_cols, axis=1), test_y)"
   ]
  },
  {
   "cell_type": "code",
   "execution_count": 76,
   "metadata": {},
   "outputs": [
    {
     "name": "stdout",
     "output_type": "stream",
     "text": [
      "Correct: 11933 0.7535838332807073\n",
      "Pos: 13374 0.8445847805494159\n",
      "True Positive: 10867 0.6862646037259236\n",
      "True Negative: 1066 0.06731922955478371\n",
      "False Positive: 2507 0.15832017682349225\n",
      "False Negative: 1395 0.08809598989580045\n",
      "Positive Precision: 0.8125467324659787\n",
      "Positive Recall: 0.8862338933289838\n",
      "Positive F1 Score: 0.8477921672647838\n",
      "Negative Precision: 0.4331572531491264\n",
      "Negative Recall: 0.29834872656031347\n",
      "Negative F1 Score: 0.35333112363274777\n"
     ]
    }
   ],
   "source": [
    "evaluate(knn, test_x.drop(drop_cols, axis=1), test_y)"
   ]
  },
  {
   "cell_type": "code",
   "execution_count": 77,
   "metadata": {},
   "outputs": [
    {
     "data": {
      "text/plain": [
       "GaussianNB(priors=None, var_smoothing=1e-09)"
      ]
     },
     "execution_count": 77,
     "metadata": {},
     "output_type": "execute_result"
    }
   ],
   "source": [
    "from sklearn.naive_bayes import GaussianNB\n",
    "gnb = GaussianNB()\n",
    "gnb.fit(train_x.drop(drop_cols, axis=1), train_y)"
   ]
  },
  {
   "cell_type": "code",
   "execution_count": 78,
   "metadata": {},
   "outputs": [
    {
     "data": {
      "text/plain": [
       "0.7442374486896116"
      ]
     },
     "execution_count": 78,
     "metadata": {},
     "output_type": "execute_result"
    }
   ],
   "source": [
    "gnb.score(test_x.drop(drop_cols, axis=1), test_y)"
   ]
  },
  {
   "cell_type": "code",
   "execution_count": 79,
   "metadata": {},
   "outputs": [
    {
     "name": "stdout",
     "output_type": "stream",
     "text": [
      "Correct: 11785 0.7442374486896116\n",
      "Pos: 12476 0.7878749605304705\n",
      "True Positive: 10344 0.6532365014209031\n",
      "True Negative: 1441 0.09100094726870855\n",
      "False Positive: 2132 0.13463845910956743\n",
      "False Negative: 1918 0.12112409220082096\n",
      "Positive Precision: 0.8291118948380891\n",
      "Positive Recall: 0.8435817974229326\n",
      "Positive F1 Score: 0.8362842590346835\n",
      "Negative Precision: 0.42899672521583804\n",
      "Negative Recall: 0.40330254687937306\n",
      "Negative F1 Score: 0.41575302942873626\n"
     ]
    }
   ],
   "source": [
    "evaluate(gnb, test_x.drop(drop_cols, axis=1), test_y)"
   ]
  },
  {
   "cell_type": "code",
   "execution_count": 80,
   "metadata": {},
   "outputs": [
    {
     "name": "stderr",
     "output_type": "stream",
     "text": [
      "Using TensorFlow backend.\n"
     ]
    }
   ],
   "source": [
    "from keras import models\n",
    "from keras import layers\n",
    "from keras import optimizers\n",
    "from keras.utils import to_categorical\n",
    "import keras\n",
    "import numpy as np"
   ]
  },
  {
   "cell_type": "code",
   "execution_count": 81,
   "metadata": {},
   "outputs": [],
   "source": [
    "keras.backend.clear_session()"
   ]
  },
  {
   "cell_type": "code",
   "execution_count": 82,
   "metadata": {},
   "outputs": [],
   "source": [
    "nn_train_x = train_x.drop(drop_cols, axis=1)\n",
    "nn_test_x = test_x.drop(drop_cols, axis=1)"
   ]
  },
  {
   "cell_type": "code",
   "execution_count": 83,
   "metadata": {},
   "outputs": [
    {
     "data": {
      "text/plain": [
       "(47722, 6)"
      ]
     },
     "execution_count": 83,
     "metadata": {},
     "output_type": "execute_result"
    }
   ],
   "source": [
    "np.shape(nn_train_x)"
   ]
  },
  {
   "cell_type": "code",
   "execution_count": 84,
   "metadata": {},
   "outputs": [
    {
     "name": "stdout",
     "output_type": "stream",
     "text": [
      "Model: \"sequential_1\"\n",
      "_________________________________________________________________\n",
      "Layer (type)                 Output Shape              Param #   \n",
      "=================================================================\n",
      "dense_1 (Dense)              (None, 6)                 42        \n",
      "_________________________________________________________________\n",
      "dense_2 (Dense)              (None, 4)                 28        \n",
      "_________________________________________________________________\n",
      "dense_3 (Dense)              (None, 1)                 5         \n",
      "=================================================================\n",
      "Total params: 75\n",
      "Trainable params: 75\n",
      "Non-trainable params: 0\n",
      "_________________________________________________________________\n"
     ]
    }
   ],
   "source": [
    "network = models.Sequential()\n",
    "network.add(layers.Dense(6, activation='relu', input_shape=(6,)))\n",
    "network.add(layers.Dense(4, activation='relu', input_shape=(6,)))\n",
    "network.add(layers.Dense(1, activation='sigmoid', input_shape=(4,)))\n",
    "network.summary()"
   ]
  },
  {
   "cell_type": "code",
   "execution_count": 85,
   "metadata": {},
   "outputs": [
    {
     "name": "stdout",
     "output_type": "stream",
     "text": [
      "Train on 47722 samples, validate on 15835 samples\n",
      "Epoch 1/150\n",
      "47722/47722 [==============================] - 17s 352us/step - loss: 0.6426 - accuracy: 0.7743 - val_loss: 0.6065 - val_accuracy: 0.7770\n",
      "Epoch 2/150\n",
      "47722/47722 [==============================] - 1s 18us/step - loss: 0.5644 - accuracy: 0.8018 - val_loss: 0.5541 - val_accuracy: 0.7767\n",
      "Epoch 3/150\n",
      "47722/47722 [==============================] - 1s 18us/step - loss: 0.5167 - accuracy: 0.8017 - val_loss: 0.5286 - val_accuracy: 0.7767\n",
      "Epoch 4/150\n",
      "47722/47722 [==============================] - 1s 18us/step - loss: 0.4938 - accuracy: 0.8018 - val_loss: 0.5200 - val_accuracy: 0.7783\n",
      "Epoch 5/150\n",
      "47722/47722 [==============================] - 1s 18us/step - loss: 0.4851 - accuracy: 0.8017 - val_loss: 0.5162 - val_accuracy: 0.7789\n",
      "Epoch 6/150\n",
      "47722/47722 [==============================] - 1s 18us/step - loss: 0.4813 - accuracy: 0.8021 - val_loss: 0.5135 - val_accuracy: 0.7788\n",
      "Epoch 7/150\n",
      "47722/47722 [==============================] - 1s 18us/step - loss: 0.4785 - accuracy: 0.8019 - val_loss: 0.5095 - val_accuracy: 0.7781\n",
      "Epoch 8/150\n",
      "47722/47722 [==============================] - 1s 18us/step - loss: 0.4764 - accuracy: 0.8023 - val_loss: 0.5074 - val_accuracy: 0.7777\n",
      "Epoch 9/150\n",
      "47722/47722 [==============================] - 1s 18us/step - loss: 0.4748 - accuracy: 0.8017 - val_loss: 0.5062 - val_accuracy: 0.7780\n",
      "Epoch 10/150\n",
      "47722/47722 [==============================] - 1s 18us/step - loss: 0.4735 - accuracy: 0.8017 - val_loss: 0.5040 - val_accuracy: 0.7778\n",
      "Epoch 11/150\n",
      "47722/47722 [==============================] - 1s 18us/step - loss: 0.4723 - accuracy: 0.8017 - val_loss: 0.5026 - val_accuracy: 0.7781\n",
      "Epoch 12/150\n",
      "47722/47722 [==============================] - 1s 18us/step - loss: 0.4711 - accuracy: 0.8013 - val_loss: 0.5005 - val_accuracy: 0.7778\n",
      "Epoch 13/150\n",
      "47722/47722 [==============================] - 1s 18us/step - loss: 0.4698 - accuracy: 0.8015 - val_loss: 0.4990 - val_accuracy: 0.7777\n",
      "Epoch 14/150\n",
      "47722/47722 [==============================] - 1s 18us/step - loss: 0.4684 - accuracy: 0.8020 - val_loss: 0.4968 - val_accuracy: 0.7780\n",
      "Epoch 15/150\n",
      "47722/47722 [==============================] - 1s 18us/step - loss: 0.4669 - accuracy: 0.8021 - val_loss: 0.4952 - val_accuracy: 0.7778\n",
      "Epoch 16/150\n",
      "47722/47722 [==============================] - 1s 18us/step - loss: 0.4654 - accuracy: 0.8018 - val_loss: 0.4939 - val_accuracy: 0.7787\n",
      "Epoch 17/150\n",
      "47722/47722 [==============================] - 1s 18us/step - loss: 0.4639 - accuracy: 0.8021 - val_loss: 0.4912 - val_accuracy: 0.7795\n",
      "Epoch 18/150\n",
      "47722/47722 [==============================] - 1s 18us/step - loss: 0.4622 - accuracy: 0.8024 - val_loss: 0.4886 - val_accuracy: 0.7800\n",
      "Epoch 19/150\n",
      "47722/47722 [==============================] - 1s 18us/step - loss: 0.4606 - accuracy: 0.8025 - val_loss: 0.4865 - val_accuracy: 0.7808\n",
      "Epoch 20/150\n",
      "47722/47722 [==============================] - 1s 18us/step - loss: 0.4590 - accuracy: 0.8030 - val_loss: 0.4844 - val_accuracy: 0.7816\n",
      "Epoch 21/150\n",
      "47722/47722 [==============================] - 1s 18us/step - loss: 0.4574 - accuracy: 0.8026 - val_loss: 0.4824 - val_accuracy: 0.7824\n",
      "Epoch 22/150\n",
      "47722/47722 [==============================] - 1s 18us/step - loss: 0.4558 - accuracy: 0.8029 - val_loss: 0.4821 - val_accuracy: 0.7824\n",
      "Epoch 23/150\n",
      "47722/47722 [==============================] - 1s 18us/step - loss: 0.4542 - accuracy: 0.8036 - val_loss: 0.4790 - val_accuracy: 0.7840\n",
      "Epoch 24/150\n",
      "47722/47722 [==============================] - 1s 18us/step - loss: 0.4526 - accuracy: 0.8039 - val_loss: 0.4772 - val_accuracy: 0.7841\n",
      "Epoch 25/150\n",
      "47722/47722 [==============================] - 1s 18us/step - loss: 0.4514 - accuracy: 0.8044 - val_loss: 0.4759 - val_accuracy: 0.7838\n",
      "Epoch 26/150\n",
      "47722/47722 [==============================] - 1s 18us/step - loss: 0.4502 - accuracy: 0.8052 - val_loss: 0.4749 - val_accuracy: 0.7841\n",
      "Epoch 27/150\n",
      "47722/47722 [==============================] - 1s 18us/step - loss: 0.4489 - accuracy: 0.8054 - val_loss: 0.4730 - val_accuracy: 0.7855\n",
      "Epoch 28/150\n",
      "47722/47722 [==============================] - 1s 18us/step - loss: 0.4478 - accuracy: 0.8060 - val_loss: 0.4725 - val_accuracy: 0.7848\n",
      "Epoch 29/150\n",
      "47722/47722 [==============================] - 1s 17us/step - loss: 0.4468 - accuracy: 0.8060 - val_loss: 0.4710 - val_accuracy: 0.7863\n",
      "Epoch 30/150\n",
      "47722/47722 [==============================] - 1s 18us/step - loss: 0.4460 - accuracy: 0.8063 - val_loss: 0.4705 - val_accuracy: 0.7871\n",
      "Epoch 31/150\n",
      "47722/47722 [==============================] - 1s 17us/step - loss: 0.4453 - accuracy: 0.8069 - val_loss: 0.4692 - val_accuracy: 0.7872\n",
      "Epoch 32/150\n",
      "47722/47722 [==============================] - 1s 18us/step - loss: 0.4448 - accuracy: 0.8068 - val_loss: 0.4712 - val_accuracy: 0.7865\n",
      "Epoch 33/150\n",
      "47722/47722 [==============================] - 1s 18us/step - loss: 0.4440 - accuracy: 0.8072 - val_loss: 0.4682 - val_accuracy: 0.7887\n",
      "Epoch 34/150\n",
      "47722/47722 [==============================] - 1s 19us/step - loss: 0.4437 - accuracy: 0.8071 - val_loss: 0.4730 - val_accuracy: 0.7871\n",
      "Epoch 35/150\n",
      "47722/47722 [==============================] - 1s 18us/step - loss: 0.4434 - accuracy: 0.8072 - val_loss: 0.4689 - val_accuracy: 0.7900\n",
      "Epoch 36/150\n",
      "47722/47722 [==============================] - 1s 18us/step - loss: 0.4431 - accuracy: 0.8074 - val_loss: 0.4689 - val_accuracy: 0.7883\n",
      "Epoch 37/150\n",
      "47722/47722 [==============================] - 1s 18us/step - loss: 0.4429 - accuracy: 0.8080 - val_loss: 0.4687 - val_accuracy: 0.7891\n",
      "Epoch 38/150\n",
      "47722/47722 [==============================] - 1s 18us/step - loss: 0.4427 - accuracy: 0.8078 - val_loss: 0.4677 - val_accuracy: 0.7891\n",
      "Epoch 39/150\n",
      "47722/47722 [==============================] - 1s 20us/step - loss: 0.4427 - accuracy: 0.8073 - val_loss: 0.4668 - val_accuracy: 0.7903\n",
      "Epoch 40/150\n",
      "47722/47722 [==============================] - 1s 18us/step - loss: 0.4426 - accuracy: 0.8077 - val_loss: 0.4668 - val_accuracy: 0.7902\n",
      "Epoch 41/150\n",
      "47722/47722 [==============================] - 1s 18us/step - loss: 0.4424 - accuracy: 0.8082 - val_loss: 0.4670 - val_accuracy: 0.7895\n",
      "Epoch 42/150\n",
      "47722/47722 [==============================] - 1s 18us/step - loss: 0.4423 - accuracy: 0.8076 - val_loss: 0.4674 - val_accuracy: 0.7895\n",
      "Epoch 43/150\n",
      "47722/47722 [==============================] - 1s 18us/step - loss: 0.4423 - accuracy: 0.8080 - val_loss: 0.4669 - val_accuracy: 0.7897\n",
      "Epoch 44/150\n",
      "47722/47722 [==============================] - 1s 18us/step - loss: 0.4422 - accuracy: 0.8086 - val_loss: 0.4668 - val_accuracy: 0.7899\n",
      "Epoch 45/150\n",
      "47722/47722 [==============================] - 1s 18us/step - loss: 0.4422 - accuracy: 0.8076 - val_loss: 0.4670 - val_accuracy: 0.7900\n",
      "Epoch 46/150\n",
      "47722/47722 [==============================] - 1s 17us/step - loss: 0.4420 - accuracy: 0.8079 - val_loss: 0.4677 - val_accuracy: 0.7900\n",
      "Epoch 47/150\n",
      "47722/47722 [==============================] - 1s 18us/step - loss: 0.4419 - accuracy: 0.8074 - val_loss: 0.4663 - val_accuracy: 0.7911\n",
      "Epoch 48/150\n",
      "47722/47722 [==============================] - 1s 18us/step - loss: 0.4418 - accuracy: 0.8080 - val_loss: 0.4669 - val_accuracy: 0.7900\n",
      "Epoch 49/150\n",
      "47722/47722 [==============================] - 1s 18us/step - loss: 0.4420 - accuracy: 0.8082 - val_loss: 0.4681 - val_accuracy: 0.7907\n",
      "Epoch 50/150\n",
      "47722/47722 [==============================] - 1s 18us/step - loss: 0.4419 - accuracy: 0.8085 - val_loss: 0.4664 - val_accuracy: 0.7905\n",
      "Epoch 51/150\n",
      "47722/47722 [==============================] - 1s 19us/step - loss: 0.4419 - accuracy: 0.8082 - val_loss: 0.4668 - val_accuracy: 0.7901\n",
      "Epoch 52/150\n",
      "47722/47722 [==============================] - 1s 18us/step - loss: 0.4419 - accuracy: 0.8083 - val_loss: 0.4681 - val_accuracy: 0.7909\n",
      "Epoch 53/150\n",
      "47722/47722 [==============================] - 1s 17us/step - loss: 0.4419 - accuracy: 0.8085 - val_loss: 0.4674 - val_accuracy: 0.7910\n",
      "Epoch 54/150\n",
      "47722/47722 [==============================] - 1s 17us/step - loss: 0.4419 - accuracy: 0.8085 - val_loss: 0.4677 - val_accuracy: 0.7914\n",
      "Epoch 55/150\n",
      "47722/47722 [==============================] - 1s 18us/step - loss: 0.4417 - accuracy: 0.8079 - val_loss: 0.4664 - val_accuracy: 0.7906\n"
     ]
    },
    {
     "name": "stdout",
     "output_type": "stream",
     "text": [
      "Epoch 56/150\n",
      "47722/47722 [==============================] - 1s 18us/step - loss: 0.4417 - accuracy: 0.8086 - val_loss: 0.4731 - val_accuracy: 0.7890\n",
      "Epoch 57/150\n",
      "47722/47722 [==============================] - 1s 18us/step - loss: 0.4417 - accuracy: 0.8085 - val_loss: 0.4667 - val_accuracy: 0.7903\n",
      "Epoch 58/150\n",
      "47722/47722 [==============================] - 1s 18us/step - loss: 0.4417 - accuracy: 0.8081 - val_loss: 0.4711 - val_accuracy: 0.7905\n",
      "Epoch 59/150\n",
      "47722/47722 [==============================] - 1s 18us/step - loss: 0.4417 - accuracy: 0.8083 - val_loss: 0.4666 - val_accuracy: 0.7910\n",
      "Epoch 60/150\n",
      "47722/47722 [==============================] - 1s 17us/step - loss: 0.4417 - accuracy: 0.8085 - val_loss: 0.4681 - val_accuracy: 0.7913\n",
      "Epoch 61/150\n",
      "47722/47722 [==============================] - 1s 18us/step - loss: 0.4417 - accuracy: 0.8085 - val_loss: 0.4665 - val_accuracy: 0.7902\n",
      "Epoch 62/150\n",
      "47722/47722 [==============================] - 1s 18us/step - loss: 0.4416 - accuracy: 0.8084 - val_loss: 0.4668 - val_accuracy: 0.7903\n",
      "Epoch 63/150\n",
      "47722/47722 [==============================] - 1s 17us/step - loss: 0.4416 - accuracy: 0.8084 - val_loss: 0.4672 - val_accuracy: 0.7911\n",
      "Epoch 64/150\n",
      "47722/47722 [==============================] - 1s 17us/step - loss: 0.4415 - accuracy: 0.8078 - val_loss: 0.4669 - val_accuracy: 0.7907\n",
      "Epoch 65/150\n",
      "47722/47722 [==============================] - 1s 17us/step - loss: 0.4416 - accuracy: 0.8080 - val_loss: 0.4690 - val_accuracy: 0.7913\n",
      "Epoch 66/150\n",
      "47722/47722 [==============================] - 1s 18us/step - loss: 0.4416 - accuracy: 0.8085 - val_loss: 0.4679 - val_accuracy: 0.7914\n",
      "Epoch 67/150\n",
      "47722/47722 [==============================] - 1s 17us/step - loss: 0.4417 - accuracy: 0.8085 - val_loss: 0.4683 - val_accuracy: 0.7911\n",
      "Epoch 68/150\n",
      "47722/47722 [==============================] - 1s 18us/step - loss: 0.4416 - accuracy: 0.8086 - val_loss: 0.4666 - val_accuracy: 0.7901\n",
      "Epoch 69/150\n",
      "47722/47722 [==============================] - 1s 18us/step - loss: 0.4415 - accuracy: 0.8086 - val_loss: 0.4724 - val_accuracy: 0.7898\n",
      "Epoch 70/150\n",
      "47722/47722 [==============================] - 1s 18us/step - loss: 0.4418 - accuracy: 0.8086 - val_loss: 0.4674 - val_accuracy: 0.7908\n",
      "Epoch 71/150\n",
      "47722/47722 [==============================] - 1s 17us/step - loss: 0.4417 - accuracy: 0.8080 - val_loss: 0.4671 - val_accuracy: 0.7906\n",
      "Epoch 72/150\n",
      "47722/47722 [==============================] - 1s 17us/step - loss: 0.4416 - accuracy: 0.8086 - val_loss: 0.4703 - val_accuracy: 0.7907\n",
      "Epoch 73/150\n",
      "47722/47722 [==============================] - 1s 18us/step - loss: 0.4416 - accuracy: 0.8082 - val_loss: 0.4679 - val_accuracy: 0.7910\n",
      "Epoch 74/150\n",
      "47722/47722 [==============================] - 1s 18us/step - loss: 0.4417 - accuracy: 0.8086 - val_loss: 0.4686 - val_accuracy: 0.7913\n",
      "Epoch 75/150\n",
      "47722/47722 [==============================] - 1s 17us/step - loss: 0.4417 - accuracy: 0.8087 - val_loss: 0.4666 - val_accuracy: 0.7906\n",
      "Epoch 76/150\n",
      "47722/47722 [==============================] - 1s 18us/step - loss: 0.4415 - accuracy: 0.8088 - val_loss: 0.4694 - val_accuracy: 0.7911\n",
      "Epoch 77/150\n",
      "47722/47722 [==============================] - 1s 18us/step - loss: 0.4417 - accuracy: 0.8087 - val_loss: 0.4668 - val_accuracy: 0.7908\n",
      "Epoch 78/150\n",
      "47722/47722 [==============================] - 1s 17us/step - loss: 0.4416 - accuracy: 0.8082 - val_loss: 0.4667 - val_accuracy: 0.7908\n",
      "Epoch 79/150\n",
      "47722/47722 [==============================] - 1s 17us/step - loss: 0.4416 - accuracy: 0.8085 - val_loss: 0.4669 - val_accuracy: 0.7909\n",
      "Epoch 80/150\n",
      "47722/47722 [==============================] - 1s 18us/step - loss: 0.4415 - accuracy: 0.8082 - val_loss: 0.4681 - val_accuracy: 0.7916\n",
      "Epoch 81/150\n",
      "47722/47722 [==============================] - 1s 18us/step - loss: 0.4416 - accuracy: 0.8076 - val_loss: 0.4671 - val_accuracy: 0.7907\n",
      "Epoch 82/150\n",
      "47722/47722 [==============================] - 1s 18us/step - loss: 0.4415 - accuracy: 0.8086 - val_loss: 0.4688 - val_accuracy: 0.7913\n",
      "Epoch 83/150\n",
      "47722/47722 [==============================] - 1s 18us/step - loss: 0.4415 - accuracy: 0.8084 - val_loss: 0.4672 - val_accuracy: 0.7907\n",
      "Epoch 84/150\n",
      "47722/47722 [==============================] - 1s 18us/step - loss: 0.4417 - accuracy: 0.8086 - val_loss: 0.4665 - val_accuracy: 0.7903\n",
      "Epoch 85/150\n",
      "47722/47722 [==============================] - 1s 17us/step - loss: 0.4416 - accuracy: 0.8084 - val_loss: 0.4673 - val_accuracy: 0.7912\n",
      "Epoch 86/150\n",
      "47722/47722 [==============================] - 1s 19us/step - loss: 0.4415 - accuracy: 0.8085 - val_loss: 0.4674 - val_accuracy: 0.7909\n",
      "Epoch 87/150\n",
      "47722/47722 [==============================] - 1s 18us/step - loss: 0.4415 - accuracy: 0.8086 - val_loss: 0.4665 - val_accuracy: 0.7913\n",
      "Epoch 88/150\n",
      "47722/47722 [==============================] - 1s 18us/step - loss: 0.4415 - accuracy: 0.8085 - val_loss: 0.4673 - val_accuracy: 0.7908\n",
      "Epoch 89/150\n",
      "47722/47722 [==============================] - 1s 18us/step - loss: 0.4416 - accuracy: 0.8083 - val_loss: 0.4675 - val_accuracy: 0.7915\n",
      "Epoch 90/150\n",
      "47722/47722 [==============================] - 1s 18us/step - loss: 0.4414 - accuracy: 0.8086 - val_loss: 0.4667 - val_accuracy: 0.7915\n",
      "Epoch 91/150\n",
      "47722/47722 [==============================] - 1s 18us/step - loss: 0.4416 - accuracy: 0.8083 - val_loss: 0.4683 - val_accuracy: 0.7907\n",
      "Epoch 92/150\n",
      "47722/47722 [==============================] - 1s 18us/step - loss: 0.4417 - accuracy: 0.8085 - val_loss: 0.4686 - val_accuracy: 0.7912\n",
      "Epoch 93/150\n",
      "47722/47722 [==============================] - 1s 18us/step - loss: 0.4415 - accuracy: 0.8080 - val_loss: 0.4711 - val_accuracy: 0.7906\n",
      "Epoch 94/150\n",
      "47722/47722 [==============================] - 1s 18us/step - loss: 0.4415 - accuracy: 0.8082 - val_loss: 0.4665 - val_accuracy: 0.7901\n",
      "Epoch 95/150\n",
      "47722/47722 [==============================] - 1s 18us/step - loss: 0.4415 - accuracy: 0.8084 - val_loss: 0.4692 - val_accuracy: 0.7908\n",
      "Epoch 96/150\n",
      "47722/47722 [==============================] - 1s 18us/step - loss: 0.4414 - accuracy: 0.8081 - val_loss: 0.4672 - val_accuracy: 0.7905\n",
      "Epoch 97/150\n",
      "47722/47722 [==============================] - 1s 18us/step - loss: 0.4417 - accuracy: 0.8083 - val_loss: 0.4667 - val_accuracy: 0.7908\n",
      "Epoch 98/150\n",
      "47722/47722 [==============================] - 1s 19us/step - loss: 0.4416 - accuracy: 0.8088 - val_loss: 0.4673 - val_accuracy: 0.7907\n",
      "Epoch 99/150\n",
      "47722/47722 [==============================] - 1s 18us/step - loss: 0.4415 - accuracy: 0.8083 - val_loss: 0.4666 - val_accuracy: 0.7902\n",
      "Epoch 100/150\n",
      "47722/47722 [==============================] - 1s 17us/step - loss: 0.4414 - accuracy: 0.8092 - val_loss: 0.4686 - val_accuracy: 0.7917\n",
      "Epoch 101/150\n",
      "47722/47722 [==============================] - 1s 18us/step - loss: 0.4416 - accuracy: 0.8086 - val_loss: 0.4696 - val_accuracy: 0.7910\n",
      "Epoch 102/150\n",
      "47722/47722 [==============================] - 1s 18us/step - loss: 0.4417 - accuracy: 0.8081 - val_loss: 0.4677 - val_accuracy: 0.7913\n",
      "Epoch 103/150\n",
      "47722/47722 [==============================] - 1s 18us/step - loss: 0.4417 - accuracy: 0.8084 - val_loss: 0.4685 - val_accuracy: 0.7913\n",
      "Epoch 104/150\n",
      "47722/47722 [==============================] - 1s 18us/step - loss: 0.4415 - accuracy: 0.8084 - val_loss: 0.4693 - val_accuracy: 0.7909\n",
      "Epoch 105/150\n",
      "47722/47722 [==============================] - 1s 18us/step - loss: 0.4416 - accuracy: 0.8087 - val_loss: 0.4714 - val_accuracy: 0.7907\n",
      "Epoch 106/150\n",
      "47722/47722 [==============================] - 1s 18us/step - loss: 0.4415 - accuracy: 0.8086 - val_loss: 0.4674 - val_accuracy: 0.7910\n",
      "Epoch 107/150\n",
      "47722/47722 [==============================] - 1s 18us/step - loss: 0.4415 - accuracy: 0.8083 - val_loss: 0.4667 - val_accuracy: 0.7900\n",
      "Epoch 108/150\n",
      "47722/47722 [==============================] - 1s 18us/step - loss: 0.4416 - accuracy: 0.8088 - val_loss: 0.4666 - val_accuracy: 0.7900\n",
      "Epoch 109/150\n",
      "47722/47722 [==============================] - 1s 18us/step - loss: 0.4415 - accuracy: 0.8086 - val_loss: 0.4666 - val_accuracy: 0.7905\n",
      "Epoch 110/150\n",
      "47722/47722 [==============================] - 1s 18us/step - loss: 0.4416 - accuracy: 0.8085 - val_loss: 0.4676 - val_accuracy: 0.7911\n"
     ]
    },
    {
     "name": "stdout",
     "output_type": "stream",
     "text": [
      "Epoch 111/150\n",
      "47722/47722 [==============================] - 1s 17us/step - loss: 0.4415 - accuracy: 0.8085 - val_loss: 0.4678 - val_accuracy: 0.7907\n",
      "Epoch 112/150\n",
      "47722/47722 [==============================] - 1s 18us/step - loss: 0.4416 - accuracy: 0.8086 - val_loss: 0.4671 - val_accuracy: 0.7905\n",
      "Epoch 113/150\n",
      "47722/47722 [==============================] - 1s 18us/step - loss: 0.4415 - accuracy: 0.8083 - val_loss: 0.4685 - val_accuracy: 0.7909\n",
      "Epoch 114/150\n",
      "47722/47722 [==============================] - 1s 18us/step - loss: 0.4415 - accuracy: 0.8083 - val_loss: 0.4666 - val_accuracy: 0.7903\n",
      "Epoch 115/150\n",
      "47722/47722 [==============================] - 1s 18us/step - loss: 0.4415 - accuracy: 0.8082 - val_loss: 0.4666 - val_accuracy: 0.7903\n",
      "Epoch 116/150\n",
      "47722/47722 [==============================] - 1s 18us/step - loss: 0.4415 - accuracy: 0.8081 - val_loss: 0.4703 - val_accuracy: 0.7906\n",
      "Epoch 117/150\n",
      "47722/47722 [==============================] - 1s 18us/step - loss: 0.4415 - accuracy: 0.8079 - val_loss: 0.4665 - val_accuracy: 0.7903\n",
      "Epoch 118/150\n",
      "47722/47722 [==============================] - 1s 17us/step - loss: 0.4415 - accuracy: 0.8092 - val_loss: 0.4668 - val_accuracy: 0.7914\n",
      "Epoch 119/150\n",
      "47722/47722 [==============================] - 1s 18us/step - loss: 0.4418 - accuracy: 0.8080 - val_loss: 0.4673 - val_accuracy: 0.7906\n",
      "Epoch 120/150\n",
      "47722/47722 [==============================] - 1s 17us/step - loss: 0.4416 - accuracy: 0.8085 - val_loss: 0.4701 - val_accuracy: 0.7910\n",
      "Epoch 121/150\n",
      "47722/47722 [==============================] - 1s 18us/step - loss: 0.4415 - accuracy: 0.8082 - val_loss: 0.4666 - val_accuracy: 0.7902\n",
      "Epoch 122/150\n",
      "47722/47722 [==============================] - 1s 18us/step - loss: 0.4415 - accuracy: 0.8085 - val_loss: 0.4670 - val_accuracy: 0.7907\n",
      "Epoch 123/150\n",
      "47722/47722 [==============================] - 1s 18us/step - loss: 0.4416 - accuracy: 0.8084 - val_loss: 0.4666 - val_accuracy: 0.7904\n",
      "Epoch 124/150\n",
      "47722/47722 [==============================] - 1s 18us/step - loss: 0.4415 - accuracy: 0.8087 - val_loss: 0.4706 - val_accuracy: 0.7908\n",
      "Epoch 125/150\n",
      "47722/47722 [==============================] - 1s 18us/step - loss: 0.4416 - accuracy: 0.8086 - val_loss: 0.4686 - val_accuracy: 0.7912\n",
      "Epoch 126/150\n",
      "47722/47722 [==============================] - 1s 18us/step - loss: 0.4416 - accuracy: 0.8085 - val_loss: 0.4686 - val_accuracy: 0.7914\n",
      "Epoch 127/150\n",
      "47722/47722 [==============================] - 1s 18us/step - loss: 0.4416 - accuracy: 0.8081 - val_loss: 0.4666 - val_accuracy: 0.7903\n",
      "Epoch 128/150\n",
      "47722/47722 [==============================] - 1s 18us/step - loss: 0.4414 - accuracy: 0.8084 - val_loss: 0.4675 - val_accuracy: 0.7909\n",
      "Epoch 129/150\n",
      "47722/47722 [==============================] - 1s 18us/step - loss: 0.4415 - accuracy: 0.8081 - val_loss: 0.4670 - val_accuracy: 0.7913\n",
      "Epoch 130/150\n",
      "47722/47722 [==============================] - 1s 20us/step - loss: 0.4416 - accuracy: 0.8083 - val_loss: 0.4676 - val_accuracy: 0.7910\n",
      "Epoch 131/150\n",
      "47722/47722 [==============================] - 1s 18us/step - loss: 0.4416 - accuracy: 0.8083 - val_loss: 0.4666 - val_accuracy: 0.7903\n",
      "Epoch 132/150\n",
      "47722/47722 [==============================] - 1s 19us/step - loss: 0.4416 - accuracy: 0.8089 - val_loss: 0.4666 - val_accuracy: 0.7908\n",
      "Epoch 133/150\n",
      "47722/47722 [==============================] - 1s 18us/step - loss: 0.4415 - accuracy: 0.8086 - val_loss: 0.4674 - val_accuracy: 0.7910\n",
      "Epoch 134/150\n",
      "47722/47722 [==============================] - 1s 18us/step - loss: 0.4415 - accuracy: 0.8088 - val_loss: 0.4681 - val_accuracy: 0.7912\n",
      "Epoch 135/150\n",
      "47722/47722 [==============================] - 1s 19us/step - loss: 0.4415 - accuracy: 0.8085 - val_loss: 0.4683 - val_accuracy: 0.7913\n",
      "Epoch 136/150\n",
      "47722/47722 [==============================] - 1s 19us/step - loss: 0.4416 - accuracy: 0.8085 - val_loss: 0.4667 - val_accuracy: 0.7905\n",
      "Epoch 137/150\n",
      "47722/47722 [==============================] - 1s 20us/step - loss: 0.4415 - accuracy: 0.8086 - val_loss: 0.4688 - val_accuracy: 0.7917\n",
      "Epoch 138/150\n",
      "47722/47722 [==============================] - 1s 18us/step - loss: 0.4416 - accuracy: 0.8080 - val_loss: 0.4666 - val_accuracy: 0.7905\n",
      "Epoch 139/150\n",
      "47722/47722 [==============================] - 1s 18us/step - loss: 0.4414 - accuracy: 0.8091 - val_loss: 0.4679 - val_accuracy: 0.7913\n",
      "Epoch 140/150\n",
      "47722/47722 [==============================] - 1s 18us/step - loss: 0.4415 - accuracy: 0.8086 - val_loss: 0.4668 - val_accuracy: 0.7905\n",
      "Epoch 141/150\n",
      "47722/47722 [==============================] - 1s 18us/step - loss: 0.4417 - accuracy: 0.8087 - val_loss: 0.4678 - val_accuracy: 0.7913\n",
      "Epoch 142/150\n",
      "47722/47722 [==============================] - 1s 18us/step - loss: 0.4416 - accuracy: 0.8081 - val_loss: 0.4675 - val_accuracy: 0.7914\n",
      "Epoch 143/150\n",
      "47722/47722 [==============================] - 1s 18us/step - loss: 0.4416 - accuracy: 0.8089 - val_loss: 0.4669 - val_accuracy: 0.7907\n",
      "Epoch 144/150\n",
      "47722/47722 [==============================] - 1s 18us/step - loss: 0.4417 - accuracy: 0.8089 - val_loss: 0.4678 - val_accuracy: 0.7911\n",
      "Epoch 145/150\n",
      "47722/47722 [==============================] - 1s 18us/step - loss: 0.4415 - accuracy: 0.8083 - val_loss: 0.4678 - val_accuracy: 0.7912\n",
      "Epoch 146/150\n",
      "47722/47722 [==============================] - 1s 18us/step - loss: 0.4415 - accuracy: 0.8085 - val_loss: 0.4670 - val_accuracy: 0.7915\n",
      "Epoch 147/150\n",
      "47722/47722 [==============================] - 1s 18us/step - loss: 0.4417 - accuracy: 0.8083 - val_loss: 0.4669 - val_accuracy: 0.7905\n",
      "Epoch 148/150\n",
      "47722/47722 [==============================] - 1s 18us/step - loss: 0.4415 - accuracy: 0.8087 - val_loss: 0.4706 - val_accuracy: 0.7912\n",
      "Epoch 149/150\n",
      "47722/47722 [==============================] - 1s 18us/step - loss: 0.4415 - accuracy: 0.8085 - val_loss: 0.4669 - val_accuracy: 0.7908\n",
      "Epoch 150/150\n",
      "47722/47722 [==============================] - 1s 18us/step - loss: 0.4414 - accuracy: 0.8081 - val_loss: 0.4666 - val_accuracy: 0.7912\n"
     ]
    }
   ],
   "source": [
    "opt = optimizers.Adam(learning_rate=0.001, beta_1=0.9, beta_2=0.999, amsgrad=False)\n",
    "network.compile(optimizer='rmsprop',\n",
    "                loss='binary_crossentropy',\n",
    "                metrics=['accuracy'])\n",
    "\n",
    "epochs = 150\n",
    "history = network.fit(nn_train_x, \n",
    "                      train_y, \n",
    "                      epochs=epochs, \n",
    "                      batch_size=128, \n",
    "                      validation_data=(nn_test_x, test_y))"
   ]
  },
  {
   "cell_type": "code",
   "execution_count": 86,
   "metadata": {},
   "outputs": [
    {
     "data": {
      "image/png": "[encoded data removed]",
      "text/plain": [
       "<Figure size 432x288 with 1 Axes>"
      ]
     },
     "metadata": {
      "needs_background": "light"
     },
     "output_type": "display_data"
    }
   ],
   "source": [
    "history_dict = history.history\n",
    "loss_values = history_dict['loss']\n",
    "test_loss_values = history_dict['val_loss']\n",
    "epochs_range = range(1, epochs + 1)\n",
    "plt.plot(epochs_range, loss_values, 'bo', label='Training loss')\n",
    "plt.plot(epochs_range, test_loss_values, 'ro', label='Test loss')\n",
    "plt.title('Training and test loss')\n",
    "plt.xlabel('Epochs')\n",
    "plt.ylabel('Loss')\n",
    "plt.legend()\n",
    "plt.show()"
   ]
  },
  {
   "cell_type": "code",
   "execution_count": 87,
   "metadata": {},
   "outputs": [
    {
     "data": {
      "image/png": "[encoded data removed]",
      "text/plain": [
       "<Figure size 432x288 with 1 Axes>"
      ]
     },
     "metadata": {
      "needs_background": "light"
     },
     "output_type": "display_data"
    }
   ],
   "source": [
    "acc_values = history_dict['accuracy']\n",
    "test_acc_values = history_dict['val_accuracy']\n",
    "plt.plot(epochs_range, acc_values, 'bo', label='Training accuracy')\n",
    "plt.plot(epochs_range, test_acc_values, 'ro', label='Test accuracy')\n",
    "plt.title('Training and test accuracy')\n",
    "plt.xlabel('Epochs')\n",
    "plt.ylabel('Accuracy')\n",
    "plt.legend()\n",
    "plt.show()"
   ]
  },
  {
   "cell_type": "code",
   "execution_count": 88,
   "metadata": {},
   "outputs": [
    {
     "name": "stdout",
     "output_type": "stream",
     "text": [
      "Correct: 12528 0.7911588253868014\n",
      "Pos: 14663 0.9259867382380802\n",
      "True Positive: 11809 0.7457530786233028\n",
      "True Negative: 719 0.04540574676349858\n",
      "False Positive: 2854 0.1802336596147774\n",
      "False Negative: 453 0.028607514998421218\n",
      "Positive Precision: 0.8053604310168451\n",
      "Positive Recall: 0.9630565976186592\n",
      "Positive F1 Score: 0.8771773444753946\n",
      "Negative Precision: 0.613481228668942\n",
      "Negative Recall: 0.2012314581584103\n",
      "Negative F1 Score: 0.3030558482613277\n"
     ]
    }
   ],
   "source": [
    "correct = 0\n",
    "pos_count = 0\n",
    "matrix = [0, 0, 0, 0]\n",
    "preds = network.predict(nn_test_x)\n",
    "for i in range(len(test_y)):\n",
    "    if (preds[i] > 0.5):\n",
    "        pos_count += 1\n",
    "    if (preds[i] > 0.5 and test_y.iloc[i] > 0.5):\n",
    "        correct += 1\n",
    "        matrix[0] += 1\n",
    "    elif (preds[i] <= 0.5 and test_y.iloc[i] <= 0.5):\n",
    "        correct += 1\n",
    "        matrix[1] += 1\n",
    "    elif (preds[i] > 0.5 and test_y.iloc[i] <= 0.5):\n",
    "        matrix[2] += 1\n",
    "    elif (preds[i] <= 0.5 and test_y.iloc[i] > 0.5):\n",
    "        matrix[3] += 1\n",
    "\n",
    "pos_f1 = 2 * ((matrix[0] / pos_count) * (matrix[0] / len(test_df[test_df.positive == 1]))) / ((matrix[0] / pos_count) + (matrix[0] / len(test_df[test_df.positive == 1])))\n",
    "neg_f1 = 2 * ((matrix[1] / (matrix[1] + matrix[3])) * (matrix[1] / (len(test_df[test_df.positive == 0])))) / ((matrix[1] / (matrix[1] + matrix[3])) + (matrix[1] / (len(test_df[test_df.positive == 0]))))\n",
    "print('Correct:', correct, correct / len(test_df))\n",
    "print('Pos:', pos_count, pos_count / len(test_df))\n",
    "print('True Positive:', matrix[0], matrix[0] / len(test_df))\n",
    "print('True Negative:', matrix[1], matrix[1] / len(test_df))\n",
    "print('False Positive:', matrix[2], matrix[2] / len(test_df))\n",
    "print('False Negative:', matrix[3], matrix[3] / len(test_df))\n",
    "print('Positive Precision:', matrix[0] / pos_count)\n",
    "print('Positive Recall:', matrix[0] / len(test_df[test_df.positive == 1]))\n",
    "print('Positive F1 Score:', pos_f1)\n",
    "print('Negative Precision:', matrix[1] / (matrix[1] + matrix[3]))\n",
    "print('Negative Recall:', matrix[1] / (len(test_df[test_df.positive == 0])))\n",
    "print('Negative F1 Score:', neg_f1)"
   ]
  },
  {
   "cell_type": "code",
   "execution_count": 89,
   "metadata": {},
   "outputs": [],
   "source": [
    "#network.save('basic_neural_net8.h5')"
   ]
  },
  {
   "cell_type": "code",
   "execution_count": null,
   "metadata": {},
   "outputs": [],
   "source": []
  }
 ],
 "metadata": {
  "kernelspec": {
   "display_name": "Python 3",
   "language": "python",
   "name": "python3"
  },
  "language_info": {
   "codemirror_mode": {
    "name": "ipython",
    "version": 3
   },
   "file_extension": ".py",
   "mimetype": "text/x-python",
   "name": "python",
   "nbconvert_exporter": "python",
   "pygments_lexer": "ipython3",
   "version": "3.7.6"
  }
 },
 "nbformat": 4,
 "nbformat_minor": 2
}
